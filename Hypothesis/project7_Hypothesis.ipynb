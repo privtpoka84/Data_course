{
 "cells": [
  {
   "cell_type": "markdown",
   "metadata": {},
   "source": [
    "# Проверка гипотез для маркетинга\n",
    "\n",
    "\n",
    "## Описание проекта\n",
    "\n",
    "Вы — аналитик крупного интернет-магазина. Вместе с отделом маркетинга вы подготовили список гипотез для увеличения выручки.\n",
    "Приоритизируйте гипотезы, запустите A/B-тест и проанализируйте результаты.\n",
    "\n",
    "**Часть 1. Приоритизация гипотез.**\n",
    "\n",
    "В файле /datasets/hypothesis.csv 9 гипотез по увеличению выручки интернет-магазина с указанными параметрами Reach, Impact, Confidence, Effort.\n",
    "\n",
    "**Задача**\n",
    "- Примените фреймворк ICE для приоритизации гипотез. Отсортируйте их по убыванию приоритета.\n",
    "- Примените фреймворк RICE для приоритизации гипотез. Отсортируйте их по убыванию приоритета.\n",
    "- Укажите, как изменилась приоритизация гипотез при применении RICE вместо ICE. Объясните, почему так произошло.\n",
    "\n",
    "**Часть 2. Анализ A/B-теста**\n",
    "Вы провели A/B-тест и получили результаты, которые описаны в файлах /datasets/orders.csv и /datasets/visitors.csv.\n",
    "\n",
    "**Задача**\n",
    "Проанализируйте A/B-тест:\n",
    "- Постройте график кумулятивной выручки по группам. Сделайте выводы и предположения.\n",
    "- Постройте график кумулятивного среднего чека по группам. Сделайте выводы и предположения.\n",
    "- Постройте график относительного изменения кумулятивного среднего чека группы B к группе A. Сделайте выводы и предположения.\n",
    "- Постройте график кумулятивной конверсии по группам. Сделайте выводы и предположения.\n",
    "- Постройте график относительного изменения кумулятивной конверсии группы B к группе A. Сделайте выводы и предположения.\n",
    "- Постройте точечный график количества заказов по пользователям. Сделайте выводы и предположения.\n",
    "- Посчитайте 95-й и 99-й перцентили количества заказов на пользователя. Выберите границу для определения аномальных пользователей.\n",
    "- Постройте точечный график стоимостей заказов. Сделайте выводы и предположения.\n",
    "- Посчитайте 95-й и 99-й перцентили стоимости заказов. Выберите границу для определения аномальных заказов.\n",
    "- Посчитайте статистическую значимость различий в конверсии между группами по «сырым» данным. Сделайте выводы и предположения.\n",
    "- Посчитайте статистическую значимость различий в среднем чеке заказа между группами по «сырым» данным. Сделайте выводы и предположения.\n",
    "- Посчитайте статистическую значимость различий в конверсии между группами по «очищенным» данным. Сделайте выводы и предположения.\n",
    "- Посчитайте статистическую значимость различий в среднем чеке заказа между группами по «очищенным» данным. Сделайте выводы и предположения.\n",
    "- Примите решение по результатам теста и объясните его. Варианты решений: 1. Остановить тест, зафиксировать победу одной из групп. 2. Остановить тест, зафиксировать отсутствие различий между группами. 3. Продолжить тест.\n",
    "\n",
    "### Описание данных\n",
    "\n",
    "#### Данные для первой части\n",
    "\n",
    "Файл /datasets/hypothesis.csv. Скачать датасет\n",
    "- Hypothesis — краткое описание гипотезы;\n",
    "- Reach — охват пользователей по 10-балльной шкале;\n",
    "- Impact — влияние на пользователей по 10-балльной шкале;\n",
    "- Confidence — уверенность в гипотезе по 10-балльной шкале;\n",
    "- Efforts — затраты ресурсов на проверку гипотезы по 10-балльной шкале. Чем больше значение Efforts, тем дороже проверка гипотезы.\n",
    "\n",
    "#### Данные для второй части\n",
    "\n",
    "Файл **orders.csv**\n",
    "- transactionId — идентификатор заказа;\n",
    "- visitorId — идентификатор пользователя, совершившего заказ;\n",
    "- date — дата, когда был совершён заказ;\n",
    "- revenue — выручка заказа;\n",
    "- group — группа A/B-теста, в которую попал заказ.\n",
    "\n",
    "Файл **visitors.csv**\n",
    "- date — дата;\n",
    "- group — группа A/B-теста;\n",
    "- visitors — количество пользователей в указанную дату в указанной группе A/B-теста\n"
   ]
  },
  {
   "cell_type": "markdown",
   "metadata": {},
   "source": [
    "\n",
    "---\n",
    "\n",
    "<div class=\"alert alert-block alert-success\">\n",
    "    \n",
    "\n",
    "### Комментарий ревьюера\n",
    "\n",
    "Великолепное начало. Контекст задачи понятен, сверх подробная декомпозиция есть, молодец.\n",
    "</div>\n",
    "\n",
    "---"
   ]
  },
  {
   "cell_type": "markdown",
   "metadata": {},
   "source": [
    "<div style=\"border:solid green 2px; padding: 20px\"> <h1 style=\"color:green; margin-bottom:20px\">Комментарий от ученика</h1>\n",
    "    \n",
    "Спасибо за оценку и разбор моей работы! И отдельное спасибо за полезные ссылки. Ниже постаралась учесть все комментарии, чтобы работа стала лучше."
   ]
  },
  {
   "cell_type": "markdown",
   "metadata": {},
   "source": [
    "<div class=\"alert alert-block alert-warning\">\n",
    "Оглавление:\n",
    "    \n",
    "1. [Часть 1. Приоритизация гипотез](#step1)\n",
    "2. [Часть 2. Анализ A/B-теста](#step2)\n",
    "    - [Предобработка данных](#step2.1)\n",
    "    - [Кумулятивные метрики и графики](#step2.2)\n",
    "    - [Поиск аномалий](#step2.3)\n",
    "    - [Статистическая значимость](#step2.4)\n",
    "        - [Грязые данные](#step2.4.1)\n",
    "        - [Чистые данные](#step2.4.2)\n",
    "    - [Общий вывод](#step2.5)\n",
    "</div>"
   ]
  },
  {
   "cell_type": "markdown",
   "metadata": {},
   "source": [
    "<div class=\"alert alert-block alert-warning\">\n",
    "    \n",
    "\n",
    "### Комментарий от ревьюера\n",
    "Также можно использовать интерактивное оглавление    \n",
    "\n",
    "Само оглавление делаешь по такому типу:  \n",
    "1. [Часть 1. Приоритизация гипотез](#step1)  \n",
    "2. [Шаг 2](#step2)  \n",
    "\n",
    "А в заголовках оставляешь метки вот так:  \n",
    "### Часть 1. Приоритизация гипотез <a id=\"step1\"></a>   \n",
    "</div>"
   ]
  },
  {
   "cell_type": "markdown",
   "metadata": {},
   "source": [
    "---\n",
    "\n",
    "<div class=\"alert alert-block alert-success\">\n",
    "    \n",
    "\n",
    "### Комментарий ревьюера v2\n",
    "\n",
    "Интерактивное оглавление реализовано великолепно, молодец. Если хочешь, используй такой подход к оформлению в следующих проектах тоже :)\n",
    "</div>\n",
    "\n",
    "---"
   ]
  },
  {
   "cell_type": "markdown",
   "metadata": {},
   "source": [
    "## Часть 1. Приоритизация гипотез <a id=\"step1\"></a>"
   ]
  },
  {
   "cell_type": "code",
   "execution_count": 1,
   "metadata": {},
   "outputs": [],
   "source": [
    "import pandas as pd\n",
    "import numpy as np\n",
    "from pymystem3 import Mystem\n",
    "m = Mystem()\n",
    "import matplotlib.pyplot as plt\n",
    "from scipy import stats as st\n",
    "import datetime as dt\n",
    "#Практикум\n",
    "#hyp = pd.read_csv('/datasets/hypothesis.csv')\n",
    "#orders = pd.read_csv('/datasets/orders.csv')\n",
    "#visitors = pd.read_csv('/datasets/visitors.csv')\n",
    "#Локалка\n",
    "hyp = pd.read_csv('C://Users/Ритер/Desktop/GitHub/Data_course/Hypothesis/hypothesis.csv')\n",
    "orders = pd.read_csv('C://Users/Ритер/Desktop/GitHub/Data_course/Hypothesis/orders.csv')\n",
    "visitors = pd.read_csv('C://Users/Ритер/Desktop/GitHub/Data_course/Hypothesis/visitors.csv')"
   ]
  },
  {
   "cell_type": "markdown",
   "metadata": {},
   "source": [
    "У нас есть список гипотез, которые были выделены и проранжированы по метрикам Reach, Impact, Confidence, Efforts. Рассчитаем ICE и RICE, чтобы понять какие гипотезы будем проверять"
   ]
  },
  {
   "cell_type": "code",
   "execution_count": 2,
   "metadata": {},
   "outputs": [],
   "source": [
    "pd.set_option('max_colwidth', 120)"
   ]
  },
  {
   "cell_type": "code",
   "execution_count": 3,
   "metadata": {},
   "outputs": [
    {
     "data": {
      "text/html": [
       "<div>\n",
       "<style scoped>\n",
       "    .dataframe tbody tr th:only-of-type {\n",
       "        vertical-align: middle;\n",
       "    }\n",
       "\n",
       "    .dataframe tbody tr th {\n",
       "        vertical-align: top;\n",
       "    }\n",
       "\n",
       "    .dataframe thead th {\n",
       "        text-align: right;\n",
       "    }\n",
       "</style>\n",
       "<table border=\"1\" class=\"dataframe\">\n",
       "  <thead>\n",
       "    <tr style=\"text-align: right;\">\n",
       "      <th></th>\n",
       "      <th>Hypothesis</th>\n",
       "      <th>Reach</th>\n",
       "      <th>Impact</th>\n",
       "      <th>Confidence</th>\n",
       "      <th>Efforts</th>\n",
       "    </tr>\n",
       "  </thead>\n",
       "  <tbody>\n",
       "    <tr>\n",
       "      <th>0</th>\n",
       "      <td>Добавить два новых канала привлечения трафика, что позволит привлекать на 30% больше пользователей</td>\n",
       "      <td>3</td>\n",
       "      <td>10</td>\n",
       "      <td>8</td>\n",
       "      <td>6</td>\n",
       "    </tr>\n",
       "    <tr>\n",
       "      <th>1</th>\n",
       "      <td>Запустить собственную службу доставки, что сократит срок доставки заказов</td>\n",
       "      <td>2</td>\n",
       "      <td>5</td>\n",
       "      <td>4</td>\n",
       "      <td>10</td>\n",
       "    </tr>\n",
       "    <tr>\n",
       "      <th>2</th>\n",
       "      <td>Добавить блоки рекомендаций товаров на сайт интернет магазина, чтобы повысить конверсию и средний чек заказа</td>\n",
       "      <td>8</td>\n",
       "      <td>3</td>\n",
       "      <td>7</td>\n",
       "      <td>3</td>\n",
       "    </tr>\n",
       "    <tr>\n",
       "      <th>3</th>\n",
       "      <td>Изменить структура категорий, что увеличит конверсию, т.к. пользователи быстрее найдут нужный товар</td>\n",
       "      <td>8</td>\n",
       "      <td>3</td>\n",
       "      <td>3</td>\n",
       "      <td>8</td>\n",
       "    </tr>\n",
       "    <tr>\n",
       "      <th>4</th>\n",
       "      <td>Изменить цвет фона главной страницы, чтобы увеличить вовлеченность пользователей</td>\n",
       "      <td>3</td>\n",
       "      <td>1</td>\n",
       "      <td>1</td>\n",
       "      <td>1</td>\n",
       "    </tr>\n",
       "    <tr>\n",
       "      <th>5</th>\n",
       "      <td>Добавить страницу отзывов клиентов о магазине, что позволит увеличить количество заказов</td>\n",
       "      <td>3</td>\n",
       "      <td>2</td>\n",
       "      <td>2</td>\n",
       "      <td>3</td>\n",
       "    </tr>\n",
       "    <tr>\n",
       "      <th>6</th>\n",
       "      <td>Показать на главной странице баннеры с актуальными акциями и распродажами, чтобы увеличить конверсию</td>\n",
       "      <td>5</td>\n",
       "      <td>3</td>\n",
       "      <td>8</td>\n",
       "      <td>3</td>\n",
       "    </tr>\n",
       "    <tr>\n",
       "      <th>7</th>\n",
       "      <td>Добавить форму подписки на все основные страницы, чтобы собрать базу клиентов для email-рассылок</td>\n",
       "      <td>10</td>\n",
       "      <td>7</td>\n",
       "      <td>8</td>\n",
       "      <td>5</td>\n",
       "    </tr>\n",
       "    <tr>\n",
       "      <th>8</th>\n",
       "      <td>Запустить акцию, дающую скидку на товар в день рождения</td>\n",
       "      <td>1</td>\n",
       "      <td>9</td>\n",
       "      <td>9</td>\n",
       "      <td>5</td>\n",
       "    </tr>\n",
       "  </tbody>\n",
       "</table>\n",
       "</div>"
      ],
      "text/plain": [
       "                                                                                                     Hypothesis  \\\n",
       "0            Добавить два новых канала привлечения трафика, что позволит привлекать на 30% больше пользователей   \n",
       "1                                     Запустить собственную службу доставки, что сократит срок доставки заказов   \n",
       "2  Добавить блоки рекомендаций товаров на сайт интернет магазина, чтобы повысить конверсию и средний чек заказа   \n",
       "3           Изменить структура категорий, что увеличит конверсию, т.к. пользователи быстрее найдут нужный товар   \n",
       "4                              Изменить цвет фона главной страницы, чтобы увеличить вовлеченность пользователей   \n",
       "5                      Добавить страницу отзывов клиентов о магазине, что позволит увеличить количество заказов   \n",
       "6          Показать на главной странице баннеры с актуальными акциями и распродажами, чтобы увеличить конверсию   \n",
       "7              Добавить форму подписки на все основные страницы, чтобы собрать базу клиентов для email-рассылок   \n",
       "8                                                       Запустить акцию, дающую скидку на товар в день рождения   \n",
       "\n",
       "   Reach  Impact  Confidence  Efforts  \n",
       "0      3      10           8        6  \n",
       "1      2       5           4       10  \n",
       "2      8       3           7        3  \n",
       "3      8       3           3        8  \n",
       "4      3       1           1        1  \n",
       "5      3       2           2        3  \n",
       "6      5       3           8        3  \n",
       "7     10       7           8        5  \n",
       "8      1       9           9        5  "
      ]
     },
     "execution_count": 3,
     "metadata": {},
     "output_type": "execute_result"
    }
   ],
   "source": [
    "hyp"
   ]
  },
  {
   "cell_type": "markdown",
   "metadata": {},
   "source": [
    "---\n",
    "\n",
    "<div class=\"alert alert-block alert-warning\">\n",
    "    \n",
    "\n",
    "### Комментарий ревьюера\n",
    "\n",
    "\n",
    "Посмотри, пожалуйста, в документации `pandas` какой метод отвечает за ширину отображения ячеек датафрейма. `hypothesis` видны не полностью.\n",
    "</div>\n",
    "\n",
    "---"
   ]
  },
  {
   "cell_type": "markdown",
   "metadata": {},
   "source": [
    "---\n",
    "\n",
    "<div class=\"alert alert-block alert-success\">\n",
    "    \n",
    "\n",
    "### Комментарий ревьюера v2\n",
    "\n",
    "Молодец, что разоралась в документации\n",
    "</div>\n",
    "\n",
    "---"
   ]
  },
  {
   "cell_type": "markdown",
   "metadata": {},
   "source": [
    "\n",
    "\n",
    "---\n",
    "\n",
    "<div class=\"alert alert-block alert-warning\">\n",
    "    \n",
    "\n",
    "### Комментарий ревьюера\n",
    "\n",
    "\n",
    "Чтобы читателю понять формулы, можно их вывести с помощью LaTex\n",
    "\n",
    "<br>\n",
    "\n",
    "$$ICE = \\frac{Impact * Confidence}{Efforts}$$\n",
    "\n",
    "$$RICE = \\frac{Rearch * Impact * Confidence}{Efforts}$$\n",
    "</div>\n",
    "\n",
    "---"
   ]
  },
  {
   "cell_type": "code",
   "execution_count": 4,
   "metadata": {},
   "outputs": [],
   "source": [
    "hyp['ICE'] = hyp['Impact'] * hyp['Confidence'] / hyp['Efforts']\n",
    "hyp['RICE'] = hyp['Reach'] * hyp['Impact'] * hyp['Confidence'] / hyp['Efforts']"
   ]
  },
  {
   "cell_type": "markdown",
   "metadata": {},
   "source": [
    "Отсортируем гипотезы по каждому методу приоритезации, и посмотрим какие гипотезы вышли в топ."
   ]
  },
  {
   "cell_type": "code",
   "execution_count": 5,
   "metadata": {},
   "outputs": [
    {
     "data": {
      "text/plain": [
       "8                                               Запустить акцию, дающую скидку на товар в день рождения\n",
       "0    Добавить два новых канала привлечения трафика, что позволит привлекать на 30% больше пользователей\n",
       "7      Добавить форму подписки на все основные страницы, чтобы собрать базу клиентов для email-рассылок\n",
       "Name: Hypothesis, dtype: object"
      ]
     },
     "execution_count": 5,
     "metadata": {},
     "output_type": "execute_result"
    }
   ],
   "source": [
    "hyp.sort_values(by='ICE', ascending=False)['Hypothesis'].head(3)"
   ]
  },
  {
   "cell_type": "code",
   "execution_count": 6,
   "metadata": {},
   "outputs": [
    {
     "data": {
      "text/plain": [
       "7                Добавить форму подписки на все основные страницы, чтобы собрать базу клиентов для email-рассылок\n",
       "2    Добавить блоки рекомендаций товаров на сайт интернет магазина, чтобы повысить конверсию и средний чек заказа\n",
       "0              Добавить два новых канала привлечения трафика, что позволит привлекать на 30% больше пользователей\n",
       "Name: Hypothesis, dtype: object"
      ]
     },
     "execution_count": 6,
     "metadata": {},
     "output_type": "execute_result"
    }
   ],
   "source": [
    "hyp.sort_values(by='RICE', ascending=False)['Hypothesis'].head(3)"
   ]
  },
  {
   "cell_type": "markdown",
   "metadata": {},
   "source": [
    "### Вывод"
   ]
  },
  {
   "cell_type": "markdown",
   "metadata": {},
   "source": [
    "В системе приоритизации RICE у нас есть параметр Reach. Он оценивает количество человек, на которых повлияет наша гипотеза, т.е. это ее охват, грубо говоря. Поэтому в расчете по RICE у нас в лидеры вышла 7 гипотеза \"Добавить форму подписки на все основные страницы\", очевидно, что охват будет больше. 2 гипотеза \"Добавить блок рекомендаций товаров\" также имеет больший охват по сравнению с другими. \n",
    "\n",
    "Для будущих экспериментов рекомендую попробовать гипотезы 7 и 0, т.к. они попали в ТОП-3 при обоих способах приоритизации. Гипотезы 8 и 2, можно было бы реализовать позже. Возможно, было бы неплохо оценить еще по другой системе приоритизации, например WSJF, там есть оценка критичности выполнения задачи к определенному времени. Все таки если фича введена вовремя, то отдача повышается в разы.\n",
    "\n",
    "Но если выбирать из RICE и ICE, то на мой взгляд, RICE лучше помогает в приоритизации, как раз таки из-за параметра Reach. Если мы введем фичу, которая нужна будет небольшому количеству человек, а большинству будет не нужна или даже мешать, то эта фича не принесет большой пользы, может даже вред."
   ]
  },
  {
   "cell_type": "markdown",
   "metadata": {},
   "source": [
    "$$ICE = \\frac{Impact * Confidence}{Efforts}$$\n",
    "\n",
    "$$RICE = \\frac{Rearch * Impact * Confidence}{Efforts}$$\n",
    "\n",
    "$$WSJF = \\frac{User-Business Value * Time Criticality * Risk Reduction/Opportunity Enablement}{Job Duration}$$"
   ]
  },
  {
   "cell_type": "markdown",
   "metadata": {},
   "source": [
    "---\n",
    "\n",
    "<div class=\"alert alert-block alert-success\">\n",
    "    \n",
    "\n",
    "### Комментарий ревьюера\n",
    "    \n",
    "Все расчеты по приоритизации верные, предварительные выводы так же корректны, молодец.\n",
    "    \n",
    "\n",
    "</div>\n",
    "\n",
    "---"
   ]
  },
  {
   "cell_type": "markdown",
   "metadata": {},
   "source": [
    "---\n",
    "\n",
    "<div class=\"alert alert-block alert-warning\">\n",
    "    \n",
    "\n",
    "### Комментарий ревьюера\n",
    "\n",
    "А какой бы фреймворк ты бы презентовал коллегам и почему?\n",
    "\n",
    "</div>\n",
    "\n",
    "---"
   ]
  },
  {
   "cell_type": "markdown",
   "metadata": {},
   "source": [
    "## Часть 2. Анализ A/B-теста <a id=\"step2\"></a>"
   ]
  },
  {
   "cell_type": "markdown",
   "metadata": {},
   "source": [
    "### Предобработка данных<a id=\"step2.1\"></a>   "
   ]
  },
  {
   "cell_type": "code",
   "execution_count": 7,
   "metadata": {},
   "outputs": [
    {
     "data": {
      "text/html": [
       "<div>\n",
       "<style scoped>\n",
       "    .dataframe tbody tr th:only-of-type {\n",
       "        vertical-align: middle;\n",
       "    }\n",
       "\n",
       "    .dataframe tbody tr th {\n",
       "        vertical-align: top;\n",
       "    }\n",
       "\n",
       "    .dataframe thead th {\n",
       "        text-align: right;\n",
       "    }\n",
       "</style>\n",
       "<table border=\"1\" class=\"dataframe\">\n",
       "  <thead>\n",
       "    <tr style=\"text-align: right;\">\n",
       "      <th></th>\n",
       "      <th>transactionId</th>\n",
       "      <th>visitorId</th>\n",
       "      <th>date</th>\n",
       "      <th>revenue</th>\n",
       "      <th>group</th>\n",
       "    </tr>\n",
       "  </thead>\n",
       "  <tbody>\n",
       "    <tr>\n",
       "      <th>0</th>\n",
       "      <td>3667963787</td>\n",
       "      <td>3312258926</td>\n",
       "      <td>2019-08-15</td>\n",
       "      <td>1650</td>\n",
       "      <td>B</td>\n",
       "    </tr>\n",
       "    <tr>\n",
       "      <th>1</th>\n",
       "      <td>2804400009</td>\n",
       "      <td>3642806036</td>\n",
       "      <td>2019-08-15</td>\n",
       "      <td>730</td>\n",
       "      <td>B</td>\n",
       "    </tr>\n",
       "    <tr>\n",
       "      <th>2</th>\n",
       "      <td>2961555356</td>\n",
       "      <td>4069496402</td>\n",
       "      <td>2019-08-15</td>\n",
       "      <td>400</td>\n",
       "      <td>A</td>\n",
       "    </tr>\n",
       "    <tr>\n",
       "      <th>3</th>\n",
       "      <td>3797467345</td>\n",
       "      <td>1196621759</td>\n",
       "      <td>2019-08-15</td>\n",
       "      <td>9759</td>\n",
       "      <td>B</td>\n",
       "    </tr>\n",
       "    <tr>\n",
       "      <th>4</th>\n",
       "      <td>2282983706</td>\n",
       "      <td>2322279887</td>\n",
       "      <td>2019-08-15</td>\n",
       "      <td>2308</td>\n",
       "      <td>B</td>\n",
       "    </tr>\n",
       "  </tbody>\n",
       "</table>\n",
       "</div>"
      ],
      "text/plain": [
       "   transactionId   visitorId        date  revenue group\n",
       "0     3667963787  3312258926  2019-08-15     1650     B\n",
       "1     2804400009  3642806036  2019-08-15      730     B\n",
       "2     2961555356  4069496402  2019-08-15      400     A\n",
       "3     3797467345  1196621759  2019-08-15     9759     B\n",
       "4     2282983706  2322279887  2019-08-15     2308     B"
      ]
     },
     "execution_count": 7,
     "metadata": {},
     "output_type": "execute_result"
    }
   ],
   "source": [
    "orders.head()"
   ]
  },
  {
   "cell_type": "code",
   "execution_count": 8,
   "metadata": {},
   "outputs": [
    {
     "name": "stdout",
     "output_type": "stream",
     "text": [
      "<class 'pandas.core.frame.DataFrame'>\n",
      "RangeIndex: 1197 entries, 0 to 1196\n",
      "Data columns (total 5 columns):\n",
      " #   Column         Non-Null Count  Dtype \n",
      "---  ------         --------------  ----- \n",
      " 0   transactionId  1197 non-null   int64 \n",
      " 1   visitorId      1197 non-null   int64 \n",
      " 2   date           1197 non-null   object\n",
      " 3   revenue        1197 non-null   int64 \n",
      " 4   group          1197 non-null   object\n",
      "dtypes: int64(3), object(2)\n",
      "memory usage: 46.9+ KB\n"
     ]
    }
   ],
   "source": [
    "orders.info()"
   ]
  },
  {
   "cell_type": "code",
   "execution_count": 9,
   "metadata": {},
   "outputs": [
    {
     "data": {
      "text/html": [
       "<div>\n",
       "<style scoped>\n",
       "    .dataframe tbody tr th:only-of-type {\n",
       "        vertical-align: middle;\n",
       "    }\n",
       "\n",
       "    .dataframe tbody tr th {\n",
       "        vertical-align: top;\n",
       "    }\n",
       "\n",
       "    .dataframe thead th {\n",
       "        text-align: right;\n",
       "    }\n",
       "</style>\n",
       "<table border=\"1\" class=\"dataframe\">\n",
       "  <thead>\n",
       "    <tr style=\"text-align: right;\">\n",
       "      <th></th>\n",
       "      <th>date</th>\n",
       "      <th>group</th>\n",
       "      <th>visitors</th>\n",
       "    </tr>\n",
       "  </thead>\n",
       "  <tbody>\n",
       "    <tr>\n",
       "      <th>0</th>\n",
       "      <td>2019-08-01</td>\n",
       "      <td>A</td>\n",
       "      <td>719</td>\n",
       "    </tr>\n",
       "    <tr>\n",
       "      <th>1</th>\n",
       "      <td>2019-08-02</td>\n",
       "      <td>A</td>\n",
       "      <td>619</td>\n",
       "    </tr>\n",
       "    <tr>\n",
       "      <th>2</th>\n",
       "      <td>2019-08-03</td>\n",
       "      <td>A</td>\n",
       "      <td>507</td>\n",
       "    </tr>\n",
       "    <tr>\n",
       "      <th>3</th>\n",
       "      <td>2019-08-04</td>\n",
       "      <td>A</td>\n",
       "      <td>717</td>\n",
       "    </tr>\n",
       "    <tr>\n",
       "      <th>4</th>\n",
       "      <td>2019-08-05</td>\n",
       "      <td>A</td>\n",
       "      <td>756</td>\n",
       "    </tr>\n",
       "  </tbody>\n",
       "</table>\n",
       "</div>"
      ],
      "text/plain": [
       "         date group  visitors\n",
       "0  2019-08-01     A       719\n",
       "1  2019-08-02     A       619\n",
       "2  2019-08-03     A       507\n",
       "3  2019-08-04     A       717\n",
       "4  2019-08-05     A       756"
      ]
     },
     "execution_count": 9,
     "metadata": {},
     "output_type": "execute_result"
    }
   ],
   "source": [
    "visitors.head()"
   ]
  },
  {
   "cell_type": "code",
   "execution_count": 10,
   "metadata": {},
   "outputs": [
    {
     "name": "stdout",
     "output_type": "stream",
     "text": [
      "<class 'pandas.core.frame.DataFrame'>\n",
      "RangeIndex: 62 entries, 0 to 61\n",
      "Data columns (total 3 columns):\n",
      " #   Column    Non-Null Count  Dtype \n",
      "---  ------    --------------  ----- \n",
      " 0   date      62 non-null     object\n",
      " 1   group     62 non-null     object\n",
      " 2   visitors  62 non-null     int64 \n",
      "dtypes: int64(1), object(2)\n",
      "memory usage: 1.6+ KB\n"
     ]
    }
   ],
   "source": [
    "visitors.info()"
   ]
  },
  {
   "cell_type": "markdown",
   "metadata": {},
   "source": [
    "В обоих фреймах у нас нет пропусков. Названия колонок изменять нет смысла, они однородны. Нужно только привести даты к необходимому формату, чтобы работать с ней дальше."
   ]
  },
  {
   "cell_type": "code",
   "execution_count": 11,
   "metadata": {},
   "outputs": [],
   "source": [
    "orders['date'] = orders['date'].map(lambda x: dt.datetime.strptime(x, '%Y-%m-%d'))"
   ]
  },
  {
   "cell_type": "code",
   "execution_count": 12,
   "metadata": {},
   "outputs": [],
   "source": [
    "visitors['date'] = visitors['date'].map(lambda x: dt.datetime.strptime(x, '%Y-%m-%d'))"
   ]
  },
  {
   "cell_type": "markdown",
   "metadata": {},
   "source": [
    "### Кумулятивные метрики и графики <a id=\"step2.2\"></a>   "
   ]
  },
  {
   "cell_type": "markdown",
   "metadata": {},
   "source": [
    "Изучим куммулятивные выручку, средний чек и конверсии в покупку по группам с изменением по дням, чтобы понять как у нас развиваются эти метрики по разным группам в течение месяца. Берем эти метрики показывают какую конечную пользу принес эксперимент в группах."
   ]
  },
  {
   "cell_type": "code",
   "execution_count": 13,
   "metadata": {},
   "outputs": [
    {
     "data": {
      "text/html": [
       "<div>\n",
       "<style scoped>\n",
       "    .dataframe tbody tr th:only-of-type {\n",
       "        vertical-align: middle;\n",
       "    }\n",
       "\n",
       "    .dataframe tbody tr th {\n",
       "        vertical-align: top;\n",
       "    }\n",
       "\n",
       "    .dataframe thead th {\n",
       "        text-align: right;\n",
       "    }\n",
       "</style>\n",
       "<table border=\"1\" class=\"dataframe\">\n",
       "  <thead>\n",
       "    <tr style=\"text-align: right;\">\n",
       "      <th></th>\n",
       "      <th>date</th>\n",
       "      <th>group</th>\n",
       "    </tr>\n",
       "  </thead>\n",
       "  <tbody>\n",
       "    <tr>\n",
       "      <th>0</th>\n",
       "      <td>2019-08-15</td>\n",
       "      <td>B</td>\n",
       "    </tr>\n",
       "    <tr>\n",
       "      <th>2</th>\n",
       "      <td>2019-08-15</td>\n",
       "      <td>A</td>\n",
       "    </tr>\n",
       "    <tr>\n",
       "      <th>45</th>\n",
       "      <td>2019-08-16</td>\n",
       "      <td>A</td>\n",
       "    </tr>\n",
       "    <tr>\n",
       "      <th>47</th>\n",
       "      <td>2019-08-16</td>\n",
       "      <td>B</td>\n",
       "    </tr>\n",
       "    <tr>\n",
       "      <th>55</th>\n",
       "      <td>2019-08-01</td>\n",
       "      <td>A</td>\n",
       "    </tr>\n",
       "  </tbody>\n",
       "</table>\n",
       "</div>"
      ],
      "text/plain": [
       "         date group\n",
       "0  2019-08-15     B\n",
       "2  2019-08-15     A\n",
       "45 2019-08-16     A\n",
       "47 2019-08-16     B\n",
       "55 2019-08-01     A"
      ]
     },
     "execution_count": 13,
     "metadata": {},
     "output_type": "execute_result"
    }
   ],
   "source": [
    "uniq_pairs = orders[['date', 'group']].drop_duplicates()\n",
    "uniq_pairs.head()"
   ]
  },
  {
   "cell_type": "code",
   "execution_count": 14,
   "metadata": {},
   "outputs": [],
   "source": [
    "orders_agg = uniq_pairs.apply(\n",
    "lambda x: orders[np.logical_and(orders['date'] <= x['date'], orders['group'] == x['group'])].agg({\n",
    "    'date':'max',\n",
    "    'group':'max',\n",
    "    'transactionId': pd.Series.nunique,\n",
    "    'visitorId':pd.Series.nunique,\n",
    "    'revenue':'sum'\n",
    "}), axis=1).sort_values(by=['date', 'group'])\n",
    "\n",
    "visits_agg = uniq_pairs.apply(\n",
    "lambda x: visitors[np.logical_and(visitors['date'] <= x['date'], visitors['group'] == x['group'])].agg({\n",
    "    'date':'max',\n",
    "    'group':'max',\n",
    "    'visitors':'sum'\n",
    "}), axis=1).sort_values(by=['date', 'group'])\n",
    "\n",
    "cumulate_df = orders_agg.merge(visits_agg, on=['date','group'])\n",
    "cumulate_df.columns = ['date', 'group', 'num_orders', 'buyers', 'revenue', 'visitors']"
   ]
  },
  {
   "cell_type": "code",
   "execution_count": 15,
   "metadata": {},
   "outputs": [],
   "source": [
    "cumulate_df['conversion'] = cumulate_df['num_orders'] / cumulate_df['visitors'] * 100\n",
    "cumulate_df['check'] = cumulate_df['revenue'] / cumulate_df['num_orders']"
   ]
  },
  {
   "cell_type": "code",
   "execution_count": 16,
   "metadata": {},
   "outputs": [
    {
     "name": "stdout",
     "output_type": "stream",
     "text": [
      "<class 'pandas.core.frame.DataFrame'>\n",
      "Int64Index: 62 entries, 0 to 61\n",
      "Data columns (total 8 columns):\n",
      " #   Column      Non-Null Count  Dtype         \n",
      "---  ------      --------------  -----         \n",
      " 0   date        62 non-null     datetime64[ns]\n",
      " 1   group       62 non-null     object        \n",
      " 2   num_orders  62 non-null     int64         \n",
      " 3   buyers      62 non-null     int64         \n",
      " 4   revenue     62 non-null     int64         \n",
      " 5   visitors    62 non-null     int64         \n",
      " 6   conversion  62 non-null     float64       \n",
      " 7   check       62 non-null     float64       \n",
      "dtypes: datetime64[ns](1), float64(2), int64(4), object(1)\n",
      "memory usage: 4.4+ KB\n"
     ]
    },
    {
     "data": {
      "text/html": [
       "<div>\n",
       "<style scoped>\n",
       "    .dataframe tbody tr th:only-of-type {\n",
       "        vertical-align: middle;\n",
       "    }\n",
       "\n",
       "    .dataframe tbody tr th {\n",
       "        vertical-align: top;\n",
       "    }\n",
       "\n",
       "    .dataframe thead th {\n",
       "        text-align: right;\n",
       "    }\n",
       "</style>\n",
       "<table border=\"1\" class=\"dataframe\">\n",
       "  <thead>\n",
       "    <tr style=\"text-align: right;\">\n",
       "      <th></th>\n",
       "      <th>date</th>\n",
       "      <th>group</th>\n",
       "      <th>num_orders</th>\n",
       "      <th>buyers</th>\n",
       "      <th>revenue</th>\n",
       "      <th>visitors</th>\n",
       "      <th>conversion</th>\n",
       "      <th>check</th>\n",
       "    </tr>\n",
       "  </thead>\n",
       "  <tbody>\n",
       "    <tr>\n",
       "      <th>0</th>\n",
       "      <td>2019-08-01</td>\n",
       "      <td>A</td>\n",
       "      <td>24</td>\n",
       "      <td>20</td>\n",
       "      <td>148579</td>\n",
       "      <td>719</td>\n",
       "      <td>3.337969</td>\n",
       "      <td>6190.791667</td>\n",
       "    </tr>\n",
       "    <tr>\n",
       "      <th>1</th>\n",
       "      <td>2019-08-01</td>\n",
       "      <td>B</td>\n",
       "      <td>21</td>\n",
       "      <td>20</td>\n",
       "      <td>101217</td>\n",
       "      <td>713</td>\n",
       "      <td>2.945302</td>\n",
       "      <td>4819.857143</td>\n",
       "    </tr>\n",
       "    <tr>\n",
       "      <th>2</th>\n",
       "      <td>2019-08-02</td>\n",
       "      <td>A</td>\n",
       "      <td>44</td>\n",
       "      <td>38</td>\n",
       "      <td>242401</td>\n",
       "      <td>1338</td>\n",
       "      <td>3.288490</td>\n",
       "      <td>5509.113636</td>\n",
       "    </tr>\n",
       "    <tr>\n",
       "      <th>3</th>\n",
       "      <td>2019-08-02</td>\n",
       "      <td>B</td>\n",
       "      <td>45</td>\n",
       "      <td>43</td>\n",
       "      <td>266748</td>\n",
       "      <td>1294</td>\n",
       "      <td>3.477589</td>\n",
       "      <td>5927.733333</td>\n",
       "    </tr>\n",
       "    <tr>\n",
       "      <th>4</th>\n",
       "      <td>2019-08-03</td>\n",
       "      <td>A</td>\n",
       "      <td>68</td>\n",
       "      <td>62</td>\n",
       "      <td>354874</td>\n",
       "      <td>1845</td>\n",
       "      <td>3.685637</td>\n",
       "      <td>5218.735294</td>\n",
       "    </tr>\n",
       "  </tbody>\n",
       "</table>\n",
       "</div>"
      ],
      "text/plain": [
       "        date group  num_orders  buyers  revenue  visitors  conversion  \\\n",
       "0 2019-08-01     A          24      20   148579       719    3.337969   \n",
       "1 2019-08-01     B          21      20   101217       713    2.945302   \n",
       "2 2019-08-02     A          44      38   242401      1338    3.288490   \n",
       "3 2019-08-02     B          45      43   266748      1294    3.477589   \n",
       "4 2019-08-03     A          68      62   354874      1845    3.685637   \n",
       "\n",
       "         check  \n",
       "0  6190.791667  \n",
       "1  4819.857143  \n",
       "2  5509.113636  \n",
       "3  5927.733333  \n",
       "4  5218.735294  "
      ]
     },
     "execution_count": 16,
     "metadata": {},
     "output_type": "execute_result"
    }
   ],
   "source": [
    "cumulate_df.info()\n",
    "cumulate_df.head()"
   ]
  },
  {
   "cell_type": "markdown",
   "metadata": {},
   "source": [
    "---\n",
    "\n",
    "<div class=\"alert alert-block alert-success\">\n",
    "    \n",
    "\n",
    "### Комментарий ревьюера\n",
    "\n",
    "Преобразования корректные, ты очень хорошо разобралась в методах прошедших спринтов, молодец.\n",
    "</div>\n",
    "\n",
    "---"
   ]
  },
  {
   "cell_type": "code",
   "execution_count": 17,
   "metadata": {},
   "outputs": [
    {
     "data": {
      "image/png": "[encoded data removed]",
      "text/plain": [
       "<Figure size 576x360 with 1 Axes>"
      ]
     },
     "metadata": {
      "needs_background": "light"
     },
     "output_type": "display_data"
    }
   ],
   "source": [
    "plt.figure(figsize=(8, 5))\n",
    "plt.plot(cumulate_df[cumulate_df['group'] == 'A']['date'], cumulate_df[cumulate_df['group'] == 'A']['revenue'], label='A')\n",
    "plt.plot(cumulate_df[cumulate_df['group'] == 'B']['date'], cumulate_df[cumulate_df['group'] == 'B']['revenue'], label='B')\n",
    "plt.xticks(rotation=60)\n",
    "plt.xlabel('Дни')\n",
    "plt.ylabel('Выручка, y.e.')\n",
    "plt.title('График кумулятивной выручки по группам')\n",
    "plt.legend()\n",
    "plt.show()"
   ]
  },
  {
   "cell_type": "markdown",
   "metadata": {},
   "source": [
    "---\n",
    "\n",
    "<div class=\"alert alert-block alert-warning\">\n",
    "    \n",
    "\n",
    "### Комментарий ревьюера\n",
    "\n",
    "\n",
    "Чтобы убрать техническую информацию от `matplotlib`, можно использовать метод `plt.show()` или поставить после инициализации графика `;`\n",
    "</div>\n",
    "\n",
    "---"
   ]
  },
  {
   "cell_type": "markdown",
   "metadata": {},
   "source": [
    "Группа В почти с самого начала начала подъем, а после 17 августа был резкий скачок и разрыв в выручке между группами продолжался на протяжении оставшегося времени до конца месяца. Скорее всего в группу В попали очень крупные заказы."
   ]
  },
  {
   "cell_type": "markdown",
   "metadata": {},
   "source": [
    "\n",
    "---\n",
    "\n",
    "<div class=\"alert alert-block alert-success\">\n",
    "    \n",
    "\n",
    "### Комментарий ревьюера\n",
    "\n",
    "Отличное предположение, необходима проверка на очищенных данных.\n",
    "</div>\n",
    "\n",
    "---"
   ]
  },
  {
   "cell_type": "code",
   "execution_count": 18,
   "metadata": {},
   "outputs": [
    {
     "data": {
      "image/png": "[encoded data removed]",
      "text/plain": [
       "<Figure size 576x360 with 1 Axes>"
      ]
     },
     "metadata": {
      "needs_background": "light"
     },
     "output_type": "display_data"
    }
   ],
   "source": [
    "plt.figure(figsize=(8, 5))\n",
    "plt.plot(cumulate_df[cumulate_df['group'] == 'A']['date'], cumulate_df[cumulate_df['group'] == 'A']['check'], label='A')\n",
    "plt.plot(cumulate_df[cumulate_df['group'] == 'B']['date'], cumulate_df[cumulate_df['group'] == 'B']['check'], label='B')\n",
    "plt.xticks(rotation=60)\n",
    "plt.xlabel('Дни')\n",
    "plt.ylabel('Средний чек, y.e.')\n",
    "plt.title('График кумулятивного среднего чека по группам')\n",
    "plt.legend()\n",
    "plt.show()"
   ]
  },
  {
   "cell_type": "markdown",
   "metadata": {},
   "source": [
    "По среднему чеку тоже наблюдается всплеск. Но в группа В в целом показывает себя лучше, чем группа А. У второй в самом начале падение, затем подъем и снова небольшая просадка. Посмотрим как развивается группа В относительно группы А с учетом этого всплеска."
   ]
  },
  {
   "cell_type": "markdown",
   "metadata": {},
   "source": [
    "---\n",
    "\n",
    "<div class=\"alert alert-block alert-success\">\n",
    "    \n",
    "\n",
    "### Комментарий ревьюера\n",
    "\n",
    "Совершенно верно. Вид графика группы В после 19.08 -- это так называемое \"возвращение к среднему\". Очень характерно для единоразовых мощных выбросов\n",
    "</div>\n",
    "\n",
    "---"
   ]
  },
  {
   "cell_type": "code",
   "execution_count": 19,
   "metadata": {},
   "outputs": [],
   "source": [
    "cumulate_A = cumulate_df[cumulate_df['group'] == 'A']\n",
    "cumulate_B = cumulate_df[cumulate_df['group'] == 'B']"
   ]
  },
  {
   "cell_type": "code",
   "execution_count": 20,
   "metadata": {},
   "outputs": [
    {
     "data": {
      "text/html": [
       "<div>\n",
       "<style scoped>\n",
       "    .dataframe tbody tr th:only-of-type {\n",
       "        vertical-align: middle;\n",
       "    }\n",
       "\n",
       "    .dataframe tbody tr th {\n",
       "        vertical-align: top;\n",
       "    }\n",
       "\n",
       "    .dataframe thead th {\n",
       "        text-align: right;\n",
       "    }\n",
       "</style>\n",
       "<table border=\"1\" class=\"dataframe\">\n",
       "  <thead>\n",
       "    <tr style=\"text-align: right;\">\n",
       "      <th></th>\n",
       "      <th>date</th>\n",
       "      <th>groupA</th>\n",
       "      <th>num_ordersA</th>\n",
       "      <th>buyersA</th>\n",
       "      <th>revenueA</th>\n",
       "      <th>visitorsA</th>\n",
       "      <th>conversionA</th>\n",
       "      <th>checkA</th>\n",
       "      <th>groupB</th>\n",
       "      <th>num_ordersB</th>\n",
       "      <th>buyersB</th>\n",
       "      <th>revenueB</th>\n",
       "      <th>visitorsB</th>\n",
       "      <th>conversionB</th>\n",
       "      <th>checkB</th>\n",
       "    </tr>\n",
       "  </thead>\n",
       "  <tbody>\n",
       "    <tr>\n",
       "      <th>0</th>\n",
       "      <td>2019-08-01</td>\n",
       "      <td>A</td>\n",
       "      <td>24</td>\n",
       "      <td>20</td>\n",
       "      <td>148579</td>\n",
       "      <td>719</td>\n",
       "      <td>3.337969</td>\n",
       "      <td>6190.791667</td>\n",
       "      <td>B</td>\n",
       "      <td>21</td>\n",
       "      <td>20</td>\n",
       "      <td>101217</td>\n",
       "      <td>713</td>\n",
       "      <td>2.945302</td>\n",
       "      <td>4819.857143</td>\n",
       "    </tr>\n",
       "    <tr>\n",
       "      <th>1</th>\n",
       "      <td>2019-08-02</td>\n",
       "      <td>A</td>\n",
       "      <td>44</td>\n",
       "      <td>38</td>\n",
       "      <td>242401</td>\n",
       "      <td>1338</td>\n",
       "      <td>3.288490</td>\n",
       "      <td>5509.113636</td>\n",
       "      <td>B</td>\n",
       "      <td>45</td>\n",
       "      <td>43</td>\n",
       "      <td>266748</td>\n",
       "      <td>1294</td>\n",
       "      <td>3.477589</td>\n",
       "      <td>5927.733333</td>\n",
       "    </tr>\n",
       "    <tr>\n",
       "      <th>2</th>\n",
       "      <td>2019-08-03</td>\n",
       "      <td>A</td>\n",
       "      <td>68</td>\n",
       "      <td>62</td>\n",
       "      <td>354874</td>\n",
       "      <td>1845</td>\n",
       "      <td>3.685637</td>\n",
       "      <td>5218.735294</td>\n",
       "      <td>B</td>\n",
       "      <td>61</td>\n",
       "      <td>59</td>\n",
       "      <td>380996</td>\n",
       "      <td>1803</td>\n",
       "      <td>3.383250</td>\n",
       "      <td>6245.836066</td>\n",
       "    </tr>\n",
       "  </tbody>\n",
       "</table>\n",
       "</div>"
      ],
      "text/plain": [
       "        date groupA  num_ordersA  buyersA  revenueA  visitorsA  conversionA  \\\n",
       "0 2019-08-01      A           24       20    148579        719     3.337969   \n",
       "1 2019-08-02      A           44       38    242401       1338     3.288490   \n",
       "2 2019-08-03      A           68       62    354874       1845     3.685637   \n",
       "\n",
       "        checkA groupB  num_ordersB  buyersB  revenueB  visitorsB  conversionB  \\\n",
       "0  6190.791667      B           21       20    101217        713     2.945302   \n",
       "1  5509.113636      B           45       43    266748       1294     3.477589   \n",
       "2  5218.735294      B           61       59    380996       1803     3.383250   \n",
       "\n",
       "        checkB  \n",
       "0  4819.857143  \n",
       "1  5927.733333  \n",
       "2  6245.836066  "
      ]
     },
     "execution_count": 20,
     "metadata": {},
     "output_type": "execute_result"
    }
   ],
   "source": [
    "megre_cumulate = cumulate_A.merge(cumulate_B, on=['date'], how='left', suffixes=['A','B'])\n",
    "megre_cumulate.head(3)"
   ]
  },
  {
   "cell_type": "code",
   "execution_count": 21,
   "metadata": {},
   "outputs": [
    {
     "data": {
      "image/png": "[encoded data removed]",
      "text/plain": [
       "<Figure size 576x360 with 1 Axes>"
      ]
     },
     "metadata": {
      "needs_background": "light"
     },
     "output_type": "display_data"
    }
   ],
   "source": [
    "plt.figure(figsize=(8, 5))\n",
    "plt.plot(megre_cumulate['date'], megre_cumulate['checkB'] / megre_cumulate['checkA'] - 1)\n",
    "plt.xticks(rotation=60)\n",
    "plt.axhline(y=0, color='black', linestyle='--')\n",
    "plt.xlabel('Дни')\n",
    "plt.title('Относительное различия группы В от группы А по среднему чеку')\n",
    "plt.show()"
   ]
  },
  {
   "cell_type": "markdown",
   "metadata": {},
   "source": [
    "Сначала был подъем, но далее у группы В была просадка относительно группы А. После видно, что показатели резко улучшились и по-тихоньку опустились."
   ]
  },
  {
   "cell_type": "code",
   "execution_count": 22,
   "metadata": {
    "scrolled": false
   },
   "outputs": [
    {
     "data": {
      "image/png": "[encoded data removed]",
      "text/plain": [
       "<Figure size 576x360 with 1 Axes>"
      ]
     },
     "metadata": {
      "needs_background": "light"
     },
     "output_type": "display_data"
    }
   ],
   "source": [
    "plt.figure(figsize=(8, 5))\n",
    "plt.plot(cumulate_df[cumulate_df['group'] == 'A']['date'], cumulate_df[cumulate_df['group'] == 'A']['conversion'], label='A')\n",
    "plt.plot(cumulate_df[cumulate_df['group'] == 'B']['date'], cumulate_df[cumulate_df['group'] == 'B']['conversion'], label='B')\n",
    "plt.xticks(rotation=60)\n",
    "plt.xlabel('Дни')\n",
    "plt.ylabel('Конверсия, %')\n",
    "plt.ylim(2,5)\n",
    "plt.title('График кумулятивной конверсии по группам')\n",
    "plt.legend()\n",
    "plt.show()"
   ]
  },
  {
   "cell_type": "markdown",
   "metadata": {},
   "source": [
    "Конверсия также показываем нам, что в группы А показатели на порядок хуже, чем у группы В. Конверсия группы В идет на убыль на протяжении всего месяца. посмотрим график относительного различия группы В относительно группы А.\n",
    "После 18 числа скачки прекращаются и графики обоих группа стабилизируются. На ранних этапах они слишком \"прыгали\" и оценка результатов первой половины августа могла бы привести к ошибке."
   ]
  },
  {
   "cell_type": "markdown",
   "metadata": {},
   "source": [
    "---\n",
    "\n",
    "<div class=\"alert alert-block alert-warning\">\n",
    "    \n",
    "\n",
    "### Комментарий ревьюера\n",
    "\n",
    "\n",
    "График выше -- очень хорошая иллюстрация того, что делать поспешные выводы, до того как кумулятивные метрики \"успокоятся\", не стоит. Если бы бизнес дал нам всего 6 - 7 дней на это исследование, то результат был бы крайне сомнительный. В таком случае необходимо аргументировано донести мысль до заказчика, что тест необходимо продолжить. После 18.08 метрика относительно стабилизировалась.\n",
    "\n",
    "\n",
    "</div>\n",
    "\n",
    "---"
   ]
  },
  {
   "cell_type": "code",
   "execution_count": 23,
   "metadata": {},
   "outputs": [
    {
     "data": {
      "image/png": "[encoded data removed]",
      "text/plain": [
       "<Figure size 576x360 with 1 Axes>"
      ]
     },
     "metadata": {
      "needs_background": "light"
     },
     "output_type": "display_data"
    }
   ],
   "source": [
    "plt.figure(figsize=(8, 5))\n",
    "plt.plot(megre_cumulate['date'], megre_cumulate['conversionB'] / megre_cumulate['conversionA'] - 1)\n",
    "plt.xticks(rotation=60)\n",
    "plt.xlabel('Дни')\n",
    "plt.axhline(y=0, color='black', linestyle='--')\n",
    "plt.title('Относительное различия группы В от группы А по конверсии')\n",
    "plt.show()"
   ]
  },
  {
   "cell_type": "markdown",
   "metadata": {},
   "source": [
    "У группы В в начале были скачок, дальше мы наблюдаем рост и постепенное снижение к концу месяца. Определимся с аномалиями и посмотрим как различаются группы без них."
   ]
  },
  {
   "cell_type": "markdown",
   "metadata": {},
   "source": [
    "### Поиск аноманий <a id=\"step2.3\"></a>   "
   ]
  },
  {
   "cell_type": "markdown",
   "metadata": {},
   "source": [
    "С помощью процентилей и точечных графиков определим какая норма для суммы заказа и количества заказа на 1 покупателя."
   ]
  },
  {
   "cell_type": "code",
   "execution_count": 24,
   "metadata": {},
   "outputs": [],
   "source": [
    "orders_by_users = orders.groupby(['visitorId'], as_index=False).agg({'transactionId':pd.Series.nunique})"
   ]
  },
  {
   "cell_type": "code",
   "execution_count": 25,
   "metadata": {},
   "outputs": [
    {
     "data": {
      "image/png": "[encoded data removed]",
      "text/plain": [
       "<Figure size 432x288 with 1 Axes>"
      ]
     },
     "metadata": {
      "needs_background": "light"
     },
     "output_type": "display_data"
    }
   ],
   "source": [
    "x_values = pd.Series(range(0, len(orders_by_users['transactionId'])))\n",
    "plt.scatter(x_values, orders_by_users['transactionId'])\n",
    "plt.title('Точечный график количества заказов на покупателя')\n",
    "plt.ylabel('Количество заказов, шт.')\n",
    "plt.show()"
   ]
  },
  {
   "cell_type": "code",
   "execution_count": 26,
   "metadata": {},
   "outputs": [
    {
     "name": "stdout",
     "output_type": "stream",
     "text": [
      "90% покупателей купили 1 раз      \n",
      "95% покупателей купили 2 раза      \n",
      "99% покупателей купили 4 раза\n"
     ]
    }
   ],
   "source": [
    "percent_orders = np.percentile(orders_by_users['transactionId'],[90, 95, 99])\n",
    "print(f'90% покупателей купили {int(percent_orders[0])} раз\\\n",
    "      \\n95% покупателей купили {int(percent_orders[1])} раза\\\n",
    "      \\n99% покупателей купили {int(percent_orders[2])} раза')"
   ]
  },
  {
   "cell_type": "markdown",
   "metadata": {},
   "source": [
    "90% пользователей совершили всего лишь 1 заказ. Не больше 5% совершили 2 заказа. Нормой определим не более 1 заказа"
   ]
  },
  {
   "cell_type": "markdown",
   "metadata": {},
   "source": [
    "---\n",
    "\n",
    "<div class=\"alert alert-block alert-success\">\n",
    "    \n",
    "\n",
    "### Комментарий ревьюера\n",
    "\n",
    "Все расчеты корректные, молодец.\n",
    "    \n",
    "Единственный момент, на который хочу обратить твое внимание, отсекать 10% заказов -- довольно суровое решение. Возможно как и ниже можно ограничиться 95 процентилем.\n",
    "    \n",
    "Но конечное решение всегда за тобой  ;)\n",
    "</div>\n",
    "\n",
    "---"
   ]
  },
  {
   "cell_type": "code",
   "execution_count": 27,
   "metadata": {},
   "outputs": [
    {
     "data": {
      "image/png": "[encoded data removed]",
      "text/plain": [
       "<Figure size 432x288 with 1 Axes>"
      ]
     },
     "metadata": {
      "needs_background": "light"
     },
     "output_type": "display_data"
    }
   ],
   "source": [
    "x_values = pd.Series(range(0, len(orders['revenue'])))\n",
    "plt.scatter(x_values, orders['revenue'])\n",
    "plt.title('Точечный график выручки по заказам')\n",
    "plt.axhline(y=200000, color='black', linestyle='--')\n",
    "plt.axhline(y=120000, color='grey', linestyle='--')\n",
    "plt.axhline(y=50000, color='red', linestyle='--')\n",
    "plt.ylabel('Выручка, y.e.')\n",
    "plt.show()"
   ]
  },
  {
   "cell_type": "code",
   "execution_count": 28,
   "metadata": {},
   "outputs": [
    {
     "name": "stdout",
     "output_type": "stream",
     "text": [
      "90% покупателей совершили заказ на 18168 y.e.      \n",
      "95% покупателей совершили заказ на 28000 y.e.      \n",
      "99% покупателей совершили заказ на 58233 y.e.\n"
     ]
    }
   ],
   "source": [
    "percent_revenue = np.percentile(orders['revenue'],[90, 95, 99])\n",
    "print(f'90% покупателей совершили заказ на {int(percent_revenue[0])} y.e.\\\n",
    "      \\n95% покупателей совершили заказ на {int(percent_revenue[1])} y.e.\\\n",
    "      \\n99% покупателей совершили заказ на {int(percent_revenue[2])} y.e.')"
   ]
  },
  {
   "cell_type": "markdown",
   "metadata": {},
   "source": [
    "Подавляющее большинство заказов у нас до 120 000 y.e.(серая пунктирная линия) и не так уж и много заказов больше 50 000 y.e.(красная пунктирная линия). По процентилям мы понимаем, что не больше 10% заказов у нас больше 18168 y.e. и не более 5% больше 28000 y.e. Думаю, что границы для отсеивания аномалий можно установить до 28000 y.e."
   ]
  },
  {
   "cell_type": "code",
   "execution_count": 29,
   "metadata": {},
   "outputs": [],
   "source": [
    "price_anom = orders[orders['revenue'] > 28000]['visitorId']\n",
    "orders_anom = orders_by_users[orders_by_users['transactionId'] > 1]['visitorId']\n",
    "anom_users = pd.concat([orders_anom, price_anom], axis=0).drop_duplicates()"
   ]
  },
  {
   "cell_type": "markdown",
   "metadata": {},
   "source": [
    "Переменная pure_orders содержит id аномальных покупателей, т.е. тех у кого заказ больше 28 тыс y.e. либо больше 1 заказа. В следующих пунктах использую этот список, чтобы исключить этих посетителей из выборки и посчитать статистическую значимость чистых данных и сравнить с выборкой, где эти пользователи все таки есть."
   ]
  },
  {
   "cell_type": "markdown",
   "metadata": {},
   "source": [
    "---\n",
    "\n",
    "<div class=\"alert alert-block alert-success\">\n",
    "    \n",
    "\n",
    "### Комментарий ревьюера\n",
    "\n",
    "Отлично, нарушители кумулятивных метрик обнаружены.\n",
    "    \n",
    "Также хороший метод для определения аномальных значений это `.boxplot()`\n",
    "    \n",
    "</div>\n",
    "\n",
    "---"
   ]
  },
  {
   "cell_type": "markdown",
   "metadata": {},
   "source": [
    "### Статистическая значимость <a id=\"step2.4\"></a>   "
   ]
  },
  {
   "cell_type": "markdown",
   "metadata": {},
   "source": [
    "Чтобы понять имеет ли статистически значимые различия выборки групп А и В, определим, что пороговым значением alpha будет 0.05\n",
    "Если у нас статистическая значимость различий будет меньше этого параметра, то мы можем отвергнуть нулевую теорию о том, что выборки между собой равны. Либо же статистическая значимость будет выше значения alpha и мы не сможем сделать вывод о различии.\n",
    "\n",
    "Будем использовать для вычисления критерий Манна-Уитни, т.к. этот критерий непараметрический. Он более устойчив к выбросам, чем t-критерий Стьюдента. Но мы посмотрим как измениться значение статистической значимости на \"сырых\" и \"чистых\" данных, потому что по графикам увидели, что есть выбросы."
   ]
  },
  {
   "cell_type": "markdown",
   "metadata": {},
   "source": [
    "Подготовлю два датафрейма с сырыми и чистыми данными. Нам нужно посчитать статистическую значимость по группам по конверсиям и по среднему чеку. Для этого нужно знать сколько человек на дату посетили сайт, сколько было покупок в тот день, какая выручка была в этот день. "
   ]
  },
  {
   "cell_type": "markdown",
   "metadata": {},
   "source": [
    "### Грязные данные <a id=\"step2.4.1\"></a>   "
   ]
  },
  {
   "cell_type": "code",
   "execution_count": 30,
   "metadata": {},
   "outputs": [],
   "source": [
    "ordersA_daily = orders[orders['group'] == 'A'].groupby('date', as_index=False).agg({\n",
    "    'transactionId':pd.Series.nunique, \n",
    "    'revenue':'sum'})\n",
    "ordersB_daily = orders[orders['group'] == 'B'].groupby('date', as_index=False).agg({\n",
    "    'transactionId':pd.Series.nunique, \n",
    "    'revenue':'sum'})\n",
    "ordersA_daily.columns = ['date', 'orders', 'revenue']\n",
    "ordersB_daily.columns = ['date', 'orders', 'revenue']\n",
    "\n",
    "#присоединяем количество посетителей в группах\n",
    "ordersA_daily = ordersA_daily.merge(visitors[visitors['group'] == 'A'][['visitors', 'date']], on='date')\n",
    "ordersB_daily = ordersB_daily.merge(visitors[visitors['group'] == 'B'][['visitors', 'date']], on='date')"
   ]
  },
  {
   "cell_type": "code",
   "execution_count": 31,
   "metadata": {},
   "outputs": [
    {
     "name": "stdout",
     "output_type": "stream",
     "text": [
      "Статистическая значимость различий \"сырых\" данных в среднем чеке по группам: 0.20309\n",
      "Относительное различие в среднем чеке группы В относительно группы А: 25.87%\n",
      "Статистическая значимость различий \"сырых\" данных в конверсии по группам: 0.04294\n",
      "Относительное различие в конверсиях группы В относительно группы А: 13.81%\n"
     ]
    }
   ],
   "source": [
    "print('Статистическая значимость различий \"сырых\" данных в среднем чеке по группам: {:.5f}'.format(\n",
    "    st.mannwhitneyu(ordersA_daily['revenue'] / ordersA_daily['orders'],\n",
    "                    ordersB_daily['revenue'] / ordersB_daily['orders'])[1]))\n",
    "print('Относительное различие в среднем чеке группы В относительно группы А: {:.2%}'.format(\n",
    "    (ordersB_daily['revenue'].sum() / ordersB_daily['orders'].sum()) / \n",
    "    (ordersA_daily['revenue'].sum() / ordersA_daily['orders'].sum()) - 1))\n",
    "print('Статистическая значимость различий \"сырых\" данных в конверсии по группам: {:.5f}'.format(\n",
    "    st.mannwhitneyu(ordersA_daily['orders'] / ordersA_daily['visitors'],\n",
    "                    ordersB_daily['orders'] / ordersB_daily['visitors'])[1]))\n",
    "print('Относительное различие в конверсиях группы В относительно группы А: {:.2%}'.format(\n",
    "    (ordersB_daily['orders'].sum() / ordersB_daily['visitors'].sum()) /\n",
    "    (ordersA_daily['orders'].sum() / ordersA_daily['visitors'].sum()) - 1))"
   ]
  },
  {
   "cell_type": "markdown",
   "metadata": {},
   "source": [
    "---\n",
    "\n",
    "<div class=\"alert alert-block alert-success\">\n",
    "    \n",
    "\n",
    "### Комментарий ревьюера\n",
    "\n",
    "Класно, теперь все преобразования корректны.\n",
    "</div>\n",
    "\n",
    "---"
   ]
  },
  {
   "cell_type": "markdown",
   "metadata": {},
   "source": [
    "Мы проанализировали выборки с аномалиями, получаем, что статистическая значимость в среднем чеке равна 0.2 это больше значения alpha, т.е. мы не можем отвергнуть нулевую гипотезу о равенстве групп. Но мы можем предположить, что выборки по конверсиям различаются, т.к. у них статистическая значимость равна 0.04. По относительному разиличию мы видим отличие в почти 26 и 14% между группами. "
   ]
  },
  {
   "cell_type": "markdown",
   "metadata": {},
   "source": [
    "---\n",
    "\n",
    "<div class=\"alert alert-block alert-success\">\n",
    "    \n",
    "\n",
    "### Комментарий ревьюера v2\n",
    "\n",
    "С выводами полностью согласен.\n",
    "    \n",
    "Совет: из контекста понятно, что именно ты имеешь в виду под нулевой гипотезой, а что под альтернативной. Но хорошая практика формулировать их в явном виде, что бы расчеты были прозрачнее. В следующих проектах учти это, пожалуйста ;)\n",
    "</div>\n",
    "\n",
    "---"
   ]
  },
  {
   "cell_type": "markdown",
   "metadata": {},
   "source": [
    "### Чистые данные <a id=\"step2.4.2\"></a>   "
   ]
  },
  {
   "cell_type": "code",
   "execution_count": 32,
   "metadata": {},
   "outputs": [],
   "source": [
    "pure_orders = orders[np.logical_not(orders['visitorId'].isin(anom_users))].reset_index()"
   ]
  },
  {
   "cell_type": "code",
   "execution_count": 33,
   "metadata": {},
   "outputs": [],
   "source": [
    "ordersA_filter = pure_orders[pure_orders['group'] == 'A'].groupby('date', as_index=False).agg({\n",
    "    'transactionId':'count', \n",
    "    'revenue':'sum'})\n",
    "ordersB_filter = pure_orders[pure_orders['group'] == 'B'].groupby('date', as_index=False).agg({\n",
    "    'transactionId':'count', \n",
    "    'revenue':'sum'})\n",
    "ordersA_filter.columns = ['date', 'orders', 'revenue']\n",
    "ordersB_filter.columns = ['date', 'orders', 'revenue']\n",
    "\n",
    "#присоединяем количество посетителей в группах\n",
    "ordersA_filter = ordersA_filter.merge(visitors[visitors['group'] == 'A'][['visitors', 'date']], on='date')\n",
    "ordersB_filter = ordersB_filter.merge(visitors[visitors['group'] == 'B'][['visitors', 'date']], on='date')"
   ]
  },
  {
   "cell_type": "markdown",
   "metadata": {},
   "source": [
    "<div style=\"border:solid green 2px; padding: 20px\"> <h1 style=\"color:green; margin-bottom:20px\">Комментарий от ученика</h1>\n",
    "\n",
    "Ошибку искала наверное полдня, вообще не видела)) Это наверное отдельный вид кайфа, когда у тебя ошибка и ты не понимаешь почему не работает и бац вроде нашел! Это очень крутое чувство! Самое забавное, что я эту же ошибку допустила во втором условии, когда отбирала посетителей по количеству заказов. В этом, к сожалению, вся я, типичная ошибка у меня(\n",
    "    \n",
    "Я переместила сбор аномальных посетителей выше в раздел \"Поиск аномалий\", там они показались мне логичнее. "
   ]
  },
  {
   "cell_type": "markdown",
   "metadata": {},
   "source": [
    "---\n",
    "\n",
    "\n",
    "\n",
    "<div class=\"alert alert-block alert-danger\">\n",
    "    \n",
    "\n",
    "### Комментарий ревьюера\n",
    "\n",
    "В преобразованиях есть ошибка. Подумай пожалуйста в чем она заключается.\n",
    "    \n",
    "Если хочешь, вернуться в к теории (Глава \"Анализ A/B-теста шаг за шагом\")\n",
    "</div>\n",
    "    \n",
    "---"
   ]
  },
  {
   "cell_type": "markdown",
   "metadata": {},
   "source": [
    "---\n",
    "\n",
    "<div class=\"alert alert-block alert-success\">\n",
    "    \n",
    "\n",
    "### Комментарий ревьюера v2\n",
    "Оффтоп :)   \n",
    "\n",
    "Классно, наверное отдельный вид кайфа для ревьюера, это видеть подобные комментарии. Я просто счастлив, что ты нашла такую сложнозапрятанную ошибку. \n",
    "    \n",
    "Было сложно и тебе понравилось, прямо как и обещали  ;)\n",
    "    \n",
    "</div>\n",
    "\n",
    "---"
   ]
  },
  {
   "cell_type": "code",
   "execution_count": 34,
   "metadata": {},
   "outputs": [
    {
     "name": "stdout",
     "output_type": "stream",
     "text": [
      "Статистическая значимость различий \"чистых\" данных в среднем чеке по группам: 0.35193\n",
      "Относительное различие в среднем чеке группы В относительно группы А: -0.57%\n",
      "Статистическая значимость различий \"чистых\" данных в конверсии по группам: 0.02096\n",
      "Относительное различие в конверсиях группы В относительно группы А: 18.08%\n"
     ]
    }
   ],
   "source": [
    "print('Статистическая значимость различий \"чистых\" данных в среднем чеке по группам: {:.5f}'.format(\n",
    "    st.mannwhitneyu(ordersA_filter['revenue'] / ordersA_filter['orders'],\n",
    "                    ordersB_filter['revenue'] / ordersB_filter['orders'])[1]))\n",
    "print('Относительное различие в среднем чеке группы В относительно группы А: {:.2%}'.format(\n",
    "    (ordersB_filter['revenue'].sum() / ordersB_filter['orders'].sum()) / \n",
    "    (ordersA_filter['revenue'].sum() / ordersA_filter['orders'].sum()) - 1))\n",
    "print('Статистическая значимость различий \"чистых\" данных в конверсии по группам: {:.5f}'.format(\n",
    "    st.mannwhitneyu(ordersA_filter['orders'] / ordersA_filter['visitors'],\n",
    "                    ordersB_filter['orders'] / ordersB_filter['visitors'])[1]))\n",
    "print('Относительное различие в конверсиях группы В относительно группы А: {:.2%}'.format(\n",
    "    (ordersB_filter['orders'].sum() / ordersB_filter['visitors'].sum()) /\n",
    "    (ordersA_filter['orders'].sum() / ordersA_filter['visitors'].sum()) - 1))"
   ]
  },
  {
   "cell_type": "markdown",
   "metadata": {},
   "source": [
    "После очистки от аномалий получается, что наши выборки между собой по среднему чеку не отличаются(мы не можем отвергнуть нулевую гипотезу о их равенстве). Относительное различие по среднему чеку неожиданно стало очень маленьким 0.57%. Конверсии наоборот стали различаться больше(сырые данные = 0.04, чистые данные = 0.02), зато относительное различие группы В увеличилось 4.27%  "
   ]
  },
  {
   "cell_type": "markdown",
   "metadata": {},
   "source": [
    "---\n",
    "\n",
    "\n",
    "\n",
    "<div class=\"alert alert-block alert-danger\">\n",
    "    \n",
    "\n",
    "### Комментарий ревьюера\n",
    "\n",
    "Расчеты основной части исследования немного смазались. Статический критерий `st.mannwhitneyu` выбран верно, но нет никакого объяснения почему именно он.\n",
    "    \n",
    "Предлагаю разделить расчеты на два логических блока: проверка различий по \"грязным\" данным на статистическую значимость и расчет в процентном отношении, а какие собственно различия выявлены?\n",
    "\n",
    "Затем проверка тех же метрик, но уже на чистых данных + так же растет в процентном соотношении получившихся различий + выводы.\n",
    "    \n",
    "Небольшая подсказка: грубо говоря на графике \"Относительное различия группы В от группы А по конверсии\" есть ответ по различию в конверсиях между группами, так ты можешь провести быструю проверку корректности расчетов.\n",
    "</div>\n",
    "    \n",
    "---"
   ]
  },
  {
   "cell_type": "markdown",
   "metadata": {},
   "source": [
    "---\n",
    "\n",
    "<div class=\"alert alert-block alert-success\">\n",
    "    \n",
    "\n",
    "### Комментарий ревьюера v2\n",
    "\n",
    "Отлично, расчеты по чистым данным так же корректны, молодец.\n",
    "</div>\n",
    "\n",
    "---"
   ]
  },
  {
   "cell_type": "markdown",
   "metadata": {},
   "source": [
    "### Общий вывод <a id=\"step2.5\"></a>"
   ]
  },
  {
   "cell_type": "markdown",
   "metadata": {},
   "source": [
    "Приоритизация гипотез в данном исследовании показала, что 7 и 0 гипотезы должна быть проверены в первую очередь, потому что по предварительным оценкам они должны дать более значимый результат, чем остальные. Дальше можно протестировать гипотезы 8 и 2.\n",
    "\n",
    "После всех рассчетов статистической значимости мы получаем, что группы А и В отличаются между собой по конверсиям, но значение среднего чека у них находится на одном положении. В данном случае мои рекомендации остановить тест и признать его половинчатый успех. Средний чек в группе В нам не удалось увеличить относительно группы А, но конверсия улучшилась. Я думаю, что можно попробовать развить гипотезу, чтобы средний чек увеличился, либо же применить ее там, где конверсия значительно больше влияет на результат. Можно привести пример всяческих стриминговых сервисов, где сумма подписки одинакова и тарифов обычно мало, но важно количество подписчиков. Чем больше конверсия и удержание в таких сервисах, тем больше выручка."
   ]
  },
  {
   "cell_type": "markdown",
   "metadata": {},
   "source": [
    "---\n",
    "\n",
    "\n",
    "\n",
    "<div class=\"alert alert-block alert-danger\">\n",
    "    \n",
    "\n",
    "### Комментарий ревьюера\n",
    "\n",
    "Отрази, пожалуйста в выводе все инсайты, полученные в исследовании (в том числе и в блоке приоритизации исследований). Дай пожалуйста, рекомендации, основанные на полученных данных, как дополнительный инпут для бизнеса.\n",
    "</div>\n",
    "    \n",
    "---"
   ]
  },
  {
   "cell_type": "markdown",
   "metadata": {},
   "source": [
    "---\n",
    "\n",
    "<div class=\"alert alert-block alert-success\">\n",
    "    \n",
    "\n",
    "### Комментарий ревьюера v2\n",
    "\n",
    "С выводами полностью согласен. Так как мы рассматриваем интернет магазин, а значит основная идея исследование -- это увеличение выручки\\дохода, то при равенстве средних чеков на первый план выходит конверсия.\n",
    "    \n",
    "Очень показательным для выводов был бы график кумулятивной выручки по чистым данным.\n",
    "</div>\n",
    "\n",
    "---"
   ]
  },
  {
   "cell_type": "markdown",
   "metadata": {},
   "source": [
    "---\n",
    "\n",
    "<div class=\"alert alert-block alert-warning\">\n",
    "    \n",
    "\n",
    "### Общий комментарий ревьюера v1\n",
    "\n",
    "Маргарита, у тебя получилась хорошая работа. Но есть несколько моментов, которые необходимо доработать.\n",
    "    \n",
    "* Все до части подготовки данных к статистическому тесту -- идеально.\n",
    "Но начиная с блока \"Статистическая значимость\" нужно проверить корректность кода. Туда закралась небольшая ошибка, я думаю ты быстро разберешься в чем дело.\n",
    "* Статистические проверки немного смазались: нет объявленных нулевой и альтернативной гипотезы, нет сравнения p_value с alpha, доработай эти моменты, пожалуйста.\n",
    "* Вывод -- это одна из основных частей работы, добавь туда, пожалуйста, все инсайты полученные в результате исследования и рекомендации основанные на полученных данных.\n",
    "\n",
    "Что можно улучшить?\n",
    "    \n",
    "* Можно прокачать графики, используя библиотеку `plotly` https://plotly.com/python/bar-charts/ в будущих проектах может пригодиться ;)\n",
    "* По форматированию текста советую посмотреть небольшую статью по `markdown` https://guides.hexlet.io/markdown/\n",
    "* Для выводов небольшого текста прямиком из кода можно использовать f-строки, чтобы немного автоматизировать это процесс :) https://shultais.education/blog/python-f-strings\n",
    "* чтобы инициализировать функции на ходу посмотри небольшую статью про `lambda`  функции https://webdevblog.ru/kak-ispolzovat-v-python-lyambda-funkcii/ так твой код станет еще мощнее.\n",
    "    \n",
    "На что еще можно обратить внимание?\n",
    "\n",
    "* Почитай про множественные проверки гипотез и какое негативное влияние они могут оказать на результаты теста\n",
    "* Вспомни что такое ошибка первого и второго рода\n",
    "* В АБ тестах есть еще одна важная проверка -- проверка на пересечение групп. Необходимо убедиться что нет таких пользователей, которые ошибочно попали в две и более группы.\n",
    "    \n",
    "Исправь, пожалуйста, \"красный\" комментарий, настоятельно (но не обязательно) рекомендую проработать \"желтыми\" тоже. Присылай работу на вторую итерацию, удачи!\n",
    "    \n",
    "ps: не забывай оставлять свои комментарии к работе\n",
    "\n",
    "    \n",
    "<img src=\"https://fishki.net/upload/users/2019/03/24/861736/e026346eb5c6162715eee38bd28f1d00.jpg\" width=\"300\">\n",
    "</div>\n",
    "\n",
    "---"
   ]
  },
  {
   "cell_type": "markdown",
   "metadata": {},
   "source": [
    "---\n",
    "\n",
    "<div class=\"alert alert-block alert-success\">\n",
    "    \n",
    "\n",
    "### Общий комментарий ревьюера v2\n",
    "\n",
    "Большое спасибо за проработанные комментарии. Моментов, критично влияющих на работу не осталось.\n",
    "    \n",
    "Поздравляю с завершение исследования. Успехов в дальнейшем обучении!\n",
    "    \n",
    "    \n",
    "<img src=\"https://pbs.twimg.com/media/EI16NdHX0AA8Bdg.jpg\" width=\"300\">\n",
    "\n",
    "</div>\n",
    "\n",
    "---"
   ]
  },
  {
   "cell_type": "markdown",
   "metadata": {},
   "source": [
    "### Список пунктов, которые нужно выполнить\n",
    "\n",
    "1. [x] Постройте график кумулятивной выручки по группам. Сделайте выводы и предположения.\n",
    "2. [x] Постройте график кумулятивного среднего чека по группам. Сделайте выводы и предположения.\n",
    "3. [x] Постройте график относительного изменения кумулятивного среднего чека группы B к группе A. Сделайте выводы и предположения.\n",
    "- [x] Постройте график кумулятивной конверсии по группам. Сделайте выводы и предположения.\n",
    "- [x] Постройте график относительного изменения кумулятивной конверсии группы B к группе A. Сделайте выводы и предположения.\n",
    "- [x] Постройте точечный график количества заказов по пользователям. Сделайте выводы и предположения.\n",
    "- [x] Посчитайте 95-й и 99-й перцентили количества заказов на пользователя. Выберите границу для определения аномальных пользователей.\n",
    "- [x] Постройте точечный график стоимостей заказов. Сделайте выводы и предположения.\n",
    "- [x] Посчитайте 95-й и 99-й перцентили стоимости заказов. Выберите границу для определения аномальных заказов.\n",
    "- [x] Посчитайте статистическую значимость различий в конверсии между группами по «сырым» данным. Сделайте выводы и предположения.\n",
    "- [x] Посчитайте статистическую значимость различий в среднем чеке заказа между группами по «сырым» данным. Сделайте выводы и предположения.\n",
    "- [x] Посчитайте статистическую значимость различий в конверсии между группами по «очищенным» данным. Сделайте выводы и предположения.\n",
    "- [x] Посчитайте статистическую значимость различий в среднем чеке заказа между группами по «очищенным» данным. Сделайте выводы и предположения.\n",
    "- [X] Примите решение по результатам теста и объясните его. Варианты решений: 1. Остановить тест, зафиксировать победу одной из групп. 2. Остановить тест, зафиксировать отсутствие различий между группами. 3. Продолжить тест.\n",
    "\n"
   ]
  }
 ],
 "metadata": {
  "kernelspec": {
   "display_name": "Python 3",
   "language": "python",
   "name": "python3"
  },
  "language_info": {
   "codemirror_mode": {
    "name": "ipython",
    "version": 3
   },
   "file_extension": ".py",
   "mimetype": "text/x-python",
   "name": "python",
   "nbconvert_exporter": "python",
   "pygments_lexer": "ipython3",
   "version": "3.8.3"
  }
 },
 "nbformat": 4,
 "nbformat_minor": 2
}

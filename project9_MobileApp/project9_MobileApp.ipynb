{
 "cells": [
  {
   "cell_type": "markdown",
   "metadata": {},
   "source": [
    "## Описание проекта\n",
    "Нужно изучить поведение пользователей мобильного приложения. Также нужно изучить воронку продаж, чтобы понять, где есть \"узкие\" места. После всего нужно проанализировать результаты А/А/В-тестирования. Эксперимент был в том, чтобы изменить шрифты во всем приложении.\n",
    "\n",
    "## Описание данных\n",
    "\n",
    "Каждая запись в логе — это действие пользователя, или событие.\n",
    "- EventName — название события;\n",
    "- DeviceIDHash **— уникальный идентификатор пользователя;\n",
    "- EventTimestamp — время события;\n",
    "- ExpId — номер эксперимента: 246 и 247 — контрольные группы, а 248 — экспериментальная.\n",
    "\n",
    "## План проекта\n",
    "\n",
    "1. Открыть датасет, посмотреть на пропуски, названия колонок, типы данных. Подготовить датасет к дальнейшей обработке\n",
    "2. Проверка данных: сколько событий и пользователей, какой временной диапазон у нас есть, проверка данных эксперимента\n",
    "3. Изучение воронки событий\n",
    "4. Проверка эксперимента А/А/В-тестирования"
   ]
  },
  {
   "cell_type": "code",
   "execution_count": 38,
   "metadata": {},
   "outputs": [],
   "source": [
    "import pandas as pd\n",
    "import numpy as np\n",
    "import datetime\n",
    "import matplotlib.pyplot as plt\n",
    "import seaborn as sns\n",
    "from plotly import graph_objects as go\n",
    "from scipy import stats as st\n",
    "import math as mth\n",
    "import plotly.io as pio"
   ]
  },
  {
   "cell_type": "markdown",
   "metadata": {},
   "source": [
    "## Предобработка данных <a id='step1'></a>"
   ]
  },
  {
   "cell_type": "code",
   "execution_count": 2,
   "metadata": {},
   "outputs": [],
   "source": [
    "#Локалка\n",
    "df = pd.read_csv('C://Users/Ритер/Desktop/Практикум/datasets/logs_exp.csv', sep='\\t')"
   ]
  },
  {
   "cell_type": "code",
   "execution_count": 3,
   "metadata": {},
   "outputs": [],
   "source": [
    "def vision_df(list_df):\n",
    "    for i in list_df:\n",
    "        print('----------------------------DataFrame---------------------------------')\n",
    "        print()\n",
    "        print('Info', i.info())\n",
    "        print()\n",
    "        print()\n",
    "        for col in i.columns:\n",
    "            print(f'Duplicate in {col}: {i[col].duplicated().sum()}')\n",
    "        print()\n",
    "        display(i.head())\n",
    "        print('------------------------------------------------------------------------')\n",
    "        print('------------------------------------------------------------------------')"
   ]
  },
  {
   "cell_type": "code",
   "execution_count": 4,
   "metadata": {},
   "outputs": [
    {
     "name": "stdout",
     "output_type": "stream",
     "text": [
      "----------------------------DataFrame---------------------------------\n",
      "\n",
      "<class 'pandas.core.frame.DataFrame'>\n",
      "RangeIndex: 244126 entries, 0 to 244125\n",
      "Data columns (total 4 columns):\n",
      " #   Column          Non-Null Count   Dtype \n",
      "---  ------          --------------   ----- \n",
      " 0   EventName       244126 non-null  object\n",
      " 1   DeviceIDHash    244126 non-null  int64 \n",
      " 2   EventTimestamp  244126 non-null  int64 \n",
      " 3   ExpId           244126 non-null  int64 \n",
      "dtypes: int64(3), object(1)\n",
      "memory usage: 7.5+ MB\n",
      "Info None\n",
      "\n",
      "\n",
      "Duplicate in EventName: 244121\n",
      "Duplicate in DeviceIDHash: 236575\n",
      "Duplicate in EventTimestamp: 67472\n",
      "Duplicate in ExpId: 244123\n",
      "\n"
     ]
    },
    {
     "data": {
      "text/html": [
       "<div>\n",
       "<style scoped>\n",
       "    .dataframe tbody tr th:only-of-type {\n",
       "        vertical-align: middle;\n",
       "    }\n",
       "\n",
       "    .dataframe tbody tr th {\n",
       "        vertical-align: top;\n",
       "    }\n",
       "\n",
       "    .dataframe thead th {\n",
       "        text-align: right;\n",
       "    }\n",
       "</style>\n",
       "<table border=\"1\" class=\"dataframe\">\n",
       "  <thead>\n",
       "    <tr style=\"text-align: right;\">\n",
       "      <th></th>\n",
       "      <th>EventName</th>\n",
       "      <th>DeviceIDHash</th>\n",
       "      <th>EventTimestamp</th>\n",
       "      <th>ExpId</th>\n",
       "    </tr>\n",
       "  </thead>\n",
       "  <tbody>\n",
       "    <tr>\n",
       "      <th>0</th>\n",
       "      <td>MainScreenAppear</td>\n",
       "      <td>4575588528974610257</td>\n",
       "      <td>1564029816</td>\n",
       "      <td>246</td>\n",
       "    </tr>\n",
       "    <tr>\n",
       "      <th>1</th>\n",
       "      <td>MainScreenAppear</td>\n",
       "      <td>7416695313311560658</td>\n",
       "      <td>1564053102</td>\n",
       "      <td>246</td>\n",
       "    </tr>\n",
       "    <tr>\n",
       "      <th>2</th>\n",
       "      <td>PaymentScreenSuccessful</td>\n",
       "      <td>3518123091307005509</td>\n",
       "      <td>1564054127</td>\n",
       "      <td>248</td>\n",
       "    </tr>\n",
       "    <tr>\n",
       "      <th>3</th>\n",
       "      <td>CartScreenAppear</td>\n",
       "      <td>3518123091307005509</td>\n",
       "      <td>1564054127</td>\n",
       "      <td>248</td>\n",
       "    </tr>\n",
       "    <tr>\n",
       "      <th>4</th>\n",
       "      <td>PaymentScreenSuccessful</td>\n",
       "      <td>6217807653094995999</td>\n",
       "      <td>1564055322</td>\n",
       "      <td>248</td>\n",
       "    </tr>\n",
       "  </tbody>\n",
       "</table>\n",
       "</div>"
      ],
      "text/plain": [
       "                 EventName         DeviceIDHash  EventTimestamp  ExpId\n",
       "0         MainScreenAppear  4575588528974610257      1564029816    246\n",
       "1         MainScreenAppear  7416695313311560658      1564053102    246\n",
       "2  PaymentScreenSuccessful  3518123091307005509      1564054127    248\n",
       "3         CartScreenAppear  3518123091307005509      1564054127    248\n",
       "4  PaymentScreenSuccessful  6217807653094995999      1564055322    248"
      ]
     },
     "metadata": {},
     "output_type": "display_data"
    },
    {
     "name": "stdout",
     "output_type": "stream",
     "text": [
      "------------------------------------------------------------------------\n",
      "------------------------------------------------------------------------\n"
     ]
    }
   ],
   "source": [
    "list_df = [df]\n",
    "vision_df(list_df)"
   ]
  },
  {
   "cell_type": "code",
   "execution_count": 5,
   "metadata": {},
   "outputs": [],
   "source": [
    "df.columns = ['event', 'id', 'full_time', 'group']"
   ]
  },
  {
   "cell_type": "code",
   "execution_count": 6,
   "metadata": {},
   "outputs": [],
   "source": [
    "df['full_time'] = df['full_time'].apply(lambda x: datetime.datetime.fromtimestamp(x).isoformat())"
   ]
  },
  {
   "cell_type": "code",
   "execution_count": 7,
   "metadata": {},
   "outputs": [],
   "source": [
    "df['full_time'] = pd.to_datetime(df['full_time'], format='%Y-%m-%dT%H:%M:%S')\n",
    "df['date'] = df['full_time'].dt.date\n",
    "df['date'] = df['date'].astype('datetime64')"
   ]
  },
  {
   "cell_type": "code",
   "execution_count": 8,
   "metadata": {},
   "outputs": [
    {
     "name": "stdout",
     "output_type": "stream",
     "text": [
      "Количество дубликатов по всем колонкам 413 шт. или 0.17 %\n"
     ]
    }
   ],
   "source": [
    "print('Количество дубликатов по всем колонкам', df[['event', 'id', 'group', 'full_time']].duplicated().sum(), 'шт. или', \\\n",
    "      round(df[['event', 'id', 'group', 'full_time']].duplicated().sum() / len(df) * 100, 2), '%')"
   ]
  },
  {
   "cell_type": "code",
   "execution_count": 9,
   "metadata": {},
   "outputs": [],
   "source": [
    "df = df.drop_duplicates(subset=['event', 'id', 'group', 'full_time']).reset_index(drop=True)"
   ]
  },
  {
   "cell_type": "code",
   "execution_count": 10,
   "metadata": {},
   "outputs": [
    {
     "name": "stdout",
     "output_type": "stream",
     "text": [
      "<class 'pandas.core.frame.DataFrame'>\n",
      "RangeIndex: 243713 entries, 0 to 243712\n",
      "Data columns (total 5 columns):\n",
      " #   Column     Non-Null Count   Dtype         \n",
      "---  ------     --------------   -----         \n",
      " 0   event      243713 non-null  object        \n",
      " 1   id         243713 non-null  int64         \n",
      " 2   full_time  243713 non-null  datetime64[ns]\n",
      " 3   group      243713 non-null  int64         \n",
      " 4   date       243713 non-null  datetime64[ns]\n",
      "dtypes: datetime64[ns](2), int64(2), object(1)\n",
      "memory usage: 9.3+ MB\n"
     ]
    }
   ],
   "source": [
    "df.info()"
   ]
  },
  {
   "cell_type": "markdown",
   "metadata": {},
   "source": [
    "### Вывод по разделу\n",
    "Типы данных изначального датасета нам подходят, кроме колонки с датой и временем. Ее я преобразовала в колонку с датой *date*. Пропусков у нас не было. Но были дубликаты. 413 дубликатов по всем колонкам кроме колонки *date*. Даже если учитывать, что у нас мобильное приложение и пользователь может повторять действия, то пользователь не мог совершить одно и то же действие в одно и то же время."
   ]
  },
  {
   "cell_type": "markdown",
   "metadata": {},
   "source": [
    "## Анализ данных <a id='step2'></a>"
   ]
  },
  {
   "cell_type": "code",
   "execution_count": 11,
   "metadata": {},
   "outputs": [
    {
     "name": "stdout",
     "output_type": "stream",
     "text": [
      "Всего событий 243713 шт.\n",
      "Количество пользователей: 7551 шт.\n"
     ]
    }
   ],
   "source": [
    "print('Всего событий', df['event'].count(), 'шт.')\n",
    "print('Количество пользователей:', len(df['id'].unique()), 'шт.')"
   ]
  },
  {
   "cell_type": "code",
   "execution_count": 12,
   "metadata": {},
   "outputs": [
    {
     "name": "stdout",
     "output_type": "stream",
     "text": [
      "Среднее количество событий на 1 пользователя: 32\n",
      "Медиана количества событий на 1 пользователя: 20\n",
      "\n",
      "Квартили:\n"
     ]
    },
    {
     "data": {
      "text/plain": [
       "0.25     9.0\n",
       "0.75    37.0\n",
       "Name: event, dtype: float64"
      ]
     },
     "execution_count": 12,
     "metadata": {},
     "output_type": "execute_result"
    }
   ],
   "source": [
    "print('Среднее количество событий на 1 пользователя:', \\\n",
    "      round(df.groupby('id').agg({'event':'count'}).reset_index()['event'].mean()))\n",
    "print('Медиана количества событий на 1 пользователя:', \\\n",
    "      round(df.groupby('id').agg({'event':'count'}).reset_index()['event'].median()))\n",
    "print()\n",
    "print('Квартили:')\n",
    "df.groupby('id').agg({'event':'count'}).reset_index()['event'].quantile([0.25, 0.75])"
   ]
  },
  {
   "cell_type": "code",
   "execution_count": 13,
   "metadata": {},
   "outputs": [
    {
     "data": {
      "image/png": "[encoded data removed]",
      "text/plain": [
       "<Figure size 720x576 with 1 Axes>"
      ]
     },
     "metadata": {
      "needs_background": "light"
     },
     "output_type": "display_data"
    },
    {
     "data": {
      "image/png": "[encoded data removed]",
      "text/plain": [
       "<Figure size 720x576 with 1 Axes>"
      ]
     },
     "metadata": {
      "needs_background": "light"
     },
     "output_type": "display_data"
    }
   ],
   "source": [
    "df.groupby('id').agg({'event':'count'}).reset_index().boxplot('event', figsize=(10, 8))\n",
    "plt.title('Яищк с усами количества событий на 1 пользователя')\n",
    "plt.show()\n",
    "df.groupby('id').agg({'event':'count'}).reset_index().boxplot('event', figsize=(10, 8))\n",
    "plt.title('Яищк с усами количества событий на 1 пользователя до 200 событий')\n",
    "plt.ylim(0, 200)\n",
    "plt.show()"
   ]
  },
  {
   "cell_type": "code",
   "execution_count": 14,
   "metadata": {},
   "outputs": [
    {
     "name": "stdout",
     "output_type": "stream",
     "text": [
      "Минимальная дата: 2019-07-25 00:00:00\n",
      "Максимальная дата: 2019-08-08 00:00:00\n"
     ]
    },
    {
     "data": {
      "image/png": "[encoded data removed]",
      "text/plain": [
       "<Figure size 720x576 with 1 Axes>"
      ]
     },
     "metadata": {
      "needs_background": "light"
     },
     "output_type": "display_data"
    }
   ],
   "source": [
    "print('Минимальная дата:', df['date'].min())\n",
    "print('Максимальная дата:', df['date'].max())\n",
    "\n",
    "df['date'].hist(figsize=(10,8))\n",
    "plt.title('Гистограмма дат')\n",
    "plt.xticks(rotation=60)\n",
    "plt.show()"
   ]
  },
  {
   "cell_type": "markdown",
   "metadata": {},
   "source": [
    "Период, который есть, начинается 25 июля 2019 и заканчивается 8 августа 2019 года. Но на гистограмме выше видно, что до 1 августа у нас было совершено очень мало событий. Поэтому отбросим все события, которые происходили раньше 1 августа 2019 года. После отбора мы почти ничего не потеряли. \n",
    "После отсеивания июльских событий пользователей из группы B стало больше, по сравнению с другими группами. Но представители всех групп у нас присутствуют."
   ]
  },
  {
   "cell_type": "code",
   "execution_count": 15,
   "metadata": {},
   "outputs": [
    {
     "data": {
      "text/html": [
       "<div>\n",
       "<style scoped>\n",
       "    .dataframe tbody tr th:only-of-type {\n",
       "        vertical-align: middle;\n",
       "    }\n",
       "\n",
       "    .dataframe tbody tr th {\n",
       "        vertical-align: top;\n",
       "    }\n",
       "\n",
       "    .dataframe thead th {\n",
       "        text-align: right;\n",
       "    }\n",
       "</style>\n",
       "<table border=\"1\" class=\"dataframe\">\n",
       "  <thead>\n",
       "    <tr style=\"text-align: right;\">\n",
       "      <th></th>\n",
       "      <th>event</th>\n",
       "      <th>id</th>\n",
       "      <th>full_time</th>\n",
       "      <th>group</th>\n",
       "      <th>date</th>\n",
       "    </tr>\n",
       "  </thead>\n",
       "  <tbody>\n",
       "    <tr>\n",
       "      <th>1989</th>\n",
       "      <td>MainScreenAppear</td>\n",
       "      <td>7701922487875823903</td>\n",
       "      <td>2019-08-01 00:00:57</td>\n",
       "      <td>247</td>\n",
       "      <td>2019-08-01</td>\n",
       "    </tr>\n",
       "    <tr>\n",
       "      <th>1990</th>\n",
       "      <td>MainScreenAppear</td>\n",
       "      <td>2539077412200498909</td>\n",
       "      <td>2019-08-01 00:01:45</td>\n",
       "      <td>247</td>\n",
       "      <td>2019-08-01</td>\n",
       "    </tr>\n",
       "    <tr>\n",
       "      <th>1991</th>\n",
       "      <td>OffersScreenAppear</td>\n",
       "      <td>3286987355161301427</td>\n",
       "      <td>2019-08-01 00:02:21</td>\n",
       "      <td>248</td>\n",
       "      <td>2019-08-01</td>\n",
       "    </tr>\n",
       "    <tr>\n",
       "      <th>1992</th>\n",
       "      <td>OffersScreenAppear</td>\n",
       "      <td>3187166762535343300</td>\n",
       "      <td>2019-08-01 00:02:23</td>\n",
       "      <td>247</td>\n",
       "      <td>2019-08-01</td>\n",
       "    </tr>\n",
       "    <tr>\n",
       "      <th>1993</th>\n",
       "      <td>MainScreenAppear</td>\n",
       "      <td>1118952406011435924</td>\n",
       "      <td>2019-08-01 00:03:25</td>\n",
       "      <td>248</td>\n",
       "      <td>2019-08-01</td>\n",
       "    </tr>\n",
       "  </tbody>\n",
       "</table>\n",
       "</div>"
      ],
      "text/plain": [
       "                   event                   id           full_time  group  \\\n",
       "1989    MainScreenAppear  7701922487875823903 2019-08-01 00:00:57    247   \n",
       "1990    MainScreenAppear  2539077412200498909 2019-08-01 00:01:45    247   \n",
       "1991  OffersScreenAppear  3286987355161301427 2019-08-01 00:02:21    248   \n",
       "1992  OffersScreenAppear  3187166762535343300 2019-08-01 00:02:23    247   \n",
       "1993    MainScreenAppear  1118952406011435924 2019-08-01 00:03:25    248   \n",
       "\n",
       "           date  \n",
       "1989 2019-08-01  \n",
       "1990 2019-08-01  \n",
       "1991 2019-08-01  \n",
       "1992 2019-08-01  \n",
       "1993 2019-08-01  "
      ]
     },
     "execution_count": 15,
     "metadata": {},
     "output_type": "execute_result"
    }
   ],
   "source": [
    "normal = df.loc[df.loc[:,'date'] >= \"2019-08-01\"]\n",
    "normal.head()"
   ]
  },
  {
   "cell_type": "code",
   "execution_count": 16,
   "metadata": {},
   "outputs": [
    {
     "name": "stdout",
     "output_type": "stream",
     "text": [
      "Всего событий в чистом датасете: 241724 шт.\n",
      "Количество пользователей в чистом датасете: 7538 шт.\n",
      "\n",
      "Количество пользователей, которых потеряли после чистки: 13 шт. или 0.17 %\n",
      "Количество событий, которые потеряли после чистки: 1989 шт. или 0.82 %\n",
      "\n",
      "Группы ждя эксперимента после чистки: [247 248 246]\n"
     ]
    }
   ],
   "source": [
    "print('Всего событий в чистом датасете:', normal['event'].count(), 'шт.')\n",
    "print('Количество пользователей в чистом датасете:', len(normal['id'].unique()), 'шт.')\n",
    "print()\n",
    "print('Количество пользователей, которых потеряли после чистки:', len(df['id'].unique()) - len(normal['id'].unique()), \\\n",
    "      'шт. или', round((len(df['id'].unique()) - len(normal['id'].unique())) / len(df['id'].unique()) * 100, 2), '%')\n",
    "print('Количество событий, которые потеряли после чистки:', df['event'].count() - normal['event'].count(), 'шт. или', \\\n",
    "      round((df['event'].count() - normal['event'].count()) / df['event'].count() * 100, 2), '%')\n",
    "print()\n",
    "print('Группы ждя эксперимента после чистки:', normal['group'].unique())"
   ]
  },
  {
   "cell_type": "markdown",
   "metadata": {},
   "source": [
    "Пользователей у нас 7551 шт. На каждого в среднем приходится 32 события, если рассматривать медиану, то 20 событий. Лучше медиану использовать, т.к. есть пользователи, которые совершили больше 2000 событий. Основная же масса совершила от 9 до 37 событий. После чистки мы потеряли совсем немного данных."
   ]
  },
  {
   "cell_type": "markdown",
   "metadata": {},
   "source": [
    "### Вывод по разделу\n",
    "\n",
    "Данные для чистки я выбрала только по дате, т.е. убрала весь июль из датасета. После чистки у нас остались все 3 группы для эксперимента. Потери после чистки незначительные: 0,17% пользователей и 0,82% событий. Все группы эксперимента остались в чистом датасете.\n",
    "В основном, у нас пользователи совершают от 9 до 37 событий, но есть и такие, которые совершили больше 2000 событий. Я не убирала их при чистке, т.к. этих выбросов у нас много, они не единичные. Как я понимаю, это пользователи, которые делали много заказов в приложении."
   ]
  },
  {
   "cell_type": "markdown",
   "metadata": {},
   "source": [
    "## Воронка событий <a id='step3'></a>"
   ]
  },
  {
   "cell_type": "code",
   "execution_count": 17,
   "metadata": {},
   "outputs": [
    {
     "name": "stdout",
     "output_type": "stream",
     "text": [
      "Уникальные события: ['MainScreenAppear' 'PaymentScreenSuccessful' 'CartScreenAppear'\n",
      " 'OffersScreenAppear' 'Tutorial']\n"
     ]
    }
   ],
   "source": [
    "print('Уникальные события:', df['event'].unique())"
   ]
  },
  {
   "cell_type": "code",
   "execution_count": 18,
   "metadata": {},
   "outputs": [
    {
     "data": {
      "text/html": [
       "<div>\n",
       "<style scoped>\n",
       "    .dataframe tbody tr th:only-of-type {\n",
       "        vertical-align: middle;\n",
       "    }\n",
       "\n",
       "    .dataframe tbody tr th {\n",
       "        vertical-align: top;\n",
       "    }\n",
       "\n",
       "    .dataframe thead th {\n",
       "        text-align: right;\n",
       "    }\n",
       "</style>\n",
       "<table border=\"1\" class=\"dataframe\">\n",
       "  <thead>\n",
       "    <tr style=\"text-align: right;\">\n",
       "      <th></th>\n",
       "      <th>event</th>\n",
       "      <th>num_event</th>\n",
       "      <th>num_users</th>\n",
       "      <th>part_users</th>\n",
       "    </tr>\n",
       "  </thead>\n",
       "  <tbody>\n",
       "    <tr>\n",
       "      <th>1</th>\n",
       "      <td>MainScreenAppear</td>\n",
       "      <td>117889</td>\n",
       "      <td>7423</td>\n",
       "      <td>98</td>\n",
       "    </tr>\n",
       "    <tr>\n",
       "      <th>2</th>\n",
       "      <td>OffersScreenAppear</td>\n",
       "      <td>46531</td>\n",
       "      <td>4597</td>\n",
       "      <td>61</td>\n",
       "    </tr>\n",
       "    <tr>\n",
       "      <th>0</th>\n",
       "      <td>CartScreenAppear</td>\n",
       "      <td>42343</td>\n",
       "      <td>3736</td>\n",
       "      <td>50</td>\n",
       "    </tr>\n",
       "    <tr>\n",
       "      <th>3</th>\n",
       "      <td>PaymentScreenSuccessful</td>\n",
       "      <td>33951</td>\n",
       "      <td>3540</td>\n",
       "      <td>47</td>\n",
       "    </tr>\n",
       "    <tr>\n",
       "      <th>4</th>\n",
       "      <td>Tutorial</td>\n",
       "      <td>1010</td>\n",
       "      <td>843</td>\n",
       "      <td>11</td>\n",
       "    </tr>\n",
       "  </tbody>\n",
       "</table>\n",
       "</div>"
      ],
      "text/plain": [
       "                     event  num_event  num_users  part_users\n",
       "1         MainScreenAppear     117889       7423          98\n",
       "2       OffersScreenAppear      46531       4597          61\n",
       "0         CartScreenAppear      42343       3736          50\n",
       "3  PaymentScreenSuccessful      33951       3540          47\n",
       "4                 Tutorial       1010        843          11"
      ]
     },
     "execution_count": 18,
     "metadata": {},
     "output_type": "execute_result"
    }
   ],
   "source": [
    "events = normal.groupby('event').agg({'id': ['count', 'nunique']}).reset_index()\n",
    "events.columns = ['event', 'num_event', 'num_users']\n",
    "#делю на количество уникальных пользователей в чистом датасете\n",
    "events['part_users'] = round(events['num_users'] / 7538 * 100) \n",
    "events['part_users'] = events['part_users'].astype('int64')\n",
    "events = events.sort_values('num_event', ascending=False)\n",
    "events"
   ]
  },
  {
   "cell_type": "code",
   "execution_count": 19,
   "metadata": {},
   "outputs": [
    {
     "data": {
      "image/png": "[encoded data removed]",
      "text/plain": [
       "<Figure size 432x288 with 1 Axes>"
      ]
     },
     "metadata": {},
     "output_type": "display_data"
    }
   ],
   "source": [
    "sns.set(style=\"whitegrid\")\n",
    "sns.barplot(x='event', y='num_event', data=events.sort_values('num_event'))\n",
    "plt.title('Частота событий')\n",
    "plt.xticks(rotation=60)\n",
    "plt.ylabel('частота')\n",
    "plt.xlabel('событие')\n",
    "plt.show()"
   ]
  },
  {
   "cell_type": "markdown",
   "metadata": {},
   "source": [
    "Этот путь похож на цепочку, которую проходит обычный пользователь до целевого события - успешной оплаты. \n",
    "Больше всего (117889 шт) было просмотров главной страницы. Дальше уже по убывающей идут события \"просмотр предложений\" - \"корзина\" - \"успешная оплата\". Меньше всего пользователи просматривают страницу с руководством. Скорее всего приложение интуитивно понятно и не так много возникает вопросов, чтобы воспользоваться руководством. Думаю, что в воронке это событие я использовать не буду.\n",
    "\n",
    "Т.к. выше таблица содержала только сведения о том, сколько пользователей совершило событие, то для понимания пути пользователя нужно посчитать сколько пользователей мы теряем на каждом этапе по пути:\n",
    "1. Зашел на главную страницу\n",
    "2. Зашел на страницу с предложениями\n",
    "3. Зашел в корзину\n",
    "4. Увидел страницу с успешной оплатой\n",
    "\n",
    "Сделаю датасет без события **Tutorial** и дальше посчитаю количество пользователей"
   ]
  },
  {
   "cell_type": "code",
   "execution_count": 20,
   "metadata": {},
   "outputs": [
    {
     "data": {
      "text/html": [
       "<div>\n",
       "<style scoped>\n",
       "    .dataframe tbody tr th:only-of-type {\n",
       "        vertical-align: middle;\n",
       "    }\n",
       "\n",
       "    .dataframe tbody tr th {\n",
       "        vertical-align: top;\n",
       "    }\n",
       "\n",
       "    .dataframe thead th {\n",
       "        text-align: right;\n",
       "    }\n",
       "</style>\n",
       "<table border=\"1\" class=\"dataframe\">\n",
       "  <thead>\n",
       "    <tr style=\"text-align: right;\">\n",
       "      <th></th>\n",
       "      <th>event</th>\n",
       "      <th>id</th>\n",
       "      <th>full_time</th>\n",
       "      <th>group</th>\n",
       "      <th>date</th>\n",
       "    </tr>\n",
       "  </thead>\n",
       "  <tbody>\n",
       "    <tr>\n",
       "      <th>1989</th>\n",
       "      <td>MainScreenAppear</td>\n",
       "      <td>7701922487875823903</td>\n",
       "      <td>2019-08-01 00:00:57</td>\n",
       "      <td>247</td>\n",
       "      <td>2019-08-01</td>\n",
       "    </tr>\n",
       "    <tr>\n",
       "      <th>1990</th>\n",
       "      <td>MainScreenAppear</td>\n",
       "      <td>2539077412200498909</td>\n",
       "      <td>2019-08-01 00:01:45</td>\n",
       "      <td>247</td>\n",
       "      <td>2019-08-01</td>\n",
       "    </tr>\n",
       "    <tr>\n",
       "      <th>1991</th>\n",
       "      <td>OffersScreenAppear</td>\n",
       "      <td>3286987355161301427</td>\n",
       "      <td>2019-08-01 00:02:21</td>\n",
       "      <td>248</td>\n",
       "      <td>2019-08-01</td>\n",
       "    </tr>\n",
       "    <tr>\n",
       "      <th>1992</th>\n",
       "      <td>OffersScreenAppear</td>\n",
       "      <td>3187166762535343300</td>\n",
       "      <td>2019-08-01 00:02:23</td>\n",
       "      <td>247</td>\n",
       "      <td>2019-08-01</td>\n",
       "    </tr>\n",
       "    <tr>\n",
       "      <th>1993</th>\n",
       "      <td>MainScreenAppear</td>\n",
       "      <td>1118952406011435924</td>\n",
       "      <td>2019-08-01 00:03:25</td>\n",
       "      <td>248</td>\n",
       "      <td>2019-08-01</td>\n",
       "    </tr>\n",
       "    <tr>\n",
       "      <th>...</th>\n",
       "      <td>...</td>\n",
       "      <td>...</td>\n",
       "      <td>...</td>\n",
       "      <td>...</td>\n",
       "      <td>...</td>\n",
       "    </tr>\n",
       "    <tr>\n",
       "      <th>243708</th>\n",
       "      <td>MainScreenAppear</td>\n",
       "      <td>4599628364049201812</td>\n",
       "      <td>2019-08-08 00:12:25</td>\n",
       "      <td>247</td>\n",
       "      <td>2019-08-08</td>\n",
       "    </tr>\n",
       "    <tr>\n",
       "      <th>243709</th>\n",
       "      <td>MainScreenAppear</td>\n",
       "      <td>5849806612437486590</td>\n",
       "      <td>2019-08-08 00:13:59</td>\n",
       "      <td>246</td>\n",
       "      <td>2019-08-08</td>\n",
       "    </tr>\n",
       "    <tr>\n",
       "      <th>243710</th>\n",
       "      <td>MainScreenAppear</td>\n",
       "      <td>5746969938801999050</td>\n",
       "      <td>2019-08-08 00:14:43</td>\n",
       "      <td>246</td>\n",
       "      <td>2019-08-08</td>\n",
       "    </tr>\n",
       "    <tr>\n",
       "      <th>243711</th>\n",
       "      <td>MainScreenAppear</td>\n",
       "      <td>5746969938801999050</td>\n",
       "      <td>2019-08-08 00:14:58</td>\n",
       "      <td>246</td>\n",
       "      <td>2019-08-08</td>\n",
       "    </tr>\n",
       "    <tr>\n",
       "      <th>243712</th>\n",
       "      <td>OffersScreenAppear</td>\n",
       "      <td>5746969938801999050</td>\n",
       "      <td>2019-08-08 00:15:17</td>\n",
       "      <td>246</td>\n",
       "      <td>2019-08-08</td>\n",
       "    </tr>\n",
       "  </tbody>\n",
       "</table>\n",
       "<p>240714 rows × 5 columns</p>\n",
       "</div>"
      ],
      "text/plain": [
       "                     event                   id           full_time  group  \\\n",
       "1989      MainScreenAppear  7701922487875823903 2019-08-01 00:00:57    247   \n",
       "1990      MainScreenAppear  2539077412200498909 2019-08-01 00:01:45    247   \n",
       "1991    OffersScreenAppear  3286987355161301427 2019-08-01 00:02:21    248   \n",
       "1992    OffersScreenAppear  3187166762535343300 2019-08-01 00:02:23    247   \n",
       "1993      MainScreenAppear  1118952406011435924 2019-08-01 00:03:25    248   \n",
       "...                    ...                  ...                 ...    ...   \n",
       "243708    MainScreenAppear  4599628364049201812 2019-08-08 00:12:25    247   \n",
       "243709    MainScreenAppear  5849806612437486590 2019-08-08 00:13:59    246   \n",
       "243710    MainScreenAppear  5746969938801999050 2019-08-08 00:14:43    246   \n",
       "243711    MainScreenAppear  5746969938801999050 2019-08-08 00:14:58    246   \n",
       "243712  OffersScreenAppear  5746969938801999050 2019-08-08 00:15:17    246   \n",
       "\n",
       "             date  \n",
       "1989   2019-08-01  \n",
       "1990   2019-08-01  \n",
       "1991   2019-08-01  \n",
       "1992   2019-08-01  \n",
       "1993   2019-08-01  \n",
       "...           ...  \n",
       "243708 2019-08-08  \n",
       "243709 2019-08-08  \n",
       "243710 2019-08-08  \n",
       "243711 2019-08-08  \n",
       "243712 2019-08-08  \n",
       "\n",
       "[240714 rows x 5 columns]"
      ]
     },
     "execution_count": 20,
     "metadata": {},
     "output_type": "execute_result"
    }
   ],
   "source": [
    "without_tut = normal[normal['event'] != 'Tutorial']\n",
    "without_tut"
   ]
  },
  {
   "cell_type": "code",
   "execution_count": 21,
   "metadata": {},
   "outputs": [
    {
     "data": {
      "text/html": [
       "<div>\n",
       "<style scoped>\n",
       "    .dataframe tbody tr th:only-of-type {\n",
       "        vertical-align: middle;\n",
       "    }\n",
       "\n",
       "    .dataframe tbody tr th {\n",
       "        vertical-align: top;\n",
       "    }\n",
       "\n",
       "    .dataframe thead th {\n",
       "        text-align: right;\n",
       "    }\n",
       "</style>\n",
       "<table border=\"1\" class=\"dataframe\">\n",
       "  <thead>\n",
       "    <tr style=\"text-align: right;\">\n",
       "      <th>event</th>\n",
       "      <th>CartScreenAppear</th>\n",
       "      <th>MainScreenAppear</th>\n",
       "      <th>OffersScreenAppear</th>\n",
       "      <th>PaymentScreenSuccessful</th>\n",
       "    </tr>\n",
       "    <tr>\n",
       "      <th>id</th>\n",
       "      <th></th>\n",
       "      <th></th>\n",
       "      <th></th>\n",
       "      <th></th>\n",
       "    </tr>\n",
       "  </thead>\n",
       "  <tbody>\n",
       "    <tr>\n",
       "      <th>6888746892508752</th>\n",
       "      <td>NaT</td>\n",
       "      <td>2019-08-06 17:06:34</td>\n",
       "      <td>NaT</td>\n",
       "      <td>NaT</td>\n",
       "    </tr>\n",
       "    <tr>\n",
       "      <th>6909561520679493</th>\n",
       "      <td>2019-08-06 21:52:58</td>\n",
       "      <td>2019-08-06 21:52:54</td>\n",
       "      <td>2019-08-06 21:53:04</td>\n",
       "      <td>2019-08-06 21:52:58</td>\n",
       "    </tr>\n",
       "    <tr>\n",
       "      <th>6922444491712477</th>\n",
       "      <td>2019-08-04 17:19:40</td>\n",
       "      <td>2019-08-04 17:19:33</td>\n",
       "      <td>2019-08-04 17:19:46</td>\n",
       "      <td>2019-08-04 17:19:40</td>\n",
       "    </tr>\n",
       "    <tr>\n",
       "      <th>7435777799948366</th>\n",
       "      <td>NaT</td>\n",
       "      <td>2019-08-05 11:06:34</td>\n",
       "      <td>NaT</td>\n",
       "      <td>NaT</td>\n",
       "    </tr>\n",
       "    <tr>\n",
       "      <th>7702139951469979</th>\n",
       "      <td>2019-08-02 17:28:45</td>\n",
       "      <td>2019-08-01 07:29:54</td>\n",
       "      <td>2019-08-01 07:29:56</td>\n",
       "      <td>2019-08-02 17:28:45</td>\n",
       "    </tr>\n",
       "  </tbody>\n",
       "</table>\n",
       "</div>"
      ],
      "text/plain": [
       "event               CartScreenAppear    MainScreenAppear  OffersScreenAppear  \\\n",
       "id                                                                             \n",
       "6888746892508752                 NaT 2019-08-06 17:06:34                 NaT   \n",
       "6909561520679493 2019-08-06 21:52:58 2019-08-06 21:52:54 2019-08-06 21:53:04   \n",
       "6922444491712477 2019-08-04 17:19:40 2019-08-04 17:19:33 2019-08-04 17:19:46   \n",
       "7435777799948366                 NaT 2019-08-05 11:06:34                 NaT   \n",
       "7702139951469979 2019-08-02 17:28:45 2019-08-01 07:29:54 2019-08-01 07:29:56   \n",
       "\n",
       "event            PaymentScreenSuccessful  \n",
       "id                                        \n",
       "6888746892508752                     NaT  \n",
       "6909561520679493     2019-08-06 21:52:58  \n",
       "6922444491712477     2019-08-04 17:19:40  \n",
       "7435777799948366                     NaT  \n",
       "7702139951469979     2019-08-02 17:28:45  "
      ]
     },
     "execution_count": 21,
     "metadata": {},
     "output_type": "execute_result"
    }
   ],
   "source": [
    "users = without_tut.pivot_table(index='id', columns='event', values='full_time', aggfunc='min')\n",
    "users.head()"
   ]
  },
  {
   "cell_type": "code",
   "execution_count": 22,
   "metadata": {},
   "outputs": [
    {
     "data": {
      "text/html": [
       "<div>\n",
       "<style scoped>\n",
       "    .dataframe tbody tr th:only-of-type {\n",
       "        vertical-align: middle;\n",
       "    }\n",
       "\n",
       "    .dataframe tbody tr th {\n",
       "        vertical-align: top;\n",
       "    }\n",
       "\n",
       "    .dataframe thead th {\n",
       "        text-align: right;\n",
       "    }\n",
       "</style>\n",
       "<table border=\"1\" class=\"dataframe\">\n",
       "  <thead>\n",
       "    <tr style=\"text-align: right;\">\n",
       "      <th></th>\n",
       "      <th>event</th>\n",
       "      <th>user_amount</th>\n",
       "    </tr>\n",
       "  </thead>\n",
       "  <tbody>\n",
       "    <tr>\n",
       "      <th>0</th>\n",
       "      <td>главный экран</td>\n",
       "      <td>7423</td>\n",
       "    </tr>\n",
       "    <tr>\n",
       "      <th>1</th>\n",
       "      <td>товары</td>\n",
       "      <td>4203</td>\n",
       "    </tr>\n",
       "    <tr>\n",
       "      <th>2</th>\n",
       "      <td>корзина</td>\n",
       "      <td>1781</td>\n",
       "    </tr>\n",
       "    <tr>\n",
       "      <th>3</th>\n",
       "      <td>платеж</td>\n",
       "      <td>458</td>\n",
       "    </tr>\n",
       "  </tbody>\n",
       "</table>\n",
       "</div>"
      ],
      "text/plain": [
       "           event  user_amount\n",
       "0  главный экран         7423\n",
       "1         товары         4203\n",
       "2        корзина         1781\n",
       "3         платеж          458"
      ]
     },
     "execution_count": 22,
     "metadata": {},
     "output_type": "execute_result"
    }
   ],
   "source": [
    "step_1 = ~users['MainScreenAppear'].isna()\n",
    "step_2 = step_1 & (users['OffersScreenAppear'] > users['MainScreenAppear'])\n",
    "step_3 = step_2 & (users['CartScreenAppear'] > users['OffersScreenAppear'])\n",
    "step_4 = step_3 & (users['PaymentScreenSuccessful'] > users['CartScreenAppear'])\n",
    "\n",
    "num_main_scr = users[step_1].shape[0]\n",
    "num_offers = users[step_2].shape[0]\n",
    "num_cart = users[step_3].shape[0]\n",
    "num_payment = users[step_4].shape[0]\n",
    "\n",
    "head = ['event', 'user_amount']\n",
    "data = [['главный экран', num_main_scr], ['товары', num_offers], ['корзина', num_cart], ['платеж', num_payment]]\n",
    "\n",
    "funnel_users = pd.DataFrame(columns=head, data=data)\n",
    "funnel_users"
   ]
  },
  {
   "cell_type": "code",
   "execution_count": 23,
   "metadata": {},
   "outputs": [
    {
     "data": {
      "text/html": [
       "<div>\n",
       "<style scoped>\n",
       "    .dataframe tbody tr th:only-of-type {\n",
       "        vertical-align: middle;\n",
       "    }\n",
       "\n",
       "    .dataframe tbody tr th {\n",
       "        vertical-align: top;\n",
       "    }\n",
       "\n",
       "    .dataframe thead th {\n",
       "        text-align: right;\n",
       "    }\n",
       "</style>\n",
       "<table border=\"1\" class=\"dataframe\">\n",
       "  <thead>\n",
       "    <tr style=\"text-align: right;\">\n",
       "      <th></th>\n",
       "      <th>event</th>\n",
       "      <th>user_amount</th>\n",
       "      <th>prev_rate</th>\n",
       "      <th>init_rate</th>\n",
       "    </tr>\n",
       "  </thead>\n",
       "  <tbody>\n",
       "    <tr>\n",
       "      <th>0</th>\n",
       "      <td>главный экран</td>\n",
       "      <td>7423</td>\n",
       "      <td>100</td>\n",
       "      <td>100</td>\n",
       "    </tr>\n",
       "    <tr>\n",
       "      <th>1</th>\n",
       "      <td>товары</td>\n",
       "      <td>4203</td>\n",
       "      <td>-43</td>\n",
       "      <td>57</td>\n",
       "    </tr>\n",
       "    <tr>\n",
       "      <th>2</th>\n",
       "      <td>корзина</td>\n",
       "      <td>1781</td>\n",
       "      <td>-58</td>\n",
       "      <td>24</td>\n",
       "    </tr>\n",
       "    <tr>\n",
       "      <th>3</th>\n",
       "      <td>платеж</td>\n",
       "      <td>458</td>\n",
       "      <td>-74</td>\n",
       "      <td>6</td>\n",
       "    </tr>\n",
       "  </tbody>\n",
       "</table>\n",
       "</div>"
      ],
      "text/plain": [
       "           event  user_amount  prev_rate  init_rate\n",
       "0  главный экран         7423        100        100\n",
       "1         товары         4203        -43         57\n",
       "2        корзина         1781        -58         24\n",
       "3         платеж          458        -74          6"
      ]
     },
     "execution_count": 23,
     "metadata": {},
     "output_type": "execute_result"
    }
   ],
   "source": [
    "funnel_users['prev_rate'] = funnel_users['user_amount'].pct_change()\n",
    "funnel_users['prev_rate'] = round(funnel_users['prev_rate'] * 100)\n",
    "funnel_users = funnel_users.fillna(100)\n",
    "funnel_users['prev_rate'] = funnel_users['prev_rate'].astype('int64')\n",
    "funnel_users['init_rate'] = funnel_users['user_amount'].apply(lambda x: round(x / funnel_users['user_amount'][0] * 100))\n",
    "funnel_users['init_rate'] = funnel_users['init_rate'].astype('int64')\n",
    "funnel_users"
   ]
  },
  {
   "cell_type": "code",
   "execution_count": 39,
   "metadata": {},
   "outputs": [
    {
     "data": {
      "image/svg+xml": [
       "<svg class=\"main-svg\" xmlns=\"http://www.w3.org/2000/svg\" xmlns:xlink=\"http://www.w3.org/1999/xlink\" width=\"700\" height=\"450\" style=\"\" viewBox=\"0 0 700 450\"><rect x=\"0\" y=\"0\" width=\"700\" height=\"450\" style=\"fill: rgb(255, 255, 255); fill-opacity: 1;\"/><defs id=\"defs-7e447f\"><g class=\"clips\"><clipPath id=\"clip7e447fxyplot\" class=\"plotclip\"><rect width=\"512\" height=\"270\"/></clipPath><clipPath class=\"axesclip\" id=\"clip7e447fx\"><rect x=\"108\" y=\"0\" width=\"512\" height=\"450\"/></clipPath><clipPath class=\"axesclip\" id=\"clip7e447fy\"><rect x=\"0\" y=\"100\" width=\"700\" height=\"270\"/></clipPath><clipPath class=\"axesclip\" id=\"clip7e447fxy\"><rect x=\"108\" y=\"100\" width=\"512\" height=\"270\"/></clipPath></g><g class=\"gradients\"/></defs><g class=\"bglayer\"><rect class=\"bg\" x=\"108\" y=\"100\" width=\"512\" height=\"270\" style=\"fill: rgb(229, 236, 246); fill-opacity: 1; stroke-width: 0;\"/></g><g class=\"layer-below\"><g class=\"imagelayer\"/><g class=\"shapelayer\"/></g><g class=\"cartesianlayer\"><g class=\"subplot xy\"><g class=\"layer-subplot\"><g class=\"shapelayer\"/><g class=\"imagelayer\"/></g><g class=\"gridlayer\"><g class=\"x\"/><g class=\"y\"><path class=\"ygrid crisp\" transform=\"translate(0,336.25)\" d=\"M108,0h512\" style=\"stroke: rgb(255, 255, 255); stroke-opacity: 1; stroke-width: 1px;\"/><path class=\"ygrid crisp\" transform=\"translate(0,268.75)\" d=\"M108,0h512\" style=\"stroke: rgb(255, 255, 255); stroke-opacity: 1; stroke-width: 1px;\"/><path class=\"ygrid crisp\" transform=\"translate(0,201.25)\" d=\"M108,0h512\" style=\"stroke: rgb(255, 255, 255); stroke-opacity: 1; stroke-width: 1px;\"/><path class=\"ygrid crisp\" transform=\"translate(0,133.75)\" d=\"M108,0h512\" style=\"stroke: rgb(255, 255, 255); stroke-opacity: 1; stroke-width: 1px;\"/></g></g><g class=\"zerolinelayer\"/><path class=\"xlines-below\"/><path class=\"ylines-below\"/><g class=\"overlines-below\"/><g class=\"xaxislayer-below\"/><g class=\"yaxislayer-below\"/><g class=\"overaxes-below\"/><g class=\"plot\" transform=\"translate(108, 100)\" clip-path=\"url('#clip7e447fxyplot')\"><g class=\"funnellayer mlayer\"><g class=\"trace bars\" style=\"opacity: 1;\"><g class=\"regions\"><g class=\"region\"><path d=\"M25.6,60.75L125.54,74.25H386.46L486.4,60.75Z\" style=\"stroke-width: 0; fill: rgb(99, 110, 250); fill-opacity: 0.5;\"/></g><g class=\"region\"><path d=\"M125.54,128.25L200.72,141.75H311.28L386.46,128.25Z\" style=\"stroke-width: 0; fill: rgb(99, 110, 250); fill-opacity: 0.5;\"/></g><g class=\"region\"><path d=\"M200.72,195.75L241.78,209.25H270.22L311.28,195.75Z\" style=\"stroke-width: 0; fill: rgb(99, 110, 250); fill-opacity: 0.5;\"/></g><g class=\"region\"><path d=\"M0,0Z\" style=\"stroke-width: 0; fill: rgb(99, 110, 250); fill-opacity: 0.5;\"/></g></g><g class=\"points\"><g class=\"point\"><path d=\"M25.6,6.75V60.75H486.4V6.75Z\" style=\"vector-effect: non-scaling-stroke; fill: rgb(99, 110, 250); fill-opacity: 1; stroke: rgb(68, 68, 68); stroke-opacity: 1; stroke-width: 0px; opacity: 1;\"/><text class=\"bartext bartext-inside\" text-anchor=\"middle\" data-notex=\"1\" x=\"0\" y=\"0\" style=\"font-family: 'Open Sans', verdana, arial, sans-serif; font-size: 12px; fill: rgb(255, 255, 255); fill-opacity: 1; white-space: pre;\" transform=\"translate(255.625,22.6484375)\"><tspan class=\"line\" dy=\"0em\" x=\"0\" y=\"0\">7423</tspan><tspan class=\"line\" dy=\"1.3em\" x=\"0\" y=\"0\">100% of initial</tspan><tspan class=\"line\" dy=\"2.6em\" x=\"0\" y=\"0\">100% of previous</tspan></text></g><g class=\"point\"><path d=\"M125.54,74.25V128.25H386.46V74.25Z\" style=\"vector-effect: non-scaling-stroke; fill: rgb(99, 110, 250); fill-opacity: 1; stroke: rgb(68, 68, 68); stroke-opacity: 1; stroke-width: 0px; opacity: 1;\"/><text class=\"bartext bartext-inside\" text-anchor=\"middle\" data-notex=\"1\" x=\"0\" y=\"0\" style=\"font-family: 'Open Sans', verdana, arial, sans-serif; font-size: 12px; fill: rgb(255, 255, 255); fill-opacity: 1; white-space: pre;\" transform=\"translate(255.625,90.1484375)\"><tspan class=\"line\" dy=\"0em\" x=\"0\" y=\"0\">4203</tspan><tspan class=\"line\" dy=\"1.3em\" x=\"0\" y=\"0\">57% of initial</tspan><tspan class=\"line\" dy=\"2.6em\" x=\"0\" y=\"0\">57% of previous</tspan></text></g><g class=\"point\"><path d=\"M200.72,141.75V195.75H311.28V141.75Z\" style=\"vector-effect: non-scaling-stroke; fill: rgb(99, 110, 250); fill-opacity: 1; stroke: rgb(68, 68, 68); stroke-opacity: 1; stroke-width: 0px; opacity: 1;\"/><text class=\"bartext bartext-inside\" text-anchor=\"middle\" data-notex=\"1\" x=\"0\" y=\"0\" style=\"font-family: 'Open Sans', verdana, arial, sans-serif; font-size: 12px; fill: rgb(255, 255, 255); fill-opacity: 1; white-space: pre;\" transform=\"translate(255.625,157.6484375)\"><tspan class=\"line\" dy=\"0em\" x=\"0\" y=\"0\">1781</tspan><tspan class=\"line\" dy=\"1.3em\" x=\"0\" y=\"0\">24% of initial</tspan><tspan class=\"line\" dy=\"2.6em\" x=\"0\" y=\"0\">42% of previous</tspan></text></g><g class=\"point\"><path d=\"M241.78,209.25V263.25H270.22V209.25Z\" style=\"vector-effect: non-scaling-stroke; fill: rgb(99, 110, 250); fill-opacity: 1; stroke: rgb(68, 68, 68); stroke-opacity: 1; stroke-width: 0px; opacity: 1;\"/><text class=\"bartext bartext-outside\" text-anchor=\"middle\" data-notex=\"1\" x=\"0\" y=\"0\" style=\"font-family: 'Open Sans', verdana, arial, sans-serif; font-size: 12px; fill: rgb(42, 63, 95); fill-opacity: 1; white-space: pre;\" transform=\"translate(322.923125,225.1484375)\"><tspan class=\"line\" dy=\"0em\" x=\"0\" y=\"0\">458</tspan><tspan class=\"line\" dy=\"1.3em\" x=\"0\" y=\"0\">6% of initial</tspan><tspan class=\"line\" dy=\"2.6em\" x=\"0\" y=\"0\">26% of previous</tspan></text></g></g></g></g></g><g class=\"overplot\"/><path class=\"xlines-above crisp\" d=\"M0,0\" style=\"fill: none;\"/><path class=\"ylines-above crisp\" d=\"M107.5,100V370\" style=\"fill: none; stroke-width: 1px; stroke: rgb(255, 255, 255); stroke-opacity: 1;\"/><g class=\"overlines-above\"/><g class=\"xaxislayer-above\"/><g class=\"yaxislayer-above\"><g class=\"ytick\"><text text-anchor=\"end\" x=\"104.6\" y=\"4.199999999999999\" transform=\"translate(0,336.25)\" style=\"font-family: 'Open Sans', verdana, arial, sans-serif; font-size: 12px; fill: rgb(42, 63, 95); fill-opacity: 1; white-space: pre;\">платеж</text></g><g class=\"ytick\"><text text-anchor=\"end\" x=\"104.6\" y=\"4.199999999999999\" transform=\"translate(0,268.75)\" style=\"font-family: 'Open Sans', verdana, arial, sans-serif; font-size: 12px; fill: rgb(42, 63, 95); fill-opacity: 1; white-space: pre;\">корзина</text></g><g class=\"ytick\"><text text-anchor=\"end\" x=\"104.6\" y=\"4.199999999999999\" transform=\"translate(0,201.25)\" style=\"font-family: 'Open Sans', verdana, arial, sans-serif; font-size: 12px; fill: rgb(42, 63, 95); fill-opacity: 1; white-space: pre;\">товары</text></g><g class=\"ytick\"><text text-anchor=\"end\" x=\"104.6\" y=\"4.199999999999999\" transform=\"translate(0,133.75)\" style=\"font-family: 'Open Sans', verdana, arial, sans-serif; font-size: 12px; fill: rgb(42, 63, 95); fill-opacity: 1; white-space: pre;\">главный экран</text></g></g><g class=\"overaxes-above\"/></g></g><g class=\"polarlayer\"/><g class=\"ternarylayer\"/><g class=\"geolayer\"/><g class=\"funnelarealayer\"/><g class=\"pielayer\"/><g class=\"treemaplayer\"/><g class=\"sunburstlayer\"/><g class=\"glimages\"/><defs id=\"topdefs-7e447f\"><g class=\"clips\"/></defs><g class=\"layer-above\"><g class=\"imagelayer\"/><g class=\"shapelayer\"/></g><g class=\"infolayer\"><g class=\"g-gtitle\"><text class=\"gtitle\" x=\"35\" y=\"50\" text-anchor=\"start\" dy=\"0em\" style=\"font-family: 'Open Sans', verdana, arial, sans-serif; font-size: 17px; fill: rgb(42, 63, 95); opacity: 1; font-weight: normal; white-space: pre;\">Количество пользователей, которые проходят воронку событий</text></g><g class=\"g-ytitle\"/></g></svg>"
      ]
     },
     "metadata": {},
     "output_type": "display_data"
    }
   ],
   "source": [
    "fig = go.Figure(go.Funnel(y=funnel_users['event'], x=funnel_users['user_amount'], \\\n",
    "                          textinfo = \"value+percent initial+percent previous\"))\n",
    "fig.update_layout(title_text='Количество пользователей, которые проходят воронку событий')\n",
    "fig.show(renderer=\"svg\")"
   ]
  },
  {
   "cell_type": "markdown",
   "metadata": {},
   "source": [
    "Посчитав сколько у нас \"отваливается\" людей на каждом этапе и построив график, мы понимаем, что от всего объема (7423 пользователей) до страницы с успешным платежом доходит только 6% 458 пользователей. Больше всего пользователей мы теряем после третьего этапа — корзина. Т.е. покупатели формируют свою корзину, но не оформляют заказ дальше."
   ]
  },
  {
   "cell_type": "markdown",
   "metadata": {},
   "source": [
    "### Вывод по разделу\n",
    "\n",
    "Всего у нас событий 5 шт: \n",
    "- **Tutorial** — чтение руководства\n",
    "- **MainScreenAppear** — пользователь зашел на главный экран\n",
    "- **OffersScreenAppear** — пользователь зашел на экран с предложениями\n",
    "- **CartScreenAppear** — пользователь зашел в корзину\n",
    "- **PaymentScreenSuccessful** — пользователь увидел экран с успешной оплатой\n",
    "\n",
    "Пользователи почти не заходят на страницу с руководством. К тому же заход на эту страницу не является обязательным условием для того, чтобы приобрести продукты в приложении. Поэтому это событие я исключила из воронки. \n",
    "Самое \"частое\" событие у нас это посещение главного экрана, что в целом логично, потому что это начало пути пользователя. Это событие совершило 98% пользователей. Самое важное и целевое событие - \"успешный платеж\" совершили 47% пользователей, т.е. чуть меньше половины.\n",
    "Рассмотрев воронку событий мы увидели, что больше всего человек мы теряем как раз при переходе с экрана корзины на экран успешного платежа. Получается, что у нас многие просто не оформляют дальше заказ. Нужно понять этот момент. Может есть проблема в том, чтобы оплатить(нет удобного способа оплаты)? Или же может условия для оформления заказа для некоторых не подходят? В разных сервисах есть инструмент \"брошенная корзина\" это напоминание пользователям, что они закинули товары в корзину, но оформили заказ. Т.к. у нас это мобильное приложение, то можно слать пуши, а не только уведомление на email."
   ]
  },
  {
   "cell_type": "markdown",
   "metadata": {},
   "source": [
    "## А/А/В-тестирование <a id='step4'></a>"
   ]
  },
  {
   "cell_type": "code",
   "execution_count": 25,
   "metadata": {},
   "outputs": [
    {
     "name": "stdout",
     "output_type": "stream",
     "text": [
      "Количество пользователей из первой А - группы(246): 79239 шт.\n",
      "Количество пользователей из второй А - группы(247): 76953 шт.\n",
      "Количество пользователей из В - группы(248): 84522 шт.\n"
     ]
    }
   ],
   "source": [
    "print('Количество пользователей из первой А - группы(246):', len(without_tut[without_tut['group'] == 246]), 'шт.')\n",
    "print('Количество пользователей из второй А - группы(247):', len(without_tut[without_tut['group'] == 247]), 'шт.')\n",
    "print('Количество пользователей из В - группы(248):', len(without_tut[without_tut['group'] == 248]), 'шт.')"
   ]
  },
  {
   "cell_type": "markdown",
   "metadata": {},
   "source": [
    "Количество пользователей после чистки в разных группах не одинаковое. Нужно проверить эти группы для корректности проверки гипотез. Проверю две группы А на нормальность, все таки они у нас выступают контрольными. Проверять будут с помощью приведения к z-значению, при среднем равным нулю и стандартном отклонении равным единице. Формула ниже.\n",
    "\n",
    "**Нулевая гипотеза:** две группы равны между собой.\\\n",
    "**Альтернативная гипотеза:** две группы НЕ равны между собой.\n",
    "\n",
    "$$Z = \\frac{(P₁ - P₂) - (π₁ - π₂)}{\\sqrt{P(1 - P)(1/n₁ + 1/n₂)}}$$"
   ]
  },
  {
   "cell_type": "code",
   "execution_count": 26,
   "metadata": {},
   "outputs": [
    {
     "name": "stdout",
     "output_type": "stream",
     "text": [
      "Группа А 246\n"
     ]
    },
    {
     "data": {
      "text/html": [
       "<div>\n",
       "<style scoped>\n",
       "    .dataframe tbody tr th:only-of-type {\n",
       "        vertical-align: middle;\n",
       "    }\n",
       "\n",
       "    .dataframe tbody tr th {\n",
       "        vertical-align: top;\n",
       "    }\n",
       "\n",
       "    .dataframe thead th {\n",
       "        text-align: right;\n",
       "    }\n",
       "</style>\n",
       "<table border=\"1\" class=\"dataframe\">\n",
       "  <thead>\n",
       "    <tr style=\"text-align: right;\">\n",
       "      <th></th>\n",
       "      <th>event</th>\n",
       "      <th>id</th>\n",
       "    </tr>\n",
       "  </thead>\n",
       "  <tbody>\n",
       "    <tr>\n",
       "      <th>0</th>\n",
       "      <td>CartScreenAppear</td>\n",
       "      <td>1266</td>\n",
       "    </tr>\n",
       "    <tr>\n",
       "      <th>1</th>\n",
       "      <td>MainScreenAppear</td>\n",
       "      <td>2450</td>\n",
       "    </tr>\n",
       "    <tr>\n",
       "      <th>2</th>\n",
       "      <td>OffersScreenAppear</td>\n",
       "      <td>1542</td>\n",
       "    </tr>\n",
       "    <tr>\n",
       "      <th>3</th>\n",
       "      <td>PaymentScreenSuccessful</td>\n",
       "      <td>1200</td>\n",
       "    </tr>\n",
       "  </tbody>\n",
       "</table>\n",
       "</div>"
      ],
      "text/plain": [
       "                     event    id\n",
       "0         CartScreenAppear  1266\n",
       "1         MainScreenAppear  2450\n",
       "2       OffersScreenAppear  1542\n",
       "3  PaymentScreenSuccessful  1200"
      ]
     },
     "metadata": {},
     "output_type": "display_data"
    },
    {
     "name": "stdout",
     "output_type": "stream",
     "text": [
      "Группа А 247\n"
     ]
    },
    {
     "data": {
      "text/html": [
       "<div>\n",
       "<style scoped>\n",
       "    .dataframe tbody tr th:only-of-type {\n",
       "        vertical-align: middle;\n",
       "    }\n",
       "\n",
       "    .dataframe tbody tr th {\n",
       "        vertical-align: top;\n",
       "    }\n",
       "\n",
       "    .dataframe thead th {\n",
       "        text-align: right;\n",
       "    }\n",
       "</style>\n",
       "<table border=\"1\" class=\"dataframe\">\n",
       "  <thead>\n",
       "    <tr style=\"text-align: right;\">\n",
       "      <th></th>\n",
       "      <th>event</th>\n",
       "      <th>id</th>\n",
       "    </tr>\n",
       "  </thead>\n",
       "  <tbody>\n",
       "    <tr>\n",
       "      <th>0</th>\n",
       "      <td>CartScreenAppear</td>\n",
       "      <td>1239</td>\n",
       "    </tr>\n",
       "    <tr>\n",
       "      <th>1</th>\n",
       "      <td>MainScreenAppear</td>\n",
       "      <td>2479</td>\n",
       "    </tr>\n",
       "    <tr>\n",
       "      <th>2</th>\n",
       "      <td>OffersScreenAppear</td>\n",
       "      <td>1524</td>\n",
       "    </tr>\n",
       "    <tr>\n",
       "      <th>3</th>\n",
       "      <td>PaymentScreenSuccessful</td>\n",
       "      <td>1158</td>\n",
       "    </tr>\n",
       "  </tbody>\n",
       "</table>\n",
       "</div>"
      ],
      "text/plain": [
       "                     event    id\n",
       "0         CartScreenAppear  1239\n",
       "1         MainScreenAppear  2479\n",
       "2       OffersScreenAppear  1524\n",
       "3  PaymentScreenSuccessful  1158"
      ]
     },
     "metadata": {},
     "output_type": "display_data"
    }
   ],
   "source": [
    "#формирую датасеты по группам\n",
    "norm_246 = without_tut[without_tut['group'] == 246]\n",
    "norm_247 = without_tut[without_tut['group'] == 247]\n",
    "\n",
    "#группирую по событиям\n",
    "event_246 = norm_246.groupby('event').agg({'id':'nunique'}).reset_index()\n",
    "event_247 = norm_247.groupby('event').agg({'id':'nunique'}).reset_index()\n",
    "\n",
    "print('Группа А 246')\n",
    "display(event_246)\n",
    "print('Группа А 247')\n",
    "display(event_247)"
   ]
  },
  {
   "cell_type": "code",
   "execution_count": 27,
   "metadata": {},
   "outputs": [],
   "source": [
    "#создам цикл, который будет перебирать значения событий в обоих группах, чтобы выдать результат проверки о равенстве долей\n",
    "def z_value(df1, df2, alpha):\n",
    "    for i in range(0,4):\n",
    "        #проверка того, что я сравниваю одинаковые события в обоих фреймах\n",
    "        if df1['event'][i] == df2['event'][i]: \n",
    "            successes = np.array([df1['id'][i], df2['id'][i]])\n",
    "            trials = np.array([df1['id'].sum(), df2['id'].sum()])\n",
    "\n",
    "            p1 = successes[0]/trials[0]\n",
    "            p2 = successes[1]/trials[1]\n",
    "\n",
    "            p_combined = (successes[0] + successes[1]) / (trials[0] + trials[1])\n",
    "            difference = p1 - p2\n",
    "\n",
    "            z_value = difference / mth.sqrt(p_combined * (1 - p_combined) * (1/trials[0] + 1/trials[1]))\n",
    "            distr = st.norm(0, 1)\n",
    "\n",
    "            p_value = (1 - distr.cdf(abs(z_value))) * 2\n",
    "\n",
    "            print(f'Проверка события {df1[\"event\"][i]} с критическим уровнем стат.значимости {alpha} ')\n",
    "            print('p-значение: ', p_value)\n",
    "            if (p_value < alpha):\n",
    "                print(\"Отвергаем нулевую гипотезу: между долями есть значимая разница\")\n",
    "            else:\n",
    "                print(\"Не получилось отвергнуть нулевую гипотезу, нет оснований считать доли разными\")\n",
    "            print('----------------------------------------------------------------------------------')\n",
    "        else:\n",
    "            print('Перепутала события в фреймах')"
   ]
  },
  {
   "cell_type": "code",
   "execution_count": 28,
   "metadata": {},
   "outputs": [
    {
     "name": "stdout",
     "output_type": "stream",
     "text": [
      "Проверка события CartScreenAppear с критическим уровнем стат.значимости 0.01 \n",
      "p-значение:  0.7266425345832479\n",
      "Не получилось отвергнуть нулевую гипотезу, нет оснований считать доли разными\n",
      "----------------------------------------------------------------------------------\n",
      "Проверка события MainScreenAppear с критическим уровнем стат.значимости 0.01 \n",
      "p-значение:  0.35273029774368636\n",
      "Не получилось отвергнуть нулевую гипотезу, нет оснований считать доли разными\n",
      "----------------------------------------------------------------------------------\n",
      "Проверка события OffersScreenAppear с критическим уровнем стат.значимости 0.01 \n",
      "p-значение:  0.9312311695164079\n",
      "Не получилось отвергнуть нулевую гипотезу, нет оснований считать доли разными\n",
      "----------------------------------------------------------------------------------\n",
      "Проверка события PaymentScreenSuccessful с критическим уровнем стат.значимости 0.01 \n",
      "p-значение:  0.4747685576025602\n",
      "Не получилось отвергнуть нулевую гипотезу, нет оснований считать доли разными\n",
      "----------------------------------------------------------------------------------\n"
     ]
    }
   ],
   "source": [
    "z_value(event_246, event_247, 0.01)"
   ]
  },
  {
   "cell_type": "markdown",
   "metadata": {},
   "source": [
    "Судя по вычисленному p_value по всем событиям у нас нет оснований, чтобы считать группы 246 и 247 разными. т.е. обе наши контрольные группы подходят для того, чтобы сравнивать результаты А/В-теста с ними. Дальше буду сравнивать обе контрольные группы с экспериментальной."
   ]
  },
  {
   "cell_type": "code",
   "execution_count": 29,
   "metadata": {},
   "outputs": [
    {
     "name": "stdout",
     "output_type": "stream",
     "text": [
      "Группа В 248\n"
     ]
    },
    {
     "data": {
      "text/html": [
       "<div>\n",
       "<style scoped>\n",
       "    .dataframe tbody tr th:only-of-type {\n",
       "        vertical-align: middle;\n",
       "    }\n",
       "\n",
       "    .dataframe tbody tr th {\n",
       "        vertical-align: top;\n",
       "    }\n",
       "\n",
       "    .dataframe thead th {\n",
       "        text-align: right;\n",
       "    }\n",
       "</style>\n",
       "<table border=\"1\" class=\"dataframe\">\n",
       "  <thead>\n",
       "    <tr style=\"text-align: right;\">\n",
       "      <th></th>\n",
       "      <th>event</th>\n",
       "      <th>id</th>\n",
       "    </tr>\n",
       "  </thead>\n",
       "  <tbody>\n",
       "    <tr>\n",
       "      <th>0</th>\n",
       "      <td>CartScreenAppear</td>\n",
       "      <td>1231</td>\n",
       "    </tr>\n",
       "    <tr>\n",
       "      <th>1</th>\n",
       "      <td>MainScreenAppear</td>\n",
       "      <td>2494</td>\n",
       "    </tr>\n",
       "    <tr>\n",
       "      <th>2</th>\n",
       "      <td>OffersScreenAppear</td>\n",
       "      <td>1531</td>\n",
       "    </tr>\n",
       "    <tr>\n",
       "      <th>3</th>\n",
       "      <td>PaymentScreenSuccessful</td>\n",
       "      <td>1182</td>\n",
       "    </tr>\n",
       "  </tbody>\n",
       "</table>\n",
       "</div>"
      ],
      "text/plain": [
       "                     event    id\n",
       "0         CartScreenAppear  1231\n",
       "1         MainScreenAppear  2494\n",
       "2       OffersScreenAppear  1531\n",
       "3  PaymentScreenSuccessful  1182"
      ]
     },
     "metadata": {},
     "output_type": "display_data"
    },
    {
     "name": "stdout",
     "output_type": "stream",
     "text": [
      "Объединенные группы 246 и 247\n"
     ]
    },
    {
     "data": {
      "text/html": [
       "<div>\n",
       "<style scoped>\n",
       "    .dataframe tbody tr th:only-of-type {\n",
       "        vertical-align: middle;\n",
       "    }\n",
       "\n",
       "    .dataframe tbody tr th {\n",
       "        vertical-align: top;\n",
       "    }\n",
       "\n",
       "    .dataframe thead th {\n",
       "        text-align: right;\n",
       "    }\n",
       "</style>\n",
       "<table border=\"1\" class=\"dataframe\">\n",
       "  <thead>\n",
       "    <tr style=\"text-align: right;\">\n",
       "      <th></th>\n",
       "      <th>event</th>\n",
       "      <th>id</th>\n",
       "    </tr>\n",
       "  </thead>\n",
       "  <tbody>\n",
       "    <tr>\n",
       "      <th>0</th>\n",
       "      <td>CartScreenAppear</td>\n",
       "      <td>2505</td>\n",
       "    </tr>\n",
       "    <tr>\n",
       "      <th>1</th>\n",
       "      <td>MainScreenAppear</td>\n",
       "      <td>4929</td>\n",
       "    </tr>\n",
       "    <tr>\n",
       "      <th>2</th>\n",
       "      <td>OffersScreenAppear</td>\n",
       "      <td>3066</td>\n",
       "    </tr>\n",
       "    <tr>\n",
       "      <th>3</th>\n",
       "      <td>PaymentScreenSuccessful</td>\n",
       "      <td>2358</td>\n",
       "    </tr>\n",
       "  </tbody>\n",
       "</table>\n",
       "</div>"
      ],
      "text/plain": [
       "                     event    id\n",
       "0         CartScreenAppear  2505\n",
       "1         MainScreenAppear  4929\n",
       "2       OffersScreenAppear  3066\n",
       "3  PaymentScreenSuccessful  2358"
      ]
     },
     "metadata": {},
     "output_type": "display_data"
    }
   ],
   "source": [
    "#создам точно такой же датафрейм по группе В, что и в контрольных группах\n",
    "\n",
    "norm_248 = without_tut[without_tut['group'] == 248]\n",
    "event_248 = norm_248.groupby('event').agg({'id':'nunique'}).reset_index()\n",
    "print('Группа В 248')\n",
    "display(event_248)\n",
    "\n",
    "#создам также объединенный датафрем из друх контрольных групп А\n",
    "\n",
    "norm_246_247 = without_tut[(without_tut['group'] == 246) | (without_tut['group'] == 247)]\n",
    "event_246_247 = norm_246_247.groupby('event').agg({'id':'nunique'}).reset_index()\n",
    "print('Объединенные группы 246 и 247')\n",
    "display(event_246_247)"
   ]
  },
  {
   "cell_type": "code",
   "execution_count": 30,
   "metadata": {},
   "outputs": [
    {
     "name": "stdout",
     "output_type": "stream",
     "text": [
      "Проверка событий в группах А/В-теста (246 и 248)\n",
      "\n",
      "Проверка события CartScreenAppear с критическим уровнем стат.значимости 0.01 \n",
      "p-значение:  0.4878751132108463\n",
      "Не получилось отвергнуть нулевую гипотезу, нет оснований считать доли разными\n",
      "----------------------------------------------------------------------------------\n",
      "Проверка события MainScreenAppear с критическим уровнем стат.значимости 0.01 \n",
      "p-значение:  0.3493928459684199\n",
      "Не получилось отвергнуть нулевую гипотезу, нет оснований считать доли разными\n",
      "----------------------------------------------------------------------------------\n",
      "Проверка события OffersScreenAppear с критическим уровнем стат.значимости 0.01 \n",
      "p-значение:  0.8974717214906709\n",
      "Не получилось отвергнуть нулевую гипотезу, нет оснований считать доли разными\n",
      "----------------------------------------------------------------------------------\n",
      "Проверка события PaymentScreenSuccessful с критическим уровнем стат.значимости 0.01 \n",
      "p-значение:  0.7454624679658486\n",
      "Не получилось отвергнуть нулевую гипотезу, нет оснований считать доли разными\n",
      "----------------------------------------------------------------------------------\n",
      "\n",
      "\n",
      "Проверка событий в группах А/В-теста (247 и 248)\n",
      "\n",
      "Проверка события CartScreenAppear с критическим уровнем стат.значимости 0.01 \n",
      "p-значение:  0.7317368027910043\n",
      "Не получилось отвергнуть нулевую гипотезу, нет оснований считать доли разными\n",
      "----------------------------------------------------------------------------------\n",
      "Проверка события MainScreenAppear с критическим уровнем стат.значимости 0.01 \n",
      "p-значение:  0.9959509559248529\n",
      "Не получилось отвергнуть нулевую гипотезу, нет оснований считать доли разными\n",
      "----------------------------------------------------------------------------------\n",
      "Проверка события OffersScreenAppear с критическим уровнем стат.значимости 0.01 \n",
      "p-значение:  0.9662307930256859\n",
      "Не получилось отвергнуть нулевую гипотезу, нет оснований считать доли разными\n",
      "----------------------------------------------------------------------------------\n",
      "Проверка события PaymentScreenSuccessful с критическим уровнем стат.значимости 0.01 \n",
      "p-значение:  0.6963026616244683\n",
      "Не получилось отвергнуть нулевую гипотезу, нет оснований считать доли разными\n",
      "----------------------------------------------------------------------------------\n",
      "\n",
      "\n",
      "Проверка событий в группах А/В-теста (246_247 и 248)\n",
      "\n",
      "Проверка события CartScreenAppear с критическим уровнем стат.значимости 0.01 \n",
      "p-значение:  0.5493605183790484\n",
      "Не получилось отвергнуть нулевую гипотезу, нет оснований считать доли разными\n",
      "----------------------------------------------------------------------------------\n",
      "Проверка события MainScreenAppear с критическим уровнем стат.значимости 0.01 \n",
      "p-значение:  0.5859390798679431\n",
      "Не получилось отвергнуть нулевую гипотезу, нет оснований считать доли разными\n",
      "----------------------------------------------------------------------------------\n",
      "Проверка события OffersScreenAppear с критическим уровнем стат.значимости 0.01 \n",
      "p-значение:  0.9211267237985354\n",
      "Не получилось отвергнуть нулевую гипотезу, нет оснований считать доли разными\n",
      "----------------------------------------------------------------------------------\n",
      "Проверка события PaymentScreenSuccessful с критическим уровнем стат.значимости 0.01 \n",
      "p-значение:  0.9717026765618824\n",
      "Не получилось отвергнуть нулевую гипотезу, нет оснований считать доли разными\n",
      "----------------------------------------------------------------------------------\n"
     ]
    }
   ],
   "source": [
    "print('Проверка событий в группах А/В-теста (246 и 248)')\n",
    "print()\n",
    "z_value(event_246, event_248, 0.01)\n",
    "print()\n",
    "print()\n",
    "print('Проверка событий в группах А/В-теста (247 и 248)')\n",
    "print()\n",
    "z_value(event_247, event_248, 0.01)\n",
    "print()\n",
    "print()\n",
    "print('Проверка событий в группах А/В-теста (246_247 и 248)')\n",
    "print()\n",
    "z_value(event_246_247, event_248, 0.01)"
   ]
  },
  {
   "cell_type": "markdown",
   "metadata": {},
   "source": [
    "Сравнение всех событий каждой контрольной группы и объединенной в одну с событиями группы В показало нам, что у нас нет оснований считать эти доли разными. Т.е. все 3 группы получаются равными между собой.\n",
    "\n",
    "Я провела 16 тестов с критическим уровнем значимости равным 0,01. Получается, что у меня в каждом 10 у меня может оказаться ложным. Но значение p_value у меня получаются достаточно большими и изменение критического уровня статистической значимости не изменит результата, потому что я смотрю есть ли различия хотя бы в 1% между группами. "
   ]
  },
  {
   "cell_type": "markdown",
   "metadata": {},
   "source": [
    "### Выводы по разделу\n",
    "\n",
    "В ходе проверки мы получили, что наши группы(246,247 и 248) равны между собой(у нас нет оснований отвергать нулевую гипотезу об их равенстве). Поэтому можно сказать, что эксперимент провалился, значимой разницы между группами не оказалось. Изменение шрифта не повлияло на решение пользователей ни в отрицательную ни в положительную сторону, т.е. мы не увидели, что пользователей стало меньше или больше по сравнению с контрольными группами."
   ]
  },
  {
   "cell_type": "markdown",
   "metadata": {},
   "source": [
    "## Общий вывод по проекту <a id='step5'></a>\n",
    "\n",
    "На начальном этапе у нас был датасет с небольшим количеством дубликатов (413 шт. 0,17%). Я заменила названия колонок на более удобные. Колонку датой и временем преобразовала в читаемый формат и вынесла отдельно колонку с датой.\n",
    "\n",
    "Анализ данных показал, что у нас за данный промежуток с 25 июля по 8 августа есть 7551 уникальный пользователей и 243713 событий. В среднем 1 пользователь совершает 32 события, если берем медиану, то 20 событий. Разница не большая, учитывая, что есть пользователи, которые совершили очень много событий (2000 шт.)\n",
    "\n",
    "Т.к. у нас частота событий большая была только в августе, то я отбросила до 1 августа все события, чтобы они не искажали данные. Потери данных были небольшими. Далее уже по очищенным данным посмотрели частоту событий. Получилось, что событие Tutorial практически не происходит и не вписывается в сценарий пути пользователя. Это событие я тоже отбросила. Далее построила воронку событий и посмотрела как пользователи перемещаются по ней. Выяснилось, что очень много отсеивается после того, как \"набьют\" корзину. **Мои рекомендации: нужно исследовать почему много пользователей не оформляют заказ, может есть неудобство в интерфейсе или же в условиях доставки. Может нужно использовать инструмент \"брошенная корзина\", чтобы напомнить пользователям о том, что они не оформили заказ.**\n",
    "\n",
    "Дальше я рассмотрела эксперимент со шрифтами. Сравнила все группы друг с другом, а экспериментальную группу В дополнительно сравнила с объединенной контрольной группой(246 и 247). Получилось, что статистически значимых различий между группами на уровне alpha 0,01 не было найдено нигде. Получается, что эксперимент со шрифтами не принес никаких результатов."
   ]
  }
 ],
 "metadata": {
  "kernelspec": {
   "display_name": "Python 3",
   "language": "python",
   "name": "python3"
  },
  "language_info": {
   "codemirror_mode": {
    "name": "ipython",
    "version": 3
   },
   "file_extension": ".py",
   "mimetype": "text/x-python",
   "name": "python",
   "nbconvert_exporter": "python",
   "pygments_lexer": "ipython3",
   "version": "3.8.3"
  }
 },
 "nbformat": 4,
 "nbformat_minor": 4
}

{
 "cells": [
  {
   "cell_type": "markdown",
   "metadata": {},
   "source": [
    "# Рынок заведений общественного питания Москвы\n",
    "\n",
    "## Описание проекта\n",
    "\n",
    "Необходимо понять какой вид заведения общественного питания с обслуживающим персоналом в виде роботов нужно открывать, чтобы оноприносило прибыль. У нас есть данные данные о заведениях в Москве. Т.к. результаты исследования нужно будет показать инвесторам, то дополнительно для лучшего понимания результатов необходимо подготовить презентацию.\n",
    "## План проекта\n",
    "\n",
    "1. Открыть файл с данными по разным заведениям Москвы. Посмотреть нет ли дублей, пропусков, типы данных.\n",
    "2. Проанализировать данные, чтобы понять столько нужно посадочных мест, как выбрать расположение и какой вид заведения нужно выбрать\n",
    "3. Подготовить презентацию\n",
    "\n",
    "### Описание данных\n",
    "\n",
    "Таблица rest_data:\n",
    "- object_name — название объекта общественного питания;\n",
    "- chain — сетевой ресторан;\n",
    "- object_type — тип объекта общественного питания;\n",
    "- address — адрес;\n",
    "- number — количество посадочных мест."
   ]
  },
  {
   "cell_type": "markdown",
   "metadata": {},
   "source": [
    "<div class=\"alert alert-block alert-warning\">\n",
    "    \n",
    "Оглавление:\n",
    "    \n",
    "1. [Предобработка данных](#step1)\n",
    "2. [Анализ данных](#step2)\n",
    "    * [Общие детали](#step2.1)\n",
    "    * [География](#step2.2)\n",
    "        * [Подготовка наименований к поиску по внешней информации](#step2.2.1)\n",
    "        * [Графики и выводы по географии расположения заведений](#step2.2.2)\n",
    "        * [Распределение посадочных мест](#step2.2.3)\n",
    "3. [Вывод по проекту](#step3)\n",
    "\n",
    "Презентация: <https://drive.google.com/file/d/1ci4AQu1OtlaJKT2dimV1gPUvRnTDsMNN/view?usp=sharing>\n",
    "    \n",
    "</div> "
   ]
  },
  {
   "cell_type": "markdown",
   "metadata": {},
   "source": [
    "## Предобработка данных <a id=\"step1\"></a>"
   ]
  },
  {
   "cell_type": "code",
   "execution_count": 24,
   "metadata": {},
   "outputs": [],
   "source": [
    "import pandas as pd\n",
    "import numpy as np\n",
    "from pymystem3 import Mystem\n",
    "m = Mystem()\n",
    "import matplotlib.pyplot as plt\n",
    "import seaborn as sns\n",
    "import plotly.graph_objects as go\n",
    "import plotly.express as px\n",
    "from plotly.subplots import make_subplots\n",
    "import re"
   ]
  },
  {
   "cell_type": "code",
   "execution_count": 25,
   "metadata": {},
   "outputs": [],
   "source": [
    "#Локалка\n",
    "df = pd.read_csv('C://Users/Ритер/Desktop/Практикум/datasets/rest_data.csv')\n",
    "#Практикум\n",
    "#df = pd.read_csv('/datasets/rest_data.csv')"
   ]
  },
  {
   "cell_type": "code",
   "execution_count": 26,
   "metadata": {},
   "outputs": [],
   "source": [
    "#сделала функцию, чтобы за один проход рассмотреть несколько фреймов сразу\n",
    "def vision_df(list_df):\n",
    "    for i in list_df:\n",
    "        print('----------------------------DataFrame---------------------------------')\n",
    "        print()\n",
    "        print('Info', i.info())\n",
    "        print()\n",
    "        print()\n",
    "        for col in i.columns:\n",
    "            print(f'Duplicate in {col}: {i[col].duplicated().sum()}')\n",
    "        print()\n",
    "        display(i.head())\n",
    "        print('------------------------------------------------------------------------')\n",
    "        print('------------------------------------------------------------------------')"
   ]
  },
  {
   "cell_type": "code",
   "execution_count": 27,
   "metadata": {},
   "outputs": [],
   "source": [
    "list_df = [df]"
   ]
  },
  {
   "cell_type": "code",
   "execution_count": 28,
   "metadata": {
    "scrolled": false
   },
   "outputs": [
    {
     "name": "stdout",
     "output_type": "stream",
     "text": [
      "----------------------------DataFrame---------------------------------\n",
      "\n",
      "<class 'pandas.core.frame.DataFrame'>\n",
      "RangeIndex: 15366 entries, 0 to 15365\n",
      "Data columns (total 6 columns):\n",
      " #   Column       Non-Null Count  Dtype \n",
      "---  ------       --------------  ----- \n",
      " 0   id           15366 non-null  int64 \n",
      " 1   object_name  15366 non-null  object\n",
      " 2   chain        15366 non-null  object\n",
      " 3   object_type  15366 non-null  object\n",
      " 4   address      15366 non-null  object\n",
      " 5   number       15366 non-null  int64 \n",
      "dtypes: int64(2), object(4)\n",
      "memory usage: 720.4+ KB\n",
      "Info None\n",
      "\n",
      "\n",
      "Duplicate in id: 0\n",
      "Duplicate in object_name: 4973\n",
      "Duplicate in chain: 15364\n",
      "Duplicate in object_type: 15357\n",
      "Duplicate in address: 6258\n",
      "Duplicate in number: 15051\n",
      "\n"
     ]
    },
    {
     "data": {
      "text/html": [
       "<div>\n",
       "<style scoped>\n",
       "    .dataframe tbody tr th:only-of-type {\n",
       "        vertical-align: middle;\n",
       "    }\n",
       "\n",
       "    .dataframe tbody tr th {\n",
       "        vertical-align: top;\n",
       "    }\n",
       "\n",
       "    .dataframe thead th {\n",
       "        text-align: right;\n",
       "    }\n",
       "</style>\n",
       "<table border=\"1\" class=\"dataframe\">\n",
       "  <thead>\n",
       "    <tr style=\"text-align: right;\">\n",
       "      <th></th>\n",
       "      <th>id</th>\n",
       "      <th>object_name</th>\n",
       "      <th>chain</th>\n",
       "      <th>object_type</th>\n",
       "      <th>address</th>\n",
       "      <th>number</th>\n",
       "    </tr>\n",
       "  </thead>\n",
       "  <tbody>\n",
       "    <tr>\n",
       "      <th>0</th>\n",
       "      <td>151635</td>\n",
       "      <td>СМЕТАНА</td>\n",
       "      <td>нет</td>\n",
       "      <td>кафе</td>\n",
       "      <td>город Москва, улица Егора Абакумова, дом 9</td>\n",
       "      <td>48</td>\n",
       "    </tr>\n",
       "    <tr>\n",
       "      <th>1</th>\n",
       "      <td>77874</td>\n",
       "      <td>Родник</td>\n",
       "      <td>нет</td>\n",
       "      <td>кафе</td>\n",
       "      <td>город Москва, улица Талалихина, дом 2/1, корпус 1</td>\n",
       "      <td>35</td>\n",
       "    </tr>\n",
       "    <tr>\n",
       "      <th>2</th>\n",
       "      <td>24309</td>\n",
       "      <td>Кафе «Академия»</td>\n",
       "      <td>нет</td>\n",
       "      <td>кафе</td>\n",
       "      <td>город Москва, Абельмановская улица, дом 6</td>\n",
       "      <td>95</td>\n",
       "    </tr>\n",
       "    <tr>\n",
       "      <th>3</th>\n",
       "      <td>21894</td>\n",
       "      <td>ПИЦЦЕТОРИЯ</td>\n",
       "      <td>да</td>\n",
       "      <td>кафе</td>\n",
       "      <td>город Москва, Абрамцевская улица, дом 1</td>\n",
       "      <td>40</td>\n",
       "    </tr>\n",
       "    <tr>\n",
       "      <th>4</th>\n",
       "      <td>119365</td>\n",
       "      <td>Кафе «Вишневая метель»</td>\n",
       "      <td>нет</td>\n",
       "      <td>кафе</td>\n",
       "      <td>город Москва, Абрамцевская улица, дом 9, корпус 1</td>\n",
       "      <td>50</td>\n",
       "    </tr>\n",
       "  </tbody>\n",
       "</table>\n",
       "</div>"
      ],
      "text/plain": [
       "       id             object_name chain object_type  \\\n",
       "0  151635                 СМЕТАНА   нет        кафе   \n",
       "1   77874                  Родник   нет        кафе   \n",
       "2   24309         Кафе «Академия»   нет        кафе   \n",
       "3   21894              ПИЦЦЕТОРИЯ    да        кафе   \n",
       "4  119365  Кафе «Вишневая метель»   нет        кафе   \n",
       "\n",
       "                                             address  number  \n",
       "0         город Москва, улица Егора Абакумова, дом 9      48  \n",
       "1  город Москва, улица Талалихина, дом 2/1, корпус 1      35  \n",
       "2          город Москва, Абельмановская улица, дом 6      95  \n",
       "3            город Москва, Абрамцевская улица, дом 1      40  \n",
       "4  город Москва, Абрамцевская улица, дом 9, корпус 1      50  "
      ]
     },
     "metadata": {},
     "output_type": "display_data"
    },
    {
     "name": "stdout",
     "output_type": "stream",
     "text": [
      "------------------------------------------------------------------------\n",
      "------------------------------------------------------------------------\n"
     ]
    }
   ],
   "source": [
    "vision_df(list_df)"
   ]
  },
  {
   "cell_type": "code",
   "execution_count": 29,
   "metadata": {},
   "outputs": [
    {
     "name": "stdout",
     "output_type": "stream",
     "text": [
      "Количество дубликатов по названию и адресу: 207 шт.\n"
     ]
    }
   ],
   "source": [
    "print('Количество дубликатов по названию и адресу:', \\\n",
    "      len(df[df[['object_name', 'address']].duplicated() == True]), 'шт.')"
   ]
  },
  {
   "cell_type": "code",
   "execution_count": 30,
   "metadata": {},
   "outputs": [],
   "source": [
    "df = df.drop_duplicates(subset=['object_name', 'address', 'object_type', 'number']).reset_index(drop=True)"
   ]
  },
  {
   "cell_type": "code",
   "execution_count": 31,
   "metadata": {},
   "outputs": [
    {
     "name": "stdout",
     "output_type": "stream",
     "text": [
      "<class 'pandas.core.frame.DataFrame'>\n",
      "RangeIndex: 15284 entries, 0 to 15283\n",
      "Data columns (total 6 columns):\n",
      " #   Column       Non-Null Count  Dtype \n",
      "---  ------       --------------  ----- \n",
      " 0   id           15284 non-null  int64 \n",
      " 1   object_name  15284 non-null  object\n",
      " 2   chain        15284 non-null  object\n",
      " 3   object_type  15284 non-null  object\n",
      " 4   address      15284 non-null  object\n",
      " 5   number       15284 non-null  int64 \n",
      "dtypes: int64(2), object(4)\n",
      "memory usage: 716.6+ KB\n"
     ]
    }
   ],
   "source": [
    "df.info()"
   ]
  },
  {
   "cell_type": "markdown",
   "metadata": {},
   "source": [
    "Типы данных в порядке, переводить ничего не нужно. Дубликаты есть во всех колонках, кроме id. Я убрала те из них, которые явно повторяются, т.е. название, адрес, количество мест и тип заведения одинаковые. В итоге получилось 15284 заведения. Но, возможно, есть и еще дубликаты. По названию и адресу всего дубликатов было 125 шт., но их нужно сверять каждый с информацией извне, чтобы точно убедиться в количестве посадочных мест и типе заведения. Т.к. часть дубликатов убрана 125 - 72 = 53 шт возможных дубликата, это 0,3% от общего числа. Сильноого влияния на результаты исследования не должно возыметь. \n",
    "По названию колонок нареканий нет: названия понятны, написаны однотипно. Нам достался хорошо подготовленный фрейм. Можно начать исследование."
   ]
  },
  {
   "cell_type": "markdown",
   "metadata": {},
   "source": [
    "## Анализ данных <a id=\"step2\"></a>"
   ]
  },
  {
   "cell_type": "markdown",
   "metadata": {},
   "source": [
    "### Общие детали <a id=\"step2.1\"></a>"
   ]
  },
  {
   "cell_type": "markdown",
   "metadata": {},
   "source": [
    "Наша цель понять текущее положение рынка заведений в Москве. Рассмотрим соотношение видов объектов общественного питания."
   ]
  },
  {
   "cell_type": "code",
   "execution_count": 32,
   "metadata": {},
   "outputs": [
    {
     "data": {
      "application/vnd.plotly.v1+json": {
       "config": {
        "plotlyServerURL": "https://plot.ly"
       },
       "data": [
        {
         "labels": [
          "бар",
          "буфет",
          "закусочная",
          "кафе",
          "кафетерий",
          "магазин (отдел кулинарии)",
          "предприятие быстрого обслуживания",
          "ресторан",
          "столовая"
         ],
         "type": "pie",
         "values": [
          855,
          577,
          349,
          6071,
          395,
          273,
          1898,
          2282,
          2584
         ]
        }
       ],
       "layout": {
        "template": {
         "data": {
          "bar": [
           {
            "error_x": {
             "color": "#2a3f5f"
            },
            "error_y": {
             "color": "#2a3f5f"
            },
            "marker": {
             "line": {
              "color": "#E5ECF6",
              "width": 0.5
             }
            },
            "type": "bar"
           }
          ],
          "barpolar": [
           {
            "marker": {
             "line": {
              "color": "#E5ECF6",
              "width": 0.5
             }
            },
            "type": "barpolar"
           }
          ],
          "carpet": [
           {
            "aaxis": {
             "endlinecolor": "#2a3f5f",
             "gridcolor": "white",
             "linecolor": "white",
             "minorgridcolor": "white",
             "startlinecolor": "#2a3f5f"
            },
            "baxis": {
             "endlinecolor": "#2a3f5f",
             "gridcolor": "white",
             "linecolor": "white",
             "minorgridcolor": "white",
             "startlinecolor": "#2a3f5f"
            },
            "type": "carpet"
           }
          ],
          "choropleth": [
           {
            "colorbar": {
             "outlinewidth": 0,
             "ticks": ""
            },
            "type": "choropleth"
           }
          ],
          "contour": [
           {
            "colorbar": {
             "outlinewidth": 0,
             "ticks": ""
            },
            "colorscale": [
             [
              0,
              "#0d0887"
             ],
             [
              0.1111111111111111,
              "#46039f"
             ],
             [
              0.2222222222222222,
              "#7201a8"
             ],
             [
              0.3333333333333333,
              "#9c179e"
             ],
             [
              0.4444444444444444,
              "#bd3786"
             ],
             [
              0.5555555555555556,
              "#d8576b"
             ],
             [
              0.6666666666666666,
              "#ed7953"
             ],
             [
              0.7777777777777778,
              "#fb9f3a"
             ],
             [
              0.8888888888888888,
              "#fdca26"
             ],
             [
              1,
              "#f0f921"
             ]
            ],
            "type": "contour"
           }
          ],
          "contourcarpet": [
           {
            "colorbar": {
             "outlinewidth": 0,
             "ticks": ""
            },
            "type": "contourcarpet"
           }
          ],
          "heatmap": [
           {
            "colorbar": {
             "outlinewidth": 0,
             "ticks": ""
            },
            "colorscale": [
             [
              0,
              "#0d0887"
             ],
             [
              0.1111111111111111,
              "#46039f"
             ],
             [
              0.2222222222222222,
              "#7201a8"
             ],
             [
              0.3333333333333333,
              "#9c179e"
             ],
             [
              0.4444444444444444,
              "#bd3786"
             ],
             [
              0.5555555555555556,
              "#d8576b"
             ],
             [
              0.6666666666666666,
              "#ed7953"
             ],
             [
              0.7777777777777778,
              "#fb9f3a"
             ],
             [
              0.8888888888888888,
              "#fdca26"
             ],
             [
              1,
              "#f0f921"
             ]
            ],
            "type": "heatmap"
           }
          ],
          "heatmapgl": [
           {
            "colorbar": {
             "outlinewidth": 0,
             "ticks": ""
            },
            "colorscale": [
             [
              0,
              "#0d0887"
             ],
             [
              0.1111111111111111,
              "#46039f"
             ],
             [
              0.2222222222222222,
              "#7201a8"
             ],
             [
              0.3333333333333333,
              "#9c179e"
             ],
             [
              0.4444444444444444,
              "#bd3786"
             ],
             [
              0.5555555555555556,
              "#d8576b"
             ],
             [
              0.6666666666666666,
              "#ed7953"
             ],
             [
              0.7777777777777778,
              "#fb9f3a"
             ],
             [
              0.8888888888888888,
              "#fdca26"
             ],
             [
              1,
              "#f0f921"
             ]
            ],
            "type": "heatmapgl"
           }
          ],
          "histogram": [
           {
            "marker": {
             "colorbar": {
              "outlinewidth": 0,
              "ticks": ""
             }
            },
            "type": "histogram"
           }
          ],
          "histogram2d": [
           {
            "colorbar": {
             "outlinewidth": 0,
             "ticks": ""
            },
            "colorscale": [
             [
              0,
              "#0d0887"
             ],
             [
              0.1111111111111111,
              "#46039f"
             ],
             [
              0.2222222222222222,
              "#7201a8"
             ],
             [
              0.3333333333333333,
              "#9c179e"
             ],
             [
              0.4444444444444444,
              "#bd3786"
             ],
             [
              0.5555555555555556,
              "#d8576b"
             ],
             [
              0.6666666666666666,
              "#ed7953"
             ],
             [
              0.7777777777777778,
              "#fb9f3a"
             ],
             [
              0.8888888888888888,
              "#fdca26"
             ],
             [
              1,
              "#f0f921"
             ]
            ],
            "type": "histogram2d"
           }
          ],
          "histogram2dcontour": [
           {
            "colorbar": {
             "outlinewidth": 0,
             "ticks": ""
            },
            "colorscale": [
             [
              0,
              "#0d0887"
             ],
             [
              0.1111111111111111,
              "#46039f"
             ],
             [
              0.2222222222222222,
              "#7201a8"
             ],
             [
              0.3333333333333333,
              "#9c179e"
             ],
             [
              0.4444444444444444,
              "#bd3786"
             ],
             [
              0.5555555555555556,
              "#d8576b"
             ],
             [
              0.6666666666666666,
              "#ed7953"
             ],
             [
              0.7777777777777778,
              "#fb9f3a"
             ],
             [
              0.8888888888888888,
              "#fdca26"
             ],
             [
              1,
              "#f0f921"
             ]
            ],
            "type": "histogram2dcontour"
           }
          ],
          "mesh3d": [
           {
            "colorbar": {
             "outlinewidth": 0,
             "ticks": ""
            },
            "type": "mesh3d"
           }
          ],
          "parcoords": [
           {
            "line": {
             "colorbar": {
              "outlinewidth": 0,
              "ticks": ""
             }
            },
            "type": "parcoords"
           }
          ],
          "pie": [
           {
            "automargin": true,
            "type": "pie"
           }
          ],
          "scatter": [
           {
            "marker": {
             "colorbar": {
              "outlinewidth": 0,
              "ticks": ""
             }
            },
            "type": "scatter"
           }
          ],
          "scatter3d": [
           {
            "line": {
             "colorbar": {
              "outlinewidth": 0,
              "ticks": ""
             }
            },
            "marker": {
             "colorbar": {
              "outlinewidth": 0,
              "ticks": ""
             }
            },
            "type": "scatter3d"
           }
          ],
          "scattercarpet": [
           {
            "marker": {
             "colorbar": {
              "outlinewidth": 0,
              "ticks": ""
             }
            },
            "type": "scattercarpet"
           }
          ],
          "scattergeo": [
           {
            "marker": {
             "colorbar": {
              "outlinewidth": 0,
              "ticks": ""
             }
            },
            "type": "scattergeo"
           }
          ],
          "scattergl": [
           {
            "marker": {
             "colorbar": {
              "outlinewidth": 0,
              "ticks": ""
             }
            },
            "type": "scattergl"
           }
          ],
          "scattermapbox": [
           {
            "marker": {
             "colorbar": {
              "outlinewidth": 0,
              "ticks": ""
             }
            },
            "type": "scattermapbox"
           }
          ],
          "scatterpolar": [
           {
            "marker": {
             "colorbar": {
              "outlinewidth": 0,
              "ticks": ""
             }
            },
            "type": "scatterpolar"
           }
          ],
          "scatterpolargl": [
           {
            "marker": {
             "colorbar": {
              "outlinewidth": 0,
              "ticks": ""
             }
            },
            "type": "scatterpolargl"
           }
          ],
          "scatterternary": [
           {
            "marker": {
             "colorbar": {
              "outlinewidth": 0,
              "ticks": ""
             }
            },
            "type": "scatterternary"
           }
          ],
          "surface": [
           {
            "colorbar": {
             "outlinewidth": 0,
             "ticks": ""
            },
            "colorscale": [
             [
              0,
              "#0d0887"
             ],
             [
              0.1111111111111111,
              "#46039f"
             ],
             [
              0.2222222222222222,
              "#7201a8"
             ],
             [
              0.3333333333333333,
              "#9c179e"
             ],
             [
              0.4444444444444444,
              "#bd3786"
             ],
             [
              0.5555555555555556,
              "#d8576b"
             ],
             [
              0.6666666666666666,
              "#ed7953"
             ],
             [
              0.7777777777777778,
              "#fb9f3a"
             ],
             [
              0.8888888888888888,
              "#fdca26"
             ],
             [
              1,
              "#f0f921"
             ]
            ],
            "type": "surface"
           }
          ],
          "table": [
           {
            "cells": {
             "fill": {
              "color": "#EBF0F8"
             },
             "line": {
              "color": "white"
             }
            },
            "header": {
             "fill": {
              "color": "#C8D4E3"
             },
             "line": {
              "color": "white"
             }
            },
            "type": "table"
           }
          ]
         },
         "layout": {
          "annotationdefaults": {
           "arrowcolor": "#2a3f5f",
           "arrowhead": 0,
           "arrowwidth": 1
          },
          "coloraxis": {
           "colorbar": {
            "outlinewidth": 0,
            "ticks": ""
           }
          },
          "colorscale": {
           "diverging": [
            [
             0,
             "#8e0152"
            ],
            [
             0.1,
             "#c51b7d"
            ],
            [
             0.2,
             "#de77ae"
            ],
            [
             0.3,
             "#f1b6da"
            ],
            [
             0.4,
             "#fde0ef"
            ],
            [
             0.5,
             "#f7f7f7"
            ],
            [
             0.6,
             "#e6f5d0"
            ],
            [
             0.7,
             "#b8e186"
            ],
            [
             0.8,
             "#7fbc41"
            ],
            [
             0.9,
             "#4d9221"
            ],
            [
             1,
             "#276419"
            ]
           ],
           "sequential": [
            [
             0,
             "#0d0887"
            ],
            [
             0.1111111111111111,
             "#46039f"
            ],
            [
             0.2222222222222222,
             "#7201a8"
            ],
            [
             0.3333333333333333,
             "#9c179e"
            ],
            [
             0.4444444444444444,
             "#bd3786"
            ],
            [
             0.5555555555555556,
             "#d8576b"
            ],
            [
             0.6666666666666666,
             "#ed7953"
            ],
            [
             0.7777777777777778,
             "#fb9f3a"
            ],
            [
             0.8888888888888888,
             "#fdca26"
            ],
            [
             1,
             "#f0f921"
            ]
           ],
           "sequentialminus": [
            [
             0,
             "#0d0887"
            ],
            [
             0.1111111111111111,
             "#46039f"
            ],
            [
             0.2222222222222222,
             "#7201a8"
            ],
            [
             0.3333333333333333,
             "#9c179e"
            ],
            [
             0.4444444444444444,
             "#bd3786"
            ],
            [
             0.5555555555555556,
             "#d8576b"
            ],
            [
             0.6666666666666666,
             "#ed7953"
            ],
            [
             0.7777777777777778,
             "#fb9f3a"
            ],
            [
             0.8888888888888888,
             "#fdca26"
            ],
            [
             1,
             "#f0f921"
            ]
           ]
          },
          "colorway": [
           "#636efa",
           "#EF553B",
           "#00cc96",
           "#ab63fa",
           "#FFA15A",
           "#19d3f3",
           "#FF6692",
           "#B6E880",
           "#FF97FF",
           "#FECB52"
          ],
          "font": {
           "color": "#2a3f5f"
          },
          "geo": {
           "bgcolor": "white",
           "lakecolor": "white",
           "landcolor": "#E5ECF6",
           "showlakes": true,
           "showland": true,
           "subunitcolor": "white"
          },
          "hoverlabel": {
           "align": "left"
          },
          "hovermode": "closest",
          "mapbox": {
           "style": "light"
          },
          "paper_bgcolor": "white",
          "plot_bgcolor": "#E5ECF6",
          "polar": {
           "angularaxis": {
            "gridcolor": "white",
            "linecolor": "white",
            "ticks": ""
           },
           "bgcolor": "#E5ECF6",
           "radialaxis": {
            "gridcolor": "white",
            "linecolor": "white",
            "ticks": ""
           }
          },
          "scene": {
           "xaxis": {
            "backgroundcolor": "#E5ECF6",
            "gridcolor": "white",
            "gridwidth": 2,
            "linecolor": "white",
            "showbackground": true,
            "ticks": "",
            "zerolinecolor": "white"
           },
           "yaxis": {
            "backgroundcolor": "#E5ECF6",
            "gridcolor": "white",
            "gridwidth": 2,
            "linecolor": "white",
            "showbackground": true,
            "ticks": "",
            "zerolinecolor": "white"
           },
           "zaxis": {
            "backgroundcolor": "#E5ECF6",
            "gridcolor": "white",
            "gridwidth": 2,
            "linecolor": "white",
            "showbackground": true,
            "ticks": "",
            "zerolinecolor": "white"
           }
          },
          "shapedefaults": {
           "line": {
            "color": "#2a3f5f"
           }
          },
          "ternary": {
           "aaxis": {
            "gridcolor": "white",
            "linecolor": "white",
            "ticks": ""
           },
           "baxis": {
            "gridcolor": "white",
            "linecolor": "white",
            "ticks": ""
           },
           "bgcolor": "#E5ECF6",
           "caxis": {
            "gridcolor": "white",
            "linecolor": "white",
            "ticks": ""
           }
          },
          "title": {
           "x": 0.05
          },
          "xaxis": {
           "automargin": true,
           "gridcolor": "white",
           "linecolor": "white",
           "ticks": "",
           "title": {
            "standoff": 15
           },
           "zerolinecolor": "white",
           "zerolinewidth": 2
          },
          "yaxis": {
           "automargin": true,
           "gridcolor": "white",
           "linecolor": "white",
           "ticks": "",
           "title": {
            "standoff": 15
           },
           "zerolinecolor": "white",
           "zerolinewidth": 2
          }
         }
        },
        "title": {
         "text": "Распределение видов общественного питания по количеству"
        }
       }
      },
      "text/html": [
       "<div>\n",
       "        \n",
       "        \n",
       "            <div id=\"07836773-5b34-441e-9fde-924963604421\" class=\"plotly-graph-div\" style=\"height:525px; width:100%;\"></div>\n",
       "            <script type=\"text/javascript\">\n",
       "                require([\"plotly\"], function(Plotly) {\n",
       "                    window.PLOTLYENV=window.PLOTLYENV || {};\n",
       "                    \n",
       "                if (document.getElementById(\"07836773-5b34-441e-9fde-924963604421\")) {\n",
       "                    Plotly.newPlot(\n",
       "                        '07836773-5b34-441e-9fde-924963604421',\n",
       "                        [{\"labels\": [\"\\u0431\\u0430\\u0440\", \"\\u0431\\u0443\\u0444\\u0435\\u0442\", \"\\u0437\\u0430\\u043a\\u0443\\u0441\\u043e\\u0447\\u043d\\u0430\\u044f\", \"\\u043a\\u0430\\u0444\\u0435\", \"\\u043a\\u0430\\u0444\\u0435\\u0442\\u0435\\u0440\\u0438\\u0439\", \"\\u043c\\u0430\\u0433\\u0430\\u0437\\u0438\\u043d (\\u043e\\u0442\\u0434\\u0435\\u043b \\u043a\\u0443\\u043b\\u0438\\u043d\\u0430\\u0440\\u0438\\u0438)\", \"\\u043f\\u0440\\u0435\\u0434\\u043f\\u0440\\u0438\\u044f\\u0442\\u0438\\u0435 \\u0431\\u044b\\u0441\\u0442\\u0440\\u043e\\u0433\\u043e \\u043e\\u0431\\u0441\\u043b\\u0443\\u0436\\u0438\\u0432\\u0430\\u043d\\u0438\\u044f\", \"\\u0440\\u0435\\u0441\\u0442\\u043e\\u0440\\u0430\\u043d\", \"\\u0441\\u0442\\u043e\\u043b\\u043e\\u0432\\u0430\\u044f\"], \"type\": \"pie\", \"values\": [855, 577, 349, 6071, 395, 273, 1898, 2282, 2584]}],\n",
       "                        {\"template\": {\"data\": {\"bar\": [{\"error_x\": {\"color\": \"#2a3f5f\"}, \"error_y\": {\"color\": \"#2a3f5f\"}, \"marker\": {\"line\": {\"color\": \"#E5ECF6\", \"width\": 0.5}}, \"type\": \"bar\"}], \"barpolar\": [{\"marker\": {\"line\": {\"color\": \"#E5ECF6\", \"width\": 0.5}}, \"type\": \"barpolar\"}], \"carpet\": [{\"aaxis\": {\"endlinecolor\": \"#2a3f5f\", \"gridcolor\": \"white\", \"linecolor\": \"white\", \"minorgridcolor\": \"white\", \"startlinecolor\": \"#2a3f5f\"}, \"baxis\": {\"endlinecolor\": \"#2a3f5f\", \"gridcolor\": \"white\", \"linecolor\": \"white\", \"minorgridcolor\": \"white\", \"startlinecolor\": \"#2a3f5f\"}, \"type\": \"carpet\"}], \"choropleth\": [{\"colorbar\": {\"outlinewidth\": 0, \"ticks\": \"\"}, \"type\": \"choropleth\"}], \"contour\": [{\"colorbar\": {\"outlinewidth\": 0, \"ticks\": \"\"}, \"colorscale\": [[0.0, \"#0d0887\"], [0.1111111111111111, \"#46039f\"], [0.2222222222222222, \"#7201a8\"], [0.3333333333333333, \"#9c179e\"], [0.4444444444444444, \"#bd3786\"], [0.5555555555555556, \"#d8576b\"], [0.6666666666666666, \"#ed7953\"], [0.7777777777777778, \"#fb9f3a\"], [0.8888888888888888, \"#fdca26\"], [1.0, \"#f0f921\"]], \"type\": \"contour\"}], \"contourcarpet\": [{\"colorbar\": {\"outlinewidth\": 0, \"ticks\": \"\"}, \"type\": \"contourcarpet\"}], \"heatmap\": [{\"colorbar\": {\"outlinewidth\": 0, \"ticks\": \"\"}, \"colorscale\": [[0.0, \"#0d0887\"], [0.1111111111111111, \"#46039f\"], [0.2222222222222222, \"#7201a8\"], [0.3333333333333333, \"#9c179e\"], [0.4444444444444444, \"#bd3786\"], [0.5555555555555556, \"#d8576b\"], [0.6666666666666666, \"#ed7953\"], [0.7777777777777778, \"#fb9f3a\"], [0.8888888888888888, \"#fdca26\"], [1.0, \"#f0f921\"]], \"type\": \"heatmap\"}], \"heatmapgl\": [{\"colorbar\": {\"outlinewidth\": 0, \"ticks\": \"\"}, \"colorscale\": [[0.0, \"#0d0887\"], [0.1111111111111111, \"#46039f\"], [0.2222222222222222, \"#7201a8\"], [0.3333333333333333, \"#9c179e\"], [0.4444444444444444, \"#bd3786\"], [0.5555555555555556, \"#d8576b\"], [0.6666666666666666, \"#ed7953\"], [0.7777777777777778, \"#fb9f3a\"], [0.8888888888888888, \"#fdca26\"], [1.0, \"#f0f921\"]], \"type\": \"heatmapgl\"}], \"histogram\": [{\"marker\": {\"colorbar\": {\"outlinewidth\": 0, \"ticks\": \"\"}}, \"type\": \"histogram\"}], \"histogram2d\": [{\"colorbar\": {\"outlinewidth\": 0, \"ticks\": \"\"}, \"colorscale\": [[0.0, \"#0d0887\"], [0.1111111111111111, \"#46039f\"], [0.2222222222222222, \"#7201a8\"], [0.3333333333333333, \"#9c179e\"], [0.4444444444444444, \"#bd3786\"], [0.5555555555555556, \"#d8576b\"], [0.6666666666666666, \"#ed7953\"], [0.7777777777777778, \"#fb9f3a\"], [0.8888888888888888, \"#fdca26\"], [1.0, \"#f0f921\"]], \"type\": \"histogram2d\"}], \"histogram2dcontour\": [{\"colorbar\": {\"outlinewidth\": 0, \"ticks\": \"\"}, \"colorscale\": [[0.0, \"#0d0887\"], [0.1111111111111111, \"#46039f\"], [0.2222222222222222, \"#7201a8\"], [0.3333333333333333, \"#9c179e\"], [0.4444444444444444, \"#bd3786\"], [0.5555555555555556, \"#d8576b\"], [0.6666666666666666, \"#ed7953\"], [0.7777777777777778, \"#fb9f3a\"], [0.8888888888888888, \"#fdca26\"], [1.0, \"#f0f921\"]], \"type\": \"histogram2dcontour\"}], \"mesh3d\": [{\"colorbar\": {\"outlinewidth\": 0, \"ticks\": \"\"}, \"type\": \"mesh3d\"}], \"parcoords\": [{\"line\": {\"colorbar\": {\"outlinewidth\": 0, \"ticks\": \"\"}}, \"type\": \"parcoords\"}], \"pie\": [{\"automargin\": true, \"type\": \"pie\"}], \"scatter\": [{\"marker\": {\"colorbar\": {\"outlinewidth\": 0, \"ticks\": \"\"}}, \"type\": \"scatter\"}], \"scatter3d\": [{\"line\": {\"colorbar\": {\"outlinewidth\": 0, \"ticks\": \"\"}}, \"marker\": {\"colorbar\": {\"outlinewidth\": 0, \"ticks\": \"\"}}, \"type\": \"scatter3d\"}], \"scattercarpet\": [{\"marker\": {\"colorbar\": {\"outlinewidth\": 0, \"ticks\": \"\"}}, \"type\": \"scattercarpet\"}], \"scattergeo\": [{\"marker\": {\"colorbar\": {\"outlinewidth\": 0, \"ticks\": \"\"}}, \"type\": \"scattergeo\"}], \"scattergl\": [{\"marker\": {\"colorbar\": {\"outlinewidth\": 0, \"ticks\": \"\"}}, \"type\": \"scattergl\"}], \"scattermapbox\": [{\"marker\": {\"colorbar\": {\"outlinewidth\": 0, \"ticks\": \"\"}}, \"type\": \"scattermapbox\"}], \"scatterpolar\": [{\"marker\": {\"colorbar\": {\"outlinewidth\": 0, \"ticks\": \"\"}}, \"type\": \"scatterpolar\"}], \"scatterpolargl\": [{\"marker\": {\"colorbar\": {\"outlinewidth\": 0, \"ticks\": \"\"}}, \"type\": \"scatterpolargl\"}], \"scatterternary\": [{\"marker\": {\"colorbar\": {\"outlinewidth\": 0, \"ticks\": \"\"}}, \"type\": \"scatterternary\"}], \"surface\": [{\"colorbar\": {\"outlinewidth\": 0, \"ticks\": \"\"}, \"colorscale\": [[0.0, \"#0d0887\"], [0.1111111111111111, \"#46039f\"], [0.2222222222222222, \"#7201a8\"], [0.3333333333333333, \"#9c179e\"], [0.4444444444444444, \"#bd3786\"], [0.5555555555555556, \"#d8576b\"], [0.6666666666666666, \"#ed7953\"], [0.7777777777777778, \"#fb9f3a\"], [0.8888888888888888, \"#fdca26\"], [1.0, \"#f0f921\"]], \"type\": \"surface\"}], \"table\": [{\"cells\": {\"fill\": {\"color\": \"#EBF0F8\"}, \"line\": {\"color\": \"white\"}}, \"header\": {\"fill\": {\"color\": \"#C8D4E3\"}, \"line\": {\"color\": \"white\"}}, \"type\": \"table\"}]}, \"layout\": {\"annotationdefaults\": {\"arrowcolor\": \"#2a3f5f\", \"arrowhead\": 0, \"arrowwidth\": 1}, \"coloraxis\": {\"colorbar\": {\"outlinewidth\": 0, \"ticks\": \"\"}}, \"colorscale\": {\"diverging\": [[0, \"#8e0152\"], [0.1, \"#c51b7d\"], [0.2, \"#de77ae\"], [0.3, \"#f1b6da\"], [0.4, \"#fde0ef\"], [0.5, \"#f7f7f7\"], [0.6, \"#e6f5d0\"], [0.7, \"#b8e186\"], [0.8, \"#7fbc41\"], [0.9, \"#4d9221\"], [1, \"#276419\"]], \"sequential\": [[0.0, \"#0d0887\"], [0.1111111111111111, \"#46039f\"], [0.2222222222222222, \"#7201a8\"], [0.3333333333333333, \"#9c179e\"], [0.4444444444444444, \"#bd3786\"], [0.5555555555555556, \"#d8576b\"], [0.6666666666666666, \"#ed7953\"], [0.7777777777777778, \"#fb9f3a\"], [0.8888888888888888, \"#fdca26\"], [1.0, \"#f0f921\"]], \"sequentialminus\": [[0.0, \"#0d0887\"], [0.1111111111111111, \"#46039f\"], [0.2222222222222222, \"#7201a8\"], [0.3333333333333333, \"#9c179e\"], [0.4444444444444444, \"#bd3786\"], [0.5555555555555556, \"#d8576b\"], [0.6666666666666666, \"#ed7953\"], [0.7777777777777778, \"#fb9f3a\"], [0.8888888888888888, \"#fdca26\"], [1.0, \"#f0f921\"]]}, \"colorway\": [\"#636efa\", \"#EF553B\", \"#00cc96\", \"#ab63fa\", \"#FFA15A\", \"#19d3f3\", \"#FF6692\", \"#B6E880\", \"#FF97FF\", \"#FECB52\"], \"font\": {\"color\": \"#2a3f5f\"}, \"geo\": {\"bgcolor\": \"white\", \"lakecolor\": \"white\", \"landcolor\": \"#E5ECF6\", \"showlakes\": true, \"showland\": true, \"subunitcolor\": \"white\"}, \"hoverlabel\": {\"align\": \"left\"}, \"hovermode\": \"closest\", \"mapbox\": {\"style\": \"light\"}, \"paper_bgcolor\": \"white\", \"plot_bgcolor\": \"#E5ECF6\", \"polar\": {\"angularaxis\": {\"gridcolor\": \"white\", \"linecolor\": \"white\", \"ticks\": \"\"}, \"bgcolor\": \"#E5ECF6\", \"radialaxis\": {\"gridcolor\": \"white\", \"linecolor\": \"white\", \"ticks\": \"\"}}, \"scene\": {\"xaxis\": {\"backgroundcolor\": \"#E5ECF6\", \"gridcolor\": \"white\", \"gridwidth\": 2, \"linecolor\": \"white\", \"showbackground\": true, \"ticks\": \"\", \"zerolinecolor\": \"white\"}, \"yaxis\": {\"backgroundcolor\": \"#E5ECF6\", \"gridcolor\": \"white\", \"gridwidth\": 2, \"linecolor\": \"white\", \"showbackground\": true, \"ticks\": \"\", \"zerolinecolor\": \"white\"}, \"zaxis\": {\"backgroundcolor\": \"#E5ECF6\", \"gridcolor\": \"white\", \"gridwidth\": 2, \"linecolor\": \"white\", \"showbackground\": true, \"ticks\": \"\", \"zerolinecolor\": \"white\"}}, \"shapedefaults\": {\"line\": {\"color\": \"#2a3f5f\"}}, \"ternary\": {\"aaxis\": {\"gridcolor\": \"white\", \"linecolor\": \"white\", \"ticks\": \"\"}, \"baxis\": {\"gridcolor\": \"white\", \"linecolor\": \"white\", \"ticks\": \"\"}, \"bgcolor\": \"#E5ECF6\", \"caxis\": {\"gridcolor\": \"white\", \"linecolor\": \"white\", \"ticks\": \"\"}}, \"title\": {\"x\": 0.05}, \"xaxis\": {\"automargin\": true, \"gridcolor\": \"white\", \"linecolor\": \"white\", \"ticks\": \"\", \"title\": {\"standoff\": 15}, \"zerolinecolor\": \"white\", \"zerolinewidth\": 2}, \"yaxis\": {\"automargin\": true, \"gridcolor\": \"white\", \"linecolor\": \"white\", \"ticks\": \"\", \"title\": {\"standoff\": 15}, \"zerolinecolor\": \"white\", \"zerolinewidth\": 2}}}, \"title\": {\"text\": \"\\u0420\\u0430\\u0441\\u043f\\u0440\\u0435\\u0434\\u0435\\u043b\\u0435\\u043d\\u0438\\u0435 \\u0432\\u0438\\u0434\\u043e\\u0432 \\u043e\\u0431\\u0449\\u0435\\u0441\\u0442\\u0432\\u0435\\u043d\\u043d\\u043e\\u0433\\u043e \\u043f\\u0438\\u0442\\u0430\\u043d\\u0438\\u044f \\u043f\\u043e \\u043a\\u043e\\u043b\\u0438\\u0447\\u0435\\u0441\\u0442\\u0432\\u0443\"}},\n",
       "                        {\"responsive\": true}\n",
       "                    ).then(function(){\n",
       "                            \n",
       "var gd = document.getElementById('07836773-5b34-441e-9fde-924963604421');\n",
       "var x = new MutationObserver(function (mutations, observer) {{\n",
       "        var display = window.getComputedStyle(gd).display;\n",
       "        if (!display || display === 'none') {{\n",
       "            console.log([gd, 'removed!']);\n",
       "            Plotly.purge(gd);\n",
       "            observer.disconnect();\n",
       "        }}\n",
       "}});\n",
       "\n",
       "// Listen for the removal of the full notebook cells\n",
       "var notebookContainer = gd.closest('#notebook-container');\n",
       "if (notebookContainer) {{\n",
       "    x.observe(notebookContainer, {childList: true});\n",
       "}}\n",
       "\n",
       "// Listen for the clearing of the current output cell\n",
       "var outputEl = gd.closest('.output');\n",
       "if (outputEl) {{\n",
       "    x.observe(outputEl, {childList: true});\n",
       "}}\n",
       "\n",
       "                        })\n",
       "                };\n",
       "                });\n",
       "            </script>\n",
       "        </div>"
      ]
     },
     "metadata": {},
     "output_type": "display_data"
    }
   ],
   "source": [
    "object_type = df.groupby('object_type')['id'].count().reset_index()\n",
    "\n",
    "name = object_type['object_type']\n",
    "values = object_type['id']\n",
    "\n",
    "fig = go.Figure(data=[go.Pie(labels=name, values=values)])\n",
    "fig.update_layout(title_text='Распределение видов общественного питания по количеству')\n",
    "fig.show()"
   ]
  },
  {
   "cell_type": "markdown",
   "metadata": {},
   "source": [
    "Из диаграммы я выделила бы следующие популярные виды:\n",
    "- Кафе = 39,7%\n",
    "- Столовая = 16,8%\n",
    "- Ресторан = 14,9%\n",
    "- Предприятие быстрого обслуживания = 12,5%\n",
    "\n",
    "Самые немногочисленные виды:\n",
    "- Кафетерий = 2,59%\n",
    "- Закусочная = 2,34%\n",
    "- Магазин(отдел кулинарии) = 1,78%\n",
    "\n",
    "Посмотрим какое у нас соотношение сетевых/несетевых заведений."
   ]
  },
  {
   "cell_type": "code",
   "execution_count": 33,
   "metadata": {},
   "outputs": [
    {
     "data": {
      "application/vnd.plotly.v1+json": {
       "config": {
        "plotlyServerURL": "https://plot.ly"
       },
       "data": [
        {
         "labels": [
          "да",
          "да",
          "да",
          "да",
          "да",
          "да",
          "да",
          "да",
          "да",
          "нет",
          "нет",
          "нет",
          "нет",
          "нет",
          "нет",
          "нет",
          "нет",
          "нет"
         ],
         "marker": {
          "colors": [
           "gold"
          ]
         },
         "type": "pie",
         "values": [
          37,
          11,
          56,
          1396,
          52,
          78,
          788,
          543,
          3,
          818,
          566,
          293,
          4675,
          343,
          195,
          1110,
          1739,
          2581
         ]
        }
       ],
       "layout": {
        "template": {
         "data": {
          "bar": [
           {
            "error_x": {
             "color": "#2a3f5f"
            },
            "error_y": {
             "color": "#2a3f5f"
            },
            "marker": {
             "line": {
              "color": "#E5ECF6",
              "width": 0.5
             }
            },
            "type": "bar"
           }
          ],
          "barpolar": [
           {
            "marker": {
             "line": {
              "color": "#E5ECF6",
              "width": 0.5
             }
            },
            "type": "barpolar"
           }
          ],
          "carpet": [
           {
            "aaxis": {
             "endlinecolor": "#2a3f5f",
             "gridcolor": "white",
             "linecolor": "white",
             "minorgridcolor": "white",
             "startlinecolor": "#2a3f5f"
            },
            "baxis": {
             "endlinecolor": "#2a3f5f",
             "gridcolor": "white",
             "linecolor": "white",
             "minorgridcolor": "white",
             "startlinecolor": "#2a3f5f"
            },
            "type": "carpet"
           }
          ],
          "choropleth": [
           {
            "colorbar": {
             "outlinewidth": 0,
             "ticks": ""
            },
            "type": "choropleth"
           }
          ],
          "contour": [
           {
            "colorbar": {
             "outlinewidth": 0,
             "ticks": ""
            },
            "colorscale": [
             [
              0,
              "#0d0887"
             ],
             [
              0.1111111111111111,
              "#46039f"
             ],
             [
              0.2222222222222222,
              "#7201a8"
             ],
             [
              0.3333333333333333,
              "#9c179e"
             ],
             [
              0.4444444444444444,
              "#bd3786"
             ],
             [
              0.5555555555555556,
              "#d8576b"
             ],
             [
              0.6666666666666666,
              "#ed7953"
             ],
             [
              0.7777777777777778,
              "#fb9f3a"
             ],
             [
              0.8888888888888888,
              "#fdca26"
             ],
             [
              1,
              "#f0f921"
             ]
            ],
            "type": "contour"
           }
          ],
          "contourcarpet": [
           {
            "colorbar": {
             "outlinewidth": 0,
             "ticks": ""
            },
            "type": "contourcarpet"
           }
          ],
          "heatmap": [
           {
            "colorbar": {
             "outlinewidth": 0,
             "ticks": ""
            },
            "colorscale": [
             [
              0,
              "#0d0887"
             ],
             [
              0.1111111111111111,
              "#46039f"
             ],
             [
              0.2222222222222222,
              "#7201a8"
             ],
             [
              0.3333333333333333,
              "#9c179e"
             ],
             [
              0.4444444444444444,
              "#bd3786"
             ],
             [
              0.5555555555555556,
              "#d8576b"
             ],
             [
              0.6666666666666666,
              "#ed7953"
             ],
             [
              0.7777777777777778,
              "#fb9f3a"
             ],
             [
              0.8888888888888888,
              "#fdca26"
             ],
             [
              1,
              "#f0f921"
             ]
            ],
            "type": "heatmap"
           }
          ],
          "heatmapgl": [
           {
            "colorbar": {
             "outlinewidth": 0,
             "ticks": ""
            },
            "colorscale": [
             [
              0,
              "#0d0887"
             ],
             [
              0.1111111111111111,
              "#46039f"
             ],
             [
              0.2222222222222222,
              "#7201a8"
             ],
             [
              0.3333333333333333,
              "#9c179e"
             ],
             [
              0.4444444444444444,
              "#bd3786"
             ],
             [
              0.5555555555555556,
              "#d8576b"
             ],
             [
              0.6666666666666666,
              "#ed7953"
             ],
             [
              0.7777777777777778,
              "#fb9f3a"
             ],
             [
              0.8888888888888888,
              "#fdca26"
             ],
             [
              1,
              "#f0f921"
             ]
            ],
            "type": "heatmapgl"
           }
          ],
          "histogram": [
           {
            "marker": {
             "colorbar": {
              "outlinewidth": 0,
              "ticks": ""
             }
            },
            "type": "histogram"
           }
          ],
          "histogram2d": [
           {
            "colorbar": {
             "outlinewidth": 0,
             "ticks": ""
            },
            "colorscale": [
             [
              0,
              "#0d0887"
             ],
             [
              0.1111111111111111,
              "#46039f"
             ],
             [
              0.2222222222222222,
              "#7201a8"
             ],
             [
              0.3333333333333333,
              "#9c179e"
             ],
             [
              0.4444444444444444,
              "#bd3786"
             ],
             [
              0.5555555555555556,
              "#d8576b"
             ],
             [
              0.6666666666666666,
              "#ed7953"
             ],
             [
              0.7777777777777778,
              "#fb9f3a"
             ],
             [
              0.8888888888888888,
              "#fdca26"
             ],
             [
              1,
              "#f0f921"
             ]
            ],
            "type": "histogram2d"
           }
          ],
          "histogram2dcontour": [
           {
            "colorbar": {
             "outlinewidth": 0,
             "ticks": ""
            },
            "colorscale": [
             [
              0,
              "#0d0887"
             ],
             [
              0.1111111111111111,
              "#46039f"
             ],
             [
              0.2222222222222222,
              "#7201a8"
             ],
             [
              0.3333333333333333,
              "#9c179e"
             ],
             [
              0.4444444444444444,
              "#bd3786"
             ],
             [
              0.5555555555555556,
              "#d8576b"
             ],
             [
              0.6666666666666666,
              "#ed7953"
             ],
             [
              0.7777777777777778,
              "#fb9f3a"
             ],
             [
              0.8888888888888888,
              "#fdca26"
             ],
             [
              1,
              "#f0f921"
             ]
            ],
            "type": "histogram2dcontour"
           }
          ],
          "mesh3d": [
           {
            "colorbar": {
             "outlinewidth": 0,
             "ticks": ""
            },
            "type": "mesh3d"
           }
          ],
          "parcoords": [
           {
            "line": {
             "colorbar": {
              "outlinewidth": 0,
              "ticks": ""
             }
            },
            "type": "parcoords"
           }
          ],
          "pie": [
           {
            "automargin": true,
            "type": "pie"
           }
          ],
          "scatter": [
           {
            "marker": {
             "colorbar": {
              "outlinewidth": 0,
              "ticks": ""
             }
            },
            "type": "scatter"
           }
          ],
          "scatter3d": [
           {
            "line": {
             "colorbar": {
              "outlinewidth": 0,
              "ticks": ""
             }
            },
            "marker": {
             "colorbar": {
              "outlinewidth": 0,
              "ticks": ""
             }
            },
            "type": "scatter3d"
           }
          ],
          "scattercarpet": [
           {
            "marker": {
             "colorbar": {
              "outlinewidth": 0,
              "ticks": ""
             }
            },
            "type": "scattercarpet"
           }
          ],
          "scattergeo": [
           {
            "marker": {
             "colorbar": {
              "outlinewidth": 0,
              "ticks": ""
             }
            },
            "type": "scattergeo"
           }
          ],
          "scattergl": [
           {
            "marker": {
             "colorbar": {
              "outlinewidth": 0,
              "ticks": ""
             }
            },
            "type": "scattergl"
           }
          ],
          "scattermapbox": [
           {
            "marker": {
             "colorbar": {
              "outlinewidth": 0,
              "ticks": ""
             }
            },
            "type": "scattermapbox"
           }
          ],
          "scatterpolar": [
           {
            "marker": {
             "colorbar": {
              "outlinewidth": 0,
              "ticks": ""
             }
            },
            "type": "scatterpolar"
           }
          ],
          "scatterpolargl": [
           {
            "marker": {
             "colorbar": {
              "outlinewidth": 0,
              "ticks": ""
             }
            },
            "type": "scatterpolargl"
           }
          ],
          "scatterternary": [
           {
            "marker": {
             "colorbar": {
              "outlinewidth": 0,
              "ticks": ""
             }
            },
            "type": "scatterternary"
           }
          ],
          "surface": [
           {
            "colorbar": {
             "outlinewidth": 0,
             "ticks": ""
            },
            "colorscale": [
             [
              0,
              "#0d0887"
             ],
             [
              0.1111111111111111,
              "#46039f"
             ],
             [
              0.2222222222222222,
              "#7201a8"
             ],
             [
              0.3333333333333333,
              "#9c179e"
             ],
             [
              0.4444444444444444,
              "#bd3786"
             ],
             [
              0.5555555555555556,
              "#d8576b"
             ],
             [
              0.6666666666666666,
              "#ed7953"
             ],
             [
              0.7777777777777778,
              "#fb9f3a"
             ],
             [
              0.8888888888888888,
              "#fdca26"
             ],
             [
              1,
              "#f0f921"
             ]
            ],
            "type": "surface"
           }
          ],
          "table": [
           {
            "cells": {
             "fill": {
              "color": "#EBF0F8"
             },
             "line": {
              "color": "white"
             }
            },
            "header": {
             "fill": {
              "color": "#C8D4E3"
             },
             "line": {
              "color": "white"
             }
            },
            "type": "table"
           }
          ]
         },
         "layout": {
          "annotationdefaults": {
           "arrowcolor": "#2a3f5f",
           "arrowhead": 0,
           "arrowwidth": 1
          },
          "coloraxis": {
           "colorbar": {
            "outlinewidth": 0,
            "ticks": ""
           }
          },
          "colorscale": {
           "diverging": [
            [
             0,
             "#8e0152"
            ],
            [
             0.1,
             "#c51b7d"
            ],
            [
             0.2,
             "#de77ae"
            ],
            [
             0.3,
             "#f1b6da"
            ],
            [
             0.4,
             "#fde0ef"
            ],
            [
             0.5,
             "#f7f7f7"
            ],
            [
             0.6,
             "#e6f5d0"
            ],
            [
             0.7,
             "#b8e186"
            ],
            [
             0.8,
             "#7fbc41"
            ],
            [
             0.9,
             "#4d9221"
            ],
            [
             1,
             "#276419"
            ]
           ],
           "sequential": [
            [
             0,
             "#0d0887"
            ],
            [
             0.1111111111111111,
             "#46039f"
            ],
            [
             0.2222222222222222,
             "#7201a8"
            ],
            [
             0.3333333333333333,
             "#9c179e"
            ],
            [
             0.4444444444444444,
             "#bd3786"
            ],
            [
             0.5555555555555556,
             "#d8576b"
            ],
            [
             0.6666666666666666,
             "#ed7953"
            ],
            [
             0.7777777777777778,
             "#fb9f3a"
            ],
            [
             0.8888888888888888,
             "#fdca26"
            ],
            [
             1,
             "#f0f921"
            ]
           ],
           "sequentialminus": [
            [
             0,
             "#0d0887"
            ],
            [
             0.1111111111111111,
             "#46039f"
            ],
            [
             0.2222222222222222,
             "#7201a8"
            ],
            [
             0.3333333333333333,
             "#9c179e"
            ],
            [
             0.4444444444444444,
             "#bd3786"
            ],
            [
             0.5555555555555556,
             "#d8576b"
            ],
            [
             0.6666666666666666,
             "#ed7953"
            ],
            [
             0.7777777777777778,
             "#fb9f3a"
            ],
            [
             0.8888888888888888,
             "#fdca26"
            ],
            [
             1,
             "#f0f921"
            ]
           ]
          },
          "colorway": [
           "#636efa",
           "#EF553B",
           "#00cc96",
           "#ab63fa",
           "#FFA15A",
           "#19d3f3",
           "#FF6692",
           "#B6E880",
           "#FF97FF",
           "#FECB52"
          ],
          "font": {
           "color": "#2a3f5f"
          },
          "geo": {
           "bgcolor": "white",
           "lakecolor": "white",
           "landcolor": "#E5ECF6",
           "showlakes": true,
           "showland": true,
           "subunitcolor": "white"
          },
          "hoverlabel": {
           "align": "left"
          },
          "hovermode": "closest",
          "mapbox": {
           "style": "light"
          },
          "paper_bgcolor": "white",
          "plot_bgcolor": "#E5ECF6",
          "polar": {
           "angularaxis": {
            "gridcolor": "white",
            "linecolor": "white",
            "ticks": ""
           },
           "bgcolor": "#E5ECF6",
           "radialaxis": {
            "gridcolor": "white",
            "linecolor": "white",
            "ticks": ""
           }
          },
          "scene": {
           "xaxis": {
            "backgroundcolor": "#E5ECF6",
            "gridcolor": "white",
            "gridwidth": 2,
            "linecolor": "white",
            "showbackground": true,
            "ticks": "",
            "zerolinecolor": "white"
           },
           "yaxis": {
            "backgroundcolor": "#E5ECF6",
            "gridcolor": "white",
            "gridwidth": 2,
            "linecolor": "white",
            "showbackground": true,
            "ticks": "",
            "zerolinecolor": "white"
           },
           "zaxis": {
            "backgroundcolor": "#E5ECF6",
            "gridcolor": "white",
            "gridwidth": 2,
            "linecolor": "white",
            "showbackground": true,
            "ticks": "",
            "zerolinecolor": "white"
           }
          },
          "shapedefaults": {
           "line": {
            "color": "#2a3f5f"
           }
          },
          "ternary": {
           "aaxis": {
            "gridcolor": "white",
            "linecolor": "white",
            "ticks": ""
           },
           "baxis": {
            "gridcolor": "white",
            "linecolor": "white",
            "ticks": ""
           },
           "bgcolor": "#E5ECF6",
           "caxis": {
            "gridcolor": "white",
            "linecolor": "white",
            "ticks": ""
           }
          },
          "title": {
           "x": 0.05
          },
          "xaxis": {
           "automargin": true,
           "gridcolor": "white",
           "linecolor": "white",
           "ticks": "",
           "title": {
            "standoff": 15
           },
           "zerolinecolor": "white",
           "zerolinewidth": 2
          },
          "yaxis": {
           "automargin": true,
           "gridcolor": "white",
           "linecolor": "white",
           "ticks": "",
           "title": {
            "standoff": 15
           },
           "zerolinecolor": "white",
           "zerolinewidth": 2
          }
         }
        },
        "title": {
         "text": "Распределение сетевых и не сетевых заведений по количеству"
        }
       }
      },
      "text/html": [
       "<div>\n",
       "        \n",
       "        \n",
       "            <div id=\"b4234664-0c20-458a-8d76-af386314b2be\" class=\"plotly-graph-div\" style=\"height:525px; width:100%;\"></div>\n",
       "            <script type=\"text/javascript\">\n",
       "                require([\"plotly\"], function(Plotly) {\n",
       "                    window.PLOTLYENV=window.PLOTLYENV || {};\n",
       "                    \n",
       "                if (document.getElementById(\"b4234664-0c20-458a-8d76-af386314b2be\")) {\n",
       "                    Plotly.newPlot(\n",
       "                        'b4234664-0c20-458a-8d76-af386314b2be',\n",
       "                        [{\"labels\": [\"\\u0434\\u0430\", \"\\u0434\\u0430\", \"\\u0434\\u0430\", \"\\u0434\\u0430\", \"\\u0434\\u0430\", \"\\u0434\\u0430\", \"\\u0434\\u0430\", \"\\u0434\\u0430\", \"\\u0434\\u0430\", \"\\u043d\\u0435\\u0442\", \"\\u043d\\u0435\\u0442\", \"\\u043d\\u0435\\u0442\", \"\\u043d\\u0435\\u0442\", \"\\u043d\\u0435\\u0442\", \"\\u043d\\u0435\\u0442\", \"\\u043d\\u0435\\u0442\", \"\\u043d\\u0435\\u0442\", \"\\u043d\\u0435\\u0442\"], \"marker\": {\"colors\": [\"gold\"]}, \"type\": \"pie\", \"values\": [37, 11, 56, 1396, 52, 78, 788, 543, 3, 818, 566, 293, 4675, 343, 195, 1110, 1739, 2581]}],\n",
       "                        {\"template\": {\"data\": {\"bar\": [{\"error_x\": {\"color\": \"#2a3f5f\"}, \"error_y\": {\"color\": \"#2a3f5f\"}, \"marker\": {\"line\": {\"color\": \"#E5ECF6\", \"width\": 0.5}}, \"type\": \"bar\"}], \"barpolar\": [{\"marker\": {\"line\": {\"color\": \"#E5ECF6\", \"width\": 0.5}}, \"type\": \"barpolar\"}], \"carpet\": [{\"aaxis\": {\"endlinecolor\": \"#2a3f5f\", \"gridcolor\": \"white\", \"linecolor\": \"white\", \"minorgridcolor\": \"white\", \"startlinecolor\": \"#2a3f5f\"}, \"baxis\": {\"endlinecolor\": \"#2a3f5f\", \"gridcolor\": \"white\", \"linecolor\": \"white\", \"minorgridcolor\": \"white\", \"startlinecolor\": \"#2a3f5f\"}, \"type\": \"carpet\"}], \"choropleth\": [{\"colorbar\": {\"outlinewidth\": 0, \"ticks\": \"\"}, \"type\": \"choropleth\"}], \"contour\": [{\"colorbar\": {\"outlinewidth\": 0, \"ticks\": \"\"}, \"colorscale\": [[0.0, \"#0d0887\"], [0.1111111111111111, \"#46039f\"], [0.2222222222222222, \"#7201a8\"], [0.3333333333333333, \"#9c179e\"], [0.4444444444444444, \"#bd3786\"], [0.5555555555555556, \"#d8576b\"], [0.6666666666666666, \"#ed7953\"], [0.7777777777777778, \"#fb9f3a\"], [0.8888888888888888, \"#fdca26\"], [1.0, \"#f0f921\"]], \"type\": \"contour\"}], \"contourcarpet\": [{\"colorbar\": {\"outlinewidth\": 0, \"ticks\": \"\"}, \"type\": \"contourcarpet\"}], \"heatmap\": [{\"colorbar\": {\"outlinewidth\": 0, \"ticks\": \"\"}, \"colorscale\": [[0.0, \"#0d0887\"], [0.1111111111111111, \"#46039f\"], [0.2222222222222222, \"#7201a8\"], [0.3333333333333333, \"#9c179e\"], [0.4444444444444444, \"#bd3786\"], [0.5555555555555556, \"#d8576b\"], [0.6666666666666666, \"#ed7953\"], [0.7777777777777778, \"#fb9f3a\"], [0.8888888888888888, \"#fdca26\"], [1.0, \"#f0f921\"]], \"type\": \"heatmap\"}], \"heatmapgl\": [{\"colorbar\": {\"outlinewidth\": 0, \"ticks\": \"\"}, \"colorscale\": [[0.0, \"#0d0887\"], [0.1111111111111111, \"#46039f\"], [0.2222222222222222, \"#7201a8\"], [0.3333333333333333, \"#9c179e\"], [0.4444444444444444, \"#bd3786\"], [0.5555555555555556, \"#d8576b\"], [0.6666666666666666, \"#ed7953\"], [0.7777777777777778, \"#fb9f3a\"], [0.8888888888888888, \"#fdca26\"], [1.0, \"#f0f921\"]], \"type\": \"heatmapgl\"}], \"histogram\": [{\"marker\": {\"colorbar\": {\"outlinewidth\": 0, \"ticks\": \"\"}}, \"type\": \"histogram\"}], \"histogram2d\": [{\"colorbar\": {\"outlinewidth\": 0, \"ticks\": \"\"}, \"colorscale\": [[0.0, \"#0d0887\"], [0.1111111111111111, \"#46039f\"], [0.2222222222222222, \"#7201a8\"], [0.3333333333333333, \"#9c179e\"], [0.4444444444444444, \"#bd3786\"], [0.5555555555555556, \"#d8576b\"], [0.6666666666666666, \"#ed7953\"], [0.7777777777777778, \"#fb9f3a\"], [0.8888888888888888, \"#fdca26\"], [1.0, \"#f0f921\"]], \"type\": \"histogram2d\"}], \"histogram2dcontour\": [{\"colorbar\": {\"outlinewidth\": 0, \"ticks\": \"\"}, \"colorscale\": [[0.0, \"#0d0887\"], [0.1111111111111111, \"#46039f\"], [0.2222222222222222, \"#7201a8\"], [0.3333333333333333, \"#9c179e\"], [0.4444444444444444, \"#bd3786\"], [0.5555555555555556, \"#d8576b\"], [0.6666666666666666, \"#ed7953\"], [0.7777777777777778, \"#fb9f3a\"], [0.8888888888888888, \"#fdca26\"], [1.0, \"#f0f921\"]], \"type\": \"histogram2dcontour\"}], \"mesh3d\": [{\"colorbar\": {\"outlinewidth\": 0, \"ticks\": \"\"}, \"type\": \"mesh3d\"}], \"parcoords\": [{\"line\": {\"colorbar\": {\"outlinewidth\": 0, \"ticks\": \"\"}}, \"type\": \"parcoords\"}], \"pie\": [{\"automargin\": true, \"type\": \"pie\"}], \"scatter\": [{\"marker\": {\"colorbar\": {\"outlinewidth\": 0, \"ticks\": \"\"}}, \"type\": \"scatter\"}], \"scatter3d\": [{\"line\": {\"colorbar\": {\"outlinewidth\": 0, \"ticks\": \"\"}}, \"marker\": {\"colorbar\": {\"outlinewidth\": 0, \"ticks\": \"\"}}, \"type\": \"scatter3d\"}], \"scattercarpet\": [{\"marker\": {\"colorbar\": {\"outlinewidth\": 0, \"ticks\": \"\"}}, \"type\": \"scattercarpet\"}], \"scattergeo\": [{\"marker\": {\"colorbar\": {\"outlinewidth\": 0, \"ticks\": \"\"}}, \"type\": \"scattergeo\"}], \"scattergl\": [{\"marker\": {\"colorbar\": {\"outlinewidth\": 0, \"ticks\": \"\"}}, \"type\": \"scattergl\"}], \"scattermapbox\": [{\"marker\": {\"colorbar\": {\"outlinewidth\": 0, \"ticks\": \"\"}}, \"type\": \"scattermapbox\"}], \"scatterpolar\": [{\"marker\": {\"colorbar\": {\"outlinewidth\": 0, \"ticks\": \"\"}}, \"type\": \"scatterpolar\"}], \"scatterpolargl\": [{\"marker\": {\"colorbar\": {\"outlinewidth\": 0, \"ticks\": \"\"}}, \"type\": \"scatterpolargl\"}], \"scatterternary\": [{\"marker\": {\"colorbar\": {\"outlinewidth\": 0, \"ticks\": \"\"}}, \"type\": \"scatterternary\"}], \"surface\": [{\"colorbar\": {\"outlinewidth\": 0, \"ticks\": \"\"}, \"colorscale\": [[0.0, \"#0d0887\"], [0.1111111111111111, \"#46039f\"], [0.2222222222222222, \"#7201a8\"], [0.3333333333333333, \"#9c179e\"], [0.4444444444444444, \"#bd3786\"], [0.5555555555555556, \"#d8576b\"], [0.6666666666666666, \"#ed7953\"], [0.7777777777777778, \"#fb9f3a\"], [0.8888888888888888, \"#fdca26\"], [1.0, \"#f0f921\"]], \"type\": \"surface\"}], \"table\": [{\"cells\": {\"fill\": {\"color\": \"#EBF0F8\"}, \"line\": {\"color\": \"white\"}}, \"header\": {\"fill\": {\"color\": \"#C8D4E3\"}, \"line\": {\"color\": \"white\"}}, \"type\": \"table\"}]}, \"layout\": {\"annotationdefaults\": {\"arrowcolor\": \"#2a3f5f\", \"arrowhead\": 0, \"arrowwidth\": 1}, \"coloraxis\": {\"colorbar\": {\"outlinewidth\": 0, \"ticks\": \"\"}}, \"colorscale\": {\"diverging\": [[0, \"#8e0152\"], [0.1, \"#c51b7d\"], [0.2, \"#de77ae\"], [0.3, \"#f1b6da\"], [0.4, \"#fde0ef\"], [0.5, \"#f7f7f7\"], [0.6, \"#e6f5d0\"], [0.7, \"#b8e186\"], [0.8, \"#7fbc41\"], [0.9, \"#4d9221\"], [1, \"#276419\"]], \"sequential\": [[0.0, \"#0d0887\"], [0.1111111111111111, \"#46039f\"], [0.2222222222222222, \"#7201a8\"], [0.3333333333333333, \"#9c179e\"], [0.4444444444444444, \"#bd3786\"], [0.5555555555555556, \"#d8576b\"], [0.6666666666666666, \"#ed7953\"], [0.7777777777777778, \"#fb9f3a\"], [0.8888888888888888, \"#fdca26\"], [1.0, \"#f0f921\"]], \"sequentialminus\": [[0.0, \"#0d0887\"], [0.1111111111111111, \"#46039f\"], [0.2222222222222222, \"#7201a8\"], [0.3333333333333333, \"#9c179e\"], [0.4444444444444444, \"#bd3786\"], [0.5555555555555556, \"#d8576b\"], [0.6666666666666666, \"#ed7953\"], [0.7777777777777778, \"#fb9f3a\"], [0.8888888888888888, \"#fdca26\"], [1.0, \"#f0f921\"]]}, \"colorway\": [\"#636efa\", \"#EF553B\", \"#00cc96\", \"#ab63fa\", \"#FFA15A\", \"#19d3f3\", \"#FF6692\", \"#B6E880\", \"#FF97FF\", \"#FECB52\"], \"font\": {\"color\": \"#2a3f5f\"}, \"geo\": {\"bgcolor\": \"white\", \"lakecolor\": \"white\", \"landcolor\": \"#E5ECF6\", \"showlakes\": true, \"showland\": true, \"subunitcolor\": \"white\"}, \"hoverlabel\": {\"align\": \"left\"}, \"hovermode\": \"closest\", \"mapbox\": {\"style\": \"light\"}, \"paper_bgcolor\": \"white\", \"plot_bgcolor\": \"#E5ECF6\", \"polar\": {\"angularaxis\": {\"gridcolor\": \"white\", \"linecolor\": \"white\", \"ticks\": \"\"}, \"bgcolor\": \"#E5ECF6\", \"radialaxis\": {\"gridcolor\": \"white\", \"linecolor\": \"white\", \"ticks\": \"\"}}, \"scene\": {\"xaxis\": {\"backgroundcolor\": \"#E5ECF6\", \"gridcolor\": \"white\", \"gridwidth\": 2, \"linecolor\": \"white\", \"showbackground\": true, \"ticks\": \"\", \"zerolinecolor\": \"white\"}, \"yaxis\": {\"backgroundcolor\": \"#E5ECF6\", \"gridcolor\": \"white\", \"gridwidth\": 2, \"linecolor\": \"white\", \"showbackground\": true, \"ticks\": \"\", \"zerolinecolor\": \"white\"}, \"zaxis\": {\"backgroundcolor\": \"#E5ECF6\", \"gridcolor\": \"white\", \"gridwidth\": 2, \"linecolor\": \"white\", \"showbackground\": true, \"ticks\": \"\", \"zerolinecolor\": \"white\"}}, \"shapedefaults\": {\"line\": {\"color\": \"#2a3f5f\"}}, \"ternary\": {\"aaxis\": {\"gridcolor\": \"white\", \"linecolor\": \"white\", \"ticks\": \"\"}, \"baxis\": {\"gridcolor\": \"white\", \"linecolor\": \"white\", \"ticks\": \"\"}, \"bgcolor\": \"#E5ECF6\", \"caxis\": {\"gridcolor\": \"white\", \"linecolor\": \"white\", \"ticks\": \"\"}}, \"title\": {\"x\": 0.05}, \"xaxis\": {\"automargin\": true, \"gridcolor\": \"white\", \"linecolor\": \"white\", \"ticks\": \"\", \"title\": {\"standoff\": 15}, \"zerolinecolor\": \"white\", \"zerolinewidth\": 2}, \"yaxis\": {\"automargin\": true, \"gridcolor\": \"white\", \"linecolor\": \"white\", \"ticks\": \"\", \"title\": {\"standoff\": 15}, \"zerolinecolor\": \"white\", \"zerolinewidth\": 2}}}, \"title\": {\"text\": \"\\u0420\\u0430\\u0441\\u043f\\u0440\\u0435\\u0434\\u0435\\u043b\\u0435\\u043d\\u0438\\u0435 \\u0441\\u0435\\u0442\\u0435\\u0432\\u044b\\u0445 \\u0438 \\u043d\\u0435 \\u0441\\u0435\\u0442\\u0435\\u0432\\u044b\\u0445 \\u0437\\u0430\\u0432\\u0435\\u0434\\u0435\\u043d\\u0438\\u0439 \\u043f\\u043e \\u043a\\u043e\\u043b\\u0438\\u0447\\u0435\\u0441\\u0442\\u0432\\u0443\"}},\n",
       "                        {\"responsive\": true}\n",
       "                    ).then(function(){\n",
       "                            \n",
       "var gd = document.getElementById('b4234664-0c20-458a-8d76-af386314b2be');\n",
       "var x = new MutationObserver(function (mutations, observer) {{\n",
       "        var display = window.getComputedStyle(gd).display;\n",
       "        if (!display || display === 'none') {{\n",
       "            console.log([gd, 'removed!']);\n",
       "            Plotly.purge(gd);\n",
       "            observer.disconnect();\n",
       "        }}\n",
       "}});\n",
       "\n",
       "// Listen for the removal of the full notebook cells\n",
       "var notebookContainer = gd.closest('#notebook-container');\n",
       "if (notebookContainer) {{\n",
       "    x.observe(notebookContainer, {childList: true});\n",
       "}}\n",
       "\n",
       "// Listen for the clearing of the current output cell\n",
       "var outputEl = gd.closest('.output');\n",
       "if (outputEl) {{\n",
       "    x.observe(outputEl, {childList: true});\n",
       "}}\n",
       "\n",
       "                        })\n",
       "                };\n",
       "                });\n",
       "            </script>\n",
       "        </div>"
      ]
     },
     "metadata": {},
     "output_type": "display_data"
    }
   ],
   "source": [
    "#построю фрейм, чтобы можно было посмотреть сразу и долю сетевых/не сетевых и распределение по видам заведений\n",
    "chain_type = df.groupby(['chain', 'object_type'])['id'].count().reset_index()\n",
    "\n",
    "colors = ['gold']\n",
    "name_chain = chain_type['chain']\n",
    "values_chain = chain_type['id']\n",
    "\n",
    "fig = go.Figure(data=[go.Pie(labels=name_chain, values=values_chain)])\n",
    "fig.update_layout(title_text='Распределение сетевых и не сетевых заведений по количеству')\n",
    "fig.update_traces(marker=dict(colors=colors))\n",
    "fig.show()"
   ]
  },
  {
   "cell_type": "code",
   "execution_count": 34,
   "metadata": {},
   "outputs": [
    {
     "data": {
      "application/vnd.plotly.v1+json": {
       "config": {
        "plotlyServerURL": "https://plot.ly"
       },
       "data": [
        {
         "alignmentgroup": "True",
         "hovertemplate": "chain=да<br>вид заведения=%{x}<br>количество, шт.=%{y}<extra></extra>",
         "legendgroup": "да",
         "marker": {
          "color": "#636efa"
         },
         "name": "да",
         "offsetgroup": "да",
         "orientation": "v",
         "showlegend": true,
         "textposition": "auto",
         "type": "bar",
         "x": [
          "бар",
          "буфет",
          "закусочная",
          "кафе",
          "кафетерий",
          "магазин (отдел кулинарии)",
          "предприятие быстрого обслуживания",
          "ресторан",
          "столовая"
         ],
         "xaxis": "x",
         "y": [
          37,
          11,
          56,
          1396,
          52,
          78,
          788,
          543,
          3
         ],
         "yaxis": "y"
        },
        {
         "alignmentgroup": "True",
         "hovertemplate": "chain=нет<br>вид заведения=%{x}<br>количество, шт.=%{y}<extra></extra>",
         "legendgroup": "нет",
         "marker": {
          "color": "#EF553B"
         },
         "name": "нет",
         "offsetgroup": "нет",
         "orientation": "v",
         "showlegend": true,
         "textposition": "auto",
         "type": "bar",
         "x": [
          "бар",
          "буфет",
          "закусочная",
          "кафе",
          "кафетерий",
          "магазин (отдел кулинарии)",
          "предприятие быстрого обслуживания",
          "ресторан",
          "столовая"
         ],
         "xaxis": "x",
         "y": [
          818,
          566,
          293,
          4675,
          343,
          195,
          1110,
          1739,
          2581
         ],
         "yaxis": "y"
        }
       ],
       "layout": {
        "barmode": "relative",
        "legend": {
         "title": {
          "text": "chain"
         },
         "tracegroupgap": 0
        },
        "template": {
         "data": {
          "bar": [
           {
            "error_x": {
             "color": "#2a3f5f"
            },
            "error_y": {
             "color": "#2a3f5f"
            },
            "marker": {
             "line": {
              "color": "#E5ECF6",
              "width": 0.5
             }
            },
            "type": "bar"
           }
          ],
          "barpolar": [
           {
            "marker": {
             "line": {
              "color": "#E5ECF6",
              "width": 0.5
             }
            },
            "type": "barpolar"
           }
          ],
          "carpet": [
           {
            "aaxis": {
             "endlinecolor": "#2a3f5f",
             "gridcolor": "white",
             "linecolor": "white",
             "minorgridcolor": "white",
             "startlinecolor": "#2a3f5f"
            },
            "baxis": {
             "endlinecolor": "#2a3f5f",
             "gridcolor": "white",
             "linecolor": "white",
             "minorgridcolor": "white",
             "startlinecolor": "#2a3f5f"
            },
            "type": "carpet"
           }
          ],
          "choropleth": [
           {
            "colorbar": {
             "outlinewidth": 0,
             "ticks": ""
            },
            "type": "choropleth"
           }
          ],
          "contour": [
           {
            "colorbar": {
             "outlinewidth": 0,
             "ticks": ""
            },
            "colorscale": [
             [
              0,
              "#0d0887"
             ],
             [
              0.1111111111111111,
              "#46039f"
             ],
             [
              0.2222222222222222,
              "#7201a8"
             ],
             [
              0.3333333333333333,
              "#9c179e"
             ],
             [
              0.4444444444444444,
              "#bd3786"
             ],
             [
              0.5555555555555556,
              "#d8576b"
             ],
             [
              0.6666666666666666,
              "#ed7953"
             ],
             [
              0.7777777777777778,
              "#fb9f3a"
             ],
             [
              0.8888888888888888,
              "#fdca26"
             ],
             [
              1,
              "#f0f921"
             ]
            ],
            "type": "contour"
           }
          ],
          "contourcarpet": [
           {
            "colorbar": {
             "outlinewidth": 0,
             "ticks": ""
            },
            "type": "contourcarpet"
           }
          ],
          "heatmap": [
           {
            "colorbar": {
             "outlinewidth": 0,
             "ticks": ""
            },
            "colorscale": [
             [
              0,
              "#0d0887"
             ],
             [
              0.1111111111111111,
              "#46039f"
             ],
             [
              0.2222222222222222,
              "#7201a8"
             ],
             [
              0.3333333333333333,
              "#9c179e"
             ],
             [
              0.4444444444444444,
              "#bd3786"
             ],
             [
              0.5555555555555556,
              "#d8576b"
             ],
             [
              0.6666666666666666,
              "#ed7953"
             ],
             [
              0.7777777777777778,
              "#fb9f3a"
             ],
             [
              0.8888888888888888,
              "#fdca26"
             ],
             [
              1,
              "#f0f921"
             ]
            ],
            "type": "heatmap"
           }
          ],
          "heatmapgl": [
           {
            "colorbar": {
             "outlinewidth": 0,
             "ticks": ""
            },
            "colorscale": [
             [
              0,
              "#0d0887"
             ],
             [
              0.1111111111111111,
              "#46039f"
             ],
             [
              0.2222222222222222,
              "#7201a8"
             ],
             [
              0.3333333333333333,
              "#9c179e"
             ],
             [
              0.4444444444444444,
              "#bd3786"
             ],
             [
              0.5555555555555556,
              "#d8576b"
             ],
             [
              0.6666666666666666,
              "#ed7953"
             ],
             [
              0.7777777777777778,
              "#fb9f3a"
             ],
             [
              0.8888888888888888,
              "#fdca26"
             ],
             [
              1,
              "#f0f921"
             ]
            ],
            "type": "heatmapgl"
           }
          ],
          "histogram": [
           {
            "marker": {
             "colorbar": {
              "outlinewidth": 0,
              "ticks": ""
             }
            },
            "type": "histogram"
           }
          ],
          "histogram2d": [
           {
            "colorbar": {
             "outlinewidth": 0,
             "ticks": ""
            },
            "colorscale": [
             [
              0,
              "#0d0887"
             ],
             [
              0.1111111111111111,
              "#46039f"
             ],
             [
              0.2222222222222222,
              "#7201a8"
             ],
             [
              0.3333333333333333,
              "#9c179e"
             ],
             [
              0.4444444444444444,
              "#bd3786"
             ],
             [
              0.5555555555555556,
              "#d8576b"
             ],
             [
              0.6666666666666666,
              "#ed7953"
             ],
             [
              0.7777777777777778,
              "#fb9f3a"
             ],
             [
              0.8888888888888888,
              "#fdca26"
             ],
             [
              1,
              "#f0f921"
             ]
            ],
            "type": "histogram2d"
           }
          ],
          "histogram2dcontour": [
           {
            "colorbar": {
             "outlinewidth": 0,
             "ticks": ""
            },
            "colorscale": [
             [
              0,
              "#0d0887"
             ],
             [
              0.1111111111111111,
              "#46039f"
             ],
             [
              0.2222222222222222,
              "#7201a8"
             ],
             [
              0.3333333333333333,
              "#9c179e"
             ],
             [
              0.4444444444444444,
              "#bd3786"
             ],
             [
              0.5555555555555556,
              "#d8576b"
             ],
             [
              0.6666666666666666,
              "#ed7953"
             ],
             [
              0.7777777777777778,
              "#fb9f3a"
             ],
             [
              0.8888888888888888,
              "#fdca26"
             ],
             [
              1,
              "#f0f921"
             ]
            ],
            "type": "histogram2dcontour"
           }
          ],
          "mesh3d": [
           {
            "colorbar": {
             "outlinewidth": 0,
             "ticks": ""
            },
            "type": "mesh3d"
           }
          ],
          "parcoords": [
           {
            "line": {
             "colorbar": {
              "outlinewidth": 0,
              "ticks": ""
             }
            },
            "type": "parcoords"
           }
          ],
          "pie": [
           {
            "automargin": true,
            "type": "pie"
           }
          ],
          "scatter": [
           {
            "marker": {
             "colorbar": {
              "outlinewidth": 0,
              "ticks": ""
             }
            },
            "type": "scatter"
           }
          ],
          "scatter3d": [
           {
            "line": {
             "colorbar": {
              "outlinewidth": 0,
              "ticks": ""
             }
            },
            "marker": {
             "colorbar": {
              "outlinewidth": 0,
              "ticks": ""
             }
            },
            "type": "scatter3d"
           }
          ],
          "scattercarpet": [
           {
            "marker": {
             "colorbar": {
              "outlinewidth": 0,
              "ticks": ""
             }
            },
            "type": "scattercarpet"
           }
          ],
          "scattergeo": [
           {
            "marker": {
             "colorbar": {
              "outlinewidth": 0,
              "ticks": ""
             }
            },
            "type": "scattergeo"
           }
          ],
          "scattergl": [
           {
            "marker": {
             "colorbar": {
              "outlinewidth": 0,
              "ticks": ""
             }
            },
            "type": "scattergl"
           }
          ],
          "scattermapbox": [
           {
            "marker": {
             "colorbar": {
              "outlinewidth": 0,
              "ticks": ""
             }
            },
            "type": "scattermapbox"
           }
          ],
          "scatterpolar": [
           {
            "marker": {
             "colorbar": {
              "outlinewidth": 0,
              "ticks": ""
             }
            },
            "type": "scatterpolar"
           }
          ],
          "scatterpolargl": [
           {
            "marker": {
             "colorbar": {
              "outlinewidth": 0,
              "ticks": ""
             }
            },
            "type": "scatterpolargl"
           }
          ],
          "scatterternary": [
           {
            "marker": {
             "colorbar": {
              "outlinewidth": 0,
              "ticks": ""
             }
            },
            "type": "scatterternary"
           }
          ],
          "surface": [
           {
            "colorbar": {
             "outlinewidth": 0,
             "ticks": ""
            },
            "colorscale": [
             [
              0,
              "#0d0887"
             ],
             [
              0.1111111111111111,
              "#46039f"
             ],
             [
              0.2222222222222222,
              "#7201a8"
             ],
             [
              0.3333333333333333,
              "#9c179e"
             ],
             [
              0.4444444444444444,
              "#bd3786"
             ],
             [
              0.5555555555555556,
              "#d8576b"
             ],
             [
              0.6666666666666666,
              "#ed7953"
             ],
             [
              0.7777777777777778,
              "#fb9f3a"
             ],
             [
              0.8888888888888888,
              "#fdca26"
             ],
             [
              1,
              "#f0f921"
             ]
            ],
            "type": "surface"
           }
          ],
          "table": [
           {
            "cells": {
             "fill": {
              "color": "#EBF0F8"
             },
             "line": {
              "color": "white"
             }
            },
            "header": {
             "fill": {
              "color": "#C8D4E3"
             },
             "line": {
              "color": "white"
             }
            },
            "type": "table"
           }
          ]
         },
         "layout": {
          "annotationdefaults": {
           "arrowcolor": "#2a3f5f",
           "arrowhead": 0,
           "arrowwidth": 1
          },
          "coloraxis": {
           "colorbar": {
            "outlinewidth": 0,
            "ticks": ""
           }
          },
          "colorscale": {
           "diverging": [
            [
             0,
             "#8e0152"
            ],
            [
             0.1,
             "#c51b7d"
            ],
            [
             0.2,
             "#de77ae"
            ],
            [
             0.3,
             "#f1b6da"
            ],
            [
             0.4,
             "#fde0ef"
            ],
            [
             0.5,
             "#f7f7f7"
            ],
            [
             0.6,
             "#e6f5d0"
            ],
            [
             0.7,
             "#b8e186"
            ],
            [
             0.8,
             "#7fbc41"
            ],
            [
             0.9,
             "#4d9221"
            ],
            [
             1,
             "#276419"
            ]
           ],
           "sequential": [
            [
             0,
             "#0d0887"
            ],
            [
             0.1111111111111111,
             "#46039f"
            ],
            [
             0.2222222222222222,
             "#7201a8"
            ],
            [
             0.3333333333333333,
             "#9c179e"
            ],
            [
             0.4444444444444444,
             "#bd3786"
            ],
            [
             0.5555555555555556,
             "#d8576b"
            ],
            [
             0.6666666666666666,
             "#ed7953"
            ],
            [
             0.7777777777777778,
             "#fb9f3a"
            ],
            [
             0.8888888888888888,
             "#fdca26"
            ],
            [
             1,
             "#f0f921"
            ]
           ],
           "sequentialminus": [
            [
             0,
             "#0d0887"
            ],
            [
             0.1111111111111111,
             "#46039f"
            ],
            [
             0.2222222222222222,
             "#7201a8"
            ],
            [
             0.3333333333333333,
             "#9c179e"
            ],
            [
             0.4444444444444444,
             "#bd3786"
            ],
            [
             0.5555555555555556,
             "#d8576b"
            ],
            [
             0.6666666666666666,
             "#ed7953"
            ],
            [
             0.7777777777777778,
             "#fb9f3a"
            ],
            [
             0.8888888888888888,
             "#fdca26"
            ],
            [
             1,
             "#f0f921"
            ]
           ]
          },
          "colorway": [
           "#636efa",
           "#EF553B",
           "#00cc96",
           "#ab63fa",
           "#FFA15A",
           "#19d3f3",
           "#FF6692",
           "#B6E880",
           "#FF97FF",
           "#FECB52"
          ],
          "font": {
           "color": "#2a3f5f"
          },
          "geo": {
           "bgcolor": "white",
           "lakecolor": "white",
           "landcolor": "#E5ECF6",
           "showlakes": true,
           "showland": true,
           "subunitcolor": "white"
          },
          "hoverlabel": {
           "align": "left"
          },
          "hovermode": "closest",
          "mapbox": {
           "style": "light"
          },
          "paper_bgcolor": "white",
          "plot_bgcolor": "#E5ECF6",
          "polar": {
           "angularaxis": {
            "gridcolor": "white",
            "linecolor": "white",
            "ticks": ""
           },
           "bgcolor": "#E5ECF6",
           "radialaxis": {
            "gridcolor": "white",
            "linecolor": "white",
            "ticks": ""
           }
          },
          "scene": {
           "xaxis": {
            "backgroundcolor": "#E5ECF6",
            "gridcolor": "white",
            "gridwidth": 2,
            "linecolor": "white",
            "showbackground": true,
            "ticks": "",
            "zerolinecolor": "white"
           },
           "yaxis": {
            "backgroundcolor": "#E5ECF6",
            "gridcolor": "white",
            "gridwidth": 2,
            "linecolor": "white",
            "showbackground": true,
            "ticks": "",
            "zerolinecolor": "white"
           },
           "zaxis": {
            "backgroundcolor": "#E5ECF6",
            "gridcolor": "white",
            "gridwidth": 2,
            "linecolor": "white",
            "showbackground": true,
            "ticks": "",
            "zerolinecolor": "white"
           }
          },
          "shapedefaults": {
           "line": {
            "color": "#2a3f5f"
           }
          },
          "ternary": {
           "aaxis": {
            "gridcolor": "white",
            "linecolor": "white",
            "ticks": ""
           },
           "baxis": {
            "gridcolor": "white",
            "linecolor": "white",
            "ticks": ""
           },
           "bgcolor": "#E5ECF6",
           "caxis": {
            "gridcolor": "white",
            "linecolor": "white",
            "ticks": ""
           }
          },
          "title": {
           "x": 0.05
          },
          "xaxis": {
           "automargin": true,
           "gridcolor": "white",
           "linecolor": "white",
           "ticks": "",
           "title": {
            "standoff": 15
           },
           "zerolinecolor": "white",
           "zerolinewidth": 2
          },
          "yaxis": {
           "automargin": true,
           "gridcolor": "white",
           "linecolor": "white",
           "ticks": "",
           "title": {
            "standoff": 15
           },
           "zerolinecolor": "white",
           "zerolinewidth": 2
          }
         }
        },
        "title": {
         "text": "Отношение сетевых/несетевых мест по виду заведения"
        },
        "xaxis": {
         "anchor": "y",
         "domain": [
          0,
          1
         ],
         "title": {
          "text": "вид заведения"
         }
        },
        "yaxis": {
         "anchor": "x",
         "domain": [
          0,
          1
         ],
         "title": {
          "text": "количество, шт."
         }
        }
       }
      },
      "text/html": [
       "<div>\n",
       "        \n",
       "        \n",
       "            <div id=\"0c4fbdff-1e3b-4cbd-b624-fa874530d885\" class=\"plotly-graph-div\" style=\"height:525px; width:100%;\"></div>\n",
       "            <script type=\"text/javascript\">\n",
       "                require([\"plotly\"], function(Plotly) {\n",
       "                    window.PLOTLYENV=window.PLOTLYENV || {};\n",
       "                    \n",
       "                if (document.getElementById(\"0c4fbdff-1e3b-4cbd-b624-fa874530d885\")) {\n",
       "                    Plotly.newPlot(\n",
       "                        '0c4fbdff-1e3b-4cbd-b624-fa874530d885',\n",
       "                        [{\"alignmentgroup\": \"True\", \"hovertemplate\": \"chain=\\u0434\\u0430<br>\\u0432\\u0438\\u0434 \\u0437\\u0430\\u0432\\u0435\\u0434\\u0435\\u043d\\u0438\\u044f=%{x}<br>\\u043a\\u043e\\u043b\\u0438\\u0447\\u0435\\u0441\\u0442\\u0432\\u043e, \\u0448\\u0442.=%{y}<extra></extra>\", \"legendgroup\": \"\\u0434\\u0430\", \"marker\": {\"color\": \"#636efa\"}, \"name\": \"\\u0434\\u0430\", \"offsetgroup\": \"\\u0434\\u0430\", \"orientation\": \"v\", \"showlegend\": true, \"textposition\": \"auto\", \"type\": \"bar\", \"x\": [\"\\u0431\\u0430\\u0440\", \"\\u0431\\u0443\\u0444\\u0435\\u0442\", \"\\u0437\\u0430\\u043a\\u0443\\u0441\\u043e\\u0447\\u043d\\u0430\\u044f\", \"\\u043a\\u0430\\u0444\\u0435\", \"\\u043a\\u0430\\u0444\\u0435\\u0442\\u0435\\u0440\\u0438\\u0439\", \"\\u043c\\u0430\\u0433\\u0430\\u0437\\u0438\\u043d (\\u043e\\u0442\\u0434\\u0435\\u043b \\u043a\\u0443\\u043b\\u0438\\u043d\\u0430\\u0440\\u0438\\u0438)\", \"\\u043f\\u0440\\u0435\\u0434\\u043f\\u0440\\u0438\\u044f\\u0442\\u0438\\u0435 \\u0431\\u044b\\u0441\\u0442\\u0440\\u043e\\u0433\\u043e \\u043e\\u0431\\u0441\\u043b\\u0443\\u0436\\u0438\\u0432\\u0430\\u043d\\u0438\\u044f\", \"\\u0440\\u0435\\u0441\\u0442\\u043e\\u0440\\u0430\\u043d\", \"\\u0441\\u0442\\u043e\\u043b\\u043e\\u0432\\u0430\\u044f\"], \"xaxis\": \"x\", \"y\": [37, 11, 56, 1396, 52, 78, 788, 543, 3], \"yaxis\": \"y\"}, {\"alignmentgroup\": \"True\", \"hovertemplate\": \"chain=\\u043d\\u0435\\u0442<br>\\u0432\\u0438\\u0434 \\u0437\\u0430\\u0432\\u0435\\u0434\\u0435\\u043d\\u0438\\u044f=%{x}<br>\\u043a\\u043e\\u043b\\u0438\\u0447\\u0435\\u0441\\u0442\\u0432\\u043e, \\u0448\\u0442.=%{y}<extra></extra>\", \"legendgroup\": \"\\u043d\\u0435\\u0442\", \"marker\": {\"color\": \"#EF553B\"}, \"name\": \"\\u043d\\u0435\\u0442\", \"offsetgroup\": \"\\u043d\\u0435\\u0442\", \"orientation\": \"v\", \"showlegend\": true, \"textposition\": \"auto\", \"type\": \"bar\", \"x\": [\"\\u0431\\u0430\\u0440\", \"\\u0431\\u0443\\u0444\\u0435\\u0442\", \"\\u0437\\u0430\\u043a\\u0443\\u0441\\u043e\\u0447\\u043d\\u0430\\u044f\", \"\\u043a\\u0430\\u0444\\u0435\", \"\\u043a\\u0430\\u0444\\u0435\\u0442\\u0435\\u0440\\u0438\\u0439\", \"\\u043c\\u0430\\u0433\\u0430\\u0437\\u0438\\u043d (\\u043e\\u0442\\u0434\\u0435\\u043b \\u043a\\u0443\\u043b\\u0438\\u043d\\u0430\\u0440\\u0438\\u0438)\", \"\\u043f\\u0440\\u0435\\u0434\\u043f\\u0440\\u0438\\u044f\\u0442\\u0438\\u0435 \\u0431\\u044b\\u0441\\u0442\\u0440\\u043e\\u0433\\u043e \\u043e\\u0431\\u0441\\u043b\\u0443\\u0436\\u0438\\u0432\\u0430\\u043d\\u0438\\u044f\", \"\\u0440\\u0435\\u0441\\u0442\\u043e\\u0440\\u0430\\u043d\", \"\\u0441\\u0442\\u043e\\u043b\\u043e\\u0432\\u0430\\u044f\"], \"xaxis\": \"x\", \"y\": [818, 566, 293, 4675, 343, 195, 1110, 1739, 2581], \"yaxis\": \"y\"}],\n",
       "                        {\"barmode\": \"relative\", \"legend\": {\"title\": {\"text\": \"chain\"}, \"tracegroupgap\": 0}, \"template\": {\"data\": {\"bar\": [{\"error_x\": {\"color\": \"#2a3f5f\"}, \"error_y\": {\"color\": \"#2a3f5f\"}, \"marker\": {\"line\": {\"color\": \"#E5ECF6\", \"width\": 0.5}}, \"type\": \"bar\"}], \"barpolar\": [{\"marker\": {\"line\": {\"color\": \"#E5ECF6\", \"width\": 0.5}}, \"type\": \"barpolar\"}], \"carpet\": [{\"aaxis\": {\"endlinecolor\": \"#2a3f5f\", \"gridcolor\": \"white\", \"linecolor\": \"white\", \"minorgridcolor\": \"white\", \"startlinecolor\": \"#2a3f5f\"}, \"baxis\": {\"endlinecolor\": \"#2a3f5f\", \"gridcolor\": \"white\", \"linecolor\": \"white\", \"minorgridcolor\": \"white\", \"startlinecolor\": \"#2a3f5f\"}, \"type\": \"carpet\"}], \"choropleth\": [{\"colorbar\": {\"outlinewidth\": 0, \"ticks\": \"\"}, \"type\": \"choropleth\"}], \"contour\": [{\"colorbar\": {\"outlinewidth\": 0, \"ticks\": \"\"}, \"colorscale\": [[0.0, \"#0d0887\"], [0.1111111111111111, \"#46039f\"], [0.2222222222222222, \"#7201a8\"], [0.3333333333333333, \"#9c179e\"], [0.4444444444444444, \"#bd3786\"], [0.5555555555555556, \"#d8576b\"], [0.6666666666666666, \"#ed7953\"], [0.7777777777777778, \"#fb9f3a\"], [0.8888888888888888, \"#fdca26\"], [1.0, \"#f0f921\"]], \"type\": \"contour\"}], \"contourcarpet\": [{\"colorbar\": {\"outlinewidth\": 0, \"ticks\": \"\"}, \"type\": \"contourcarpet\"}], \"heatmap\": [{\"colorbar\": {\"outlinewidth\": 0, \"ticks\": \"\"}, \"colorscale\": [[0.0, \"#0d0887\"], [0.1111111111111111, \"#46039f\"], [0.2222222222222222, \"#7201a8\"], [0.3333333333333333, \"#9c179e\"], [0.4444444444444444, \"#bd3786\"], [0.5555555555555556, \"#d8576b\"], [0.6666666666666666, \"#ed7953\"], [0.7777777777777778, \"#fb9f3a\"], [0.8888888888888888, \"#fdca26\"], [1.0, \"#f0f921\"]], \"type\": \"heatmap\"}], \"heatmapgl\": [{\"colorbar\": {\"outlinewidth\": 0, \"ticks\": \"\"}, \"colorscale\": [[0.0, \"#0d0887\"], [0.1111111111111111, \"#46039f\"], [0.2222222222222222, \"#7201a8\"], [0.3333333333333333, \"#9c179e\"], [0.4444444444444444, \"#bd3786\"], [0.5555555555555556, \"#d8576b\"], [0.6666666666666666, \"#ed7953\"], [0.7777777777777778, \"#fb9f3a\"], [0.8888888888888888, \"#fdca26\"], [1.0, \"#f0f921\"]], \"type\": \"heatmapgl\"}], \"histogram\": [{\"marker\": {\"colorbar\": {\"outlinewidth\": 0, \"ticks\": \"\"}}, \"type\": \"histogram\"}], \"histogram2d\": [{\"colorbar\": {\"outlinewidth\": 0, \"ticks\": \"\"}, \"colorscale\": [[0.0, \"#0d0887\"], [0.1111111111111111, \"#46039f\"], [0.2222222222222222, \"#7201a8\"], [0.3333333333333333, \"#9c179e\"], [0.4444444444444444, \"#bd3786\"], [0.5555555555555556, \"#d8576b\"], [0.6666666666666666, \"#ed7953\"], [0.7777777777777778, \"#fb9f3a\"], [0.8888888888888888, \"#fdca26\"], [1.0, \"#f0f921\"]], \"type\": \"histogram2d\"}], \"histogram2dcontour\": [{\"colorbar\": {\"outlinewidth\": 0, \"ticks\": \"\"}, \"colorscale\": [[0.0, \"#0d0887\"], [0.1111111111111111, \"#46039f\"], [0.2222222222222222, \"#7201a8\"], [0.3333333333333333, \"#9c179e\"], [0.4444444444444444, \"#bd3786\"], [0.5555555555555556, \"#d8576b\"], [0.6666666666666666, \"#ed7953\"], [0.7777777777777778, \"#fb9f3a\"], [0.8888888888888888, \"#fdca26\"], [1.0, \"#f0f921\"]], \"type\": \"histogram2dcontour\"}], \"mesh3d\": [{\"colorbar\": {\"outlinewidth\": 0, \"ticks\": \"\"}, \"type\": \"mesh3d\"}], \"parcoords\": [{\"line\": {\"colorbar\": {\"outlinewidth\": 0, \"ticks\": \"\"}}, \"type\": \"parcoords\"}], \"pie\": [{\"automargin\": true, \"type\": \"pie\"}], \"scatter\": [{\"marker\": {\"colorbar\": {\"outlinewidth\": 0, \"ticks\": \"\"}}, \"type\": \"scatter\"}], \"scatter3d\": [{\"line\": {\"colorbar\": {\"outlinewidth\": 0, \"ticks\": \"\"}}, \"marker\": {\"colorbar\": {\"outlinewidth\": 0, \"ticks\": \"\"}}, \"type\": \"scatter3d\"}], \"scattercarpet\": [{\"marker\": {\"colorbar\": {\"outlinewidth\": 0, \"ticks\": \"\"}}, \"type\": \"scattercarpet\"}], \"scattergeo\": [{\"marker\": {\"colorbar\": {\"outlinewidth\": 0, \"ticks\": \"\"}}, \"type\": \"scattergeo\"}], \"scattergl\": [{\"marker\": {\"colorbar\": {\"outlinewidth\": 0, \"ticks\": \"\"}}, \"type\": \"scattergl\"}], \"scattermapbox\": [{\"marker\": {\"colorbar\": {\"outlinewidth\": 0, \"ticks\": \"\"}}, \"type\": \"scattermapbox\"}], \"scatterpolar\": [{\"marker\": {\"colorbar\": {\"outlinewidth\": 0, \"ticks\": \"\"}}, \"type\": \"scatterpolar\"}], \"scatterpolargl\": [{\"marker\": {\"colorbar\": {\"outlinewidth\": 0, \"ticks\": \"\"}}, \"type\": \"scatterpolargl\"}], \"scatterternary\": [{\"marker\": {\"colorbar\": {\"outlinewidth\": 0, \"ticks\": \"\"}}, \"type\": \"scatterternary\"}], \"surface\": [{\"colorbar\": {\"outlinewidth\": 0, \"ticks\": \"\"}, \"colorscale\": [[0.0, \"#0d0887\"], [0.1111111111111111, \"#46039f\"], [0.2222222222222222, \"#7201a8\"], [0.3333333333333333, \"#9c179e\"], [0.4444444444444444, \"#bd3786\"], [0.5555555555555556, \"#d8576b\"], [0.6666666666666666, \"#ed7953\"], [0.7777777777777778, \"#fb9f3a\"], [0.8888888888888888, \"#fdca26\"], [1.0, \"#f0f921\"]], \"type\": \"surface\"}], \"table\": [{\"cells\": {\"fill\": {\"color\": \"#EBF0F8\"}, \"line\": {\"color\": \"white\"}}, \"header\": {\"fill\": {\"color\": \"#C8D4E3\"}, \"line\": {\"color\": \"white\"}}, \"type\": \"table\"}]}, \"layout\": {\"annotationdefaults\": {\"arrowcolor\": \"#2a3f5f\", \"arrowhead\": 0, \"arrowwidth\": 1}, \"coloraxis\": {\"colorbar\": {\"outlinewidth\": 0, \"ticks\": \"\"}}, \"colorscale\": {\"diverging\": [[0, \"#8e0152\"], [0.1, \"#c51b7d\"], [0.2, \"#de77ae\"], [0.3, \"#f1b6da\"], [0.4, \"#fde0ef\"], [0.5, \"#f7f7f7\"], [0.6, \"#e6f5d0\"], [0.7, \"#b8e186\"], [0.8, \"#7fbc41\"], [0.9, \"#4d9221\"], [1, \"#276419\"]], \"sequential\": [[0.0, \"#0d0887\"], [0.1111111111111111, \"#46039f\"], [0.2222222222222222, \"#7201a8\"], [0.3333333333333333, \"#9c179e\"], [0.4444444444444444, \"#bd3786\"], [0.5555555555555556, \"#d8576b\"], [0.6666666666666666, \"#ed7953\"], [0.7777777777777778, \"#fb9f3a\"], [0.8888888888888888, \"#fdca26\"], [1.0, \"#f0f921\"]], \"sequentialminus\": [[0.0, \"#0d0887\"], [0.1111111111111111, \"#46039f\"], [0.2222222222222222, \"#7201a8\"], [0.3333333333333333, \"#9c179e\"], [0.4444444444444444, \"#bd3786\"], [0.5555555555555556, \"#d8576b\"], [0.6666666666666666, \"#ed7953\"], [0.7777777777777778, \"#fb9f3a\"], [0.8888888888888888, \"#fdca26\"], [1.0, \"#f0f921\"]]}, \"colorway\": [\"#636efa\", \"#EF553B\", \"#00cc96\", \"#ab63fa\", \"#FFA15A\", \"#19d3f3\", \"#FF6692\", \"#B6E880\", \"#FF97FF\", \"#FECB52\"], \"font\": {\"color\": \"#2a3f5f\"}, \"geo\": {\"bgcolor\": \"white\", \"lakecolor\": \"white\", \"landcolor\": \"#E5ECF6\", \"showlakes\": true, \"showland\": true, \"subunitcolor\": \"white\"}, \"hoverlabel\": {\"align\": \"left\"}, \"hovermode\": \"closest\", \"mapbox\": {\"style\": \"light\"}, \"paper_bgcolor\": \"white\", \"plot_bgcolor\": \"#E5ECF6\", \"polar\": {\"angularaxis\": {\"gridcolor\": \"white\", \"linecolor\": \"white\", \"ticks\": \"\"}, \"bgcolor\": \"#E5ECF6\", \"radialaxis\": {\"gridcolor\": \"white\", \"linecolor\": \"white\", \"ticks\": \"\"}}, \"scene\": {\"xaxis\": {\"backgroundcolor\": \"#E5ECF6\", \"gridcolor\": \"white\", \"gridwidth\": 2, \"linecolor\": \"white\", \"showbackground\": true, \"ticks\": \"\", \"zerolinecolor\": \"white\"}, \"yaxis\": {\"backgroundcolor\": \"#E5ECF6\", \"gridcolor\": \"white\", \"gridwidth\": 2, \"linecolor\": \"white\", \"showbackground\": true, \"ticks\": \"\", \"zerolinecolor\": \"white\"}, \"zaxis\": {\"backgroundcolor\": \"#E5ECF6\", \"gridcolor\": \"white\", \"gridwidth\": 2, \"linecolor\": \"white\", \"showbackground\": true, \"ticks\": \"\", \"zerolinecolor\": \"white\"}}, \"shapedefaults\": {\"line\": {\"color\": \"#2a3f5f\"}}, \"ternary\": {\"aaxis\": {\"gridcolor\": \"white\", \"linecolor\": \"white\", \"ticks\": \"\"}, \"baxis\": {\"gridcolor\": \"white\", \"linecolor\": \"white\", \"ticks\": \"\"}, \"bgcolor\": \"#E5ECF6\", \"caxis\": {\"gridcolor\": \"white\", \"linecolor\": \"white\", \"ticks\": \"\"}}, \"title\": {\"x\": 0.05}, \"xaxis\": {\"automargin\": true, \"gridcolor\": \"white\", \"linecolor\": \"white\", \"ticks\": \"\", \"title\": {\"standoff\": 15}, \"zerolinecolor\": \"white\", \"zerolinewidth\": 2}, \"yaxis\": {\"automargin\": true, \"gridcolor\": \"white\", \"linecolor\": \"white\", \"ticks\": \"\", \"title\": {\"standoff\": 15}, \"zerolinecolor\": \"white\", \"zerolinewidth\": 2}}}, \"title\": {\"text\": \"\\u041e\\u0442\\u043d\\u043e\\u0448\\u0435\\u043d\\u0438\\u0435 \\u0441\\u0435\\u0442\\u0435\\u0432\\u044b\\u0445/\\u043d\\u0435\\u0441\\u0435\\u0442\\u0435\\u0432\\u044b\\u0445 \\u043c\\u0435\\u0441\\u0442 \\u043f\\u043e \\u0432\\u0438\\u0434\\u0443 \\u0437\\u0430\\u0432\\u0435\\u0434\\u0435\\u043d\\u0438\\u044f\"}, \"xaxis\": {\"anchor\": \"y\", \"domain\": [0.0, 1.0], \"title\": {\"text\": \"\\u0432\\u0438\\u0434 \\u0437\\u0430\\u0432\\u0435\\u0434\\u0435\\u043d\\u0438\\u044f\"}}, \"yaxis\": {\"anchor\": \"x\", \"domain\": [0.0, 1.0], \"title\": {\"text\": \"\\u043a\\u043e\\u043b\\u0438\\u0447\\u0435\\u0441\\u0442\\u0432\\u043e, \\u0448\\u0442.\"}}},\n",
       "                        {\"responsive\": true}\n",
       "                    ).then(function(){\n",
       "                            \n",
       "var gd = document.getElementById('0c4fbdff-1e3b-4cbd-b624-fa874530d885');\n",
       "var x = new MutationObserver(function (mutations, observer) {{\n",
       "        var display = window.getComputedStyle(gd).display;\n",
       "        if (!display || display === 'none') {{\n",
       "            console.log([gd, 'removed!']);\n",
       "            Plotly.purge(gd);\n",
       "            observer.disconnect();\n",
       "        }}\n",
       "}});\n",
       "\n",
       "// Listen for the removal of the full notebook cells\n",
       "var notebookContainer = gd.closest('#notebook-container');\n",
       "if (notebookContainer) {{\n",
       "    x.observe(notebookContainer, {childList: true});\n",
       "}}\n",
       "\n",
       "// Listen for the clearing of the current output cell\n",
       "var outputEl = gd.closest('.output');\n",
       "if (outputEl) {{\n",
       "    x.observe(outputEl, {childList: true});\n",
       "}}\n",
       "\n",
       "                        })\n",
       "                };\n",
       "                });\n",
       "            </script>\n",
       "        </div>"
      ]
     },
     "metadata": {},
     "output_type": "display_data"
    }
   ],
   "source": [
    "fig = px.bar(chain_type, x='object_type', y='id', color='chain', title='Отношение сетевых/несетевых мест по виду заведения',\\\n",
    "             labels={'id':'количество, шт.', 'object_type':'вид заведения'})\n",
    "fig.show()"
   ]
  },
  {
   "cell_type": "markdown",
   "metadata": {},
   "source": [
    "Исходя из двух предыдущих графиков мы получаем следующую картинку: большинство заведений представленных в датафрейме не сетевые. Кафе самый популярный вид и как сетевое и как не сетевое заведение. Думаю, что это связано с тем, что кафе легче открыть и содержать. Площадь нужна не такая большая, как для ресторана, следовательно аренда будет меньше(но мы точно посмотрим по количеству посадочных мест). \n",
    "\n",
    "Как и ожидалось, в топе видов сетевых заведений также находится предприятия быстрого обслуживания. В нем не нужно большое количество посадочных мест, т.к. рассчет идет на быстрое приготовление и перекус. Посетители сменяют друг друга быстрее, чем в ресторанах.\n",
    "\n",
    "Рассмотрим теперь что характерно для сетевых заведений."
   ]
  },
  {
   "cell_type": "code",
   "execution_count": 35,
   "metadata": {},
   "outputs": [
    {
     "data": {
      "application/vnd.plotly.v1+json": {
       "config": {
        "plotlyServerURL": "https://plot.ly"
       },
       "data": [
        {
         "alignmentgroup": "True",
         "bingroup": "x",
         "hovertemplate": "число посадочных мест=%{x}<br>count=%{y}<extra></extra>",
         "legendgroup": "",
         "marker": {
          "color": "#636efa"
         },
         "name": "",
         "offsetgroup": "",
         "orientation": "v",
         "showlegend": false,
         "type": "histogram",
         "x": [
          40,
          10,
          32,
          7,
          160,
          24,
          65,
          4,
          125,
          20,
          100,
          48,
          120,
          40,
          22,
          40,
          38,
          220,
          20,
          96,
          48,
          160,
          10,
          63,
          32,
          6,
          50,
          98,
          75,
          43,
          54,
          580,
          45,
          159,
          25,
          64,
          67,
          22,
          124,
          82,
          150,
          36,
          70,
          45,
          114,
          3,
          8,
          50,
          10,
          50,
          18,
          14,
          18,
          8,
          100,
          40,
          80,
          158,
          150,
          4,
          45,
          60,
          42,
          30,
          70,
          50,
          4,
          50,
          20,
          120,
          30,
          50,
          5,
          20,
          70,
          60,
          48,
          41,
          60,
          60,
          80,
          144,
          10,
          40,
          30,
          0,
          30,
          35,
          68,
          40,
          48,
          20,
          50,
          50,
          20,
          50,
          143,
          50,
          198,
          79,
          90,
          14,
          16,
          70,
          40,
          8,
          40,
          60,
          120,
          16,
          8,
          86,
          3,
          63,
          20,
          26,
          50,
          65,
          5,
          50,
          10,
          190,
          50,
          80,
          55,
          15,
          131,
          20,
          48,
          45,
          41,
          45,
          92,
          45,
          76,
          102,
          150,
          32,
          50,
          40,
          35,
          0,
          45,
          0,
          70,
          12,
          49,
          16,
          110,
          42,
          60,
          50,
          32,
          94,
          16,
          56,
          65,
          48,
          16,
          41,
          37,
          48,
          26,
          4,
          98,
          98,
          15,
          6,
          0,
          100,
          120,
          96,
          70,
          43,
          80,
          68,
          88,
          88,
          96,
          22,
          70,
          24,
          35,
          20,
          8,
          61,
          48,
          20,
          64,
          40,
          25,
          36,
          32,
          40,
          20,
          143,
          100,
          25,
          150,
          22,
          150,
          125,
          55,
          49,
          50,
          98,
          25,
          24,
          70,
          80,
          130,
          128,
          25,
          24,
          128,
          106,
          43,
          30,
          45,
          90,
          65,
          48,
          15,
          4,
          38,
          20,
          40,
          40,
          100,
          15,
          48,
          27,
          40,
          80,
          6,
          19,
          44,
          30,
          200,
          81,
          98,
          24,
          6,
          90,
          50,
          48,
          2,
          130,
          30,
          48,
          140,
          50,
          45,
          50,
          43,
          98,
          95,
          68,
          13,
          0,
          40,
          60,
          48,
          10,
          40,
          39,
          30,
          96,
          75,
          45,
          70,
          50,
          54,
          43,
          7,
          48,
          30,
          9,
          40,
          50,
          71,
          200,
          35,
          26,
          4,
          22,
          98,
          68,
          75,
          45,
          80,
          65,
          20,
          40,
          50,
          48,
          10,
          0,
          26,
          120,
          6,
          8,
          8,
          15,
          30,
          0,
          46,
          20,
          160,
          45,
          45,
          50,
          10,
          98,
          33,
          38,
          130,
          24,
          0,
          45,
          10,
          48,
          70,
          85,
          70,
          60,
          60,
          80,
          75,
          10,
          48,
          6,
          35,
          50,
          12,
          48,
          38,
          12,
          18,
          17,
          43,
          10,
          60,
          70,
          48,
          46,
          34,
          62,
          50,
          50,
          150,
          40,
          40,
          6,
          20,
          48,
          84,
          48,
          12,
          0,
          20,
          70,
          47,
          60,
          89,
          24,
          120,
          2,
          2,
          20,
          50,
          170,
          48,
          48,
          140,
          50,
          96,
          40,
          60,
          24,
          96,
          15,
          80,
          48,
          48,
          50,
          32,
          50,
          14,
          21,
          190,
          108,
          35,
          10,
          80,
          20,
          7,
          90,
          35,
          30,
          20,
          17,
          30,
          46,
          27,
          16,
          0,
          85,
          1,
          34,
          1,
          46,
          70,
          115,
          8,
          40,
          65,
          40,
          15,
          18,
          27,
          15,
          10,
          56,
          30,
          40,
          32,
          45,
          98,
          20,
          95,
          55,
          93,
          75,
          96,
          50,
          50,
          180,
          25,
          49,
          20,
          6,
          150,
          198,
          16,
          18,
          8,
          0,
          104,
          1,
          130,
          10,
          45,
          22,
          12,
          20,
          36,
          42,
          356,
          156,
          42,
          428,
          12,
          50,
          138,
          74,
          50,
          48,
          48,
          40,
          25,
          20,
          20,
          45,
          49,
          300,
          45,
          130,
          60,
          48,
          45,
          220,
          92,
          198,
          10,
          12,
          5,
          38,
          4,
          98,
          35,
          94,
          94,
          40,
          21,
          32,
          35,
          190,
          54,
          25,
          20,
          41,
          49,
          80,
          20,
          16,
          36,
          36,
          8,
          8,
          30,
          67,
          52,
          75,
          85,
          50,
          45,
          41,
          5,
          25,
          16,
          92,
          98,
          0,
          45,
          40,
          20,
          16,
          50,
          150,
          70,
          15,
          20,
          10,
          50,
          80,
          60,
          40,
          82,
          32,
          36,
          66,
          55,
          30,
          48,
          132,
          200,
          80,
          50,
          20,
          35,
          0,
          109,
          61,
          306,
          180,
          45,
          138,
          100,
          60,
          48,
          10,
          50,
          90,
          144,
          1,
          100,
          24,
          93,
          10,
          15,
          10,
          10,
          45,
          35,
          52,
          148,
          280,
          100,
          48,
          80,
          80,
          25,
          65,
          48,
          35,
          282,
          20,
          45,
          90,
          45,
          150,
          95,
          180,
          40,
          175,
          26,
          60,
          60,
          200,
          110,
          190,
          15,
          140,
          0,
          120,
          149,
          170,
          25,
          52,
          85,
          46,
          180,
          200,
          20,
          150,
          25,
          24,
          24,
          50,
          40,
          5,
          25,
          24,
          217,
          200,
          33,
          96,
          45,
          47,
          100,
          80,
          92,
          35,
          80,
          86,
          310,
          90,
          145,
          80,
          101,
          96,
          200,
          60,
          94,
          398,
          95,
          16,
          150,
          85,
          65,
          70,
          32,
          430,
          30,
          120,
          88,
          100,
          166,
          114,
          80,
          110,
          150,
          50,
          90,
          35,
          150,
          0,
          80,
          10,
          0,
          98,
          38,
          35,
          300,
          30,
          98,
          160,
          6,
          68,
          12,
          20,
          98,
          82,
          28,
          53,
          95,
          90,
          110,
          64,
          30,
          180,
          120,
          80,
          400,
          149,
          30,
          98,
          144,
          68,
          154,
          30,
          86,
          48,
          80,
          90,
          500,
          48,
          25,
          38,
          75,
          25,
          158,
          143,
          160,
          50,
          160,
          27,
          174,
          240,
          8,
          24,
          7,
          22,
          170,
          146,
          380,
          98,
          40,
          20,
          86,
          82,
          64,
          100,
          400,
          80,
          35,
          60,
          20,
          160,
          50,
          35,
          72,
          250,
          75,
          85,
          60,
          124,
          190,
          30,
          49,
          178,
          60,
          0,
          40,
          19,
          48,
          42,
          24,
          28,
          10,
          80,
          20,
          10,
          22,
          98,
          99,
          58,
          98,
          89,
          40,
          60,
          3,
          8,
          225,
          90,
          20,
          25,
          96,
          45,
          60,
          130,
          90,
          150,
          72,
          12,
          90,
          17,
          30,
          60,
          12,
          12,
          400,
          20,
          150,
          70,
          150,
          16,
          36,
          35,
          32,
          86,
          50,
          10,
          150,
          70,
          34,
          95,
          96,
          144,
          70,
          206,
          150,
          35,
          20,
          80,
          45,
          15,
          98,
          50,
          95,
          30,
          23,
          90,
          57,
          30,
          36,
          90,
          36,
          22,
          150,
          16,
          54,
          90,
          42,
          120,
          110,
          45,
          20,
          60,
          16,
          84,
          50,
          37,
          10,
          60,
          200,
          35,
          25,
          200,
          25,
          90,
          95,
          110,
          0,
          58,
          150,
          20,
          64,
          20,
          200,
          54,
          95,
          45,
          86,
          65,
          80,
          90,
          80,
          90,
          200,
          273,
          220,
          98,
          10,
          75,
          40,
          35,
          55,
          35,
          35,
          120,
          120,
          80,
          70,
          120,
          128,
          40,
          130,
          96,
          96,
          96,
          12,
          136,
          100,
          110,
          69,
          69,
          69,
          4,
          94,
          82,
          40,
          90,
          250,
          52,
          75,
          50,
          100,
          40,
          43,
          80,
          44,
          15,
          110,
          130,
          225,
          20,
          71,
          20,
          50,
          100,
          40,
          30,
          80,
          60,
          50,
          120,
          40,
          25,
          110,
          86,
          198,
          218,
          96,
          150,
          92,
          70,
          68,
          60,
          90,
          56,
          106,
          101,
          62,
          40,
          60,
          12,
          71,
          75,
          49,
          50,
          68,
          15,
          25,
          20,
          60,
          93,
          93,
          108,
          144,
          80,
          8,
          125,
          50,
          53,
          5,
          35,
          100,
          30,
          98,
          80,
          55,
          240,
          43,
          99,
          130,
          45,
          90,
          80,
          120,
          15,
          15,
          120,
          50,
          92,
          79,
          195,
          145,
          10,
          25,
          4,
          10,
          5,
          5,
          50,
          150,
          72,
          40,
          99,
          130,
          6,
          120,
          0,
          9,
          250,
          8,
          3,
          10,
          48,
          0,
          0,
          284,
          20,
          215,
          146,
          22,
          90,
          2,
          10,
          58,
          50,
          40,
          30,
          15,
          148,
          95,
          100,
          99,
          70,
          25,
          16,
          44,
          22,
          22,
          12,
          25,
          1,
          1,
          184,
          40,
          25,
          25,
          25,
          50,
          116,
          32,
          53,
          80,
          35,
          190,
          80,
          85,
          55,
          22,
          22,
          1,
          25,
          0,
          0,
          4,
          50,
          70,
          2,
          190,
          118,
          40,
          31,
          96,
          60,
          90,
          14,
          45,
          100,
          120,
          25,
          30,
          16,
          76,
          60,
          99,
          25,
          22,
          150,
          80,
          55,
          159,
          35,
          80,
          2,
          20,
          20,
          20,
          20,
          65,
          170,
          40,
          50,
          15,
          40,
          4,
          12,
          70,
          70,
          0,
          0,
          30,
          30,
          50,
          55,
          50,
          40,
          10,
          10,
          25,
          70,
          30,
          90,
          55,
          80,
          90,
          46,
          40,
          180,
          55,
          150,
          120,
          60,
          100,
          4,
          96,
          86,
          95,
          30,
          20,
          25,
          4,
          30,
          40,
          72,
          68,
          70,
          2,
          90,
          60,
          60,
          50,
          95,
          152,
          28,
          89,
          12,
          120,
          80,
          40,
          60,
          20,
          60,
          39,
          70,
          85,
          10,
          150,
          76,
          60,
          120,
          45,
          48,
          210,
          62,
          95,
          35,
          40,
          40,
          100,
          100,
          123,
          72,
          85,
          50,
          90,
          24,
          48,
          40,
          2,
          40,
          19,
          10,
          150,
          250,
          50,
          40,
          20,
          99,
          88,
          30,
          98,
          40,
          25,
          250,
          165,
          186,
          100,
          84,
          50,
          67,
          60,
          60,
          60,
          50,
          120,
          122,
          18,
          30,
          40,
          40,
          36,
          50,
          40,
          80,
          48,
          19,
          150,
          84,
          9,
          74,
          275,
          70,
          50,
          60,
          40,
          100,
          23,
          110,
          90,
          120,
          480,
          90,
          55,
          50,
          162,
          86,
          150,
          73,
          130,
          350,
          83,
          300,
          110,
          150,
          98,
          300,
          2,
          40,
          46,
          46,
          46,
          57,
          52,
          14,
          44,
          80,
          0,
          30,
          18,
          0,
          0,
          60,
          100,
          50,
          80,
          0,
          6,
          30,
          100,
          60,
          48,
          40,
          80,
          6,
          120,
          85,
          30,
          200,
          300,
          90,
          80,
          55,
          60,
          38,
          12,
          0,
          14,
          40,
          15,
          15,
          30,
          20,
          98,
          100,
          220,
          12,
          90,
          90,
          96,
          8,
          8,
          150,
          90,
          250,
          90,
          36,
          46,
          51,
          50,
          55,
          55,
          30,
          35,
          20,
          174,
          100,
          40,
          45,
          45,
          120,
          50,
          40,
          150,
          120,
          60,
          66,
          98,
          90,
          90,
          20,
          10,
          55,
          48,
          10,
          10,
          10,
          15,
          130,
          140,
          9,
          36,
          1,
          7,
          1,
          20,
          80,
          40,
          27,
          92,
          130,
          30,
          4,
          60,
          130,
          80,
          20,
          40,
          35,
          20,
          48,
          49,
          69,
          40,
          224,
          30,
          96,
          45,
          25,
          90,
          30,
          48,
          230,
          10,
          45,
          189,
          45,
          48,
          27,
          0,
          20,
          29,
          35,
          35,
          20,
          40,
          45,
          35,
          12,
          60,
          95,
          4,
          2,
          10,
          50,
          18,
          98,
          96,
          180,
          20,
          8,
          39,
          230,
          30,
          84,
          48,
          20,
          32,
          20,
          95,
          0,
          35,
          53,
          25,
          35,
          26,
          46,
          67,
          46,
          60,
          32,
          28,
          64,
          28,
          4,
          10,
          40,
          55,
          50,
          40,
          25,
          150,
          100,
          70,
          70,
          220,
          108,
          20,
          0,
          50,
          75,
          89,
          60,
          75,
          135,
          22,
          30,
          30,
          40,
          250,
          6,
          4,
          84,
          20,
          20,
          25,
          0,
          88,
          150,
          54,
          24,
          80,
          10,
          10,
          98,
          20,
          55,
          12,
          98,
          240,
          73,
          24,
          64,
          19,
          50,
          15,
          60,
          46,
          24,
          48,
          46,
          24,
          30,
          20,
          20,
          16,
          22,
          75,
          12,
          40,
          90,
          49,
          50,
          75,
          0,
          0,
          25,
          35,
          10,
          64,
          13,
          84,
          64,
          64,
          150,
          16,
          50,
          24,
          70,
          280,
          60,
          10,
          10,
          10,
          40,
          102,
          48,
          95,
          110,
          46,
          46,
          50,
          150,
          100,
          48,
          80,
          180,
          188,
          0,
          87,
          54,
          44,
          180,
          15,
          15,
          60,
          20,
          40,
          70,
          40,
          25,
          10,
          46,
          30,
          80,
          25,
          15,
          20,
          15,
          160,
          0,
          10,
          80,
          205,
          30,
          11,
          200,
          75,
          120,
          7,
          30,
          30,
          40,
          20,
          220,
          320,
          20,
          6,
          150,
          87,
          87,
          160,
          87,
          87,
          86,
          87,
          20,
          98,
          5,
          98,
          98,
          20,
          70,
          80,
          60,
          24,
          176,
          24,
          12,
          21,
          20,
          25,
          30,
          55,
          152,
          160,
          80,
          25,
          114,
          40,
          40,
          250,
          10,
          10,
          0,
          30,
          41,
          98,
          100,
          56,
          30,
          10,
          12,
          40,
          70,
          80,
          50,
          60,
          28,
          30,
          3,
          250,
          266,
          160,
          8,
          53,
          44,
          15,
          60,
          98,
          50,
          68,
          30,
          10,
          30,
          10,
          90,
          30,
          160,
          39,
          146,
          50,
          66,
          145,
          58,
          37,
          20,
          32,
          2,
          50,
          90,
          100,
          85,
          30,
          42,
          35,
          85,
          37,
          20,
          20,
          40,
          60,
          48,
          100,
          42,
          170,
          40,
          80,
          25,
          70,
          20,
          80,
          87,
          98,
          250,
          300,
          90,
          128,
          50,
          41,
          98,
          25,
          94,
          24,
          100,
          40,
          95,
          22,
          52,
          110,
          343,
          200,
          40,
          70,
          90,
          150,
          56,
          30,
          65,
          27,
          86,
          95,
          80,
          90,
          70,
          27,
          25,
          30,
          50,
          157,
          85,
          25,
          65,
          42,
          29,
          74,
          42,
          13,
          35,
          120,
          70,
          6,
          49,
          48,
          170,
          64,
          1,
          54,
          17,
          10,
          10,
          10,
          48,
          160,
          48,
          48,
          88,
          140,
          32,
          80,
          30,
          70,
          85,
          90,
          63,
          200,
          10,
          15,
          170,
          49,
          56,
          90,
          40,
          140,
          45,
          70,
          50,
          75,
          98,
          45,
          40,
          80,
          20,
          80,
          60,
          40,
          42,
          32,
          40,
          45,
          350,
          10,
          60,
          50,
          50,
          20,
          8,
          4,
          4,
          5,
          8,
          0,
          50,
          5,
          0,
          5,
          50,
          42,
          30,
          35,
          60,
          90,
          40,
          60,
          45,
          0,
          40,
          45,
          20,
          39,
          12,
          14,
          10,
          0,
          0,
          28,
          9,
          30,
          20,
          64,
          0,
          42,
          0,
          6,
          0,
          40,
          144,
          98,
          276,
          50,
          76,
          60,
          60,
          60,
          60,
          40,
          60,
          20,
          30,
          30,
          96,
          30,
          30,
          51,
          35,
          100,
          35,
          32,
          174,
          50,
          45,
          70,
          50,
          25,
          60,
          70,
          90,
          23,
          76,
          45,
          4,
          4,
          4,
          16,
          45,
          0,
          0,
          0,
          0,
          0,
          0,
          56,
          20,
          60,
          20,
          66,
          102,
          34,
          45,
          48,
          38,
          40,
          48,
          75,
          80,
          120,
          0,
          7,
          60,
          150,
          20,
          10,
          110,
          50,
          13,
          120,
          456,
          70,
          100,
          20,
          24,
          91,
          40,
          44,
          96,
          30,
          30,
          70,
          90,
          45,
          60,
          50,
          20,
          25,
          45,
          0,
          0,
          20,
          10,
          96,
          8,
          0,
          14,
          15,
          6,
          20,
          43,
          20,
          35,
          104,
          18,
          12,
          3,
          20,
          10,
          80,
          3,
          39,
          0,
          0,
          48,
          45,
          40,
          20,
          20,
          45,
          0,
          8,
          1,
          4,
          40,
          125,
          94,
          16,
          8,
          21,
          22,
          15,
          22,
          16,
          0,
          6,
          30,
          94,
          70,
          0,
          90,
          20,
          110,
          50,
          30,
          84,
          65,
          45,
          20,
          90,
          30,
          225,
          60,
          98,
          20,
          8,
          130,
          12,
          45,
          30,
          8,
          200,
          145,
          49,
          70,
          30,
          40,
          50,
          40,
          20,
          173,
          41,
          15,
          20,
          199,
          37,
          130,
          10,
          135,
          0,
          28,
          10,
          0,
          10,
          0,
          6,
          15,
          20,
          10,
          18,
          16,
          22,
          20,
          50,
          18,
          26,
          25,
          6,
          10,
          20,
          0,
          0,
          0,
          8,
          20,
          0,
          45,
          40,
          45,
          60,
          86,
          45,
          40,
          10,
          70,
          30,
          61,
          50,
          100,
          12,
          16,
          21,
          25,
          5,
          40,
          10,
          12,
          15,
          2,
          40,
          50,
          2,
          25,
          48,
          0,
          4,
          50,
          98,
          165,
          16,
          0,
          10,
          6,
          0,
          10,
          0,
          4,
          38,
          0,
          15,
          0,
          6,
          10,
          55,
          98,
          38,
          42,
          44,
          43,
          2,
          4,
          2,
          0,
          30,
          96,
          4,
          8,
          6,
          10,
          22,
          150,
          20,
          30,
          36,
          0,
          10,
          133,
          45,
          56,
          50,
          133,
          25,
          190,
          60,
          83,
          40,
          40,
          28,
          20,
          56,
          45,
          6,
          30,
          10,
          25,
          9,
          45,
          4,
          14,
          0,
          24,
          5,
          14,
          2,
          90,
          98,
          120,
          52,
          0,
          20,
          30,
          10,
          20,
          40,
          32,
          0,
          12,
          50,
          23,
          100,
          45,
          45,
          40,
          5,
          6,
          12,
          6,
          6,
          0,
          6,
          10,
          0,
          15,
          2,
          0,
          15,
          3,
          20,
          2,
          0,
          8,
          0,
          0,
          150,
          10,
          0,
          30,
          35,
          40,
          30,
          60,
          110,
          20,
          60,
          55,
          5,
          18,
          10,
          82,
          16,
          35,
          34,
          19,
          9,
          20,
          20,
          4,
          20,
          16,
          0,
          12,
          12,
          16,
          12,
          20,
          35,
          20,
          2,
          15,
          12,
          16,
          12,
          0,
          0,
          18,
          11,
          15,
          3,
          12,
          6,
          16,
          10,
          10,
          8,
          4,
          15,
          15,
          16,
          10,
          16,
          10,
          15,
          16,
          10,
          29,
          3,
          215,
          40,
          80,
          130,
          10,
          14,
          26,
          0,
          0,
          120,
          20,
          12,
          47,
          15,
          60,
          50,
          180,
          200,
          60,
          20,
          0,
          0,
          60,
          140,
          65,
          60,
          20,
          20,
          10,
          12,
          32,
          10,
          30,
          20,
          12,
          24,
          24,
          10,
          0,
          12,
          186,
          0,
          0,
          0,
          0,
          0,
          16,
          0,
          20,
          0,
          4,
          0,
          0,
          0,
          8,
          0,
          0,
          6,
          0,
          2,
          0,
          1,
          4,
          0,
          0,
          0,
          0,
          17,
          10,
          40,
          15,
          5,
          70,
          48,
          12,
          25,
          6,
          15,
          45,
          10,
          49,
          24,
          0,
          30,
          5,
          0,
          60,
          0,
          2,
          5,
          138,
          98,
          90,
          30,
          138,
          30,
          20,
          0,
          30,
          10,
          10,
          8,
          30,
          24,
          25,
          8,
          15,
          50,
          12,
          60,
          0,
          35,
          20,
          60,
          58,
          60,
          60,
          100,
          50,
          0,
          25,
          15,
          50,
          45,
          95,
          50,
          72,
          78,
          20,
          120,
          4,
          20,
          60,
          40,
          0,
          94,
          93,
          30,
          6,
          35,
          0,
          180,
          40,
          34,
          10,
          0,
          58,
          22,
          15,
          30,
          15,
          40,
          46,
          60,
          40,
          8,
          9,
          30,
          6,
          6,
          69,
          46,
          4,
          6,
          22,
          35,
          16,
          40,
          40,
          22,
          45,
          48,
          40,
          30,
          40,
          0,
          30,
          100,
          70,
          7,
          40,
          20,
          42,
          3,
          3,
          15,
          70,
          20,
          0,
          5,
          100,
          20,
          40,
          24,
          0,
          0,
          17,
          40,
          0,
          20,
          86,
          25,
          30,
          0,
          48,
          49,
          8,
          10,
          8,
          30,
          92,
          10,
          40,
          90,
          15,
          0,
          10,
          35,
          0,
          20,
          70,
          20,
          0,
          30,
          0,
          25,
          25,
          25,
          8,
          10,
          7,
          4,
          50,
          150,
          35,
          150,
          40,
          64,
          80,
          56,
          100,
          25,
          120,
          80,
          33,
          15,
          14,
          10,
          10,
          14,
          12,
          8,
          12,
          26,
          4,
          10,
          17,
          50,
          30,
          25,
          26,
          55,
          45,
          15,
          12,
          16,
          9,
          5,
          14,
          12,
          3,
          8,
          30,
          36,
          10,
          80,
          320,
          38,
          30,
          98,
          16,
          55,
          88,
          15,
          75,
          50,
          70,
          20,
          0,
          0,
          60,
          96,
          20,
          16,
          10,
          15,
          35,
          15,
          42,
          70,
          40,
          12,
          40,
          40,
          50,
          80,
          12,
          18,
          2,
          0,
          0,
          0,
          25,
          25,
          43,
          10,
          40,
          60,
          60,
          40,
          0,
          0,
          0,
          2,
          2,
          0,
          6,
          0,
          0,
          0,
          4,
          2,
          8,
          0,
          50,
          10,
          200,
          12,
          40,
          55,
          10,
          0,
          40,
          220,
          150,
          198,
          46,
          50,
          0,
          164,
          40,
          150,
          0,
          15,
          0,
          12,
          10,
          24,
          35,
          76,
          50,
          35,
          20,
          120,
          80,
          35,
          25,
          53,
          60,
          40,
          0,
          50,
          60,
          40,
          89,
          10,
          10,
          30,
          150,
          80,
          52,
          45,
          12,
          52,
          15,
          20,
          36,
          20,
          58,
          15,
          60,
          30,
          8,
          40,
          40,
          150,
          75,
          73,
          40,
          30,
          35,
          30,
          15,
          50,
          100,
          100,
          5,
          40,
          56,
          20,
          17,
          8,
          10,
          11,
          15,
          8,
          6,
          10,
          10,
          25,
          100,
          42,
          12,
          40,
          50,
          30,
          99,
          20,
          155,
          30,
          65,
          48,
          119,
          10,
          15,
          16,
          15,
          10,
          45,
          8,
          4,
          0,
          5,
          16,
          4,
          40,
          3,
          4,
          0,
          0,
          6,
          38,
          20,
          10,
          36,
          54,
          15,
          0,
          0,
          0,
          15,
          120,
          70,
          10,
          0,
          20,
          20,
          20,
          20,
          35,
          75,
          0,
          25,
          40,
          30,
          15,
          43,
          20,
          0,
          20,
          8,
          0,
          0,
          10,
          24,
          20,
          0,
          0,
          0,
          15,
          0,
          0,
          0,
          10,
          6,
          0,
          12,
          30,
          15,
          60,
          15,
          30,
          23,
          136,
          52,
          10,
          20,
          0,
          18,
          56,
          100,
          0,
          16,
          0,
          0,
          0,
          35,
          20,
          25,
          4,
          6,
          25,
          10,
          10,
          0,
          12,
          20,
          27,
          100,
          60,
          0,
          20,
          20,
          15,
          4,
          0,
          16,
          0,
          0,
          0,
          0,
          10,
          15,
          0,
          0,
          0,
          4,
          0,
          0,
          0,
          4,
          9,
          0,
          0,
          0,
          30,
          0,
          0,
          34,
          30,
          10,
          20,
          30,
          33,
          65,
          10,
          0,
          20,
          60,
          0,
          45,
          0,
          15,
          0,
          30,
          0,
          15,
          40,
          0,
          0,
          95,
          48,
          40,
          30,
          20,
          20,
          40,
          45,
          0,
          45,
          0,
          31,
          15,
          20,
          15,
          115,
          85,
          90,
          35,
          50,
          30,
          15,
          110,
          20,
          50,
          10,
          52,
          0,
          30,
          20,
          10,
          30,
          41,
          50,
          30,
          0,
          30,
          0,
          8,
          10,
          60,
          65,
          120,
          0,
          0,
          15,
          0,
          0,
          0,
          0,
          40,
          10,
          0,
          0,
          0,
          2,
          0,
          0,
          0,
          0,
          0,
          2,
          0,
          0,
          1,
          0,
          0,
          0,
          0,
          0,
          0,
          0,
          2,
          0,
          1,
          0,
          1,
          2,
          0,
          0,
          0,
          0,
          0,
          0,
          0,
          0,
          0,
          0,
          0,
          45,
          15,
          3,
          35,
          10,
          15,
          28,
          24,
          42,
          20,
          25,
          6,
          12,
          0,
          0,
          0,
          0,
          0,
          0,
          0,
          0,
          0,
          6,
          0,
          0,
          0,
          0,
          0,
          0,
          0,
          0,
          0,
          3,
          0,
          0,
          0,
          0,
          0,
          0,
          0,
          0,
          38,
          74,
          45,
          50,
          5,
          48,
          52,
          30,
          40,
          56,
          100,
          35,
          92,
          50,
          98,
          45,
          30,
          100,
          30,
          54,
          72,
          36,
          50,
          10,
          20,
          36,
          10
         ],
         "xaxis": "x",
         "yaxis": "y"
        }
       ],
       "layout": {
        "barmode": "relative",
        "legend": {
         "tracegroupgap": 0
        },
        "margin": {
         "t": 60
        },
        "template": {
         "data": {
          "bar": [
           {
            "error_x": {
             "color": "#2a3f5f"
            },
            "error_y": {
             "color": "#2a3f5f"
            },
            "marker": {
             "line": {
              "color": "#E5ECF6",
              "width": 0.5
             }
            },
            "type": "bar"
           }
          ],
          "barpolar": [
           {
            "marker": {
             "line": {
              "color": "#E5ECF6",
              "width": 0.5
             }
            },
            "type": "barpolar"
           }
          ],
          "carpet": [
           {
            "aaxis": {
             "endlinecolor": "#2a3f5f",
             "gridcolor": "white",
             "linecolor": "white",
             "minorgridcolor": "white",
             "startlinecolor": "#2a3f5f"
            },
            "baxis": {
             "endlinecolor": "#2a3f5f",
             "gridcolor": "white",
             "linecolor": "white",
             "minorgridcolor": "white",
             "startlinecolor": "#2a3f5f"
            },
            "type": "carpet"
           }
          ],
          "choropleth": [
           {
            "colorbar": {
             "outlinewidth": 0,
             "ticks": ""
            },
            "type": "choropleth"
           }
          ],
          "contour": [
           {
            "colorbar": {
             "outlinewidth": 0,
             "ticks": ""
            },
            "colorscale": [
             [
              0,
              "#0d0887"
             ],
             [
              0.1111111111111111,
              "#46039f"
             ],
             [
              0.2222222222222222,
              "#7201a8"
             ],
             [
              0.3333333333333333,
              "#9c179e"
             ],
             [
              0.4444444444444444,
              "#bd3786"
             ],
             [
              0.5555555555555556,
              "#d8576b"
             ],
             [
              0.6666666666666666,
              "#ed7953"
             ],
             [
              0.7777777777777778,
              "#fb9f3a"
             ],
             [
              0.8888888888888888,
              "#fdca26"
             ],
             [
              1,
              "#f0f921"
             ]
            ],
            "type": "contour"
           }
          ],
          "contourcarpet": [
           {
            "colorbar": {
             "outlinewidth": 0,
             "ticks": ""
            },
            "type": "contourcarpet"
           }
          ],
          "heatmap": [
           {
            "colorbar": {
             "outlinewidth": 0,
             "ticks": ""
            },
            "colorscale": [
             [
              0,
              "#0d0887"
             ],
             [
              0.1111111111111111,
              "#46039f"
             ],
             [
              0.2222222222222222,
              "#7201a8"
             ],
             [
              0.3333333333333333,
              "#9c179e"
             ],
             [
              0.4444444444444444,
              "#bd3786"
             ],
             [
              0.5555555555555556,
              "#d8576b"
             ],
             [
              0.6666666666666666,
              "#ed7953"
             ],
             [
              0.7777777777777778,
              "#fb9f3a"
             ],
             [
              0.8888888888888888,
              "#fdca26"
             ],
             [
              1,
              "#f0f921"
             ]
            ],
            "type": "heatmap"
           }
          ],
          "heatmapgl": [
           {
            "colorbar": {
             "outlinewidth": 0,
             "ticks": ""
            },
            "colorscale": [
             [
              0,
              "#0d0887"
             ],
             [
              0.1111111111111111,
              "#46039f"
             ],
             [
              0.2222222222222222,
              "#7201a8"
             ],
             [
              0.3333333333333333,
              "#9c179e"
             ],
             [
              0.4444444444444444,
              "#bd3786"
             ],
             [
              0.5555555555555556,
              "#d8576b"
             ],
             [
              0.6666666666666666,
              "#ed7953"
             ],
             [
              0.7777777777777778,
              "#fb9f3a"
             ],
             [
              0.8888888888888888,
              "#fdca26"
             ],
             [
              1,
              "#f0f921"
             ]
            ],
            "type": "heatmapgl"
           }
          ],
          "histogram": [
           {
            "marker": {
             "colorbar": {
              "outlinewidth": 0,
              "ticks": ""
             }
            },
            "type": "histogram"
           }
          ],
          "histogram2d": [
           {
            "colorbar": {
             "outlinewidth": 0,
             "ticks": ""
            },
            "colorscale": [
             [
              0,
              "#0d0887"
             ],
             [
              0.1111111111111111,
              "#46039f"
             ],
             [
              0.2222222222222222,
              "#7201a8"
             ],
             [
              0.3333333333333333,
              "#9c179e"
             ],
             [
              0.4444444444444444,
              "#bd3786"
             ],
             [
              0.5555555555555556,
              "#d8576b"
             ],
             [
              0.6666666666666666,
              "#ed7953"
             ],
             [
              0.7777777777777778,
              "#fb9f3a"
             ],
             [
              0.8888888888888888,
              "#fdca26"
             ],
             [
              1,
              "#f0f921"
             ]
            ],
            "type": "histogram2d"
           }
          ],
          "histogram2dcontour": [
           {
            "colorbar": {
             "outlinewidth": 0,
             "ticks": ""
            },
            "colorscale": [
             [
              0,
              "#0d0887"
             ],
             [
              0.1111111111111111,
              "#46039f"
             ],
             [
              0.2222222222222222,
              "#7201a8"
             ],
             [
              0.3333333333333333,
              "#9c179e"
             ],
             [
              0.4444444444444444,
              "#bd3786"
             ],
             [
              0.5555555555555556,
              "#d8576b"
             ],
             [
              0.6666666666666666,
              "#ed7953"
             ],
             [
              0.7777777777777778,
              "#fb9f3a"
             ],
             [
              0.8888888888888888,
              "#fdca26"
             ],
             [
              1,
              "#f0f921"
             ]
            ],
            "type": "histogram2dcontour"
           }
          ],
          "mesh3d": [
           {
            "colorbar": {
             "outlinewidth": 0,
             "ticks": ""
            },
            "type": "mesh3d"
           }
          ],
          "parcoords": [
           {
            "line": {
             "colorbar": {
              "outlinewidth": 0,
              "ticks": ""
             }
            },
            "type": "parcoords"
           }
          ],
          "pie": [
           {
            "automargin": true,
            "type": "pie"
           }
          ],
          "scatter": [
           {
            "marker": {
             "colorbar": {
              "outlinewidth": 0,
              "ticks": ""
             }
            },
            "type": "scatter"
           }
          ],
          "scatter3d": [
           {
            "line": {
             "colorbar": {
              "outlinewidth": 0,
              "ticks": ""
             }
            },
            "marker": {
             "colorbar": {
              "outlinewidth": 0,
              "ticks": ""
             }
            },
            "type": "scatter3d"
           }
          ],
          "scattercarpet": [
           {
            "marker": {
             "colorbar": {
              "outlinewidth": 0,
              "ticks": ""
             }
            },
            "type": "scattercarpet"
           }
          ],
          "scattergeo": [
           {
            "marker": {
             "colorbar": {
              "outlinewidth": 0,
              "ticks": ""
             }
            },
            "type": "scattergeo"
           }
          ],
          "scattergl": [
           {
            "marker": {
             "colorbar": {
              "outlinewidth": 0,
              "ticks": ""
             }
            },
            "type": "scattergl"
           }
          ],
          "scattermapbox": [
           {
            "marker": {
             "colorbar": {
              "outlinewidth": 0,
              "ticks": ""
             }
            },
            "type": "scattermapbox"
           }
          ],
          "scatterpolar": [
           {
            "marker": {
             "colorbar": {
              "outlinewidth": 0,
              "ticks": ""
             }
            },
            "type": "scatterpolar"
           }
          ],
          "scatterpolargl": [
           {
            "marker": {
             "colorbar": {
              "outlinewidth": 0,
              "ticks": ""
             }
            },
            "type": "scatterpolargl"
           }
          ],
          "scatterternary": [
           {
            "marker": {
             "colorbar": {
              "outlinewidth": 0,
              "ticks": ""
             }
            },
            "type": "scatterternary"
           }
          ],
          "surface": [
           {
            "colorbar": {
             "outlinewidth": 0,
             "ticks": ""
            },
            "colorscale": [
             [
              0,
              "#0d0887"
             ],
             [
              0.1111111111111111,
              "#46039f"
             ],
             [
              0.2222222222222222,
              "#7201a8"
             ],
             [
              0.3333333333333333,
              "#9c179e"
             ],
             [
              0.4444444444444444,
              "#bd3786"
             ],
             [
              0.5555555555555556,
              "#d8576b"
             ],
             [
              0.6666666666666666,
              "#ed7953"
             ],
             [
              0.7777777777777778,
              "#fb9f3a"
             ],
             [
              0.8888888888888888,
              "#fdca26"
             ],
             [
              1,
              "#f0f921"
             ]
            ],
            "type": "surface"
           }
          ],
          "table": [
           {
            "cells": {
             "fill": {
              "color": "#EBF0F8"
             },
             "line": {
              "color": "white"
             }
            },
            "header": {
             "fill": {
              "color": "#C8D4E3"
             },
             "line": {
              "color": "white"
             }
            },
            "type": "table"
           }
          ]
         },
         "layout": {
          "annotationdefaults": {
           "arrowcolor": "#2a3f5f",
           "arrowhead": 0,
           "arrowwidth": 1
          },
          "coloraxis": {
           "colorbar": {
            "outlinewidth": 0,
            "ticks": ""
           }
          },
          "colorscale": {
           "diverging": [
            [
             0,
             "#8e0152"
            ],
            [
             0.1,
             "#c51b7d"
            ],
            [
             0.2,
             "#de77ae"
            ],
            [
             0.3,
             "#f1b6da"
            ],
            [
             0.4,
             "#fde0ef"
            ],
            [
             0.5,
             "#f7f7f7"
            ],
            [
             0.6,
             "#e6f5d0"
            ],
            [
             0.7,
             "#b8e186"
            ],
            [
             0.8,
             "#7fbc41"
            ],
            [
             0.9,
             "#4d9221"
            ],
            [
             1,
             "#276419"
            ]
           ],
           "sequential": [
            [
             0,
             "#0d0887"
            ],
            [
             0.1111111111111111,
             "#46039f"
            ],
            [
             0.2222222222222222,
             "#7201a8"
            ],
            [
             0.3333333333333333,
             "#9c179e"
            ],
            [
             0.4444444444444444,
             "#bd3786"
            ],
            [
             0.5555555555555556,
             "#d8576b"
            ],
            [
             0.6666666666666666,
             "#ed7953"
            ],
            [
             0.7777777777777778,
             "#fb9f3a"
            ],
            [
             0.8888888888888888,
             "#fdca26"
            ],
            [
             1,
             "#f0f921"
            ]
           ],
           "sequentialminus": [
            [
             0,
             "#0d0887"
            ],
            [
             0.1111111111111111,
             "#46039f"
            ],
            [
             0.2222222222222222,
             "#7201a8"
            ],
            [
             0.3333333333333333,
             "#9c179e"
            ],
            [
             0.4444444444444444,
             "#bd3786"
            ],
            [
             0.5555555555555556,
             "#d8576b"
            ],
            [
             0.6666666666666666,
             "#ed7953"
            ],
            [
             0.7777777777777778,
             "#fb9f3a"
            ],
            [
             0.8888888888888888,
             "#fdca26"
            ],
            [
             1,
             "#f0f921"
            ]
           ]
          },
          "colorway": [
           "#636efa",
           "#EF553B",
           "#00cc96",
           "#ab63fa",
           "#FFA15A",
           "#19d3f3",
           "#FF6692",
           "#B6E880",
           "#FF97FF",
           "#FECB52"
          ],
          "font": {
           "color": "#2a3f5f"
          },
          "geo": {
           "bgcolor": "white",
           "lakecolor": "white",
           "landcolor": "#E5ECF6",
           "showlakes": true,
           "showland": true,
           "subunitcolor": "white"
          },
          "hoverlabel": {
           "align": "left"
          },
          "hovermode": "closest",
          "mapbox": {
           "style": "light"
          },
          "paper_bgcolor": "white",
          "plot_bgcolor": "#E5ECF6",
          "polar": {
           "angularaxis": {
            "gridcolor": "white",
            "linecolor": "white",
            "ticks": ""
           },
           "bgcolor": "#E5ECF6",
           "radialaxis": {
            "gridcolor": "white",
            "linecolor": "white",
            "ticks": ""
           }
          },
          "scene": {
           "xaxis": {
            "backgroundcolor": "#E5ECF6",
            "gridcolor": "white",
            "gridwidth": 2,
            "linecolor": "white",
            "showbackground": true,
            "ticks": "",
            "zerolinecolor": "white"
           },
           "yaxis": {
            "backgroundcolor": "#E5ECF6",
            "gridcolor": "white",
            "gridwidth": 2,
            "linecolor": "white",
            "showbackground": true,
            "ticks": "",
            "zerolinecolor": "white"
           },
           "zaxis": {
            "backgroundcolor": "#E5ECF6",
            "gridcolor": "white",
            "gridwidth": 2,
            "linecolor": "white",
            "showbackground": true,
            "ticks": "",
            "zerolinecolor": "white"
           }
          },
          "shapedefaults": {
           "line": {
            "color": "#2a3f5f"
           }
          },
          "ternary": {
           "aaxis": {
            "gridcolor": "white",
            "linecolor": "white",
            "ticks": ""
           },
           "baxis": {
            "gridcolor": "white",
            "linecolor": "white",
            "ticks": ""
           },
           "bgcolor": "#E5ECF6",
           "caxis": {
            "gridcolor": "white",
            "linecolor": "white",
            "ticks": ""
           }
          },
          "title": {
           "x": 0.05
          },
          "xaxis": {
           "automargin": true,
           "gridcolor": "white",
           "linecolor": "white",
           "ticks": "",
           "title": {
            "standoff": 15
           },
           "zerolinecolor": "white",
           "zerolinewidth": 2
          },
          "yaxis": {
           "automargin": true,
           "gridcolor": "white",
           "linecolor": "white",
           "ticks": "",
           "title": {
            "standoff": 15
           },
           "zerolinecolor": "white",
           "zerolinewidth": 2
          }
         }
        },
        "title": {
         "text": "График частотности количества посадочных мест в сетевых заведениях"
        },
        "xaxis": {
         "anchor": "y",
         "domain": [
          0,
          1
         ],
         "title": {
          "text": "число посадочных мест"
         }
        },
        "yaxis": {
         "anchor": "x",
         "domain": [
          0,
          1
         ],
         "title": {
          "text": "count"
         }
        }
       }
      },
      "text/html": [
       "<div>\n",
       "        \n",
       "        \n",
       "            <div id=\"dc38cd0d-40c8-40a6-aef1-9e81ab754179\" class=\"plotly-graph-div\" style=\"height:525px; width:100%;\"></div>\n",
       "            <script type=\"text/javascript\">\n",
       "                require([\"plotly\"], function(Plotly) {\n",
       "                    window.PLOTLYENV=window.PLOTLYENV || {};\n",
       "                    \n",
       "                if (document.getElementById(\"dc38cd0d-40c8-40a6-aef1-9e81ab754179\")) {\n",
       "                    Plotly.newPlot(\n",
       "                        'dc38cd0d-40c8-40a6-aef1-9e81ab754179',\n",
       "                        [{\"alignmentgroup\": \"True\", \"bingroup\": \"x\", \"hovertemplate\": \"\\u0447\\u0438\\u0441\\u043b\\u043e \\u043f\\u043e\\u0441\\u0430\\u0434\\u043e\\u0447\\u043d\\u044b\\u0445 \\u043c\\u0435\\u0441\\u0442=%{x}<br>count=%{y}<extra></extra>\", \"legendgroup\": \"\", \"marker\": {\"color\": \"#636efa\"}, \"name\": \"\", \"offsetgroup\": \"\", \"orientation\": \"v\", \"showlegend\": false, \"type\": \"histogram\", \"x\": [40, 10, 32, 7, 160, 24, 65, 4, 125, 20, 100, 48, 120, 40, 22, 40, 38, 220, 20, 96, 48, 160, 10, 63, 32, 6, 50, 98, 75, 43, 54, 580, 45, 159, 25, 64, 67, 22, 124, 82, 150, 36, 70, 45, 114, 3, 8, 50, 10, 50, 18, 14, 18, 8, 100, 40, 80, 158, 150, 4, 45, 60, 42, 30, 70, 50, 4, 50, 20, 120, 30, 50, 5, 20, 70, 60, 48, 41, 60, 60, 80, 144, 10, 40, 30, 0, 30, 35, 68, 40, 48, 20, 50, 50, 20, 50, 143, 50, 198, 79, 90, 14, 16, 70, 40, 8, 40, 60, 120, 16, 8, 86, 3, 63, 20, 26, 50, 65, 5, 50, 10, 190, 50, 80, 55, 15, 131, 20, 48, 45, 41, 45, 92, 45, 76, 102, 150, 32, 50, 40, 35, 0, 45, 0, 70, 12, 49, 16, 110, 42, 60, 50, 32, 94, 16, 56, 65, 48, 16, 41, 37, 48, 26, 4, 98, 98, 15, 6, 0, 100, 120, 96, 70, 43, 80, 68, 88, 88, 96, 22, 70, 24, 35, 20, 8, 61, 48, 20, 64, 40, 25, 36, 32, 40, 20, 143, 100, 25, 150, 22, 150, 125, 55, 49, 50, 98, 25, 24, 70, 80, 130, 128, 25, 24, 128, 106, 43, 30, 45, 90, 65, 48, 15, 4, 38, 20, 40, 40, 100, 15, 48, 27, 40, 80, 6, 19, 44, 30, 200, 81, 98, 24, 6, 90, 50, 48, 2, 130, 30, 48, 140, 50, 45, 50, 43, 98, 95, 68, 13, 0, 40, 60, 48, 10, 40, 39, 30, 96, 75, 45, 70, 50, 54, 43, 7, 48, 30, 9, 40, 50, 71, 200, 35, 26, 4, 22, 98, 68, 75, 45, 80, 65, 20, 40, 50, 48, 10, 0, 26, 120, 6, 8, 8, 15, 30, 0, 46, 20, 160, 45, 45, 50, 10, 98, 33, 38, 130, 24, 0, 45, 10, 48, 70, 85, 70, 60, 60, 80, 75, 10, 48, 6, 35, 50, 12, 48, 38, 12, 18, 17, 43, 10, 60, 70, 48, 46, 34, 62, 50, 50, 150, 40, 40, 6, 20, 48, 84, 48, 12, 0, 20, 70, 47, 60, 89, 24, 120, 2, 2, 20, 50, 170, 48, 48, 140, 50, 96, 40, 60, 24, 96, 15, 80, 48, 48, 50, 32, 50, 14, 21, 190, 108, 35, 10, 80, 20, 7, 90, 35, 30, 20, 17, 30, 46, 27, 16, 0, 85, 1, 34, 1, 46, 70, 115, 8, 40, 65, 40, 15, 18, 27, 15, 10, 56, 30, 40, 32, 45, 98, 20, 95, 55, 93, 75, 96, 50, 50, 180, 25, 49, 20, 6, 150, 198, 16, 18, 8, 0, 104, 1, 130, 10, 45, 22, 12, 20, 36, 42, 356, 156, 42, 428, 12, 50, 138, 74, 50, 48, 48, 40, 25, 20, 20, 45, 49, 300, 45, 130, 60, 48, 45, 220, 92, 198, 10, 12, 5, 38, 4, 98, 35, 94, 94, 40, 21, 32, 35, 190, 54, 25, 20, 41, 49, 80, 20, 16, 36, 36, 8, 8, 30, 67, 52, 75, 85, 50, 45, 41, 5, 25, 16, 92, 98, 0, 45, 40, 20, 16, 50, 150, 70, 15, 20, 10, 50, 80, 60, 40, 82, 32, 36, 66, 55, 30, 48, 132, 200, 80, 50, 20, 35, 0, 109, 61, 306, 180, 45, 138, 100, 60, 48, 10, 50, 90, 144, 1, 100, 24, 93, 10, 15, 10, 10, 45, 35, 52, 148, 280, 100, 48, 80, 80, 25, 65, 48, 35, 282, 20, 45, 90, 45, 150, 95, 180, 40, 175, 26, 60, 60, 200, 110, 190, 15, 140, 0, 120, 149, 170, 25, 52, 85, 46, 180, 200, 20, 150, 25, 24, 24, 50, 40, 5, 25, 24, 217, 200, 33, 96, 45, 47, 100, 80, 92, 35, 80, 86, 310, 90, 145, 80, 101, 96, 200, 60, 94, 398, 95, 16, 150, 85, 65, 70, 32, 430, 30, 120, 88, 100, 166, 114, 80, 110, 150, 50, 90, 35, 150, 0, 80, 10, 0, 98, 38, 35, 300, 30, 98, 160, 6, 68, 12, 20, 98, 82, 28, 53, 95, 90, 110, 64, 30, 180, 120, 80, 400, 149, 30, 98, 144, 68, 154, 30, 86, 48, 80, 90, 500, 48, 25, 38, 75, 25, 158, 143, 160, 50, 160, 27, 174, 240, 8, 24, 7, 22, 170, 146, 380, 98, 40, 20, 86, 82, 64, 100, 400, 80, 35, 60, 20, 160, 50, 35, 72, 250, 75, 85, 60, 124, 190, 30, 49, 178, 60, 0, 40, 19, 48, 42, 24, 28, 10, 80, 20, 10, 22, 98, 99, 58, 98, 89, 40, 60, 3, 8, 225, 90, 20, 25, 96, 45, 60, 130, 90, 150, 72, 12, 90, 17, 30, 60, 12, 12, 400, 20, 150, 70, 150, 16, 36, 35, 32, 86, 50, 10, 150, 70, 34, 95, 96, 144, 70, 206, 150, 35, 20, 80, 45, 15, 98, 50, 95, 30, 23, 90, 57, 30, 36, 90, 36, 22, 150, 16, 54, 90, 42, 120, 110, 45, 20, 60, 16, 84, 50, 37, 10, 60, 200, 35, 25, 200, 25, 90, 95, 110, 0, 58, 150, 20, 64, 20, 200, 54, 95, 45, 86, 65, 80, 90, 80, 90, 200, 273, 220, 98, 10, 75, 40, 35, 55, 35, 35, 120, 120, 80, 70, 120, 128, 40, 130, 96, 96, 96, 12, 136, 100, 110, 69, 69, 69, 4, 94, 82, 40, 90, 250, 52, 75, 50, 100, 40, 43, 80, 44, 15, 110, 130, 225, 20, 71, 20, 50, 100, 40, 30, 80, 60, 50, 120, 40, 25, 110, 86, 198, 218, 96, 150, 92, 70, 68, 60, 90, 56, 106, 101, 62, 40, 60, 12, 71, 75, 49, 50, 68, 15, 25, 20, 60, 93, 93, 108, 144, 80, 8, 125, 50, 53, 5, 35, 100, 30, 98, 80, 55, 240, 43, 99, 130, 45, 90, 80, 120, 15, 15, 120, 50, 92, 79, 195, 145, 10, 25, 4, 10, 5, 5, 50, 150, 72, 40, 99, 130, 6, 120, 0, 9, 250, 8, 3, 10, 48, 0, 0, 284, 20, 215, 146, 22, 90, 2, 10, 58, 50, 40, 30, 15, 148, 95, 100, 99, 70, 25, 16, 44, 22, 22, 12, 25, 1, 1, 184, 40, 25, 25, 25, 50, 116, 32, 53, 80, 35, 190, 80, 85, 55, 22, 22, 1, 25, 0, 0, 4, 50, 70, 2, 190, 118, 40, 31, 96, 60, 90, 14, 45, 100, 120, 25, 30, 16, 76, 60, 99, 25, 22, 150, 80, 55, 159, 35, 80, 2, 20, 20, 20, 20, 65, 170, 40, 50, 15, 40, 4, 12, 70, 70, 0, 0, 30, 30, 50, 55, 50, 40, 10, 10, 25, 70, 30, 90, 55, 80, 90, 46, 40, 180, 55, 150, 120, 60, 100, 4, 96, 86, 95, 30, 20, 25, 4, 30, 40, 72, 68, 70, 2, 90, 60, 60, 50, 95, 152, 28, 89, 12, 120, 80, 40, 60, 20, 60, 39, 70, 85, 10, 150, 76, 60, 120, 45, 48, 210, 62, 95, 35, 40, 40, 100, 100, 123, 72, 85, 50, 90, 24, 48, 40, 2, 40, 19, 10, 150, 250, 50, 40, 20, 99, 88, 30, 98, 40, 25, 250, 165, 186, 100, 84, 50, 67, 60, 60, 60, 50, 120, 122, 18, 30, 40, 40, 36, 50, 40, 80, 48, 19, 150, 84, 9, 74, 275, 70, 50, 60, 40, 100, 23, 110, 90, 120, 480, 90, 55, 50, 162, 86, 150, 73, 130, 350, 83, 300, 110, 150, 98, 300, 2, 40, 46, 46, 46, 57, 52, 14, 44, 80, 0, 30, 18, 0, 0, 60, 100, 50, 80, 0, 6, 30, 100, 60, 48, 40, 80, 6, 120, 85, 30, 200, 300, 90, 80, 55, 60, 38, 12, 0, 14, 40, 15, 15, 30, 20, 98, 100, 220, 12, 90, 90, 96, 8, 8, 150, 90, 250, 90, 36, 46, 51, 50, 55, 55, 30, 35, 20, 174, 100, 40, 45, 45, 120, 50, 40, 150, 120, 60, 66, 98, 90, 90, 20, 10, 55, 48, 10, 10, 10, 15, 130, 140, 9, 36, 1, 7, 1, 20, 80, 40, 27, 92, 130, 30, 4, 60, 130, 80, 20, 40, 35, 20, 48, 49, 69, 40, 224, 30, 96, 45, 25, 90, 30, 48, 230, 10, 45, 189, 45, 48, 27, 0, 20, 29, 35, 35, 20, 40, 45, 35, 12, 60, 95, 4, 2, 10, 50, 18, 98, 96, 180, 20, 8, 39, 230, 30, 84, 48, 20, 32, 20, 95, 0, 35, 53, 25, 35, 26, 46, 67, 46, 60, 32, 28, 64, 28, 4, 10, 40, 55, 50, 40, 25, 150, 100, 70, 70, 220, 108, 20, 0, 50, 75, 89, 60, 75, 135, 22, 30, 30, 40, 250, 6, 4, 84, 20, 20, 25, 0, 88, 150, 54, 24, 80, 10, 10, 98, 20, 55, 12, 98, 240, 73, 24, 64, 19, 50, 15, 60, 46, 24, 48, 46, 24, 30, 20, 20, 16, 22, 75, 12, 40, 90, 49, 50, 75, 0, 0, 25, 35, 10, 64, 13, 84, 64, 64, 150, 16, 50, 24, 70, 280, 60, 10, 10, 10, 40, 102, 48, 95, 110, 46, 46, 50, 150, 100, 48, 80, 180, 188, 0, 87, 54, 44, 180, 15, 15, 60, 20, 40, 70, 40, 25, 10, 46, 30, 80, 25, 15, 20, 15, 160, 0, 10, 80, 205, 30, 11, 200, 75, 120, 7, 30, 30, 40, 20, 220, 320, 20, 6, 150, 87, 87, 160, 87, 87, 86, 87, 20, 98, 5, 98, 98, 20, 70, 80, 60, 24, 176, 24, 12, 21, 20, 25, 30, 55, 152, 160, 80, 25, 114, 40, 40, 250, 10, 10, 0, 30, 41, 98, 100, 56, 30, 10, 12, 40, 70, 80, 50, 60, 28, 30, 3, 250, 266, 160, 8, 53, 44, 15, 60, 98, 50, 68, 30, 10, 30, 10, 90, 30, 160, 39, 146, 50, 66, 145, 58, 37, 20, 32, 2, 50, 90, 100, 85, 30, 42, 35, 85, 37, 20, 20, 40, 60, 48, 100, 42, 170, 40, 80, 25, 70, 20, 80, 87, 98, 250, 300, 90, 128, 50, 41, 98, 25, 94, 24, 100, 40, 95, 22, 52, 110, 343, 200, 40, 70, 90, 150, 56, 30, 65, 27, 86, 95, 80, 90, 70, 27, 25, 30, 50, 157, 85, 25, 65, 42, 29, 74, 42, 13, 35, 120, 70, 6, 49, 48, 170, 64, 1, 54, 17, 10, 10, 10, 48, 160, 48, 48, 88, 140, 32, 80, 30, 70, 85, 90, 63, 200, 10, 15, 170, 49, 56, 90, 40, 140, 45, 70, 50, 75, 98, 45, 40, 80, 20, 80, 60, 40, 42, 32, 40, 45, 350, 10, 60, 50, 50, 20, 8, 4, 4, 5, 8, 0, 50, 5, 0, 5, 50, 42, 30, 35, 60, 90, 40, 60, 45, 0, 40, 45, 20, 39, 12, 14, 10, 0, 0, 28, 9, 30, 20, 64, 0, 42, 0, 6, 0, 40, 144, 98, 276, 50, 76, 60, 60, 60, 60, 40, 60, 20, 30, 30, 96, 30, 30, 51, 35, 100, 35, 32, 174, 50, 45, 70, 50, 25, 60, 70, 90, 23, 76, 45, 4, 4, 4, 16, 45, 0, 0, 0, 0, 0, 0, 56, 20, 60, 20, 66, 102, 34, 45, 48, 38, 40, 48, 75, 80, 120, 0, 7, 60, 150, 20, 10, 110, 50, 13, 120, 456, 70, 100, 20, 24, 91, 40, 44, 96, 30, 30, 70, 90, 45, 60, 50, 20, 25, 45, 0, 0, 20, 10, 96, 8, 0, 14, 15, 6, 20, 43, 20, 35, 104, 18, 12, 3, 20, 10, 80, 3, 39, 0, 0, 48, 45, 40, 20, 20, 45, 0, 8, 1, 4, 40, 125, 94, 16, 8, 21, 22, 15, 22, 16, 0, 6, 30, 94, 70, 0, 90, 20, 110, 50, 30, 84, 65, 45, 20, 90, 30, 225, 60, 98, 20, 8, 130, 12, 45, 30, 8, 200, 145, 49, 70, 30, 40, 50, 40, 20, 173, 41, 15, 20, 199, 37, 130, 10, 135, 0, 28, 10, 0, 10, 0, 6, 15, 20, 10, 18, 16, 22, 20, 50, 18, 26, 25, 6, 10, 20, 0, 0, 0, 8, 20, 0, 45, 40, 45, 60, 86, 45, 40, 10, 70, 30, 61, 50, 100, 12, 16, 21, 25, 5, 40, 10, 12, 15, 2, 40, 50, 2, 25, 48, 0, 4, 50, 98, 165, 16, 0, 10, 6, 0, 10, 0, 4, 38, 0, 15, 0, 6, 10, 55, 98, 38, 42, 44, 43, 2, 4, 2, 0, 30, 96, 4, 8, 6, 10, 22, 150, 20, 30, 36, 0, 10, 133, 45, 56, 50, 133, 25, 190, 60, 83, 40, 40, 28, 20, 56, 45, 6, 30, 10, 25, 9, 45, 4, 14, 0, 24, 5, 14, 2, 90, 98, 120, 52, 0, 20, 30, 10, 20, 40, 32, 0, 12, 50, 23, 100, 45, 45, 40, 5, 6, 12, 6, 6, 0, 6, 10, 0, 15, 2, 0, 15, 3, 20, 2, 0, 8, 0, 0, 150, 10, 0, 30, 35, 40, 30, 60, 110, 20, 60, 55, 5, 18, 10, 82, 16, 35, 34, 19, 9, 20, 20, 4, 20, 16, 0, 12, 12, 16, 12, 20, 35, 20, 2, 15, 12, 16, 12, 0, 0, 18, 11, 15, 3, 12, 6, 16, 10, 10, 8, 4, 15, 15, 16, 10, 16, 10, 15, 16, 10, 29, 3, 215, 40, 80, 130, 10, 14, 26, 0, 0, 120, 20, 12, 47, 15, 60, 50, 180, 200, 60, 20, 0, 0, 60, 140, 65, 60, 20, 20, 10, 12, 32, 10, 30, 20, 12, 24, 24, 10, 0, 12, 186, 0, 0, 0, 0, 0, 16, 0, 20, 0, 4, 0, 0, 0, 8, 0, 0, 6, 0, 2, 0, 1, 4, 0, 0, 0, 0, 17, 10, 40, 15, 5, 70, 48, 12, 25, 6, 15, 45, 10, 49, 24, 0, 30, 5, 0, 60, 0, 2, 5, 138, 98, 90, 30, 138, 30, 20, 0, 30, 10, 10, 8, 30, 24, 25, 8, 15, 50, 12, 60, 0, 35, 20, 60, 58, 60, 60, 100, 50, 0, 25, 15, 50, 45, 95, 50, 72, 78, 20, 120, 4, 20, 60, 40, 0, 94, 93, 30, 6, 35, 0, 180, 40, 34, 10, 0, 58, 22, 15, 30, 15, 40, 46, 60, 40, 8, 9, 30, 6, 6, 69, 46, 4, 6, 22, 35, 16, 40, 40, 22, 45, 48, 40, 30, 40, 0, 30, 100, 70, 7, 40, 20, 42, 3, 3, 15, 70, 20, 0, 5, 100, 20, 40, 24, 0, 0, 17, 40, 0, 20, 86, 25, 30, 0, 48, 49, 8, 10, 8, 30, 92, 10, 40, 90, 15, 0, 10, 35, 0, 20, 70, 20, 0, 30, 0, 25, 25, 25, 8, 10, 7, 4, 50, 150, 35, 150, 40, 64, 80, 56, 100, 25, 120, 80, 33, 15, 14, 10, 10, 14, 12, 8, 12, 26, 4, 10, 17, 50, 30, 25, 26, 55, 45, 15, 12, 16, 9, 5, 14, 12, 3, 8, 30, 36, 10, 80, 320, 38, 30, 98, 16, 55, 88, 15, 75, 50, 70, 20, 0, 0, 60, 96, 20, 16, 10, 15, 35, 15, 42, 70, 40, 12, 40, 40, 50, 80, 12, 18, 2, 0, 0, 0, 25, 25, 43, 10, 40, 60, 60, 40, 0, 0, 0, 2, 2, 0, 6, 0, 0, 0, 4, 2, 8, 0, 50, 10, 200, 12, 40, 55, 10, 0, 40, 220, 150, 198, 46, 50, 0, 164, 40, 150, 0, 15, 0, 12, 10, 24, 35, 76, 50, 35, 20, 120, 80, 35, 25, 53, 60, 40, 0, 50, 60, 40, 89, 10, 10, 30, 150, 80, 52, 45, 12, 52, 15, 20, 36, 20, 58, 15, 60, 30, 8, 40, 40, 150, 75, 73, 40, 30, 35, 30, 15, 50, 100, 100, 5, 40, 56, 20, 17, 8, 10, 11, 15, 8, 6, 10, 10, 25, 100, 42, 12, 40, 50, 30, 99, 20, 155, 30, 65, 48, 119, 10, 15, 16, 15, 10, 45, 8, 4, 0, 5, 16, 4, 40, 3, 4, 0, 0, 6, 38, 20, 10, 36, 54, 15, 0, 0, 0, 15, 120, 70, 10, 0, 20, 20, 20, 20, 35, 75, 0, 25, 40, 30, 15, 43, 20, 0, 20, 8, 0, 0, 10, 24, 20, 0, 0, 0, 15, 0, 0, 0, 10, 6, 0, 12, 30, 15, 60, 15, 30, 23, 136, 52, 10, 20, 0, 18, 56, 100, 0, 16, 0, 0, 0, 35, 20, 25, 4, 6, 25, 10, 10, 0, 12, 20, 27, 100, 60, 0, 20, 20, 15, 4, 0, 16, 0, 0, 0, 0, 10, 15, 0, 0, 0, 4, 0, 0, 0, 4, 9, 0, 0, 0, 30, 0, 0, 34, 30, 10, 20, 30, 33, 65, 10, 0, 20, 60, 0, 45, 0, 15, 0, 30, 0, 15, 40, 0, 0, 95, 48, 40, 30, 20, 20, 40, 45, 0, 45, 0, 31, 15, 20, 15, 115, 85, 90, 35, 50, 30, 15, 110, 20, 50, 10, 52, 0, 30, 20, 10, 30, 41, 50, 30, 0, 30, 0, 8, 10, 60, 65, 120, 0, 0, 15, 0, 0, 0, 0, 40, 10, 0, 0, 0, 2, 0, 0, 0, 0, 0, 2, 0, 0, 1, 0, 0, 0, 0, 0, 0, 0, 2, 0, 1, 0, 1, 2, 0, 0, 0, 0, 0, 0, 0, 0, 0, 0, 0, 45, 15, 3, 35, 10, 15, 28, 24, 42, 20, 25, 6, 12, 0, 0, 0, 0, 0, 0, 0, 0, 0, 6, 0, 0, 0, 0, 0, 0, 0, 0, 0, 3, 0, 0, 0, 0, 0, 0, 0, 0, 38, 74, 45, 50, 5, 48, 52, 30, 40, 56, 100, 35, 92, 50, 98, 45, 30, 100, 30, 54, 72, 36, 50, 10, 20, 36, 10], \"xaxis\": \"x\", \"yaxis\": \"y\"}],\n",
       "                        {\"barmode\": \"relative\", \"legend\": {\"tracegroupgap\": 0}, \"margin\": {\"t\": 60}, \"template\": {\"data\": {\"bar\": [{\"error_x\": {\"color\": \"#2a3f5f\"}, \"error_y\": {\"color\": \"#2a3f5f\"}, \"marker\": {\"line\": {\"color\": \"#E5ECF6\", \"width\": 0.5}}, \"type\": \"bar\"}], \"barpolar\": [{\"marker\": {\"line\": {\"color\": \"#E5ECF6\", \"width\": 0.5}}, \"type\": \"barpolar\"}], \"carpet\": [{\"aaxis\": {\"endlinecolor\": \"#2a3f5f\", \"gridcolor\": \"white\", \"linecolor\": \"white\", \"minorgridcolor\": \"white\", \"startlinecolor\": \"#2a3f5f\"}, \"baxis\": {\"endlinecolor\": \"#2a3f5f\", \"gridcolor\": \"white\", \"linecolor\": \"white\", \"minorgridcolor\": \"white\", \"startlinecolor\": \"#2a3f5f\"}, \"type\": \"carpet\"}], \"choropleth\": [{\"colorbar\": {\"outlinewidth\": 0, \"ticks\": \"\"}, \"type\": \"choropleth\"}], \"contour\": [{\"colorbar\": {\"outlinewidth\": 0, \"ticks\": \"\"}, \"colorscale\": [[0.0, \"#0d0887\"], [0.1111111111111111, \"#46039f\"], [0.2222222222222222, \"#7201a8\"], [0.3333333333333333, \"#9c179e\"], [0.4444444444444444, \"#bd3786\"], [0.5555555555555556, \"#d8576b\"], [0.6666666666666666, \"#ed7953\"], [0.7777777777777778, \"#fb9f3a\"], [0.8888888888888888, \"#fdca26\"], [1.0, \"#f0f921\"]], \"type\": \"contour\"}], \"contourcarpet\": [{\"colorbar\": {\"outlinewidth\": 0, \"ticks\": \"\"}, \"type\": \"contourcarpet\"}], \"heatmap\": [{\"colorbar\": {\"outlinewidth\": 0, \"ticks\": \"\"}, \"colorscale\": [[0.0, \"#0d0887\"], [0.1111111111111111, \"#46039f\"], [0.2222222222222222, \"#7201a8\"], [0.3333333333333333, \"#9c179e\"], [0.4444444444444444, \"#bd3786\"], [0.5555555555555556, \"#d8576b\"], [0.6666666666666666, \"#ed7953\"], [0.7777777777777778, \"#fb9f3a\"], [0.8888888888888888, \"#fdca26\"], [1.0, \"#f0f921\"]], \"type\": \"heatmap\"}], \"heatmapgl\": [{\"colorbar\": {\"outlinewidth\": 0, \"ticks\": \"\"}, \"colorscale\": [[0.0, \"#0d0887\"], [0.1111111111111111, \"#46039f\"], [0.2222222222222222, \"#7201a8\"], [0.3333333333333333, \"#9c179e\"], [0.4444444444444444, \"#bd3786\"], [0.5555555555555556, \"#d8576b\"], [0.6666666666666666, \"#ed7953\"], [0.7777777777777778, \"#fb9f3a\"], [0.8888888888888888, \"#fdca26\"], [1.0, \"#f0f921\"]], \"type\": \"heatmapgl\"}], \"histogram\": [{\"marker\": {\"colorbar\": {\"outlinewidth\": 0, \"ticks\": \"\"}}, \"type\": \"histogram\"}], \"histogram2d\": [{\"colorbar\": {\"outlinewidth\": 0, \"ticks\": \"\"}, \"colorscale\": [[0.0, \"#0d0887\"], [0.1111111111111111, \"#46039f\"], [0.2222222222222222, \"#7201a8\"], [0.3333333333333333, \"#9c179e\"], [0.4444444444444444, \"#bd3786\"], [0.5555555555555556, \"#d8576b\"], [0.6666666666666666, \"#ed7953\"], [0.7777777777777778, \"#fb9f3a\"], [0.8888888888888888, \"#fdca26\"], [1.0, \"#f0f921\"]], \"type\": \"histogram2d\"}], \"histogram2dcontour\": [{\"colorbar\": {\"outlinewidth\": 0, \"ticks\": \"\"}, \"colorscale\": [[0.0, \"#0d0887\"], [0.1111111111111111, \"#46039f\"], [0.2222222222222222, \"#7201a8\"], [0.3333333333333333, \"#9c179e\"], [0.4444444444444444, \"#bd3786\"], [0.5555555555555556, \"#d8576b\"], [0.6666666666666666, \"#ed7953\"], [0.7777777777777778, \"#fb9f3a\"], [0.8888888888888888, \"#fdca26\"], [1.0, \"#f0f921\"]], \"type\": \"histogram2dcontour\"}], \"mesh3d\": [{\"colorbar\": {\"outlinewidth\": 0, \"ticks\": \"\"}, \"type\": \"mesh3d\"}], \"parcoords\": [{\"line\": {\"colorbar\": {\"outlinewidth\": 0, \"ticks\": \"\"}}, \"type\": \"parcoords\"}], \"pie\": [{\"automargin\": true, \"type\": \"pie\"}], \"scatter\": [{\"marker\": {\"colorbar\": {\"outlinewidth\": 0, \"ticks\": \"\"}}, \"type\": \"scatter\"}], \"scatter3d\": [{\"line\": {\"colorbar\": {\"outlinewidth\": 0, \"ticks\": \"\"}}, \"marker\": {\"colorbar\": {\"outlinewidth\": 0, \"ticks\": \"\"}}, \"type\": \"scatter3d\"}], \"scattercarpet\": [{\"marker\": {\"colorbar\": {\"outlinewidth\": 0, \"ticks\": \"\"}}, \"type\": \"scattercarpet\"}], \"scattergeo\": [{\"marker\": {\"colorbar\": {\"outlinewidth\": 0, \"ticks\": \"\"}}, \"type\": \"scattergeo\"}], \"scattergl\": [{\"marker\": {\"colorbar\": {\"outlinewidth\": 0, \"ticks\": \"\"}}, \"type\": \"scattergl\"}], \"scattermapbox\": [{\"marker\": {\"colorbar\": {\"outlinewidth\": 0, \"ticks\": \"\"}}, \"type\": \"scattermapbox\"}], \"scatterpolar\": [{\"marker\": {\"colorbar\": {\"outlinewidth\": 0, \"ticks\": \"\"}}, \"type\": \"scatterpolar\"}], \"scatterpolargl\": [{\"marker\": {\"colorbar\": {\"outlinewidth\": 0, \"ticks\": \"\"}}, \"type\": \"scatterpolargl\"}], \"scatterternary\": [{\"marker\": {\"colorbar\": {\"outlinewidth\": 0, \"ticks\": \"\"}}, \"type\": \"scatterternary\"}], \"surface\": [{\"colorbar\": {\"outlinewidth\": 0, \"ticks\": \"\"}, \"colorscale\": [[0.0, \"#0d0887\"], [0.1111111111111111, \"#46039f\"], [0.2222222222222222, \"#7201a8\"], [0.3333333333333333, \"#9c179e\"], [0.4444444444444444, \"#bd3786\"], [0.5555555555555556, \"#d8576b\"], [0.6666666666666666, \"#ed7953\"], [0.7777777777777778, \"#fb9f3a\"], [0.8888888888888888, \"#fdca26\"], [1.0, \"#f0f921\"]], \"type\": \"surface\"}], \"table\": [{\"cells\": {\"fill\": {\"color\": \"#EBF0F8\"}, \"line\": {\"color\": \"white\"}}, \"header\": {\"fill\": {\"color\": \"#C8D4E3\"}, \"line\": {\"color\": \"white\"}}, \"type\": \"table\"}]}, \"layout\": {\"annotationdefaults\": {\"arrowcolor\": \"#2a3f5f\", \"arrowhead\": 0, \"arrowwidth\": 1}, \"coloraxis\": {\"colorbar\": {\"outlinewidth\": 0, \"ticks\": \"\"}}, \"colorscale\": {\"diverging\": [[0, \"#8e0152\"], [0.1, \"#c51b7d\"], [0.2, \"#de77ae\"], [0.3, \"#f1b6da\"], [0.4, \"#fde0ef\"], [0.5, \"#f7f7f7\"], [0.6, \"#e6f5d0\"], [0.7, \"#b8e186\"], [0.8, \"#7fbc41\"], [0.9, \"#4d9221\"], [1, \"#276419\"]], \"sequential\": [[0.0, \"#0d0887\"], [0.1111111111111111, \"#46039f\"], [0.2222222222222222, \"#7201a8\"], [0.3333333333333333, \"#9c179e\"], [0.4444444444444444, \"#bd3786\"], [0.5555555555555556, \"#d8576b\"], [0.6666666666666666, \"#ed7953\"], [0.7777777777777778, \"#fb9f3a\"], [0.8888888888888888, \"#fdca26\"], [1.0, \"#f0f921\"]], \"sequentialminus\": [[0.0, \"#0d0887\"], [0.1111111111111111, \"#46039f\"], [0.2222222222222222, \"#7201a8\"], [0.3333333333333333, \"#9c179e\"], [0.4444444444444444, \"#bd3786\"], [0.5555555555555556, \"#d8576b\"], [0.6666666666666666, \"#ed7953\"], [0.7777777777777778, \"#fb9f3a\"], [0.8888888888888888, \"#fdca26\"], [1.0, \"#f0f921\"]]}, \"colorway\": [\"#636efa\", \"#EF553B\", \"#00cc96\", \"#ab63fa\", \"#FFA15A\", \"#19d3f3\", \"#FF6692\", \"#B6E880\", \"#FF97FF\", \"#FECB52\"], \"font\": {\"color\": \"#2a3f5f\"}, \"geo\": {\"bgcolor\": \"white\", \"lakecolor\": \"white\", \"landcolor\": \"#E5ECF6\", \"showlakes\": true, \"showland\": true, \"subunitcolor\": \"white\"}, \"hoverlabel\": {\"align\": \"left\"}, \"hovermode\": \"closest\", \"mapbox\": {\"style\": \"light\"}, \"paper_bgcolor\": \"white\", \"plot_bgcolor\": \"#E5ECF6\", \"polar\": {\"angularaxis\": {\"gridcolor\": \"white\", \"linecolor\": \"white\", \"ticks\": \"\"}, \"bgcolor\": \"#E5ECF6\", \"radialaxis\": {\"gridcolor\": \"white\", \"linecolor\": \"white\", \"ticks\": \"\"}}, \"scene\": {\"xaxis\": {\"backgroundcolor\": \"#E5ECF6\", \"gridcolor\": \"white\", \"gridwidth\": 2, \"linecolor\": \"white\", \"showbackground\": true, \"ticks\": \"\", \"zerolinecolor\": \"white\"}, \"yaxis\": {\"backgroundcolor\": \"#E5ECF6\", \"gridcolor\": \"white\", \"gridwidth\": 2, \"linecolor\": \"white\", \"showbackground\": true, \"ticks\": \"\", \"zerolinecolor\": \"white\"}, \"zaxis\": {\"backgroundcolor\": \"#E5ECF6\", \"gridcolor\": \"white\", \"gridwidth\": 2, \"linecolor\": \"white\", \"showbackground\": true, \"ticks\": \"\", \"zerolinecolor\": \"white\"}}, \"shapedefaults\": {\"line\": {\"color\": \"#2a3f5f\"}}, \"ternary\": {\"aaxis\": {\"gridcolor\": \"white\", \"linecolor\": \"white\", \"ticks\": \"\"}, \"baxis\": {\"gridcolor\": \"white\", \"linecolor\": \"white\", \"ticks\": \"\"}, \"bgcolor\": \"#E5ECF6\", \"caxis\": {\"gridcolor\": \"white\", \"linecolor\": \"white\", \"ticks\": \"\"}}, \"title\": {\"x\": 0.05}, \"xaxis\": {\"automargin\": true, \"gridcolor\": \"white\", \"linecolor\": \"white\", \"ticks\": \"\", \"title\": {\"standoff\": 15}, \"zerolinecolor\": \"white\", \"zerolinewidth\": 2}, \"yaxis\": {\"automargin\": true, \"gridcolor\": \"white\", \"linecolor\": \"white\", \"ticks\": \"\", \"title\": {\"standoff\": 15}, \"zerolinecolor\": \"white\", \"zerolinewidth\": 2}}}, \"title\": {\"text\": \"\\u0413\\u0440\\u0430\\u0444\\u0438\\u043a \\u0447\\u0430\\u0441\\u0442\\u043e\\u0442\\u043d\\u043e\\u0441\\u0442\\u0438 \\u043a\\u043e\\u043b\\u0438\\u0447\\u0435\\u0441\\u0442\\u0432\\u0430 \\u043f\\u043e\\u0441\\u0430\\u0434\\u043e\\u0447\\u043d\\u044b\\u0445 \\u043c\\u0435\\u0441\\u0442 \\u0432 \\u0441\\u0435\\u0442\\u0435\\u0432\\u044b\\u0445 \\u0437\\u0430\\u0432\\u0435\\u0434\\u0435\\u043d\\u0438\\u044f\\u0445\"}, \"xaxis\": {\"anchor\": \"y\", \"domain\": [0.0, 1.0], \"title\": {\"text\": \"\\u0447\\u0438\\u0441\\u043b\\u043e \\u043f\\u043e\\u0441\\u0430\\u0434\\u043e\\u0447\\u043d\\u044b\\u0445 \\u043c\\u0435\\u0441\\u0442\"}}, \"yaxis\": {\"anchor\": \"x\", \"domain\": [0.0, 1.0], \"title\": {\"text\": \"count\"}}},\n",
       "                        {\"responsive\": true}\n",
       "                    ).then(function(){\n",
       "                            \n",
       "var gd = document.getElementById('dc38cd0d-40c8-40a6-aef1-9e81ab754179');\n",
       "var x = new MutationObserver(function (mutations, observer) {{\n",
       "        var display = window.getComputedStyle(gd).display;\n",
       "        if (!display || display === 'none') {{\n",
       "            console.log([gd, 'removed!']);\n",
       "            Plotly.purge(gd);\n",
       "            observer.disconnect();\n",
       "        }}\n",
       "}});\n",
       "\n",
       "// Listen for the removal of the full notebook cells\n",
       "var notebookContainer = gd.closest('#notebook-container');\n",
       "if (notebookContainer) {{\n",
       "    x.observe(notebookContainer, {childList: true});\n",
       "}}\n",
       "\n",
       "// Listen for the clearing of the current output cell\n",
       "var outputEl = gd.closest('.output');\n",
       "if (outputEl) {{\n",
       "    x.observe(outputEl, {childList: true});\n",
       "}}\n",
       "\n",
       "                        })\n",
       "                };\n",
       "                });\n",
       "            </script>\n",
       "        </div>"
      ]
     },
     "metadata": {},
     "output_type": "display_data"
    }
   ],
   "source": [
    "fig = px.histogram(df[df['chain'] == 'да'], x='number', labels={'number':'число посадочных мест'})\n",
    "fig.update_layout(title_text='График частотности количества посадочных мест в сетевых заведениях')\n",
    "fig.show()"
   ]
  },
  {
   "cell_type": "code",
   "execution_count": 36,
   "metadata": {},
   "outputs": [
    {
     "data": {
      "text/html": [
       "<div>\n",
       "<style scoped>\n",
       "    .dataframe tbody tr th:only-of-type {\n",
       "        vertical-align: middle;\n",
       "    }\n",
       "\n",
       "    .dataframe tbody tr th {\n",
       "        vertical-align: top;\n",
       "    }\n",
       "\n",
       "    .dataframe thead th {\n",
       "        text-align: right;\n",
       "    }\n",
       "</style>\n",
       "<table border=\"1\" class=\"dataframe\">\n",
       "  <thead>\n",
       "    <tr style=\"text-align: right;\">\n",
       "      <th></th>\n",
       "      <th>число посадочных мест</th>\n",
       "      <th>частота</th>\n",
       "    </tr>\n",
       "  </thead>\n",
       "  <tbody>\n",
       "    <tr>\n",
       "      <th>0</th>\n",
       "      <td>0</td>\n",
       "      <td>265</td>\n",
       "    </tr>\n",
       "    <tr>\n",
       "      <th>25</th>\n",
       "      <td>2</td>\n",
       "      <td>29</td>\n",
       "    </tr>\n",
       "    <tr>\n",
       "      <th>19</th>\n",
       "      <td>4</td>\n",
       "      <td>44</td>\n",
       "    </tr>\n",
       "    <tr>\n",
       "      <th>28</th>\n",
       "      <td>5</td>\n",
       "      <td>24</td>\n",
       "    </tr>\n",
       "    <tr>\n",
       "      <th>21</th>\n",
       "      <td>6</td>\n",
       "      <td>42</td>\n",
       "    </tr>\n",
       "    <tr>\n",
       "      <th>18</th>\n",
       "      <td>8</td>\n",
       "      <td>46</td>\n",
       "    </tr>\n",
       "    <tr>\n",
       "      <th>3</th>\n",
       "      <td>10</td>\n",
       "      <td>131</td>\n",
       "    </tr>\n",
       "    <tr>\n",
       "      <th>15</th>\n",
       "      <td>12</td>\n",
       "      <td>55</td>\n",
       "    </tr>\n",
       "    <tr>\n",
       "      <th>7</th>\n",
       "      <td>15</td>\n",
       "      <td>78</td>\n",
       "    </tr>\n",
       "    <tr>\n",
       "      <th>22</th>\n",
       "      <td>16</td>\n",
       "      <td>41</td>\n",
       "    </tr>\n",
       "    <tr>\n",
       "      <th>1</th>\n",
       "      <td>20</td>\n",
       "      <td>161</td>\n",
       "    </tr>\n",
       "    <tr>\n",
       "      <th>26</th>\n",
       "      <td>22</td>\n",
       "      <td>25</td>\n",
       "    </tr>\n",
       "    <tr>\n",
       "      <th>24</th>\n",
       "      <td>24</td>\n",
       "      <td>33</td>\n",
       "    </tr>\n",
       "    <tr>\n",
       "      <th>9</th>\n",
       "      <td>25</td>\n",
       "      <td>69</td>\n",
       "    </tr>\n",
       "    <tr>\n",
       "      <th>5</th>\n",
       "      <td>30</td>\n",
       "      <td>121</td>\n",
       "    </tr>\n",
       "    <tr>\n",
       "      <th>12</th>\n",
       "      <td>35</td>\n",
       "      <td>59</td>\n",
       "    </tr>\n",
       "    <tr>\n",
       "      <th>2</th>\n",
       "      <td>40</td>\n",
       "      <td>144</td>\n",
       "    </tr>\n",
       "    <tr>\n",
       "      <th>8</th>\n",
       "      <td>45</td>\n",
       "      <td>74</td>\n",
       "    </tr>\n",
       "    <tr>\n",
       "      <th>11</th>\n",
       "      <td>48</td>\n",
       "      <td>63</td>\n",
       "    </tr>\n",
       "    <tr>\n",
       "      <th>4</th>\n",
       "      <td>50</td>\n",
       "      <td>122</td>\n",
       "    </tr>\n",
       "    <tr>\n",
       "      <th>29</th>\n",
       "      <td>55</td>\n",
       "      <td>24</td>\n",
       "    </tr>\n",
       "    <tr>\n",
       "      <th>6</th>\n",
       "      <td>60</td>\n",
       "      <td>96</td>\n",
       "    </tr>\n",
       "    <tr>\n",
       "      <th>14</th>\n",
       "      <td>70</td>\n",
       "      <td>55</td>\n",
       "    </tr>\n",
       "    <tr>\n",
       "      <th>10</th>\n",
       "      <td>80</td>\n",
       "      <td>68</td>\n",
       "    </tr>\n",
       "    <tr>\n",
       "      <th>13</th>\n",
       "      <td>90</td>\n",
       "      <td>55</td>\n",
       "    </tr>\n",
       "    <tr>\n",
       "      <th>27</th>\n",
       "      <td>96</td>\n",
       "      <td>25</td>\n",
       "    </tr>\n",
       "    <tr>\n",
       "      <th>20</th>\n",
       "      <td>98</td>\n",
       "      <td>44</td>\n",
       "    </tr>\n",
       "    <tr>\n",
       "      <th>16</th>\n",
       "      <td>100</td>\n",
       "      <td>47</td>\n",
       "    </tr>\n",
       "    <tr>\n",
       "      <th>23</th>\n",
       "      <td>120</td>\n",
       "      <td>37</td>\n",
       "    </tr>\n",
       "    <tr>\n",
       "      <th>17</th>\n",
       "      <td>150</td>\n",
       "      <td>46</td>\n",
       "    </tr>\n",
       "  </tbody>\n",
       "</table>\n",
       "</div>"
      ],
      "text/plain": [
       "    число посадочных мест  частота\n",
       "0                       0      265\n",
       "25                      2       29\n",
       "19                      4       44\n",
       "28                      5       24\n",
       "21                      6       42\n",
       "18                      8       46\n",
       "3                      10      131\n",
       "15                     12       55\n",
       "7                      15       78\n",
       "22                     16       41\n",
       "1                      20      161\n",
       "26                     22       25\n",
       "24                     24       33\n",
       "9                      25       69\n",
       "5                      30      121\n",
       "12                     35       59\n",
       "2                      40      144\n",
       "8                      45       74\n",
       "11                     48       63\n",
       "4                      50      122\n",
       "29                     55       24\n",
       "6                      60       96\n",
       "14                     70       55\n",
       "10                     80       68\n",
       "13                     90       55\n",
       "27                     96       25\n",
       "20                     98       44\n",
       "16                    100       47\n",
       "23                    120       37\n",
       "17                    150       46"
      ]
     },
     "execution_count": 36,
     "metadata": {},
     "output_type": "execute_result"
    }
   ],
   "source": [
    "chain_seats = df[df['chain'] == 'да']['number'].value_counts().reset_index().head(30)\n",
    "chain_seats.columns = ['число посадочных мест', 'частота']\n",
    "chain_seats.sort_values('число посадочных мест')"
   ]
  },
  {
   "cell_type": "markdown",
   "metadata": {},
   "source": [
    "Судя по гистограмме в сетевых местах превалирует большое число заведений с небольшим количеством посадочных мест. В таблице выше мы видим, что самый ТОП возглавляют заведения, у которых вообще нет посадочных мест = **268 заведений**. Хочу обратить внимание, что после 50-60 посадочных мест количество заведений убывает. Больше 100 мест заведений очень мало"
   ]
  },
  {
   "cell_type": "code",
   "execution_count": 37,
   "metadata": {},
   "outputs": [
    {
     "data": {
      "text/html": [
       "<div>\n",
       "<style scoped>\n",
       "    .dataframe tbody tr th:only-of-type {\n",
       "        vertical-align: middle;\n",
       "    }\n",
       "\n",
       "    .dataframe tbody tr th {\n",
       "        vertical-align: top;\n",
       "    }\n",
       "\n",
       "    .dataframe thead th {\n",
       "        text-align: right;\n",
       "    }\n",
       "</style>\n",
       "<table border=\"1\" class=\"dataframe\">\n",
       "  <thead>\n",
       "    <tr style=\"text-align: right;\">\n",
       "      <th></th>\n",
       "      <th>object_type</th>\n",
       "      <th>sum</th>\n",
       "      <th>mean</th>\n",
       "      <th>max</th>\n",
       "    </tr>\n",
       "  </thead>\n",
       "  <tbody>\n",
       "    <tr>\n",
       "      <th>8</th>\n",
       "      <td>столовая</td>\n",
       "      <td>336793</td>\n",
       "      <td>130.337848</td>\n",
       "      <td>1400</td>\n",
       "    </tr>\n",
       "    <tr>\n",
       "      <th>7</th>\n",
       "      <td>ресторан</td>\n",
       "      <td>221091</td>\n",
       "      <td>96.884750</td>\n",
       "      <td>1500</td>\n",
       "    </tr>\n",
       "    <tr>\n",
       "      <th>1</th>\n",
       "      <td>буфет</td>\n",
       "      <td>29721</td>\n",
       "      <td>51.509532</td>\n",
       "      <td>320</td>\n",
       "    </tr>\n",
       "    <tr>\n",
       "      <th>0</th>\n",
       "      <td>бар</td>\n",
       "      <td>37221</td>\n",
       "      <td>43.533333</td>\n",
       "      <td>1700</td>\n",
       "    </tr>\n",
       "    <tr>\n",
       "      <th>3</th>\n",
       "      <td>кафе</td>\n",
       "      <td>241539</td>\n",
       "      <td>39.785703</td>\n",
       "      <td>533</td>\n",
       "    </tr>\n",
       "    <tr>\n",
       "      <th>6</th>\n",
       "      <td>предприятие быстрого обслуживания</td>\n",
       "      <td>39494</td>\n",
       "      <td>20.808219</td>\n",
       "      <td>580</td>\n",
       "    </tr>\n",
       "    <tr>\n",
       "      <th>4</th>\n",
       "      <td>кафетерий</td>\n",
       "      <td>3628</td>\n",
       "      <td>9.184810</td>\n",
       "      <td>200</td>\n",
       "    </tr>\n",
       "    <tr>\n",
       "      <th>2</th>\n",
       "      <td>закусочная</td>\n",
       "      <td>2731</td>\n",
       "      <td>7.825215</td>\n",
       "      <td>216</td>\n",
       "    </tr>\n",
       "    <tr>\n",
       "      <th>5</th>\n",
       "      <td>магазин (отдел кулинарии)</td>\n",
       "      <td>1526</td>\n",
       "      <td>5.589744</td>\n",
       "      <td>50</td>\n",
       "    </tr>\n",
       "  </tbody>\n",
       "</table>\n",
       "</div>"
      ],
      "text/plain": [
       "                         object_type     sum        mean   max\n",
       "8                           столовая  336793  130.337848  1400\n",
       "7                           ресторан  221091   96.884750  1500\n",
       "1                              буфет   29721   51.509532   320\n",
       "0                                бар   37221   43.533333  1700\n",
       "3                               кафе  241539   39.785703   533\n",
       "6  предприятие быстрого обслуживания   39494   20.808219   580\n",
       "4                          кафетерий    3628    9.184810   200\n",
       "2                         закусочная    2731    7.825215   216\n",
       "5          магазин (отдел кулинарии)    1526    5.589744    50"
      ]
     },
     "execution_count": 37,
     "metadata": {},
     "output_type": "execute_result"
    }
   ],
   "source": [
    "top_seat = df.groupby('object_type').agg({'number':['sum', 'mean', 'max']}).reset_index()\n",
    "top_seat.columns = ['object_type', 'sum', 'mean', 'max']\n",
    "top_seat.sort_values('mean', ascending=False)"
   ]
  },
  {
   "cell_type": "code",
   "execution_count": 38,
   "metadata": {},
   "outputs": [
    {
     "data": {
      "image/png": "[encoded data removed]",
      "text/plain": [
       "<Figure size 720x576 with 1 Axes>"
      ]
     },
     "metadata": {
      "needs_background": "light"
     },
     "output_type": "display_data"
    }
   ],
   "source": [
    "fig = plt.subplots(figsize=(10, 8))\n",
    "sns.boxplot(x=\"number\", y=\"object_type\", data=df[df['number'] <=500])\n",
    "plt.title('Распределение посадочных мест в сетевых заведениях')\n",
    "plt.xlabel('число посадочных мест')\n",
    "plt.ylabel('вид заведения')\n",
    "plt.show()"
   ]
  },
  {
   "cell_type": "markdown",
   "metadata": {},
   "source": [
    "Пусть кафе и встречается чаще всего, но посадочных мест в среднем дает немного **40 шт.**. Бары по количеству похожи на кафе **43 шт.**. Зато столовая на порядок больше дает в среднем посадочных мест **130 шт.**. Это логично, т.к. в столовые как раз создаются для большого количества посетителей(вспоминаем школьные столовые - большие залы, длинные столы и лавки по бокам). Столовые дают нам самый разброс по количеству посадоных мест. Дальше в рейтинге у нас выделяются рестораны **97 шт.** посадочных мест. Разброс не такой большой, как у столовых, но выбросов у ресторанов определенно больше."
   ]
  },
  {
   "cell_type": "markdown",
   "metadata": {},
   "source": [
    "### География <a id=\"step2.2\"></a>"
   ]
  },
  {
   "cell_type": "markdown",
   "metadata": {},
   "source": [
    "### Подготовка наименований к поиску по внешней информации <a id='step2.2.1'></a>"
   ]
  },
  {
   "cell_type": "markdown",
   "metadata": {},
   "source": [
    "Выделю из колонки *address* улицу и запишу в отдельную колонку. Составлю ТОП-10 улиц по количеству заведений и выделю районы, где больше концентрация заведений. Также посмотрим на районы и улицы, где всего 1 заведение. И рассмотрим распределние количества посадочных мест для улиц с большим количеством объектов."
   ]
  },
  {
   "cell_type": "code",
   "execution_count": 39,
   "metadata": {},
   "outputs": [
    {
     "data": {
      "text/html": [
       "<div>\n",
       "<style scoped>\n",
       "    .dataframe tbody tr th:only-of-type {\n",
       "        vertical-align: middle;\n",
       "    }\n",
       "\n",
       "    .dataframe tbody tr th {\n",
       "        vertical-align: top;\n",
       "    }\n",
       "\n",
       "    .dataframe thead th {\n",
       "        text-align: right;\n",
       "    }\n",
       "</style>\n",
       "<table border=\"1\" class=\"dataframe\">\n",
       "  <thead>\n",
       "    <tr style=\"text-align: right;\">\n",
       "      <th></th>\n",
       "      <th>id</th>\n",
       "      <th>object_name</th>\n",
       "      <th>chain</th>\n",
       "      <th>object_type</th>\n",
       "      <th>address</th>\n",
       "      <th>number</th>\n",
       "      <th>street</th>\n",
       "    </tr>\n",
       "  </thead>\n",
       "  <tbody>\n",
       "    <tr>\n",
       "      <th>0</th>\n",
       "      <td>151635</td>\n",
       "      <td>СМЕТАНА</td>\n",
       "      <td>нет</td>\n",
       "      <td>кафе</td>\n",
       "      <td>город Москва, улица Егора Абакумова, дом 9</td>\n",
       "      <td>48</td>\n",
       "      <td>улица Егора Абакумова</td>\n",
       "    </tr>\n",
       "    <tr>\n",
       "      <th>1</th>\n",
       "      <td>77874</td>\n",
       "      <td>Родник</td>\n",
       "      <td>нет</td>\n",
       "      <td>кафе</td>\n",
       "      <td>город Москва, улица Талалихина, дом 2/1, корпус 1</td>\n",
       "      <td>35</td>\n",
       "      <td>улица Талалихина</td>\n",
       "    </tr>\n",
       "    <tr>\n",
       "      <th>2</th>\n",
       "      <td>24309</td>\n",
       "      <td>Кафе «Академия»</td>\n",
       "      <td>нет</td>\n",
       "      <td>кафе</td>\n",
       "      <td>город Москва, Абельмановская улица, дом 6</td>\n",
       "      <td>95</td>\n",
       "      <td>Абельмановская улица</td>\n",
       "    </tr>\n",
       "    <tr>\n",
       "      <th>3</th>\n",
       "      <td>21894</td>\n",
       "      <td>ПИЦЦЕТОРИЯ</td>\n",
       "      <td>да</td>\n",
       "      <td>кафе</td>\n",
       "      <td>город Москва, Абрамцевская улица, дом 1</td>\n",
       "      <td>40</td>\n",
       "      <td>Абрамцевская улица</td>\n",
       "    </tr>\n",
       "    <tr>\n",
       "      <th>4</th>\n",
       "      <td>119365</td>\n",
       "      <td>Кафе «Вишневая метель»</td>\n",
       "      <td>нет</td>\n",
       "      <td>кафе</td>\n",
       "      <td>город Москва, Абрамцевская улица, дом 9, корпус 1</td>\n",
       "      <td>50</td>\n",
       "      <td>Абрамцевская улица</td>\n",
       "    </tr>\n",
       "  </tbody>\n",
       "</table>\n",
       "</div>"
      ],
      "text/plain": [
       "       id             object_name chain object_type  \\\n",
       "0  151635                 СМЕТАНА   нет        кафе   \n",
       "1   77874                  Родник   нет        кафе   \n",
       "2   24309         Кафе «Академия»   нет        кафе   \n",
       "3   21894              ПИЦЦЕТОРИЯ    да        кафе   \n",
       "4  119365  Кафе «Вишневая метель»   нет        кафе   \n",
       "\n",
       "                                             address  number  \\\n",
       "0         город Москва, улица Егора Абакумова, дом 9      48   \n",
       "1  город Москва, улица Талалихина, дом 2/1, корпус 1      35   \n",
       "2          город Москва, Абельмановская улица, дом 6      95   \n",
       "3            город Москва, Абрамцевская улица, дом 1      40   \n",
       "4  город Москва, Абрамцевская улица, дом 9, корпус 1      50   \n",
       "\n",
       "                  street  \n",
       "0  улица Егора Абакумова  \n",
       "1       улица Талалихина  \n",
       "2   Абельмановская улица  \n",
       "3     Абрамцевская улица  \n",
       "4     Абрамцевская улица  "
      ]
     },
     "execution_count": 39,
     "metadata": {},
     "output_type": "execute_result"
    }
   ],
   "source": [
    "df['street'] = df['address'].apply(lambda x: re.split(', ', x)[1])\n",
    "df.head()"
   ]
  },
  {
   "cell_type": "markdown",
   "metadata": {},
   "source": [
    "Но остаются вне шаблона записи тоже с улицами. Например id 23601 ниже. Их тоже исправим."
   ]
  },
  {
   "cell_type": "code",
   "execution_count": 40,
   "metadata": {},
   "outputs": [
    {
     "data": {
      "text/html": [
       "<div>\n",
       "<style scoped>\n",
       "    .dataframe tbody tr th:only-of-type {\n",
       "        vertical-align: middle;\n",
       "    }\n",
       "\n",
       "    .dataframe tbody tr th {\n",
       "        vertical-align: top;\n",
       "    }\n",
       "\n",
       "    .dataframe thead th {\n",
       "        text-align: right;\n",
       "    }\n",
       "</style>\n",
       "<table border=\"1\" class=\"dataframe\">\n",
       "  <thead>\n",
       "    <tr style=\"text-align: right;\">\n",
       "      <th></th>\n",
       "      <th>id</th>\n",
       "      <th>object_name</th>\n",
       "      <th>chain</th>\n",
       "      <th>object_type</th>\n",
       "      <th>address</th>\n",
       "      <th>number</th>\n",
       "      <th>street</th>\n",
       "    </tr>\n",
       "  </thead>\n",
       "  <tbody>\n",
       "    <tr>\n",
       "      <th>859</th>\n",
       "      <td>23601</td>\n",
       "      <td>Буфет - ГБОУ СОШ № 64</td>\n",
       "      <td>нет</td>\n",
       "      <td>буфет</td>\n",
       "      <td>Партизанская улица, дом 30</td>\n",
       "      <td>100</td>\n",
       "      <td>дом 30</td>\n",
       "    </tr>\n",
       "  </tbody>\n",
       "</table>\n",
       "</div>"
      ],
      "text/plain": [
       "        id            object_name chain object_type  \\\n",
       "859  23601  Буфет - ГБОУ СОШ № 64   нет       буфет   \n",
       "\n",
       "                        address  number  street  \n",
       "859  Партизанская улица, дом 30     100  дом 30  "
      ]
     },
     "execution_count": 40,
     "metadata": {},
     "output_type": "execute_result"
    }
   ],
   "source": [
    "df[df['id'] == 23601]"
   ]
  },
  {
   "cell_type": "code",
   "execution_count": 41,
   "metadata": {},
   "outputs": [],
   "source": [
    "def lost(row):\n",
    "    if re.search('владение|домовладение|дом', row['street']):\n",
    "        if re.search('Талдомская', row['street']):\n",
    "            return re.split(', ', row['address'])[1]\n",
    "        else:\n",
    "            return re.split(', ', row['address'])[0]\n",
    "    else:\n",
    "        return row['street']"
   ]
  },
  {
   "cell_type": "code",
   "execution_count": 42,
   "metadata": {},
   "outputs": [],
   "source": [
    "df['street'] = df.apply(lost, axis=1)"
   ]
  },
  {
   "cell_type": "code",
   "execution_count": 43,
   "metadata": {},
   "outputs": [
    {
     "data": {
      "text/html": [
       "<div>\n",
       "<style scoped>\n",
       "    .dataframe tbody tr th:only-of-type {\n",
       "        vertical-align: middle;\n",
       "    }\n",
       "\n",
       "    .dataframe tbody tr th {\n",
       "        vertical-align: top;\n",
       "    }\n",
       "\n",
       "    .dataframe thead th {\n",
       "        text-align: right;\n",
       "    }\n",
       "</style>\n",
       "<table border=\"1\" class=\"dataframe\">\n",
       "  <thead>\n",
       "    <tr style=\"text-align: right;\">\n",
       "      <th></th>\n",
       "      <th>id</th>\n",
       "      <th>object_name</th>\n",
       "      <th>chain</th>\n",
       "      <th>object_type</th>\n",
       "      <th>address</th>\n",
       "      <th>number</th>\n",
       "      <th>street</th>\n",
       "    </tr>\n",
       "  </thead>\n",
       "  <tbody>\n",
       "    <tr>\n",
       "      <th>859</th>\n",
       "      <td>23601</td>\n",
       "      <td>Буфет - ГБОУ СОШ № 64</td>\n",
       "      <td>нет</td>\n",
       "      <td>буфет</td>\n",
       "      <td>Партизанская улица, дом 30</td>\n",
       "      <td>100</td>\n",
       "      <td>Партизанская улица</td>\n",
       "    </tr>\n",
       "  </tbody>\n",
       "</table>\n",
       "</div>"
      ],
      "text/plain": [
       "        id            object_name chain object_type  \\\n",
       "859  23601  Буфет - ГБОУ СОШ № 64   нет       буфет   \n",
       "\n",
       "                        address  number              street  \n",
       "859  Партизанская улица, дом 30     100  Партизанская улица  "
      ]
     },
     "execution_count": 43,
     "metadata": {},
     "output_type": "execute_result"
    }
   ],
   "source": [
    "df[df['id'] == 23601]"
   ]
  },
  {
   "cell_type": "markdown",
   "metadata": {},
   "source": [
    "Чтобы найти районы, где расположены заведения, я спарсила список улиц и районов с сайта [Округа и районы Москвы](http://xn----7sbbj7ab0abgod6a9h.xn--80adxhks/%D0%B2%D1%81%D0%B5_%D1%83%D0%BB%D0%B8%D1%86%D1%8B_%D0%BC%D0%BE%D1%81%D0%BA%D0%B2%D1%8B). Записала в отдельную таблицу **area.csv**. [Код на парсинг](https://pastebin.com/meeh5uTg), доступ к [таблице area](https://docs.google.com/spreadsheets/d/1nfa0OUaR3gx-X8otGMNwrk0tSJ6eLaxDfR_vOGEmxEg/edit?usp=sharing) по ссылке"
   ]
  },
  {
   "cell_type": "code",
   "execution_count": 44,
   "metadata": {},
   "outputs": [
    {
     "data": {
      "text/html": [
       "<div>\n",
       "<style scoped>\n",
       "    .dataframe tbody tr th:only-of-type {\n",
       "        vertical-align: middle;\n",
       "    }\n",
       "\n",
       "    .dataframe tbody tr th {\n",
       "        vertical-align: top;\n",
       "    }\n",
       "\n",
       "    .dataframe thead th {\n",
       "        text-align: right;\n",
       "    }\n",
       "</style>\n",
       "<table border=\"1\" class=\"dataframe\">\n",
       "  <thead>\n",
       "    <tr style=\"text-align: right;\">\n",
       "      <th></th>\n",
       "      <th>Наименование</th>\n",
       "      <th>Тип</th>\n",
       "      <th>Индекс</th>\n",
       "      <th>Административный округ</th>\n",
       "      <th>Район</th>\n",
       "    </tr>\n",
       "  </thead>\n",
       "  <tbody>\n",
       "    <tr>\n",
       "      <th>0</th>\n",
       "      <td>1 Маевки</td>\n",
       "      <td>аллея</td>\n",
       "      <td>111395.0</td>\n",
       "      <td>Восточный административный округ</td>\n",
       "      <td>район Вешняки</td>\n",
       "    </tr>\n",
       "    <tr>\n",
       "      <th>1</th>\n",
       "      <td>1 мая</td>\n",
       "      <td>ул</td>\n",
       "      <td>124365.0</td>\n",
       "      <td>Зеленоградский административный округ</td>\n",
       "      <td>район Крюково</td>\n",
       "    </tr>\n",
       "    <tr>\n",
       "      <th>2</th>\n",
       "      <td>1-й</td>\n",
       "      <td>пр-кт</td>\n",
       "      <td>111396.0</td>\n",
       "      <td>Восточный административный округ</td>\n",
       "      <td>район Ивановское</td>\n",
       "    </tr>\n",
       "    <tr>\n",
       "      <th>3</th>\n",
       "      <td>1-й Автозаводский</td>\n",
       "      <td>проезд</td>\n",
       "      <td>115280.0</td>\n",
       "      <td>Южный административный округ</td>\n",
       "      <td>Даниловский район</td>\n",
       "    </tr>\n",
       "    <tr>\n",
       "      <th>4</th>\n",
       "      <td>1-й Амбулаторный</td>\n",
       "      <td>проезд</td>\n",
       "      <td>125315.0</td>\n",
       "      <td>Северный административный округ</td>\n",
       "      <td>район Аэропорт</td>\n",
       "    </tr>\n",
       "  </tbody>\n",
       "</table>\n",
       "</div>"
      ],
      "text/plain": [
       "        Наименование     Тип    Индекс                 Административный округ  \\\n",
       "0           1 Маевки   аллея  111395.0       Восточный административный округ   \n",
       "1              1 мая      ул  124365.0  Зеленоградский административный округ   \n",
       "2                1-й   пр-кт  111396.0       Восточный административный округ   \n",
       "3  1-й Автозаводский  проезд  115280.0           Южный административный округ   \n",
       "4   1-й Амбулаторный  проезд  125315.0        Северный административный округ   \n",
       "\n",
       "               Район  \n",
       "0      район Вешняки  \n",
       "1      район Крюково  \n",
       "2   район Ивановское  \n",
       "3  Даниловский район  \n",
       "4     район Аэропорт  "
      ]
     },
     "execution_count": 44,
     "metadata": {},
     "output_type": "execute_result"
    }
   ],
   "source": [
    "#Практикум\n",
    "#area = pd.read_csv('area.csv')\n",
    "#Локалка\n",
    "area = pd.read_csv('C://Users/Ритер/Desktop/Практикум/datasets/area.csv')\n",
    "area.head()"
   ]
  },
  {
   "cell_type": "code",
   "execution_count": 45,
   "metadata": {},
   "outputs": [],
   "source": [
    "street_dict = {'проезд': 'проезд',\n",
    "              'переулок': 'пер',\n",
    "              'улица': 'ул',\n",
    "              'бульвар': 'б-р',\n",
    "              'аллея':'аллея',\n",
    "              'набережная':'наб',\n",
    "              'тупик':'туп',\n",
    "              'площадь':'пл',\n",
    "              'проспект':'пр-кт',\n",
    "              'территория':'тер',\n",
    "              'квартал':'кв-л',\n",
    "              'микрорайон':'мкр',\n",
    "              'линия':'линия',\n",
    "              'шоссе':'ш',\n",
    "              'просек': 'просек',\n",
    "              'километр': 'км'\n",
    "}"
   ]
  },
  {
   "cell_type": "code",
   "execution_count": 46,
   "metadata": {},
   "outputs": [],
   "source": [
    "df['type_street'] = 'no_info'"
   ]
  },
  {
   "cell_type": "code",
   "execution_count": 47,
   "metadata": {},
   "outputs": [],
   "source": [
    "#функция находит в колонке street наименование из словаря и передает в колонку значение, если не находит, то None\n",
    "def edit1(row):\n",
    "    row['street'] = row['street'].split(' ')\n",
    "    for element in row['street']:\n",
    "        if element in street_dict:\n",
    "            return street_dict.get(element)\n",
    "\n",
    "#функция приводит наименование улицы в универсальный вид, по которому можно найти ее район     \n",
    "def edit2(row):\n",
    "    if re.search('\\w+ Московской Кольцевой Автодороги', row):\n",
    "        number = re.findall('^[0-9]+-\\w+',row)\n",
    "        return 'МКАД, ' + number[0]\n",
    "    else:\n",
    "        row = row.split(' ')\n",
    "        for element in row:\n",
    "            if element in street_dict:\n",
    "                row.remove(element)\n",
    "        full_data = ' '.join(row)\n",
    "        return full_data"
   ]
  },
  {
   "cell_type": "code",
   "execution_count": 48,
   "metadata": {},
   "outputs": [],
   "source": [
    "df['type_street'] = df.apply(edit1, axis=1)\n",
    "df['street'] = df['street'].apply(edit2)"
   ]
  },
  {
   "cell_type": "code",
   "execution_count": 49,
   "metadata": {},
   "outputs": [],
   "source": [
    "df['area'] = 'no_info'"
   ]
  },
  {
   "cell_type": "code",
   "execution_count": 50,
   "metadata": {},
   "outputs": [],
   "source": [
    "#функция, чтобы найти не Московские адреса и проставить их в area\n",
    "def clean(row):\n",
    "    row['street'] = row['street'].split(' ')\n",
    "    for i in row['street']:\n",
    "        if i in lst_vil:\n",
    "            row['street'].remove(i)\n",
    "            new_row = ' '.join(row['street'])\n",
    "            return new_row\n",
    "        else:\n",
    "            return 'Москва'"
   ]
  },
  {
   "cell_type": "code",
   "execution_count": 51,
   "metadata": {},
   "outputs": [],
   "source": [
    "lst_vil = ['город', 'поселение', 'посёлок', 'поселок', 'деревня']"
   ]
  },
  {
   "cell_type": "code",
   "execution_count": 52,
   "metadata": {},
   "outputs": [],
   "source": [
    "df['area'] = df.apply(clean, axis=1)"
   ]
  },
  {
   "cell_type": "markdown",
   "metadata": {},
   "source": [
    "Чтобы меньше было ручного составления словаря на улицах и дубликатов, которых нет во внешнем источнике, я заменю букву ё на букву е в обоих таблицах."
   ]
  },
  {
   "cell_type": "code",
   "execution_count": 53,
   "metadata": {},
   "outputs": [],
   "source": [
    "area['Наименование'] = area['Наименование'].apply(lambda x: re.sub('ё', 'е', x))\n",
    "df['street'] = df['street'].apply(lambda x: re.sub('ё', 'е', x))"
   ]
  },
  {
   "cell_type": "code",
   "execution_count": 54,
   "metadata": {},
   "outputs": [],
   "source": [
    "df = df.merge(area[['Наименование', 'Тип', 'Район']], left_on=['street', 'type_street'], \\\n",
    "              right_on=['Наименование', 'Тип'], how='left', copy=False)"
   ]
  },
  {
   "cell_type": "code",
   "execution_count": 55,
   "metadata": {},
   "outputs": [],
   "source": [
    "#удаляю дубликаты после слияния фреймов, лишние колонки и меняю наименование колонок\n",
    "df = df.drop_duplicates(subset='id').reset_index(drop=True)\n",
    "df = df.drop(['Наименование', 'Тип'], axis=1)\n",
    "df.columns = ['id', 'object_name', 'chain', 'object_type', 'address', 'number', 'street', 'type_street', 'area', 'region_msk']\n",
    "\n",
    "#заполняю пропуски\n",
    "df['type_street'] = df['type_street'].fillna('not_msk')"
   ]
  },
  {
   "cell_type": "markdown",
   "metadata": {},
   "source": [
    "Остались районы, которых не было в моем источнике из таблицы area. Решу этот вопрос вручную. Найду улицы, составлю словарь и заполню пропуски."
   ]
  },
  {
   "cell_type": "code",
   "execution_count": 56,
   "metadata": {},
   "outputs": [
    {
     "data": {
      "text/plain": [
       "array(['8 Марта', '1-я Тверская-Ямская',\n",
       "       '1-я Хорошевского Серебряного Бора', 'Защитников Москвы',\n",
       "       'Мичуринский Проспект', '2-я Сокольническая', 'Героев-Панфиловцев',\n",
       "       'проектируемый № 1980', 'Нижняя Радищевская',\n",
       "       '2-й Сельскохозяйственный', '3-я Черепковская', '9 Мая',\n",
       "       '1-й Перова Поля', 'Ленинские Горы', '4-я 8 Марта',\n",
       "       'Большой Староданиловский', 'Бесединское',\n",
       "       'Нижняя Сыромятническая', 'Нижний Таганский', 'Нижний Сусальный',\n",
       "       'Высоцкого', 'Проектируемый N 5231', 'проектируемый № 4062',\n",
       "       'Хабарова', '42-й Калужского', 'Большой Симоновский',\n",
       "       'Академика Ландау', 'Волжский Бульвар 113а', 'Корабельная',\n",
       "       'Новорижское'], dtype=object)"
      ]
     },
     "execution_count": 56,
     "metadata": {},
     "output_type": "execute_result"
    }
   ],
   "source": [
    "df[(df['area'] == 'Москва') & (df['region_msk'].isna() == True)]['street'].unique()"
   ]
  },
  {
   "cell_type": "code",
   "execution_count": 57,
   "metadata": {},
   "outputs": [],
   "source": [
    "dict_lost = {'1-я Тверская-Ямская': 'Тверской район', \n",
    "             '1-я Хорошевского Серебряного Бора': 'район Хорошево-Мневники', \n",
    "             'Защитников Москвы': 'район Некрасовка',\n",
    "             'Мичуринский Проспект': 'район Тропарево-Никулино',\n",
    "             '2-я Сокольническая': 'район Сокольники',\n",
    "             'Героев-Панфиловцев': 'район Северное Тушино',\n",
    "             'проектируемый № 1980': 'район Очаково-Матвеевское',\n",
    "             'Нижняя Радищевская': 'Таганский район',\n",
    "             '2-й Сельскохозяйственный': 'район Ростокино',\n",
    "             '3-я Черепковская': 'район Кунцево',\n",
    "             '1-й Перова Поля': 'район Перово',\n",
    "             'Ленинские Горы': 'район Раменки',\n",
    "             '4-я 8 Марта': 'район Аэропорт',\n",
    "             'Большой Староданиловский': 'Даниловский район',\n",
    "             'Бесединское': 'район Братеево',\n",
    "             'Нижняя Сыромятническая': 'Басманный район',\n",
    "             'Нижний Таганский': 'Таганский район',\n",
    "             'Нижний Сусальный': 'Басманный район',\n",
    "             'Высоцкого': 'Таганский район',\n",
    "             'Проектируемый N 5231': 'район Очаково-Матвеевское',\n",
    "             'проектируемый № 4062': 'район Нагатинский затон',\n",
    "             'Жигулёвская': 'район Кузьминки',\n",
    "             'Большой Симоновский': 'Таганский район',\n",
    "             'Академика Ландау': 'Северный район',\n",
    "             'Волжский Бульвар 113а': 'район Кузьминки',\n",
    "             'Корабельная': 'район Нагатинский затон',\n",
    "             'Новорижское': 'Тимирязевский район',\n",
    "             '9 Мая': 'Восточный район',\n",
    "             '8 Марта': 'Савеловский район'\n",
    "    \n",
    "}"
   ]
  },
  {
   "cell_type": "code",
   "execution_count": 58,
   "metadata": {},
   "outputs": [],
   "source": [
    "def fill_lost(row):\n",
    "    if row['street'] in dict_lost:\n",
    "        return dict_lost.get(row['street'])\n",
    "    else:\n",
    "        return row['region_msk']"
   ]
  },
  {
   "cell_type": "code",
   "execution_count": 59,
   "metadata": {},
   "outputs": [],
   "source": [
    "df['region_msk'] = df.apply(fill_lost, axis=1)"
   ]
  },
  {
   "cell_type": "code",
   "execution_count": 60,
   "metadata": {},
   "outputs": [],
   "source": [
    "#эти два адреса выпадают из моей схемы определения улицы и района, поэтому заполню руками правильные значения в них\n",
    "df.loc[8865, ['area', 'street']] = 'Московский'\n",
    "df.loc[9186, ['area', 'street']] = 'Троицк'"
   ]
  },
  {
   "cell_type": "code",
   "execution_count": 61,
   "metadata": {},
   "outputs": [],
   "source": [
    "#заполняю окончательно пропуски\n",
    "df['region_msk'] = df['region_msk'].fillna('not_msk')"
   ]
  },
  {
   "cell_type": "code",
   "execution_count": 62,
   "metadata": {},
   "outputs": [
    {
     "name": "stdout",
     "output_type": "stream",
     "text": [
      "<class 'pandas.core.frame.DataFrame'>\n",
      "RangeIndex: 15284 entries, 0 to 15283\n",
      "Data columns (total 10 columns):\n",
      " #   Column       Non-Null Count  Dtype \n",
      "---  ------       --------------  ----- \n",
      " 0   id           15284 non-null  int64 \n",
      " 1   object_name  15284 non-null  object\n",
      " 2   chain        15284 non-null  object\n",
      " 3   object_type  15284 non-null  object\n",
      " 4   address      15284 non-null  object\n",
      " 5   number       15284 non-null  int64 \n",
      " 6   street       15284 non-null  object\n",
      " 7   type_street  15284 non-null  object\n",
      " 8   area         15284 non-null  object\n",
      " 9   region_msk   15284 non-null  object\n",
      "dtypes: int64(2), object(8)\n",
      "memory usage: 1.2+ MB\n"
     ]
    }
   ],
   "source": [
    "df.info()"
   ]
  },
  {
   "cell_type": "markdown",
   "metadata": {},
   "source": [
    "Все колонки заполнены. В результате всех моих преобразований получилось много новых колонок. Пояснение:\n",
    "- **street**: название улицы, которое я подвела под шаблон таблицы area, чтобы сделать merge \n",
    "- **type_street**: пояснение что это \"улица\" или \"бульвар\". Нужно, чтобы сопоставить название с типом и правильно определить район из таблицы area\n",
    "- **area**: выделила чисто Москву и всяческие поселения и деревни, которые входят в нее. Хочу сделать сравнение, где больше заведений         \n",
    "- **region_msk**: колонка, где прописан районы Москвы. Если это поселение или другая административная единица Москвы, то идет пояснение not_msk    "
   ]
  },
  {
   "cell_type": "markdown",
   "metadata": {},
   "source": [
    "### Графики и выводы по географии расположения заведений <a id='step2.2.2'></a>"
   ]
  },
  {
   "cell_type": "markdown",
   "metadata": {},
   "source": [
    "Так как у меня получилось выжделить Москву и пригороды отдельно, то я хочу вывести ТОП-10 улиц по количеству по Москве и по регионам отдельно. Все таки это разные масштабы. В Москве много туристов, тогда как в пригородах их меньше, следовательно меньше аудитория заведений."
   ]
  },
  {
   "cell_type": "code",
   "execution_count": 63,
   "metadata": {
    "scrolled": false
   },
   "outputs": [
    {
     "data": {
      "application/vnd.plotly.v1+json": {
       "config": {
        "plotlyServerURL": "https://plot.ly"
       },
       "data": [
        {
         "alignmentgroup": "True",
         "hovertemplate": "улицы=%{x}<br>количество заведений, шт.=%{text}<extra></extra>",
         "legendgroup": "",
         "marker": {
          "color": "#636efa"
         },
         "name": "",
         "offsetgroup": "",
         "orientation": "v",
         "showlegend": false,
         "text": [
          204,
          182,
          172,
          167,
          162,
          148,
          128,
          114,
          111,
          108
         ],
         "textposition": "auto",
         "type": "bar",
         "x": [
          "Мира",
          "Профсоюзная",
          "Ленинградский",
          "Пресненская",
          "Варшавское",
          "Ленинский",
          "Вернадского",
          "Кутузовский",
          "Каширское",
          "Кировоградская"
         ],
         "xaxis": "x",
         "y": [
          204,
          182,
          172,
          167,
          162,
          148,
          128,
          114,
          111,
          108
         ],
         "yaxis": "y"
        }
       ],
       "layout": {
        "barmode": "relative",
        "legend": {
         "tracegroupgap": 0
        },
        "margin": {
         "t": 60
        },
        "template": {
         "data": {
          "bar": [
           {
            "error_x": {
             "color": "#2a3f5f"
            },
            "error_y": {
             "color": "#2a3f5f"
            },
            "marker": {
             "line": {
              "color": "#E5ECF6",
              "width": 0.5
             }
            },
            "type": "bar"
           }
          ],
          "barpolar": [
           {
            "marker": {
             "line": {
              "color": "#E5ECF6",
              "width": 0.5
             }
            },
            "type": "barpolar"
           }
          ],
          "carpet": [
           {
            "aaxis": {
             "endlinecolor": "#2a3f5f",
             "gridcolor": "white",
             "linecolor": "white",
             "minorgridcolor": "white",
             "startlinecolor": "#2a3f5f"
            },
            "baxis": {
             "endlinecolor": "#2a3f5f",
             "gridcolor": "white",
             "linecolor": "white",
             "minorgridcolor": "white",
             "startlinecolor": "#2a3f5f"
            },
            "type": "carpet"
           }
          ],
          "choropleth": [
           {
            "colorbar": {
             "outlinewidth": 0,
             "ticks": ""
            },
            "type": "choropleth"
           }
          ],
          "contour": [
           {
            "colorbar": {
             "outlinewidth": 0,
             "ticks": ""
            },
            "colorscale": [
             [
              0,
              "#0d0887"
             ],
             [
              0.1111111111111111,
              "#46039f"
             ],
             [
              0.2222222222222222,
              "#7201a8"
             ],
             [
              0.3333333333333333,
              "#9c179e"
             ],
             [
              0.4444444444444444,
              "#bd3786"
             ],
             [
              0.5555555555555556,
              "#d8576b"
             ],
             [
              0.6666666666666666,
              "#ed7953"
             ],
             [
              0.7777777777777778,
              "#fb9f3a"
             ],
             [
              0.8888888888888888,
              "#fdca26"
             ],
             [
              1,
              "#f0f921"
             ]
            ],
            "type": "contour"
           }
          ],
          "contourcarpet": [
           {
            "colorbar": {
             "outlinewidth": 0,
             "ticks": ""
            },
            "type": "contourcarpet"
           }
          ],
          "heatmap": [
           {
            "colorbar": {
             "outlinewidth": 0,
             "ticks": ""
            },
            "colorscale": [
             [
              0,
              "#0d0887"
             ],
             [
              0.1111111111111111,
              "#46039f"
             ],
             [
              0.2222222222222222,
              "#7201a8"
             ],
             [
              0.3333333333333333,
              "#9c179e"
             ],
             [
              0.4444444444444444,
              "#bd3786"
             ],
             [
              0.5555555555555556,
              "#d8576b"
             ],
             [
              0.6666666666666666,
              "#ed7953"
             ],
             [
              0.7777777777777778,
              "#fb9f3a"
             ],
             [
              0.8888888888888888,
              "#fdca26"
             ],
             [
              1,
              "#f0f921"
             ]
            ],
            "type": "heatmap"
           }
          ],
          "heatmapgl": [
           {
            "colorbar": {
             "outlinewidth": 0,
             "ticks": ""
            },
            "colorscale": [
             [
              0,
              "#0d0887"
             ],
             [
              0.1111111111111111,
              "#46039f"
             ],
             [
              0.2222222222222222,
              "#7201a8"
             ],
             [
              0.3333333333333333,
              "#9c179e"
             ],
             [
              0.4444444444444444,
              "#bd3786"
             ],
             [
              0.5555555555555556,
              "#d8576b"
             ],
             [
              0.6666666666666666,
              "#ed7953"
             ],
             [
              0.7777777777777778,
              "#fb9f3a"
             ],
             [
              0.8888888888888888,
              "#fdca26"
             ],
             [
              1,
              "#f0f921"
             ]
            ],
            "type": "heatmapgl"
           }
          ],
          "histogram": [
           {
            "marker": {
             "colorbar": {
              "outlinewidth": 0,
              "ticks": ""
             }
            },
            "type": "histogram"
           }
          ],
          "histogram2d": [
           {
            "colorbar": {
             "outlinewidth": 0,
             "ticks": ""
            },
            "colorscale": [
             [
              0,
              "#0d0887"
             ],
             [
              0.1111111111111111,
              "#46039f"
             ],
             [
              0.2222222222222222,
              "#7201a8"
             ],
             [
              0.3333333333333333,
              "#9c179e"
             ],
             [
              0.4444444444444444,
              "#bd3786"
             ],
             [
              0.5555555555555556,
              "#d8576b"
             ],
             [
              0.6666666666666666,
              "#ed7953"
             ],
             [
              0.7777777777777778,
              "#fb9f3a"
             ],
             [
              0.8888888888888888,
              "#fdca26"
             ],
             [
              1,
              "#f0f921"
             ]
            ],
            "type": "histogram2d"
           }
          ],
          "histogram2dcontour": [
           {
            "colorbar": {
             "outlinewidth": 0,
             "ticks": ""
            },
            "colorscale": [
             [
              0,
              "#0d0887"
             ],
             [
              0.1111111111111111,
              "#46039f"
             ],
             [
              0.2222222222222222,
              "#7201a8"
             ],
             [
              0.3333333333333333,
              "#9c179e"
             ],
             [
              0.4444444444444444,
              "#bd3786"
             ],
             [
              0.5555555555555556,
              "#d8576b"
             ],
             [
              0.6666666666666666,
              "#ed7953"
             ],
             [
              0.7777777777777778,
              "#fb9f3a"
             ],
             [
              0.8888888888888888,
              "#fdca26"
             ],
             [
              1,
              "#f0f921"
             ]
            ],
            "type": "histogram2dcontour"
           }
          ],
          "mesh3d": [
           {
            "colorbar": {
             "outlinewidth": 0,
             "ticks": ""
            },
            "type": "mesh3d"
           }
          ],
          "parcoords": [
           {
            "line": {
             "colorbar": {
              "outlinewidth": 0,
              "ticks": ""
             }
            },
            "type": "parcoords"
           }
          ],
          "pie": [
           {
            "automargin": true,
            "type": "pie"
           }
          ],
          "scatter": [
           {
            "marker": {
             "colorbar": {
              "outlinewidth": 0,
              "ticks": ""
             }
            },
            "type": "scatter"
           }
          ],
          "scatter3d": [
           {
            "line": {
             "colorbar": {
              "outlinewidth": 0,
              "ticks": ""
             }
            },
            "marker": {
             "colorbar": {
              "outlinewidth": 0,
              "ticks": ""
             }
            },
            "type": "scatter3d"
           }
          ],
          "scattercarpet": [
           {
            "marker": {
             "colorbar": {
              "outlinewidth": 0,
              "ticks": ""
             }
            },
            "type": "scattercarpet"
           }
          ],
          "scattergeo": [
           {
            "marker": {
             "colorbar": {
              "outlinewidth": 0,
              "ticks": ""
             }
            },
            "type": "scattergeo"
           }
          ],
          "scattergl": [
           {
            "marker": {
             "colorbar": {
              "outlinewidth": 0,
              "ticks": ""
             }
            },
            "type": "scattergl"
           }
          ],
          "scattermapbox": [
           {
            "marker": {
             "colorbar": {
              "outlinewidth": 0,
              "ticks": ""
             }
            },
            "type": "scattermapbox"
           }
          ],
          "scatterpolar": [
           {
            "marker": {
             "colorbar": {
              "outlinewidth": 0,
              "ticks": ""
             }
            },
            "type": "scatterpolar"
           }
          ],
          "scatterpolargl": [
           {
            "marker": {
             "colorbar": {
              "outlinewidth": 0,
              "ticks": ""
             }
            },
            "type": "scatterpolargl"
           }
          ],
          "scatterternary": [
           {
            "marker": {
             "colorbar": {
              "outlinewidth": 0,
              "ticks": ""
             }
            },
            "type": "scatterternary"
           }
          ],
          "surface": [
           {
            "colorbar": {
             "outlinewidth": 0,
             "ticks": ""
            },
            "colorscale": [
             [
              0,
              "#0d0887"
             ],
             [
              0.1111111111111111,
              "#46039f"
             ],
             [
              0.2222222222222222,
              "#7201a8"
             ],
             [
              0.3333333333333333,
              "#9c179e"
             ],
             [
              0.4444444444444444,
              "#bd3786"
             ],
             [
              0.5555555555555556,
              "#d8576b"
             ],
             [
              0.6666666666666666,
              "#ed7953"
             ],
             [
              0.7777777777777778,
              "#fb9f3a"
             ],
             [
              0.8888888888888888,
              "#fdca26"
             ],
             [
              1,
              "#f0f921"
             ]
            ],
            "type": "surface"
           }
          ],
          "table": [
           {
            "cells": {
             "fill": {
              "color": "#EBF0F8"
             },
             "line": {
              "color": "white"
             }
            },
            "header": {
             "fill": {
              "color": "#C8D4E3"
             },
             "line": {
              "color": "white"
             }
            },
            "type": "table"
           }
          ]
         },
         "layout": {
          "annotationdefaults": {
           "arrowcolor": "#2a3f5f",
           "arrowhead": 0,
           "arrowwidth": 1
          },
          "coloraxis": {
           "colorbar": {
            "outlinewidth": 0,
            "ticks": ""
           }
          },
          "colorscale": {
           "diverging": [
            [
             0,
             "#8e0152"
            ],
            [
             0.1,
             "#c51b7d"
            ],
            [
             0.2,
             "#de77ae"
            ],
            [
             0.3,
             "#f1b6da"
            ],
            [
             0.4,
             "#fde0ef"
            ],
            [
             0.5,
             "#f7f7f7"
            ],
            [
             0.6,
             "#e6f5d0"
            ],
            [
             0.7,
             "#b8e186"
            ],
            [
             0.8,
             "#7fbc41"
            ],
            [
             0.9,
             "#4d9221"
            ],
            [
             1,
             "#276419"
            ]
           ],
           "sequential": [
            [
             0,
             "#0d0887"
            ],
            [
             0.1111111111111111,
             "#46039f"
            ],
            [
             0.2222222222222222,
             "#7201a8"
            ],
            [
             0.3333333333333333,
             "#9c179e"
            ],
            [
             0.4444444444444444,
             "#bd3786"
            ],
            [
             0.5555555555555556,
             "#d8576b"
            ],
            [
             0.6666666666666666,
             "#ed7953"
            ],
            [
             0.7777777777777778,
             "#fb9f3a"
            ],
            [
             0.8888888888888888,
             "#fdca26"
            ],
            [
             1,
             "#f0f921"
            ]
           ],
           "sequentialminus": [
            [
             0,
             "#0d0887"
            ],
            [
             0.1111111111111111,
             "#46039f"
            ],
            [
             0.2222222222222222,
             "#7201a8"
            ],
            [
             0.3333333333333333,
             "#9c179e"
            ],
            [
             0.4444444444444444,
             "#bd3786"
            ],
            [
             0.5555555555555556,
             "#d8576b"
            ],
            [
             0.6666666666666666,
             "#ed7953"
            ],
            [
             0.7777777777777778,
             "#fb9f3a"
            ],
            [
             0.8888888888888888,
             "#fdca26"
            ],
            [
             1,
             "#f0f921"
            ]
           ]
          },
          "colorway": [
           "#636efa",
           "#EF553B",
           "#00cc96",
           "#ab63fa",
           "#FFA15A",
           "#19d3f3",
           "#FF6692",
           "#B6E880",
           "#FF97FF",
           "#FECB52"
          ],
          "font": {
           "color": "#2a3f5f"
          },
          "geo": {
           "bgcolor": "white",
           "lakecolor": "white",
           "landcolor": "#E5ECF6",
           "showlakes": true,
           "showland": true,
           "subunitcolor": "white"
          },
          "hoverlabel": {
           "align": "left"
          },
          "hovermode": "closest",
          "mapbox": {
           "style": "light"
          },
          "paper_bgcolor": "white",
          "plot_bgcolor": "#E5ECF6",
          "polar": {
           "angularaxis": {
            "gridcolor": "white",
            "linecolor": "white",
            "ticks": ""
           },
           "bgcolor": "#E5ECF6",
           "radialaxis": {
            "gridcolor": "white",
            "linecolor": "white",
            "ticks": ""
           }
          },
          "scene": {
           "xaxis": {
            "backgroundcolor": "#E5ECF6",
            "gridcolor": "white",
            "gridwidth": 2,
            "linecolor": "white",
            "showbackground": true,
            "ticks": "",
            "zerolinecolor": "white"
           },
           "yaxis": {
            "backgroundcolor": "#E5ECF6",
            "gridcolor": "white",
            "gridwidth": 2,
            "linecolor": "white",
            "showbackground": true,
            "ticks": "",
            "zerolinecolor": "white"
           },
           "zaxis": {
            "backgroundcolor": "#E5ECF6",
            "gridcolor": "white",
            "gridwidth": 2,
            "linecolor": "white",
            "showbackground": true,
            "ticks": "",
            "zerolinecolor": "white"
           }
          },
          "shapedefaults": {
           "line": {
            "color": "#2a3f5f"
           }
          },
          "ternary": {
           "aaxis": {
            "gridcolor": "white",
            "linecolor": "white",
            "ticks": ""
           },
           "baxis": {
            "gridcolor": "white",
            "linecolor": "white",
            "ticks": ""
           },
           "bgcolor": "#E5ECF6",
           "caxis": {
            "gridcolor": "white",
            "linecolor": "white",
            "ticks": ""
           }
          },
          "title": {
           "x": 0.05
          },
          "xaxis": {
           "automargin": true,
           "gridcolor": "white",
           "linecolor": "white",
           "ticks": "",
           "title": {
            "standoff": 15
           },
           "zerolinecolor": "white",
           "zerolinewidth": 2
          },
          "yaxis": {
           "automargin": true,
           "gridcolor": "white",
           "linecolor": "white",
           "ticks": "",
           "title": {
            "standoff": 15
           },
           "zerolinecolor": "white",
           "zerolinewidth": 2
          }
         }
        },
        "title": {
         "text": "ТОП-10 улиц по количеству заведений в Москве"
        },
        "xaxis": {
         "anchor": "y",
         "domain": [
          0,
          1
         ],
         "title": {
          "text": "улицы"
         }
        },
        "yaxis": {
         "anchor": "x",
         "domain": [
          0,
          1
         ],
         "title": {
          "text": "количество заведений, шт."
         }
        }
       }
      },
      "text/html": [
       "<div>\n",
       "        \n",
       "        \n",
       "            <div id=\"2cb7984b-ca72-4fc8-b385-1abddc324241\" class=\"plotly-graph-div\" style=\"height:525px; width:100%;\"></div>\n",
       "            <script type=\"text/javascript\">\n",
       "                require([\"plotly\"], function(Plotly) {\n",
       "                    window.PLOTLYENV=window.PLOTLYENV || {};\n",
       "                    \n",
       "                if (document.getElementById(\"2cb7984b-ca72-4fc8-b385-1abddc324241\")) {\n",
       "                    Plotly.newPlot(\n",
       "                        '2cb7984b-ca72-4fc8-b385-1abddc324241',\n",
       "                        [{\"alignmentgroup\": \"True\", \"hovertemplate\": \"\\u0443\\u043b\\u0438\\u0446\\u044b=%{x}<br>\\u043a\\u043e\\u043b\\u0438\\u0447\\u0435\\u0441\\u0442\\u0432\\u043e \\u0437\\u0430\\u0432\\u0435\\u0434\\u0435\\u043d\\u0438\\u0439, \\u0448\\u0442.=%{text}<extra></extra>\", \"legendgroup\": \"\", \"marker\": {\"color\": \"#636efa\"}, \"name\": \"\", \"offsetgroup\": \"\", \"orientation\": \"v\", \"showlegend\": false, \"text\": [204.0, 182.0, 172.0, 167.0, 162.0, 148.0, 128.0, 114.0, 111.0, 108.0], \"textposition\": \"auto\", \"type\": \"bar\", \"x\": [\"\\u041c\\u0438\\u0440\\u0430\", \"\\u041f\\u0440\\u043e\\u0444\\u0441\\u043e\\u044e\\u0437\\u043d\\u0430\\u044f\", \"\\u041b\\u0435\\u043d\\u0438\\u043d\\u0433\\u0440\\u0430\\u0434\\u0441\\u043a\\u0438\\u0439\", \"\\u041f\\u0440\\u0435\\u0441\\u043d\\u0435\\u043d\\u0441\\u043a\\u0430\\u044f\", \"\\u0412\\u0430\\u0440\\u0448\\u0430\\u0432\\u0441\\u043a\\u043e\\u0435\", \"\\u041b\\u0435\\u043d\\u0438\\u043d\\u0441\\u043a\\u0438\\u0439\", \"\\u0412\\u0435\\u0440\\u043d\\u0430\\u0434\\u0441\\u043a\\u043e\\u0433\\u043e\", \"\\u041a\\u0443\\u0442\\u0443\\u0437\\u043e\\u0432\\u0441\\u043a\\u0438\\u0439\", \"\\u041a\\u0430\\u0448\\u0438\\u0440\\u0441\\u043a\\u043e\\u0435\", \"\\u041a\\u0438\\u0440\\u043e\\u0432\\u043e\\u0433\\u0440\\u0430\\u0434\\u0441\\u043a\\u0430\\u044f\"], \"xaxis\": \"x\", \"y\": [204, 182, 172, 167, 162, 148, 128, 114, 111, 108], \"yaxis\": \"y\"}],\n",
       "                        {\"barmode\": \"relative\", \"legend\": {\"tracegroupgap\": 0}, \"margin\": {\"t\": 60}, \"template\": {\"data\": {\"bar\": [{\"error_x\": {\"color\": \"#2a3f5f\"}, \"error_y\": {\"color\": \"#2a3f5f\"}, \"marker\": {\"line\": {\"color\": \"#E5ECF6\", \"width\": 0.5}}, \"type\": \"bar\"}], \"barpolar\": [{\"marker\": {\"line\": {\"color\": \"#E5ECF6\", \"width\": 0.5}}, \"type\": \"barpolar\"}], \"carpet\": [{\"aaxis\": {\"endlinecolor\": \"#2a3f5f\", \"gridcolor\": \"white\", \"linecolor\": \"white\", \"minorgridcolor\": \"white\", \"startlinecolor\": \"#2a3f5f\"}, \"baxis\": {\"endlinecolor\": \"#2a3f5f\", \"gridcolor\": \"white\", \"linecolor\": \"white\", \"minorgridcolor\": \"white\", \"startlinecolor\": \"#2a3f5f\"}, \"type\": \"carpet\"}], \"choropleth\": [{\"colorbar\": {\"outlinewidth\": 0, \"ticks\": \"\"}, \"type\": \"choropleth\"}], \"contour\": [{\"colorbar\": {\"outlinewidth\": 0, \"ticks\": \"\"}, \"colorscale\": [[0.0, \"#0d0887\"], [0.1111111111111111, \"#46039f\"], [0.2222222222222222, \"#7201a8\"], [0.3333333333333333, \"#9c179e\"], [0.4444444444444444, \"#bd3786\"], [0.5555555555555556, \"#d8576b\"], [0.6666666666666666, \"#ed7953\"], [0.7777777777777778, \"#fb9f3a\"], [0.8888888888888888, \"#fdca26\"], [1.0, \"#f0f921\"]], \"type\": \"contour\"}], \"contourcarpet\": [{\"colorbar\": {\"outlinewidth\": 0, \"ticks\": \"\"}, \"type\": \"contourcarpet\"}], \"heatmap\": [{\"colorbar\": {\"outlinewidth\": 0, \"ticks\": \"\"}, \"colorscale\": [[0.0, \"#0d0887\"], [0.1111111111111111, \"#46039f\"], [0.2222222222222222, \"#7201a8\"], [0.3333333333333333, \"#9c179e\"], [0.4444444444444444, \"#bd3786\"], [0.5555555555555556, \"#d8576b\"], [0.6666666666666666, \"#ed7953\"], [0.7777777777777778, \"#fb9f3a\"], [0.8888888888888888, \"#fdca26\"], [1.0, \"#f0f921\"]], \"type\": \"heatmap\"}], \"heatmapgl\": [{\"colorbar\": {\"outlinewidth\": 0, \"ticks\": \"\"}, \"colorscale\": [[0.0, \"#0d0887\"], [0.1111111111111111, \"#46039f\"], [0.2222222222222222, \"#7201a8\"], [0.3333333333333333, \"#9c179e\"], [0.4444444444444444, \"#bd3786\"], [0.5555555555555556, \"#d8576b\"], [0.6666666666666666, \"#ed7953\"], [0.7777777777777778, \"#fb9f3a\"], [0.8888888888888888, \"#fdca26\"], [1.0, \"#f0f921\"]], \"type\": \"heatmapgl\"}], \"histogram\": [{\"marker\": {\"colorbar\": {\"outlinewidth\": 0, \"ticks\": \"\"}}, \"type\": \"histogram\"}], \"histogram2d\": [{\"colorbar\": {\"outlinewidth\": 0, \"ticks\": \"\"}, \"colorscale\": [[0.0, \"#0d0887\"], [0.1111111111111111, \"#46039f\"], [0.2222222222222222, \"#7201a8\"], [0.3333333333333333, \"#9c179e\"], [0.4444444444444444, \"#bd3786\"], [0.5555555555555556, \"#d8576b\"], [0.6666666666666666, \"#ed7953\"], [0.7777777777777778, \"#fb9f3a\"], [0.8888888888888888, \"#fdca26\"], [1.0, \"#f0f921\"]], \"type\": \"histogram2d\"}], \"histogram2dcontour\": [{\"colorbar\": {\"outlinewidth\": 0, \"ticks\": \"\"}, \"colorscale\": [[0.0, \"#0d0887\"], [0.1111111111111111, \"#46039f\"], [0.2222222222222222, \"#7201a8\"], [0.3333333333333333, \"#9c179e\"], [0.4444444444444444, \"#bd3786\"], [0.5555555555555556, \"#d8576b\"], [0.6666666666666666, \"#ed7953\"], [0.7777777777777778, \"#fb9f3a\"], [0.8888888888888888, \"#fdca26\"], [1.0, \"#f0f921\"]], \"type\": \"histogram2dcontour\"}], \"mesh3d\": [{\"colorbar\": {\"outlinewidth\": 0, \"ticks\": \"\"}, \"type\": \"mesh3d\"}], \"parcoords\": [{\"line\": {\"colorbar\": {\"outlinewidth\": 0, \"ticks\": \"\"}}, \"type\": \"parcoords\"}], \"pie\": [{\"automargin\": true, \"type\": \"pie\"}], \"scatter\": [{\"marker\": {\"colorbar\": {\"outlinewidth\": 0, \"ticks\": \"\"}}, \"type\": \"scatter\"}], \"scatter3d\": [{\"line\": {\"colorbar\": {\"outlinewidth\": 0, \"ticks\": \"\"}}, \"marker\": {\"colorbar\": {\"outlinewidth\": 0, \"ticks\": \"\"}}, \"type\": \"scatter3d\"}], \"scattercarpet\": [{\"marker\": {\"colorbar\": {\"outlinewidth\": 0, \"ticks\": \"\"}}, \"type\": \"scattercarpet\"}], \"scattergeo\": [{\"marker\": {\"colorbar\": {\"outlinewidth\": 0, \"ticks\": \"\"}}, \"type\": \"scattergeo\"}], \"scattergl\": [{\"marker\": {\"colorbar\": {\"outlinewidth\": 0, \"ticks\": \"\"}}, \"type\": \"scattergl\"}], \"scattermapbox\": [{\"marker\": {\"colorbar\": {\"outlinewidth\": 0, \"ticks\": \"\"}}, \"type\": \"scattermapbox\"}], \"scatterpolar\": [{\"marker\": {\"colorbar\": {\"outlinewidth\": 0, \"ticks\": \"\"}}, \"type\": \"scatterpolar\"}], \"scatterpolargl\": [{\"marker\": {\"colorbar\": {\"outlinewidth\": 0, \"ticks\": \"\"}}, \"type\": \"scatterpolargl\"}], \"scatterternary\": [{\"marker\": {\"colorbar\": {\"outlinewidth\": 0, \"ticks\": \"\"}}, \"type\": \"scatterternary\"}], \"surface\": [{\"colorbar\": {\"outlinewidth\": 0, \"ticks\": \"\"}, \"colorscale\": [[0.0, \"#0d0887\"], [0.1111111111111111, \"#46039f\"], [0.2222222222222222, \"#7201a8\"], [0.3333333333333333, \"#9c179e\"], [0.4444444444444444, \"#bd3786\"], [0.5555555555555556, \"#d8576b\"], [0.6666666666666666, \"#ed7953\"], [0.7777777777777778, \"#fb9f3a\"], [0.8888888888888888, \"#fdca26\"], [1.0, \"#f0f921\"]], \"type\": \"surface\"}], \"table\": [{\"cells\": {\"fill\": {\"color\": \"#EBF0F8\"}, \"line\": {\"color\": \"white\"}}, \"header\": {\"fill\": {\"color\": \"#C8D4E3\"}, \"line\": {\"color\": \"white\"}}, \"type\": \"table\"}]}, \"layout\": {\"annotationdefaults\": {\"arrowcolor\": \"#2a3f5f\", \"arrowhead\": 0, \"arrowwidth\": 1}, \"coloraxis\": {\"colorbar\": {\"outlinewidth\": 0, \"ticks\": \"\"}}, \"colorscale\": {\"diverging\": [[0, \"#8e0152\"], [0.1, \"#c51b7d\"], [0.2, \"#de77ae\"], [0.3, \"#f1b6da\"], [0.4, \"#fde0ef\"], [0.5, \"#f7f7f7\"], [0.6, \"#e6f5d0\"], [0.7, \"#b8e186\"], [0.8, \"#7fbc41\"], [0.9, \"#4d9221\"], [1, \"#276419\"]], \"sequential\": [[0.0, \"#0d0887\"], [0.1111111111111111, \"#46039f\"], [0.2222222222222222, \"#7201a8\"], [0.3333333333333333, \"#9c179e\"], [0.4444444444444444, \"#bd3786\"], [0.5555555555555556, \"#d8576b\"], [0.6666666666666666, \"#ed7953\"], [0.7777777777777778, \"#fb9f3a\"], [0.8888888888888888, \"#fdca26\"], [1.0, \"#f0f921\"]], \"sequentialminus\": [[0.0, \"#0d0887\"], [0.1111111111111111, \"#46039f\"], [0.2222222222222222, \"#7201a8\"], [0.3333333333333333, \"#9c179e\"], [0.4444444444444444, \"#bd3786\"], [0.5555555555555556, \"#d8576b\"], [0.6666666666666666, \"#ed7953\"], [0.7777777777777778, \"#fb9f3a\"], [0.8888888888888888, \"#fdca26\"], [1.0, \"#f0f921\"]]}, \"colorway\": [\"#636efa\", \"#EF553B\", \"#00cc96\", \"#ab63fa\", \"#FFA15A\", \"#19d3f3\", \"#FF6692\", \"#B6E880\", \"#FF97FF\", \"#FECB52\"], \"font\": {\"color\": \"#2a3f5f\"}, \"geo\": {\"bgcolor\": \"white\", \"lakecolor\": \"white\", \"landcolor\": \"#E5ECF6\", \"showlakes\": true, \"showland\": true, \"subunitcolor\": \"white\"}, \"hoverlabel\": {\"align\": \"left\"}, \"hovermode\": \"closest\", \"mapbox\": {\"style\": \"light\"}, \"paper_bgcolor\": \"white\", \"plot_bgcolor\": \"#E5ECF6\", \"polar\": {\"angularaxis\": {\"gridcolor\": \"white\", \"linecolor\": \"white\", \"ticks\": \"\"}, \"bgcolor\": \"#E5ECF6\", \"radialaxis\": {\"gridcolor\": \"white\", \"linecolor\": \"white\", \"ticks\": \"\"}}, \"scene\": {\"xaxis\": {\"backgroundcolor\": \"#E5ECF6\", \"gridcolor\": \"white\", \"gridwidth\": 2, \"linecolor\": \"white\", \"showbackground\": true, \"ticks\": \"\", \"zerolinecolor\": \"white\"}, \"yaxis\": {\"backgroundcolor\": \"#E5ECF6\", \"gridcolor\": \"white\", \"gridwidth\": 2, \"linecolor\": \"white\", \"showbackground\": true, \"ticks\": \"\", \"zerolinecolor\": \"white\"}, \"zaxis\": {\"backgroundcolor\": \"#E5ECF6\", \"gridcolor\": \"white\", \"gridwidth\": 2, \"linecolor\": \"white\", \"showbackground\": true, \"ticks\": \"\", \"zerolinecolor\": \"white\"}}, \"shapedefaults\": {\"line\": {\"color\": \"#2a3f5f\"}}, \"ternary\": {\"aaxis\": {\"gridcolor\": \"white\", \"linecolor\": \"white\", \"ticks\": \"\"}, \"baxis\": {\"gridcolor\": \"white\", \"linecolor\": \"white\", \"ticks\": \"\"}, \"bgcolor\": \"#E5ECF6\", \"caxis\": {\"gridcolor\": \"white\", \"linecolor\": \"white\", \"ticks\": \"\"}}, \"title\": {\"x\": 0.05}, \"xaxis\": {\"automargin\": true, \"gridcolor\": \"white\", \"linecolor\": \"white\", \"ticks\": \"\", \"title\": {\"standoff\": 15}, \"zerolinecolor\": \"white\", \"zerolinewidth\": 2}, \"yaxis\": {\"automargin\": true, \"gridcolor\": \"white\", \"linecolor\": \"white\", \"ticks\": \"\", \"title\": {\"standoff\": 15}, \"zerolinecolor\": \"white\", \"zerolinewidth\": 2}}}, \"title\": {\"text\": \"\\u0422\\u041e\\u041f-10 \\u0443\\u043b\\u0438\\u0446 \\u043f\\u043e \\u043a\\u043e\\u043b\\u0438\\u0447\\u0435\\u0441\\u0442\\u0432\\u0443 \\u0437\\u0430\\u0432\\u0435\\u0434\\u0435\\u043d\\u0438\\u0439 \\u0432 \\u041c\\u043e\\u0441\\u043a\\u0432\\u0435\"}, \"xaxis\": {\"anchor\": \"y\", \"domain\": [0.0, 1.0], \"title\": {\"text\": \"\\u0443\\u043b\\u0438\\u0446\\u044b\"}}, \"yaxis\": {\"anchor\": \"x\", \"domain\": [0.0, 1.0], \"title\": {\"text\": \"\\u043a\\u043e\\u043b\\u0438\\u0447\\u0435\\u0441\\u0442\\u0432\\u043e \\u0437\\u0430\\u0432\\u0435\\u0434\\u0435\\u043d\\u0438\\u0439, \\u0448\\u0442.\"}}},\n",
       "                        {\"responsive\": true}\n",
       "                    ).then(function(){\n",
       "                            \n",
       "var gd = document.getElementById('2cb7984b-ca72-4fc8-b385-1abddc324241');\n",
       "var x = new MutationObserver(function (mutations, observer) {{\n",
       "        var display = window.getComputedStyle(gd).display;\n",
       "        if (!display || display === 'none') {{\n",
       "            console.log([gd, 'removed!']);\n",
       "            Plotly.purge(gd);\n",
       "            observer.disconnect();\n",
       "        }}\n",
       "}});\n",
       "\n",
       "// Listen for the removal of the full notebook cells\n",
       "var notebookContainer = gd.closest('#notebook-container');\n",
       "if (notebookContainer) {{\n",
       "    x.observe(notebookContainer, {childList: true});\n",
       "}}\n",
       "\n",
       "// Listen for the clearing of the current output cell\n",
       "var outputEl = gd.closest('.output');\n",
       "if (outputEl) {{\n",
       "    x.observe(outputEl, {childList: true});\n",
       "}}\n",
       "\n",
       "                        })\n",
       "                };\n",
       "                });\n",
       "            </script>\n",
       "        </div>"
      ]
     },
     "metadata": {},
     "output_type": "display_data"
    },
    {
     "data": {
      "text/html": [
       "<div>\n",
       "<style scoped>\n",
       "    .dataframe tbody tr th:only-of-type {\n",
       "        vertical-align: middle;\n",
       "    }\n",
       "\n",
       "    .dataframe tbody tr th {\n",
       "        vertical-align: top;\n",
       "    }\n",
       "\n",
       "    .dataframe thead th {\n",
       "        text-align: right;\n",
       "    }\n",
       "</style>\n",
       "<table border=\"1\" class=\"dataframe\">\n",
       "  <thead>\n",
       "    <tr style=\"text-align: right;\">\n",
       "      <th></th>\n",
       "      <th>street</th>\n",
       "      <th>type_street</th>\n",
       "      <th>id</th>\n",
       "      <th>region_msk</th>\n",
       "    </tr>\n",
       "  </thead>\n",
       "  <tbody>\n",
       "    <tr>\n",
       "      <th>1091</th>\n",
       "      <td>Мира</td>\n",
       "      <td>пр-кт</td>\n",
       "      <td>204</td>\n",
       "      <td>Алексеевский район</td>\n",
       "    </tr>\n",
       "    <tr>\n",
       "      <th>1377</th>\n",
       "      <td>Профсоюзная</td>\n",
       "      <td>ул</td>\n",
       "      <td>182</td>\n",
       "      <td>район Коньково</td>\n",
       "    </tr>\n",
       "    <tr>\n",
       "      <th>917</th>\n",
       "      <td>Ленинградский</td>\n",
       "      <td>пр-кт</td>\n",
       "      <td>172</td>\n",
       "      <td>Хорошевский район</td>\n",
       "    </tr>\n",
       "    <tr>\n",
       "      <th>1358</th>\n",
       "      <td>Пресненская</td>\n",
       "      <td>наб</td>\n",
       "      <td>167</td>\n",
       "      <td>Пресненский район</td>\n",
       "    </tr>\n",
       "    <tr>\n",
       "      <th>478</th>\n",
       "      <td>Варшавское</td>\n",
       "      <td>ш</td>\n",
       "      <td>162</td>\n",
       "      <td>район Чертаново Центральное</td>\n",
       "    </tr>\n",
       "    <tr>\n",
       "      <th>922</th>\n",
       "      <td>Ленинский</td>\n",
       "      <td>пр-кт</td>\n",
       "      <td>148</td>\n",
       "      <td>Ломоносовский район</td>\n",
       "    </tr>\n",
       "    <tr>\n",
       "      <th>494</th>\n",
       "      <td>Вернадского</td>\n",
       "      <td>пр-кт</td>\n",
       "      <td>128</td>\n",
       "      <td>Ломоносовский район</td>\n",
       "    </tr>\n",
       "    <tr>\n",
       "      <th>903</th>\n",
       "      <td>Кутузовский</td>\n",
       "      <td>пр-кт</td>\n",
       "      <td>114</td>\n",
       "      <td>район Дорогомилово</td>\n",
       "    </tr>\n",
       "    <tr>\n",
       "      <th>788</th>\n",
       "      <td>Каширское</td>\n",
       "      <td>ш</td>\n",
       "      <td>111</td>\n",
       "      <td>район Москворечье-Сабурово</td>\n",
       "    </tr>\n",
       "    <tr>\n",
       "      <th>796</th>\n",
       "      <td>Кировоградская</td>\n",
       "      <td>ул</td>\n",
       "      <td>108</td>\n",
       "      <td>район Чертаново Центральное</td>\n",
       "    </tr>\n",
       "  </tbody>\n",
       "</table>\n",
       "</div>"
      ],
      "text/plain": [
       "              street type_street   id                   region_msk\n",
       "1091            Мира       пр-кт  204           Алексеевский район\n",
       "1377     Профсоюзная          ул  182               район Коньково\n",
       "917    Ленинградский       пр-кт  172            Хорошевский район\n",
       "1358     Пресненская         наб  167            Пресненский район\n",
       "478       Варшавское           ш  162  район Чертаново Центральное\n",
       "922        Ленинский       пр-кт  148          Ломоносовский район\n",
       "494      Вернадского       пр-кт  128          Ломоносовский район\n",
       "903      Кутузовский       пр-кт  114           район Дорогомилово\n",
       "788        Каширское           ш  111   район Москворечье-Сабурово\n",
       "796   Кировоградская          ул  108  район Чертаново Центральное"
      ]
     },
     "execution_count": 63,
     "metadata": {},
     "output_type": "execute_result"
    }
   ],
   "source": [
    "str_msk = df[df['area'] == 'Москва'].groupby(['street', 'type_street']).agg({\n",
    "    'id':'count', 'region_msk':pd.Series.unique}).reset_index().sort_values('id', ascending=False).head(10)\n",
    "\n",
    "fig = px.bar(str_msk.head(10), x='street', y='id', text='id', labels={'street':'улицы', 'id':'количество заведений, шт.'})\n",
    "fig.update_layout(title_text='ТОП-10 улиц по количеству заведений в Москве')\n",
    "\n",
    "fig.show()\n",
    "str_msk"
   ]
  },
  {
   "cell_type": "markdown",
   "metadata": {},
   "source": [
    "Мы получили ТОП-10 самых застроенных заведениями улиц. Посмотрев в Википедии, узнала, что эти улицы почти все длинные от 8 км (Кутузовский и Вернадского проспекты) до 14 км(Ленинский проспект). Есть,конечно исключения, например Пресненская набережная 0,55 км. Но эта улица находится около международного делового центра Москва-Сити, где много офисов и туристов."
   ]
  },
  {
   "cell_type": "markdown",
   "metadata": {},
   "source": [
    "**Районы Москвы, где расположены топ-10 улиц с самым большим количество заведений**\n",
    "*Данные из Википедии, т.к. мой внешний источник предоставляет только 1 район улицы*\n",
    "1. улица Проспект Мира (8,9 км)\n",
    "    * Мещанский район\n",
    "    * Район Марьина Роща\n",
    "    * Алексеевский район\n",
    "    * Останкийнский район\n",
    "    * район Свиблово\n",
    "    * район Ростокино\n",
    "2. улица Профсоюзная (9,3 км)\n",
    "    * район Академический\n",
    "    * район Коньково\n",
    "    * район Обручевский\n",
    "    * район теплый Стан\n",
    "    * район черемушки\n",
    "    * район Ясенево\n",
    "3. улица Ленинградский проспект (5,6 км)\n",
    "    * Беговой район\n",
    "    * район Аэропорт\n",
    "    * район Сокол\n",
    "    * Хорошевский район\n",
    "4. улица Пресненская набережная (0,55 км)\n",
    "    * Пресненский район\n",
    "5. улица Варшавское шоссе (22,5 км)\n",
    "    * Донской район\n",
    "    * район Нагатино-Садовники\n",
    "    * район Нагорный\n",
    "    * район Чертаново Северное\n",
    "    * район Чертаново Центральное\n",
    "    * район Чертаново Южное\n",
    "    * район Южное Бутово\n",
    "    * район Щербинка\n",
    "6. улица Ленинский проспект (14 км)\n",
    "    * район Якиманка\n",
    "    * район Донской\n",
    "    * район Гагаринский\n",
    "    * район Ломоносовский\n",
    "    * район Обручевский\n",
    "    * район Теплый стан\n",
    "    * район Проспект Вернадского\n",
    "    * район Тропарево-Никулино\n",
    "7. улица Вернадского проспект (8 км)\n",
    "    * район Гагаринский\n",
    "    * район Ломоносовский\n",
    "    * район Раменки\n",
    "    * район Проспект Вернадского\n",
    "    * район Тропарево-Никулино\n",
    "8. улица Кутузовский проспект(8,3 км)\n",
    "    * район Дорогомилово\n",
    "    * район Фили-Давыдково\n",
    "9. улица Каширское шоссе (10,5 км до МКАД)\n",
    "    * район Москворечье-Сабурово\n",
    "    * район Орехово-Борисово Северное\n",
    "    * район Орехово-Борисово Южное\n",
    "    * район Нагатино-Садовники\n",
    "10. улица Кировоградская (4,2 км)\n",
    "    * район Чертаново Северное\n",
    "    * район Чертаново Центральное\n",
    "    * район Чертаново Южное"
   ]
  },
  {
   "cell_type": "code",
   "execution_count": 64,
   "metadata": {},
   "outputs": [
    {
     "data": {
      "application/vnd.plotly.v1+json": {
       "config": {
        "plotlyServerURL": "https://plot.ly"
       },
       "data": [
        {
         "alignmentgroup": "True",
         "hovertemplate": "пригород=%{x}<br>количество заведений, шт.=%{text}<extra></extra>",
         "legendgroup": "",
         "marker": {
          "color": "#636efa"
         },
         "name": "",
         "offsetgroup": "",
         "orientation": "v",
         "showlegend": false,
         "text": [
          232,
          137,
          133,
          58,
          47,
          35,
          29,
          21,
          18,
          18,
          17,
          16,
          14,
          8,
          7,
          5,
          5,
          4,
          3,
          3,
          3,
          3,
          3,
          1,
          1,
          1,
          1,
          1,
          1
         ],
         "textposition": "auto",
         "type": "bar",
         "x": [
          "Зеленоград",
          "Сосенское",
          "Московский",
          "Троицк",
          "Щербинка",
          "Воскресенское",
          "Внуковское",
          "Десеновское",
          "Рязановское",
          "Марушкинское",
          "Щаповское",
          "\"Мосрентген\"",
          "Краснопахорское",
          "Вороновское",
          "Первомайское",
          "Кленовское",
          "Роговское",
          "Новофедоровское",
          "Михайлово-Ярцевское",
          "Толстопальцево",
          "Внуково",
          "Кокошкино",
          "Киевский",
          "Дудкино",
          "Давыдково",
          "Сенькино-Секерино",
          "Акулово",
          "Столбово",
          "Филимонковское"
         ],
         "xaxis": "x",
         "y": [
          232,
          137,
          133,
          58,
          47,
          35,
          29,
          21,
          18,
          18,
          17,
          16,
          14,
          8,
          7,
          5,
          5,
          4,
          3,
          3,
          3,
          3,
          3,
          1,
          1,
          1,
          1,
          1,
          1
         ],
         "yaxis": "y"
        }
       ],
       "layout": {
        "barmode": "relative",
        "legend": {
         "tracegroupgap": 0
        },
        "margin": {
         "t": 60
        },
        "template": {
         "data": {
          "bar": [
           {
            "error_x": {
             "color": "#2a3f5f"
            },
            "error_y": {
             "color": "#2a3f5f"
            },
            "marker": {
             "line": {
              "color": "#E5ECF6",
              "width": 0.5
             }
            },
            "type": "bar"
           }
          ],
          "barpolar": [
           {
            "marker": {
             "line": {
              "color": "#E5ECF6",
              "width": 0.5
             }
            },
            "type": "barpolar"
           }
          ],
          "carpet": [
           {
            "aaxis": {
             "endlinecolor": "#2a3f5f",
             "gridcolor": "white",
             "linecolor": "white",
             "minorgridcolor": "white",
             "startlinecolor": "#2a3f5f"
            },
            "baxis": {
             "endlinecolor": "#2a3f5f",
             "gridcolor": "white",
             "linecolor": "white",
             "minorgridcolor": "white",
             "startlinecolor": "#2a3f5f"
            },
            "type": "carpet"
           }
          ],
          "choropleth": [
           {
            "colorbar": {
             "outlinewidth": 0,
             "ticks": ""
            },
            "type": "choropleth"
           }
          ],
          "contour": [
           {
            "colorbar": {
             "outlinewidth": 0,
             "ticks": ""
            },
            "colorscale": [
             [
              0,
              "#0d0887"
             ],
             [
              0.1111111111111111,
              "#46039f"
             ],
             [
              0.2222222222222222,
              "#7201a8"
             ],
             [
              0.3333333333333333,
              "#9c179e"
             ],
             [
              0.4444444444444444,
              "#bd3786"
             ],
             [
              0.5555555555555556,
              "#d8576b"
             ],
             [
              0.6666666666666666,
              "#ed7953"
             ],
             [
              0.7777777777777778,
              "#fb9f3a"
             ],
             [
              0.8888888888888888,
              "#fdca26"
             ],
             [
              1,
              "#f0f921"
             ]
            ],
            "type": "contour"
           }
          ],
          "contourcarpet": [
           {
            "colorbar": {
             "outlinewidth": 0,
             "ticks": ""
            },
            "type": "contourcarpet"
           }
          ],
          "heatmap": [
           {
            "colorbar": {
             "outlinewidth": 0,
             "ticks": ""
            },
            "colorscale": [
             [
              0,
              "#0d0887"
             ],
             [
              0.1111111111111111,
              "#46039f"
             ],
             [
              0.2222222222222222,
              "#7201a8"
             ],
             [
              0.3333333333333333,
              "#9c179e"
             ],
             [
              0.4444444444444444,
              "#bd3786"
             ],
             [
              0.5555555555555556,
              "#d8576b"
             ],
             [
              0.6666666666666666,
              "#ed7953"
             ],
             [
              0.7777777777777778,
              "#fb9f3a"
             ],
             [
              0.8888888888888888,
              "#fdca26"
             ],
             [
              1,
              "#f0f921"
             ]
            ],
            "type": "heatmap"
           }
          ],
          "heatmapgl": [
           {
            "colorbar": {
             "outlinewidth": 0,
             "ticks": ""
            },
            "colorscale": [
             [
              0,
              "#0d0887"
             ],
             [
              0.1111111111111111,
              "#46039f"
             ],
             [
              0.2222222222222222,
              "#7201a8"
             ],
             [
              0.3333333333333333,
              "#9c179e"
             ],
             [
              0.4444444444444444,
              "#bd3786"
             ],
             [
              0.5555555555555556,
              "#d8576b"
             ],
             [
              0.6666666666666666,
              "#ed7953"
             ],
             [
              0.7777777777777778,
              "#fb9f3a"
             ],
             [
              0.8888888888888888,
              "#fdca26"
             ],
             [
              1,
              "#f0f921"
             ]
            ],
            "type": "heatmapgl"
           }
          ],
          "histogram": [
           {
            "marker": {
             "colorbar": {
              "outlinewidth": 0,
              "ticks": ""
             }
            },
            "type": "histogram"
           }
          ],
          "histogram2d": [
           {
            "colorbar": {
             "outlinewidth": 0,
             "ticks": ""
            },
            "colorscale": [
             [
              0,
              "#0d0887"
             ],
             [
              0.1111111111111111,
              "#46039f"
             ],
             [
              0.2222222222222222,
              "#7201a8"
             ],
             [
              0.3333333333333333,
              "#9c179e"
             ],
             [
              0.4444444444444444,
              "#bd3786"
             ],
             [
              0.5555555555555556,
              "#d8576b"
             ],
             [
              0.6666666666666666,
              "#ed7953"
             ],
             [
              0.7777777777777778,
              "#fb9f3a"
             ],
             [
              0.8888888888888888,
              "#fdca26"
             ],
             [
              1,
              "#f0f921"
             ]
            ],
            "type": "histogram2d"
           }
          ],
          "histogram2dcontour": [
           {
            "colorbar": {
             "outlinewidth": 0,
             "ticks": ""
            },
            "colorscale": [
             [
              0,
              "#0d0887"
             ],
             [
              0.1111111111111111,
              "#46039f"
             ],
             [
              0.2222222222222222,
              "#7201a8"
             ],
             [
              0.3333333333333333,
              "#9c179e"
             ],
             [
              0.4444444444444444,
              "#bd3786"
             ],
             [
              0.5555555555555556,
              "#d8576b"
             ],
             [
              0.6666666666666666,
              "#ed7953"
             ],
             [
              0.7777777777777778,
              "#fb9f3a"
             ],
             [
              0.8888888888888888,
              "#fdca26"
             ],
             [
              1,
              "#f0f921"
             ]
            ],
            "type": "histogram2dcontour"
           }
          ],
          "mesh3d": [
           {
            "colorbar": {
             "outlinewidth": 0,
             "ticks": ""
            },
            "type": "mesh3d"
           }
          ],
          "parcoords": [
           {
            "line": {
             "colorbar": {
              "outlinewidth": 0,
              "ticks": ""
             }
            },
            "type": "parcoords"
           }
          ],
          "pie": [
           {
            "automargin": true,
            "type": "pie"
           }
          ],
          "scatter": [
           {
            "marker": {
             "colorbar": {
              "outlinewidth": 0,
              "ticks": ""
             }
            },
            "type": "scatter"
           }
          ],
          "scatter3d": [
           {
            "line": {
             "colorbar": {
              "outlinewidth": 0,
              "ticks": ""
             }
            },
            "marker": {
             "colorbar": {
              "outlinewidth": 0,
              "ticks": ""
             }
            },
            "type": "scatter3d"
           }
          ],
          "scattercarpet": [
           {
            "marker": {
             "colorbar": {
              "outlinewidth": 0,
              "ticks": ""
             }
            },
            "type": "scattercarpet"
           }
          ],
          "scattergeo": [
           {
            "marker": {
             "colorbar": {
              "outlinewidth": 0,
              "ticks": ""
             }
            },
            "type": "scattergeo"
           }
          ],
          "scattergl": [
           {
            "marker": {
             "colorbar": {
              "outlinewidth": 0,
              "ticks": ""
             }
            },
            "type": "scattergl"
           }
          ],
          "scattermapbox": [
           {
            "marker": {
             "colorbar": {
              "outlinewidth": 0,
              "ticks": ""
             }
            },
            "type": "scattermapbox"
           }
          ],
          "scatterpolar": [
           {
            "marker": {
             "colorbar": {
              "outlinewidth": 0,
              "ticks": ""
             }
            },
            "type": "scatterpolar"
           }
          ],
          "scatterpolargl": [
           {
            "marker": {
             "colorbar": {
              "outlinewidth": 0,
              "ticks": ""
             }
            },
            "type": "scatterpolargl"
           }
          ],
          "scatterternary": [
           {
            "marker": {
             "colorbar": {
              "outlinewidth": 0,
              "ticks": ""
             }
            },
            "type": "scatterternary"
           }
          ],
          "surface": [
           {
            "colorbar": {
             "outlinewidth": 0,
             "ticks": ""
            },
            "colorscale": [
             [
              0,
              "#0d0887"
             ],
             [
              0.1111111111111111,
              "#46039f"
             ],
             [
              0.2222222222222222,
              "#7201a8"
             ],
             [
              0.3333333333333333,
              "#9c179e"
             ],
             [
              0.4444444444444444,
              "#bd3786"
             ],
             [
              0.5555555555555556,
              "#d8576b"
             ],
             [
              0.6666666666666666,
              "#ed7953"
             ],
             [
              0.7777777777777778,
              "#fb9f3a"
             ],
             [
              0.8888888888888888,
              "#fdca26"
             ],
             [
              1,
              "#f0f921"
             ]
            ],
            "type": "surface"
           }
          ],
          "table": [
           {
            "cells": {
             "fill": {
              "color": "#EBF0F8"
             },
             "line": {
              "color": "white"
             }
            },
            "header": {
             "fill": {
              "color": "#C8D4E3"
             },
             "line": {
              "color": "white"
             }
            },
            "type": "table"
           }
          ]
         },
         "layout": {
          "annotationdefaults": {
           "arrowcolor": "#2a3f5f",
           "arrowhead": 0,
           "arrowwidth": 1
          },
          "coloraxis": {
           "colorbar": {
            "outlinewidth": 0,
            "ticks": ""
           }
          },
          "colorscale": {
           "diverging": [
            [
             0,
             "#8e0152"
            ],
            [
             0.1,
             "#c51b7d"
            ],
            [
             0.2,
             "#de77ae"
            ],
            [
             0.3,
             "#f1b6da"
            ],
            [
             0.4,
             "#fde0ef"
            ],
            [
             0.5,
             "#f7f7f7"
            ],
            [
             0.6,
             "#e6f5d0"
            ],
            [
             0.7,
             "#b8e186"
            ],
            [
             0.8,
             "#7fbc41"
            ],
            [
             0.9,
             "#4d9221"
            ],
            [
             1,
             "#276419"
            ]
           ],
           "sequential": [
            [
             0,
             "#0d0887"
            ],
            [
             0.1111111111111111,
             "#46039f"
            ],
            [
             0.2222222222222222,
             "#7201a8"
            ],
            [
             0.3333333333333333,
             "#9c179e"
            ],
            [
             0.4444444444444444,
             "#bd3786"
            ],
            [
             0.5555555555555556,
             "#d8576b"
            ],
            [
             0.6666666666666666,
             "#ed7953"
            ],
            [
             0.7777777777777778,
             "#fb9f3a"
            ],
            [
             0.8888888888888888,
             "#fdca26"
            ],
            [
             1,
             "#f0f921"
            ]
           ],
           "sequentialminus": [
            [
             0,
             "#0d0887"
            ],
            [
             0.1111111111111111,
             "#46039f"
            ],
            [
             0.2222222222222222,
             "#7201a8"
            ],
            [
             0.3333333333333333,
             "#9c179e"
            ],
            [
             0.4444444444444444,
             "#bd3786"
            ],
            [
             0.5555555555555556,
             "#d8576b"
            ],
            [
             0.6666666666666666,
             "#ed7953"
            ],
            [
             0.7777777777777778,
             "#fb9f3a"
            ],
            [
             0.8888888888888888,
             "#fdca26"
            ],
            [
             1,
             "#f0f921"
            ]
           ]
          },
          "colorway": [
           "#636efa",
           "#EF553B",
           "#00cc96",
           "#ab63fa",
           "#FFA15A",
           "#19d3f3",
           "#FF6692",
           "#B6E880",
           "#FF97FF",
           "#FECB52"
          ],
          "font": {
           "color": "#2a3f5f"
          },
          "geo": {
           "bgcolor": "white",
           "lakecolor": "white",
           "landcolor": "#E5ECF6",
           "showlakes": true,
           "showland": true,
           "subunitcolor": "white"
          },
          "hoverlabel": {
           "align": "left"
          },
          "hovermode": "closest",
          "mapbox": {
           "style": "light"
          },
          "paper_bgcolor": "white",
          "plot_bgcolor": "#E5ECF6",
          "polar": {
           "angularaxis": {
            "gridcolor": "white",
            "linecolor": "white",
            "ticks": ""
           },
           "bgcolor": "#E5ECF6",
           "radialaxis": {
            "gridcolor": "white",
            "linecolor": "white",
            "ticks": ""
           }
          },
          "scene": {
           "xaxis": {
            "backgroundcolor": "#E5ECF6",
            "gridcolor": "white",
            "gridwidth": 2,
            "linecolor": "white",
            "showbackground": true,
            "ticks": "",
            "zerolinecolor": "white"
           },
           "yaxis": {
            "backgroundcolor": "#E5ECF6",
            "gridcolor": "white",
            "gridwidth": 2,
            "linecolor": "white",
            "showbackground": true,
            "ticks": "",
            "zerolinecolor": "white"
           },
           "zaxis": {
            "backgroundcolor": "#E5ECF6",
            "gridcolor": "white",
            "gridwidth": 2,
            "linecolor": "white",
            "showbackground": true,
            "ticks": "",
            "zerolinecolor": "white"
           }
          },
          "shapedefaults": {
           "line": {
            "color": "#2a3f5f"
           }
          },
          "ternary": {
           "aaxis": {
            "gridcolor": "white",
            "linecolor": "white",
            "ticks": ""
           },
           "baxis": {
            "gridcolor": "white",
            "linecolor": "white",
            "ticks": ""
           },
           "bgcolor": "#E5ECF6",
           "caxis": {
            "gridcolor": "white",
            "linecolor": "white",
            "ticks": ""
           }
          },
          "title": {
           "x": 0.05
          },
          "xaxis": {
           "automargin": true,
           "gridcolor": "white",
           "linecolor": "white",
           "ticks": "",
           "title": {
            "standoff": 15
           },
           "zerolinecolor": "white",
           "zerolinewidth": 2
          },
          "yaxis": {
           "automargin": true,
           "gridcolor": "white",
           "linecolor": "white",
           "ticks": "",
           "title": {
            "standoff": 15
           },
           "zerolinecolor": "white",
           "zerolinewidth": 2
          }
         }
        },
        "title": {
         "text": "Пригороды по количеству заведений"
        },
        "xaxis": {
         "anchor": "y",
         "domain": [
          0,
          1
         ],
         "tickangle": -90,
         "title": {
          "text": "пригород"
         }
        },
        "yaxis": {
         "anchor": "x",
         "domain": [
          0,
          1
         ],
         "range": [
          0,
          250
         ],
         "title": {
          "text": "количество заведений, шт."
         }
        }
       }
      },
      "text/html": [
       "<div>\n",
       "        \n",
       "        \n",
       "            <div id=\"c2dfeb71-57c6-43fc-ad85-299cc7ba7c80\" class=\"plotly-graph-div\" style=\"height:525px; width:100%;\"></div>\n",
       "            <script type=\"text/javascript\">\n",
       "                require([\"plotly\"], function(Plotly) {\n",
       "                    window.PLOTLYENV=window.PLOTLYENV || {};\n",
       "                    \n",
       "                if (document.getElementById(\"c2dfeb71-57c6-43fc-ad85-299cc7ba7c80\")) {\n",
       "                    Plotly.newPlot(\n",
       "                        'c2dfeb71-57c6-43fc-ad85-299cc7ba7c80',\n",
       "                        [{\"alignmentgroup\": \"True\", \"hovertemplate\": \"\\u043f\\u0440\\u0438\\u0433\\u043e\\u0440\\u043e\\u0434=%{x}<br>\\u043a\\u043e\\u043b\\u0438\\u0447\\u0435\\u0441\\u0442\\u0432\\u043e \\u0437\\u0430\\u0432\\u0435\\u0434\\u0435\\u043d\\u0438\\u0439, \\u0448\\u0442.=%{text}<extra></extra>\", \"legendgroup\": \"\", \"marker\": {\"color\": \"#636efa\"}, \"name\": \"\", \"offsetgroup\": \"\", \"orientation\": \"v\", \"showlegend\": false, \"text\": [232.0, 137.0, 133.0, 58.0, 47.0, 35.0, 29.0, 21.0, 18.0, 18.0, 17.0, 16.0, 14.0, 8.0, 7.0, 5.0, 5.0, 4.0, 3.0, 3.0, 3.0, 3.0, 3.0, 1.0, 1.0, 1.0, 1.0, 1.0, 1.0], \"textposition\": \"auto\", \"type\": \"bar\", \"x\": [\"\\u0417\\u0435\\u043b\\u0435\\u043d\\u043e\\u0433\\u0440\\u0430\\u0434\", \"\\u0421\\u043e\\u0441\\u0435\\u043d\\u0441\\u043a\\u043e\\u0435\", \"\\u041c\\u043e\\u0441\\u043a\\u043e\\u0432\\u0441\\u043a\\u0438\\u0439\", \"\\u0422\\u0440\\u043e\\u0438\\u0446\\u043a\", \"\\u0429\\u0435\\u0440\\u0431\\u0438\\u043d\\u043a\\u0430\", \"\\u0412\\u043e\\u0441\\u043a\\u0440\\u0435\\u0441\\u0435\\u043d\\u0441\\u043a\\u043e\\u0435\", \"\\u0412\\u043d\\u0443\\u043a\\u043e\\u0432\\u0441\\u043a\\u043e\\u0435\", \"\\u0414\\u0435\\u0441\\u0435\\u043d\\u043e\\u0432\\u0441\\u043a\\u043e\\u0435\", \"\\u0420\\u044f\\u0437\\u0430\\u043d\\u043e\\u0432\\u0441\\u043a\\u043e\\u0435\", \"\\u041c\\u0430\\u0440\\u0443\\u0448\\u043a\\u0438\\u043d\\u0441\\u043a\\u043e\\u0435\", \"\\u0429\\u0430\\u043f\\u043e\\u0432\\u0441\\u043a\\u043e\\u0435\", \"\\\"\\u041c\\u043e\\u0441\\u0440\\u0435\\u043d\\u0442\\u0433\\u0435\\u043d\\\"\", \"\\u041a\\u0440\\u0430\\u0441\\u043d\\u043e\\u043f\\u0430\\u0445\\u043e\\u0440\\u0441\\u043a\\u043e\\u0435\", \"\\u0412\\u043e\\u0440\\u043e\\u043d\\u043e\\u0432\\u0441\\u043a\\u043e\\u0435\", \"\\u041f\\u0435\\u0440\\u0432\\u043e\\u043c\\u0430\\u0439\\u0441\\u043a\\u043e\\u0435\", \"\\u041a\\u043b\\u0435\\u043d\\u043e\\u0432\\u0441\\u043a\\u043e\\u0435\", \"\\u0420\\u043e\\u0433\\u043e\\u0432\\u0441\\u043a\\u043e\\u0435\", \"\\u041d\\u043e\\u0432\\u043e\\u0444\\u0435\\u0434\\u043e\\u0440\\u043e\\u0432\\u0441\\u043a\\u043e\\u0435\", \"\\u041c\\u0438\\u0445\\u0430\\u0439\\u043b\\u043e\\u0432\\u043e-\\u042f\\u0440\\u0446\\u0435\\u0432\\u0441\\u043a\\u043e\\u0435\", \"\\u0422\\u043e\\u043b\\u0441\\u0442\\u043e\\u043f\\u0430\\u043b\\u044c\\u0446\\u0435\\u0432\\u043e\", \"\\u0412\\u043d\\u0443\\u043a\\u043e\\u0432\\u043e\", \"\\u041a\\u043e\\u043a\\u043e\\u0448\\u043a\\u0438\\u043d\\u043e\", \"\\u041a\\u0438\\u0435\\u0432\\u0441\\u043a\\u0438\\u0439\", \"\\u0414\\u0443\\u0434\\u043a\\u0438\\u043d\\u043e\", \"\\u0414\\u0430\\u0432\\u044b\\u0434\\u043a\\u043e\\u0432\\u043e\", \"\\u0421\\u0435\\u043d\\u044c\\u043a\\u0438\\u043d\\u043e-\\u0421\\u0435\\u043a\\u0435\\u0440\\u0438\\u043d\\u043e\", \"\\u0410\\u043a\\u0443\\u043b\\u043e\\u0432\\u043e\", \"\\u0421\\u0442\\u043e\\u043b\\u0431\\u043e\\u0432\\u043e\", \"\\u0424\\u0438\\u043b\\u0438\\u043c\\u043e\\u043d\\u043a\\u043e\\u0432\\u0441\\u043a\\u043e\\u0435\"], \"xaxis\": \"x\", \"y\": [232, 137, 133, 58, 47, 35, 29, 21, 18, 18, 17, 16, 14, 8, 7, 5, 5, 4, 3, 3, 3, 3, 3, 1, 1, 1, 1, 1, 1], \"yaxis\": \"y\"}],\n",
       "                        {\"barmode\": \"relative\", \"legend\": {\"tracegroupgap\": 0}, \"margin\": {\"t\": 60}, \"template\": {\"data\": {\"bar\": [{\"error_x\": {\"color\": \"#2a3f5f\"}, \"error_y\": {\"color\": \"#2a3f5f\"}, \"marker\": {\"line\": {\"color\": \"#E5ECF6\", \"width\": 0.5}}, \"type\": \"bar\"}], \"barpolar\": [{\"marker\": {\"line\": {\"color\": \"#E5ECF6\", \"width\": 0.5}}, \"type\": \"barpolar\"}], \"carpet\": [{\"aaxis\": {\"endlinecolor\": \"#2a3f5f\", \"gridcolor\": \"white\", \"linecolor\": \"white\", \"minorgridcolor\": \"white\", \"startlinecolor\": \"#2a3f5f\"}, \"baxis\": {\"endlinecolor\": \"#2a3f5f\", \"gridcolor\": \"white\", \"linecolor\": \"white\", \"minorgridcolor\": \"white\", \"startlinecolor\": \"#2a3f5f\"}, \"type\": \"carpet\"}], \"choropleth\": [{\"colorbar\": {\"outlinewidth\": 0, \"ticks\": \"\"}, \"type\": \"choropleth\"}], \"contour\": [{\"colorbar\": {\"outlinewidth\": 0, \"ticks\": \"\"}, \"colorscale\": [[0.0, \"#0d0887\"], [0.1111111111111111, \"#46039f\"], [0.2222222222222222, \"#7201a8\"], [0.3333333333333333, \"#9c179e\"], [0.4444444444444444, \"#bd3786\"], [0.5555555555555556, \"#d8576b\"], [0.6666666666666666, \"#ed7953\"], [0.7777777777777778, \"#fb9f3a\"], [0.8888888888888888, \"#fdca26\"], [1.0, \"#f0f921\"]], \"type\": \"contour\"}], \"contourcarpet\": [{\"colorbar\": {\"outlinewidth\": 0, \"ticks\": \"\"}, \"type\": \"contourcarpet\"}], \"heatmap\": [{\"colorbar\": {\"outlinewidth\": 0, \"ticks\": \"\"}, \"colorscale\": [[0.0, \"#0d0887\"], [0.1111111111111111, \"#46039f\"], [0.2222222222222222, \"#7201a8\"], [0.3333333333333333, \"#9c179e\"], [0.4444444444444444, \"#bd3786\"], [0.5555555555555556, \"#d8576b\"], [0.6666666666666666, \"#ed7953\"], [0.7777777777777778, \"#fb9f3a\"], [0.8888888888888888, \"#fdca26\"], [1.0, \"#f0f921\"]], \"type\": \"heatmap\"}], \"heatmapgl\": [{\"colorbar\": {\"outlinewidth\": 0, \"ticks\": \"\"}, \"colorscale\": [[0.0, \"#0d0887\"], [0.1111111111111111, \"#46039f\"], [0.2222222222222222, \"#7201a8\"], [0.3333333333333333, \"#9c179e\"], [0.4444444444444444, \"#bd3786\"], [0.5555555555555556, \"#d8576b\"], [0.6666666666666666, \"#ed7953\"], [0.7777777777777778, \"#fb9f3a\"], [0.8888888888888888, \"#fdca26\"], [1.0, \"#f0f921\"]], \"type\": \"heatmapgl\"}], \"histogram\": [{\"marker\": {\"colorbar\": {\"outlinewidth\": 0, \"ticks\": \"\"}}, \"type\": \"histogram\"}], \"histogram2d\": [{\"colorbar\": {\"outlinewidth\": 0, \"ticks\": \"\"}, \"colorscale\": [[0.0, \"#0d0887\"], [0.1111111111111111, \"#46039f\"], [0.2222222222222222, \"#7201a8\"], [0.3333333333333333, \"#9c179e\"], [0.4444444444444444, \"#bd3786\"], [0.5555555555555556, \"#d8576b\"], [0.6666666666666666, \"#ed7953\"], [0.7777777777777778, \"#fb9f3a\"], [0.8888888888888888, \"#fdca26\"], [1.0, \"#f0f921\"]], \"type\": \"histogram2d\"}], \"histogram2dcontour\": [{\"colorbar\": {\"outlinewidth\": 0, \"ticks\": \"\"}, \"colorscale\": [[0.0, \"#0d0887\"], [0.1111111111111111, \"#46039f\"], [0.2222222222222222, \"#7201a8\"], [0.3333333333333333, \"#9c179e\"], [0.4444444444444444, \"#bd3786\"], [0.5555555555555556, \"#d8576b\"], [0.6666666666666666, \"#ed7953\"], [0.7777777777777778, \"#fb9f3a\"], [0.8888888888888888, \"#fdca26\"], [1.0, \"#f0f921\"]], \"type\": \"histogram2dcontour\"}], \"mesh3d\": [{\"colorbar\": {\"outlinewidth\": 0, \"ticks\": \"\"}, \"type\": \"mesh3d\"}], \"parcoords\": [{\"line\": {\"colorbar\": {\"outlinewidth\": 0, \"ticks\": \"\"}}, \"type\": \"parcoords\"}], \"pie\": [{\"automargin\": true, \"type\": \"pie\"}], \"scatter\": [{\"marker\": {\"colorbar\": {\"outlinewidth\": 0, \"ticks\": \"\"}}, \"type\": \"scatter\"}], \"scatter3d\": [{\"line\": {\"colorbar\": {\"outlinewidth\": 0, \"ticks\": \"\"}}, \"marker\": {\"colorbar\": {\"outlinewidth\": 0, \"ticks\": \"\"}}, \"type\": \"scatter3d\"}], \"scattercarpet\": [{\"marker\": {\"colorbar\": {\"outlinewidth\": 0, \"ticks\": \"\"}}, \"type\": \"scattercarpet\"}], \"scattergeo\": [{\"marker\": {\"colorbar\": {\"outlinewidth\": 0, \"ticks\": \"\"}}, \"type\": \"scattergeo\"}], \"scattergl\": [{\"marker\": {\"colorbar\": {\"outlinewidth\": 0, \"ticks\": \"\"}}, \"type\": \"scattergl\"}], \"scattermapbox\": [{\"marker\": {\"colorbar\": {\"outlinewidth\": 0, \"ticks\": \"\"}}, \"type\": \"scattermapbox\"}], \"scatterpolar\": [{\"marker\": {\"colorbar\": {\"outlinewidth\": 0, \"ticks\": \"\"}}, \"type\": \"scatterpolar\"}], \"scatterpolargl\": [{\"marker\": {\"colorbar\": {\"outlinewidth\": 0, \"ticks\": \"\"}}, \"type\": \"scatterpolargl\"}], \"scatterternary\": [{\"marker\": {\"colorbar\": {\"outlinewidth\": 0, \"ticks\": \"\"}}, \"type\": \"scatterternary\"}], \"surface\": [{\"colorbar\": {\"outlinewidth\": 0, \"ticks\": \"\"}, \"colorscale\": [[0.0, \"#0d0887\"], [0.1111111111111111, \"#46039f\"], [0.2222222222222222, \"#7201a8\"], [0.3333333333333333, \"#9c179e\"], [0.4444444444444444, \"#bd3786\"], [0.5555555555555556, \"#d8576b\"], [0.6666666666666666, \"#ed7953\"], [0.7777777777777778, \"#fb9f3a\"], [0.8888888888888888, \"#fdca26\"], [1.0, \"#f0f921\"]], \"type\": \"surface\"}], \"table\": [{\"cells\": {\"fill\": {\"color\": \"#EBF0F8\"}, \"line\": {\"color\": \"white\"}}, \"header\": {\"fill\": {\"color\": \"#C8D4E3\"}, \"line\": {\"color\": \"white\"}}, \"type\": \"table\"}]}, \"layout\": {\"annotationdefaults\": {\"arrowcolor\": \"#2a3f5f\", \"arrowhead\": 0, \"arrowwidth\": 1}, \"coloraxis\": {\"colorbar\": {\"outlinewidth\": 0, \"ticks\": \"\"}}, \"colorscale\": {\"diverging\": [[0, \"#8e0152\"], [0.1, \"#c51b7d\"], [0.2, \"#de77ae\"], [0.3, \"#f1b6da\"], [0.4, \"#fde0ef\"], [0.5, \"#f7f7f7\"], [0.6, \"#e6f5d0\"], [0.7, \"#b8e186\"], [0.8, \"#7fbc41\"], [0.9, \"#4d9221\"], [1, \"#276419\"]], \"sequential\": [[0.0, \"#0d0887\"], [0.1111111111111111, \"#46039f\"], [0.2222222222222222, \"#7201a8\"], [0.3333333333333333, \"#9c179e\"], [0.4444444444444444, \"#bd3786\"], [0.5555555555555556, \"#d8576b\"], [0.6666666666666666, \"#ed7953\"], [0.7777777777777778, \"#fb9f3a\"], [0.8888888888888888, \"#fdca26\"], [1.0, \"#f0f921\"]], \"sequentialminus\": [[0.0, \"#0d0887\"], [0.1111111111111111, \"#46039f\"], [0.2222222222222222, \"#7201a8\"], [0.3333333333333333, \"#9c179e\"], [0.4444444444444444, \"#bd3786\"], [0.5555555555555556, \"#d8576b\"], [0.6666666666666666, \"#ed7953\"], [0.7777777777777778, \"#fb9f3a\"], [0.8888888888888888, \"#fdca26\"], [1.0, \"#f0f921\"]]}, \"colorway\": [\"#636efa\", \"#EF553B\", \"#00cc96\", \"#ab63fa\", \"#FFA15A\", \"#19d3f3\", \"#FF6692\", \"#B6E880\", \"#FF97FF\", \"#FECB52\"], \"font\": {\"color\": \"#2a3f5f\"}, \"geo\": {\"bgcolor\": \"white\", \"lakecolor\": \"white\", \"landcolor\": \"#E5ECF6\", \"showlakes\": true, \"showland\": true, \"subunitcolor\": \"white\"}, \"hoverlabel\": {\"align\": \"left\"}, \"hovermode\": \"closest\", \"mapbox\": {\"style\": \"light\"}, \"paper_bgcolor\": \"white\", \"plot_bgcolor\": \"#E5ECF6\", \"polar\": {\"angularaxis\": {\"gridcolor\": \"white\", \"linecolor\": \"white\", \"ticks\": \"\"}, \"bgcolor\": \"#E5ECF6\", \"radialaxis\": {\"gridcolor\": \"white\", \"linecolor\": \"white\", \"ticks\": \"\"}}, \"scene\": {\"xaxis\": {\"backgroundcolor\": \"#E5ECF6\", \"gridcolor\": \"white\", \"gridwidth\": 2, \"linecolor\": \"white\", \"showbackground\": true, \"ticks\": \"\", \"zerolinecolor\": \"white\"}, \"yaxis\": {\"backgroundcolor\": \"#E5ECF6\", \"gridcolor\": \"white\", \"gridwidth\": 2, \"linecolor\": \"white\", \"showbackground\": true, \"ticks\": \"\", \"zerolinecolor\": \"white\"}, \"zaxis\": {\"backgroundcolor\": \"#E5ECF6\", \"gridcolor\": \"white\", \"gridwidth\": 2, \"linecolor\": \"white\", \"showbackground\": true, \"ticks\": \"\", \"zerolinecolor\": \"white\"}}, \"shapedefaults\": {\"line\": {\"color\": \"#2a3f5f\"}}, \"ternary\": {\"aaxis\": {\"gridcolor\": \"white\", \"linecolor\": \"white\", \"ticks\": \"\"}, \"baxis\": {\"gridcolor\": \"white\", \"linecolor\": \"white\", \"ticks\": \"\"}, \"bgcolor\": \"#E5ECF6\", \"caxis\": {\"gridcolor\": \"white\", \"linecolor\": \"white\", \"ticks\": \"\"}}, \"title\": {\"x\": 0.05}, \"xaxis\": {\"automargin\": true, \"gridcolor\": \"white\", \"linecolor\": \"white\", \"ticks\": \"\", \"title\": {\"standoff\": 15}, \"zerolinecolor\": \"white\", \"zerolinewidth\": 2}, \"yaxis\": {\"automargin\": true, \"gridcolor\": \"white\", \"linecolor\": \"white\", \"ticks\": \"\", \"title\": {\"standoff\": 15}, \"zerolinecolor\": \"white\", \"zerolinewidth\": 2}}}, \"title\": {\"text\": \"\\u041f\\u0440\\u0438\\u0433\\u043e\\u0440\\u043e\\u0434\\u044b \\u043f\\u043e \\u043a\\u043e\\u043b\\u0438\\u0447\\u0435\\u0441\\u0442\\u0432\\u0443 \\u0437\\u0430\\u0432\\u0435\\u0434\\u0435\\u043d\\u0438\\u0439\"}, \"xaxis\": {\"anchor\": \"y\", \"domain\": [0.0, 1.0], \"tickangle\": -90, \"title\": {\"text\": \"\\u043f\\u0440\\u0438\\u0433\\u043e\\u0440\\u043e\\u0434\"}}, \"yaxis\": {\"anchor\": \"x\", \"domain\": [0.0, 1.0], \"range\": [0, 250], \"title\": {\"text\": \"\\u043a\\u043e\\u043b\\u0438\\u0447\\u0435\\u0441\\u0442\\u0432\\u043e \\u0437\\u0430\\u0432\\u0435\\u0434\\u0435\\u043d\\u0438\\u0439, \\u0448\\u0442.\"}}},\n",
       "                        {\"responsive\": true}\n",
       "                    ).then(function(){\n",
       "                            \n",
       "var gd = document.getElementById('c2dfeb71-57c6-43fc-ad85-299cc7ba7c80');\n",
       "var x = new MutationObserver(function (mutations, observer) {{\n",
       "        var display = window.getComputedStyle(gd).display;\n",
       "        if (!display || display === 'none') {{\n",
       "            console.log([gd, 'removed!']);\n",
       "            Plotly.purge(gd);\n",
       "            observer.disconnect();\n",
       "        }}\n",
       "}});\n",
       "\n",
       "// Listen for the removal of the full notebook cells\n",
       "var notebookContainer = gd.closest('#notebook-container');\n",
       "if (notebookContainer) {{\n",
       "    x.observe(notebookContainer, {childList: true});\n",
       "}}\n",
       "\n",
       "// Listen for the clearing of the current output cell\n",
       "var outputEl = gd.closest('.output');\n",
       "if (outputEl) {{\n",
       "    x.observe(outputEl, {childList: true});\n",
       "}}\n",
       "\n",
       "                        })\n",
       "                };\n",
       "                });\n",
       "            </script>\n",
       "        </div>"
      ]
     },
     "metadata": {},
     "output_type": "display_data"
    }
   ],
   "source": [
    "str_reg = df[df['area'] != 'Москва'].groupby('area').agg({\n",
    "    'id':'count'}).reset_index().sort_values('id', ascending=False)\n",
    "\n",
    "fig = px.bar(str_reg, x='area', y='id', text = 'id', labels={'area':'пригород', 'id':'количество заведений, шт.'})\n",
    "fig.update_xaxes(tickangle=-90)\n",
    "fig.update_yaxes(range=[0, 250])\n",
    "fig.update_layout(title_text='Пригороды по количеству заведений')\n",
    "fig.show()"
   ]
  },
  {
   "cell_type": "markdown",
   "metadata": {},
   "source": [
    "Зеленоград очень сильно выделился на фоне остальных пригородов 232 заведения.\n",
    "\n",
    ">По состоянию на 2019 год самый маленький по территории и предпоследний по населению округ Москвы. Вместе с тем Зеленоград как обособленный населённый пункт мог бы войти в пятёрку крупнейших городов Подмосковья\n",
    "\n",
    "[Википедия](https://ru.wikipedia.org/wiki/%D0%97%D0%B5%D0%BB%D0%B5%D0%BD%D0%BE%D0%B3%D1%80%D0%B0%D0%B4)"
   ]
  },
  {
   "cell_type": "code",
   "execution_count": 65,
   "metadata": {},
   "outputs": [
    {
     "name": "stdout",
     "output_type": "stream",
     "text": [
      "Количество улиц с 1 заведением: 539 шт. из 1829 улиц\n",
      "Количество районов с улицами с 1 заведением: 101 шт. из 122 района\n"
     ]
    }
   ],
   "source": [
    "oneplace_str = df[df['area'] == 'Москва'].groupby(['street', 'type_street']).agg({\n",
    "    'id':'count', 'region_msk':pd.Series.unique}).reset_index()\n",
    "print(f'Количество улиц с 1 заведением: {len(oneplace_str[oneplace_str[\"id\"] == 1])} шт. из {len(oneplace_str)} улиц')\n",
    "print(f'Количество районов с улицами с 1 заведением: {len(oneplace_str[oneplace_str[\"id\"] == 1][\"region_msk\"].unique())}\\\n",
    " шт. из {len(oneplace_str[\"region_msk\"].unique())} района')"
   ]
  },
  {
   "cell_type": "code",
   "execution_count": 66,
   "metadata": {},
   "outputs": [
    {
     "name": "stdout",
     "output_type": "stream",
     "text": [
      "ТОП-10 районов Москвы, где больше всего улиц с 1 заведеним\n"
     ]
    },
    {
     "data": {
      "text/html": [
       "<div>\n",
       "<style scoped>\n",
       "    .dataframe tbody tr th:only-of-type {\n",
       "        vertical-align: middle;\n",
       "    }\n",
       "\n",
       "    .dataframe tbody tr th {\n",
       "        vertical-align: top;\n",
       "    }\n",
       "\n",
       "    .dataframe thead th {\n",
       "        text-align: right;\n",
       "    }\n",
       "</style>\n",
       "<table border=\"1\" class=\"dataframe\">\n",
       "  <thead>\n",
       "    <tr style=\"text-align: right;\">\n",
       "      <th></th>\n",
       "      <th>район</th>\n",
       "      <th>число улиц</th>\n",
       "    </tr>\n",
       "  </thead>\n",
       "  <tbody>\n",
       "    <tr>\n",
       "      <th>0</th>\n",
       "      <td>Таганский район</td>\n",
       "      <td>28</td>\n",
       "    </tr>\n",
       "    <tr>\n",
       "      <th>1</th>\n",
       "      <td>район Хамовники</td>\n",
       "      <td>23</td>\n",
       "    </tr>\n",
       "    <tr>\n",
       "      <th>2</th>\n",
       "      <td>Басманный район</td>\n",
       "      <td>23</td>\n",
       "    </tr>\n",
       "    <tr>\n",
       "      <th>3</th>\n",
       "      <td>Тверской район</td>\n",
       "      <td>20</td>\n",
       "    </tr>\n",
       "    <tr>\n",
       "      <th>4</th>\n",
       "      <td>Пресненский район</td>\n",
       "      <td>19</td>\n",
       "    </tr>\n",
       "    <tr>\n",
       "      <th>5</th>\n",
       "      <td>район Марьина роща</td>\n",
       "      <td>17</td>\n",
       "    </tr>\n",
       "    <tr>\n",
       "      <th>6</th>\n",
       "      <td>район Сокольники</td>\n",
       "      <td>15</td>\n",
       "    </tr>\n",
       "    <tr>\n",
       "      <th>7</th>\n",
       "      <td>Мещанский район</td>\n",
       "      <td>14</td>\n",
       "    </tr>\n",
       "    <tr>\n",
       "      <th>8</th>\n",
       "      <td>район Замоскворечье</td>\n",
       "      <td>13</td>\n",
       "    </tr>\n",
       "    <tr>\n",
       "      <th>9</th>\n",
       "      <td>район Арбат</td>\n",
       "      <td>12</td>\n",
       "    </tr>\n",
       "  </tbody>\n",
       "</table>\n",
       "</div>"
      ],
      "text/plain": [
       "                 район  число улиц\n",
       "0      Таганский район          28\n",
       "1      район Хамовники          23\n",
       "2      Басманный район          23\n",
       "3       Тверской район          20\n",
       "4    Пресненский район          19\n",
       "5   район Марьина роща          17\n",
       "6     район Сокольники          15\n",
       "7      Мещанский район          14\n",
       "8  район Замоскворечье          13\n",
       "9          район Арбат          12"
      ]
     },
     "execution_count": 66,
     "metadata": {},
     "output_type": "execute_result"
    }
   ],
   "source": [
    "print('ТОП-10 районов Москвы, где больше всего улиц с 1 заведеним')\n",
    "top_region = oneplace_str[oneplace_str[\"id\"] == 1]['region_msk'].value_counts().reset_index().head(10)\n",
    "top_region.columns = ['район', 'число улиц']\n",
    "top_region"
   ]
  },
  {
   "cell_type": "markdown",
   "metadata": {},
   "source": [
    "Улицы с 1 заведением планомерно распределились по районам. Их примерно 1/3 от всего количества улиц **539 шт.**, но районов занимают 83,5% от общего количества районов."
   ]
  },
  {
   "cell_type": "markdown",
   "metadata": {},
   "source": [
    "### Распределение посадочных мест <a id='step2.2.3'></a>"
   ]
  },
  {
   "cell_type": "code",
   "execution_count": 67,
   "metadata": {},
   "outputs": [
    {
     "data": {
      "application/vnd.plotly.v1+json": {
       "config": {
        "plotlyServerURL": "https://plot.ly"
       },
       "data": [
        {
         "alignmentgroup": "True",
         "bingroup": "x",
         "hovertemplate": "число посадочных мест=%{x}<br>count=%{y}<extra></extra>",
         "legendgroup": "",
         "marker": {
          "color": "#636efa"
         },
         "name": "",
         "offsetgroup": "",
         "orientation": "v",
         "showlegend": false,
         "type": "histogram",
         "x": [
          150,
          36,
          30,
          0,
          2,
          70,
          42,
          5,
          8,
          10,
          50,
          10,
          240,
          40,
          60,
          30,
          40,
          24,
          20,
          90,
          40,
          200,
          50,
          24,
          40,
          20,
          240,
          250,
          96,
          3,
          12,
          100,
          12,
          60,
          40,
          50,
          15,
          32,
          23,
          56,
          80,
          65,
          48,
          16,
          70,
          28,
          45,
          20,
          150,
          40,
          150,
          41,
          2,
          37,
          48,
          26,
          45,
          70,
          4,
          98,
          98,
          15,
          80,
          160,
          6,
          0,
          71,
          120,
          80,
          4,
          12,
          96,
          60,
          70,
          43,
          40,
          46,
          80,
          80,
          80,
          4,
          68,
          88,
          88,
          96,
          10,
          80,
          10,
          75,
          36,
          22,
          50,
          10,
          64,
          40,
          25,
          36,
          16,
          32,
          40,
          20,
          60,
          40,
          85,
          20,
          35,
          24,
          50,
          70,
          143,
          100,
          25,
          150,
          0,
          130,
          22,
          98,
          150,
          125,
          74,
          10,
          41,
          0,
          200,
          12,
          30,
          40,
          60,
          48,
          120,
          70,
          30,
          16,
          20,
          10,
          100,
          75,
          16,
          47,
          95,
          90,
          45,
          65,
          50,
          15,
          18,
          40,
          18,
          200,
          75,
          25,
          10,
          15,
          45,
          35,
          70,
          42,
          380,
          26,
          43,
          80,
          220,
          118,
          150,
          92,
          198,
          90,
          0,
          38,
          15,
          20,
          10,
          50,
          48,
          98,
          45,
          50,
          30,
          86,
          46,
          60,
          60,
          74,
          24,
          290,
          28,
          40,
          80,
          40,
          80,
          97,
          20,
          13,
          10,
          50,
          10,
          0,
          90,
          144,
          0,
          100,
          90,
          50,
          46,
          60,
          97,
          300,
          70,
          240,
          100,
          40,
          0,
          300,
          240,
          200,
          300,
          240,
          300,
          240,
          300,
          240,
          300,
          170,
          0,
          40,
          50,
          25,
          52,
          30,
          220,
          200,
          80,
          250,
          100,
          328,
          60,
          32,
          20,
          80,
          60,
          50,
          40,
          50,
          14,
          96,
          92,
          68,
          80,
          60,
          100,
          95,
          100,
          120,
          200,
          20,
          50,
          200,
          100,
          200,
          50,
          40,
          12,
          150,
          200,
          150,
          80,
          40,
          20,
          57,
          50,
          106,
          70,
          90,
          25,
          40,
          20,
          40,
          60,
          15,
          50,
          53,
          30,
          64,
          2,
          40,
          90,
          80,
          50,
          70,
          100,
          45,
          40,
          15,
          90,
          40,
          40,
          60,
          100,
          200,
          180,
          80,
          28,
          42,
          42,
          40,
          0,
          200,
          40,
          680,
          0,
          80,
          140,
          65,
          40,
          60,
          30,
          24,
          60,
          36,
          130,
          50,
          20,
          50,
          50,
          35,
          110,
          100,
          150,
          100,
          150,
          25,
          250,
          250,
          127,
          50,
          64,
          28,
          100,
          90,
          40,
          10,
          200,
          104,
          168,
          1200,
          200,
          200,
          200,
          50,
          68,
          200,
          92,
          50,
          250,
          80,
          45,
          48,
          100,
          120,
          23,
          70,
          32,
          190,
          95,
          95,
          45,
          200,
          95,
          90,
          110,
          20,
          40,
          40,
          20,
          52,
          60,
          200,
          273,
          44,
          92,
          128,
          80,
          225,
          95,
          45,
          80,
          25,
          110,
          86,
          198,
          218,
          16,
          10,
          12,
          96,
          136,
          100,
          20,
          165,
          150,
          173,
          150,
          20,
          40,
          50,
          50,
          23,
          92,
          70,
          56,
          68,
          100,
          250,
          60,
          48,
          20,
          90,
          45,
          150,
          80,
          16,
          50,
          50,
          150,
          109,
          90,
          56,
          50,
          50,
          150,
          32,
          160,
          300,
          240,
          150,
          35,
          80,
          54,
          55,
          20,
          20,
          20,
          190,
          89,
          10,
          40,
          80,
          20,
          86,
          50,
          15,
          40,
          12,
          4,
          12,
          70,
          24,
          56,
          0,
          75,
          70,
          0,
          70,
          50,
          0,
          0,
          0,
          24,
          50,
          90,
          180,
          120,
          55,
          150,
          120,
          60,
          100,
          120,
          12,
          30,
          20,
          25,
          4,
          98,
          30,
          40,
          72,
          68,
          70,
          40,
          90,
          60,
          100,
          12,
          150,
          24,
          95,
          200,
          210,
          240,
          100,
          100,
          20,
          20,
          10,
          30,
          98,
          5,
          80,
          40,
          40,
          49,
          250,
          165,
          94,
          140,
          140,
          495,
          80,
          186,
          30,
          40,
          24,
          40,
          85,
          36,
          40,
          40,
          50,
          40,
          80,
          48,
          90,
          10,
          19,
          24,
          150,
          84,
          90,
          120,
          180,
          10,
          9,
          46,
          74,
          20,
          15,
          60,
          96,
          42,
          35,
          100,
          50,
          40,
          40,
          98,
          40,
          98,
          35,
          30,
          92,
          96,
          96,
          90,
          100,
          120,
          150,
          154,
          98,
          160,
          134,
          50,
          60,
          86,
          255,
          86,
          85,
          47,
          90,
          45,
          90,
          83,
          12,
          60,
          25,
          20,
          60,
          2,
          20,
          54,
          300,
          36,
          95,
          60,
          80,
          625,
          78,
          120,
          180,
          40,
          20,
          60,
          67,
          46,
          96,
          30,
          60,
          56,
          40,
          250,
          70,
          160,
          50,
          16,
          200,
          80,
          25,
          60,
          80,
          30,
          300,
          10,
          98,
          55,
          46,
          0,
          36,
          292,
          46,
          24,
          48,
          46,
          24,
          30,
          40,
          80,
          12,
          350,
          15,
          75,
          75,
          40,
          10,
          5,
          20,
          120,
          64,
          64,
          40,
          102,
          48,
          95,
          110,
          46,
          46,
          28,
          92,
          20,
          54,
          180,
          46,
          44,
          96,
          80,
          500,
          56,
          60,
          60,
          0,
          15,
          5,
          47,
          5,
          5,
          6,
          87,
          87,
          160,
          87,
          87,
          86,
          87,
          20,
          7,
          98,
          90,
          24,
          98,
          98,
          20,
          70,
          80,
          60,
          24,
          24,
          176,
          24,
          12,
          21,
          21,
          20,
          25,
          30,
          55,
          25,
          120,
          152,
          250,
          80,
          160,
          80,
          25,
          10,
          6,
          12,
          80,
          30,
          180,
          97,
          10,
          12,
          8,
          10,
          8,
          15,
          13,
          15,
          70,
          80,
          50,
          54,
          40,
          20,
          185,
          40,
          80,
          300,
          80,
          48,
          237,
          88,
          140,
          32,
          250,
          30,
          150,
          100,
          65,
          60,
          80,
          60,
          30,
          30,
          30,
          45,
          5,
          120,
          350,
          50,
          10,
          60,
          50,
          50,
          50,
          60,
          30,
          0,
          30,
          50,
          38,
          60,
          10,
          60,
          60,
          60,
          60,
          60,
          40,
          100,
          0,
          0,
          60,
          70,
          0,
          30,
          20,
          20,
          30,
          30,
          10,
          96,
          30,
          30,
          60,
          20,
          30,
          49,
          220,
          40,
          16,
          20,
          50,
          34,
          2,
          20,
          24,
          91,
          30,
          30,
          70,
          50,
          25,
          78,
          30,
          40,
          4,
          18,
          3,
          40,
          6,
          1288,
          160,
          200,
          82,
          40,
          172,
          200,
          0,
          45,
          50,
          10,
          0,
          18,
          0,
          98,
          86,
          30,
          10,
          125,
          84,
          65,
          8,
          40,
          50,
          36,
          45,
          60,
          30,
          35,
          60,
          12,
          8,
          10,
          80,
          70,
          38,
          6,
          24,
          24,
          6,
          95,
          8,
          20,
          478,
          43,
          16,
          36,
          145,
          25,
          20,
          50,
          6,
          25,
          9,
          120,
          250,
          10,
          40,
          20,
          25,
          0,
          60,
          45,
          64,
          160,
          130,
          32,
          60,
          32,
          37,
          35,
          45,
          60,
          10,
          15,
          48,
          40,
          50,
          0,
          0,
          10,
          0,
          4,
          14,
          22,
          15,
          20,
          0,
          0,
          50,
          42,
          20,
          40,
          30,
          120,
          7,
          158,
          140,
          57,
          0,
          12,
          0,
          2,
          0,
          48,
          30,
          0,
          100,
          200,
          60,
          4,
          18,
          40,
          40,
          30,
          20,
          36,
          0,
          0,
          0,
          0,
          0,
          0,
          4,
          28,
          15,
          90,
          45,
          15,
          44,
          96,
          22,
          56,
          1,
          2,
          40,
          5,
          0,
          2,
          25,
          0,
          120,
          45,
          8,
          15,
          2,
          0,
          20,
          14,
          10,
          100,
          30,
          326,
          0,
          9,
          0,
          4,
          20,
          120,
          2,
          20,
          20,
          22,
          300,
          24,
          0,
          5,
          5,
          12,
          4,
          0,
          120,
          40,
          170,
          64,
          28,
          10,
          0,
          0,
          49,
          0,
          9,
          0,
          35,
          10,
          14,
          60,
          14,
          65,
          6,
          5,
          5,
          25,
          8,
          21,
          24,
          30,
          24,
          6,
          8,
          70,
          45,
          95,
          30,
          24,
          26,
          0,
          44,
          24,
          60,
          24,
          38,
          80,
          45,
          30,
          40,
          4,
          5,
          0,
          12,
          30,
          12,
          0,
          1,
          80,
          0,
          140,
          105,
          27,
          4,
          8,
          0,
          80,
          50,
          35,
          50,
          30,
          25,
          0,
          60,
          0,
          50,
          0,
          12,
          7,
          32,
          20,
          26,
          150,
          150,
          13,
          90,
          57,
          20,
          31,
          2,
          5,
          7,
          35,
          20,
          15,
          41,
          45,
          45,
          12,
          50,
          24,
          15,
          18,
          4,
          6,
          20,
          230,
          40,
          30,
          100,
          58,
          37,
          34,
          80,
          45,
          60,
          30,
          20,
          45,
          60,
          40,
          0,
          0,
          0,
          0,
          60,
          58,
          26,
          150,
          10,
          20,
          16,
          20,
          15,
          3,
          0,
          12,
          60,
          10,
          12,
          24,
          0,
          40,
          70,
          60,
          30,
          138,
          0,
          10,
          35,
          25,
          95,
          72,
          20,
          0,
          0,
          30,
          25,
          150,
          40,
          42,
          40,
          15,
          20,
          5,
          20,
          0,
          20,
          0,
          0,
          0,
          0,
          3,
          4,
          40,
          0,
          20,
          35,
          24,
          4,
          32,
          25,
          5,
          47,
          40,
          0,
          12,
          40,
          0,
          0,
          12,
          0,
          0,
          0,
          0,
          14,
          2,
          30,
          64,
          32,
          2,
          0,
          45,
          16,
          6,
          0,
          80,
          1700,
          10,
          15,
          4,
          0,
          20,
          50,
          0,
          0,
          15,
          0,
          20,
          0,
          0,
          0,
          0,
          0,
          0,
          0,
          0,
          15,
          0,
          15,
          0,
          0,
          155,
          30,
          16,
          50,
          10,
          120,
          0,
          45,
          30,
          0,
          40,
          8,
          0,
          0,
          0,
          50,
          70,
          35,
          100,
          232,
          20,
          60,
          64,
          24,
          24,
          0,
          4,
          0,
          32,
          0,
          6,
          0,
          60,
          5,
          50,
          5,
          65,
          80,
          27,
          12,
          12,
          10,
          20,
          0,
          33,
          10,
          15,
          9,
          0,
          16,
          2,
          2,
          8,
          55,
          10,
          0,
          150,
          0,
          50,
          0,
          80,
          30,
          75,
          73,
          35,
          6,
          2,
          3,
          0,
          15,
          28,
          40,
          4,
          8,
          28,
          10,
          0,
          16,
          0,
          0,
          48,
          0,
          30,
          25,
          35,
          45,
          16,
          18,
          15,
          18,
          5,
          12,
          10,
          0,
          0,
          25,
          47,
          3,
          10,
          50,
          10,
          30,
          10,
          110,
          25,
          100,
          0,
          0,
          44,
          25,
          12,
          40,
          20,
          0,
          15,
          25,
          15,
          2,
          25,
          268,
          0,
          0,
          4,
          20,
          96,
          43,
          20,
          20,
          20,
          20,
          20,
          20,
          20,
          10,
          150,
          1,
          1,
          0,
          40,
          0,
          80,
          20,
          12,
          20,
          24,
          100,
          46,
          46,
          0,
          10,
          120,
          0,
          6,
          6,
          0,
          38,
          30,
          76,
          12,
          0,
          10,
          0,
          160,
          0,
          0,
          6,
          8,
          80,
          6,
          6,
          0,
          27,
          0,
          0,
          24,
          16,
          2,
          2,
          5,
          0,
          7,
          6,
          4,
          4,
          4,
          4,
          4,
          6,
          10,
          11,
          15,
          3,
          3,
          4,
          4,
          40,
          35,
          40,
          3,
          4,
          48,
          20,
          0,
          90,
          20,
          40,
          40,
          2,
          4,
          45,
          30,
          0,
          30,
          32,
          39,
          20,
          30,
          0,
          0,
          0,
          30,
          0,
          0,
          30,
          30,
          42,
          90,
          8,
          8,
          50,
          17,
          12,
          30,
          0,
          0,
          10,
          20,
          15,
          43,
          20,
          0,
          0,
          16,
          0,
          0,
          25,
          10,
          100,
          20,
          0,
          34,
          30,
          33,
          0,
          20,
          0,
          15,
          20,
          0,
          15,
          50,
          30,
          50,
          0,
          65,
          0,
          40,
          10,
          0,
          0,
          2,
          0,
          0,
          25,
          0,
          40,
          35,
          54
         ],
         "xaxis": "x",
         "yaxis": "y"
        }
       ],
       "layout": {
        "barmode": "relative",
        "legend": {
         "tracegroupgap": 0
        },
        "margin": {
         "t": 60
        },
        "template": {
         "data": {
          "bar": [
           {
            "error_x": {
             "color": "#2a3f5f"
            },
            "error_y": {
             "color": "#2a3f5f"
            },
            "marker": {
             "line": {
              "color": "#E5ECF6",
              "width": 0.5
             }
            },
            "type": "bar"
           }
          ],
          "barpolar": [
           {
            "marker": {
             "line": {
              "color": "#E5ECF6",
              "width": 0.5
             }
            },
            "type": "barpolar"
           }
          ],
          "carpet": [
           {
            "aaxis": {
             "endlinecolor": "#2a3f5f",
             "gridcolor": "white",
             "linecolor": "white",
             "minorgridcolor": "white",
             "startlinecolor": "#2a3f5f"
            },
            "baxis": {
             "endlinecolor": "#2a3f5f",
             "gridcolor": "white",
             "linecolor": "white",
             "minorgridcolor": "white",
             "startlinecolor": "#2a3f5f"
            },
            "type": "carpet"
           }
          ],
          "choropleth": [
           {
            "colorbar": {
             "outlinewidth": 0,
             "ticks": ""
            },
            "type": "choropleth"
           }
          ],
          "contour": [
           {
            "colorbar": {
             "outlinewidth": 0,
             "ticks": ""
            },
            "colorscale": [
             [
              0,
              "#0d0887"
             ],
             [
              0.1111111111111111,
              "#46039f"
             ],
             [
              0.2222222222222222,
              "#7201a8"
             ],
             [
              0.3333333333333333,
              "#9c179e"
             ],
             [
              0.4444444444444444,
              "#bd3786"
             ],
             [
              0.5555555555555556,
              "#d8576b"
             ],
             [
              0.6666666666666666,
              "#ed7953"
             ],
             [
              0.7777777777777778,
              "#fb9f3a"
             ],
             [
              0.8888888888888888,
              "#fdca26"
             ],
             [
              1,
              "#f0f921"
             ]
            ],
            "type": "contour"
           }
          ],
          "contourcarpet": [
           {
            "colorbar": {
             "outlinewidth": 0,
             "ticks": ""
            },
            "type": "contourcarpet"
           }
          ],
          "heatmap": [
           {
            "colorbar": {
             "outlinewidth": 0,
             "ticks": ""
            },
            "colorscale": [
             [
              0,
              "#0d0887"
             ],
             [
              0.1111111111111111,
              "#46039f"
             ],
             [
              0.2222222222222222,
              "#7201a8"
             ],
             [
              0.3333333333333333,
              "#9c179e"
             ],
             [
              0.4444444444444444,
              "#bd3786"
             ],
             [
              0.5555555555555556,
              "#d8576b"
             ],
             [
              0.6666666666666666,
              "#ed7953"
             ],
             [
              0.7777777777777778,
              "#fb9f3a"
             ],
             [
              0.8888888888888888,
              "#fdca26"
             ],
             [
              1,
              "#f0f921"
             ]
            ],
            "type": "heatmap"
           }
          ],
          "heatmapgl": [
           {
            "colorbar": {
             "outlinewidth": 0,
             "ticks": ""
            },
            "colorscale": [
             [
              0,
              "#0d0887"
             ],
             [
              0.1111111111111111,
              "#46039f"
             ],
             [
              0.2222222222222222,
              "#7201a8"
             ],
             [
              0.3333333333333333,
              "#9c179e"
             ],
             [
              0.4444444444444444,
              "#bd3786"
             ],
             [
              0.5555555555555556,
              "#d8576b"
             ],
             [
              0.6666666666666666,
              "#ed7953"
             ],
             [
              0.7777777777777778,
              "#fb9f3a"
             ],
             [
              0.8888888888888888,
              "#fdca26"
             ],
             [
              1,
              "#f0f921"
             ]
            ],
            "type": "heatmapgl"
           }
          ],
          "histogram": [
           {
            "marker": {
             "colorbar": {
              "outlinewidth": 0,
              "ticks": ""
             }
            },
            "type": "histogram"
           }
          ],
          "histogram2d": [
           {
            "colorbar": {
             "outlinewidth": 0,
             "ticks": ""
            },
            "colorscale": [
             [
              0,
              "#0d0887"
             ],
             [
              0.1111111111111111,
              "#46039f"
             ],
             [
              0.2222222222222222,
              "#7201a8"
             ],
             [
              0.3333333333333333,
              "#9c179e"
             ],
             [
              0.4444444444444444,
              "#bd3786"
             ],
             [
              0.5555555555555556,
              "#d8576b"
             ],
             [
              0.6666666666666666,
              "#ed7953"
             ],
             [
              0.7777777777777778,
              "#fb9f3a"
             ],
             [
              0.8888888888888888,
              "#fdca26"
             ],
             [
              1,
              "#f0f921"
             ]
            ],
            "type": "histogram2d"
           }
          ],
          "histogram2dcontour": [
           {
            "colorbar": {
             "outlinewidth": 0,
             "ticks": ""
            },
            "colorscale": [
             [
              0,
              "#0d0887"
             ],
             [
              0.1111111111111111,
              "#46039f"
             ],
             [
              0.2222222222222222,
              "#7201a8"
             ],
             [
              0.3333333333333333,
              "#9c179e"
             ],
             [
              0.4444444444444444,
              "#bd3786"
             ],
             [
              0.5555555555555556,
              "#d8576b"
             ],
             [
              0.6666666666666666,
              "#ed7953"
             ],
             [
              0.7777777777777778,
              "#fb9f3a"
             ],
             [
              0.8888888888888888,
              "#fdca26"
             ],
             [
              1,
              "#f0f921"
             ]
            ],
            "type": "histogram2dcontour"
           }
          ],
          "mesh3d": [
           {
            "colorbar": {
             "outlinewidth": 0,
             "ticks": ""
            },
            "type": "mesh3d"
           }
          ],
          "parcoords": [
           {
            "line": {
             "colorbar": {
              "outlinewidth": 0,
              "ticks": ""
             }
            },
            "type": "parcoords"
           }
          ],
          "pie": [
           {
            "automargin": true,
            "type": "pie"
           }
          ],
          "scatter": [
           {
            "marker": {
             "colorbar": {
              "outlinewidth": 0,
              "ticks": ""
             }
            },
            "type": "scatter"
           }
          ],
          "scatter3d": [
           {
            "line": {
             "colorbar": {
              "outlinewidth": 0,
              "ticks": ""
             }
            },
            "marker": {
             "colorbar": {
              "outlinewidth": 0,
              "ticks": ""
             }
            },
            "type": "scatter3d"
           }
          ],
          "scattercarpet": [
           {
            "marker": {
             "colorbar": {
              "outlinewidth": 0,
              "ticks": ""
             }
            },
            "type": "scattercarpet"
           }
          ],
          "scattergeo": [
           {
            "marker": {
             "colorbar": {
              "outlinewidth": 0,
              "ticks": ""
             }
            },
            "type": "scattergeo"
           }
          ],
          "scattergl": [
           {
            "marker": {
             "colorbar": {
              "outlinewidth": 0,
              "ticks": ""
             }
            },
            "type": "scattergl"
           }
          ],
          "scattermapbox": [
           {
            "marker": {
             "colorbar": {
              "outlinewidth": 0,
              "ticks": ""
             }
            },
            "type": "scattermapbox"
           }
          ],
          "scatterpolar": [
           {
            "marker": {
             "colorbar": {
              "outlinewidth": 0,
              "ticks": ""
             }
            },
            "type": "scatterpolar"
           }
          ],
          "scatterpolargl": [
           {
            "marker": {
             "colorbar": {
              "outlinewidth": 0,
              "ticks": ""
             }
            },
            "type": "scatterpolargl"
           }
          ],
          "scatterternary": [
           {
            "marker": {
             "colorbar": {
              "outlinewidth": 0,
              "ticks": ""
             }
            },
            "type": "scatterternary"
           }
          ],
          "surface": [
           {
            "colorbar": {
             "outlinewidth": 0,
             "ticks": ""
            },
            "colorscale": [
             [
              0,
              "#0d0887"
             ],
             [
              0.1111111111111111,
              "#46039f"
             ],
             [
              0.2222222222222222,
              "#7201a8"
             ],
             [
              0.3333333333333333,
              "#9c179e"
             ],
             [
              0.4444444444444444,
              "#bd3786"
             ],
             [
              0.5555555555555556,
              "#d8576b"
             ],
             [
              0.6666666666666666,
              "#ed7953"
             ],
             [
              0.7777777777777778,
              "#fb9f3a"
             ],
             [
              0.8888888888888888,
              "#fdca26"
             ],
             [
              1,
              "#f0f921"
             ]
            ],
            "type": "surface"
           }
          ],
          "table": [
           {
            "cells": {
             "fill": {
              "color": "#EBF0F8"
             },
             "line": {
              "color": "white"
             }
            },
            "header": {
             "fill": {
              "color": "#C8D4E3"
             },
             "line": {
              "color": "white"
             }
            },
            "type": "table"
           }
          ]
         },
         "layout": {
          "annotationdefaults": {
           "arrowcolor": "#2a3f5f",
           "arrowhead": 0,
           "arrowwidth": 1
          },
          "coloraxis": {
           "colorbar": {
            "outlinewidth": 0,
            "ticks": ""
           }
          },
          "colorscale": {
           "diverging": [
            [
             0,
             "#8e0152"
            ],
            [
             0.1,
             "#c51b7d"
            ],
            [
             0.2,
             "#de77ae"
            ],
            [
             0.3,
             "#f1b6da"
            ],
            [
             0.4,
             "#fde0ef"
            ],
            [
             0.5,
             "#f7f7f7"
            ],
            [
             0.6,
             "#e6f5d0"
            ],
            [
             0.7,
             "#b8e186"
            ],
            [
             0.8,
             "#7fbc41"
            ],
            [
             0.9,
             "#4d9221"
            ],
            [
             1,
             "#276419"
            ]
           ],
           "sequential": [
            [
             0,
             "#0d0887"
            ],
            [
             0.1111111111111111,
             "#46039f"
            ],
            [
             0.2222222222222222,
             "#7201a8"
            ],
            [
             0.3333333333333333,
             "#9c179e"
            ],
            [
             0.4444444444444444,
             "#bd3786"
            ],
            [
             0.5555555555555556,
             "#d8576b"
            ],
            [
             0.6666666666666666,
             "#ed7953"
            ],
            [
             0.7777777777777778,
             "#fb9f3a"
            ],
            [
             0.8888888888888888,
             "#fdca26"
            ],
            [
             1,
             "#f0f921"
            ]
           ],
           "sequentialminus": [
            [
             0,
             "#0d0887"
            ],
            [
             0.1111111111111111,
             "#46039f"
            ],
            [
             0.2222222222222222,
             "#7201a8"
            ],
            [
             0.3333333333333333,
             "#9c179e"
            ],
            [
             0.4444444444444444,
             "#bd3786"
            ],
            [
             0.5555555555555556,
             "#d8576b"
            ],
            [
             0.6666666666666666,
             "#ed7953"
            ],
            [
             0.7777777777777778,
             "#fb9f3a"
            ],
            [
             0.8888888888888888,
             "#fdca26"
            ],
            [
             1,
             "#f0f921"
            ]
           ]
          },
          "colorway": [
           "#636efa",
           "#EF553B",
           "#00cc96",
           "#ab63fa",
           "#FFA15A",
           "#19d3f3",
           "#FF6692",
           "#B6E880",
           "#FF97FF",
           "#FECB52"
          ],
          "font": {
           "color": "#2a3f5f"
          },
          "geo": {
           "bgcolor": "white",
           "lakecolor": "white",
           "landcolor": "#E5ECF6",
           "showlakes": true,
           "showland": true,
           "subunitcolor": "white"
          },
          "hoverlabel": {
           "align": "left"
          },
          "hovermode": "closest",
          "mapbox": {
           "style": "light"
          },
          "paper_bgcolor": "white",
          "plot_bgcolor": "#E5ECF6",
          "polar": {
           "angularaxis": {
            "gridcolor": "white",
            "linecolor": "white",
            "ticks": ""
           },
           "bgcolor": "#E5ECF6",
           "radialaxis": {
            "gridcolor": "white",
            "linecolor": "white",
            "ticks": ""
           }
          },
          "scene": {
           "xaxis": {
            "backgroundcolor": "#E5ECF6",
            "gridcolor": "white",
            "gridwidth": 2,
            "linecolor": "white",
            "showbackground": true,
            "ticks": "",
            "zerolinecolor": "white"
           },
           "yaxis": {
            "backgroundcolor": "#E5ECF6",
            "gridcolor": "white",
            "gridwidth": 2,
            "linecolor": "white",
            "showbackground": true,
            "ticks": "",
            "zerolinecolor": "white"
           },
           "zaxis": {
            "backgroundcolor": "#E5ECF6",
            "gridcolor": "white",
            "gridwidth": 2,
            "linecolor": "white",
            "showbackground": true,
            "ticks": "",
            "zerolinecolor": "white"
           }
          },
          "shapedefaults": {
           "line": {
            "color": "#2a3f5f"
           }
          },
          "ternary": {
           "aaxis": {
            "gridcolor": "white",
            "linecolor": "white",
            "ticks": ""
           },
           "baxis": {
            "gridcolor": "white",
            "linecolor": "white",
            "ticks": ""
           },
           "bgcolor": "#E5ECF6",
           "caxis": {
            "gridcolor": "white",
            "linecolor": "white",
            "ticks": ""
           }
          },
          "title": {
           "x": 0.05
          },
          "xaxis": {
           "automargin": true,
           "gridcolor": "white",
           "linecolor": "white",
           "ticks": "",
           "title": {
            "standoff": 15
           },
           "zerolinecolor": "white",
           "zerolinewidth": 2
          },
          "yaxis": {
           "automargin": true,
           "gridcolor": "white",
           "linecolor": "white",
           "ticks": "",
           "title": {
            "standoff": 15
           },
           "zerolinecolor": "white",
           "zerolinewidth": 2
          }
         }
        },
        "title": {
         "text": "График частотности количества посадочных мест на улицах с большим количеством заведений"
        },
        "xaxis": {
         "anchor": "y",
         "domain": [
          0,
          1
         ],
         "title": {
          "text": "число посадочных мест"
         }
        },
        "yaxis": {
         "anchor": "x",
         "domain": [
          0,
          1
         ],
         "title": {
          "text": "count"
         }
        }
       }
      },
      "text/html": [
       "<div>\n",
       "        \n",
       "        \n",
       "            <div id=\"8a4ebc38-2f14-4291-9fbb-e72cb49f7737\" class=\"plotly-graph-div\" style=\"height:525px; width:100%;\"></div>\n",
       "            <script type=\"text/javascript\">\n",
       "                require([\"plotly\"], function(Plotly) {\n",
       "                    window.PLOTLYENV=window.PLOTLYENV || {};\n",
       "                    \n",
       "                if (document.getElementById(\"8a4ebc38-2f14-4291-9fbb-e72cb49f7737\")) {\n",
       "                    Plotly.newPlot(\n",
       "                        '8a4ebc38-2f14-4291-9fbb-e72cb49f7737',\n",
       "                        [{\"alignmentgroup\": \"True\", \"bingroup\": \"x\", \"hovertemplate\": \"\\u0447\\u0438\\u0441\\u043b\\u043e \\u043f\\u043e\\u0441\\u0430\\u0434\\u043e\\u0447\\u043d\\u044b\\u0445 \\u043c\\u0435\\u0441\\u0442=%{x}<br>count=%{y}<extra></extra>\", \"legendgroup\": \"\", \"marker\": {\"color\": \"#636efa\"}, \"name\": \"\", \"offsetgroup\": \"\", \"orientation\": \"v\", \"showlegend\": false, \"type\": \"histogram\", \"x\": [150, 36, 30, 0, 2, 70, 42, 5, 8, 10, 50, 10, 240, 40, 60, 30, 40, 24, 20, 90, 40, 200, 50, 24, 40, 20, 240, 250, 96, 3, 12, 100, 12, 60, 40, 50, 15, 32, 23, 56, 80, 65, 48, 16, 70, 28, 45, 20, 150, 40, 150, 41, 2, 37, 48, 26, 45, 70, 4, 98, 98, 15, 80, 160, 6, 0, 71, 120, 80, 4, 12, 96, 60, 70, 43, 40, 46, 80, 80, 80, 4, 68, 88, 88, 96, 10, 80, 10, 75, 36, 22, 50, 10, 64, 40, 25, 36, 16, 32, 40, 20, 60, 40, 85, 20, 35, 24, 50, 70, 143, 100, 25, 150, 0, 130, 22, 98, 150, 125, 74, 10, 41, 0, 200, 12, 30, 40, 60, 48, 120, 70, 30, 16, 20, 10, 100, 75, 16, 47, 95, 90, 45, 65, 50, 15, 18, 40, 18, 200, 75, 25, 10, 15, 45, 35, 70, 42, 380, 26, 43, 80, 220, 118, 150, 92, 198, 90, 0, 38, 15, 20, 10, 50, 48, 98, 45, 50, 30, 86, 46, 60, 60, 74, 24, 290, 28, 40, 80, 40, 80, 97, 20, 13, 10, 50, 10, 0, 90, 144, 0, 100, 90, 50, 46, 60, 97, 300, 70, 240, 100, 40, 0, 300, 240, 200, 300, 240, 300, 240, 300, 240, 300, 170, 0, 40, 50, 25, 52, 30, 220, 200, 80, 250, 100, 328, 60, 32, 20, 80, 60, 50, 40, 50, 14, 96, 92, 68, 80, 60, 100, 95, 100, 120, 200, 20, 50, 200, 100, 200, 50, 40, 12, 150, 200, 150, 80, 40, 20, 57, 50, 106, 70, 90, 25, 40, 20, 40, 60, 15, 50, 53, 30, 64, 2, 40, 90, 80, 50, 70, 100, 45, 40, 15, 90, 40, 40, 60, 100, 200, 180, 80, 28, 42, 42, 40, 0, 200, 40, 680, 0, 80, 140, 65, 40, 60, 30, 24, 60, 36, 130, 50, 20, 50, 50, 35, 110, 100, 150, 100, 150, 25, 250, 250, 127, 50, 64, 28, 100, 90, 40, 10, 200, 104, 168, 1200, 200, 200, 200, 50, 68, 200, 92, 50, 250, 80, 45, 48, 100, 120, 23, 70, 32, 190, 95, 95, 45, 200, 95, 90, 110, 20, 40, 40, 20, 52, 60, 200, 273, 44, 92, 128, 80, 225, 95, 45, 80, 25, 110, 86, 198, 218, 16, 10, 12, 96, 136, 100, 20, 165, 150, 173, 150, 20, 40, 50, 50, 23, 92, 70, 56, 68, 100, 250, 60, 48, 20, 90, 45, 150, 80, 16, 50, 50, 150, 109, 90, 56, 50, 50, 150, 32, 160, 300, 240, 150, 35, 80, 54, 55, 20, 20, 20, 190, 89, 10, 40, 80, 20, 86, 50, 15, 40, 12, 4, 12, 70, 24, 56, 0, 75, 70, 0, 70, 50, 0, 0, 0, 24, 50, 90, 180, 120, 55, 150, 120, 60, 100, 120, 12, 30, 20, 25, 4, 98, 30, 40, 72, 68, 70, 40, 90, 60, 100, 12, 150, 24, 95, 200, 210, 240, 100, 100, 20, 20, 10, 30, 98, 5, 80, 40, 40, 49, 250, 165, 94, 140, 140, 495, 80, 186, 30, 40, 24, 40, 85, 36, 40, 40, 50, 40, 80, 48, 90, 10, 19, 24, 150, 84, 90, 120, 180, 10, 9, 46, 74, 20, 15, 60, 96, 42, 35, 100, 50, 40, 40, 98, 40, 98, 35, 30, 92, 96, 96, 90, 100, 120, 150, 154, 98, 160, 134, 50, 60, 86, 255, 86, 85, 47, 90, 45, 90, 83, 12, 60, 25, 20, 60, 2, 20, 54, 300, 36, 95, 60, 80, 625, 78, 120, 180, 40, 20, 60, 67, 46, 96, 30, 60, 56, 40, 250, 70, 160, 50, 16, 200, 80, 25, 60, 80, 30, 300, 10, 98, 55, 46, 0, 36, 292, 46, 24, 48, 46, 24, 30, 40, 80, 12, 350, 15, 75, 75, 40, 10, 5, 20, 120, 64, 64, 40, 102, 48, 95, 110, 46, 46, 28, 92, 20, 54, 180, 46, 44, 96, 80, 500, 56, 60, 60, 0, 15, 5, 47, 5, 5, 6, 87, 87, 160, 87, 87, 86, 87, 20, 7, 98, 90, 24, 98, 98, 20, 70, 80, 60, 24, 24, 176, 24, 12, 21, 21, 20, 25, 30, 55, 25, 120, 152, 250, 80, 160, 80, 25, 10, 6, 12, 80, 30, 180, 97, 10, 12, 8, 10, 8, 15, 13, 15, 70, 80, 50, 54, 40, 20, 185, 40, 80, 300, 80, 48, 237, 88, 140, 32, 250, 30, 150, 100, 65, 60, 80, 60, 30, 30, 30, 45, 5, 120, 350, 50, 10, 60, 50, 50, 50, 60, 30, 0, 30, 50, 38, 60, 10, 60, 60, 60, 60, 60, 40, 100, 0, 0, 60, 70, 0, 30, 20, 20, 30, 30, 10, 96, 30, 30, 60, 20, 30, 49, 220, 40, 16, 20, 50, 34, 2, 20, 24, 91, 30, 30, 70, 50, 25, 78, 30, 40, 4, 18, 3, 40, 6, 1288, 160, 200, 82, 40, 172, 200, 0, 45, 50, 10, 0, 18, 0, 98, 86, 30, 10, 125, 84, 65, 8, 40, 50, 36, 45, 60, 30, 35, 60, 12, 8, 10, 80, 70, 38, 6, 24, 24, 6, 95, 8, 20, 478, 43, 16, 36, 145, 25, 20, 50, 6, 25, 9, 120, 250, 10, 40, 20, 25, 0, 60, 45, 64, 160, 130, 32, 60, 32, 37, 35, 45, 60, 10, 15, 48, 40, 50, 0, 0, 10, 0, 4, 14, 22, 15, 20, 0, 0, 50, 42, 20, 40, 30, 120, 7, 158, 140, 57, 0, 12, 0, 2, 0, 48, 30, 0, 100, 200, 60, 4, 18, 40, 40, 30, 20, 36, 0, 0, 0, 0, 0, 0, 4, 28, 15, 90, 45, 15, 44, 96, 22, 56, 1, 2, 40, 5, 0, 2, 25, 0, 120, 45, 8, 15, 2, 0, 20, 14, 10, 100, 30, 326, 0, 9, 0, 4, 20, 120, 2, 20, 20, 22, 300, 24, 0, 5, 5, 12, 4, 0, 120, 40, 170, 64, 28, 10, 0, 0, 49, 0, 9, 0, 35, 10, 14, 60, 14, 65, 6, 5, 5, 25, 8, 21, 24, 30, 24, 6, 8, 70, 45, 95, 30, 24, 26, 0, 44, 24, 60, 24, 38, 80, 45, 30, 40, 4, 5, 0, 12, 30, 12, 0, 1, 80, 0, 140, 105, 27, 4, 8, 0, 80, 50, 35, 50, 30, 25, 0, 60, 0, 50, 0, 12, 7, 32, 20, 26, 150, 150, 13, 90, 57, 20, 31, 2, 5, 7, 35, 20, 15, 41, 45, 45, 12, 50, 24, 15, 18, 4, 6, 20, 230, 40, 30, 100, 58, 37, 34, 80, 45, 60, 30, 20, 45, 60, 40, 0, 0, 0, 0, 60, 58, 26, 150, 10, 20, 16, 20, 15, 3, 0, 12, 60, 10, 12, 24, 0, 40, 70, 60, 30, 138, 0, 10, 35, 25, 95, 72, 20, 0, 0, 30, 25, 150, 40, 42, 40, 15, 20, 5, 20, 0, 20, 0, 0, 0, 0, 3, 4, 40, 0, 20, 35, 24, 4, 32, 25, 5, 47, 40, 0, 12, 40, 0, 0, 12, 0, 0, 0, 0, 14, 2, 30, 64, 32, 2, 0, 45, 16, 6, 0, 80, 1700, 10, 15, 4, 0, 20, 50, 0, 0, 15, 0, 20, 0, 0, 0, 0, 0, 0, 0, 0, 15, 0, 15, 0, 0, 155, 30, 16, 50, 10, 120, 0, 45, 30, 0, 40, 8, 0, 0, 0, 50, 70, 35, 100, 232, 20, 60, 64, 24, 24, 0, 4, 0, 32, 0, 6, 0, 60, 5, 50, 5, 65, 80, 27, 12, 12, 10, 20, 0, 33, 10, 15, 9, 0, 16, 2, 2, 8, 55, 10, 0, 150, 0, 50, 0, 80, 30, 75, 73, 35, 6, 2, 3, 0, 15, 28, 40, 4, 8, 28, 10, 0, 16, 0, 0, 48, 0, 30, 25, 35, 45, 16, 18, 15, 18, 5, 12, 10, 0, 0, 25, 47, 3, 10, 50, 10, 30, 10, 110, 25, 100, 0, 0, 44, 25, 12, 40, 20, 0, 15, 25, 15, 2, 25, 268, 0, 0, 4, 20, 96, 43, 20, 20, 20, 20, 20, 20, 20, 10, 150, 1, 1, 0, 40, 0, 80, 20, 12, 20, 24, 100, 46, 46, 0, 10, 120, 0, 6, 6, 0, 38, 30, 76, 12, 0, 10, 0, 160, 0, 0, 6, 8, 80, 6, 6, 0, 27, 0, 0, 24, 16, 2, 2, 5, 0, 7, 6, 4, 4, 4, 4, 4, 6, 10, 11, 15, 3, 3, 4, 4, 40, 35, 40, 3, 4, 48, 20, 0, 90, 20, 40, 40, 2, 4, 45, 30, 0, 30, 32, 39, 20, 30, 0, 0, 0, 30, 0, 0, 30, 30, 42, 90, 8, 8, 50, 17, 12, 30, 0, 0, 10, 20, 15, 43, 20, 0, 0, 16, 0, 0, 25, 10, 100, 20, 0, 34, 30, 33, 0, 20, 0, 15, 20, 0, 15, 50, 30, 50, 0, 65, 0, 40, 10, 0, 0, 2, 0, 0, 25, 0, 40, 35, 54], \"xaxis\": \"x\", \"yaxis\": \"y\"}],\n",
       "                        {\"barmode\": \"relative\", \"legend\": {\"tracegroupgap\": 0}, \"margin\": {\"t\": 60}, \"template\": {\"data\": {\"bar\": [{\"error_x\": {\"color\": \"#2a3f5f\"}, \"error_y\": {\"color\": \"#2a3f5f\"}, \"marker\": {\"line\": {\"color\": \"#E5ECF6\", \"width\": 0.5}}, \"type\": \"bar\"}], \"barpolar\": [{\"marker\": {\"line\": {\"color\": \"#E5ECF6\", \"width\": 0.5}}, \"type\": \"barpolar\"}], \"carpet\": [{\"aaxis\": {\"endlinecolor\": \"#2a3f5f\", \"gridcolor\": \"white\", \"linecolor\": \"white\", \"minorgridcolor\": \"white\", \"startlinecolor\": \"#2a3f5f\"}, \"baxis\": {\"endlinecolor\": \"#2a3f5f\", \"gridcolor\": \"white\", \"linecolor\": \"white\", \"minorgridcolor\": \"white\", \"startlinecolor\": \"#2a3f5f\"}, \"type\": \"carpet\"}], \"choropleth\": [{\"colorbar\": {\"outlinewidth\": 0, \"ticks\": \"\"}, \"type\": \"choropleth\"}], \"contour\": [{\"colorbar\": {\"outlinewidth\": 0, \"ticks\": \"\"}, \"colorscale\": [[0.0, \"#0d0887\"], [0.1111111111111111, \"#46039f\"], [0.2222222222222222, \"#7201a8\"], [0.3333333333333333, \"#9c179e\"], [0.4444444444444444, \"#bd3786\"], [0.5555555555555556, \"#d8576b\"], [0.6666666666666666, \"#ed7953\"], [0.7777777777777778, \"#fb9f3a\"], [0.8888888888888888, \"#fdca26\"], [1.0, \"#f0f921\"]], \"type\": \"contour\"}], \"contourcarpet\": [{\"colorbar\": {\"outlinewidth\": 0, \"ticks\": \"\"}, \"type\": \"contourcarpet\"}], \"heatmap\": [{\"colorbar\": {\"outlinewidth\": 0, \"ticks\": \"\"}, \"colorscale\": [[0.0, \"#0d0887\"], [0.1111111111111111, \"#46039f\"], [0.2222222222222222, \"#7201a8\"], [0.3333333333333333, \"#9c179e\"], [0.4444444444444444, \"#bd3786\"], [0.5555555555555556, \"#d8576b\"], [0.6666666666666666, \"#ed7953\"], [0.7777777777777778, \"#fb9f3a\"], [0.8888888888888888, \"#fdca26\"], [1.0, \"#f0f921\"]], \"type\": \"heatmap\"}], \"heatmapgl\": [{\"colorbar\": {\"outlinewidth\": 0, \"ticks\": \"\"}, \"colorscale\": [[0.0, \"#0d0887\"], [0.1111111111111111, \"#46039f\"], [0.2222222222222222, \"#7201a8\"], [0.3333333333333333, \"#9c179e\"], [0.4444444444444444, \"#bd3786\"], [0.5555555555555556, \"#d8576b\"], [0.6666666666666666, \"#ed7953\"], [0.7777777777777778, \"#fb9f3a\"], [0.8888888888888888, \"#fdca26\"], [1.0, \"#f0f921\"]], \"type\": \"heatmapgl\"}], \"histogram\": [{\"marker\": {\"colorbar\": {\"outlinewidth\": 0, \"ticks\": \"\"}}, \"type\": \"histogram\"}], \"histogram2d\": [{\"colorbar\": {\"outlinewidth\": 0, \"ticks\": \"\"}, \"colorscale\": [[0.0, \"#0d0887\"], [0.1111111111111111, \"#46039f\"], [0.2222222222222222, \"#7201a8\"], [0.3333333333333333, \"#9c179e\"], [0.4444444444444444, \"#bd3786\"], [0.5555555555555556, \"#d8576b\"], [0.6666666666666666, \"#ed7953\"], [0.7777777777777778, \"#fb9f3a\"], [0.8888888888888888, \"#fdca26\"], [1.0, \"#f0f921\"]], \"type\": \"histogram2d\"}], \"histogram2dcontour\": [{\"colorbar\": {\"outlinewidth\": 0, \"ticks\": \"\"}, \"colorscale\": [[0.0, \"#0d0887\"], [0.1111111111111111, \"#46039f\"], [0.2222222222222222, \"#7201a8\"], [0.3333333333333333, \"#9c179e\"], [0.4444444444444444, \"#bd3786\"], [0.5555555555555556, \"#d8576b\"], [0.6666666666666666, \"#ed7953\"], [0.7777777777777778, \"#fb9f3a\"], [0.8888888888888888, \"#fdca26\"], [1.0, \"#f0f921\"]], \"type\": \"histogram2dcontour\"}], \"mesh3d\": [{\"colorbar\": {\"outlinewidth\": 0, \"ticks\": \"\"}, \"type\": \"mesh3d\"}], \"parcoords\": [{\"line\": {\"colorbar\": {\"outlinewidth\": 0, \"ticks\": \"\"}}, \"type\": \"parcoords\"}], \"pie\": [{\"automargin\": true, \"type\": \"pie\"}], \"scatter\": [{\"marker\": {\"colorbar\": {\"outlinewidth\": 0, \"ticks\": \"\"}}, \"type\": \"scatter\"}], \"scatter3d\": [{\"line\": {\"colorbar\": {\"outlinewidth\": 0, \"ticks\": \"\"}}, \"marker\": {\"colorbar\": {\"outlinewidth\": 0, \"ticks\": \"\"}}, \"type\": \"scatter3d\"}], \"scattercarpet\": [{\"marker\": {\"colorbar\": {\"outlinewidth\": 0, \"ticks\": \"\"}}, \"type\": \"scattercarpet\"}], \"scattergeo\": [{\"marker\": {\"colorbar\": {\"outlinewidth\": 0, \"ticks\": \"\"}}, \"type\": \"scattergeo\"}], \"scattergl\": [{\"marker\": {\"colorbar\": {\"outlinewidth\": 0, \"ticks\": \"\"}}, \"type\": \"scattergl\"}], \"scattermapbox\": [{\"marker\": {\"colorbar\": {\"outlinewidth\": 0, \"ticks\": \"\"}}, \"type\": \"scattermapbox\"}], \"scatterpolar\": [{\"marker\": {\"colorbar\": {\"outlinewidth\": 0, \"ticks\": \"\"}}, \"type\": \"scatterpolar\"}], \"scatterpolargl\": [{\"marker\": {\"colorbar\": {\"outlinewidth\": 0, \"ticks\": \"\"}}, \"type\": \"scatterpolargl\"}], \"scatterternary\": [{\"marker\": {\"colorbar\": {\"outlinewidth\": 0, \"ticks\": \"\"}}, \"type\": \"scatterternary\"}], \"surface\": [{\"colorbar\": {\"outlinewidth\": 0, \"ticks\": \"\"}, \"colorscale\": [[0.0, \"#0d0887\"], [0.1111111111111111, \"#46039f\"], [0.2222222222222222, \"#7201a8\"], [0.3333333333333333, \"#9c179e\"], [0.4444444444444444, \"#bd3786\"], [0.5555555555555556, \"#d8576b\"], [0.6666666666666666, \"#ed7953\"], [0.7777777777777778, \"#fb9f3a\"], [0.8888888888888888, \"#fdca26\"], [1.0, \"#f0f921\"]], \"type\": \"surface\"}], \"table\": [{\"cells\": {\"fill\": {\"color\": \"#EBF0F8\"}, \"line\": {\"color\": \"white\"}}, \"header\": {\"fill\": {\"color\": \"#C8D4E3\"}, \"line\": {\"color\": \"white\"}}, \"type\": \"table\"}]}, \"layout\": {\"annotationdefaults\": {\"arrowcolor\": \"#2a3f5f\", \"arrowhead\": 0, \"arrowwidth\": 1}, \"coloraxis\": {\"colorbar\": {\"outlinewidth\": 0, \"ticks\": \"\"}}, \"colorscale\": {\"diverging\": [[0, \"#8e0152\"], [0.1, \"#c51b7d\"], [0.2, \"#de77ae\"], [0.3, \"#f1b6da\"], [0.4, \"#fde0ef\"], [0.5, \"#f7f7f7\"], [0.6, \"#e6f5d0\"], [0.7, \"#b8e186\"], [0.8, \"#7fbc41\"], [0.9, \"#4d9221\"], [1, \"#276419\"]], \"sequential\": [[0.0, \"#0d0887\"], [0.1111111111111111, \"#46039f\"], [0.2222222222222222, \"#7201a8\"], [0.3333333333333333, \"#9c179e\"], [0.4444444444444444, \"#bd3786\"], [0.5555555555555556, \"#d8576b\"], [0.6666666666666666, \"#ed7953\"], [0.7777777777777778, \"#fb9f3a\"], [0.8888888888888888, \"#fdca26\"], [1.0, \"#f0f921\"]], \"sequentialminus\": [[0.0, \"#0d0887\"], [0.1111111111111111, \"#46039f\"], [0.2222222222222222, \"#7201a8\"], [0.3333333333333333, \"#9c179e\"], [0.4444444444444444, \"#bd3786\"], [0.5555555555555556, \"#d8576b\"], [0.6666666666666666, \"#ed7953\"], [0.7777777777777778, \"#fb9f3a\"], [0.8888888888888888, \"#fdca26\"], [1.0, \"#f0f921\"]]}, \"colorway\": [\"#636efa\", \"#EF553B\", \"#00cc96\", \"#ab63fa\", \"#FFA15A\", \"#19d3f3\", \"#FF6692\", \"#B6E880\", \"#FF97FF\", \"#FECB52\"], \"font\": {\"color\": \"#2a3f5f\"}, \"geo\": {\"bgcolor\": \"white\", \"lakecolor\": \"white\", \"landcolor\": \"#E5ECF6\", \"showlakes\": true, \"showland\": true, \"subunitcolor\": \"white\"}, \"hoverlabel\": {\"align\": \"left\"}, \"hovermode\": \"closest\", \"mapbox\": {\"style\": \"light\"}, \"paper_bgcolor\": \"white\", \"plot_bgcolor\": \"#E5ECF6\", \"polar\": {\"angularaxis\": {\"gridcolor\": \"white\", \"linecolor\": \"white\", \"ticks\": \"\"}, \"bgcolor\": \"#E5ECF6\", \"radialaxis\": {\"gridcolor\": \"white\", \"linecolor\": \"white\", \"ticks\": \"\"}}, \"scene\": {\"xaxis\": {\"backgroundcolor\": \"#E5ECF6\", \"gridcolor\": \"white\", \"gridwidth\": 2, \"linecolor\": \"white\", \"showbackground\": true, \"ticks\": \"\", \"zerolinecolor\": \"white\"}, \"yaxis\": {\"backgroundcolor\": \"#E5ECF6\", \"gridcolor\": \"white\", \"gridwidth\": 2, \"linecolor\": \"white\", \"showbackground\": true, \"ticks\": \"\", \"zerolinecolor\": \"white\"}, \"zaxis\": {\"backgroundcolor\": \"#E5ECF6\", \"gridcolor\": \"white\", \"gridwidth\": 2, \"linecolor\": \"white\", \"showbackground\": true, \"ticks\": \"\", \"zerolinecolor\": \"white\"}}, \"shapedefaults\": {\"line\": {\"color\": \"#2a3f5f\"}}, \"ternary\": {\"aaxis\": {\"gridcolor\": \"white\", \"linecolor\": \"white\", \"ticks\": \"\"}, \"baxis\": {\"gridcolor\": \"white\", \"linecolor\": \"white\", \"ticks\": \"\"}, \"bgcolor\": \"#E5ECF6\", \"caxis\": {\"gridcolor\": \"white\", \"linecolor\": \"white\", \"ticks\": \"\"}}, \"title\": {\"x\": 0.05}, \"xaxis\": {\"automargin\": true, \"gridcolor\": \"white\", \"linecolor\": \"white\", \"ticks\": \"\", \"title\": {\"standoff\": 15}, \"zerolinecolor\": \"white\", \"zerolinewidth\": 2}, \"yaxis\": {\"automargin\": true, \"gridcolor\": \"white\", \"linecolor\": \"white\", \"ticks\": \"\", \"title\": {\"standoff\": 15}, \"zerolinecolor\": \"white\", \"zerolinewidth\": 2}}}, \"title\": {\"text\": \"\\u0413\\u0440\\u0430\\u0444\\u0438\\u043a \\u0447\\u0430\\u0441\\u0442\\u043e\\u0442\\u043d\\u043e\\u0441\\u0442\\u0438 \\u043a\\u043e\\u043b\\u0438\\u0447\\u0435\\u0441\\u0442\\u0432\\u0430 \\u043f\\u043e\\u0441\\u0430\\u0434\\u043e\\u0447\\u043d\\u044b\\u0445 \\u043c\\u0435\\u0441\\u0442 \\u043d\\u0430 \\u0443\\u043b\\u0438\\u0446\\u0430\\u0445 \\u0441 \\u0431\\u043e\\u043b\\u044c\\u0448\\u0438\\u043c \\u043a\\u043e\\u043b\\u0438\\u0447\\u0435\\u0441\\u0442\\u0432\\u043e\\u043c \\u0437\\u0430\\u0432\\u0435\\u0434\\u0435\\u043d\\u0438\\u0439\"}, \"xaxis\": {\"anchor\": \"y\", \"domain\": [0.0, 1.0], \"title\": {\"text\": \"\\u0447\\u0438\\u0441\\u043b\\u043e \\u043f\\u043e\\u0441\\u0430\\u0434\\u043e\\u0447\\u043d\\u044b\\u0445 \\u043c\\u0435\\u0441\\u0442\"}}, \"yaxis\": {\"anchor\": \"x\", \"domain\": [0.0, 1.0], \"title\": {\"text\": \"count\"}}},\n",
       "                        {\"responsive\": true}\n",
       "                    ).then(function(){\n",
       "                            \n",
       "var gd = document.getElementById('8a4ebc38-2f14-4291-9fbb-e72cb49f7737');\n",
       "var x = new MutationObserver(function (mutations, observer) {{\n",
       "        var display = window.getComputedStyle(gd).display;\n",
       "        if (!display || display === 'none') {{\n",
       "            console.log([gd, 'removed!']);\n",
       "            Plotly.purge(gd);\n",
       "            observer.disconnect();\n",
       "        }}\n",
       "}});\n",
       "\n",
       "// Listen for the removal of the full notebook cells\n",
       "var notebookContainer = gd.closest('#notebook-container');\n",
       "if (notebookContainer) {{\n",
       "    x.observe(notebookContainer, {childList: true});\n",
       "}}\n",
       "\n",
       "// Listen for the clearing of the current output cell\n",
       "var outputEl = gd.closest('.output');\n",
       "if (outputEl) {{\n",
       "    x.observe(outputEl, {childList: true});\n",
       "}}\n",
       "\n",
       "                        })\n",
       "                };\n",
       "                });\n",
       "            </script>\n",
       "        </div>"
      ]
     },
     "metadata": {},
     "output_type": "display_data"
    }
   ],
   "source": [
    "fig = px.histogram(df.query('street in @str_msk.street & type_street in @str_msk.type_street'), \n",
    "                   x='number', labels={'number':'число посадочных мест'})\n",
    "fig.update_layout(title_text='График частотности количества посадочных мест на улицах с большим количеством заведений')\n",
    "fig.show()"
   ]
  },
  {
   "cell_type": "code",
   "execution_count": 68,
   "metadata": {
    "scrolled": false
   },
   "outputs": [
    {
     "data": {
      "image/png": "[encoded data removed]",
      "text/plain": [
       "<Figure size 720x576 with 1 Axes>"
      ]
     },
     "metadata": {
      "needs_background": "light"
     },
     "output_type": "display_data"
    }
   ],
   "source": [
    "fig = plt.subplots(figsize=(10, 8))\n",
    "sns.boxplot(y=\"number\", data=df.query('street in @str_msk.street & type_street in @str_msk.type_street & number <= 150'))\n",
    "plt.title('Ящик с усами числа посадочных мест на улицах с большим количеством заведений')\n",
    "plt.ylabel('число посадочных мест')\n",
    "plt.show()"
   ]
  },
  {
   "cell_type": "markdown",
   "metadata": {},
   "source": [
    "В ящике с усами я сделала ограничение *не больше 150 мест*, чтобы лучше увидеть где находиться основная масса в распределения. Как мы видим, среднее находиться на уровне 30 посадочных мест, хотя на гистограмме выше видно, что есть выбросы и больше 1500. Что наводит нас на мысль о том, что на этих улицах чаще всего встречаются небольшие заведения от 10 до 60 посадочных мест. Есть и крупные игроки, но меньше."
   ]
  },
  {
   "cell_type": "markdown",
   "metadata": {},
   "source": [
    "## Вывод по проекту <a id='step3'></a>"
   ]
  },
  {
   "cell_type": "markdown",
   "metadata": {},
   "source": [
    "Изначальный датасет у нас был с возможными дубликатами. Дубликаты скорее всего имеют человеческий фактор возникновения. Но количество дубликатов после чистки составило 0,3% от общего количества.\n",
    "\n",
    "* Кафе самый популярный вид заведений в представленном датафрейме. Оно популярно и как сетевое, так и как несетевое место\n",
    "* Больше всего на рынке представлено несетевых заведений 80,7%\n",
    "* Для сетевых заведний характерно небольшое количество посадочных мест до 100 шт\n",
    "* Чаще всего в сетевых местах мы не встретим посадочных мест вообще\n",
    "* Самое большое количество посадочных мест предоставляют столовые 336948 шт. и это второй по количеству несетевых заведений вид общественного питания. Дальше идет ресторан, среднее число посадочных мест которого приближается к столовым, но выбросов с большим количеством мест много. На третьем месте буфет.\n",
    "* Самые застроенные заведениями улицы чаще всего длинные и заведений на них 100 шт. Они располагаются в 8 районах:\n",
    "\n",
    "    1. Алексеевский район\n",
    "    2. район Коньково\n",
    "    - Хорошевский район\n",
    "    - Пресненский район\n",
    "    - район Чертаново Центральное\n",
    "    - Ломоносовский район\n",
    "    - район Дорогомилово\n",
    "    - район Москворечье-Сабурово\n",
    "* Зеленоград лидер среди пригородов\n",
    "* У нас есть почти треть от всех улиц, на которых всего 1 заведение. Зато на топовых улицах заведений очень много.\n",
    "\n",
    "Сделать одиночное кафе на оживленной, полной туристами улице. \n",
    "В топ-20 улиц по количеству, чтобы был интерес не только у местных жителей. Т.к. в топ-10 улиц очень большая конкуренция. Кафе с роботами необычное, а значит будет привлекать внимание прохожих, которые не спешат и зайдут покушать. \n",
    "\n",
    "Возможность развития в сеть есть. Главное сделать акцент на местах в отдалении друг от друга, чтобы покрыть топовые районы. По количеству мест можно взять 10-20 шт. Тогда аренда помещения будет не такой большой, что на первое время важный показатель. Насколько я знаю, ресторанный бизнес выходит в плюс спустя несколько лет, так что привлеченные инвестиции нужно грамотно распределить в самом начале. \n",
    "\n",
    "Альтернативный вариант, открыть сеть заведений без посадочных мест. Футуристичное предприятие быстрого обслуживания с роботами. После пандемии это будет актуально, ведь роботы точно будут работать в масках — меньше распространение вируса.\n",
    "\n",
    "\n",
    "Презентация: <https://drive.google.com/file/d/1ci4AQu1OtlaJKT2dimV1gPUvRnTDsMNN/view?usp=sharing>"
   ]
  }
 ],
 "metadata": {
  "kernelspec": {
   "display_name": "Python 3",
   "language": "python",
   "name": "python3"
  },
  "language_info": {
   "codemirror_mode": {
    "name": "ipython",
    "version": 3
   },
   "file_extension": ".py",
   "mimetype": "text/x-python",
   "name": "python",
   "nbconvert_exporter": "python",
   "pygments_lexer": "ipython3",
   "version": "3.8.3"
  }
 },
 "nbformat": 4,
 "nbformat_minor": 4
}

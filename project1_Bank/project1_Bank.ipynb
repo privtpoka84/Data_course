{
 "cells": [
  {
   "cell_type": "markdown",
   "metadata": {},
   "source": [
    "### Шаг 1. Откройте файл с данными и изучите общую информацию. "
   ]
  },
  {
   "cell_type": "code",
   "execution_count": 47,
   "metadata": {},
   "outputs": [
    {
     "name": "stdout",
     "output_type": "stream",
     "text": [
      "<class 'pandas.core.frame.DataFrame'>\n",
      "RangeIndex: 21525 entries, 0 to 21524\n",
      "Data columns (total 12 columns):\n",
      "children            21525 non-null int64\n",
      "days_employed       19351 non-null float64\n",
      "dob_years           21525 non-null int64\n",
      "education           21525 non-null object\n",
      "education_id        21525 non-null int64\n",
      "family_status       21525 non-null object\n",
      "family_status_id    21525 non-null int64\n",
      "gender              21525 non-null object\n",
      "income_type         21525 non-null object\n",
      "debt                21525 non-null int64\n",
      "total_income        19351 non-null float64\n",
      "purpose             21525 non-null object\n",
      "dtypes: float64(2), int64(5), object(5)\n",
      "memory usage: 2.0+ MB\n"
     ]
    },
    {
     "data": {
      "text/html": [
       "<div>\n",
       "<style scoped>\n",
       "    .dataframe tbody tr th:only-of-type {\n",
       "        vertical-align: middle;\n",
       "    }\n",
       "\n",
       "    .dataframe tbody tr th {\n",
       "        vertical-align: top;\n",
       "    }\n",
       "\n",
       "    .dataframe thead th {\n",
       "        text-align: right;\n",
       "    }\n",
       "</style>\n",
       "<table border=\"1\" class=\"dataframe\">\n",
       "  <thead>\n",
       "    <tr style=\"text-align: right;\">\n",
       "      <th></th>\n",
       "      <th>children</th>\n",
       "      <th>days_employed</th>\n",
       "      <th>dob_years</th>\n",
       "      <th>education</th>\n",
       "      <th>education_id</th>\n",
       "      <th>family_status</th>\n",
       "      <th>family_status_id</th>\n",
       "      <th>gender</th>\n",
       "      <th>income_type</th>\n",
       "      <th>debt</th>\n",
       "      <th>total_income</th>\n",
       "      <th>purpose</th>\n",
       "    </tr>\n",
       "  </thead>\n",
       "  <tbody>\n",
       "    <tr>\n",
       "      <td>0</td>\n",
       "      <td>1</td>\n",
       "      <td>-8437.673028</td>\n",
       "      <td>42</td>\n",
       "      <td>высшее</td>\n",
       "      <td>0</td>\n",
       "      <td>женат / замужем</td>\n",
       "      <td>0</td>\n",
       "      <td>F</td>\n",
       "      <td>сотрудник</td>\n",
       "      <td>0</td>\n",
       "      <td>253875.639453</td>\n",
       "      <td>покупка жилья</td>\n",
       "    </tr>\n",
       "    <tr>\n",
       "      <td>1</td>\n",
       "      <td>1</td>\n",
       "      <td>-4024.803754</td>\n",
       "      <td>36</td>\n",
       "      <td>среднее</td>\n",
       "      <td>1</td>\n",
       "      <td>женат / замужем</td>\n",
       "      <td>0</td>\n",
       "      <td>F</td>\n",
       "      <td>сотрудник</td>\n",
       "      <td>0</td>\n",
       "      <td>112080.014102</td>\n",
       "      <td>приобретение автомобиля</td>\n",
       "    </tr>\n",
       "    <tr>\n",
       "      <td>2</td>\n",
       "      <td>0</td>\n",
       "      <td>-5623.422610</td>\n",
       "      <td>33</td>\n",
       "      <td>Среднее</td>\n",
       "      <td>1</td>\n",
       "      <td>женат / замужем</td>\n",
       "      <td>0</td>\n",
       "      <td>M</td>\n",
       "      <td>сотрудник</td>\n",
       "      <td>0</td>\n",
       "      <td>145885.952297</td>\n",
       "      <td>покупка жилья</td>\n",
       "    </tr>\n",
       "    <tr>\n",
       "      <td>3</td>\n",
       "      <td>3</td>\n",
       "      <td>-4124.747207</td>\n",
       "      <td>32</td>\n",
       "      <td>среднее</td>\n",
       "      <td>1</td>\n",
       "      <td>женат / замужем</td>\n",
       "      <td>0</td>\n",
       "      <td>M</td>\n",
       "      <td>сотрудник</td>\n",
       "      <td>0</td>\n",
       "      <td>267628.550329</td>\n",
       "      <td>дополнительное образование</td>\n",
       "    </tr>\n",
       "    <tr>\n",
       "      <td>4</td>\n",
       "      <td>0</td>\n",
       "      <td>340266.072047</td>\n",
       "      <td>53</td>\n",
       "      <td>среднее</td>\n",
       "      <td>1</td>\n",
       "      <td>гражданский брак</td>\n",
       "      <td>1</td>\n",
       "      <td>F</td>\n",
       "      <td>пенсионер</td>\n",
       "      <td>0</td>\n",
       "      <td>158616.077870</td>\n",
       "      <td>сыграть свадьбу</td>\n",
       "    </tr>\n",
       "    <tr>\n",
       "      <td>5</td>\n",
       "      <td>0</td>\n",
       "      <td>-926.185831</td>\n",
       "      <td>27</td>\n",
       "      <td>высшее</td>\n",
       "      <td>0</td>\n",
       "      <td>гражданский брак</td>\n",
       "      <td>1</td>\n",
       "      <td>M</td>\n",
       "      <td>компаньон</td>\n",
       "      <td>0</td>\n",
       "      <td>255763.565419</td>\n",
       "      <td>покупка жилья</td>\n",
       "    </tr>\n",
       "    <tr>\n",
       "      <td>6</td>\n",
       "      <td>0</td>\n",
       "      <td>-2879.202052</td>\n",
       "      <td>43</td>\n",
       "      <td>высшее</td>\n",
       "      <td>0</td>\n",
       "      <td>женат / замужем</td>\n",
       "      <td>0</td>\n",
       "      <td>F</td>\n",
       "      <td>компаньон</td>\n",
       "      <td>0</td>\n",
       "      <td>240525.971920</td>\n",
       "      <td>операции с жильем</td>\n",
       "    </tr>\n",
       "    <tr>\n",
       "      <td>7</td>\n",
       "      <td>0</td>\n",
       "      <td>-152.779569</td>\n",
       "      <td>50</td>\n",
       "      <td>СРЕДНЕЕ</td>\n",
       "      <td>1</td>\n",
       "      <td>женат / замужем</td>\n",
       "      <td>0</td>\n",
       "      <td>M</td>\n",
       "      <td>сотрудник</td>\n",
       "      <td>0</td>\n",
       "      <td>135823.934197</td>\n",
       "      <td>образование</td>\n",
       "    </tr>\n",
       "    <tr>\n",
       "      <td>8</td>\n",
       "      <td>2</td>\n",
       "      <td>-6929.865299</td>\n",
       "      <td>35</td>\n",
       "      <td>ВЫСШЕЕ</td>\n",
       "      <td>0</td>\n",
       "      <td>гражданский брак</td>\n",
       "      <td>1</td>\n",
       "      <td>F</td>\n",
       "      <td>сотрудник</td>\n",
       "      <td>0</td>\n",
       "      <td>95856.832424</td>\n",
       "      <td>на проведение свадьбы</td>\n",
       "    </tr>\n",
       "    <tr>\n",
       "      <td>9</td>\n",
       "      <td>0</td>\n",
       "      <td>-2188.756445</td>\n",
       "      <td>41</td>\n",
       "      <td>среднее</td>\n",
       "      <td>1</td>\n",
       "      <td>женат / замужем</td>\n",
       "      <td>0</td>\n",
       "      <td>M</td>\n",
       "      <td>сотрудник</td>\n",
       "      <td>0</td>\n",
       "      <td>144425.938277</td>\n",
       "      <td>покупка жилья для семьи</td>\n",
       "    </tr>\n",
       "  </tbody>\n",
       "</table>\n",
       "</div>"
      ],
      "text/plain": [
       "   children  days_employed  dob_years education  education_id  \\\n",
       "0         1   -8437.673028         42    высшее             0   \n",
       "1         1   -4024.803754         36   среднее             1   \n",
       "2         0   -5623.422610         33   Среднее             1   \n",
       "3         3   -4124.747207         32   среднее             1   \n",
       "4         0  340266.072047         53   среднее             1   \n",
       "5         0    -926.185831         27    высшее             0   \n",
       "6         0   -2879.202052         43    высшее             0   \n",
       "7         0    -152.779569         50   СРЕДНЕЕ             1   \n",
       "8         2   -6929.865299         35    ВЫСШЕЕ             0   \n",
       "9         0   -2188.756445         41   среднее             1   \n",
       "\n",
       "      family_status  family_status_id gender income_type  debt   total_income  \\\n",
       "0   женат / замужем                 0      F   сотрудник     0  253875.639453   \n",
       "1   женат / замужем                 0      F   сотрудник     0  112080.014102   \n",
       "2   женат / замужем                 0      M   сотрудник     0  145885.952297   \n",
       "3   женат / замужем                 0      M   сотрудник     0  267628.550329   \n",
       "4  гражданский брак                 1      F   пенсионер     0  158616.077870   \n",
       "5  гражданский брак                 1      M   компаньон     0  255763.565419   \n",
       "6   женат / замужем                 0      F   компаньон     0  240525.971920   \n",
       "7   женат / замужем                 0      M   сотрудник     0  135823.934197   \n",
       "8  гражданский брак                 1      F   сотрудник     0   95856.832424   \n",
       "9   женат / замужем                 0      M   сотрудник     0  144425.938277   \n",
       "\n",
       "                      purpose  \n",
       "0               покупка жилья  \n",
       "1     приобретение автомобиля  \n",
       "2               покупка жилья  \n",
       "3  дополнительное образование  \n",
       "4             сыграть свадьбу  \n",
       "5               покупка жилья  \n",
       "6           операции с жильем  \n",
       "7                 образование  \n",
       "8       на проведение свадьбы  \n",
       "9     покупка жилья для семьи  "
      ]
     },
     "execution_count": 47,
     "metadata": {},
     "output_type": "execute_result"
    }
   ],
   "source": [
    "import pandas as pd\n",
    "import numpy as np\n",
    "from pymystem3 import Mystem\n",
    "m = Mystem()\n",
    "import re\n",
    "data = pd.read_csv('/datasets/data.csv')\n",
    "data.info()\n",
    "data.head(10)"
   ]
  },
  {
   "cell_type": "code",
   "execution_count": 48,
   "metadata": {},
   "outputs": [
    {
     "name": "stdout",
     "output_type": "stream",
     "text": [
      "Пропущенных значений в колонке days_employed - 2174 шт.\n",
      "Пропущенных значений в колонке total_income -  2174 шт.\n",
      "Процент пропущенных значений - 10%\n"
     ]
    }
   ],
   "source": [
    "print('Пропущенных значений в колонке days_employed -', data['days_employed'].isna().sum(), 'шт.')\n",
    "print('Пропущенных значений в колонке total_income - ', data['total_income'].isna().sum(), 'шт.')\n",
    "print('Процент пропущенных значений - {:.0%}'.format(2174 / len(data)))\n",
    "nan_val= data[data['total_income'].isna()]"
   ]
  },
  {
   "cell_type": "markdown",
   "metadata": {},
   "source": [
    "### Вывод"
   ]
  },
  {
   "cell_type": "markdown",
   "metadata": {},
   "source": [
    "В датафрейме есть пара колонок с вещественным типом числа, что неудобно и нужно будет переводить их значения в целочисленный. Сразу видно, что в колонке с образованием есть \"скачущие\" значения, которые обозначают одно и тоже. Названия колонок я решила не менять, т.к. нет \"скачущих\" названий или названий на другом языке."
   ]
  },
  {
   "cell_type": "markdown",
   "metadata": {},
   "source": [
    "### Шаг 2. Предобработка данных"
   ]
  },
  {
   "cell_type": "markdown",
   "metadata": {},
   "source": [
    "### Обработка пропусков"
   ]
  },
  {
   "cell_type": "markdown",
   "metadata": {},
   "source": [
    "т.к. пропусков достаточно много, то удалять их или игнорировать будет неверным решением. Результаты и выводы могут быть искажены, поэтому на основе других данных пропущенные значения будут заменены медианой или средним значением. До замены нужно привести остальные колонки в порядок. Ниже список колонок, чтобы отмечать какие проблемы были и чек-лист решена ли проблема\n",
    "- [x]  children. Есть отрицательные значения; 20 детей;\n",
    "- [ ]  days_employed. Есть отрицательные значения; значения, которые не могут быть верными, например, 932 года трудового стажа; Nan;\n",
    "- [X]  dob_years. Есть нулевые значения;\n",
    "- [x]  education. Есть 15 уникальных значений, т.к. обозначения написаны разными регистрами;\n",
    "- [x]  education_id. Это численный повтор колонки education;\n",
    "- [x]  family_status. Нужно привести к одному регистру 1 уникальное значение;\n",
    "- [x]  family_status_id. Это численный повтор колонки family_status;\n",
    "- [x]  gender. Есть 1 строка с XNA, что не является гендером;\n",
    "- [x]  income_type. Все ок;\n",
    "- [x]  debt. Все ок;\n",
    "- [x]  total_income. Nan;\n",
    "- [x]  purpose. Слишком много уникальных значений, их нужно привести к 4-5 видам;"
   ]
  },
  {
   "cell_type": "markdown",
   "metadata": {},
   "source": [
    "### Education и family_status\n",
    "Пока приведу в порядок колонки с самыми простыми \"проблемами\". Это колонка education и  family_status. Здесь же хочу разобраться с education_id и  family_status_id."
   ]
  },
  {
   "cell_type": "code",
   "execution_count": 49,
   "metadata": {},
   "outputs": [
    {
     "name": "stdout",
     "output_type": "stream",
     "text": [
      "среднее                13750\n",
      "высшее                  4718\n",
      "СРЕДНЕЕ                  772\n",
      "Среднее                  711\n",
      "неоконченное высшее      668\n",
      "ВЫСШЕЕ                   274\n",
      "Высшее                   268\n",
      "начальное                250\n",
      "Неоконченное высшее       47\n",
      "НЕОКОНЧЕННОЕ ВЫСШЕЕ       29\n",
      "НАЧАЛЬНОЕ                 17\n",
      "Начальное                 15\n",
      "ученая степень             4\n",
      "Ученая степень             1\n",
      "УЧЕНАЯ СТЕПЕНЬ             1\n",
      "Name: education, dtype: int64\n",
      "среднее                15233\n",
      "высшее                  5260\n",
      "неоконченное высшее      744\n",
      "начальное                282\n",
      "ученая степень             6\n",
      "Name: education, dtype: int64\n",
      "1    15233\n",
      "0     5260\n",
      "2      744\n",
      "3      282\n",
      "4        6\n",
      "Name: education_id, dtype: int64\n",
      "женат / замужем          12380\n",
      "гражданский брак          4177\n",
      "не женат / не замужем     2813\n",
      "в разводе                 1195\n",
      "вдовец / вдова             960\n",
      "Name: family_status, dtype: int64\n",
      "0    12380\n",
      "1     4177\n",
      "4     2813\n",
      "3     1195\n",
      "2      960\n",
      "Name: family_status_id, dtype: int64\n"
     ]
    }
   ],
   "source": [
    "print(data['education'].value_counts())\n",
    "data['education'] = data['education'].str.lower()\n",
    "data['family_status'] = data['family_status'].str.lower()\n",
    "print(data['education'].value_counts())\n",
    "print(data['education_id'].value_counts())\n",
    "print(data['family_status'].value_counts())\n",
    "print(data['family_status_id'].value_counts())"
   ]
  },
  {
   "cell_type": "code",
   "execution_count": 50,
   "metadata": {},
   "outputs": [],
   "source": [
    "data = data.drop('education_id', axis = 1)\n",
    "data = data.drop('family_status_id', axis = 1)"
   ]
  },
  {
   "cell_type": "markdown",
   "metadata": {},
   "source": [
    "Привели в порядок данные по образованию, теперь всего 5 групп, вместо 15. Колонка education_id является повторением колонки education, только в численном выражениие. Аналогично с family_status и family_status_id. По моему мнению они не нужны, потому что не отражают сути сразу. К примеру, 0 не говорит о том, что человек состоит в браке. Скорее это больше запутает. Поэтому я решила убрать эти две колонки."
   ]
  },
  {
   "cell_type": "markdown",
   "metadata": {},
   "source": [
    "### Gender"
   ]
  },
  {
   "cell_type": "code",
   "execution_count": 51,
   "metadata": {},
   "outputs": [
    {
     "data": {
      "text/plain": [
       "F      14236\n",
       "M       7288\n",
       "XNA        1\n",
       "Name: gender, dtype: int64"
      ]
     },
     "execution_count": 51,
     "metadata": {},
     "output_type": "execute_result"
    }
   ],
   "source": [
    "data['gender'].value_counts()"
   ]
  },
  {
   "cell_type": "code",
   "execution_count": 52,
   "metadata": {},
   "outputs": [
    {
     "data": {
      "text/html": [
       "<div>\n",
       "<style scoped>\n",
       "    .dataframe tbody tr th:only-of-type {\n",
       "        vertical-align: middle;\n",
       "    }\n",
       "\n",
       "    .dataframe tbody tr th {\n",
       "        vertical-align: top;\n",
       "    }\n",
       "\n",
       "    .dataframe thead th {\n",
       "        text-align: right;\n",
       "    }\n",
       "</style>\n",
       "<table border=\"1\" class=\"dataframe\">\n",
       "  <thead>\n",
       "    <tr style=\"text-align: right;\">\n",
       "      <th></th>\n",
       "      <th>children</th>\n",
       "      <th>days_employed</th>\n",
       "      <th>dob_years</th>\n",
       "      <th>education</th>\n",
       "      <th>family_status</th>\n",
       "      <th>gender</th>\n",
       "      <th>income_type</th>\n",
       "      <th>debt</th>\n",
       "      <th>total_income</th>\n",
       "      <th>purpose</th>\n",
       "    </tr>\n",
       "  </thead>\n",
       "  <tbody>\n",
       "    <tr>\n",
       "      <td>10701</td>\n",
       "      <td>0</td>\n",
       "      <td>-2358.600502</td>\n",
       "      <td>24</td>\n",
       "      <td>неоконченное высшее</td>\n",
       "      <td>гражданский брак</td>\n",
       "      <td>XNA</td>\n",
       "      <td>компаньон</td>\n",
       "      <td>0</td>\n",
       "      <td>203905.157261</td>\n",
       "      <td>покупка недвижимости</td>\n",
       "    </tr>\n",
       "  </tbody>\n",
       "</table>\n",
       "</div>"
      ],
      "text/plain": [
       "       children  days_employed  dob_years            education  \\\n",
       "10701         0   -2358.600502         24  неоконченное высшее   \n",
       "\n",
       "          family_status gender income_type  debt   total_income  \\\n",
       "10701  гражданский брак    XNA   компаньон     0  203905.157261   \n",
       "\n",
       "                    purpose  \n",
       "10701  покупка недвижимости  "
      ]
     },
     "execution_count": 52,
     "metadata": {},
     "output_type": "execute_result"
    }
   ],
   "source": [
    "data[data['gender'] == 'XNA']"
   ]
  },
  {
   "cell_type": "markdown",
   "metadata": {},
   "source": [
    "Нужно определить кого больше мужчин или женщин с неоконченным высшим образованием в гражданском браке и с должностью \"компаньон\". По остальным колонкам не определяю, т.к. там есть пропущенные или неверные значения."
   ]
  },
  {
   "cell_type": "code",
   "execution_count": 53,
   "metadata": {},
   "outputs": [
    {
     "name": "stdout",
     "output_type": "stream",
     "text": [
      "F      460\n",
      "M      283\n",
      "XNA      1\n",
      "Name: gender, dtype: int64\n",
      "F      2868\n",
      "M      1308\n",
      "XNA       1\n",
      "Name: gender, dtype: int64\n",
      "F      3197\n",
      "M      1887\n",
      "XNA       1\n",
      "Name: gender, dtype: int64\n"
     ]
    }
   ],
   "source": [
    "not_finish_hight = data[data['education'] == 'неоконченное высшее']\n",
    "print(not_finish_hight['gender'].value_counts())\n",
    "gr_marry = data[data['family_status'] == 'гражданский брак']\n",
    "print(gr_marry['gender'].value_counts())\n",
    "compan = data[data['income_type'] == 'компаньон']\n",
    "print(compan['gender'].value_counts())"
   ]
  },
  {
   "cell_type": "markdown",
   "metadata": {},
   "source": [
    "- Женщин с неоконченным высшим больше, чем мужчин в 1,6 раза;\n",
    "- Женщин больше в гражданском браке, чем мужчин в 2,1 раза;\n",
    "- Женщин со статусом \"компаньон\" больше, чем мужчин в 1,7 раза.\n",
    "XNA - женщина по данным, которые у нас есть. Значит нужно заменить значение XNA на F."
   ]
  },
  {
   "cell_type": "code",
   "execution_count": 54,
   "metadata": {},
   "outputs": [
    {
     "data": {
      "text/plain": [
       "F    14237\n",
       "M     7288\n",
       "Name: gender, dtype: int64"
      ]
     },
     "execution_count": 54,
     "metadata": {},
     "output_type": "execute_result"
    }
   ],
   "source": [
    "data['gender'] = data['gender'].replace('XNA', 'F')\n",
    "data['gender'].value_counts()"
   ]
  },
  {
   "cell_type": "markdown",
   "metadata": {},
   "source": [
    "### Ghildren"
   ]
  },
  {
   "cell_type": "code",
   "execution_count": 55,
   "metadata": {},
   "outputs": [
    {
     "data": {
      "text/plain": [
       " 0     14149\n",
       " 1      4818\n",
       " 2      2055\n",
       " 3       330\n",
       " 20       76\n",
       "-1        47\n",
       " 4        41\n",
       " 5         9\n",
       "Name: children, dtype: int64"
      ]
     },
     "execution_count": 55,
     "metadata": {},
     "output_type": "execute_result"
    }
   ],
   "source": [
    "data['children'].value_counts()"
   ]
  },
  {
   "cell_type": "code",
   "execution_count": 56,
   "metadata": {},
   "outputs": [
    {
     "data": {
      "text/plain": [
       "0    14149\n",
       "1     4865\n",
       "2     2131\n",
       "3      330\n",
       "4       41\n",
       "5        9\n",
       "Name: children, dtype: int64"
      ]
     },
     "execution_count": 56,
     "metadata": {},
     "output_type": "execute_result"
    }
   ],
   "source": [
    "data['children'] = data['children'].replace(-1, 1)\n",
    "data['children'] = data['children'].replace(20, 2)\n",
    "data['children'].value_counts()"
   ]
  },
  {
   "cell_type": "markdown",
   "metadata": {},
   "source": [
    "В колонке children есть отрицательное значение и всплеск \"20\". Последний скорее всего ошибка, т.к. с 5-ю детьми всего лишь 9 человек, а с 20-ю - 76 человек. Т.к. общий вклад людей с 20-ю и -1-м ребенком = 76+47 = 123 / 21525 =  0,6 %, то можно заменить эти значения на 2 и 1 соответственно. Подобное изменение приведет только к измению на 0,22 - 0,35% уникальных значений\n",
    "- children[1] = 4818 / 21525 * 100 = 22,38%\n",
    "- children[1] + children[-1] = (4818+47) / 21525 * 100 = 22,60%\n",
    "- children[2] = 2055 / 21525 * 100 = 9,55%\n",
    "- children[2] + children[20] = (2055+76) / 21525 * 100 = 9,90%"
   ]
  },
  {
   "cell_type": "markdown",
   "metadata": {},
   "source": [
    "### Dob_years"
   ]
  },
  {
   "cell_type": "code",
   "execution_count": 57,
   "metadata": {},
   "outputs": [
    {
     "name": "stdout",
     "output_type": "stream",
     "text": [
      "35    617\n",
      "40    609\n",
      "41    607\n",
      "34    603\n",
      "38    598\n",
      "42    597\n",
      "33    581\n",
      "39    573\n",
      "31    560\n",
      "36    555\n",
      "44    547\n",
      "29    545\n",
      "30    540\n",
      "48    538\n",
      "37    537\n",
      "50    514\n",
      "43    513\n",
      "32    510\n",
      "49    508\n",
      "28    503\n",
      "45    497\n",
      "27    493\n",
      "56    487\n",
      "52    484\n",
      "47    480\n",
      "54    479\n",
      "46    475\n",
      "58    461\n",
      "57    460\n",
      "53    459\n",
      "51    448\n",
      "59    444\n",
      "55    443\n",
      "26    408\n",
      "60    377\n",
      "25    357\n",
      "61    355\n",
      "62    352\n",
      "63    269\n",
      "64    265\n",
      "24    264\n",
      "23    254\n",
      "65    194\n",
      "66    183\n",
      "22    183\n",
      "67    167\n",
      "21    111\n",
      "0     101\n",
      "68     99\n",
      "69     85\n",
      "70     65\n",
      "71     58\n",
      "20     51\n",
      "72     33\n",
      "19     14\n",
      "73      8\n",
      "74      6\n",
      "75      1\n",
      "Name: dob_years, dtype: int64\n",
      "Меньше 18 лет - 0 лет\n",
      "Максимальное количество лет в выборке - 75 лет\n"
     ]
    }
   ],
   "source": [
    "print(data['dob_years'].value_counts())\n",
    "for i in data['dob_years'].unique():\n",
    "    if i < 18:\n",
    "        print('Меньше 18 лет -', i, 'лет')\n",
    "print('Максимальное количество лет в выборке -', data['dob_years'].max(), 'лет')"
   ]
  },
  {
   "cell_type": "markdown",
   "metadata": {},
   "source": [
    "Так как уникальных значений в dob_years было много, чтобы не допустить ошибку написала скрипт, который возвращает количество лет, меньше 18. Лицам младше 18 лет кредит не оформляют. Обнаружились только нулевые значения. Проверила также максимальную планку, она равна 75 лет. Следовательно, нужно разобраться с нулями. Их в выборке 101. Нули можно заменить исходя из значений в колонке income_type. Например, вычислить среднее значение лет у пенсионера и подставить вместо нулей в возрасте у пенсионеров. Составим выборку, где нет нулевых значений в возрасте и посмотрим количество, среднее арифметическое и медиану для дальнейшей подстановки."
   ]
  },
  {
   "cell_type": "code",
   "execution_count": 58,
   "metadata": {},
   "outputs": [
    {
     "name": "stdout",
     "output_type": "stream",
     "text": [
      "['пенсионер' 'сотрудник' 'компаньон' 'госслужащий']\n"
     ]
    },
    {
     "data": {
      "text/html": [
       "<div>\n",
       "<style scoped>\n",
       "    .dataframe tbody tr th:only-of-type {\n",
       "        vertical-align: middle;\n",
       "    }\n",
       "\n",
       "    .dataframe tbody tr th {\n",
       "        vertical-align: top;\n",
       "    }\n",
       "\n",
       "    .dataframe thead th {\n",
       "        text-align: right;\n",
       "    }\n",
       "</style>\n",
       "<table border=\"1\" class=\"dataframe\">\n",
       "  <thead>\n",
       "    <tr style=\"text-align: right;\">\n",
       "      <th></th>\n",
       "      <th>count</th>\n",
       "      <th>mean</th>\n",
       "      <th>median</th>\n",
       "    </tr>\n",
       "    <tr>\n",
       "      <th>income_type</th>\n",
       "      <th></th>\n",
       "      <th></th>\n",
       "      <th></th>\n",
       "    </tr>\n",
       "  </thead>\n",
       "  <tbody>\n",
       "    <tr>\n",
       "      <td>безработный</td>\n",
       "      <td>2</td>\n",
       "      <td>38.000000</td>\n",
       "      <td>38.0</td>\n",
       "    </tr>\n",
       "    <tr>\n",
       "      <td>в декрете</td>\n",
       "      <td>1</td>\n",
       "      <td>39.000000</td>\n",
       "      <td>39.0</td>\n",
       "    </tr>\n",
       "    <tr>\n",
       "      <td>госслужащий</td>\n",
       "      <td>1453</td>\n",
       "      <td>40.804542</td>\n",
       "      <td>40.0</td>\n",
       "    </tr>\n",
       "    <tr>\n",
       "      <td>компаньон</td>\n",
       "      <td>5065</td>\n",
       "      <td>39.854294</td>\n",
       "      <td>39.0</td>\n",
       "    </tr>\n",
       "    <tr>\n",
       "      <td>пенсионер</td>\n",
       "      <td>3836</td>\n",
       "      <td>59.370959</td>\n",
       "      <td>60.0</td>\n",
       "    </tr>\n",
       "    <tr>\n",
       "      <td>предприниматель</td>\n",
       "      <td>2</td>\n",
       "      <td>42.500000</td>\n",
       "      <td>42.5</td>\n",
       "    </tr>\n",
       "    <tr>\n",
       "      <td>сотрудник</td>\n",
       "      <td>11064</td>\n",
       "      <td>40.018980</td>\n",
       "      <td>39.0</td>\n",
       "    </tr>\n",
       "    <tr>\n",
       "      <td>студент</td>\n",
       "      <td>1</td>\n",
       "      <td>22.000000</td>\n",
       "      <td>22.0</td>\n",
       "    </tr>\n",
       "  </tbody>\n",
       "</table>\n",
       "</div>"
      ],
      "text/plain": [
       "                 count       mean  median\n",
       "income_type                              \n",
       "безработный          2  38.000000    38.0\n",
       "в декрете            1  39.000000    39.0\n",
       "госслужащий       1453  40.804542    40.0\n",
       "компаньон         5065  39.854294    39.0\n",
       "пенсионер         3836  59.370959    60.0\n",
       "предприниматель      2  42.500000    42.5\n",
       "сотрудник        11064  40.018980    39.0\n",
       "студент              1  22.000000    22.0"
      ]
     },
     "execution_count": 58,
     "metadata": {},
     "output_type": "execute_result"
    }
   ],
   "source": [
    "dob_not_zero = data[data['dob_years'] != 0] \n",
    "dob_zero = data[data['dob_years'] == 0]\n",
    "print(dob_zero['income_type'].unique())\n",
    "dob_not_zero.groupby('income_type')['dob_years'].agg(['count', 'mean', 'median']).reset_index() "
   ]
  },
  {
   "cell_type": "markdown",
   "metadata": {},
   "source": [
    "Меня интересуют значения у пенсионеров, сотрудников, компаньонов и госслужащих. Данных у этих групп больше, чем у остальных. Медиана и среднее арифметическое практически не отличаются друг от друга. Подставим медиану вместо нулей, т.к. пенсия начинается обычно с 60 лет, чем с 59 лет."
   ]
  },
  {
   "cell_type": "code",
   "execution_count": 59,
   "metadata": {},
   "outputs": [],
   "source": [
    "def no_zero(value, years):\n",
    "    data.loc[data['income_type'] == value, 'dob_years'] = data['dob_years'].replace(0, years)\n",
    "no_zero('пенсионер', 60)\n",
    "no_zero('сотрудник', 39)\n",
    "no_zero('компаньон', 39)\n",
    "no_zero('госслужащий', 40)"
   ]
  },
  {
   "cell_type": "markdown",
   "metadata": {},
   "source": [
    "На всякий случай проверим сработала ли замена в функции"
   ]
  },
  {
   "cell_type": "code",
   "execution_count": 60,
   "metadata": {},
   "outputs": [
    {
     "name": "stdout",
     "output_type": "stream",
     "text": [
      "Checked\n"
     ]
    }
   ],
   "source": [
    "for i in data['dob_years'].unique():\n",
    "    if i == 0:\n",
    "        print('I found a zero')\n",
    "print('Checked')"
   ]
  },
  {
   "cell_type": "markdown",
   "metadata": {},
   "source": [
    "### Total_income"
   ]
  },
  {
   "cell_type": "markdown",
   "metadata": {},
   "source": [
    "Остались Nan в колонках total_income и days_employed. В начале я планировала найти зависимости этих колонок от других, которые уже известны, выделить группы 4-5 шт., чтобы проставить среднее или медианное значение вместо пропусков. Но в задаче стоит вопрос о влиянии колонок children и family_status на debt, поэтому не вижу смысла тратить время на обработку пропусков, которые не повляют на результаты."
   ]
  },
  {
   "cell_type": "code",
   "execution_count": 61,
   "metadata": {},
   "outputs": [
    {
     "data": {
      "text/plain": [
       "array([nan])"
      ]
     },
     "execution_count": 61,
     "metadata": {},
     "output_type": "execute_result"
    }
   ],
   "source": [
    "total_nan = data[data['total_income'].isnull() == True]\n",
    "total_nan['days_employed'].unique()"
   ]
  },
  {
   "cell_type": "markdown",
   "metadata": {},
   "source": [
    "Убедилась, что Nan в таблице есть только в 2 колонках и на одних и тех же строках. Посчитаю среднее и медиану и заполню пропуски."
   ]
  },
  {
   "cell_type": "code",
   "execution_count": 62,
   "metadata": {},
   "outputs": [
    {
     "name": "stdout",
     "output_type": "stream",
     "text": [
      "Минимальное - 20667.26379327158\n",
      "Максимальное - 2265604.028722744\n",
      "Среднее - 167422.30220817294\n",
      "Медиана - 145017.93753253992\n"
     ]
    }
   ],
   "source": [
    "mean_total = data['total_income'].mean()\n",
    "median_total = data['total_income'].median()\n",
    "print('Минимальное -', data['total_income'].min())\n",
    "print('Максимальное -', data['total_income'].max())\n",
    "print('Среднее -', mean_total)\n",
    "print('Медиана -', median_total)\n",
    "data['total_income'] = data['total_income'].fillna(median_total)\n"
   ]
  },
  {
   "cell_type": "code",
   "execution_count": 63,
   "metadata": {},
   "outputs": [
    {
     "data": {
      "text/plain": [
       "0"
      ]
     },
     "execution_count": 63,
     "metadata": {},
     "output_type": "execute_result"
    }
   ],
   "source": [
    "data['total_income'].isna().sum()"
   ]
  },
  {
   "cell_type": "markdown",
   "metadata": {},
   "source": [
    "Пропусков в колонке больше нет. Я решила использовать медиану, т.к. разница между медианой и средним арифметическим небольшая (167422,3 - 156400,3 = 11022).  "
   ]
  },
  {
   "cell_type": "markdown",
   "metadata": {},
   "source": [
    "### Вывод"
   ]
  },
  {
   "cell_type": "markdown",
   "metadata": {},
   "source": [
    "У меня остались пропуски в данных по колонке с трудовым стажем. К тому же там отрицательные и неоднозначные данные. Думаю, что это произошло от возможных манипуляций с форматом данных или импортами из какой-то базы. В остальных колонках пропуски заполнены и можно приступить к замене типа данных и дальнейшей обработке данных."
   ]
  },
  {
   "cell_type": "markdown",
   "metadata": {},
   "source": [
    "### Замена типа данных"
   ]
  },
  {
   "cell_type": "code",
   "execution_count": 64,
   "metadata": {},
   "outputs": [
    {
     "data": {
      "text/plain": [
       "dtype('int64')"
      ]
     },
     "execution_count": 64,
     "metadata": {},
     "output_type": "execute_result"
    }
   ],
   "source": [
    "data['total_income'].dtypes\n",
    "data['total_income'] = data['total_income'].astype('int64')\n",
    "data['total_income'].dtypes"
   ]
  },
  {
   "cell_type": "code",
   "execution_count": 65,
   "metadata": {},
   "outputs": [
    {
     "name": "stdout",
     "output_type": "stream",
     "text": [
      "<class 'pandas.core.frame.DataFrame'>\n",
      "RangeIndex: 21525 entries, 0 to 21524\n",
      "Data columns (total 10 columns):\n",
      "children         21525 non-null int64\n",
      "days_employed    19351 non-null float64\n",
      "dob_years        21525 non-null int64\n",
      "education        21525 non-null object\n",
      "family_status    21525 non-null object\n",
      "gender           21525 non-null object\n",
      "income_type      21525 non-null object\n",
      "debt             21525 non-null int64\n",
      "total_income     21525 non-null int64\n",
      "purpose          21525 non-null object\n",
      "dtypes: float64(1), int64(4), object(5)\n",
      "memory usage: 1.6+ MB\n"
     ]
    }
   ],
   "source": [
    "data.info()"
   ]
  },
  {
   "cell_type": "markdown",
   "metadata": {},
   "source": [
    "### Вывод"
   ]
  },
  {
   "cell_type": "markdown",
   "metadata": {},
   "source": [
    "Заменила float64 на int64, чтобы убрать значения после запятой. Использую метод .dtype() для этого, потому что это простой способ преобразования типа данных в pandas. Не нужно затрачивать ресурсы на перебор каждого значения в Series с помощью цикла.  \n",
    "Тип float64 остался только в колонке по дням занятости, но там есть Nan и замена методом .dtype() не сработает."
   ]
  },
  {
   "cell_type": "markdown",
   "metadata": {},
   "source": [
    "### Обработка дубликатов"
   ]
  },
  {
   "cell_type": "code",
   "execution_count": 66,
   "metadata": {},
   "outputs": [
    {
     "name": "stdout",
     "output_type": "stream",
     "text": [
      "Количество дублей - 71 шт.\n",
      "Процентное отношение к фрейму - 0.3%\n"
     ]
    },
    {
     "data": {
      "text/html": [
       "<div>\n",
       "<style scoped>\n",
       "    .dataframe tbody tr th:only-of-type {\n",
       "        vertical-align: middle;\n",
       "    }\n",
       "\n",
       "    .dataframe tbody tr th {\n",
       "        vertical-align: top;\n",
       "    }\n",
       "\n",
       "    .dataframe thead th {\n",
       "        text-align: right;\n",
       "    }\n",
       "</style>\n",
       "<table border=\"1\" class=\"dataframe\">\n",
       "  <thead>\n",
       "    <tr style=\"text-align: right;\">\n",
       "      <th></th>\n",
       "      <th>children</th>\n",
       "      <th>days_employed</th>\n",
       "      <th>dob_years</th>\n",
       "      <th>education</th>\n",
       "      <th>family_status</th>\n",
       "      <th>gender</th>\n",
       "      <th>income_type</th>\n",
       "      <th>debt</th>\n",
       "      <th>total_income</th>\n",
       "      <th>purpose</th>\n",
       "    </tr>\n",
       "  </thead>\n",
       "  <tbody>\n",
       "    <tr>\n",
       "      <td>2849</td>\n",
       "      <td>0</td>\n",
       "      <td>NaN</td>\n",
       "      <td>41</td>\n",
       "      <td>среднее</td>\n",
       "      <td>женат / замужем</td>\n",
       "      <td>F</td>\n",
       "      <td>сотрудник</td>\n",
       "      <td>0</td>\n",
       "      <td>145017</td>\n",
       "      <td>покупка жилья для семьи</td>\n",
       "    </tr>\n",
       "    <tr>\n",
       "      <td>3290</td>\n",
       "      <td>0</td>\n",
       "      <td>NaN</td>\n",
       "      <td>58</td>\n",
       "      <td>среднее</td>\n",
       "      <td>гражданский брак</td>\n",
       "      <td>F</td>\n",
       "      <td>пенсионер</td>\n",
       "      <td>0</td>\n",
       "      <td>145017</td>\n",
       "      <td>сыграть свадьбу</td>\n",
       "    </tr>\n",
       "    <tr>\n",
       "      <td>4182</td>\n",
       "      <td>1</td>\n",
       "      <td>NaN</td>\n",
       "      <td>34</td>\n",
       "      <td>высшее</td>\n",
       "      <td>гражданский брак</td>\n",
       "      <td>F</td>\n",
       "      <td>сотрудник</td>\n",
       "      <td>0</td>\n",
       "      <td>145017</td>\n",
       "      <td>свадьба</td>\n",
       "    </tr>\n",
       "    <tr>\n",
       "      <td>4851</td>\n",
       "      <td>0</td>\n",
       "      <td>NaN</td>\n",
       "      <td>60</td>\n",
       "      <td>среднее</td>\n",
       "      <td>гражданский брак</td>\n",
       "      <td>F</td>\n",
       "      <td>пенсионер</td>\n",
       "      <td>0</td>\n",
       "      <td>145017</td>\n",
       "      <td>свадьба</td>\n",
       "    </tr>\n",
       "    <tr>\n",
       "      <td>5557</td>\n",
       "      <td>0</td>\n",
       "      <td>NaN</td>\n",
       "      <td>58</td>\n",
       "      <td>среднее</td>\n",
       "      <td>гражданский брак</td>\n",
       "      <td>F</td>\n",
       "      <td>пенсионер</td>\n",
       "      <td>0</td>\n",
       "      <td>145017</td>\n",
       "      <td>сыграть свадьбу</td>\n",
       "    </tr>\n",
       "    <tr>\n",
       "      <td>...</td>\n",
       "      <td>...</td>\n",
       "      <td>...</td>\n",
       "      <td>...</td>\n",
       "      <td>...</td>\n",
       "      <td>...</td>\n",
       "      <td>...</td>\n",
       "      <td>...</td>\n",
       "      <td>...</td>\n",
       "      <td>...</td>\n",
       "      <td>...</td>\n",
       "    </tr>\n",
       "    <tr>\n",
       "      <td>20702</td>\n",
       "      <td>0</td>\n",
       "      <td>NaN</td>\n",
       "      <td>64</td>\n",
       "      <td>среднее</td>\n",
       "      <td>женат / замужем</td>\n",
       "      <td>F</td>\n",
       "      <td>пенсионер</td>\n",
       "      <td>0</td>\n",
       "      <td>145017</td>\n",
       "      <td>дополнительное образование</td>\n",
       "    </tr>\n",
       "    <tr>\n",
       "      <td>21032</td>\n",
       "      <td>0</td>\n",
       "      <td>NaN</td>\n",
       "      <td>60</td>\n",
       "      <td>среднее</td>\n",
       "      <td>женат / замужем</td>\n",
       "      <td>F</td>\n",
       "      <td>пенсионер</td>\n",
       "      <td>0</td>\n",
       "      <td>145017</td>\n",
       "      <td>заняться образованием</td>\n",
       "    </tr>\n",
       "    <tr>\n",
       "      <td>21132</td>\n",
       "      <td>0</td>\n",
       "      <td>NaN</td>\n",
       "      <td>47</td>\n",
       "      <td>среднее</td>\n",
       "      <td>женат / замужем</td>\n",
       "      <td>F</td>\n",
       "      <td>сотрудник</td>\n",
       "      <td>0</td>\n",
       "      <td>145017</td>\n",
       "      <td>ремонт жилью</td>\n",
       "    </tr>\n",
       "    <tr>\n",
       "      <td>21281</td>\n",
       "      <td>1</td>\n",
       "      <td>NaN</td>\n",
       "      <td>30</td>\n",
       "      <td>высшее</td>\n",
       "      <td>женат / замужем</td>\n",
       "      <td>F</td>\n",
       "      <td>сотрудник</td>\n",
       "      <td>0</td>\n",
       "      <td>145017</td>\n",
       "      <td>покупка коммерческой недвижимости</td>\n",
       "    </tr>\n",
       "    <tr>\n",
       "      <td>21415</td>\n",
       "      <td>0</td>\n",
       "      <td>NaN</td>\n",
       "      <td>54</td>\n",
       "      <td>среднее</td>\n",
       "      <td>женат / замужем</td>\n",
       "      <td>F</td>\n",
       "      <td>пенсионер</td>\n",
       "      <td>0</td>\n",
       "      <td>145017</td>\n",
       "      <td>операции с жильем</td>\n",
       "    </tr>\n",
       "  </tbody>\n",
       "</table>\n",
       "<p>71 rows × 10 columns</p>\n",
       "</div>"
      ],
      "text/plain": [
       "       children  days_employed  dob_years education     family_status gender  \\\n",
       "2849          0            NaN         41   среднее   женат / замужем      F   \n",
       "3290          0            NaN         58   среднее  гражданский брак      F   \n",
       "4182          1            NaN         34    высшее  гражданский брак      F   \n",
       "4851          0            NaN         60   среднее  гражданский брак      F   \n",
       "5557          0            NaN         58   среднее  гражданский брак      F   \n",
       "...         ...            ...        ...       ...               ...    ...   \n",
       "20702         0            NaN         64   среднее   женат / замужем      F   \n",
       "21032         0            NaN         60   среднее   женат / замужем      F   \n",
       "21132         0            NaN         47   среднее   женат / замужем      F   \n",
       "21281         1            NaN         30    высшее   женат / замужем      F   \n",
       "21415         0            NaN         54   среднее   женат / замужем      F   \n",
       "\n",
       "      income_type  debt  total_income                            purpose  \n",
       "2849    сотрудник     0        145017            покупка жилья для семьи  \n",
       "3290    пенсионер     0        145017                    сыграть свадьбу  \n",
       "4182    сотрудник     0        145017                            свадьба  \n",
       "4851    пенсионер     0        145017                            свадьба  \n",
       "5557    пенсионер     0        145017                    сыграть свадьбу  \n",
       "...           ...   ...           ...                                ...  \n",
       "20702   пенсионер     0        145017         дополнительное образование  \n",
       "21032   пенсионер     0        145017              заняться образованием  \n",
       "21132   сотрудник     0        145017                       ремонт жилью  \n",
       "21281   сотрудник     0        145017  покупка коммерческой недвижимости  \n",
       "21415   пенсионер     0        145017                  операции с жильем  \n",
       "\n",
       "[71 rows x 10 columns]"
      ]
     },
     "execution_count": 66,
     "metadata": {},
     "output_type": "execute_result"
    }
   ],
   "source": [
    "dupls = data.duplicated()\n",
    "dupls = data[dupls]\n",
    "print('Количество дублей -', len(dupls), 'шт.')\n",
    "print('Процентное отношение к фрейму -', '{:.1%}'.format(len(dupls)/len(data)))\n",
    "dupls"
   ]
  },
  {
   "cell_type": "code",
   "execution_count": 67,
   "metadata": {},
   "outputs": [
    {
     "data": {
      "text/html": [
       "<div>\n",
       "<style scoped>\n",
       "    .dataframe tbody tr th:only-of-type {\n",
       "        vertical-align: middle;\n",
       "    }\n",
       "\n",
       "    .dataframe tbody tr th {\n",
       "        vertical-align: top;\n",
       "    }\n",
       "\n",
       "    .dataframe thead th {\n",
       "        text-align: right;\n",
       "    }\n",
       "</style>\n",
       "<table border=\"1\" class=\"dataframe\">\n",
       "  <thead>\n",
       "    <tr style=\"text-align: right;\">\n",
       "      <th></th>\n",
       "      <th>children</th>\n",
       "      <th>days_employed</th>\n",
       "      <th>dob_years</th>\n",
       "      <th>education</th>\n",
       "      <th>family_status</th>\n",
       "      <th>gender</th>\n",
       "      <th>income_type</th>\n",
       "      <th>debt</th>\n",
       "      <th>total_income</th>\n",
       "      <th>purpose</th>\n",
       "    </tr>\n",
       "  </thead>\n",
       "  <tbody>\n",
       "    <tr>\n",
       "      <td>0</td>\n",
       "      <td>1</td>\n",
       "      <td>-8437.673028</td>\n",
       "      <td>42</td>\n",
       "      <td>высшее</td>\n",
       "      <td>женат / замужем</td>\n",
       "      <td>F</td>\n",
       "      <td>сотрудник</td>\n",
       "      <td>0</td>\n",
       "      <td>253875</td>\n",
       "      <td>покупка жилья</td>\n",
       "    </tr>\n",
       "    <tr>\n",
       "      <td>1</td>\n",
       "      <td>1</td>\n",
       "      <td>-4024.803754</td>\n",
       "      <td>36</td>\n",
       "      <td>среднее</td>\n",
       "      <td>женат / замужем</td>\n",
       "      <td>F</td>\n",
       "      <td>сотрудник</td>\n",
       "      <td>0</td>\n",
       "      <td>112080</td>\n",
       "      <td>приобретение автомобиля</td>\n",
       "    </tr>\n",
       "    <tr>\n",
       "      <td>2</td>\n",
       "      <td>0</td>\n",
       "      <td>-5623.422610</td>\n",
       "      <td>33</td>\n",
       "      <td>среднее</td>\n",
       "      <td>женат / замужем</td>\n",
       "      <td>M</td>\n",
       "      <td>сотрудник</td>\n",
       "      <td>0</td>\n",
       "      <td>145885</td>\n",
       "      <td>покупка жилья</td>\n",
       "    </tr>\n",
       "    <tr>\n",
       "      <td>3</td>\n",
       "      <td>3</td>\n",
       "      <td>-4124.747207</td>\n",
       "      <td>32</td>\n",
       "      <td>среднее</td>\n",
       "      <td>женат / замужем</td>\n",
       "      <td>M</td>\n",
       "      <td>сотрудник</td>\n",
       "      <td>0</td>\n",
       "      <td>267628</td>\n",
       "      <td>дополнительное образование</td>\n",
       "    </tr>\n",
       "    <tr>\n",
       "      <td>4</td>\n",
       "      <td>0</td>\n",
       "      <td>340266.072047</td>\n",
       "      <td>53</td>\n",
       "      <td>среднее</td>\n",
       "      <td>гражданский брак</td>\n",
       "      <td>F</td>\n",
       "      <td>пенсионер</td>\n",
       "      <td>0</td>\n",
       "      <td>158616</td>\n",
       "      <td>сыграть свадьбу</td>\n",
       "    </tr>\n",
       "    <tr>\n",
       "      <td>...</td>\n",
       "      <td>...</td>\n",
       "      <td>...</td>\n",
       "      <td>...</td>\n",
       "      <td>...</td>\n",
       "      <td>...</td>\n",
       "      <td>...</td>\n",
       "      <td>...</td>\n",
       "      <td>...</td>\n",
       "      <td>...</td>\n",
       "      <td>...</td>\n",
       "    </tr>\n",
       "    <tr>\n",
       "      <td>21449</td>\n",
       "      <td>1</td>\n",
       "      <td>-4529.316663</td>\n",
       "      <td>43</td>\n",
       "      <td>среднее</td>\n",
       "      <td>гражданский брак</td>\n",
       "      <td>F</td>\n",
       "      <td>компаньон</td>\n",
       "      <td>0</td>\n",
       "      <td>224791</td>\n",
       "      <td>операции с жильем</td>\n",
       "    </tr>\n",
       "    <tr>\n",
       "      <td>21450</td>\n",
       "      <td>0</td>\n",
       "      <td>343937.404131</td>\n",
       "      <td>67</td>\n",
       "      <td>среднее</td>\n",
       "      <td>женат / замужем</td>\n",
       "      <td>F</td>\n",
       "      <td>пенсионер</td>\n",
       "      <td>0</td>\n",
       "      <td>155999</td>\n",
       "      <td>сделка с автомобилем</td>\n",
       "    </tr>\n",
       "    <tr>\n",
       "      <td>21451</td>\n",
       "      <td>1</td>\n",
       "      <td>-2113.346888</td>\n",
       "      <td>38</td>\n",
       "      <td>среднее</td>\n",
       "      <td>гражданский брак</td>\n",
       "      <td>M</td>\n",
       "      <td>сотрудник</td>\n",
       "      <td>1</td>\n",
       "      <td>89672</td>\n",
       "      <td>недвижимость</td>\n",
       "    </tr>\n",
       "    <tr>\n",
       "      <td>21452</td>\n",
       "      <td>3</td>\n",
       "      <td>-3112.481705</td>\n",
       "      <td>38</td>\n",
       "      <td>среднее</td>\n",
       "      <td>женат / замужем</td>\n",
       "      <td>M</td>\n",
       "      <td>сотрудник</td>\n",
       "      <td>1</td>\n",
       "      <td>244093</td>\n",
       "      <td>на покупку своего автомобиля</td>\n",
       "    </tr>\n",
       "    <tr>\n",
       "      <td>21453</td>\n",
       "      <td>2</td>\n",
       "      <td>-1984.507589</td>\n",
       "      <td>40</td>\n",
       "      <td>среднее</td>\n",
       "      <td>женат / замужем</td>\n",
       "      <td>F</td>\n",
       "      <td>сотрудник</td>\n",
       "      <td>0</td>\n",
       "      <td>82047</td>\n",
       "      <td>на покупку автомобиля</td>\n",
       "    </tr>\n",
       "  </tbody>\n",
       "</table>\n",
       "<p>21454 rows × 10 columns</p>\n",
       "</div>"
      ],
      "text/plain": [
       "       children  days_employed  dob_years education     family_status gender  \\\n",
       "0             1   -8437.673028         42    высшее   женат / замужем      F   \n",
       "1             1   -4024.803754         36   среднее   женат / замужем      F   \n",
       "2             0   -5623.422610         33   среднее   женат / замужем      M   \n",
       "3             3   -4124.747207         32   среднее   женат / замужем      M   \n",
       "4             0  340266.072047         53   среднее  гражданский брак      F   \n",
       "...         ...            ...        ...       ...               ...    ...   \n",
       "21449         1   -4529.316663         43   среднее  гражданский брак      F   \n",
       "21450         0  343937.404131         67   среднее   женат / замужем      F   \n",
       "21451         1   -2113.346888         38   среднее  гражданский брак      M   \n",
       "21452         3   -3112.481705         38   среднее   женат / замужем      M   \n",
       "21453         2   -1984.507589         40   среднее   женат / замужем      F   \n",
       "\n",
       "      income_type  debt  total_income                       purpose  \n",
       "0       сотрудник     0        253875                 покупка жилья  \n",
       "1       сотрудник     0        112080       приобретение автомобиля  \n",
       "2       сотрудник     0        145885                 покупка жилья  \n",
       "3       сотрудник     0        267628    дополнительное образование  \n",
       "4       пенсионер     0        158616               сыграть свадьбу  \n",
       "...           ...   ...           ...                           ...  \n",
       "21449   компаньон     0        224791             операции с жильем  \n",
       "21450   пенсионер     0        155999          сделка с автомобилем  \n",
       "21451   сотрудник     1         89672                  недвижимость  \n",
       "21452   сотрудник     1        244093  на покупку своего автомобиля  \n",
       "21453   сотрудник     0         82047         на покупку автомобиля  \n",
       "\n",
       "[21454 rows x 10 columns]"
      ]
     },
     "execution_count": 67,
     "metadata": {},
     "output_type": "execute_result"
    }
   ],
   "source": [
    "data.drop_duplicates().reset_index(drop = True)"
   ]
  },
  {
   "cell_type": "markdown",
   "metadata": {},
   "source": [
    "### Вывод"
   ]
  },
  {
   "cell_type": "markdown",
   "metadata": {},
   "source": [
    "Стало очевидно, что в таблице есть дубли. В выведенной таблице с дублями видно, что дубль в колонке total_income, сумма общего дохода одинаковая для 71 человека. При этом что значения в колонках разные, но количество маленькое 0.3%  \n",
    "Удаление этих строк не должно повлиять на результаты."
   ]
  },
  {
   "cell_type": "markdown",
   "metadata": {},
   "source": [
    "### Лемматизация"
   ]
  },
  {
   "cell_type": "code",
   "execution_count": 68,
   "metadata": {},
   "outputs": [
    {
     "name": "stdout",
     "output_type": "stream",
     "text": [
      "Количество уникальных значений в цели выдачи кредита - 38 шт.\n"
     ]
    },
    {
     "data": {
      "text/plain": [
       "array(['покупка жилья', 'приобретение автомобиля',\n",
       "       'дополнительное образование', 'сыграть свадьбу',\n",
       "       'операции с жильем', 'образование', 'на проведение свадьбы',\n",
       "       'покупка жилья для семьи', 'покупка недвижимости',\n",
       "       'покупка коммерческой недвижимости', 'покупка жилой недвижимости',\n",
       "       'строительство собственной недвижимости', 'недвижимость',\n",
       "       'строительство недвижимости', 'на покупку подержанного автомобиля',\n",
       "       'на покупку своего автомобиля',\n",
       "       'операции с коммерческой недвижимостью',\n",
       "       'строительство жилой недвижимости', 'жилье',\n",
       "       'операции со своей недвижимостью', 'автомобили',\n",
       "       'заняться образованием', 'сделка с подержанным автомобилем',\n",
       "       'получение образования', 'автомобиль', 'свадьба',\n",
       "       'получение дополнительного образования', 'покупка своего жилья',\n",
       "       'операции с недвижимостью', 'получение высшего образования',\n",
       "       'свой автомобиль', 'сделка с автомобилем',\n",
       "       'профильное образование', 'высшее образование',\n",
       "       'покупка жилья для сдачи', 'на покупку автомобиля', 'ремонт жилью',\n",
       "       'заняться высшим образованием'], dtype=object)"
      ]
     },
     "execution_count": 68,
     "metadata": {},
     "output_type": "execute_result"
    }
   ],
   "source": [
    "purpose = data['purpose'].unique()\n",
    "print('Количество уникальных значений в цели выдачи кредита -', len(purpose), 'шт.')\n",
    "purpose"
   ]
  },
  {
   "cell_type": "markdown",
   "metadata": {},
   "source": [
    "Очевидно, что нужно привести 38 целей к 4-5 шт. Приведу уникальные значения к леммам, удалю пробелы, дубликаты и выделю похожие. Потом запишу словарь для того, чтобы функция в нокую колонку ставила значение по найденному ключу в purpose"
   ]
  },
  {
   "cell_type": "code",
   "execution_count": 69,
   "metadata": {},
   "outputs": [
    {
     "name": "stdout",
     "output_type": "stream",
     "text": [
      "Отсортированные леммы - ['\\n', '\\n', '\\n', '\\n', '\\n', '\\n', '\\n', '\\n', '\\n', '\\n', '\\n', '\\n', '\\n', '\\n', '\\n', '\\n', '\\n', '\\n', '\\n', '\\n', '\\n', '\\n', '\\n', '\\n', '\\n', '\\n', '\\n', '\\n', '\\n', '\\n', '\\n', '\\n', '\\n', '\\n', '\\n', '\\n', '\\n', '\\n', ' ', ' ', ' ', ' ', ' ', ' ', ' ', ' ', ' ', ' ', ' ', ' ', ' ', ' ', ' ', ' ', ' ', ' ', ' ', ' ', ' ', ' ', ' ', ' ', ' ', ' ', ' ', ' ', ' ', ' ', ' ', ' ', ' ', ' ', ' ', ' ', ' ', ' ', ' ', ' ', ' ', ' ', ' ', ' ', ' ', ' ', ' ', ' ', ' ', ' ', ' ', ' ', ' ', ' ', ' ', ' ', ' ', ' ', ' ', 'автомобиль', 'автомобиль', 'автомобиль', 'автомобиль', 'автомобиль', 'автомобиль', 'автомобиль', 'автомобиль', 'автомобиль', 'высокий', 'высокий', 'высокий', 'для', 'для', 'дополнительный', 'дополнительный', 'жилой', 'жилой', 'жилье', 'жилье', 'жилье', 'жилье', 'жилье', 'жилье', 'жилье', 'заниматься', 'заниматься', 'коммерческий', 'коммерческий', 'на', 'на', 'на', 'на', 'недвижимость', 'недвижимость', 'недвижимость', 'недвижимость', 'недвижимость', 'недвижимость', 'недвижимость', 'недвижимость', 'недвижимость', 'недвижимость', 'образование', 'образование', 'образование', 'образование', 'образование', 'образование', 'образование', 'образование', 'образование', 'операция', 'операция', 'операция', 'операция', 'подержанный', 'подержать', 'покупка', 'покупка', 'покупка', 'покупка', 'покупка', 'покупка', 'покупка', 'покупка', 'покупка', 'покупка', 'получение', 'получение', 'получение', 'приобретение', 'проведение', 'профильный', 'ремонт', 'с', 'с', 'с', 'с', 'с', 'свадьба', 'свадьба', 'свадьба', 'свой', 'свой', 'свой', 'свой', 'сдача', 'сделка', 'сделка', 'семья', 'со', 'собственный', 'строительство', 'строительство', 'строительство', 'сыграть']\n"
     ]
    }
   ],
   "source": [
    "lemmas = []\n",
    "for i in purpose:\n",
    "    a = m.lemmatize(i)\n",
    "    for j in a:\n",
    "        lemmas.append(j)\n",
    "print('Отсортированные леммы -', sorted(lemmas))"
   ]
  },
  {
   "cell_type": "code",
   "execution_count": 70,
   "metadata": {},
   "outputs": [
    {
     "data": {
      "text/plain": [
       "['\\n',\n",
       " ' ',\n",
       " 'автомобиль',\n",
       " 'высокий',\n",
       " 'для',\n",
       " 'дополнительный',\n",
       " 'жилой',\n",
       " 'жилье',\n",
       " 'заниматься',\n",
       " 'коммерческий',\n",
       " 'на',\n",
       " 'недвижимость',\n",
       " 'образование',\n",
       " 'операция',\n",
       " 'подержанный',\n",
       " 'подержать',\n",
       " 'покупка',\n",
       " 'получение',\n",
       " 'приобретение',\n",
       " 'проведение',\n",
       " 'профильный',\n",
       " 'ремонт',\n",
       " 'с',\n",
       " 'свадьба',\n",
       " 'свой',\n",
       " 'сдача',\n",
       " 'сделка',\n",
       " 'семья',\n",
       " 'со',\n",
       " 'собственный',\n",
       " 'строительство',\n",
       " 'сыграть']"
      ]
     },
     "execution_count": 70,
     "metadata": {},
     "output_type": "execute_result"
    }
   ],
   "source": [
    "lemmas = list(dict.fromkeys(lemmas)) #Удаляю дубликаты и вывожу отсортированный список\n",
    "sorted(lemmas)"
   ]
  },
  {
   "cell_type": "code",
   "execution_count": 71,
   "metadata": {},
   "outputs": [
    {
     "data": {
      "text/plain": [
       "['покупка',\n",
       " 'жилье',\n",
       " 'приобретение',\n",
       " 'автомобиль',\n",
       " 'дополнительный',\n",
       " 'образование',\n",
       " 'сыграть',\n",
       " 'свадьба',\n",
       " 'операция',\n",
       " 'на',\n",
       " 'проведение',\n",
       " 'семья',\n",
       " 'недвижимость',\n",
       " 'коммерческий',\n",
       " 'жилой',\n",
       " 'строительство',\n",
       " 'собственный',\n",
       " 'подержать',\n",
       " 'свой',\n",
       " 'заниматься',\n",
       " 'сделка',\n",
       " 'подержанный',\n",
       " 'получение',\n",
       " 'высокий',\n",
       " 'профильный',\n",
       " 'сдача',\n",
       " 'ремонт']"
      ]
     },
     "execution_count": 71,
     "metadata": {},
     "output_type": "execute_result"
    }
   ],
   "source": [
    "def del_short(mylist, number):  #функция для того, чтобы убрать слова меньше заданного в аргументе числа\n",
    "    for i in mylist:\n",
    "        if len(i) < number:\n",
    "            mylist.remove(i)\n",
    "del_short(lemmas, 4)\n",
    "lemmas"
   ]
  },
  {
   "cell_type": "markdown",
   "metadata": {},
   "source": [
    "Вырисовываются следующие группы по целям кредита:\n",
    "- недвижимость. Здесь будут все операции с жильем, будь то покупка, ремонт или строительство и проч.\n",
    "- автомобиль. Покупка, ремонт машины\n",
    "- образование. Дополнительное, высшее и проч.\n",
    "- свадьба\n",
    "\n",
    "В основном, определяющие слова есть в колонке purpose, поэтому нет смысла делать очень большой словарь вхождений. Хватит синоминов и существительных.  \n",
    "Есть непонятные слова, которые могут подходить под несколько вариантов. Например, \"ремонт\", поэтому нужно посмотреть, где есть такие вхождения и решить к какой группе целей ее отнести. Для этого напишу функцию для проверки. "
   ]
  },
  {
   "cell_type": "code",
   "execution_count": 72,
   "metadata": {},
   "outputs": [
    {
     "name": "stdout",
     "output_type": "stream",
     "text": [
      "операции с жильем\n",
      "операции с коммерческой недвижимостью\n",
      "операции со своей недвижимостью\n",
      "операции с недвижимостью\n",
      "покупка жилья для семьи\n",
      "покупка жилья для сдачи\n",
      "ремонт жилью\n"
     ]
    }
   ],
   "source": [
    "def what_is(list, word):\n",
    "    for i in list:\n",
    "        x = i.find(word)\n",
    "        if x > -1:\n",
    "            print(i)\n",
    "            \n",
    "what_is(purpose, 'операц')\n",
    "what_is(purpose, 'сем')\n",
    "what_is(purpose, 'сдач')\n",
    "what_is(purpose, 'ремонт')"
   ]
  },
  {
   "cell_type": "markdown",
   "metadata": {},
   "source": [
    "### Вывод"
   ]
  },
  {
   "cell_type": "markdown",
   "metadata": {},
   "source": [
    "Теперь нужно создать словарь для всех вхождений. Включу туда только сущетсвительные, т.к. глаголы не говорят о цели ничего. Я хочу сделать именно словарь, т.к. его можно при возможности расширить. Если бы я писала if-else, то его сложнее было бы дополнять."
   ]
  },
  {
   "cell_type": "markdown",
   "metadata": {},
   "source": [
    "### Категоризация данных"
   ]
  },
  {
   "cell_type": "code",
   "execution_count": 73,
   "metadata": {},
   "outputs": [],
   "source": [
    "dictionary = {\n",
    "     'жилье': 'недвижимость',\n",
    "     'недвижимость': 'недвижимость',\n",
    "     'автомобиль': 'автомобиль',\n",
    "     'образование': 'образование',\n",
    "     'свадьба': 'свадьба'\n",
    "\n",
    "}"
   ]
  },
  {
   "cell_type": "code",
   "execution_count": 74,
   "metadata": {},
   "outputs": [],
   "source": [
    "def uni_purpose(row):\n",
    "    a = m.lemmatize(row)\n",
    "    for i in a:\n",
    "        if i in dictionary: \n",
    "            new_purpose = dictionary.get(i)\n",
    "            return new_purpose"
   ]
  },
  {
   "cell_type": "code",
   "execution_count": 75,
   "metadata": {},
   "outputs": [
    {
     "data": {
      "text/html": [
       "<div>\n",
       "<style scoped>\n",
       "    .dataframe tbody tr th:only-of-type {\n",
       "        vertical-align: middle;\n",
       "    }\n",
       "\n",
       "    .dataframe tbody tr th {\n",
       "        vertical-align: top;\n",
       "    }\n",
       "\n",
       "    .dataframe thead th {\n",
       "        text-align: right;\n",
       "    }\n",
       "</style>\n",
       "<table border=\"1\" class=\"dataframe\">\n",
       "  <thead>\n",
       "    <tr style=\"text-align: right;\">\n",
       "      <th></th>\n",
       "      <th>children</th>\n",
       "      <th>days_employed</th>\n",
       "      <th>dob_years</th>\n",
       "      <th>education</th>\n",
       "      <th>family_status</th>\n",
       "      <th>gender</th>\n",
       "      <th>income_type</th>\n",
       "      <th>debt</th>\n",
       "      <th>total_income</th>\n",
       "      <th>purpose</th>\n",
       "      <th>new_purpose</th>\n",
       "    </tr>\n",
       "  </thead>\n",
       "  <tbody>\n",
       "    <tr>\n",
       "      <td>0</td>\n",
       "      <td>1</td>\n",
       "      <td>-8437.673028</td>\n",
       "      <td>42</td>\n",
       "      <td>высшее</td>\n",
       "      <td>женат / замужем</td>\n",
       "      <td>F</td>\n",
       "      <td>сотрудник</td>\n",
       "      <td>0</td>\n",
       "      <td>253875</td>\n",
       "      <td>покупка жилья</td>\n",
       "      <td>недвижимость</td>\n",
       "    </tr>\n",
       "    <tr>\n",
       "      <td>1</td>\n",
       "      <td>1</td>\n",
       "      <td>-4024.803754</td>\n",
       "      <td>36</td>\n",
       "      <td>среднее</td>\n",
       "      <td>женат / замужем</td>\n",
       "      <td>F</td>\n",
       "      <td>сотрудник</td>\n",
       "      <td>0</td>\n",
       "      <td>112080</td>\n",
       "      <td>приобретение автомобиля</td>\n",
       "      <td>автомобиль</td>\n",
       "    </tr>\n",
       "    <tr>\n",
       "      <td>2</td>\n",
       "      <td>0</td>\n",
       "      <td>-5623.422610</td>\n",
       "      <td>33</td>\n",
       "      <td>среднее</td>\n",
       "      <td>женат / замужем</td>\n",
       "      <td>M</td>\n",
       "      <td>сотрудник</td>\n",
       "      <td>0</td>\n",
       "      <td>145885</td>\n",
       "      <td>покупка жилья</td>\n",
       "      <td>недвижимость</td>\n",
       "    </tr>\n",
       "    <tr>\n",
       "      <td>3</td>\n",
       "      <td>3</td>\n",
       "      <td>-4124.747207</td>\n",
       "      <td>32</td>\n",
       "      <td>среднее</td>\n",
       "      <td>женат / замужем</td>\n",
       "      <td>M</td>\n",
       "      <td>сотрудник</td>\n",
       "      <td>0</td>\n",
       "      <td>267628</td>\n",
       "      <td>дополнительное образование</td>\n",
       "      <td>образование</td>\n",
       "    </tr>\n",
       "    <tr>\n",
       "      <td>4</td>\n",
       "      <td>0</td>\n",
       "      <td>340266.072047</td>\n",
       "      <td>53</td>\n",
       "      <td>среднее</td>\n",
       "      <td>гражданский брак</td>\n",
       "      <td>F</td>\n",
       "      <td>пенсионер</td>\n",
       "      <td>0</td>\n",
       "      <td>158616</td>\n",
       "      <td>сыграть свадьбу</td>\n",
       "      <td>свадьба</td>\n",
       "    </tr>\n",
       "  </tbody>\n",
       "</table>\n",
       "</div>"
      ],
      "text/plain": [
       "   children  days_employed  dob_years education     family_status gender  \\\n",
       "0         1   -8437.673028         42    высшее   женат / замужем      F   \n",
       "1         1   -4024.803754         36   среднее   женат / замужем      F   \n",
       "2         0   -5623.422610         33   среднее   женат / замужем      M   \n",
       "3         3   -4124.747207         32   среднее   женат / замужем      M   \n",
       "4         0  340266.072047         53   среднее  гражданский брак      F   \n",
       "\n",
       "  income_type  debt  total_income                     purpose   new_purpose  \n",
       "0   сотрудник     0        253875               покупка жилья  недвижимость  \n",
       "1   сотрудник     0        112080     приобретение автомобиля    автомобиль  \n",
       "2   сотрудник     0        145885               покупка жилья  недвижимость  \n",
       "3   сотрудник     0        267628  дополнительное образование   образование  \n",
       "4   пенсионер     0        158616             сыграть свадьбу       свадьба  "
      ]
     },
     "execution_count": 75,
     "metadata": {},
     "output_type": "execute_result"
    }
   ],
   "source": [
    "data['new_purpose'] = data['purpose'].apply(uni_purpose)\n",
    "data.head()"
   ]
  },
  {
   "cell_type": "code",
   "execution_count": 76,
   "metadata": {},
   "outputs": [
    {
     "data": {
      "text/plain": [
       "array(['недвижимость', 'автомобиль', 'образование', 'свадьба'],\n",
       "      dtype=object)"
      ]
     },
     "execution_count": 76,
     "metadata": {},
     "output_type": "execute_result"
    }
   ],
   "source": [
    "data['new_purpose'].unique()"
   ]
  },
  {
   "cell_type": "markdown",
   "metadata": {},
   "source": [
    "### Вывод"
   ]
  },
  {
   "cell_type": "markdown",
   "metadata": {},
   "source": [
    "Проверила, что нет пропусков и ничего лишнего кроме тех групп, которые я задала. Решила, что лучше сделать новую колонку, чтобы в случае дополнения новыми данными было видно изначальные записи, чтобы в случае чего дополнить цели.  \n",
    "Я выбрала 4 группы (недвижимость, автомибиль, образование, свадьба), потому что они отличаются друг от друга размером долга.\n",
    "1. На покупку или ремонт **недвижимости** идут большие средства, их отдают несколько лет чаще всего. Это категория расходов на порядок выше других. \n",
    "2. **Автомобиль** - достаточно дорогое приобретение, к тому же несет в себе дополнительные траты на ТО или бензин.\n",
    "3. **Образование** - в случае работающих людей эта трата возможно принесет доп.доход, из-за перехода в другую сферу или повышение, т.е. долг может быть отдан быстрее. \n",
    "4. **Свадьба** - единоразовая трата, которая не несет в себе возможные убытки или доходы."
   ]
  },
  {
   "cell_type": "markdown",
   "metadata": {},
   "source": [
    "### Шаг 3. Ответьте на вопросы"
   ]
  },
  {
   "cell_type": "markdown",
   "metadata": {},
   "source": [
    "- Есть ли зависимость между наличием детей и возвратом кредита в срок?"
   ]
  },
  {
   "cell_type": "code",
   "execution_count": 77,
   "metadata": {},
   "outputs": [
    {
     "name": "stdout",
     "output_type": "stream",
     "text": [
      "Количество людей с долгом и с детьми: 678 шт.\n",
      "Количество людей с долгом без детей: 1063 шт.\n",
      "Всего долгов: 1741 шт.\n"
     ]
    }
   ],
   "source": [
    "have_child = data[data['children'] >=1 ] \n",
    "have_no_child = data[data['children'] == 0 ] \n",
    "debt = data[data['debt'] == 1] \n",
    "print('Количество людей с долгом и с детьми:', len(have_child[have_child['debt'] == 1]), 'шт.')\n",
    "print('Количество людей с долгом без детей:', len(have_no_child[have_no_child['debt'] == 1]), 'шт.')\n",
    "print('Всего долгов:', len(debt), 'шт.')"
   ]
  },
  {
   "cell_type": "code",
   "execution_count": 78,
   "metadata": {},
   "outputs": [
    {
     "name": "stdout",
     "output_type": "stream",
     "text": [
      "Отношение людей с детьми к общему числу долгов: 38.9%\n",
      "Отношение людей без детей к общему числу долгов: 61.1%\n"
     ]
    }
   ],
   "source": [
    "print('Отношение людей с детьми к общему числу долгов:', '{:.1%}'.format(len(have_child[have_child['debt'] == 1]) / len(debt)))\n",
    "print('Отношение людей без детей к общему числу долгов:', '{:.1%}'.format(len(have_no_child[have_no_child['debt'] == 1]) / len(debt)))"
   ]
  },
  {
   "cell_type": "markdown",
   "metadata": {},
   "source": [
    "### Вывод"
   ]
  },
  {
   "cell_type": "markdown",
   "metadata": {},
   "source": [
    "Есть обратная зависимоть наличия ребенка и долга по кредиту. Долгов у людей больше, если детей у них нет. Возможно, играет роль финансовое распределение денежных средств в семье. Когда есть дети, то родители берут ответственность за детей на себя и обеспечивают не только себя, а значит более граммотно начинают распоржаться деньгами и стараются не жить в долгах."
   ]
  },
  {
   "cell_type": "markdown",
   "metadata": {},
   "source": [
    "- Есть ли зависимость между семейным положением и возвратом кредита в срок?"
   ]
  },
  {
   "cell_type": "code",
   "execution_count": 79,
   "metadata": {},
   "outputs": [
    {
     "data": {
      "text/plain": [
       "array(['гражданский брак', 'не женат / не замужем', 'женат / замужем',\n",
       "       'вдовец / вдова', 'в разводе'], dtype=object)"
      ]
     },
     "execution_count": 79,
     "metadata": {},
     "output_type": "execute_result"
    }
   ],
   "source": [
    "debt = data[data['debt'] == 1]\n",
    "debt['family_status'].unique()"
   ]
  },
  {
   "cell_type": "code",
   "execution_count": 80,
   "metadata": {},
   "outputs": [
    {
     "name": "stdout",
     "output_type": "stream",
     "text": [
      "Количество людей в браке с долгом: 931 шт.\n",
      "Количество людей в гражданском браке с долгом: 388 шт.\n",
      "Количество людей не в браке с долгом: 274 шт.\n",
      "Количество овдовевших людей с долгом: 63 шт.\n",
      "Количество в разводе людей с долгом: 85 шт.\n",
      "Всего долгов: 1741 шт.\n"
     ]
    }
   ],
   "source": [
    "print('Количество людей в браке с долгом:', len(debt[debt['family_status'] == 'женат / замужем']), 'шт.')\n",
    "print('Количество людей в гражданском браке с долгом:', len(debt[debt['family_status'] == 'гражданский брак']), 'шт.')\n",
    "print('Количество людей не в браке с долгом:', len(debt[debt['family_status'] == 'не женат / не замужем']), 'шт.')\n",
    "print('Количество овдовевших людей с долгом:', len(debt[debt['family_status'] == 'вдовец / вдова']), 'шт.')\n",
    "print('Количество в разводе людей с долгом:', len(debt[debt['family_status'] == 'в разводе']), 'шт.')\n",
    "print('Всего долгов:', len(debt), 'шт.')"
   ]
  },
  {
   "cell_type": "code",
   "execution_count": 81,
   "metadata": {},
   "outputs": [
    {
     "name": "stdout",
     "output_type": "stream",
     "text": [
      "Количество людей в браке любом с долгом: 1319 шт.\n",
      "Количество людей не в браке с долгом: 422 шт.\n"
     ]
    }
   ],
   "source": [
    "print('Количество людей в браке любом с долгом:', len(debt[(debt['family_status'] == 'женат / замужем')|(debt['family_status'] == 'гражданский брак')]), 'шт.')\n",
    "print('Количество людей не в браке с долгом:',len(debt[(debt['family_status'] == 'не женат / не замужем')|(debt['family_status'] == 'вдовец / вдова')|(debt['family_status'] == 'в разводе')]) , 'шт.')"
   ]
  },
  {
   "cell_type": "markdown",
   "metadata": {},
   "source": [
    "### Вывод"
   ]
  },
  {
   "cell_type": "markdown",
   "metadata": {},
   "source": [
    "Цифры говорят нам, что люди в браке не склонны вовремя отдавать долги. Больше всего долгов приходиться как раз на группы с браке(гражданском или обычном), т.е. люди могут вместе вкладывать средства в погашение долга, но предпочитают этого не делать. Может институт брака не очень надежное вложение? Потому что картина складывается такая, что более вероятно, что человек отдаст долг, если он будет один."
   ]
  },
  {
   "cell_type": "markdown",
   "metadata": {},
   "source": [
    "- Есть ли зависимость между уровнем дохода и возвратом кредита в срок?"
   ]
  },
  {
   "cell_type": "code",
   "execution_count": 82,
   "metadata": {},
   "outputs": [
    {
     "data": {
      "text/plain": [
       "(18422.063, 469654.4]     21239\n",
       "(469654.4, 918641.8]        257\n",
       "(918641.8, 1367629.2]        21\n",
       "(1367629.2, 1816616.6]        6\n",
       "(1816616.6, 2265604.0]        2\n",
       "Name: income_group, dtype: int64"
      ]
     },
     "execution_count": 82,
     "metadata": {},
     "output_type": "execute_result"
    }
   ],
   "source": [
    "data['income_group'] = pd.cut(data['total_income'], 5)\n",
    "data['income_group'].value_counts()"
   ]
  },
  {
   "cell_type": "code",
   "execution_count": 83,
   "metadata": {},
   "outputs": [
    {
     "data": {
      "text/plain": [
       "(100000.0, 150000.0]    7878\n",
       "(200000.0, 400000.0]    4538\n",
       "(150000.0, 200000.0]    4118\n",
       "(50000.0, 100000.0]     4091\n",
       "(400000.0, inf]          528\n",
       "(18000.0, 50000.0]       372\n",
       "Name: income_group, dtype: int64"
      ]
     },
     "execution_count": 83,
     "metadata": {},
     "output_type": "execute_result"
    }
   ],
   "source": [
    "data['income_group'] = pd.cut(data['total_income'], 5)\n",
    "data['income_group'] = pd.cut(data['total_income'], [18000, 50000, 100000, 150000, 200000, 400000, np.inf])\n",
    "data['income_group'].value_counts()"
   ]
  },
  {
   "cell_type": "code",
   "execution_count": 84,
   "metadata": {},
   "outputs": [
    {
     "data": {
      "text/html": [
       "<div>\n",
       "<style scoped>\n",
       "    .dataframe tbody tr th:only-of-type {\n",
       "        vertical-align: middle;\n",
       "    }\n",
       "\n",
       "    .dataframe tbody tr th {\n",
       "        vertical-align: top;\n",
       "    }\n",
       "\n",
       "    .dataframe thead th {\n",
       "        text-align: right;\n",
       "    }\n",
       "</style>\n",
       "<table border=\"1\" class=\"dataframe\">\n",
       "  <thead>\n",
       "    <tr style=\"text-align: right;\">\n",
       "      <th></th>\n",
       "      <th>count</th>\n",
       "      <th>sum</th>\n",
       "      <th>mean</th>\n",
       "    </tr>\n",
       "    <tr>\n",
       "      <th>income_group</th>\n",
       "      <th></th>\n",
       "      <th></th>\n",
       "      <th></th>\n",
       "    </tr>\n",
       "  </thead>\n",
       "  <tbody>\n",
       "    <tr>\n",
       "      <td>(18000.0, 50000.0]</td>\n",
       "      <td>372</td>\n",
       "      <td>23</td>\n",
       "      <td>0.061828</td>\n",
       "    </tr>\n",
       "    <tr>\n",
       "      <td>(50000.0, 100000.0]</td>\n",
       "      <td>4091</td>\n",
       "      <td>331</td>\n",
       "      <td>0.080909</td>\n",
       "    </tr>\n",
       "    <tr>\n",
       "      <td>(100000.0, 150000.0]</td>\n",
       "      <td>7878</td>\n",
       "      <td>661</td>\n",
       "      <td>0.083905</td>\n",
       "    </tr>\n",
       "    <tr>\n",
       "      <td>(150000.0, 200000.0]</td>\n",
       "      <td>4118</td>\n",
       "      <td>368</td>\n",
       "      <td>0.089364</td>\n",
       "    </tr>\n",
       "    <tr>\n",
       "      <td>(200000.0, 400000.0]</td>\n",
       "      <td>4538</td>\n",
       "      <td>327</td>\n",
       "      <td>0.072058</td>\n",
       "    </tr>\n",
       "    <tr>\n",
       "      <td>(400000.0, inf]</td>\n",
       "      <td>528</td>\n",
       "      <td>31</td>\n",
       "      <td>0.058712</td>\n",
       "    </tr>\n",
       "  </tbody>\n",
       "</table>\n",
       "</div>"
      ],
      "text/plain": [
       "                      count  sum      mean\n",
       "income_group                              \n",
       "(18000.0, 50000.0]      372   23  0.061828\n",
       "(50000.0, 100000.0]    4091  331  0.080909\n",
       "(100000.0, 150000.0]   7878  661  0.083905\n",
       "(150000.0, 200000.0]   4118  368  0.089364\n",
       "(200000.0, 400000.0]   4538  327  0.072058\n",
       "(400000.0, inf]         528   31  0.058712"
      ]
     },
     "execution_count": 84,
     "metadata": {},
     "output_type": "execute_result"
    }
   ],
   "source": [
    "data.groupby('income_group')['debt'].agg(['count','sum','mean'])"
   ]
  },
  {
   "cell_type": "code",
   "execution_count": 85,
   "metadata": {},
   "outputs": [
    {
     "data": {
      "text/plain": [
       "<matplotlib.axes._subplots.AxesSubplot at 0x7f149ce10290>"
      ]
     },
     "execution_count": 85,
     "metadata": {},
     "output_type": "execute_result"
    },
    {
     "data": {
      "image/png": "[encoded data removed]",
      "text/plain": [
       "<Figure size 432x288 with 1 Axes>"
      ]
     },
     "metadata": {
      "needs_background": "light"
     },
     "output_type": "display_data"
    }
   ],
   "source": [
    "data.groupby('income_group')['debt'].sum().plot(grid=True)"
   ]
  },
  {
   "cell_type": "markdown",
   "metadata": {},
   "source": [
    "### Вывод"
   ]
  },
  {
   "cell_type": "markdown",
   "metadata": {},
   "source": [
    "Я точно не смогла решить как лучше поделить на группы по доходам, т.к. можно было распределить людей по примерно одинаковому количеству человек в группе. Но решила остановиться на текущем варианте."
   ]
  },
  {
   "cell_type": "markdown",
   "metadata": {},
   "source": [
    "Я сгруппировала доход людей по группам. Решила, что при группировке нужно отталкиваться от сумм дохода. Все таки у нас есть как и очень маленькие значения как 18 тыс, так и очень больше 2265 тыс. Поэтому я примерно распределила доход. Самой многочисленной группой вышли люди с доходом от 100 до 150 тыс., тут и долгов больше всего. Интересен тот факт, что чем меньше или больше доход, тем долгов меньше. Мы видим, как кривая на графике идет вверх с увеличением дохода и потом спадает. Но у нас не равномерное количество людей по группам. Предполагаю, что люди с меньшим доходом реже обращаются в банк за кредитом. Далее, когда у них увеличивается доход, то они чувствуют себя увереннее в завтрашнем дне и в том, что смогут отдать кредит вовремя, поэтому берут его на одну из групп \"целей\". Но все может случится. Дальше мы видим спад и, что логично, у людей с большими доходами меньше долгов. Видимо, что они их успели отдать."
   ]
  },
  {
   "cell_type": "markdown",
   "metadata": {},
   "source": [
    "- Как разные цели кредита влияют на его возврат в срок?"
   ]
  },
  {
   "cell_type": "code",
   "execution_count": 101,
   "metadata": {},
   "outputs": [
    {
     "data": {
      "text/html": [
       "<div>\n",
       "<style scoped>\n",
       "    .dataframe tbody tr th:only-of-type {\n",
       "        vertical-align: middle;\n",
       "    }\n",
       "\n",
       "    .dataframe tbody tr th {\n",
       "        vertical-align: top;\n",
       "    }\n",
       "\n",
       "    .dataframe thead tr th {\n",
       "        text-align: left;\n",
       "    }\n",
       "\n",
       "    .dataframe thead tr:last-of-type th {\n",
       "        text-align: right;\n",
       "    }\n",
       "</style>\n",
       "<table border=\"1\" class=\"dataframe\">\n",
       "  <thead>\n",
       "    <tr>\n",
       "      <th></th>\n",
       "      <th>count</th>\n",
       "      <th>sum</th>\n",
       "      <th>mean</th>\n",
       "    </tr>\n",
       "    <tr>\n",
       "      <th></th>\n",
       "      <th>debt</th>\n",
       "      <th>debt</th>\n",
       "      <th>debt</th>\n",
       "    </tr>\n",
       "    <tr>\n",
       "      <th>new_purpose</th>\n",
       "      <th></th>\n",
       "      <th></th>\n",
       "      <th></th>\n",
       "    </tr>\n",
       "  </thead>\n",
       "  <tbody>\n",
       "    <tr>\n",
       "      <td>автомобиль</td>\n",
       "      <td>4315</td>\n",
       "      <td>403</td>\n",
       "      <td>0.093395</td>\n",
       "    </tr>\n",
       "    <tr>\n",
       "      <td>недвижимость</td>\n",
       "      <td>10840</td>\n",
       "      <td>782</td>\n",
       "      <td>0.072140</td>\n",
       "    </tr>\n",
       "    <tr>\n",
       "      <td>образование</td>\n",
       "      <td>4022</td>\n",
       "      <td>370</td>\n",
       "      <td>0.091994</td>\n",
       "    </tr>\n",
       "    <tr>\n",
       "      <td>свадьба</td>\n",
       "      <td>2348</td>\n",
       "      <td>186</td>\n",
       "      <td>0.079216</td>\n",
       "    </tr>\n",
       "  </tbody>\n",
       "</table>\n",
       "</div>"
      ],
      "text/plain": [
       "              count  sum      mean\n",
       "               debt debt      debt\n",
       "new_purpose                       \n",
       "автомобиль     4315  403  0.093395\n",
       "недвижимость  10840  782  0.072140\n",
       "образование    4022  370  0.091994\n",
       "свадьба        2348  186  0.079216"
      ]
     },
     "execution_count": 101,
     "metadata": {},
     "output_type": "execute_result"
    }
   ],
   "source": [
    "data.pivot_table(index='new_purpose', values='debt', aggfunc=['count', 'sum', 'mean'])"
   ]
  },
  {
   "cell_type": "markdown",
   "metadata": {},
   "source": [
    "### Вывод"
   ]
  },
  {
   "cell_type": "markdown",
   "metadata": {},
   "source": [
    "Оказалось, что цель неважна для того, чтобы не возвращать кредит в срок. В таблице в колонке mean видно, что от 7,2 до 9,3% должны по кредиту."
   ]
  },
  {
   "cell_type": "markdown",
   "metadata": {},
   "source": [
    "### Шаг 4. Общий вывод"
   ]
  },
  {
   "cell_type": "markdown",
   "metadata": {},
   "source": [
    "1. Дети заставляют родителей следить за расходами и вовремя возвращать кредит.\n",
    "2. Брак отрицательно сказывается на выплате кредита в срок, что было неожиданным результатом. Потому что у меня были ожидания увидеть связь с детьми. Семье с обоими работающими родителями будет легче отдавать кредит, как я предполагала. Но ситуация показала, что наличие ребенка и брака не гарант возврата средств вовремя. Возможно, надо посмотреть в цели должников с браке и с детьми.\n",
    "3. Группа с общим доходом от 100 до 150 тыс. являются большими неплательщиками, чем остальные.\n",
    "4. Не важно какая цель кредита. До 10% заемщиков должны по кредиту в пределах цели. "
   ]
  }
 ],
 "metadata": {
  "kernelspec": {
   "display_name": "Python 3",
   "language": "python",
   "name": "python3"
  },
  "language_info": {
   "codemirror_mode": {
    "name": "ipython",
    "version": 3
   },
   "file_extension": ".py",
   "mimetype": "text/x-python",
   "name": "python",
   "nbconvert_exporter": "python",
   "pygments_lexer": "ipython3",
   "version": "3.8.3"
  }
 },
 "nbformat": 4,
 "nbformat_minor": 2
}

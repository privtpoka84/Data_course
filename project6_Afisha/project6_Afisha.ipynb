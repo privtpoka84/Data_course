{
 "cells": [
  {
   "cell_type": "markdown",
   "metadata": {},
   "source": [
    "<div style=\"border:solid green 2px; padding: 20px\"> <h1 style=\"color:green; margin-bottom:20px\">Комментарий наставника</h1>\n",
    "\n",
    "Привет! Меня зовут - Сысоева Вера.\n",
    "    \n",
    "Далее в файле мои комментарии ты сможешь найти в ячейках, аналогичных данной ( если рамки комментария зелёные - всё сделано правильно; жёлтые - есть замечания, но не критично; красные - нужно переделать). Не удаляй эти комментарии и постарайся учесть их в ходе выполнения проекта."
   ]
  },
  {
   "cell_type": "markdown",
   "metadata": {},
   "source": [
    "# Оптимизация маркетинговых затрат\n",
    "Вас пригласили на стажировку в отдел аналитики Яндекс.Афиши. Первое задание: помочь маркетологам оптимизировать маркетинговые затраты.\n",
    "У вас в распоряжении есть данные от Яндекс.Афиши с июня 2017 по конец мая 2018 года:\n",
    "- лог сервера с данными о посещениях сайта Яндекс.Афиши,\n",
    "- выгрузка всех заказов за этот период,\n",
    "- статистика рекламных расходов.\n",
    "\n",
    "Вы изучите:\n",
    "- как люди пользуются продуктом,\n",
    "- когда они начинают покупать,\n",
    "- сколько денег приносит каждый клиент\n",
    "- когда клиент окупается.\n",
    "\n",
    "## Описание данных\n",
    "Таблица visits (лог сервера с информацией о посещениях сайта):\n",
    "- Uid — уникальный идентификатор пользователя\n",
    "- Device — категория устройства пользователя\n",
    "- Start Ts — дата и время начала сессии\n",
    "- End Ts — дата и время окончания сессии\n",
    "- Source Id — идентификатор рекламного источника, из которого пришел пользователь\n",
    "\n",
    "Таблица orders (информация о заказах):\n",
    "- Uid — уникальный id пользователя, который сделал заказ\n",
    "- Buy Ts — дата и время заказа\n",
    "- Revenue — выручка Яндекс.Афиши с этого заказа\n",
    "\n",
    "Таблица costs (информация о затратах на маркетинг):\n",
    "- source_id — идентификатор рекламного источника\n",
    "- dt — дата\n",
    "- costs — затраты на этот рекламный источник в этот день\n",
    "\n",
    "## Отчеты и метрики\n",
    "Продукт:\n",
    "- Сколько людей пользуются в день, неделю, месяц?\n",
    "- Сколько сессий в день?\n",
    "- Сколько длится одна сессия?\n",
    "- Как часто люди возвращаются?\n",
    "\n",
    "Продажи:\n",
    "- Когда люди начинают покупать?\n",
    "- Сколько раз покупают за период?\n",
    "- Какой средний чек?\n",
    "- Сколько денег приносят? (LTV)\n",
    "\n",
    "Маркетинг:\n",
    "- Сколько денег потратили? Всего / на каждый источник / по времени\n",
    "- Сколько стоило привлечение одного покупателя из каждого источника?\n",
    "- На сколько окупились расходы? (ROI)\n",
    "\n",
    "Отобразите на графиках, как эти метрики отличаются по устройствам и по рекламным источникам? Как они меняются во времени?"
   ]
  },
  {
   "cell_type": "markdown",
   "metadata": {},
   "source": [
    "## Шаг 1. Загрузка данных и подготовка их к анализу. "
   ]
  },
  {
   "cell_type": "code",
   "execution_count": 2,
   "metadata": {},
   "outputs": [],
   "source": [
    "import pandas as pd\n",
    "import numpy as np\n",
    "from pymystem3 import Mystem\n",
    "m = Mystem()\n",
    "import matplotlib.pyplot as plt\n",
    "import seaborn as sns\n",
    "#для Практикума\n",
    "#visits = pd.read_csv('/datasets/visits_log.csv')\n",
    "#orders = pd.read_csv('/datasets/orders_log.csv')\n",
    "#costs = pd.read_csv('/datasets/costs.csv')\n",
    "#для локалки\n",
    "visits = pd.read_csv('C://Users/Ритер/Desktop/GitHub/Data_course/Afisha/visits_log.csv')\n",
    "orders = pd.read_csv('C://Users/Ритер/Desktop/GitHub/Data_course/Afisha/orders_log.csv')\n",
    "costs = pd.read_csv('C://Users/Ритер/Desktop/GitHub/Data_course/Afisha/costs.csv')"
   ]
  },
  {
   "cell_type": "markdown",
   "metadata": {},
   "source": [
    "Рассмотрим каждую таблицу отдельно и приведем в порядок"
   ]
  },
  {
   "cell_type": "code",
   "execution_count": 3,
   "metadata": {},
   "outputs": [
    {
     "name": "stdout",
     "output_type": "stream",
     "text": [
      "<class 'pandas.core.frame.DataFrame'>\n",
      "RangeIndex: 359400 entries, 0 to 359399\n",
      "Data columns (total 5 columns):\n",
      " #   Column     Non-Null Count   Dtype \n",
      "---  ------     --------------   ----- \n",
      " 0   Device     359400 non-null  object\n",
      " 1   End Ts     359400 non-null  object\n",
      " 2   Source Id  359400 non-null  int64 \n",
      " 3   Start Ts   359400 non-null  object\n",
      " 4   Uid        359400 non-null  uint64\n",
      "dtypes: int64(1), object(3), uint64(1)\n",
      "memory usage: 13.7+ MB\n",
      "None\n"
     ]
    },
    {
     "data": {
      "text/html": [
       "<div>\n",
       "<style scoped>\n",
       "    .dataframe tbody tr th:only-of-type {\n",
       "        vertical-align: middle;\n",
       "    }\n",
       "\n",
       "    .dataframe tbody tr th {\n",
       "        vertical-align: top;\n",
       "    }\n",
       "\n",
       "    .dataframe thead th {\n",
       "        text-align: right;\n",
       "    }\n",
       "</style>\n",
       "<table border=\"1\" class=\"dataframe\">\n",
       "  <thead>\n",
       "    <tr style=\"text-align: right;\">\n",
       "      <th></th>\n",
       "      <th>Device</th>\n",
       "      <th>End Ts</th>\n",
       "      <th>Source Id</th>\n",
       "      <th>Start Ts</th>\n",
       "      <th>Uid</th>\n",
       "    </tr>\n",
       "  </thead>\n",
       "  <tbody>\n",
       "    <tr>\n",
       "      <th>0</th>\n",
       "      <td>touch</td>\n",
       "      <td>2017-12-20 17:38:00</td>\n",
       "      <td>4</td>\n",
       "      <td>2017-12-20 17:20:00</td>\n",
       "      <td>16879256277535980062</td>\n",
       "    </tr>\n",
       "    <tr>\n",
       "      <th>1</th>\n",
       "      <td>desktop</td>\n",
       "      <td>2018-02-19 17:21:00</td>\n",
       "      <td>2</td>\n",
       "      <td>2018-02-19 16:53:00</td>\n",
       "      <td>104060357244891740</td>\n",
       "    </tr>\n",
       "    <tr>\n",
       "      <th>2</th>\n",
       "      <td>touch</td>\n",
       "      <td>2017-07-01 01:54:00</td>\n",
       "      <td>5</td>\n",
       "      <td>2017-07-01 01:54:00</td>\n",
       "      <td>7459035603376831527</td>\n",
       "    </tr>\n",
       "    <tr>\n",
       "      <th>3</th>\n",
       "      <td>desktop</td>\n",
       "      <td>2018-05-20 11:23:00</td>\n",
       "      <td>9</td>\n",
       "      <td>2018-05-20 10:59:00</td>\n",
       "      <td>16174680259334210214</td>\n",
       "    </tr>\n",
       "    <tr>\n",
       "      <th>4</th>\n",
       "      <td>desktop</td>\n",
       "      <td>2017-12-27 14:06:00</td>\n",
       "      <td>3</td>\n",
       "      <td>2017-12-27 14:06:00</td>\n",
       "      <td>9969694820036681168</td>\n",
       "    </tr>\n",
       "  </tbody>\n",
       "</table>\n",
       "</div>"
      ],
      "text/plain": [
       "    Device               End Ts  Source Id             Start Ts  \\\n",
       "0    touch  2017-12-20 17:38:00          4  2017-12-20 17:20:00   \n",
       "1  desktop  2018-02-19 17:21:00          2  2018-02-19 16:53:00   \n",
       "2    touch  2017-07-01 01:54:00          5  2017-07-01 01:54:00   \n",
       "3  desktop  2018-05-20 11:23:00          9  2018-05-20 10:59:00   \n",
       "4  desktop  2017-12-27 14:06:00          3  2017-12-27 14:06:00   \n",
       "\n",
       "                    Uid  \n",
       "0  16879256277535980062  \n",
       "1    104060357244891740  \n",
       "2   7459035603376831527  \n",
       "3  16174680259334210214  \n",
       "4   9969694820036681168  "
      ]
     },
     "execution_count": 3,
     "metadata": {},
     "output_type": "execute_result"
    }
   ],
   "source": [
    "print(visits.info())\n",
    "visits.head()"
   ]
  },
  {
   "cell_type": "code",
   "execution_count": 4,
   "metadata": {},
   "outputs": [],
   "source": [
    "visits.columns = ['device', 'end_ts', 'source_id', 'start_ts', 'uid']"
   ]
  },
  {
   "cell_type": "code",
   "execution_count": 5,
   "metadata": {},
   "outputs": [],
   "source": [
    "visits['end_ts'] = pd.to_datetime(visits['end_ts'], format ='%Y-%m-%d %H:%M:%S')\n",
    "visits['start_ts'] = pd.to_datetime(visits['start_ts'], format ='%Y-%m-%d %H:%M:%S')"
   ]
  },
  {
   "cell_type": "code",
   "execution_count": 6,
   "metadata": {},
   "outputs": [
    {
     "data": {
      "text/plain": [
       "0"
      ]
     },
     "execution_count": 6,
     "metadata": {},
     "output_type": "execute_result"
    }
   ],
   "source": [
    "visits.duplicated().sum()"
   ]
  },
  {
   "cell_type": "code",
   "execution_count": 7,
   "metadata": {},
   "outputs": [
    {
     "name": "stdout",
     "output_type": "stream",
     "text": [
      "<class 'pandas.core.frame.DataFrame'>\n",
      "RangeIndex: 50415 entries, 0 to 50414\n",
      "Data columns (total 3 columns):\n",
      " #   Column   Non-Null Count  Dtype  \n",
      "---  ------   --------------  -----  \n",
      " 0   Buy Ts   50415 non-null  object \n",
      " 1   Revenue  50415 non-null  float64\n",
      " 2   Uid      50415 non-null  uint64 \n",
      "dtypes: float64(1), object(1), uint64(1)\n",
      "memory usage: 1.2+ MB\n",
      "None\n"
     ]
    },
    {
     "data": {
      "text/html": [
       "<div>\n",
       "<style scoped>\n",
       "    .dataframe tbody tr th:only-of-type {\n",
       "        vertical-align: middle;\n",
       "    }\n",
       "\n",
       "    .dataframe tbody tr th {\n",
       "        vertical-align: top;\n",
       "    }\n",
       "\n",
       "    .dataframe thead th {\n",
       "        text-align: right;\n",
       "    }\n",
       "</style>\n",
       "<table border=\"1\" class=\"dataframe\">\n",
       "  <thead>\n",
       "    <tr style=\"text-align: right;\">\n",
       "      <th></th>\n",
       "      <th>Buy Ts</th>\n",
       "      <th>Revenue</th>\n",
       "      <th>Uid</th>\n",
       "    </tr>\n",
       "  </thead>\n",
       "  <tbody>\n",
       "    <tr>\n",
       "      <th>0</th>\n",
       "      <td>2017-06-01 00:10:00</td>\n",
       "      <td>17.00</td>\n",
       "      <td>10329302124590727494</td>\n",
       "    </tr>\n",
       "    <tr>\n",
       "      <th>1</th>\n",
       "      <td>2017-06-01 00:25:00</td>\n",
       "      <td>0.55</td>\n",
       "      <td>11627257723692907447</td>\n",
       "    </tr>\n",
       "    <tr>\n",
       "      <th>2</th>\n",
       "      <td>2017-06-01 00:27:00</td>\n",
       "      <td>0.37</td>\n",
       "      <td>17903680561304213844</td>\n",
       "    </tr>\n",
       "    <tr>\n",
       "      <th>3</th>\n",
       "      <td>2017-06-01 00:29:00</td>\n",
       "      <td>0.55</td>\n",
       "      <td>16109239769442553005</td>\n",
       "    </tr>\n",
       "    <tr>\n",
       "      <th>4</th>\n",
       "      <td>2017-06-01 07:58:00</td>\n",
       "      <td>0.37</td>\n",
       "      <td>14200605875248379450</td>\n",
       "    </tr>\n",
       "  </tbody>\n",
       "</table>\n",
       "</div>"
      ],
      "text/plain": [
       "                Buy Ts  Revenue                   Uid\n",
       "0  2017-06-01 00:10:00    17.00  10329302124590727494\n",
       "1  2017-06-01 00:25:00     0.55  11627257723692907447\n",
       "2  2017-06-01 00:27:00     0.37  17903680561304213844\n",
       "3  2017-06-01 00:29:00     0.55  16109239769442553005\n",
       "4  2017-06-01 07:58:00     0.37  14200605875248379450"
      ]
     },
     "execution_count": 7,
     "metadata": {},
     "output_type": "execute_result"
    }
   ],
   "source": [
    "print(orders.info())\n",
    "orders.head()"
   ]
  },
  {
   "cell_type": "code",
   "execution_count": 8,
   "metadata": {},
   "outputs": [],
   "source": [
    "orders.columns = ['buy_ts', 'revenue', 'uid']"
   ]
  },
  {
   "cell_type": "code",
   "execution_count": 9,
   "metadata": {},
   "outputs": [],
   "source": [
    "orders['buy_ts'] = pd.to_datetime(orders['buy_ts'], format ='%Y-%m-%d %H:%M:%S')"
   ]
  },
  {
   "cell_type": "code",
   "execution_count": 10,
   "metadata": {},
   "outputs": [
    {
     "data": {
      "text/plain": [
       "0"
      ]
     },
     "execution_count": 10,
     "metadata": {},
     "output_type": "execute_result"
    }
   ],
   "source": [
    "orders.duplicated().sum()"
   ]
  },
  {
   "cell_type": "code",
   "execution_count": 11,
   "metadata": {},
   "outputs": [
    {
     "name": "stdout",
     "output_type": "stream",
     "text": [
      "<class 'pandas.core.frame.DataFrame'>\n",
      "RangeIndex: 2542 entries, 0 to 2541\n",
      "Data columns (total 3 columns):\n",
      " #   Column     Non-Null Count  Dtype  \n",
      "---  ------     --------------  -----  \n",
      " 0   source_id  2542 non-null   int64  \n",
      " 1   dt         2542 non-null   object \n",
      " 2   costs      2542 non-null   float64\n",
      "dtypes: float64(1), int64(1), object(1)\n",
      "memory usage: 59.7+ KB\n",
      "None\n"
     ]
    },
    {
     "data": {
      "text/html": [
       "<div>\n",
       "<style scoped>\n",
       "    .dataframe tbody tr th:only-of-type {\n",
       "        vertical-align: middle;\n",
       "    }\n",
       "\n",
       "    .dataframe tbody tr th {\n",
       "        vertical-align: top;\n",
       "    }\n",
       "\n",
       "    .dataframe thead th {\n",
       "        text-align: right;\n",
       "    }\n",
       "</style>\n",
       "<table border=\"1\" class=\"dataframe\">\n",
       "  <thead>\n",
       "    <tr style=\"text-align: right;\">\n",
       "      <th></th>\n",
       "      <th>source_id</th>\n",
       "      <th>dt</th>\n",
       "      <th>costs</th>\n",
       "    </tr>\n",
       "  </thead>\n",
       "  <tbody>\n",
       "    <tr>\n",
       "      <th>0</th>\n",
       "      <td>1</td>\n",
       "      <td>2017-06-01</td>\n",
       "      <td>75.20</td>\n",
       "    </tr>\n",
       "    <tr>\n",
       "      <th>1</th>\n",
       "      <td>1</td>\n",
       "      <td>2017-06-02</td>\n",
       "      <td>62.25</td>\n",
       "    </tr>\n",
       "    <tr>\n",
       "      <th>2</th>\n",
       "      <td>1</td>\n",
       "      <td>2017-06-03</td>\n",
       "      <td>36.53</td>\n",
       "    </tr>\n",
       "    <tr>\n",
       "      <th>3</th>\n",
       "      <td>1</td>\n",
       "      <td>2017-06-04</td>\n",
       "      <td>55.00</td>\n",
       "    </tr>\n",
       "    <tr>\n",
       "      <th>4</th>\n",
       "      <td>1</td>\n",
       "      <td>2017-06-05</td>\n",
       "      <td>57.08</td>\n",
       "    </tr>\n",
       "  </tbody>\n",
       "</table>\n",
       "</div>"
      ],
      "text/plain": [
       "   source_id          dt  costs\n",
       "0          1  2017-06-01  75.20\n",
       "1          1  2017-06-02  62.25\n",
       "2          1  2017-06-03  36.53\n",
       "3          1  2017-06-04  55.00\n",
       "4          1  2017-06-05  57.08"
      ]
     },
     "execution_count": 11,
     "metadata": {},
     "output_type": "execute_result"
    }
   ],
   "source": [
    "print(costs.info())\n",
    "costs.head()"
   ]
  },
  {
   "cell_type": "code",
   "execution_count": 12,
   "metadata": {},
   "outputs": [],
   "source": [
    "costs.columns = ['source_id', 'data', 'costs']"
   ]
  },
  {
   "cell_type": "code",
   "execution_count": 13,
   "metadata": {},
   "outputs": [],
   "source": [
    "costs['data'] = pd.to_datetime(costs['data'], format ='%Y-%m-%d')"
   ]
  },
  {
   "cell_type": "code",
   "execution_count": 14,
   "metadata": {},
   "outputs": [
    {
     "name": "stdout",
     "output_type": "stream",
     "text": [
      "<class 'pandas.core.frame.DataFrame'>\n",
      "RangeIndex: 359400 entries, 0 to 359399\n",
      "Data columns (total 5 columns):\n",
      " #   Column     Non-Null Count   Dtype         \n",
      "---  ------     --------------   -----         \n",
      " 0   device     359400 non-null  object        \n",
      " 1   end_ts     359400 non-null  datetime64[ns]\n",
      " 2   source_id  359400 non-null  int64         \n",
      " 3   start_ts   359400 non-null  datetime64[ns]\n",
      " 4   uid        359400 non-null  uint64        \n",
      "dtypes: datetime64[ns](2), int64(1), object(1), uint64(1)\n",
      "memory usage: 13.7+ MB\n",
      "None\n",
      "<class 'pandas.core.frame.DataFrame'>\n",
      "RangeIndex: 50415 entries, 0 to 50414\n",
      "Data columns (total 3 columns):\n",
      " #   Column   Non-Null Count  Dtype         \n",
      "---  ------   --------------  -----         \n",
      " 0   buy_ts   50415 non-null  datetime64[ns]\n",
      " 1   revenue  50415 non-null  float64       \n",
      " 2   uid      50415 non-null  uint64        \n",
      "dtypes: datetime64[ns](1), float64(1), uint64(1)\n",
      "memory usage: 1.2 MB\n",
      "None\n",
      "<class 'pandas.core.frame.DataFrame'>\n",
      "RangeIndex: 2542 entries, 0 to 2541\n",
      "Data columns (total 3 columns):\n",
      " #   Column     Non-Null Count  Dtype         \n",
      "---  ------     --------------  -----         \n",
      " 0   source_id  2542 non-null   int64         \n",
      " 1   data       2542 non-null   datetime64[ns]\n",
      " 2   costs      2542 non-null   float64       \n",
      "dtypes: datetime64[ns](1), float64(1), int64(1)\n",
      "memory usage: 59.7 KB\n",
      "None\n"
     ]
    }
   ],
   "source": [
    "print(visits.info())\n",
    "print(orders.info())\n",
    "print(costs.info())"
   ]
  },
  {
   "cell_type": "markdown",
   "metadata": {},
   "source": [
    "### Вывод"
   ]
  },
  {
   "cell_type": "markdown",
   "metadata": {},
   "source": [
    "Я привела даты к формату, чтобы дальше с ними работать было удобнее. Поменяла стиль написания у колонок, чтобы они были одинаковы. Пропусков у нас нет.\n",
    "\n",
    "<div style=\"border:solid green 2px; padding: 20px\"> <h1 style=\"color:green; margin-bottom:20px\">Комментарий наставника</h1>\n",
    "\n",
    "Ок, из проблем только даты, теперь можно переходить к анализу"
   ]
  },
  {
   "cell_type": "markdown",
   "metadata": {},
   "source": [
    "## Шаг 2. Отчеты и метрики"
   ]
  },
  {
   "cell_type": "markdown",
   "metadata": {},
   "source": [
    "Ниже будут отчеты по продукту. Посмотрим сколько людей пользуются продуктом в день/неделю/месяц, т.е. посмотрим DAU, WAU, MAU"
   ]
  },
  {
   "cell_type": "code",
   "execution_count": 15,
   "metadata": {},
   "outputs": [],
   "source": [
    "visits['year'] = visits['start_ts'].dt.year\n",
    "visits['month'] = visits['start_ts'].dt.month \n",
    "visits['week'] = visits['start_ts'].dt.week \n",
    "visits['day'] = visits['start_ts'].dt.date "
   ]
  },
  {
   "cell_type": "code",
   "execution_count": 16,
   "metadata": {},
   "outputs": [],
   "source": [
    "mau = visits.groupby(['year', 'month']).agg({'uid':'nunique'}).mean()\n",
    "wau = visits.groupby(['year', 'week']).agg({'uid':'nunique'}).mean()\n",
    "dau= visits.groupby('day').agg({'uid':'nunique'}).mean()"
   ]
  },
  {
   "cell_type": "code",
   "execution_count": 17,
   "metadata": {},
   "outputs": [
    {
     "name": "stdout",
     "output_type": "stream",
     "text": [
      "Количество пользователей в день: 907 человек\n",
      "Количество пользователей в неделю: 5716 человек\n",
      "Количество пользователей в месяц: 23228 человек\n"
     ]
    }
   ],
   "source": [
    "print('Количество пользователей в день: {} человек'.format(int(dau)))\n",
    "print('Количество пользователей в неделю: {} человек'.format(int(wau)))\n",
    "print('Количество пользователей в месяц: {} человек'.format(int(mau)))"
   ]
  },
  {
   "cell_type": "markdown",
   "metadata": {},
   "source": [
    "<div style=\"border:solid gold 2px; padding: 20px\"> <h1 style=\"color:gold; margin-bottom:20px\">Комментарий наставника</h1>\n",
    "\n",
    "Параметры рассчитаны верно, но стоило рассмотреть динамику."
   ]
  },
  {
   "cell_type": "markdown",
   "metadata": {},
   "source": [
    "Рассчитаем регулярность использования сервисом"
   ]
  },
  {
   "cell_type": "code",
   "execution_count": 18,
   "metadata": {},
   "outputs": [
    {
     "name": "stdout",
     "output_type": "stream",
     "text": [
      "Степень вовлеченности пользователей в неделю 15.9%\n",
      "Степень вовлеченности пользователей в месяц 3.9%\n"
     ]
    }
   ],
   "source": [
    "print('Степень вовлеченности пользователей в неделю {:.1%}'.format(float(dau/wau)))\n",
    "print('Степень вовлеченности пользователей в месяц {:.1%}'.format(float(dau/mau)))"
   ]
  },
  {
   "cell_type": "markdown",
   "metadata": {},
   "source": [
    "Кроме Sticky factor посмотрим на характер сессий пользователей, чтобы лучше понять регулярность пользования"
   ]
  },
  {
   "cell_type": "code",
   "execution_count": 19,
   "metadata": {},
   "outputs": [
    {
     "name": "stdout",
     "output_type": "stream",
     "text": [
      "Среднее количество сессий в день на пользователя: 1.08 сессий\n"
     ]
    },
    {
     "data": {
      "text/html": [
       "<div>\n",
       "<style scoped>\n",
       "    .dataframe tbody tr th:only-of-type {\n",
       "        vertical-align: middle;\n",
       "    }\n",
       "\n",
       "    .dataframe tbody tr th {\n",
       "        vertical-align: top;\n",
       "    }\n",
       "\n",
       "    .dataframe thead th {\n",
       "        text-align: right;\n",
       "    }\n",
       "</style>\n",
       "<table border=\"1\" class=\"dataframe\">\n",
       "  <thead>\n",
       "    <tr style=\"text-align: right;\">\n",
       "      <th></th>\n",
       "      <th>year</th>\n",
       "      <th>month</th>\n",
       "      <th>day</th>\n",
       "      <th>cnt_ses</th>\n",
       "      <th>n_users</th>\n",
       "      <th>session_per_user</th>\n",
       "    </tr>\n",
       "  </thead>\n",
       "  <tbody>\n",
       "    <tr>\n",
       "      <th>0</th>\n",
       "      <td>2017</td>\n",
       "      <td>6</td>\n",
       "      <td>2017-06-01</td>\n",
       "      <td>664</td>\n",
       "      <td>605</td>\n",
       "      <td>1.097521</td>\n",
       "    </tr>\n",
       "    <tr>\n",
       "      <th>1</th>\n",
       "      <td>2017</td>\n",
       "      <td>6</td>\n",
       "      <td>2017-06-02</td>\n",
       "      <td>658</td>\n",
       "      <td>608</td>\n",
       "      <td>1.082237</td>\n",
       "    </tr>\n",
       "    <tr>\n",
       "      <th>2</th>\n",
       "      <td>2017</td>\n",
       "      <td>6</td>\n",
       "      <td>2017-06-03</td>\n",
       "      <td>477</td>\n",
       "      <td>445</td>\n",
       "      <td>1.071910</td>\n",
       "    </tr>\n",
       "    <tr>\n",
       "      <th>3</th>\n",
       "      <td>2017</td>\n",
       "      <td>6</td>\n",
       "      <td>2017-06-04</td>\n",
       "      <td>510</td>\n",
       "      <td>476</td>\n",
       "      <td>1.071429</td>\n",
       "    </tr>\n",
       "    <tr>\n",
       "      <th>4</th>\n",
       "      <td>2017</td>\n",
       "      <td>6</td>\n",
       "      <td>2017-06-05</td>\n",
       "      <td>893</td>\n",
       "      <td>820</td>\n",
       "      <td>1.089024</td>\n",
       "    </tr>\n",
       "  </tbody>\n",
       "</table>\n",
       "</div>"
      ],
      "text/plain": [
       "   year  month         day  cnt_ses  n_users  session_per_user\n",
       "0  2017      6  2017-06-01      664      605          1.097521\n",
       "1  2017      6  2017-06-02      658      608          1.082237\n",
       "2  2017      6  2017-06-03      477      445          1.071910\n",
       "3  2017      6  2017-06-04      510      476          1.071429\n",
       "4  2017      6  2017-06-05      893      820          1.089024"
      ]
     },
     "execution_count": 19,
     "metadata": {},
     "output_type": "execute_result"
    }
   ],
   "source": [
    "session_day = visits.groupby(['year','month','day']).agg({'uid':['count','nunique']}).reset_index()\n",
    "session_day.columns = ['year','month','day', 'cnt_ses', 'n_users']\n",
    "session_day['session_per_user'] = session_day['cnt_ses'] / session_day['n_users']\n",
    "print('Среднее количество сессий в день на пользователя: {:.2f} сессий'.format(session_day['session_per_user'].mean()))\n",
    "session_day.head()"
   ]
  },
  {
   "cell_type": "markdown",
   "metadata": {},
   "source": [
    "Привычнее рассматривать время в минутах, поэтому я перевожу в них и буду рассматривать графики тоже в них"
   ]
  },
  {
   "cell_type": "code",
   "execution_count": 20,
   "metadata": {},
   "outputs": [
    {
     "data": {
      "text/plain": [
       "Text(0.5, 0, 'длина сессии, мин.')"
      ]
     },
     "execution_count": 20,
     "metadata": {},
     "output_type": "execute_result"
    },
    {
     "data": {
      "image/png": "[encoded data removed]",
      "text/plain": [
       "<Figure size 576x360 with 1 Axes>"
      ]
     },
     "metadata": {
      "needs_background": "light"
     },
     "output_type": "display_data"
    }
   ],
   "source": [
    "visits['session_duration_sec'] = (visits['end_ts'] - visits['start_ts']).dt.seconds\n",
    "visits['session_duration_min'] = visits['session_duration_sec'] / 60\n",
    "plt.figure(figsize=(8, 5))\n",
    "visits['session_duration_min'].hist(bins=50, range=(0,150))\n",
    "plt.title('Распределение длины сессии в минутах')\n",
    "plt.xlabel('длина сессии, мин.')"
   ]
  },
  {
   "cell_type": "markdown",
   "metadata": {},
   "source": [
    "Так как у нас не нормально распределение, то нужно рассматривать не только среднее и медиану, но и моду тоже."
   ]
  },
  {
   "cell_type": "code",
   "execution_count": 21,
   "metadata": {},
   "outputs": [
    {
     "name": "stdout",
     "output_type": "stream",
     "text": [
      "Средняя продолжительность сессии: 11 минут\n",
      "Медиана продолжительности сессии: 5 минут\n",
      "Мода продолжительности сессии: 1 минута\n"
     ]
    }
   ],
   "source": [
    "print('Средняя продолжительность сессии: {:.0f} минут'. format(visits['session_duration_min'].mean()))\n",
    "print('Медиана продолжительности сессии: {:.0f} минут'. format(visits['session_duration_min'].median()))\n",
    "print('Мода продолжительности сессии: {} минута'. format(int(visits['session_duration_min'].mode())))"
   ]
  },
  {
   "cell_type": "markdown",
   "metadata": {},
   "source": [
    "Рассмотрим различаются ли сессии на разных устройствах"
   ]
  },
  {
   "cell_type": "code",
   "execution_count": 22,
   "metadata": {},
   "outputs": [
    {
     "data": {
      "text/plain": [
       "Text(0, 0.5, 'длина сессии, мин.')"
      ]
     },
     "execution_count": 22,
     "metadata": {},
     "output_type": "execute_result"
    },
    {
     "data": {
      "image/png": "[encoded data removed]",
      "text/plain": [
       "<Figure size 800x640 with 1 Axes>"
      ]
     },
     "metadata": {
      "needs_background": "light"
     },
     "output_type": "display_data"
    }
   ],
   "source": [
    "plt.figure(figsize=(10, 8), dpi= 80)\n",
    "sns.boxplot(x='device', y='session_duration_min', data=visits[visits['session_duration_min'] < 40])\n",
    "plt.title('Длина сессий на разных девайсах')\n",
    "plt.xlabel('девайсы')\n",
    "plt.ylabel('длина сессии, мин.')"
   ]
  },
  {
   "cell_type": "code",
   "execution_count": 23,
   "metadata": {},
   "outputs": [
    {
     "name": "stdout",
     "output_type": "stream",
     "text": [
      "Средняя продолжительность сессии на мобильных: 8 минут\n",
      "Средняя продолжительность сессии на компьютерах: 12 минут\n",
      "Медиана продолжительности сессии на мобильных: 3 минуты\n",
      "Медиана продолжительности сессии на компьютерах: 6 минут\n",
      "Мода продолжительности сессии на мобильных: 1 минута\n",
      "Мода продолжительности сессии на компьютерах: 1 минута\n"
     ]
    }
   ],
   "source": [
    "print('Средняя продолжительность сессии на мобильных: {:.0f} минут'. format(visits[visits['device'] == 'touch']['session_duration_min'].mean()))\n",
    "print('Средняя продолжительность сессии на компьютерах: {:.0f} минут'. format(visits[visits['device'] == 'desktop']['session_duration_min'].mean()))\n",
    "print('Медиана продолжительности сессии на мобильных: {:.0f} минуты'. format(visits[visits['device'] == 'touch']['session_duration_min'].median()))\n",
    "print('Медиана продолжительности сессии на компьютерах: {:.0f} минут'. format(visits[visits['device'] == 'desktop']['session_duration_min'].median()))\n",
    "print('Мода продолжительности сессии на мобильных: {} минута'. format(int(visits[visits['device'] == 'touch']['session_duration_min'].mode())))\n",
    "print('Мода продолжительности сессии на компьютерах: {} минута'. format(int(visits[visits['device'] == 'desktop']['session_duration_min'].mode())))"
   ]
  },
  {
   "cell_type": "markdown",
   "metadata": {},
   "source": [
    "Т.к. длина сессии отличается на устройствах можно посмотреть где больше нулевых и коротких сессии. Смотреть будем по секундам. Короткую сессию возьмем до 60 секунд(наша мода)"
   ]
  },
  {
   "cell_type": "code",
   "execution_count": 24,
   "metadata": {},
   "outputs": [
    {
     "name": "stdout",
     "output_type": "stream",
     "text": [
      "Всего сессий на мобильных: 96833 шт.\n",
      "Всего сессий на компьютерах: 262567 шт.\n",
      "Количество коротких сессий на мобильных: 12319 шт.\n",
      "Количество коротких сессий на компьютерах: 24343 шт.\n"
     ]
    }
   ],
   "source": [
    "print('Всего сессий на мобильных: {} шт.'.format(len(visits.query('device == \"touch\"'))))\n",
    "print('Всего сессий на компьютерах: {} шт.'.format(len(visits.query('device == \"desktop\"'))))\n",
    "print('Количество коротких сессий на мобильных: {} шт.'.format(len(visits.query('device == \"touch\" & session_duration_sec < 60'))))\n",
    "print('Количество коротких сессий на компьютерах: {} шт.'.format(len(visits.query('device == \"desktop\" & session_duration_sec < 60'))))"
   ]
  },
  {
   "cell_type": "markdown",
   "metadata": {},
   "source": [
    "Отличается ли длина сессии от месяца к месяцу?"
   ]
  },
  {
   "cell_type": "code",
   "execution_count": 25,
   "metadata": {},
   "outputs": [
    {
     "data": {
      "image/png": "[encoded data removed]",
      "text/plain": [
       "<Figure size 576x360 with 1 Axes>"
      ]
     },
     "metadata": {
      "needs_background": "light"
     },
     "output_type": "display_data"
    }
   ],
   "source": [
    "plt.figure(figsize=(8, 5))\n",
    "visits.groupby('month')['session_duration_min'].mean().plot(x='day', y='session_duration_min', grid=True)\n",
    "plt.title('Годовая динамика средней продолжительности сессии')\n",
    "plt.xticks(np.arange(1, 13, step=1))\n",
    "plt.yticks(np.arange(9, 12, step=0.5))\n",
    "plt.xlabel('месяц')\n",
    "plt.ylabel('продолжительность сессии, мин.')\n",
    "plt.show()"
   ]
  },
  {
   "cell_type": "markdown",
   "metadata": {},
   "source": [
    "В среднем на 1 пользователя выходит 1.08 сессия в день, а сама сессия чаще всего длиться 1 минуту(мода). \n",
    "\n",
    "Различия в длине сессии по устройствам есть, на мобильных она короче. Мода на обоих устройствах не отличается от всей выборки, но среднее и медианное значения отличаются в 1,5 и 2 раза между устройствами соответственно. В устройствах есть и различия по количеству сессий, на мобильных оно в 2,7 раза меньше(96833 и 262567 шт.) и количество коротких сессий на мобильных почти в 2 раза меньше(12319 и 24343 шт.) по сравнению с компьютером. Можно предположить, что на мобильных устройствах сервис менее удобен для пользователя.\n",
    "\n",
    "Есть просадка по длине сессии с апреля по август. Здесь есть предположение, что в холодное время года люди меньше гуляют на улице и соответственно ходят больше в кино и на мероприятия."
   ]
  },
  {
   "cell_type": "markdown",
   "metadata": {},
   "source": [
    "<div style=\"border:solid green 2px; padding: 20px\"> <h1 style=\"color:green; margin-bottom:20px\">Комментарий наставника</h1>\n",
    "\n",
    "Сессии проанализированы отлично, очень подробно."
   ]
  },
  {
   "cell_type": "markdown",
   "metadata": {},
   "source": [
    "Длина сессий небольшая, нужно понять как часто возвращаются пользователи. Может retention будет высоким?"
   ]
  },
  {
   "cell_type": "code",
   "execution_count": 26,
   "metadata": {},
   "outputs": [],
   "source": [
    "#выясним когда у посетителя был \"первый контакт\" с сервисом и соединим с таблицей посещений\n",
    "first_case = visits.groupby(['uid'])['start_ts'].min()\n",
    "first_case.name = 'first_activity_date'\n",
    "visits = visits.merge(first_case, on='uid')\n",
    "#из месяца активности вычестаем месяц первой активности\n",
    "visits['first_act_month'] = visits['first_activity_date'].astype('datetime64[M]')\n",
    "visits['act_month'] = visits['start_ts'].astype('datetime64[M]')\n",
    "visits['cohort_lifetime'] = round(((visits['act_month'] - visits['first_act_month']) / np.timedelta64(1, 'M'))).astype('int64')"
   ]
  },
  {
   "cell_type": "code",
   "execution_count": 27,
   "metadata": {},
   "outputs": [],
   "source": [
    "#сгруппирую когорты по первому месяцу активности и посчитаем сколько было уникальных посетителей\n",
    "cohorts = visits.groupby(['first_act_month', 'cohort_lifetime']).agg({'uid':'nunique'}).reset_index()\n",
    "#посчитаю сколько было посетителей на нулевой перид и добавлю к тиаблице когорт\n",
    "initial_users_count = cohorts[cohorts['cohort_lifetime'] == 0][['first_act_month', 'uid']]\n",
    "initial_users_count = initial_users_count.rename(columns={'uid':'cohort_users'})\n",
    "cohorts = cohorts.merge(initial_users_count, on='first_act_month')\n",
    "cohorts['retention'] = cohorts['uid'] / cohorts['cohort_users']"
   ]
  },
  {
   "cell_type": "code",
   "execution_count": 28,
   "metadata": {},
   "outputs": [
    {
     "data": {
      "text/html": [
       "<div>\n",
       "<style scoped>\n",
       "    .dataframe tbody tr th:only-of-type {\n",
       "        vertical-align: middle;\n",
       "    }\n",
       "\n",
       "    .dataframe tbody tr th {\n",
       "        vertical-align: top;\n",
       "    }\n",
       "\n",
       "    .dataframe thead th {\n",
       "        text-align: right;\n",
       "    }\n",
       "</style>\n",
       "<table border=\"1\" class=\"dataframe\">\n",
       "  <thead>\n",
       "    <tr style=\"text-align: right;\">\n",
       "      <th>cohort_lifetime</th>\n",
       "      <th>0</th>\n",
       "      <th>1</th>\n",
       "      <th>2</th>\n",
       "      <th>3</th>\n",
       "      <th>4</th>\n",
       "      <th>5</th>\n",
       "      <th>6</th>\n",
       "      <th>7</th>\n",
       "      <th>8</th>\n",
       "      <th>9</th>\n",
       "      <th>10</th>\n",
       "      <th>11</th>\n",
       "    </tr>\n",
       "    <tr>\n",
       "      <th>first_act_month</th>\n",
       "      <th></th>\n",
       "      <th></th>\n",
       "      <th></th>\n",
       "      <th></th>\n",
       "      <th></th>\n",
       "      <th></th>\n",
       "      <th></th>\n",
       "      <th></th>\n",
       "      <th></th>\n",
       "      <th></th>\n",
       "      <th></th>\n",
       "      <th></th>\n",
       "    </tr>\n",
       "  </thead>\n",
       "  <tbody>\n",
       "    <tr>\n",
       "      <th>2017-06-01</th>\n",
       "      <td>1.0</td>\n",
       "      <td>0.0786635</td>\n",
       "      <td>0.0537748</td>\n",
       "      <td>0.0613923</td>\n",
       "      <td>0.0685572</td>\n",
       "      <td>0.0714232</td>\n",
       "      <td>0.0610152</td>\n",
       "      <td>0.0577721</td>\n",
       "      <td>0.0523418</td>\n",
       "      <td>0.0508334</td>\n",
       "      <td>0.0406516</td>\n",
       "      <td>0.0449506</td>\n",
       "    </tr>\n",
       "    <tr>\n",
       "      <th>2017-07-01</th>\n",
       "      <td>1.0</td>\n",
       "      <td>0.0560883</td>\n",
       "      <td>0.0512938</td>\n",
       "      <td>0.0561644</td>\n",
       "      <td>0.0582192</td>\n",
       "      <td>0.0481735</td>\n",
       "      <td>0.0453577</td>\n",
       "      <td>0.0457382</td>\n",
       "      <td>0.0388128</td>\n",
       "      <td>0.0286149</td>\n",
       "      <td>0.0274734</td>\n",
       "      <td></td>\n",
       "    </tr>\n",
       "    <tr>\n",
       "      <th>2017-08-01</th>\n",
       "      <td>1.0</td>\n",
       "      <td>0.076908</td>\n",
       "      <td>0.0628622</td>\n",
       "      <td>0.062764</td>\n",
       "      <td>0.0500933</td>\n",
       "      <td>0.0440035</td>\n",
       "      <td>0.0363422</td>\n",
       "      <td>0.0394853</td>\n",
       "      <td>0.0278951</td>\n",
       "      <td>0.0260289</td>\n",
       "      <td></td>\n",
       "      <td></td>\n",
       "    </tr>\n",
       "    <tr>\n",
       "      <th>2017-09-01</th>\n",
       "      <td>1.0</td>\n",
       "      <td>0.0854885</td>\n",
       "      <td>0.069205</td>\n",
       "      <td>0.0507064</td>\n",
       "      <td>0.0393918</td>\n",
       "      <td>0.0378352</td>\n",
       "      <td>0.0358597</td>\n",
       "      <td>0.0241858</td>\n",
       "      <td>0.0228089</td>\n",
       "      <td></td>\n",
       "      <td></td>\n",
       "      <td></td>\n",
       "    </tr>\n",
       "    <tr>\n",
       "      <th>2017-10-01</th>\n",
       "      <td>1.0</td>\n",
       "      <td>0.078608</td>\n",
       "      <td>0.0522385</td>\n",
       "      <td>0.0389575</td>\n",
       "      <td>0.0342611</td>\n",
       "      <td>0.0322208</td>\n",
       "      <td>0.0213651</td>\n",
       "      <td>0.0203642</td>\n",
       "      <td></td>\n",
       "      <td></td>\n",
       "      <td></td>\n",
       "      <td></td>\n",
       "    </tr>\n",
       "    <tr>\n",
       "      <th>2017-11-01</th>\n",
       "      <td>1.0</td>\n",
       "      <td>0.078281</td>\n",
       "      <td>0.0441133</td>\n",
       "      <td>0.0386817</td>\n",
       "      <td>0.0337272</td>\n",
       "      <td>0.0234146</td>\n",
       "      <td>0.0217998</td>\n",
       "      <td></td>\n",
       "      <td></td>\n",
       "      <td></td>\n",
       "      <td></td>\n",
       "      <td></td>\n",
       "    </tr>\n",
       "    <tr>\n",
       "      <th>2017-12-01</th>\n",
       "      <td>1.0</td>\n",
       "      <td>0.0558018</td>\n",
       "      <td>0.0379927</td>\n",
       "      <td>0.0311065</td>\n",
       "      <td>0.0202628</td>\n",
       "      <td>0.0190359</td>\n",
       "      <td></td>\n",
       "      <td></td>\n",
       "      <td></td>\n",
       "      <td></td>\n",
       "      <td></td>\n",
       "      <td></td>\n",
       "    </tr>\n",
       "    <tr>\n",
       "      <th>2018-01-01</th>\n",
       "      <td>1.0</td>\n",
       "      <td>0.0597153</td>\n",
       "      <td>0.0393388</td>\n",
       "      <td>0.0249735</td>\n",
       "      <td>0.020244</td>\n",
       "      <td></td>\n",
       "      <td></td>\n",
       "      <td></td>\n",
       "      <td></td>\n",
       "      <td></td>\n",
       "      <td></td>\n",
       "      <td></td>\n",
       "    </tr>\n",
       "    <tr>\n",
       "      <th>2018-02-01</th>\n",
       "      <td>1.0</td>\n",
       "      <td>0.0570798</td>\n",
       "      <td>0.0254539</td>\n",
       "      <td>0.0200928</td>\n",
       "      <td></td>\n",
       "      <td></td>\n",
       "      <td></td>\n",
       "      <td></td>\n",
       "      <td></td>\n",
       "      <td></td>\n",
       "      <td></td>\n",
       "      <td></td>\n",
       "    </tr>\n",
       "    <tr>\n",
       "      <th>2018-03-01</th>\n",
       "      <td>1.0</td>\n",
       "      <td>0.0418184</td>\n",
       "      <td>0.0270533</td>\n",
       "      <td></td>\n",
       "      <td></td>\n",
       "      <td></td>\n",
       "      <td></td>\n",
       "      <td></td>\n",
       "      <td></td>\n",
       "      <td></td>\n",
       "      <td></td>\n",
       "      <td></td>\n",
       "    </tr>\n",
       "    <tr>\n",
       "      <th>2018-04-01</th>\n",
       "      <td>1.0</td>\n",
       "      <td>0.0483799</td>\n",
       "      <td></td>\n",
       "      <td></td>\n",
       "      <td></td>\n",
       "      <td></td>\n",
       "      <td></td>\n",
       "      <td></td>\n",
       "      <td></td>\n",
       "      <td></td>\n",
       "      <td></td>\n",
       "      <td></td>\n",
       "    </tr>\n",
       "    <tr>\n",
       "      <th>2018-05-01</th>\n",
       "      <td>1.0</td>\n",
       "      <td></td>\n",
       "      <td></td>\n",
       "      <td></td>\n",
       "      <td></td>\n",
       "      <td></td>\n",
       "      <td></td>\n",
       "      <td></td>\n",
       "      <td></td>\n",
       "      <td></td>\n",
       "      <td></td>\n",
       "      <td></td>\n",
       "    </tr>\n",
       "  </tbody>\n",
       "</table>\n",
       "</div>"
      ],
      "text/plain": [
       "cohort_lifetime   0          1          2          3          4          5   \\\n",
       "first_act_month                                                               \n",
       "2017-06-01       1.0  0.0786635  0.0537748  0.0613923  0.0685572  0.0714232   \n",
       "2017-07-01       1.0  0.0560883  0.0512938  0.0561644  0.0582192  0.0481735   \n",
       "2017-08-01       1.0   0.076908  0.0628622   0.062764  0.0500933  0.0440035   \n",
       "2017-09-01       1.0  0.0854885   0.069205  0.0507064  0.0393918  0.0378352   \n",
       "2017-10-01       1.0   0.078608  0.0522385  0.0389575  0.0342611  0.0322208   \n",
       "2017-11-01       1.0   0.078281  0.0441133  0.0386817  0.0337272  0.0234146   \n",
       "2017-12-01       1.0  0.0558018  0.0379927  0.0311065  0.0202628  0.0190359   \n",
       "2018-01-01       1.0  0.0597153  0.0393388  0.0249735   0.020244              \n",
       "2018-02-01       1.0  0.0570798  0.0254539  0.0200928                         \n",
       "2018-03-01       1.0  0.0418184  0.0270533                                    \n",
       "2018-04-01       1.0  0.0483799                                               \n",
       "2018-05-01       1.0                                                          \n",
       "\n",
       "cohort_lifetime         6          7          8          9          10  \\\n",
       "first_act_month                                                          \n",
       "2017-06-01       0.0610152  0.0577721  0.0523418  0.0508334  0.0406516   \n",
       "2017-07-01       0.0453577  0.0457382  0.0388128  0.0286149  0.0274734   \n",
       "2017-08-01       0.0363422  0.0394853  0.0278951  0.0260289              \n",
       "2017-09-01       0.0358597  0.0241858  0.0228089                         \n",
       "2017-10-01       0.0213651  0.0203642                                    \n",
       "2017-11-01       0.0217998                                               \n",
       "2017-12-01                                                               \n",
       "2018-01-01                                                               \n",
       "2018-02-01                                                               \n",
       "2018-03-01                                                               \n",
       "2018-04-01                                                               \n",
       "2018-05-01                                                               \n",
       "\n",
       "cohort_lifetime         11  \n",
       "first_act_month             \n",
       "2017-06-01       0.0449506  \n",
       "2017-07-01                  \n",
       "2017-08-01                  \n",
       "2017-09-01                  \n",
       "2017-10-01                  \n",
       "2017-11-01                  \n",
       "2017-12-01                  \n",
       "2018-01-01                  \n",
       "2018-02-01                  \n",
       "2018-03-01                  \n",
       "2018-04-01                  \n",
       "2018-05-01                  "
      ]
     },
     "execution_count": 28,
     "metadata": {},
     "output_type": "execute_result"
    }
   ],
   "source": [
    "retention = cohorts.pivot_table(index='first_act_month', columns = 'cohort_lifetime', values='retention', aggfunc='sum')\n",
    "retention.fillna('')"
   ]
  },
  {
   "cell_type": "code",
   "execution_count": 29,
   "metadata": {},
   "outputs": [
    {
     "data": {
      "image/png": "[encoded data removed]",
      "text/plain": [
       "<Figure size 936x648 with 2 Axes>"
      ]
     },
     "metadata": {
      "needs_background": "light"
     },
     "output_type": "display_data"
    }
   ],
   "source": [
    "plt.figure(figsize=(13, 9))\n",
    "plt.title('Возвращаемость посетителей')\n",
    "sns.heatmap(retention, annot=True, fmt='.0%', linewidths=.5, vmin=0.00, vmax=0.1)\n",
    "plt.show()"
   ]
  },
  {
   "cell_type": "markdown",
   "metadata": {},
   "source": [
    "<div style=\"border:solid green 2px; padding: 20px\"> <h1 style=\"color:green; margin-bottom:20px\">Комментарий наставника</h1>\n",
    "\n",
    "retention рассчитан верно, отличная тепловая карта."
   ]
  },
  {
   "cell_type": "markdown",
   "metadata": {},
   "source": [
    "### Вывод"
   ]
  },
  {
   "cell_type": "markdown",
   "metadata": {},
   "source": [
    "Sticky factor в месяц можно увеличить, на мой взгляд. Например, с помощью напоминания о продукте email. Сама длина сессии в 1 минуту говорит, что обычно посетитель обычно мало времени проводит на сервисе, особенно проседают \"теплые\" времена года. Можно повысить вовлеченность созданием целевого контента для посетителя(например, уведомлять больше о мероприятиях на свежем воздухе). Я не нашла в интерфейсе сайта возможности поделиться событием с другими людьми, что создало бы большую вовлеченность для посетителя. Можно было бы поделиться событием и обсудить его.\n",
    "\n",
    "Из тепловой карты мы получаем, что возврат после октября 2017 года падает. И в целом возвращаемость на сервис очень маленькая (максимально - 9%). И опять видно, что больше всего возвращаются именно в холодное время года. Из этого можно извлечь выгоду, если предлагать скидки или эксклюзивные предложения именно в месяцы, когда люди больше пользуются Яндекс.Афишей. Они все равно тут, но таким образом можно повысить их лояльность."
   ]
  },
  {
   "cell_type": "markdown",
   "metadata": {},
   "source": [
    "Ниже будут отчеты по продажам"
   ]
  },
  {
   "cell_type": "markdown",
   "metadata": {},
   "source": [
    "Нужно понять на каком этапе своей жизни в сервисе посетитель становится покупателем"
   ]
  },
  {
   "cell_type": "code",
   "execution_count": 30,
   "metadata": {},
   "outputs": [
    {
     "name": "stdout",
     "output_type": "stream",
     "text": [
      "84% не купили вообще на сервисе\n"
     ]
    }
   ],
   "source": [
    "print('{:.0%} не купили вообще на сервисе'.format(1 - (orders['uid'].nunique() / visits['uid'].nunique())))"
   ]
  },
  {
   "cell_type": "code",
   "execution_count": 31,
   "metadata": {},
   "outputs": [],
   "source": [
    "#найдем дату первой покупки и соединим с таблицей посещений, т.к. в ней у нас уже есть дата первой активности\n",
    "first_buy = orders.groupby('uid')['buy_ts'].min().reset_index()\n",
    "first_buy.columns = ['uid','first_buy_date']\n",
    "first_buy['first_buy_month'] = first_buy['first_buy_date'].astype('datetime64[M]')\n",
    "vis_buy = visits.merge(first_buy, on='uid')"
   ]
  },
  {
   "cell_type": "code",
   "execution_count": 32,
   "metadata": {},
   "outputs": [],
   "source": [
    "vis_buy['when_buy'] = round((vis_buy['first_buy_month'] - vis_buy['first_act_month']) / np.timedelta64(1, 'D')).astype('int64')\n",
    "vis_buy['when_buy_min'] = ((vis_buy['first_buy_date'] - vis_buy['first_activity_date']).dt.seconds) / 60"
   ]
  },
  {
   "cell_type": "code",
   "execution_count": 33,
   "metadata": {},
   "outputs": [
    {
     "data": {
      "text/plain": [
       "Text(0.5, 0, 'минуты')"
      ]
     },
     "execution_count": 33,
     "metadata": {},
     "output_type": "execute_result"
    },
    {
     "data": {
      "image/png": "[encoded data removed]",
      "text/plain": [
       "<Figure size 576x360 with 1 Axes>"
      ]
     },
     "metadata": {
      "needs_background": "light"
     },
     "output_type": "display_data"
    }
   ],
   "source": [
    "plt.figure(figsize=(8, 5))\n",
    "vis_buy['when_buy_min'].hist()\n",
    "plt.title('Распределение времени до покупки в минутах')\n",
    "plt.xlabel('минуты')"
   ]
  },
  {
   "cell_type": "code",
   "execution_count": 34,
   "metadata": {},
   "outputs": [
    {
     "name": "stdout",
     "output_type": "stream",
     "text": [
      "Мнимальный срок покупки 0 минут\n",
      "Максимальный срок покупки 24 часа\n",
      "В среднем покупать начинают 7 часов\n",
      "Чаще всего покупать начинают 0 минут\n"
     ]
    }
   ],
   "source": [
    "print('Мнимальный срок покупки {:.0f} минут'.format(vis_buy['when_buy_min'].min()))\n",
    "print('Максимальный срок покупки {:.0f} часа'.format(vis_buy['when_buy_min'].max() / 60))\n",
    "print('В среднем покупать начинают {:.0f} часов'.format(vis_buy['when_buy_min'].mean() / 60))\n",
    "print('Чаще всего покупать начинают {} минут'.format(int(vis_buy['when_buy_min'].mode())))"
   ]
  },
  {
   "cell_type": "markdown",
   "metadata": {},
   "source": [
    "<div style=\"border:solid green 2px; padding: 20px\"> <h1 style=\"color:green; margin-bottom:20px\">Комментарий наставника</h1>\n",
    "\n",
    "Все верно."
   ]
  },
  {
   "cell_type": "markdown",
   "metadata": {},
   "source": [
    "Исходя из распределения по времени до покупки и по распределению о длине сессии можно предположить, что пользователи заходят на сервис, уже зная о том, что хотят посетить и сразу покупают это. Другие люди уже выбирают и строят планы на свой досуг максимально 1 сутки. т.е. у нас сделка очень быстро происходит после первого посещения. \n",
    "\n",
    "Нужно понять у нас это одноразовые сделки или есть повторные и много ли их в нашей выборке. Если повторных покупок мало, то можно было бы направить силы маркетинга в сторону повышения повторных продаж. "
   ]
  },
  {
   "cell_type": "code",
   "execution_count": 35,
   "metadata": {},
   "outputs": [
    {
     "data": {
      "text/html": [
       "<div>\n",
       "<style scoped>\n",
       "    .dataframe tbody tr th:only-of-type {\n",
       "        vertical-align: middle;\n",
       "    }\n",
       "\n",
       "    .dataframe tbody tr th {\n",
       "        vertical-align: top;\n",
       "    }\n",
       "\n",
       "    .dataframe thead th {\n",
       "        text-align: right;\n",
       "    }\n",
       "</style>\n",
       "<table border=\"1\" class=\"dataframe\">\n",
       "  <thead>\n",
       "    <tr style=\"text-align: right;\">\n",
       "      <th></th>\n",
       "      <th>uid</th>\n",
       "      <th>count_buy</th>\n",
       "    </tr>\n",
       "  </thead>\n",
       "  <tbody>\n",
       "    <tr>\n",
       "      <th>0</th>\n",
       "      <td>313578113262317</td>\n",
       "      <td>1</td>\n",
       "    </tr>\n",
       "    <tr>\n",
       "      <th>1</th>\n",
       "      <td>1575281904278712</td>\n",
       "      <td>2</td>\n",
       "    </tr>\n",
       "    <tr>\n",
       "      <th>2</th>\n",
       "      <td>2429014661409475</td>\n",
       "      <td>1</td>\n",
       "    </tr>\n",
       "    <tr>\n",
       "      <th>3</th>\n",
       "      <td>2464366381792757</td>\n",
       "      <td>1</td>\n",
       "    </tr>\n",
       "    <tr>\n",
       "      <th>4</th>\n",
       "      <td>2551852515556206</td>\n",
       "      <td>2</td>\n",
       "    </tr>\n",
       "  </tbody>\n",
       "</table>\n",
       "</div>"
      ],
      "text/plain": [
       "                uid  count_buy\n",
       "0   313578113262317          1\n",
       "1  1575281904278712          2\n",
       "2  2429014661409475          1\n",
       "3  2464366381792757          1\n",
       "4  2551852515556206          2"
      ]
     },
     "execution_count": 35,
     "metadata": {},
     "output_type": "execute_result"
    }
   ],
   "source": [
    "second_buy = orders.groupby('uid')['buy_ts'].count().reset_index()\n",
    "second_buy.columns = ['uid','count_buy']\n",
    "second_buy.head()"
   ]
  },
  {
   "cell_type": "code",
   "execution_count": 36,
   "metadata": {},
   "outputs": [
    {
     "data": {
      "image/png": "[encoded data removed]",
      "text/plain": [
       "<Figure size 576x360 with 1 Axes>"
      ]
     },
     "metadata": {
      "needs_background": "light"
     },
     "output_type": "display_data"
    },
    {
     "name": "stdout",
     "output_type": "stream",
     "text": [
      "Количество повторных продаж 6292 шт. это 21%\n",
      "Максимальное количество продаж на посетителя 239 шт.\n"
     ]
    }
   ],
   "source": [
    "plt.figure(figsize=(8, 5))\n",
    "second_buy['count_buy'].hist(range=(1,10))\n",
    "plt.xticks(np.arange(1, 11, step=1))\n",
    "plt.title('Распределение количества покупок')\n",
    "plt.xlabel('количество покупок, шт.')\n",
    "plt.show()\n",
    "print('Количество повторных продаж {0} шт. это {1:.0%}'.format(len(second_buy.query('count_buy > 1')), len(second_buy.query('count_buy > 1')) / len(second_buy.query('count_buy == 1'))))\n",
    "print('Максимальное количество продаж на посетителя {} шт.'.format(second_buy['count_buy'].max()))"
   ]
  },
  {
   "cell_type": "code",
   "execution_count": 37,
   "metadata": {},
   "outputs": [
    {
     "data": {
      "text/html": [
       "<div>\n",
       "<style scoped>\n",
       "    .dataframe tbody tr th:only-of-type {\n",
       "        vertical-align: middle;\n",
       "    }\n",
       "\n",
       "    .dataframe tbody tr th {\n",
       "        vertical-align: top;\n",
       "    }\n",
       "\n",
       "    .dataframe thead th {\n",
       "        text-align: right;\n",
       "    }\n",
       "</style>\n",
       "<table border=\"1\" class=\"dataframe\">\n",
       "  <thead>\n",
       "    <tr style=\"text-align: right;\">\n",
       "      <th></th>\n",
       "      <th>buy_ts</th>\n",
       "      <th>revenue</th>\n",
       "      <th>uid</th>\n",
       "      <th>buy_month</th>\n",
       "    </tr>\n",
       "  </thead>\n",
       "  <tbody>\n",
       "    <tr>\n",
       "      <th>0</th>\n",
       "      <td>2017-06-01 00:10:00</td>\n",
       "      <td>17.00</td>\n",
       "      <td>10329302124590727494</td>\n",
       "      <td>2017-06-01</td>\n",
       "    </tr>\n",
       "    <tr>\n",
       "      <th>1</th>\n",
       "      <td>2017-06-01 00:25:00</td>\n",
       "      <td>0.55</td>\n",
       "      <td>11627257723692907447</td>\n",
       "      <td>2017-06-01</td>\n",
       "    </tr>\n",
       "    <tr>\n",
       "      <th>2</th>\n",
       "      <td>2017-06-01 00:27:00</td>\n",
       "      <td>0.37</td>\n",
       "      <td>17903680561304213844</td>\n",
       "      <td>2017-06-01</td>\n",
       "    </tr>\n",
       "    <tr>\n",
       "      <th>3</th>\n",
       "      <td>2017-06-01 00:29:00</td>\n",
       "      <td>0.55</td>\n",
       "      <td>16109239769442553005</td>\n",
       "      <td>2017-06-01</td>\n",
       "    </tr>\n",
       "    <tr>\n",
       "      <th>4</th>\n",
       "      <td>2017-06-01 07:58:00</td>\n",
       "      <td>0.37</td>\n",
       "      <td>14200605875248379450</td>\n",
       "      <td>2017-06-01</td>\n",
       "    </tr>\n",
       "  </tbody>\n",
       "</table>\n",
       "</div>"
      ],
      "text/plain": [
       "               buy_ts  revenue                   uid  buy_month\n",
       "0 2017-06-01 00:10:00    17.00  10329302124590727494 2017-06-01\n",
       "1 2017-06-01 00:25:00     0.55  11627257723692907447 2017-06-01\n",
       "2 2017-06-01 00:27:00     0.37  17903680561304213844 2017-06-01\n",
       "3 2017-06-01 00:29:00     0.55  16109239769442553005 2017-06-01\n",
       "4 2017-06-01 07:58:00     0.37  14200605875248379450 2017-06-01"
      ]
     },
     "execution_count": 37,
     "metadata": {},
     "output_type": "execute_result"
    }
   ],
   "source": [
    "orders['buy_month'] = orders['buy_ts'].astype('datetime64[M]')\n",
    "orders.head()"
   ]
  },
  {
   "cell_type": "code",
   "execution_count": 38,
   "metadata": {},
   "outputs": [
    {
     "name": "stdout",
     "output_type": "stream",
     "text": [
      "Средний чек выборки 5.00 руб.\n"
     ]
    },
    {
     "data": {
      "image/png": "[encoded data removed]",
      "text/plain": [
       "<Figure size 720x360 with 1 Axes>"
      ]
     },
     "metadata": {
      "needs_background": "light"
     },
     "output_type": "display_data"
    }
   ],
   "source": [
    "print('Средний чек выборки {:.2f} руб.'.format(orders['revenue'].mean()))\n",
    "\n",
    "plt.figure(figsize=(10, 5))\n",
    "orders.groupby('buy_month')['revenue'].mean().plot(grid=True)\n",
    "plt.yticks(np.arange(1, 11, step=1))\n",
    "plt.title('Годовая динамика среднего чека')\n",
    "plt.xlabel('месяц')\n",
    "plt.ylabel('средний чек, руб.')\n",
    "plt.show()"
   ]
  },
  {
   "cell_type": "markdown",
   "metadata": {},
   "source": [
    "Значение среднего чека колеблется между 4 и 6 руб. Есть 4 \"пика\" - март, июль, сентябрь и декабрь. Также есть 2 спада - это январь и июнь месяцы. Летом падение ожидаемо исходя из предыдущих графиков. Но после \"сезонного\" декабря январь показывает очень низкое значение среднего чека с учетом, что длина сессии у посетителей в январе почти 11 минут в среднем. Видимо, длина сессии не влияет на выручку. \n",
    "\n",
    "Далее рассмотрим сколько денег приносит нам 1 пользователь в среднем.\n",
    "\n",
    "<div style=\"border:solid green 2px; padding: 20px\"> <h1 style=\"color:green; margin-bottom:20px\">Комментарий наставника</h1>\n",
    "\n",
    "Все верно, отлично, что ты посмотрел динамику среднего чека."
   ]
  },
  {
   "cell_type": "code",
   "execution_count": 39,
   "metadata": {},
   "outputs": [
    {
     "data": {
      "text/html": [
       "<div>\n",
       "<style scoped>\n",
       "    .dataframe tbody tr th:only-of-type {\n",
       "        vertical-align: middle;\n",
       "    }\n",
       "\n",
       "    .dataframe tbody tr th {\n",
       "        vertical-align: top;\n",
       "    }\n",
       "\n",
       "    .dataframe thead th {\n",
       "        text-align: right;\n",
       "    }\n",
       "</style>\n",
       "<table border=\"1\" class=\"dataframe\">\n",
       "  <thead>\n",
       "    <tr style=\"text-align: right;\">\n",
       "      <th></th>\n",
       "      <th>device</th>\n",
       "      <th>end_ts</th>\n",
       "      <th>source_id</th>\n",
       "      <th>start_ts</th>\n",
       "      <th>uid</th>\n",
       "      <th>year</th>\n",
       "      <th>month</th>\n",
       "      <th>week</th>\n",
       "      <th>day</th>\n",
       "      <th>session_duration_sec</th>\n",
       "      <th>session_duration_min</th>\n",
       "      <th>first_activity_date</th>\n",
       "      <th>first_act_month</th>\n",
       "      <th>act_month</th>\n",
       "      <th>cohort_lifetime</th>\n",
       "    </tr>\n",
       "  </thead>\n",
       "  <tbody>\n",
       "    <tr>\n",
       "      <th>0</th>\n",
       "      <td>touch</td>\n",
       "      <td>2017-12-20 17:38:00</td>\n",
       "      <td>4</td>\n",
       "      <td>2017-12-20 17:20:00</td>\n",
       "      <td>16879256277535980062</td>\n",
       "      <td>2017</td>\n",
       "      <td>12</td>\n",
       "      <td>51</td>\n",
       "      <td>2017-12-20</td>\n",
       "      <td>1080</td>\n",
       "      <td>18.0</td>\n",
       "      <td>2017-12-20 17:20:00</td>\n",
       "      <td>2017-12-01</td>\n",
       "      <td>2017-12-01</td>\n",
       "      <td>0</td>\n",
       "    </tr>\n",
       "    <tr>\n",
       "      <th>1</th>\n",
       "      <td>desktop</td>\n",
       "      <td>2018-02-19 17:21:00</td>\n",
       "      <td>2</td>\n",
       "      <td>2018-02-19 16:53:00</td>\n",
       "      <td>104060357244891740</td>\n",
       "      <td>2018</td>\n",
       "      <td>2</td>\n",
       "      <td>8</td>\n",
       "      <td>2018-02-19</td>\n",
       "      <td>1680</td>\n",
       "      <td>28.0</td>\n",
       "      <td>2018-02-19 16:53:00</td>\n",
       "      <td>2018-02-01</td>\n",
       "      <td>2018-02-01</td>\n",
       "      <td>0</td>\n",
       "    </tr>\n",
       "    <tr>\n",
       "      <th>2</th>\n",
       "      <td>touch</td>\n",
       "      <td>2017-07-01 01:54:00</td>\n",
       "      <td>5</td>\n",
       "      <td>2017-07-01 01:54:00</td>\n",
       "      <td>7459035603376831527</td>\n",
       "      <td>2017</td>\n",
       "      <td>7</td>\n",
       "      <td>26</td>\n",
       "      <td>2017-07-01</td>\n",
       "      <td>0</td>\n",
       "      <td>0.0</td>\n",
       "      <td>2017-07-01 01:54:00</td>\n",
       "      <td>2017-07-01</td>\n",
       "      <td>2017-07-01</td>\n",
       "      <td>0</td>\n",
       "    </tr>\n",
       "    <tr>\n",
       "      <th>3</th>\n",
       "      <td>desktop</td>\n",
       "      <td>2018-05-20 11:23:00</td>\n",
       "      <td>9</td>\n",
       "      <td>2018-05-20 10:59:00</td>\n",
       "      <td>16174680259334210214</td>\n",
       "      <td>2018</td>\n",
       "      <td>5</td>\n",
       "      <td>20</td>\n",
       "      <td>2018-05-20</td>\n",
       "      <td>1440</td>\n",
       "      <td>24.0</td>\n",
       "      <td>2018-03-09 20:05:00</td>\n",
       "      <td>2018-03-01</td>\n",
       "      <td>2018-05-01</td>\n",
       "      <td>2</td>\n",
       "    </tr>\n",
       "    <tr>\n",
       "      <th>4</th>\n",
       "      <td>desktop</td>\n",
       "      <td>2018-03-09 20:33:00</td>\n",
       "      <td>4</td>\n",
       "      <td>2018-03-09 20:05:00</td>\n",
       "      <td>16174680259334210214</td>\n",
       "      <td>2018</td>\n",
       "      <td>3</td>\n",
       "      <td>10</td>\n",
       "      <td>2018-03-09</td>\n",
       "      <td>1680</td>\n",
       "      <td>28.0</td>\n",
       "      <td>2018-03-09 20:05:00</td>\n",
       "      <td>2018-03-01</td>\n",
       "      <td>2018-03-01</td>\n",
       "      <td>0</td>\n",
       "    </tr>\n",
       "  </tbody>\n",
       "</table>\n",
       "</div>"
      ],
      "text/plain": [
       "    device              end_ts  source_id            start_ts  \\\n",
       "0    touch 2017-12-20 17:38:00          4 2017-12-20 17:20:00   \n",
       "1  desktop 2018-02-19 17:21:00          2 2018-02-19 16:53:00   \n",
       "2    touch 2017-07-01 01:54:00          5 2017-07-01 01:54:00   \n",
       "3  desktop 2018-05-20 11:23:00          9 2018-05-20 10:59:00   \n",
       "4  desktop 2018-03-09 20:33:00          4 2018-03-09 20:05:00   \n",
       "\n",
       "                    uid  year  month  week         day  session_duration_sec  \\\n",
       "0  16879256277535980062  2017     12    51  2017-12-20                  1080   \n",
       "1    104060357244891740  2018      2     8  2018-02-19                  1680   \n",
       "2   7459035603376831527  2017      7    26  2017-07-01                     0   \n",
       "3  16174680259334210214  2018      5    20  2018-05-20                  1440   \n",
       "4  16174680259334210214  2018      3    10  2018-03-09                  1680   \n",
       "\n",
       "   session_duration_min first_activity_date first_act_month  act_month  \\\n",
       "0                  18.0 2017-12-20 17:20:00      2017-12-01 2017-12-01   \n",
       "1                  28.0 2018-02-19 16:53:00      2018-02-01 2018-02-01   \n",
       "2                   0.0 2017-07-01 01:54:00      2017-07-01 2017-07-01   \n",
       "3                  24.0 2018-03-09 20:05:00      2018-03-01 2018-05-01   \n",
       "4                  28.0 2018-03-09 20:05:00      2018-03-01 2018-03-01   \n",
       "\n",
       "   cohort_lifetime  \n",
       "0                0  \n",
       "1                0  \n",
       "2                0  \n",
       "3                2  \n",
       "4                0  "
      ]
     },
     "execution_count": 39,
     "metadata": {},
     "output_type": "execute_result"
    }
   ],
   "source": [
    "visits.head()"
   ]
  },
  {
   "cell_type": "code",
   "execution_count": 40,
   "metadata": {},
   "outputs": [
    {
     "data": {
      "text/html": [
       "<div>\n",
       "<style scoped>\n",
       "    .dataframe tbody tr th:only-of-type {\n",
       "        vertical-align: middle;\n",
       "    }\n",
       "\n",
       "    .dataframe tbody tr th {\n",
       "        vertical-align: top;\n",
       "    }\n",
       "\n",
       "    .dataframe thead th {\n",
       "        text-align: right;\n",
       "    }\n",
       "</style>\n",
       "<table border=\"1\" class=\"dataframe\">\n",
       "  <thead>\n",
       "    <tr style=\"text-align: right;\">\n",
       "      <th></th>\n",
       "      <th>buy_ts</th>\n",
       "      <th>revenue</th>\n",
       "      <th>uid</th>\n",
       "      <th>buy_month</th>\n",
       "      <th>buy_day</th>\n",
       "    </tr>\n",
       "  </thead>\n",
       "  <tbody>\n",
       "    <tr>\n",
       "      <th>50410</th>\n",
       "      <td>2018-05-31 23:50:00</td>\n",
       "      <td>4.64</td>\n",
       "      <td>12296626599487328624</td>\n",
       "      <td>2018-05-01</td>\n",
       "      <td>2018-05-31</td>\n",
       "    </tr>\n",
       "    <tr>\n",
       "      <th>50411</th>\n",
       "      <td>2018-05-31 23:50:00</td>\n",
       "      <td>5.80</td>\n",
       "      <td>11369640365507475976</td>\n",
       "      <td>2018-05-01</td>\n",
       "      <td>2018-05-31</td>\n",
       "    </tr>\n",
       "    <tr>\n",
       "      <th>50412</th>\n",
       "      <td>2018-05-31 23:54:00</td>\n",
       "      <td>0.30</td>\n",
       "      <td>1786462140797698849</td>\n",
       "      <td>2018-05-01</td>\n",
       "      <td>2018-05-31</td>\n",
       "    </tr>\n",
       "    <tr>\n",
       "      <th>50413</th>\n",
       "      <td>2018-05-31 23:56:00</td>\n",
       "      <td>3.67</td>\n",
       "      <td>3993697860786194247</td>\n",
       "      <td>2018-05-01</td>\n",
       "      <td>2018-05-31</td>\n",
       "    </tr>\n",
       "    <tr>\n",
       "      <th>50414</th>\n",
       "      <td>2018-06-01 00:02:00</td>\n",
       "      <td>3.42</td>\n",
       "      <td>83872787173869366</td>\n",
       "      <td>2018-06-01</td>\n",
       "      <td>2018-06-01</td>\n",
       "    </tr>\n",
       "  </tbody>\n",
       "</table>\n",
       "</div>"
      ],
      "text/plain": [
       "                   buy_ts  revenue                   uid  buy_month  \\\n",
       "50410 2018-05-31 23:50:00     4.64  12296626599487328624 2018-05-01   \n",
       "50411 2018-05-31 23:50:00     5.80  11369640365507475976 2018-05-01   \n",
       "50412 2018-05-31 23:54:00     0.30   1786462140797698849 2018-05-01   \n",
       "50413 2018-05-31 23:56:00     3.67   3993697860786194247 2018-05-01   \n",
       "50414 2018-06-01 00:02:00     3.42     83872787173869366 2018-06-01   \n",
       "\n",
       "          buy_day  \n",
       "50410  2018-05-31  \n",
       "50411  2018-05-31  \n",
       "50412  2018-05-31  \n",
       "50413  2018-05-31  \n",
       "50414  2018-06-01  "
      ]
     },
     "execution_count": 40,
     "metadata": {},
     "output_type": "execute_result"
    }
   ],
   "source": [
    "orders['buy_day'] = orders['buy_ts'].dt.date \n",
    "orders.tail()"
   ]
  },
  {
   "cell_type": "code",
   "execution_count": 41,
   "metadata": {},
   "outputs": [
    {
     "data": {
      "text/html": [
       "<div>\n",
       "<style scoped>\n",
       "    .dataframe tbody tr th:only-of-type {\n",
       "        vertical-align: middle;\n",
       "    }\n",
       "\n",
       "    .dataframe tbody tr th {\n",
       "        vertical-align: top;\n",
       "    }\n",
       "\n",
       "    .dataframe thead th {\n",
       "        text-align: right;\n",
       "    }\n",
       "</style>\n",
       "<table border=\"1\" class=\"dataframe\">\n",
       "  <thead>\n",
       "    <tr style=\"text-align: right;\">\n",
       "      <th></th>\n",
       "      <th>buy_ts</th>\n",
       "      <th>revenue</th>\n",
       "      <th>uid</th>\n",
       "      <th>buy_month</th>\n",
       "      <th>buy_day</th>\n",
       "      <th>day</th>\n",
       "      <th>source_id</th>\n",
       "      <th>cohort_lifetime</th>\n",
       "    </tr>\n",
       "  </thead>\n",
       "  <tbody>\n",
       "    <tr>\n",
       "      <th>0</th>\n",
       "      <td>2017-06-01 00:10:00</td>\n",
       "      <td>17.00</td>\n",
       "      <td>10329302124590727494</td>\n",
       "      <td>2017-06-01</td>\n",
       "      <td>2017-06-01</td>\n",
       "      <td>2017-06-01</td>\n",
       "      <td>1</td>\n",
       "      <td>0</td>\n",
       "    </tr>\n",
       "    <tr>\n",
       "      <th>1</th>\n",
       "      <td>2017-06-01 00:25:00</td>\n",
       "      <td>0.55</td>\n",
       "      <td>11627257723692907447</td>\n",
       "      <td>2017-06-01</td>\n",
       "      <td>2017-06-01</td>\n",
       "      <td>2017-06-01</td>\n",
       "      <td>2</td>\n",
       "      <td>0</td>\n",
       "    </tr>\n",
       "    <tr>\n",
       "      <th>2</th>\n",
       "      <td>2017-06-01 00:27:00</td>\n",
       "      <td>0.37</td>\n",
       "      <td>17903680561304213844</td>\n",
       "      <td>2017-06-01</td>\n",
       "      <td>2017-06-01</td>\n",
       "      <td>2017-06-01</td>\n",
       "      <td>2</td>\n",
       "      <td>0</td>\n",
       "    </tr>\n",
       "    <tr>\n",
       "      <th>3</th>\n",
       "      <td>2017-06-01 00:29:00</td>\n",
       "      <td>0.55</td>\n",
       "      <td>16109239769442553005</td>\n",
       "      <td>2017-06-01</td>\n",
       "      <td>2017-06-01</td>\n",
       "      <td>2017-06-01</td>\n",
       "      <td>2</td>\n",
       "      <td>0</td>\n",
       "    </tr>\n",
       "    <tr>\n",
       "      <th>4</th>\n",
       "      <td>2017-06-01 07:58:00</td>\n",
       "      <td>0.37</td>\n",
       "      <td>14200605875248379450</td>\n",
       "      <td>2017-06-01</td>\n",
       "      <td>2017-06-01</td>\n",
       "      <td>2017-06-01</td>\n",
       "      <td>3</td>\n",
       "      <td>0</td>\n",
       "    </tr>\n",
       "  </tbody>\n",
       "</table>\n",
       "</div>"
      ],
      "text/plain": [
       "               buy_ts  revenue                   uid  buy_month     buy_day  \\\n",
       "0 2017-06-01 00:10:00    17.00  10329302124590727494 2017-06-01  2017-06-01   \n",
       "1 2017-06-01 00:25:00     0.55  11627257723692907447 2017-06-01  2017-06-01   \n",
       "2 2017-06-01 00:27:00     0.37  17903680561304213844 2017-06-01  2017-06-01   \n",
       "3 2017-06-01 00:29:00     0.55  16109239769442553005 2017-06-01  2017-06-01   \n",
       "4 2017-06-01 07:58:00     0.37  14200605875248379450 2017-06-01  2017-06-01   \n",
       "\n",
       "          day  source_id  cohort_lifetime  \n",
       "0  2017-06-01          1                0  \n",
       "1  2017-06-01          2                0  \n",
       "2  2017-06-01          2                0  \n",
       "3  2017-06-01          2                0  \n",
       "4  2017-06-01          3                0  "
      ]
     },
     "execution_count": 41,
     "metadata": {},
     "output_type": "execute_result"
    }
   ],
   "source": [
    "orders = orders.merge(visits[['uid','day','source_id','cohort_lifetime']], left_on=['uid','buy_day'], right_on=['uid','day'])\n",
    "orders.head()"
   ]
  },
  {
   "cell_type": "code",
   "execution_count": 42,
   "metadata": {},
   "outputs": [
    {
     "data": {
      "text/html": [
       "<div>\n",
       "<style scoped>\n",
       "    .dataframe tbody tr th:only-of-type {\n",
       "        vertical-align: middle;\n",
       "    }\n",
       "\n",
       "    .dataframe tbody tr th {\n",
       "        vertical-align: top;\n",
       "    }\n",
       "\n",
       "    .dataframe thead th {\n",
       "        text-align: right;\n",
       "    }\n",
       "</style>\n",
       "<table border=\"1\" class=\"dataframe\">\n",
       "  <thead>\n",
       "    <tr style=\"text-align: right;\">\n",
       "      <th></th>\n",
       "      <th>first_order_month</th>\n",
       "      <th>n_buyers</th>\n",
       "    </tr>\n",
       "  </thead>\n",
       "  <tbody>\n",
       "    <tr>\n",
       "      <th>0</th>\n",
       "      <td>2017-06-01</td>\n",
       "      <td>2023</td>\n",
       "    </tr>\n",
       "    <tr>\n",
       "      <th>1</th>\n",
       "      <td>2017-07-01</td>\n",
       "      <td>1923</td>\n",
       "    </tr>\n",
       "    <tr>\n",
       "      <th>2</th>\n",
       "      <td>2017-08-01</td>\n",
       "      <td>1370</td>\n",
       "    </tr>\n",
       "    <tr>\n",
       "      <th>3</th>\n",
       "      <td>2017-09-01</td>\n",
       "      <td>2581</td>\n",
       "    </tr>\n",
       "    <tr>\n",
       "      <th>4</th>\n",
       "      <td>2017-10-01</td>\n",
       "      <td>4340</td>\n",
       "    </tr>\n",
       "    <tr>\n",
       "      <th>5</th>\n",
       "      <td>2017-11-01</td>\n",
       "      <td>4081</td>\n",
       "    </tr>\n",
       "    <tr>\n",
       "      <th>6</th>\n",
       "      <td>2017-12-01</td>\n",
       "      <td>4383</td>\n",
       "    </tr>\n",
       "    <tr>\n",
       "      <th>7</th>\n",
       "      <td>2018-01-01</td>\n",
       "      <td>3373</td>\n",
       "    </tr>\n",
       "    <tr>\n",
       "      <th>8</th>\n",
       "      <td>2018-02-01</td>\n",
       "      <td>3651</td>\n",
       "    </tr>\n",
       "    <tr>\n",
       "      <th>9</th>\n",
       "      <td>2018-03-01</td>\n",
       "      <td>3533</td>\n",
       "    </tr>\n",
       "    <tr>\n",
       "      <th>10</th>\n",
       "      <td>2018-04-01</td>\n",
       "      <td>2276</td>\n",
       "    </tr>\n",
       "    <tr>\n",
       "      <th>11</th>\n",
       "      <td>2018-05-01</td>\n",
       "      <td>2988</td>\n",
       "    </tr>\n",
       "  </tbody>\n",
       "</table>\n",
       "</div>"
      ],
      "text/plain": [
       "   first_order_month  n_buyers\n",
       "0         2017-06-01      2023\n",
       "1         2017-07-01      1923\n",
       "2         2017-08-01      1370\n",
       "3         2017-09-01      2581\n",
       "4         2017-10-01      4340\n",
       "5         2017-11-01      4081\n",
       "6         2017-12-01      4383\n",
       "7         2018-01-01      3373\n",
       "8         2018-02-01      3651\n",
       "9         2018-03-01      3533\n",
       "10        2018-04-01      2276\n",
       "11        2018-05-01      2988"
      ]
     },
     "execution_count": 42,
     "metadata": {},
     "output_type": "execute_result"
    }
   ],
   "source": [
    "cohort_sizes = first_buy.groupby('first_buy_month').agg({'uid': 'nunique'}).reset_index()\n",
    "cohort_sizes.columns = ['first_order_month', 'n_buyers']\n",
    "cohort_sizes = cohort_sizes.drop(12, axis=0)\n",
    "cohort_sizes"
   ]
  },
  {
   "cell_type": "code",
   "execution_count": 43,
   "metadata": {},
   "outputs": [],
   "source": [
    "orders_first_month = pd.merge(orders,first_buy, on='uid')\n",
    "cohorts = orders_first_month.groupby(['first_buy_month','buy_month']).agg({'revenue': 'sum'}).reset_index()\n",
    "ltv = pd.merge(cohort_sizes, cohorts, left_on='first_order_month', right_on='first_buy_month')"
   ]
  },
  {
   "cell_type": "code",
   "execution_count": 44,
   "metadata": {},
   "outputs": [],
   "source": [
    "ltv['age'] = round((((ltv['buy_month'] - ltv['first_buy_month']) / np.timedelta64(1,'M')))).astype('int64')\n",
    "ltv['ltv'] = ltv['revenue'] / ltv['n_buyers']"
   ]
  },
  {
   "cell_type": "code",
   "execution_count": 45,
   "metadata": {},
   "outputs": [
    {
     "name": "stdout",
     "output_type": "stream",
     "text": [
      "Средний LTV за 6 месяцев после первой покупки: 9.16 руб.\n"
     ]
    }
   ],
   "source": [
    "ltv_result = ltv.pivot_table(index='first_buy_month', columns='age', values='ltv', aggfunc='mean')\n",
    "ltv_result.fillna('')\n",
    "m6_cum_ltv = ltv_result.cumsum(axis=1).mean(axis=0)[5]\n",
    "print('Средний LTV за 6 месяцев после первой покупки: {:.2f} руб.'.format(m6_cum_ltv))"
   ]
  },
  {
   "cell_type": "code",
   "execution_count": 46,
   "metadata": {},
   "outputs": [
    {
     "data": {
      "image/png": "[encoded data removed]",
      "text/plain": [
       "<Figure size 936x648 with 2 Axes>"
      ]
     },
     "metadata": {
      "needs_background": "light"
     },
     "output_type": "display_data"
    }
   ],
   "source": [
    "plt.figure(figsize=(13, 9))\n",
    "plt.title('Средняя выручка с покупателя')\n",
    "sns.heatmap(ltv_result, annot=True, fmt='.2f', linewidths=.5, vmax=2, vmin=0)\n",
    "plt.show()"
   ]
  },
  {
   "cell_type": "markdown",
   "metadata": {},
   "source": [
    "<div style=\"border:solid gold 2px; padding: 20px\"> <h1 style=\"color:gold; margin-bottom:20px\">Комментарий наставника</h1>\n",
    "\n",
    "LTV рассчитан верно, только стоило отобразить нарастающим итогом, в этом смысл данного показателя."
   ]
  },
  {
   "cell_type": "code",
   "execution_count": 47,
   "metadata": {
    "scrolled": false
   },
   "outputs": [
    {
     "data": {
      "text/html": [
       "<div>\n",
       "<style scoped>\n",
       "    .dataframe tbody tr th:only-of-type {\n",
       "        vertical-align: middle;\n",
       "    }\n",
       "\n",
       "    .dataframe tbody tr th {\n",
       "        vertical-align: top;\n",
       "    }\n",
       "\n",
       "    .dataframe thead th {\n",
       "        text-align: right;\n",
       "    }\n",
       "</style>\n",
       "<table border=\"1\" class=\"dataframe\">\n",
       "  <thead>\n",
       "    <tr style=\"text-align: right;\">\n",
       "      <th></th>\n",
       "      <th>source_id</th>\n",
       "      <th>revenue</th>\n",
       "      <th>n_buyers</th>\n",
       "      <th>ltv_canals</th>\n",
       "    </tr>\n",
       "  </thead>\n",
       "  <tbody>\n",
       "    <tr>\n",
       "      <th>1</th>\n",
       "      <td>2</td>\n",
       "      <td>69169.15</td>\n",
       "      <td>4591</td>\n",
       "      <td>15.0</td>\n",
       "    </tr>\n",
       "    <tr>\n",
       "      <th>0</th>\n",
       "      <td>1</td>\n",
       "      <td>63165.14</td>\n",
       "      <td>5219</td>\n",
       "      <td>12.0</td>\n",
       "    </tr>\n",
       "    <tr>\n",
       "      <th>4</th>\n",
       "      <td>5</td>\n",
       "      <td>57089.68</td>\n",
       "      <td>7391</td>\n",
       "      <td>8.0</td>\n",
       "    </tr>\n",
       "    <tr>\n",
       "      <th>2</th>\n",
       "      <td>3</td>\n",
       "      <td>42124.75</td>\n",
       "      <td>8995</td>\n",
       "      <td>5.0</td>\n",
       "    </tr>\n",
       "    <tr>\n",
       "      <th>3</th>\n",
       "      <td>4</td>\n",
       "      <td>48314.91</td>\n",
       "      <td>9702</td>\n",
       "      <td>5.0</td>\n",
       "    </tr>\n",
       "    <tr>\n",
       "      <th>6</th>\n",
       "      <td>9</td>\n",
       "      <td>3802.81</td>\n",
       "      <td>948</td>\n",
       "      <td>4.0</td>\n",
       "    </tr>\n",
       "    <tr>\n",
       "      <th>7</th>\n",
       "      <td>10</td>\n",
       "      <td>4367.69</td>\n",
       "      <td>1264</td>\n",
       "      <td>3.0</td>\n",
       "    </tr>\n",
       "    <tr>\n",
       "      <th>5</th>\n",
       "      <td>7</td>\n",
       "      <td>1.22</td>\n",
       "      <td>1</td>\n",
       "      <td>1.0</td>\n",
       "    </tr>\n",
       "  </tbody>\n",
       "</table>\n",
       "</div>"
      ],
      "text/plain": [
       "   source_id   revenue  n_buyers  ltv_canals\n",
       "1          2  69169.15      4591        15.0\n",
       "0          1  63165.14      5219        12.0\n",
       "4          5  57089.68      7391         8.0\n",
       "2          3  42124.75      8995         5.0\n",
       "3          4  48314.91      9702         5.0\n",
       "6          9   3802.81       948         4.0\n",
       "7         10   4367.69      1264         3.0\n",
       "5          7      1.22         1         1.0"
      ]
     },
     "execution_count": 47,
     "metadata": {},
     "output_type": "execute_result"
    }
   ],
   "source": [
    "canals = orders_first_month.groupby('source_id').agg({'revenue':'sum', 'uid':'nunique'}).reset_index()\n",
    "canals.columns = ['source_id','revenue','n_buyers' ]\n",
    "canals['ltv_canals'] = round(canals['revenue'] / canals['n_buyers'])\n",
    "canals.sort_values(by='ltv_canals', ascending=False)"
   ]
  },
  {
   "cell_type": "markdown",
   "metadata": {},
   "source": [
    "Получается, что у нас 2, 1 и 5 каналы привлекают больше всего посетителей и продаж(ltv 15, 12 и 8 соответственно). 6 канал вообще не привлек ничего, а 7 находится по ltv в самом низу (1). Нужно понять что именно повлияло на высокие показатели привлечения в 2, 1 и 5 канала, а также разобраться почему в 6 и 7 каналах все оказалось так плохо. Можно использовать информацию, что улучшить показатели других каналов привлечения. Либо же вложить больше средств в более успешные каналы, уменьшив доли менее успешных. Если прибыль не вырастет от этих действий, то стоит подумать о новых каналах или перераспределении между текущими каналами."
   ]
  },
  {
   "cell_type": "markdown",
   "metadata": {},
   "source": [
    "Ниже будут отчеты по маркетингу"
   ]
  },
  {
   "cell_type": "code",
   "execution_count": 48,
   "metadata": {},
   "outputs": [
    {
     "name": "stdout",
     "output_type": "stream",
     "text": [
      "Всего было потрачено на привлечение за весь период 329131.62 руб.\n"
     ]
    }
   ],
   "source": [
    "print('Всего было потрачено на привлечение за весь период {} руб.'.format(costs['costs'].sum()))"
   ]
  },
  {
   "cell_type": "code",
   "execution_count": 49,
   "metadata": {},
   "outputs": [
    {
     "data": {
      "image/png": "[encoded data removed]",
      "text/plain": [
       "<Figure size 720x360 with 1 Axes>"
      ]
     },
     "metadata": {
      "needs_background": "light"
     },
     "output_type": "display_data"
    }
   ],
   "source": [
    "costs['cost_month'] = costs['data'].dt.month\n",
    "\n",
    "plt.figure(figsize=(10, 5))\n",
    "costs.groupby('cost_month')['costs'].sum().plot(grid=True)\n",
    "plt.yticks(np.arange(0, 40000, step=5000))\n",
    "plt.xticks(np.arange(1, 13, step=1))\n",
    "plt.title('Годовая динамика затрат на маркетинг')\n",
    "plt.xlabel('месяц')\n",
    "plt.ylabel('затраты, руб.')\n",
    "plt.show()"
   ]
  },
  {
   "cell_type": "markdown",
   "metadata": {},
   "source": [
    "<div style=\"border:solid gold 2px; padding: 20px\"> <h1 style=\"color:gold; margin-bottom:20px\">Комментарий наставника</h1>\n",
    "\n",
    "Ок, толкьо стоило сразу сделать разбивку по источникам."
   ]
  },
  {
   "cell_type": "code",
   "execution_count": 50,
   "metadata": {},
   "outputs": [
    {
     "data": {
      "text/html": [
       "<div>\n",
       "<style scoped>\n",
       "    .dataframe tbody tr th:only-of-type {\n",
       "        vertical-align: middle;\n",
       "    }\n",
       "\n",
       "    .dataframe tbody tr th {\n",
       "        vertical-align: top;\n",
       "    }\n",
       "\n",
       "    .dataframe thead th {\n",
       "        text-align: right;\n",
       "    }\n",
       "</style>\n",
       "<table border=\"1\" class=\"dataframe\">\n",
       "  <thead>\n",
       "    <tr style=\"text-align: right;\">\n",
       "      <th></th>\n",
       "      <th>source_id</th>\n",
       "      <th>costs</th>\n",
       "    </tr>\n",
       "  </thead>\n",
       "  <tbody>\n",
       "    <tr>\n",
       "      <th>0</th>\n",
       "      <td>1</td>\n",
       "      <td>20833.27</td>\n",
       "    </tr>\n",
       "    <tr>\n",
       "      <th>1</th>\n",
       "      <td>2</td>\n",
       "      <td>42806.04</td>\n",
       "    </tr>\n",
       "    <tr>\n",
       "      <th>2</th>\n",
       "      <td>3</td>\n",
       "      <td>141321.63</td>\n",
       "    </tr>\n",
       "    <tr>\n",
       "      <th>3</th>\n",
       "      <td>4</td>\n",
       "      <td>61073.60</td>\n",
       "    </tr>\n",
       "    <tr>\n",
       "      <th>4</th>\n",
       "      <td>5</td>\n",
       "      <td>51757.10</td>\n",
       "    </tr>\n",
       "    <tr>\n",
       "      <th>5</th>\n",
       "      <td>9</td>\n",
       "      <td>5517.49</td>\n",
       "    </tr>\n",
       "    <tr>\n",
       "      <th>6</th>\n",
       "      <td>10</td>\n",
       "      <td>5822.49</td>\n",
       "    </tr>\n",
       "  </tbody>\n",
       "</table>\n",
       "</div>"
      ],
      "text/plain": [
       "   source_id      costs\n",
       "0          1   20833.27\n",
       "1          2   42806.04\n",
       "2          3  141321.63\n",
       "3          4   61073.60\n",
       "4          5   51757.10\n",
       "5          9    5517.49\n",
       "6         10    5822.49"
      ]
     },
     "execution_count": 50,
     "metadata": {},
     "output_type": "execute_result"
    }
   ],
   "source": [
    "costs_canals = costs.groupby('source_id').agg({'costs':'sum'}).reset_index()\n",
    "costs_canals"
   ]
  },
  {
   "cell_type": "code",
   "execution_count": 51,
   "metadata": {},
   "outputs": [],
   "source": [
    "canals = canals.merge(costs_canals, on='source_id', how='left')"
   ]
  },
  {
   "cell_type": "code",
   "execution_count": 52,
   "metadata": {},
   "outputs": [
    {
     "data": {
      "text/html": [
       "<div>\n",
       "<style scoped>\n",
       "    .dataframe tbody tr th:only-of-type {\n",
       "        vertical-align: middle;\n",
       "    }\n",
       "\n",
       "    .dataframe tbody tr th {\n",
       "        vertical-align: top;\n",
       "    }\n",
       "\n",
       "    .dataframe thead th {\n",
       "        text-align: right;\n",
       "    }\n",
       "</style>\n",
       "<table border=\"1\" class=\"dataframe\">\n",
       "  <thead>\n",
       "    <tr style=\"text-align: right;\">\n",
       "      <th></th>\n",
       "      <th>source_id</th>\n",
       "      <th>revenue</th>\n",
       "      <th>n_buyers</th>\n",
       "      <th>ltv_canals</th>\n",
       "      <th>costs</th>\n",
       "      <th>cac</th>\n",
       "      <th>romi</th>\n",
       "    </tr>\n",
       "  </thead>\n",
       "  <tbody>\n",
       "    <tr>\n",
       "      <th>0</th>\n",
       "      <td>1</td>\n",
       "      <td>63165.14</td>\n",
       "      <td>5219</td>\n",
       "      <td>12.0</td>\n",
       "      <td>20833.27</td>\n",
       "      <td>3.991813</td>\n",
       "      <td>3.006153</td>\n",
       "    </tr>\n",
       "    <tr>\n",
       "      <th>1</th>\n",
       "      <td>2</td>\n",
       "      <td>69169.15</td>\n",
       "      <td>4591</td>\n",
       "      <td>15.0</td>\n",
       "      <td>42806.04</td>\n",
       "      <td>9.323903</td>\n",
       "      <td>1.608768</td>\n",
       "    </tr>\n",
       "    <tr>\n",
       "      <th>2</th>\n",
       "      <td>3</td>\n",
       "      <td>42124.75</td>\n",
       "      <td>8995</td>\n",
       "      <td>5.0</td>\n",
       "      <td>141321.63</td>\n",
       "      <td>15.711132</td>\n",
       "      <td>0.318246</td>\n",
       "    </tr>\n",
       "    <tr>\n",
       "      <th>3</th>\n",
       "      <td>4</td>\n",
       "      <td>48314.91</td>\n",
       "      <td>9702</td>\n",
       "      <td>5.0</td>\n",
       "      <td>61073.60</td>\n",
       "      <td>6.294949</td>\n",
       "      <td>0.794288</td>\n",
       "    </tr>\n",
       "    <tr>\n",
       "      <th>4</th>\n",
       "      <td>5</td>\n",
       "      <td>57089.68</td>\n",
       "      <td>7391</td>\n",
       "      <td>8.0</td>\n",
       "      <td>51757.10</td>\n",
       "      <td>7.002720</td>\n",
       "      <td>1.142413</td>\n",
       "    </tr>\n",
       "    <tr>\n",
       "      <th>5</th>\n",
       "      <td>7</td>\n",
       "      <td>1.22</td>\n",
       "      <td>1</td>\n",
       "      <td>1.0</td>\n",
       "      <td>0.00</td>\n",
       "      <td>0.000000</td>\n",
       "      <td>1.220000</td>\n",
       "    </tr>\n",
       "    <tr>\n",
       "      <th>6</th>\n",
       "      <td>9</td>\n",
       "      <td>3802.81</td>\n",
       "      <td>948</td>\n",
       "      <td>4.0</td>\n",
       "      <td>5517.49</td>\n",
       "      <td>5.820137</td>\n",
       "      <td>0.687269</td>\n",
       "    </tr>\n",
       "    <tr>\n",
       "      <th>7</th>\n",
       "      <td>10</td>\n",
       "      <td>4367.69</td>\n",
       "      <td>1264</td>\n",
       "      <td>3.0</td>\n",
       "      <td>5822.49</td>\n",
       "      <td>4.606400</td>\n",
       "      <td>0.651268</td>\n",
       "    </tr>\n",
       "  </tbody>\n",
       "</table>\n",
       "</div>"
      ],
      "text/plain": [
       "   source_id   revenue  n_buyers  ltv_canals      costs        cac      romi\n",
       "0          1  63165.14      5219        12.0   20833.27   3.991813  3.006153\n",
       "1          2  69169.15      4591        15.0   42806.04   9.323903  1.608768\n",
       "2          3  42124.75      8995         5.0  141321.63  15.711132  0.318246\n",
       "3          4  48314.91      9702         5.0   61073.60   6.294949  0.794288\n",
       "4          5  57089.68      7391         8.0   51757.10   7.002720  1.142413\n",
       "5          7      1.22         1         1.0       0.00   0.000000  1.220000\n",
       "6          9   3802.81       948         4.0    5517.49   5.820137  0.687269\n",
       "7         10   4367.69      1264         3.0    5822.49   4.606400  0.651268"
      ]
     },
     "execution_count": 52,
     "metadata": {},
     "output_type": "execute_result"
    }
   ],
   "source": [
    "canals = canals.fillna(0)\n",
    "canals['cac'] = canals['costs'] / canals['n_buyers']\n",
    "canals['romi'] = canals['ltv_canals'] / canals['cac']\n",
    "canals.loc[5,'romi'] = 1.22 #заполняю эту ячейлу прибылью с пользователя, т.к. он был 1 и его привлечение стоило 0 руб.\n",
    "canals"
   ]
  },
  {
   "cell_type": "markdown",
   "metadata": {},
   "source": [
    "<div style=\"border:solid gold 2px; padding: 20px\"> <h1 style=\"color:gold; margin-bottom:20px\">Комментарий наставника</h1>\n",
    "\n",
    "Ок, но стоило отобразить диаграмму."
   ]
  },
  {
   "cell_type": "markdown",
   "metadata": {},
   "source": [
    "### Вывод"
   ]
  },
  {
   "cell_type": "markdown",
   "metadata": {},
   "source": [
    "Самый окупаемый канал оказался 1 канал. 3 источник привлечения нужно дорабатывать, т.к. на него уходит почти столько же средств сколько он приносит прибыли. 7 канал \"аномальный\" с него пришел всего 1 человек, но затрат на привлечения этого человека не было вообще. Возможно, это источник дополнительного трафика на сервис и стоит вложить средства бюджета в следующем году.\n",
    "\n",
    "Спад расходов начинается с марта, т.е. опять мы видим, что чаще сервисом пользуются в холоднее время года, когда вообще гулять на улице не хочется."
   ]
  },
  {
   "cell_type": "markdown",
   "metadata": {},
   "source": [
    "## Шаг 3. Рекомендации для маркетинга"
   ]
  },
  {
   "cell_type": "markdown",
   "metadata": {},
   "source": [
    "Я считаю, что стоит дорабатывать обе платформы, чтобы они стали удобнее для быстрого использования. У нас очень много пользователей знают, что они хотят приобрести, т.е. тут работа с поиском, фильтрами, релевантным для пользователей контентом и скоростью работы сервиса. Особенно скорость решает на мобильных из-за мобильного интернет-соединения. Это все я основываю на 1 блоке исследования о длине сессии.\n",
    "\n",
    "По возвращаемости мы увидели, что интерес пользователей медленно угасает и есть очень сильное влияние времени года на спрос. Нужно учесть, что лето это мертвый сезон. Об этом говорит динамика среднего чека и возвращаемость на сервис.Затраты соответственно тоже самые низкие в году.\n",
    "\n",
    "По каналам стоит сделать перераспределение бюджета на следующий год. Всего каналов у нас 8 шт. Можно распределить таким образом:\n",
    "- 1 канал: 25% (самый окупаемый)\n",
    "- 2 канал: 15%\n",
    "- 5 канал: 12,5%\n",
    "- 4 канал: 12,5%\n",
    "- 9 канал: 12,5%\n",
    "- 10 канал: 12,5%\n",
    "- 3 канал: 7%\n",
    "- 7 канал: 3% (нужно понять сколько он сможет принести прибыли при затратах на привлечение)\n",
    "\n",
    "Очевидно, что у нас есть просадка летом. Можно было бы выводить больше всяких мероприятий на свежем воздухе либо же те, которые активные. Например, массовый забег."
   ]
  }
 ],
 "metadata": {
  "kernelspec": {
   "display_name": "Python 3",
   "language": "python",
   "name": "python3"
  },
  "language_info": {
   "codemirror_mode": {
    "name": "ipython",
    "version": 3
   },
   "file_extension": ".py",
   "mimetype": "text/x-python",
   "name": "python",
   "nbconvert_exporter": "python",
   "pygments_lexer": "ipython3",
   "version": "3.8.3"
  }
 },
 "nbformat": 4,
 "nbformat_minor": 2
}

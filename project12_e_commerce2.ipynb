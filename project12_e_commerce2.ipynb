{
 "cells": [
  {
   "cell_type": "markdown",
   "metadata": {},
   "source": [
    "---\n",
    "<div class=\"alert alert-block alert-success\">\n",
    "\n",
    "## Комментарий от наставника\n",
    "\n",
    "Спасибо за доработки, сейчас все в порядке. Проект засчитан, поздравляю!\n",
    "</div>\n",
    "\n",
    "---"
   ]
  },
  {
   "cell_type": "markdown",
   "metadata": {},
   "source": [
    "---\n",
    "\n",
    "<div class=\"alert alert-block alert-danger\">\n",
    "    \n",
    "\n",
    "## Комментарий от наставника\n",
    "\n",
    "Привет! Спасибо за проект. Сейчас остались некоторые вопросы и замечания, выделены в коде красными блоками. Исправь или дополнительно прокомментируй их, пожалуйста.\n",
    "</div>\n",
    "    \n",
    "---"
   ]
  },
  {
   "cell_type": "markdown",
   "metadata": {},
   "source": [
    "## Описание задачи\n",
    "Сегментировать покупателей по профилю потребления\n",
    "\n",
    "- Проведите исследовательский анализ данных\n",
    "- Сегментируйте покупателей на основе истории их покупок\n",
    "- Сформулируйте и проверьте статистические гипотезы\n",
    "\n",
    "### Описание данных\n",
    "\n",
    "Датасет описывает транзакции интернет-магазина товаров для дома и быта «Пока все ещё тут».\n",
    "\n",
    "Колонки в  *ecommerce_dataset.csv* :\n",
    "\n",
    "- `date` — дата заказа;\n",
    "- `customer_id` — идентификатор покупателя;\n",
    "- `order_id` — идентификатор заказа;\n",
    "- `product` — наименование товара;\n",
    "- `quantity` — количество товара в заказе;\n",
    "- `price` — цена товара."
   ]
  },
  {
   "cell_type": "markdown",
   "metadata": {},
   "source": [
    "## Декомпозиция задачи. План действий\n",
    "\n",
    "1. Просмотр датасета и предобработка(приведение к правильному типу данных, работа с дубликатами и пропусками)\n",
    "2. Исследовательский анализ(EDA)\n",
    "    * Посмотреть на то, как часто покупают\n",
    "    * Возвращаемость когорт\n",
    "    * Сколько покупают в сутки/месяц\n",
    "    * Сколько в среднем получается покупок? Много ли заказывают или докупают что-то?\n",
    "    * Разброс по сумме заказа\n",
    "* Сегментация покупателей на основе покупок \n",
    "    * Как часто покупают\n",
    "    * На какие суммы покупают\n",
    "* Формулировка гипотез и их проверка\n",
    "    * Гипотеза о равенстве среднего значения суммы корзины разных сегментов\n",
    "* Презентация и дашборд"
   ]
  },
  {
   "cell_type": "markdown",
   "metadata": {},
   "source": [
    "## Материалы\n",
    "* [Презентация](https://drive.google.com/file/d/1tjHw9n5SeVBzPuwAIJJ3tve8cn81BF1C/view?usp=sharing)"
   ]
  },
  {
   "cell_type": "markdown",
   "metadata": {},
   "source": [
    "<div class=\"alert alert-block alert-warning\">\n",
    "    \n",
    "Оглавление:\n",
    "    \n",
    "1. [Предобработка данных](#step1)\n",
    "2. [Исследовательский анализ данных EDA](#step2)\n",
    "3. [Сегментация покупателей на сонове покупок](#step3)\n",
    "4. [Формулировка гипотез и их проверка](#step4)\n",
    "5. [Общий вывод к проекту и рекомендации](#step5)\n",
    "    \n",
    "</div> "
   ]
  },
  {
   "cell_type": "code",
   "execution_count": 1,
   "metadata": {},
   "outputs": [],
   "source": [
    "import pandas as pd\n",
    "import numpy as np\n",
    "import matplotlib.pyplot as plt\n",
    "import seaborn as sns\n",
    "import math as mth\n",
    "from scipy import stats as st"
   ]
  },
  {
   "cell_type": "markdown",
   "metadata": {},
   "source": [
    "## Предобработка данных <a id='step1'></a>"
   ]
  },
  {
   "cell_type": "code",
   "execution_count": 3,
   "metadata": {},
   "outputs": [
    {
     "ename": "FileNotFoundError",
     "evalue": "[Errno 2] File b'C://Users/\\xd0\\xa0\\xd0\\xb8\\xd1\\x82\\xd0\\xb5\\xd1\\x80/Desktop/\\xd0\\x9f\\xd1\\x80\\xd0\\xb0\\xd0\\xba\\xd1\\x82\\xd0\\xb8\\xd0\\xba\\xd1\\x83\\xd0\\xbc/\\xd0\\x94\\xd0\\xb8\\xd0\\xbf\\xd0\\xbb\\xd0\\xbe\\xd0\\xbc/Ecomm/ecommerce_dataset.csv' does not exist: b'C://Users/\\xd0\\xa0\\xd0\\xb8\\xd1\\x82\\xd0\\xb5\\xd1\\x80/Desktop/\\xd0\\x9f\\xd1\\x80\\xd0\\xb0\\xd0\\xba\\xd1\\x82\\xd0\\xb8\\xd0\\xba\\xd1\\x83\\xd0\\xbc/\\xd0\\x94\\xd0\\xb8\\xd0\\xbf\\xd0\\xbb\\xd0\\xbe\\xd0\\xbc/Ecomm/ecommerce_dataset.csv'",
     "output_type": "error",
     "traceback": [
      "\u001b[0;31m---------------------------------------------------------------------------\u001b[0m",
      "\u001b[0;31mFileNotFoundError\u001b[0m                         Traceback (most recent call last)",
      "\u001b[0;32m<ipython-input-3-2f43a672d8e7>\u001b[0m in \u001b[0;36m<module>\u001b[0;34m\u001b[0m\n\u001b[1;32m      1\u001b[0m \u001b[0;31m#Локалка\u001b[0m\u001b[0;34m\u001b[0m\u001b[0;34m\u001b[0m\u001b[0;34m\u001b[0m\u001b[0m\n\u001b[0;32m----> 2\u001b[0;31m \u001b[0mdf\u001b[0m \u001b[0;34m=\u001b[0m \u001b[0mpd\u001b[0m\u001b[0;34m.\u001b[0m\u001b[0mread_csv\u001b[0m\u001b[0;34m(\u001b[0m\u001b[0;34m'C://Users/Ритер/Desktop/Практикум/Диплом/Ecomm/ecommerce_dataset.csv'\u001b[0m\u001b[0;34m)\u001b[0m\u001b[0;34m\u001b[0m\u001b[0;34m\u001b[0m\u001b[0m\n\u001b[0m\u001b[1;32m      3\u001b[0m \u001b[0;34m\u001b[0m\u001b[0m\n\u001b[1;32m      4\u001b[0m \u001b[0;31m#Практикум\u001b[0m\u001b[0;34m\u001b[0m\u001b[0;34m\u001b[0m\u001b[0;34m\u001b[0m\u001b[0m\n\u001b[1;32m      5\u001b[0m \u001b[0;31m#df = pd.read_csv('/datasets/ecommerce_dataset.csv')\u001b[0m\u001b[0;34m\u001b[0m\u001b[0;34m\u001b[0m\u001b[0;34m\u001b[0m\u001b[0m\n",
      "\u001b[0;32m/opt/conda/lib/python3.7/site-packages/pandas/io/parsers.py\u001b[0m in \u001b[0;36mparser_f\u001b[0;34m(filepath_or_buffer, sep, delimiter, header, names, index_col, usecols, squeeze, prefix, mangle_dupe_cols, dtype, engine, converters, true_values, false_values, skipinitialspace, skiprows, skipfooter, nrows, na_values, keep_default_na, na_filter, verbose, skip_blank_lines, parse_dates, infer_datetime_format, keep_date_col, date_parser, dayfirst, cache_dates, iterator, chunksize, compression, thousands, decimal, lineterminator, quotechar, quoting, doublequote, escapechar, comment, encoding, dialect, error_bad_lines, warn_bad_lines, delim_whitespace, low_memory, memory_map, float_precision)\u001b[0m\n\u001b[1;32m    683\u001b[0m         )\n\u001b[1;32m    684\u001b[0m \u001b[0;34m\u001b[0m\u001b[0m\n\u001b[0;32m--> 685\u001b[0;31m         \u001b[0;32mreturn\u001b[0m \u001b[0m_read\u001b[0m\u001b[0;34m(\u001b[0m\u001b[0mfilepath_or_buffer\u001b[0m\u001b[0;34m,\u001b[0m \u001b[0mkwds\u001b[0m\u001b[0;34m)\u001b[0m\u001b[0;34m\u001b[0m\u001b[0;34m\u001b[0m\u001b[0m\n\u001b[0m\u001b[1;32m    686\u001b[0m \u001b[0;34m\u001b[0m\u001b[0m\n\u001b[1;32m    687\u001b[0m     \u001b[0mparser_f\u001b[0m\u001b[0;34m.\u001b[0m\u001b[0m__name__\u001b[0m \u001b[0;34m=\u001b[0m \u001b[0mname\u001b[0m\u001b[0;34m\u001b[0m\u001b[0;34m\u001b[0m\u001b[0m\n",
      "\u001b[0;32m/opt/conda/lib/python3.7/site-packages/pandas/io/parsers.py\u001b[0m in \u001b[0;36m_read\u001b[0;34m(filepath_or_buffer, kwds)\u001b[0m\n\u001b[1;32m    455\u001b[0m \u001b[0;34m\u001b[0m\u001b[0m\n\u001b[1;32m    456\u001b[0m     \u001b[0;31m# Create the parser.\u001b[0m\u001b[0;34m\u001b[0m\u001b[0;34m\u001b[0m\u001b[0;34m\u001b[0m\u001b[0m\n\u001b[0;32m--> 457\u001b[0;31m     \u001b[0mparser\u001b[0m \u001b[0;34m=\u001b[0m \u001b[0mTextFileReader\u001b[0m\u001b[0;34m(\u001b[0m\u001b[0mfp_or_buf\u001b[0m\u001b[0;34m,\u001b[0m \u001b[0;34m**\u001b[0m\u001b[0mkwds\u001b[0m\u001b[0;34m)\u001b[0m\u001b[0;34m\u001b[0m\u001b[0;34m\u001b[0m\u001b[0m\n\u001b[0m\u001b[1;32m    458\u001b[0m \u001b[0;34m\u001b[0m\u001b[0m\n\u001b[1;32m    459\u001b[0m     \u001b[0;32mif\u001b[0m \u001b[0mchunksize\u001b[0m \u001b[0;32mor\u001b[0m \u001b[0miterator\u001b[0m\u001b[0;34m:\u001b[0m\u001b[0;34m\u001b[0m\u001b[0;34m\u001b[0m\u001b[0m\n",
      "\u001b[0;32m/opt/conda/lib/python3.7/site-packages/pandas/io/parsers.py\u001b[0m in \u001b[0;36m__init__\u001b[0;34m(self, f, engine, **kwds)\u001b[0m\n\u001b[1;32m    893\u001b[0m             \u001b[0mself\u001b[0m\u001b[0;34m.\u001b[0m\u001b[0moptions\u001b[0m\u001b[0;34m[\u001b[0m\u001b[0;34m\"has_index_names\"\u001b[0m\u001b[0;34m]\u001b[0m \u001b[0;34m=\u001b[0m \u001b[0mkwds\u001b[0m\u001b[0;34m[\u001b[0m\u001b[0;34m\"has_index_names\"\u001b[0m\u001b[0;34m]\u001b[0m\u001b[0;34m\u001b[0m\u001b[0;34m\u001b[0m\u001b[0m\n\u001b[1;32m    894\u001b[0m \u001b[0;34m\u001b[0m\u001b[0m\n\u001b[0;32m--> 895\u001b[0;31m         \u001b[0mself\u001b[0m\u001b[0;34m.\u001b[0m\u001b[0m_make_engine\u001b[0m\u001b[0;34m(\u001b[0m\u001b[0mself\u001b[0m\u001b[0;34m.\u001b[0m\u001b[0mengine\u001b[0m\u001b[0;34m)\u001b[0m\u001b[0;34m\u001b[0m\u001b[0;34m\u001b[0m\u001b[0m\n\u001b[0m\u001b[1;32m    896\u001b[0m \u001b[0;34m\u001b[0m\u001b[0m\n\u001b[1;32m    897\u001b[0m     \u001b[0;32mdef\u001b[0m \u001b[0mclose\u001b[0m\u001b[0;34m(\u001b[0m\u001b[0mself\u001b[0m\u001b[0;34m)\u001b[0m\u001b[0;34m:\u001b[0m\u001b[0;34m\u001b[0m\u001b[0;34m\u001b[0m\u001b[0m\n",
      "\u001b[0;32m/opt/conda/lib/python3.7/site-packages/pandas/io/parsers.py\u001b[0m in \u001b[0;36m_make_engine\u001b[0;34m(self, engine)\u001b[0m\n\u001b[1;32m   1133\u001b[0m     \u001b[0;32mdef\u001b[0m \u001b[0m_make_engine\u001b[0m\u001b[0;34m(\u001b[0m\u001b[0mself\u001b[0m\u001b[0;34m,\u001b[0m \u001b[0mengine\u001b[0m\u001b[0;34m=\u001b[0m\u001b[0;34m\"c\"\u001b[0m\u001b[0;34m)\u001b[0m\u001b[0;34m:\u001b[0m\u001b[0;34m\u001b[0m\u001b[0;34m\u001b[0m\u001b[0m\n\u001b[1;32m   1134\u001b[0m         \u001b[0;32mif\u001b[0m \u001b[0mengine\u001b[0m \u001b[0;34m==\u001b[0m \u001b[0;34m\"c\"\u001b[0m\u001b[0;34m:\u001b[0m\u001b[0;34m\u001b[0m\u001b[0;34m\u001b[0m\u001b[0m\n\u001b[0;32m-> 1135\u001b[0;31m             \u001b[0mself\u001b[0m\u001b[0;34m.\u001b[0m\u001b[0m_engine\u001b[0m \u001b[0;34m=\u001b[0m \u001b[0mCParserWrapper\u001b[0m\u001b[0;34m(\u001b[0m\u001b[0mself\u001b[0m\u001b[0;34m.\u001b[0m\u001b[0mf\u001b[0m\u001b[0;34m,\u001b[0m \u001b[0;34m**\u001b[0m\u001b[0mself\u001b[0m\u001b[0;34m.\u001b[0m\u001b[0moptions\u001b[0m\u001b[0;34m)\u001b[0m\u001b[0;34m\u001b[0m\u001b[0;34m\u001b[0m\u001b[0m\n\u001b[0m\u001b[1;32m   1136\u001b[0m         \u001b[0;32melse\u001b[0m\u001b[0;34m:\u001b[0m\u001b[0;34m\u001b[0m\u001b[0;34m\u001b[0m\u001b[0m\n\u001b[1;32m   1137\u001b[0m             \u001b[0;32mif\u001b[0m \u001b[0mengine\u001b[0m \u001b[0;34m==\u001b[0m \u001b[0;34m\"python\"\u001b[0m\u001b[0;34m:\u001b[0m\u001b[0;34m\u001b[0m\u001b[0;34m\u001b[0m\u001b[0m\n",
      "\u001b[0;32m/opt/conda/lib/python3.7/site-packages/pandas/io/parsers.py\u001b[0m in \u001b[0;36m__init__\u001b[0;34m(self, src, **kwds)\u001b[0m\n\u001b[1;32m   1915\u001b[0m         \u001b[0mkwds\u001b[0m\u001b[0;34m[\u001b[0m\u001b[0;34m\"usecols\"\u001b[0m\u001b[0;34m]\u001b[0m \u001b[0;34m=\u001b[0m \u001b[0mself\u001b[0m\u001b[0;34m.\u001b[0m\u001b[0musecols\u001b[0m\u001b[0;34m\u001b[0m\u001b[0;34m\u001b[0m\u001b[0m\n\u001b[1;32m   1916\u001b[0m \u001b[0;34m\u001b[0m\u001b[0m\n\u001b[0;32m-> 1917\u001b[0;31m         \u001b[0mself\u001b[0m\u001b[0;34m.\u001b[0m\u001b[0m_reader\u001b[0m \u001b[0;34m=\u001b[0m \u001b[0mparsers\u001b[0m\u001b[0;34m.\u001b[0m\u001b[0mTextReader\u001b[0m\u001b[0;34m(\u001b[0m\u001b[0msrc\u001b[0m\u001b[0;34m,\u001b[0m \u001b[0;34m**\u001b[0m\u001b[0mkwds\u001b[0m\u001b[0;34m)\u001b[0m\u001b[0;34m\u001b[0m\u001b[0;34m\u001b[0m\u001b[0m\n\u001b[0m\u001b[1;32m   1918\u001b[0m         \u001b[0mself\u001b[0m\u001b[0;34m.\u001b[0m\u001b[0munnamed_cols\u001b[0m \u001b[0;34m=\u001b[0m \u001b[0mself\u001b[0m\u001b[0;34m.\u001b[0m\u001b[0m_reader\u001b[0m\u001b[0;34m.\u001b[0m\u001b[0munnamed_cols\u001b[0m\u001b[0;34m\u001b[0m\u001b[0;34m\u001b[0m\u001b[0m\n\u001b[1;32m   1919\u001b[0m \u001b[0;34m\u001b[0m\u001b[0m\n",
      "\u001b[0;32mpandas/_libs/parsers.pyx\u001b[0m in \u001b[0;36mpandas._libs.parsers.TextReader.__cinit__\u001b[0;34m()\u001b[0m\n",
      "\u001b[0;32mpandas/_libs/parsers.pyx\u001b[0m in \u001b[0;36mpandas._libs.parsers.TextReader._setup_parser_source\u001b[0;34m()\u001b[0m\n",
      "\u001b[0;31mFileNotFoundError\u001b[0m: [Errno 2] File b'C://Users/\\xd0\\xa0\\xd0\\xb8\\xd1\\x82\\xd0\\xb5\\xd1\\x80/Desktop/\\xd0\\x9f\\xd1\\x80\\xd0\\xb0\\xd0\\xba\\xd1\\x82\\xd0\\xb8\\xd0\\xba\\xd1\\x83\\xd0\\xbc/\\xd0\\x94\\xd0\\xb8\\xd0\\xbf\\xd0\\xbb\\xd0\\xbe\\xd0\\xbc/Ecomm/ecommerce_dataset.csv' does not exist: b'C://Users/\\xd0\\xa0\\xd0\\xb8\\xd1\\x82\\xd0\\xb5\\xd1\\x80/Desktop/\\xd0\\x9f\\xd1\\x80\\xd0\\xb0\\xd0\\xba\\xd1\\x82\\xd0\\xb8\\xd0\\xba\\xd1\\x83\\xd0\\xbc/\\xd0\\x94\\xd0\\xb8\\xd0\\xbf\\xd0\\xbb\\xd0\\xbe\\xd0\\xbc/Ecomm/ecommerce_dataset.csv'"
     ]
    }
   ],
   "source": [
    "#Локалка\n",
    "df = pd.read_csv('C://Users/Ритер/Desktop/Практикум/Диплом/Ecomm/ecommerce_dataset.csv')\n",
    "\n",
    "#Практикум\n",
    "#df = pd.read_csv('/datasets/ecommerce_dataset.csv')"
   ]
  },
  {
   "cell_type": "code",
   "execution_count": null,
   "metadata": {},
   "outputs": [],
   "source": [
    "def vision_df(list_df):\n",
    "    cnt = 1\n",
    "    for i in list_df:\n",
    "        print('----------------------------DataFrame ', cnt, '-------------------------------')\n",
    "        print()\n",
    "        print('Info', i.info())\n",
    "        print()\n",
    "        print()\n",
    "        for col in i.columns:\n",
    "            print(f'Duplicate in {col}: {i[col].duplicated().sum()}')\n",
    "        print()\n",
    "        display(i.head())\n",
    "        print('------------------------------------------------------------------------')\n",
    "        print('------------------------------------------------------------------------')\n",
    "        cnt += 1"
   ]
  },
  {
   "cell_type": "code",
   "execution_count": null,
   "metadata": {},
   "outputs": [],
   "source": [
    "vision_df([df])"
   ]
  },
  {
   "cell_type": "code",
   "execution_count": null,
   "metadata": {},
   "outputs": [],
   "source": [
    "df['date'] = pd.to_datetime(df['date'], format='%Y%m%d%H')"
   ]
  },
  {
   "cell_type": "code",
   "execution_count": null,
   "metadata": {},
   "outputs": [],
   "source": [
    "df.info()"
   ]
  },
  {
   "cell_type": "markdown",
   "metadata": {},
   "source": [
    "Пропусков в датасете нет. Из проблем с типом данных есть только колонка с датой. Дубликаты обоснованны, т.к. у нас формат такой, что каждая строка это отдельный товар со своими характеристиками(ценой, датой заказа, id заказа и покупателя). По названиям колонок тоже все ок."
   ]
  },
  {
   "cell_type": "markdown",
   "metadata": {},
   "source": [
    "## Исследовательский анализ данных EDA <a id='step2'></a>\n",
    "* Сколько покупают в сутки/по дням недели/месяц\n",
    "* Возвращаемость когорт\n",
    "* Сколько в среднем получается покупок? Много ли заказывают или докупают что-то?\n",
    "* Разброс по сумме заказа"
   ]
  },
  {
   "cell_type": "markdown",
   "metadata": {},
   "source": [
    "## Когда покупают\n",
    "Сначала посмотрим какой временной промежуток у нас есть. Выделим дату, чтобы можно было посмотреть как распределены покупки по дням. Тоже самое можно сделать с часами."
   ]
  },
  {
   "cell_type": "code",
   "execution_count": null,
   "metadata": {},
   "outputs": [],
   "source": [
    "df['time'] = df['date'].dt.hour\n",
    "df['month'] = df['date'].astype('datetime64[M]')\n",
    "df['weekday'] = df['date'].dt.weekday\n",
    "df['month_number'] = df['month'].dt.month\n",
    "df['date'] = df['date'].dt.date"
   ]
  },
  {
   "cell_type": "code",
   "execution_count": null,
   "metadata": {},
   "outputs": [],
   "source": [
    "df.head()"
   ]
  },
  {
   "cell_type": "code",
   "execution_count": null,
   "metadata": {},
   "outputs": [],
   "source": [
    "print('Временной период с {} по {}'.format(df['date'].min(), df['date'].max()))"
   ]
  },
  {
   "cell_type": "markdown",
   "metadata": {},
   "source": [
    "Получается что у нас данные за год с начала октября 2018 по конец октября 2019 г."
   ]
  },
  {
   "cell_type": "code",
   "execution_count": null,
   "metadata": {},
   "outputs": [],
   "source": [
    "df.groupby('month').agg({'order_id':'nunique'}).reset_index()"
   ]
  },
  {
   "cell_type": "code",
   "execution_count": null,
   "metadata": {},
   "outputs": [],
   "source": [
    "fig = plt.subplots(figsize=(15,8))\n",
    "\n",
    "x = df.groupby('month').agg({'order_id':'nunique'}).reset_index()['month']\n",
    "y = df.groupby('month').agg({'order_id':'nunique'}).reset_index()['order_id']\n",
    "\n",
    "plt.plot(x, y)\n",
    "plt.grid(True)\n",
    "plt.title('Количество заказов помесяцно за год')\n",
    "plt.xlabel('Месяц')\n",
    "plt.ylabel('Заказы, шт.')\n",
    "plt.show()"
   ]
  },
  {
   "cell_type": "code",
   "execution_count": null,
   "metadata": {},
   "outputs": [],
   "source": [
    "fig = plt.subplots(figsize=(15,8))\n",
    "\n",
    "x = ['понедельник', 'вторник', 'среда', 'четверг', 'пятница', 'суббота', 'воскресенье']\n",
    "y = df.groupby('weekday').agg({'order_id':'nunique'}).reset_index()['order_id']\n",
    "\n",
    "plt.plot(x, y)\n",
    "plt.grid(True)\n",
    "plt.title('Количество заказов по дням недели')\n",
    "plt.xlabel('День недели')\n",
    "plt.ylabel('Заказы, шт.')\n",
    "plt.show()"
   ]
  },
  {
   "cell_type": "code",
   "execution_count": null,
   "metadata": {},
   "outputs": [],
   "source": [
    "fig = plt.subplots(figsize=(15,8))\n",
    "\n",
    "x = df.groupby('time').agg({'order_id':'nunique'}).reset_index()['time']\n",
    "y = df.groupby('time').agg({'order_id':'nunique'}).reset_index()['order_id']\n",
    "\n",
    "plt.plot(x, y)\n",
    "plt.grid(True)\n",
    "plt.title('Количество заказов по часам')\n",
    "plt.xlabel('Час')\n",
    "plt.ylabel('Заказы, шт.')\n",
    "plt.xticks(np.arange(0, 24, step=1))\n",
    "plt.show()"
   ]
  },
  {
   "cell_type": "code",
   "execution_count": null,
   "metadata": {},
   "outputs": [],
   "source": [
    "print('Среднее количество покупок в месяц: {:.0f}'.format(df.groupby('month').agg({'order_id':'nunique'})['order_id'].mean()))\n",
    "print('Медиана количества покупок в месяц: {:.0f}'.format(df.groupby('month').agg({'order_id':'nunique'})['order_id'].median()))\n",
    "print('-----------------------------------------')\n",
    "print('Среднее количество покупок в день: {:.0f}'.format(df.groupby('date').agg({'order_id':'nunique'})['order_id'].mean()))\n",
    "print('Медиана количества покупок в день: {:.0f}'.format(df.groupby('date').agg({'order_id':'nunique'})['order_id'].median()))"
   ]
  },
  {
   "cell_type": "markdown",
   "metadata": {},
   "source": [
    "### Вывод по тому когда покупают\n",
    "* Пиковые месяцы для нашего интернет-магазина приходятся на декабрь и февраль. Есть также всплеск активности в апреле. \"Мертвые месяцы\" - январь и июнь\n",
    "* По дням недели активность, начиная с понедельника, падает до субботы. Видимо, в будние дни проще заказать\n",
    "* Наибольший наплыв заказов приходиться на 11 часов\n",
    "\n",
    "Может утром в понедельник не хочется работать и лучше сделать заказ в интернет-магазине?\n",
    "\n",
    "Среднее и медианное значения количества заказов говорят о том, что в день обычно приходит 8 заказов. Среднее и медиана количества заказов в месяц немного разнятся(217 и 201 шт. соответственно) из-за того, что есть \"активные\" месяцы продажи."
   ]
  },
  {
   "cell_type": "markdown",
   "metadata": {},
   "source": [
    "---\n",
    "<div class=\"alert alert-block alert-success\">\n",
    "\n",
    "## Комментарий от наставника\n",
    "\n",
    "В этом разделе все верно.\n",
    "</div>\n",
    "\n",
    "---"
   ]
  },
  {
   "cell_type": "markdown",
   "metadata": {},
   "source": [
    "## Заказы"
   ]
  },
  {
   "cell_type": "code",
   "execution_count": null,
   "metadata": {},
   "outputs": [],
   "source": [
    "print('Среднее количество единиц 1 товара в заказе: {:.0f} шт.'.format(df['quantity'].mean()))\n",
    "print('Медианное значение количества единиц 1 товара в заказе: {:.0f} шт.'.format(df['quantity'].median()))"
   ]
  },
  {
   "cell_type": "code",
   "execution_count": null,
   "metadata": {},
   "outputs": [],
   "source": [
    "df.groupby(['customer_id', 'order_id', 'product']).count().sort_values('date', ascending=False).head()"
   ]
  },
  {
   "cell_type": "code",
   "execution_count": null,
   "metadata": {},
   "outputs": [],
   "source": [
    "print('Количесто заказов до чистки от дубликатов: {} шт.'.format(len(df)))"
   ]
  },
  {
   "cell_type": "code",
   "execution_count": null,
   "metadata": {},
   "outputs": [],
   "source": [
    "df = df.drop_duplicates(subset=['customer_id', 'order_id', 'product']).reset_index(drop=True)"
   ]
  },
  {
   "cell_type": "code",
   "execution_count": null,
   "metadata": {},
   "outputs": [],
   "source": [
    "df.groupby(['customer_id', 'order_id', 'product']).count().sort_values('date', ascending=False).head()"
   ]
  },
  {
   "cell_type": "code",
   "execution_count": null,
   "metadata": {},
   "outputs": [],
   "source": [
    "print('Количесто заказов после чистки от дубликатов: {} шт.'.format(len(df)))"
   ]
  },
  {
   "cell_type": "markdown",
   "metadata": {},
   "source": [
    "Благодаря группировке по id покупателя, id заказа и товарам в заказе, выяснилось, что в датасете есть дубли. Они могут исказить графики и метрики, поэтому их нужно убрать."
   ]
  },
  {
   "cell_type": "code",
   "execution_count": null,
   "metadata": {},
   "outputs": [],
   "source": [
    "fig, ax = plt.subplots(1, 2, figsize=(15,8))\n",
    "\n",
    "ax[0].boxplot(df['quantity'])\n",
    "ax[0].set_title('Распределение количества единиц 1 товара')\n",
    "ax[0].set_ylabel('Количество, шт.')\n",
    "\n",
    "ax[1].hist(df['quantity'], bins=60)\n",
    "ax[1].set_title('Гистограмма распределения количества единиц 1 товара')\n",
    "ax[1].set_xlabel('Количество, шт.')\n",
    "ax[1].set_ylabel('Частота')\n",
    "\n",
    "plt.show()"
   ]
  },
  {
   "cell_type": "code",
   "execution_count": null,
   "metadata": {},
   "outputs": [],
   "source": [
    "cnt_orders = df.groupby('customer_id').agg({'order_id':'count'}).reset_index()\n",
    "cnt_orders.head()"
   ]
  },
  {
   "cell_type": "code",
   "execution_count": null,
   "metadata": {},
   "outputs": [],
   "source": [
    "df = df.merge(cnt_orders, on='customer_id')"
   ]
  },
  {
   "cell_type": "code",
   "execution_count": null,
   "metadata": {},
   "outputs": [],
   "source": [
    "df.columns = ['date', 'customer_id', 'order_id', 'product', 'quantity', 'price',\n",
    "       'time', 'month', 'weekday', 'month_number', 'amount_orders']"
   ]
  },
  {
   "cell_type": "code",
   "execution_count": null,
   "metadata": {},
   "outputs": [],
   "source": [
    "df[(df['quantity'] >= 100) & (df['amount_orders'] == 1)]"
   ]
  },
  {
   "cell_type": "code",
   "execution_count": null,
   "metadata": {},
   "outputs": [],
   "source": [
    "print('Количество \"оптовиков\": {} шт.'.format(len(df[(df['quantity'] >= 100) & (df['amount_orders'] == 1)])))"
   ]
  },
  {
   "cell_type": "markdown",
   "metadata": {},
   "source": [
    "UPD: Я добавила число заказов, которое совершил покупатель за весь год и отобрала только тех, что совершил 1 покупку и количество единиц 1 товара было 100 и более шт. Их я засчитываю как оптовиков.\n",
    "\n",
    "На графиках есть выбросы от 100 до 1000 единиц 1 товара, скорее всего это оптовики. Т.к. у нас магазин ориентирован на B2C сегмент и данные показывают, что в обычно берут 1-2 единицы одного товара. Оптовики — это не наша целевая аудитория, поэтому нужно исключить этих пользователей, чтобы они не смазывали нам картину. Тем более что таких покупателей немного(15 шт.)"
   ]
  },
  {
   "cell_type": "code",
   "execution_count": null,
   "metadata": {},
   "outputs": [],
   "source": [
    "anom_users = df[(df['quantity'] >= 100) & (df['amount_orders'] == 1)]['customer_id']\n",
    "df = df[np.logical_not(df['customer_id'].isin(anom_users))].reset_index()"
   ]
  },
  {
   "cell_type": "markdown",
   "metadata": {},
   "source": [
    "Проверим сколько уникальных товаров в корзине. Это может помочь понять из какого количества позиций состоит типичный заказ. Посмотрим много ли покупателей берут больше \"обычного\"."
   ]
  },
  {
   "cell_type": "code",
   "execution_count": null,
   "metadata": {},
   "outputs": [],
   "source": [
    "cnt_goods = df.groupby('order_id').agg({'product': 'nunique'}).reset_index()"
   ]
  },
  {
   "cell_type": "code",
   "execution_count": null,
   "metadata": {},
   "outputs": [],
   "source": [
    "print('Среднее количество уникальных товаров в заказе: {:.0f} шт.'.format(cnt_goods['product'].mean()))\n",
    "print('Медианное значение количества уникальных товаров в заказе: {:.0f} шт.'.format(cnt_goods['product'].median()))"
   ]
  },
  {
   "cell_type": "code",
   "execution_count": null,
   "metadata": {},
   "outputs": [],
   "source": [
    "fig = plt.subplots(figsize=(10,8))\n",
    "\n",
    "plt.boxplot(cnt_goods['product'])\n",
    "plt.title('Распределение количества уникальных товаров в заказе')\n",
    "plt.ylabel('Количество , шт.')\n",
    "\n",
    "plt.show()"
   ]
  },
  {
   "cell_type": "code",
   "execution_count": null,
   "metadata": {},
   "outputs": [],
   "source": [
    "print('Количество заказов на больше, чем 10 позиций: {} шт. или {:.2%}'.format(len(cnt_goods[cnt_goods['product'] >= 10]), \n",
    "                                                              len(cnt_goods[cnt_goods['product'] >= 10]) / len(cnt_goods)))"
   ]
  },
  {
   "cell_type": "markdown",
   "metadata": {},
   "source": [
    "Средняя и медиана говорят о том, что обычно покупатели берут 1-2 уникальных товара, но по распределению на ящике с усами мы видим, что есть и те, у кого в заказе может быть и больше 10 позиций. Таких покупателей немного, почти 2% от всех заказов."
   ]
  },
  {
   "cell_type": "code",
   "execution_count": null,
   "metadata": {},
   "outputs": [],
   "source": [
    "print('Среднее значение цены на товары: {:.2f} руб.'.format(df['price'].mean()))\n",
    "print('Медианное значение цены на товары: {:.2f} руб.'.format(df['price'].median()))"
   ]
  },
  {
   "cell_type": "code",
   "execution_count": null,
   "metadata": {},
   "outputs": [],
   "source": [
    "print('Квартили:')\n",
    "df['price'].quantile([0.25, 0.5, 0.75, 1])"
   ]
  },
  {
   "cell_type": "markdown",
   "metadata": {},
   "source": [
    "Товары по ценам:\n",
    "    * мелочь - от 1 руб до 150 руб.\n",
    "    * средние по цене товары от 150 до 500 руб.\n",
    "    * дорогие от 501 до 2000 руб.\n",
    "    * самые дорогие от 2001 до 15000 руб."
   ]
  },
  {
   "cell_type": "code",
   "execution_count": null,
   "metadata": {},
   "outputs": [],
   "source": [
    "fig, ax = plt.subplots(1, 2, figsize=(15,8))\n",
    "\n",
    "ax[0].boxplot(df['price'])\n",
    "ax[0].set_title('Распределение цен на товары по заказам')\n",
    "ax[0].set_ylabel('Цены, руб.')\n",
    "\n",
    "ax[1].boxplot(df['price'])\n",
    "ax[1].set_title('Распределение цен на товары по заказам до 1000 руб.')\n",
    "ax[1].set_ylabel('Цены, руб.')\n",
    "plt.ylim(0,1000)\n",
    "\n",
    "plt.show()"
   ]
  },
  {
   "cell_type": "code",
   "execution_count": null,
   "metadata": {},
   "outputs": [],
   "source": [
    "loyal_users = df.groupby('customer_id').agg({'order_id':'nunique'}).reset_index()\n",
    "loyal_users.columns = ['customer_id', 'num_orders']\n",
    "loyal_users.head()"
   ]
  },
  {
   "cell_type": "code",
   "execution_count": null,
   "metadata": {},
   "outputs": [],
   "source": [
    "print('Количество покупателей, которые сделали 1 заказ: {} шт.'.format(len(loyal_users[loyal_users['num_orders'] == 1])))\n",
    "print('Количество покупателей, которые сделали больше 1 заказа: {} шт.'.format(len(loyal_users[loyal_users['num_orders'] > 1])))"
   ]
  },
  {
   "cell_type": "markdown",
   "metadata": {},
   "source": [
    "### Вывод по заказам\n",
    "\n",
    "За весь год очень много было куплено товаров в ценовой категории до 500 руб. Это как раз около нашего среднего значения 462 руб. Обычно покупатели берут 1-2 позиции по 1-3 шт. "
   ]
  },
  {
   "cell_type": "markdown",
   "metadata": {},
   "source": [
    "### Когортный анализ"
   ]
  },
  {
   "cell_type": "code",
   "execution_count": null,
   "metadata": {},
   "outputs": [],
   "source": [
    "first_buy = df.groupby('customer_id')['date'].min()\n",
    "first_buy.name = 'first_buy'\n",
    "df = df.merge(first_buy, on='customer_id')"
   ]
  },
  {
   "cell_type": "code",
   "execution_count": null,
   "metadata": {},
   "outputs": [],
   "source": [
    "df['first_month'] = df['first_buy'].astype('datetime64[M]')\n",
    "df['cohort_lifetime'] = df['month'] - df['first_month']\n",
    "df['cohort_lifetime'] = (df['cohort_lifetime'] / np.timedelta64(1,'M'))\n",
    "df['cohort_lifetime'] = df['cohort_lifetime'].round().astype('int64')"
   ]
  },
  {
   "cell_type": "code",
   "execution_count": null,
   "metadata": {},
   "outputs": [],
   "source": [
    "cohort = df.groupby(['first_month','cohort_lifetime']).agg({'customer_id':'nunique'}).reset_index()"
   ]
  },
  {
   "cell_type": "code",
   "execution_count": null,
   "metadata": {},
   "outputs": [],
   "source": [
    "initial_users_count = cohort[cohort['cohort_lifetime'] == 0][['first_month','customer_id']]\n",
    "initial_users_count = initial_users_count.rename(columns={'customer_id':'cohort_users'})"
   ]
  },
  {
   "cell_type": "code",
   "execution_count": null,
   "metadata": {},
   "outputs": [],
   "source": [
    "cohort = cohort.merge(initial_users_count, on='first_month')"
   ]
  },
  {
   "cell_type": "code",
   "execution_count": null,
   "metadata": {},
   "outputs": [],
   "source": [
    "cohort['retention'] = cohort['customer_id'] / cohort['cohort_users']"
   ]
  },
  {
   "cell_type": "code",
   "execution_count": null,
   "metadata": {},
   "outputs": [],
   "source": [
    "retention_pivot = cohort.pivot_table(index='first_month',columns='cohort_lifetime',values='retention',aggfunc='sum')"
   ]
  },
  {
   "cell_type": "code",
   "execution_count": null,
   "metadata": {},
   "outputs": [],
   "source": [
    "plt.figure(figsize=(15, 10))\n",
    "plt.title('Возвращаемость посетителей на сервис')\n",
    "sns.heatmap(retention_pivot, annot=True, fmt='.1%', linewidths=0.5, linecolor='gray', vmax=0.05)\n",
    "plt.show()"
   ]
  },
  {
   "cell_type": "markdown",
   "metadata": {},
   "source": [
    "Проанализировав график с когортами, можно придти к выводу, что возвращаемость для нашего сайта это слабое место. \n",
    "\n",
    "Только 1 когорта(октябрь 2018 г.) показали самую длительную возвращаемость(lifetime = 5 месяцев). В остальных непродолжительный период либо же дыры, как например, в когорте от мая 2019 г. Пользователи возвращались за покупками в июне, августе и октябре. Самая большая в процетном соотношении возвращаемость была у мартовской когорты 2019 г. на следующий месяц апрель 3,1%. В общем, начиная с января и заканчивая маем, возвращаемость находится на самом большом уровне за весь год. Очевидно, что это влияние сезона."
   ]
  },
  {
   "cell_type": "markdown",
   "metadata": {},
   "source": [
    "### Вывод по исследовательскому анализу\n",
    "У нас низкая возвращаемость в магазин. Покупатели в основном берут по 1-2 позициям 1-3 шт. средний чек заказа 462 руб. Учитывая, что в среднем в месяц около 200 покупок, то магазину есть куда расти. "
   ]
  },
  {
   "cell_type": "markdown",
   "metadata": {},
   "source": [
    "## Сегментация покупателей на основе покупок <a id='step3'></a>\n",
    "\n",
    "Т.к. пока неизвестно в каком виде будет рекомендательная система работать: письма на почту, или уведомления, или на сайте будет подсказка, то для начала нужно понять какие у нас есть категории покупатели.\n",
    "Я хочу рассмотреть как влияет на распределение цен товаров количество совершенных заказов за период, то, сколько в среднем товаров в корзине, влияет ли когда покупает клиент (в сезон или нет) и влияние того, какие по цене товары покупает клиент(дешевые или нет)."
   ]
  },
  {
   "cell_type": "code",
   "execution_count": null,
   "metadata": {},
   "outputs": [],
   "source": [
    "df['sum_product'] = df['quantity'] * df['price']"
   ]
  },
  {
   "cell_type": "code",
   "execution_count": null,
   "metadata": {},
   "outputs": [],
   "source": [
    "cnt_goods = cnt_goods.merge(df[['customer_id', 'order_id']], on='order_id', how='left')"
   ]
  },
  {
   "cell_type": "code",
   "execution_count": null,
   "metadata": {},
   "outputs": [],
   "source": [
    "mean_goods = cnt_goods.groupby('customer_id').agg({'product':'mean'}).reset_index()"
   ]
  },
  {
   "cell_type": "code",
   "execution_count": null,
   "metadata": {},
   "outputs": [],
   "source": [
    "one_goods_users = mean_goods[mean_goods['product'] <= 2][\"customer_id\"]\n",
    "many_goods_users = mean_goods[mean_goods['product'] > 2][\"customer_id\"]"
   ]
  },
  {
   "cell_type": "code",
   "execution_count": null,
   "metadata": {},
   "outputs": [],
   "source": [
    "one_buy_users = loyal_users[loyal_users[\"num_orders\"] == 1][\"customer_id\"]\n",
    "many_buy_users = loyal_users[loyal_users[\"num_orders\"] > 1][\"customer_id\"]"
   ]
  },
  {
   "cell_type": "code",
   "execution_count": null,
   "metadata": {},
   "outputs": [],
   "source": [
    "fig, ax = plt.subplots(2, 2, figsize=(15,15))\n",
    "\n",
    "ax[0, 0].boxplot(df.query('customer_id in @one_goods_users')['price'])\n",
    "ax[0, 0].set_title('Цены на товары в заказах, где было в среднем не больше 2 позиций')\n",
    "ax[0, 0].set_ylabel('Цены, руб.')\n",
    "\n",
    "ax[0,1].boxplot(df.query('customer_id in @many_goods_users')['price'])\n",
    "ax[0,1].set_title('Цены на товары в заказах, где было в среднем больше 2 позиций')\n",
    "ax[0,1].set_ylabel('Цены, руб.')\n",
    "\n",
    "ax[1,0].boxplot(df.query('customer_id in @one_goods_users')['price'])\n",
    "ax[1,0].set_title('Цены на товары в заказах, где было в среднем не больше 2 позиций')\n",
    "ax[1,0].set_ylabel('Цены, руб.')\n",
    "ax[1,0].set_ylim([0, 2600])\n",
    "\n",
    "ax[1,1].boxplot(df.query('customer_id in @many_goods_users')['price'])\n",
    "ax[1,1].set_title('Цены на товары в заказах, где было в среднем больше 2 позиций')\n",
    "ax[1,1].set_ylabel('Цены, руб.')\n",
    "ax[1,1].set_ylim([0, 2500])\n",
    "\n",
    "plt.show()"
   ]
  },
  {
   "cell_type": "markdown",
   "metadata": {},
   "source": [
    "Судя по распределениям посетители, которые берут 1-2 позиции покупают более дорогие товары, чем те, у кого в среднем получается больше 2 позиций в заказе. Предлагаю это различие использовать для нашей сегментации."
   ]
  },
  {
   "cell_type": "code",
   "execution_count": null,
   "metadata": {},
   "outputs": [],
   "source": [
    "fig, ax = plt.subplots(2, 2, figsize=(15,15))\n",
    "\n",
    "ax[0,0].boxplot(df.query('customer_id in @one_buy_users')['price'])\n",
    "ax[0,0].set_title('Цены на товары в заказах, которые были сделаны 1 раз')\n",
    "ax[0,0].set_ylabel('Цены, руб.')\n",
    "\n",
    "\n",
    "ax[0,1].boxplot(df.query('customer_id in @many_buy_users')['price'])\n",
    "ax[0,1].set_title('Цены на товары в заказах, которые были сделаны > 1 раза')\n",
    "ax[0,1].set_ylabel('Цены, руб.')\n",
    "\n",
    "\n",
    "ax[1,0].boxplot(df.query('customer_id in @one_buy_users')['price'])\n",
    "ax[1,0].set_title('Цены до 2000 руб. на товары в заказах, которые были сделаны 1 раз')\n",
    "ax[1,0].set_ylabel('Цены, руб.')\n",
    "ax[1,0].set_ylim([0, 2000])\n",
    "\n",
    "ax[1,1].boxplot(df.query('customer_id in @many_buy_users')['price'])\n",
    "ax[1,1].set_title('Цены до 2000 руб. на товары в заказах, которые были сделаны > 1 раза')\n",
    "ax[1,1].set_ylabel('Цены, руб.')\n",
    "ax[1,1].set_ylim([0, 2000])\n",
    "\n",
    "plt.show()"
   ]
  },
  {
   "cell_type": "code",
   "execution_count": null,
   "metadata": {},
   "outputs": [],
   "source": [
    "segment_1 = df.query('customer_id in @one_goods_users')\n",
    "segment_2 = df.query('customer_id in @many_goods_users')"
   ]
  },
  {
   "cell_type": "code",
   "execution_count": null,
   "metadata": {
    "scrolled": true
   },
   "outputs": [],
   "source": [
    "print('Количество пользователей, которые в среднем покупают 1-2 товара: {} шт. или {:.0%} от общего количества'\\\n",
    "      .format(segment_1['customer_id'].nunique(), (segment_1['customer_id'].nunique() / df['customer_id'].nunique())))\n",
    "print('Количество пользователей, которые в среднем покупают много товаров: {} шт. или {:.0%} от общего количества'\\\n",
    "      .format(segment_2['customer_id'].nunique(), (segment_2['customer_id'].nunique() / df['customer_id'].nunique())))\n",
    "print('Итого: {} шт.'.format(segment_1['customer_id'].nunique() + segment_2['customer_id'].nunique()))\n",
    "print('----------------------------')\n",
    "print('Вcего покупателей в первоначальном датафрейме: {} шт.'.format(df['customer_id'].nunique()))"
   ]
  },
  {
   "cell_type": "code",
   "execution_count": null,
   "metadata": {},
   "outputs": [],
   "source": [
    "segment_3 = df.query('customer_id in @one_buy_users')\n",
    "segment_4 = df.query('customer_id in @many_buy_users')"
   ]
  },
  {
   "cell_type": "code",
   "execution_count": null,
   "metadata": {
    "scrolled": true
   },
   "outputs": [],
   "source": [
    "print('Количество пользователей, которые покупают 1 раз в год: {} шт. или {:.0%} от общего количества'\\\n",
    "      .format(segment_3['customer_id'].nunique(), (segment_3['customer_id'].nunique() / df['customer_id'].nunique())))\n",
    "print('Количество пользователей, которые покупают больше 1 раза в год: {} шт. или {:.0%} от общего количества'\\\n",
    "      .format(segment_4['customer_id'].nunique(), (segment_4['customer_id'].nunique() / df['customer_id'].nunique())))\n",
    "print('Итого: {} шт.'.format(segment_3['customer_id'].nunique() + segment_4['customer_id'].nunique()))\n",
    "print('----------------------------')\n",
    "print('Вcего покупателей в первоначальном датафрейме: {} шт.'.format(df['customer_id'].nunique()))"
   ]
  },
  {
   "cell_type": "markdown",
   "metadata": {},
   "source": [
    "Ниже попробую сегментацию другую:\n",
    "* новенькие - те, кто совершил покупку единожды за весь год и купил 1-2 товара\n",
    "* закупы - те, кто совершил покупку единожды за весь год и заказал больше 2 товаров за раз\n",
    "* бывалые - те, кто покупает у нас чаще 1 раза в год и берет больше 2 товаров в заказе\n",
    "* лояльные - те, кто покупает у нас чаще 1 раза в год, но берет 1-2 товара"
   ]
  },
  {
   "cell_type": "code",
   "execution_count": null,
   "metadata": {},
   "outputs": [],
   "source": [
    "new_users = df.query('customer_id in @one_buy_users & customer_id in @one_goods_users')\n",
    "purchase_users = df.query('customer_id in @one_buy_users & customer_id in @many_goods_users')\n",
    "skilled_users = df.query('customer_id in @many_buy_users & customer_id in @many_goods_users')\n",
    "loayl_users = df.query('customer_id in @many_buy_users & customer_id in @one_goods_users')"
   ]
  },
  {
   "cell_type": "code",
   "execution_count": null,
   "metadata": {},
   "outputs": [],
   "source": [
    "print('Количество новеньких: {} шт. или {:.0%} от общего количества'\\\n",
    "      .format(new_users['customer_id'].nunique(), (new_users['customer_id'].nunique() / df['customer_id'].nunique())))\n",
    "print('Количество закупов: {} шт. или {:.0%} от общего количества'\\\n",
    "      .format(purchase_users['customer_id'].nunique(), (purchase_users['customer_id'].nunique() / df['customer_id'].nunique())))\n",
    "print('Количество бывалых: {} шт. или {:.0%} от общего количества'\\\n",
    "      .format(skilled_users['customer_id'].nunique(), (skilled_users['customer_id'].nunique() / df['customer_id'].nunique())))\n",
    "print('Количество лояльных: {} шт. или {:.0%} от общего количества'\\\n",
    "      .format(loayl_users['customer_id'].nunique(), (loayl_users['customer_id'].nunique() / df['customer_id'].nunique())))\n",
    "print('Итого: {} шт.'.format(new_users['customer_id'].nunique() + purchase_users['customer_id'].nunique() + \n",
    "                            skilled_users['customer_id'].nunique() + loayl_users['customer_id'].nunique()))\n",
    "print('----------------------------')\n",
    "print('Вcего покупателей в первоначальном датафрейме: {} шт.'.format(df['customer_id'].nunique()))"
   ]
  },
  {
   "cell_type": "code",
   "execution_count": null,
   "metadata": {},
   "outputs": [],
   "source": [
    "fig, ax = plt.subplots(2, 2, figsize=(15,15))\n",
    "\n",
    "ax[0,0].boxplot(new_users['price'])\n",
    "ax[0,0].set_title('Цены на товары в заказах, которые были сделаны новенькими')\n",
    "ax[0,0].set_ylabel('Цены, руб.')\n",
    "ax[0,0].set_ylim([0, 8000])\n",
    "\n",
    "\n",
    "ax[0,1].boxplot(purchase_users['price'])\n",
    "ax[0,1].set_title('Цены на товары в заказах, которые были сделаны закупами')\n",
    "ax[0,1].set_ylabel('Цены, руб.')\n",
    "ax[0,1].set_ylim([0, 8000])\n",
    "\n",
    "\n",
    "ax[1,0].boxplot(skilled_users['price'])\n",
    "ax[1,0].set_title('Цены на товары в заказах, которые были сделаны бывалыми')\n",
    "ax[1,0].set_ylabel('Цены, руб.')\n",
    "ax[1,0].set_ylim([0, 8000])\n",
    "\n",
    "\n",
    "ax[1,1].boxplot(loayl_users['price'])\n",
    "ax[1,1].set_title('Цены на товары в заказах, которые были сделаны дояльными')\n",
    "ax[1,1].set_ylabel('Цены, руб.')\n",
    "ax[1,1].set_ylim([0, 8000])\n",
    "\n",
    "plt.show()"
   ]
  },
  {
   "cell_type": "markdown",
   "metadata": {},
   "source": [
    "На графике группы между собой похожи крест-накрест: новенькие похожи на лояльных, а бывалые на закупщиков."
   ]
  },
  {
   "cell_type": "markdown",
   "metadata": {},
   "source": [
    "Сегментация на основе сезона:\n",
    "* сезонники - покупают только в сезон декабь, февраль и март\n",
    "* остальные - покупают в течение года, т.е. исключаем пользователей, которые берут только в сезон"
   ]
  },
  {
   "cell_type": "code",
   "execution_count": null,
   "metadata": {},
   "outputs": [],
   "source": [
    "season_month = [12, 2, 3]\n",
    "not_season_month = [1, 4, 5, 6, 7, 8, 9, 10, 11]"
   ]
  },
  {
   "cell_type": "code",
   "execution_count": null,
   "metadata": {},
   "outputs": [],
   "source": [
    "season_users = df.query('month_number in @season_month & month_number not in @not_season_month')\n",
    "exception_users = season_users['customer_id'].unique()"
   ]
  },
  {
   "cell_type": "code",
   "execution_count": null,
   "metadata": {},
   "outputs": [],
   "source": [
    "other_users = df.query('customer_id not in @exception_users')"
   ]
  },
  {
   "cell_type": "code",
   "execution_count": null,
   "metadata": {},
   "outputs": [],
   "source": [
    "print('Количество сезонных покупателей: {} шт. или {:.0%} от общего количества'\\\n",
    "      .format(season_users['customer_id'].nunique(), (season_users['customer_id'].nunique() / df['customer_id'].nunique())))\n",
    "print('Количество круглогодичных покупателей: {} шт. или {:.0%} от общего количества'\\\n",
    "      .format(other_users['customer_id'].nunique(), (other_users['customer_id'].nunique() / df['customer_id'].nunique())))\n",
    "print('Итого: {} шт.'.format(season_users['customer_id'].nunique() + other_users['customer_id'].nunique()))\n",
    "print('----------------------------')\n",
    "print('Вcего покупателей в первоначальном датафрейме: {} шт.'.format(df['customer_id'].nunique()))"
   ]
  },
  {
   "cell_type": "code",
   "execution_count": null,
   "metadata": {},
   "outputs": [],
   "source": [
    "fig, ax = plt.subplots(1, 2, figsize=(15,8))\n",
    "\n",
    "ax[0].boxplot(season_users['price'])\n",
    "ax[0].set_title('Цены на товары в заказах, которые были сделаны в сезон')\n",
    "ax[0].set_ylabel('Цены, руб.')\n",
    "ax[0].set_ylim([0, 8000])\n",
    "\n",
    "\n",
    "ax[1].boxplot(other_users['price'])\n",
    "ax[1].set_title('Цены на товары в заказах, которые были сделаны круглогодично')\n",
    "ax[1].set_ylabel('Цены, руб.')\n",
    "ax[1].set_ylim([0, 8000])\n",
    "\n",
    "plt.show()"
   ]
  },
  {
   "cell_type": "markdown",
   "metadata": {},
   "source": [
    "В распределении цен по сезонникам и остальным покупателям получилось, что медианы находятся почти на одном и том же уровне, у сезонников цены на товары в основной своей массе находятся на другом уровне от 50 до 1700 руб, в то время как у остальных от 50 до 1000 руб."
   ]
  },
  {
   "cell_type": "markdown",
   "metadata": {},
   "source": [
    "Сегментация на основе цен товаров:\n",
    "* те, кто покупает мелочь от 1 руб до 150 руб.\n",
    "* те, кто покупает средние по цене товары от 150 до 500 руб.\n",
    "* те, кто покупает дорогие товары от 501 до 2000 руб.\n",
    "* те, кто покупает самые дорогие товары от 2001 до 15000 руб.\n",
    "\n",
    "Брать буду среднюю цену заказов у покупателя."
   ]
  },
  {
   "cell_type": "code",
   "execution_count": null,
   "metadata": {},
   "outputs": [],
   "source": [
    "orders_price = df.groupby('order_id').agg({'price':'mean'}).reset_index()"
   ]
  },
  {
   "cell_type": "code",
   "execution_count": null,
   "metadata": {},
   "outputs": [],
   "source": [
    "orders_price = orders_price.merge(df[['order_id', 'customer_id']], on ='order_id', how='left')"
   ]
  },
  {
   "cell_type": "code",
   "execution_count": null,
   "metadata": {},
   "outputs": [],
   "source": [
    "mean_price_users = orders_price.groupby('customer_id').agg({'price':'mean'}).reset_index()"
   ]
  },
  {
   "cell_type": "code",
   "execution_count": null,
   "metadata": {},
   "outputs": [],
   "source": [
    "chep_users = mean_price_users.query('price <= 150')['customer_id']\n",
    "midle_users = mean_price_users.query('price > 150 & price <= 500')['customer_id']\n",
    "expensive_users = mean_price_users.query('price > 500 & price <= 2000')['customer_id']\n",
    "most_expen_users = mean_price_users.query('price > 2000')['customer_id']"
   ]
  },
  {
   "cell_type": "code",
   "execution_count": null,
   "metadata": {},
   "outputs": [],
   "source": [
    "chep = df.query('customer_id in @chep_users')\n",
    "midle = df.query('customer_id in @midle_users')\n",
    "expensive = df.query('customer_id in @expensive_users')\n",
    "most_expen = df.query('customer_id in @most_expen_users')"
   ]
  },
  {
   "cell_type": "code",
   "execution_count": null,
   "metadata": {},
   "outputs": [],
   "source": [
    "print('Количество покупателей дешевых товаров: {} шт. или {:.0%} от общего количества'\\\n",
    "      .format(chep['customer_id'].nunique(), (chep['customer_id'].nunique() / df['customer_id'].nunique())))\n",
    "print('Количество покупателей средних по цене товаров: {} шт. или {:.0%} от общего количества'\\\n",
    "      .format(midle['customer_id'].nunique(), (midle['customer_id'].nunique() / df['customer_id'].nunique())))\n",
    "print('Количество покупателей дорогих товаров: {} шт. или {:.0%} от общего количества'\\\n",
    "      .format(expensive['customer_id'].nunique(), (expensive['customer_id'].nunique() / df['customer_id'].nunique())))\n",
    "print('Количество покупателей самых дорогих товаров: {} шт. или {:.0%} от общего количества'\\\n",
    "      .format(most_expen['customer_id'].nunique(), (most_expen['customer_id'].nunique() / df['customer_id'].nunique())))\n",
    "print('Итого: {} шт.'.format(chep['customer_id'].nunique() + midle['customer_id'].nunique() + \n",
    "                            expensive['customer_id'].nunique() + most_expen['customer_id'].nunique()))\n",
    "print('----------------------------')\n",
    "print('Вcего покупателей в первоначальном датафрейме: {} шт.'.format(df['customer_id'].nunique()))"
   ]
  },
  {
   "cell_type": "markdown",
   "metadata": {},
   "source": [
    "## Вывод по сегментации\n",
    "\n",
    "Группы получились не однородными по количеству. Это нормально, потому что сегменты отличаются друг от друга по характеру покупок. Но нужно понять есть ли между ними статистическое различие в метрике, которая важна бизнесу."
   ]
  },
  {
   "cell_type": "markdown",
   "metadata": {},
   "source": [
    "## Формулировка гипотез и их проверка <a id='step4'></a>\n",
    "\n",
    "Я сделала несколько сегмантаций, описанных выше. Нужно проверить равны ли эти группы. Т.к. рекомендательная система должна приносить прибыль, то и сравнивать эти группы я буду по средней сумме заказа."
   ]
  },
  {
   "cell_type": "markdown",
   "metadata": {},
   "source": [
    "UPD(я в функции ниже также изменила, чтобы учитывать сколько товар стоил в заказе с учетом количества, а не просто цену товара):\n",
    "\n",
    "**Нулевая гипотеза:** средняя сумма заказа двух групп равны между собой\n",
    "\n",
    "**Альтернативная гипотеза:** средняя сумма заказа двух групп НЕ равны между собой"
   ]
  },
  {
   "cell_type": "code",
   "execution_count": null,
   "metadata": {},
   "outputs": [],
   "source": [
    "#нужно сделать функцию, чтобы проверить группы между собой вне зависимости от количества групп\n",
    "\n",
    "alpha = .01 #статистический уровень значимости\n",
    "\n",
    "def check_sum_order(lst_data):\n",
    "    for i in range(len(lst_data)):\n",
    "        for j in lst_data[i+1:]:\n",
    "            sample1 = lst_data[i].groupby('order_id').agg({'sum_product': 'sum'}).reset_index()['sum_product']\n",
    "            sample2 = j.groupby('order_id').agg({'sum_product': 'sum'}).reset_index()['sum_product']\n",
    "            result = st.ttest_ind(sample1, sample2)\n",
    "            print('------------------------')\n",
    "            print('p-value:', result.pvalue)\n",
    "            if (result.pvalue < alpha):\n",
    "                print(\"Отвергаем нулевую гипотезу о равенстве, группы между собой различаются\")\n",
    "            else:\n",
    "                print(\"Не получилось отвергнуть нулевую гипотезу о равенстве, группы похожи\") "
   ]
  },
  {
   "cell_type": "code",
   "execution_count": null,
   "metadata": {},
   "outputs": [],
   "source": [
    "print('Проверка сегментов разделенных по среднему количеству купленных товаров')\n",
    "check_sum_order([segment_1, segment_2])"
   ]
  },
  {
   "cell_type": "code",
   "execution_count": null,
   "metadata": {},
   "outputs": [],
   "source": [
    "print('Проверка сегментов разделенных по количеству заказов за год')\n",
    "check_sum_order([segment_3, segment_4])"
   ]
  },
  {
   "cell_type": "code",
   "execution_count": null,
   "metadata": {},
   "outputs": [],
   "source": [
    "print('Проверка сегментов разделенных по среднему количеству купленных товаров и по количеству заказов за год')\n",
    "check_sum_order([new_users, purchase_users, skilled_users, loayl_users])"
   ]
  },
  {
   "cell_type": "code",
   "execution_count": null,
   "metadata": {},
   "outputs": [],
   "source": [
    "print('Проверка сегментов разделенных по месяцам покупок')\n",
    "check_sum_order([season_users, other_users])"
   ]
  },
  {
   "cell_type": "code",
   "execution_count": null,
   "metadata": {},
   "outputs": [],
   "source": [
    "print('Проверка сегментов разделенных по цене товаров')\n",
    "check_sum_order([chep, midle, expensive, most_expen])"
   ]
  },
  {
   "cell_type": "markdown",
   "metadata": {},
   "source": [
    "Я проверяла тестом Стьюдента, который проверяет равность средних двух генеральных совокупностей. Из 5 тестов только последний показал различие между группами. Это была сегментация по тому какие в среднем по цене товары берут покупатели. Значение p-value между дорогими и дешевыми составляет 9,4, а между средними по цене и дорогими 9,6, т.е. разница"
   ]
  },
  {
   "cell_type": "markdown",
   "metadata": {},
   "source": [
    "## Общий вывод к проекту и рекомендации <a id='step5'></a>\n",
    "\n",
    "В ходе этого проекта я рассматривала заказы, совершенные с 1 октября 2018 по 31 октября 2019 года. Благодаря этому выяснились следующие моменты:\n",
    "* Есть характерная сезонность это декабрь, февраль и март. И активность в понедельник в 11 часов.\n",
    "* В основном покупатели берут 1-2 позиции от 1-3 шт. Но также есть и, так называемые, \"оптовики\", которые закупаются большими партиями.\n",
    "* У нас низкая возвращаемость на сервис. Отчасти это связанно с сезонностью, но я считаю, что улучшение этого показателя может принести прибыль. \n",
    "\n",
    "Я разделила пользователей на группы по средней цене за 1 товар в заказе, т.е. есть покупатели, которые берут дешевые товары, средние по цене, дорогие и самые дорогие товары.\n",
    "\n",
    "Рекомендательная система может использовать эту информацию следующим образом: для тех кто покупает дорогие и самые дорогие товары предлагать всякую мелочь, сумма их корзины увеличить несильно и психологически им будет комфортно, ведь они купили что-то дорогое и дополнительно взяли безделушку. Для тех кто берет в основном дешевые товары предлагать их больше, потому что эти товары комфортны для этой категории покупателей.\n",
    "\n",
    "Более качественная рекомендательная система должна будет учитывать предпочтения по категориям товаров.\n",
    "\n",
    "### Рекомендации\n",
    "\n",
    "* Улучшение возвращаемости на сервис. Необязательно возвращаемость каждый месяц, мы этого, скорее всего, не добьемся, потому что сезон играет большую роль. Но можно проработать систему напоминаний для ежегодного возвращения. Таким образом, у покупателя будет \"под рукой\" интернет-магазин, где он каждый год совершает хотя бы одну покупку. Это могут быть ежегодные письма-напоминания о том, что нужно закупиться.\n",
    "* Если мы узнаем какие категории товаров часто покупает пользователь и тем более если у него есть любимые товары, то можно уведомлять о том, что товар скоро закончится либо же он стал доступен. "
   ]
  }
 ],
 "metadata": {
  "kernelspec": {
   "display_name": "Python 3",
   "language": "python",
   "name": "python3"
  },
  "language_info": {
   "codemirror_mode": {
    "name": "ipython",
    "version": 3
   },
   "file_extension": ".py",
   "mimetype": "text/x-python",
   "name": "python",
   "nbconvert_exporter": "python",
   "pygments_lexer": "ipython3",
   "version": "3.7.6"
  }
 },
 "nbformat": 4,
 "nbformat_minor": 4
}

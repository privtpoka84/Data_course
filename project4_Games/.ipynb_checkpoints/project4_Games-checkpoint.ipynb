{
 "cells": [
  {
   "cell_type": "markdown",
   "metadata": {},
   "source": [
    "## План действий\n",
    "1. Посмотреть что имеется в таблице и определить пропуски и типы данных\n",
    "2. Решить проблемы с пропусками и типами данных. Привести таблицу с рабочему варианту\n",
    "3. Провести исследовательский анализ\n",
    "    - проанализировать игры по годам\n",
    "    - проанализировать платформы по прибыли\n",
    "    - проанализировать жанры\n",
    "4. Составить портреты пользователей из разных регионов\n",
    "    - популярные платформы\n",
    "    - популярные данры\n",
    "    - влияние рейтинг ESRB на продажи\n",
    "5. Проверить гипотезы\n",
    "    - средние пользовательские рейтинги платформ Xbox One и PC одинаковые\n",
    "    - редние пользовательские рейтинги жанров Action и Sports разные\n",
    "6. Общий вывод по проекту"
   ]
  },
  {
   "cell_type": "markdown",
   "metadata": {},
   "source": [
    "## Шаг 1. Откройте файл с данными и изучите общую информацию. "
   ]
  },
  {
   "cell_type": "code",
   "execution_count": 1,
   "metadata": {},
   "outputs": [
    {
     "data": {
      "text/html": [
       "<div>\n",
       "<style scoped>\n",
       "    .dataframe tbody tr th:only-of-type {\n",
       "        vertical-align: middle;\n",
       "    }\n",
       "\n",
       "    .dataframe tbody tr th {\n",
       "        vertical-align: top;\n",
       "    }\n",
       "\n",
       "    .dataframe thead th {\n",
       "        text-align: right;\n",
       "    }\n",
       "</style>\n",
       "<table border=\"1\" class=\"dataframe\">\n",
       "  <thead>\n",
       "    <tr style=\"text-align: right;\">\n",
       "      <th></th>\n",
       "      <th>Name</th>\n",
       "      <th>Platform</th>\n",
       "      <th>Year_of_Release</th>\n",
       "      <th>Genre</th>\n",
       "      <th>NA_sales</th>\n",
       "      <th>EU_sales</th>\n",
       "      <th>JP_sales</th>\n",
       "      <th>Other_sales</th>\n",
       "      <th>Critic_Score</th>\n",
       "      <th>User_Score</th>\n",
       "      <th>Rating</th>\n",
       "    </tr>\n",
       "  </thead>\n",
       "  <tbody>\n",
       "    <tr>\n",
       "      <th>0</th>\n",
       "      <td>Wii Sports</td>\n",
       "      <td>Wii</td>\n",
       "      <td>2006.0</td>\n",
       "      <td>Sports</td>\n",
       "      <td>41.36</td>\n",
       "      <td>28.96</td>\n",
       "      <td>3.77</td>\n",
       "      <td>8.45</td>\n",
       "      <td>76.0</td>\n",
       "      <td>8</td>\n",
       "      <td>E</td>\n",
       "    </tr>\n",
       "    <tr>\n",
       "      <th>1</th>\n",
       "      <td>Super Mario Bros.</td>\n",
       "      <td>NES</td>\n",
       "      <td>1985.0</td>\n",
       "      <td>Platform</td>\n",
       "      <td>29.08</td>\n",
       "      <td>3.58</td>\n",
       "      <td>6.81</td>\n",
       "      <td>0.77</td>\n",
       "      <td>NaN</td>\n",
       "      <td>NaN</td>\n",
       "      <td>NaN</td>\n",
       "    </tr>\n",
       "    <tr>\n",
       "      <th>2</th>\n",
       "      <td>Mario Kart Wii</td>\n",
       "      <td>Wii</td>\n",
       "      <td>2008.0</td>\n",
       "      <td>Racing</td>\n",
       "      <td>15.68</td>\n",
       "      <td>12.76</td>\n",
       "      <td>3.79</td>\n",
       "      <td>3.29</td>\n",
       "      <td>82.0</td>\n",
       "      <td>8.3</td>\n",
       "      <td>E</td>\n",
       "    </tr>\n",
       "    <tr>\n",
       "      <th>3</th>\n",
       "      <td>Wii Sports Resort</td>\n",
       "      <td>Wii</td>\n",
       "      <td>2009.0</td>\n",
       "      <td>Sports</td>\n",
       "      <td>15.61</td>\n",
       "      <td>10.93</td>\n",
       "      <td>3.28</td>\n",
       "      <td>2.95</td>\n",
       "      <td>80.0</td>\n",
       "      <td>8</td>\n",
       "      <td>E</td>\n",
       "    </tr>\n",
       "    <tr>\n",
       "      <th>4</th>\n",
       "      <td>Pokemon Red/Pokemon Blue</td>\n",
       "      <td>GB</td>\n",
       "      <td>1996.0</td>\n",
       "      <td>Role-Playing</td>\n",
       "      <td>11.27</td>\n",
       "      <td>8.89</td>\n",
       "      <td>10.22</td>\n",
       "      <td>1.00</td>\n",
       "      <td>NaN</td>\n",
       "      <td>NaN</td>\n",
       "      <td>NaN</td>\n",
       "    </tr>\n",
       "  </tbody>\n",
       "</table>\n",
       "</div>"
      ],
      "text/plain": [
       "                       Name Platform  Year_of_Release         Genre  NA_sales  \\\n",
       "0                Wii Sports      Wii           2006.0        Sports     41.36   \n",
       "1         Super Mario Bros.      NES           1985.0      Platform     29.08   \n",
       "2            Mario Kart Wii      Wii           2008.0        Racing     15.68   \n",
       "3         Wii Sports Resort      Wii           2009.0        Sports     15.61   \n",
       "4  Pokemon Red/Pokemon Blue       GB           1996.0  Role-Playing     11.27   \n",
       "\n",
       "   EU_sales  JP_sales  Other_sales  Critic_Score User_Score Rating  \n",
       "0     28.96      3.77         8.45          76.0          8      E  \n",
       "1      3.58      6.81         0.77           NaN        NaN    NaN  \n",
       "2     12.76      3.79         3.29          82.0        8.3      E  \n",
       "3     10.93      3.28         2.95          80.0          8      E  \n",
       "4      8.89     10.22         1.00           NaN        NaN    NaN  "
      ]
     },
     "execution_count": 1,
     "metadata": {},
     "output_type": "execute_result"
    }
   ],
   "source": [
    "import pandas as pd\n",
    "import numpy as np\n",
    "import matplotlib.pyplot as plt\n",
    "import seaborn as sns\n",
    "from scipy import stats as st\n",
    "df = pd.read_csv('C://Users/Ритер/Desktop/Практикум/datasets/games.csv')\n",
    "df.head()"
   ]
  },
  {
   "cell_type": "code",
   "execution_count": 2,
   "metadata": {},
   "outputs": [
    {
     "name": "stdout",
     "output_type": "stream",
     "text": [
      "<class 'pandas.core.frame.DataFrame'>\n",
      "RangeIndex: 16715 entries, 0 to 16714\n",
      "Data columns (total 11 columns):\n",
      " #   Column           Non-Null Count  Dtype  \n",
      "---  ------           --------------  -----  \n",
      " 0   Name             16713 non-null  object \n",
      " 1   Platform         16715 non-null  object \n",
      " 2   Year_of_Release  16446 non-null  float64\n",
      " 3   Genre            16713 non-null  object \n",
      " 4   NA_sales         16715 non-null  float64\n",
      " 5   EU_sales         16715 non-null  float64\n",
      " 6   JP_sales         16715 non-null  float64\n",
      " 7   Other_sales      16715 non-null  float64\n",
      " 8   Critic_Score     8137 non-null   float64\n",
      " 9   User_Score       10014 non-null  object \n",
      " 10  Rating           9949 non-null   object \n",
      "dtypes: float64(6), object(5)\n",
      "memory usage: 1.4+ MB\n"
     ]
    }
   ],
   "source": [
    "df.info()"
   ]
  },
  {
   "cell_type": "code",
   "execution_count": 3,
   "metadata": {},
   "outputs": [
    {
     "data": {
      "text/plain": [
       "array(['Sports', 'Platform', 'Racing', 'Role-Playing', 'Puzzle', 'Misc',\n",
       "       'Shooter', 'Simulation', 'Action', 'Fighting', 'Adventure',\n",
       "       'Strategy', nan], dtype=object)"
      ]
     },
     "execution_count": 3,
     "metadata": {},
     "output_type": "execute_result"
    }
   ],
   "source": [
    "df['Genre'].unique()"
   ]
  },
  {
   "cell_type": "code",
   "execution_count": 4,
   "metadata": {},
   "outputs": [
    {
     "data": {
      "text/plain": [
       "array(['Wii', 'NES', 'GB', 'DS', 'X360', 'PS3', 'PS2', 'SNES', 'GBA',\n",
       "       'PS4', '3DS', 'N64', 'PS', 'XB', 'PC', '2600', 'PSP', 'XOne',\n",
       "       'WiiU', 'GC', 'GEN', 'DC', 'PSV', 'SAT', 'SCD', 'WS', 'NG', 'TG16',\n",
       "       '3DO', 'GG', 'PCFX'], dtype=object)"
      ]
     },
     "execution_count": 4,
     "metadata": {},
     "output_type": "execute_result"
    }
   ],
   "source": [
    "df['Platform'].unique()"
   ]
  },
  {
   "cell_type": "markdown",
   "metadata": {},
   "source": [
    "### Вывод"
   ]
  },
  {
   "cell_type": "markdown",
   "metadata": {},
   "source": [
    "- Нужно приводить названия колонок в нижнему регистру\n",
    "- Есть пропуски. Надо посмотреть на их количество к общему значению и решить как заполнить\n",
    "- Привести как минимум год и рейтинг к целочисленному типу данных"
   ]
  },
  {
   "cell_type": "markdown",
   "metadata": {},
   "source": [
    "## Шаг 2. Предобработка данных"
   ]
  },
  {
   "cell_type": "markdown",
   "metadata": {},
   "source": [
    "Приведу названия колонок к нижнему регистру. Также хочу заменить название 'year_of_release', на 'year' для своего удобства и тоже замену сделаю с 'name' на 'game'"
   ]
  },
  {
   "cell_type": "code",
   "execution_count": 5,
   "metadata": {},
   "outputs": [
    {
     "data": {
      "text/html": [
       "<div>\n",
       "<style scoped>\n",
       "    .dataframe tbody tr th:only-of-type {\n",
       "        vertical-align: middle;\n",
       "    }\n",
       "\n",
       "    .dataframe tbody tr th {\n",
       "        vertical-align: top;\n",
       "    }\n",
       "\n",
       "    .dataframe thead th {\n",
       "        text-align: right;\n",
       "    }\n",
       "</style>\n",
       "<table border=\"1\" class=\"dataframe\">\n",
       "  <thead>\n",
       "    <tr style=\"text-align: right;\">\n",
       "      <th></th>\n",
       "      <th>game</th>\n",
       "      <th>platform</th>\n",
       "      <th>year</th>\n",
       "      <th>genre</th>\n",
       "      <th>na_sales</th>\n",
       "      <th>eu_sales</th>\n",
       "      <th>jp_sales</th>\n",
       "      <th>other_sales</th>\n",
       "      <th>critic_score</th>\n",
       "      <th>user_score</th>\n",
       "      <th>rating</th>\n",
       "    </tr>\n",
       "  </thead>\n",
       "  <tbody>\n",
       "    <tr>\n",
       "      <th>0</th>\n",
       "      <td>Wii Sports</td>\n",
       "      <td>Wii</td>\n",
       "      <td>2006.0</td>\n",
       "      <td>Sports</td>\n",
       "      <td>41.36</td>\n",
       "      <td>28.96</td>\n",
       "      <td>3.77</td>\n",
       "      <td>8.45</td>\n",
       "      <td>76.0</td>\n",
       "      <td>8</td>\n",
       "      <td>E</td>\n",
       "    </tr>\n",
       "    <tr>\n",
       "      <th>1</th>\n",
       "      <td>Super Mario Bros.</td>\n",
       "      <td>NES</td>\n",
       "      <td>1985.0</td>\n",
       "      <td>Platform</td>\n",
       "      <td>29.08</td>\n",
       "      <td>3.58</td>\n",
       "      <td>6.81</td>\n",
       "      <td>0.77</td>\n",
       "      <td>NaN</td>\n",
       "      <td>NaN</td>\n",
       "      <td>NaN</td>\n",
       "    </tr>\n",
       "    <tr>\n",
       "      <th>2</th>\n",
       "      <td>Mario Kart Wii</td>\n",
       "      <td>Wii</td>\n",
       "      <td>2008.0</td>\n",
       "      <td>Racing</td>\n",
       "      <td>15.68</td>\n",
       "      <td>12.76</td>\n",
       "      <td>3.79</td>\n",
       "      <td>3.29</td>\n",
       "      <td>82.0</td>\n",
       "      <td>8.3</td>\n",
       "      <td>E</td>\n",
       "    </tr>\n",
       "    <tr>\n",
       "      <th>3</th>\n",
       "      <td>Wii Sports Resort</td>\n",
       "      <td>Wii</td>\n",
       "      <td>2009.0</td>\n",
       "      <td>Sports</td>\n",
       "      <td>15.61</td>\n",
       "      <td>10.93</td>\n",
       "      <td>3.28</td>\n",
       "      <td>2.95</td>\n",
       "      <td>80.0</td>\n",
       "      <td>8</td>\n",
       "      <td>E</td>\n",
       "    </tr>\n",
       "    <tr>\n",
       "      <th>4</th>\n",
       "      <td>Pokemon Red/Pokemon Blue</td>\n",
       "      <td>GB</td>\n",
       "      <td>1996.0</td>\n",
       "      <td>Role-Playing</td>\n",
       "      <td>11.27</td>\n",
       "      <td>8.89</td>\n",
       "      <td>10.22</td>\n",
       "      <td>1.00</td>\n",
       "      <td>NaN</td>\n",
       "      <td>NaN</td>\n",
       "      <td>NaN</td>\n",
       "    </tr>\n",
       "  </tbody>\n",
       "</table>\n",
       "</div>"
      ],
      "text/plain": [
       "                       game platform    year         genre  na_sales  \\\n",
       "0                Wii Sports      Wii  2006.0        Sports     41.36   \n",
       "1         Super Mario Bros.      NES  1985.0      Platform     29.08   \n",
       "2            Mario Kart Wii      Wii  2008.0        Racing     15.68   \n",
       "3         Wii Sports Resort      Wii  2009.0        Sports     15.61   \n",
       "4  Pokemon Red/Pokemon Blue       GB  1996.0  Role-Playing     11.27   \n",
       "\n",
       "   eu_sales  jp_sales  other_sales  critic_score user_score rating  \n",
       "0     28.96      3.77         8.45          76.0          8      E  \n",
       "1      3.58      6.81         0.77           NaN        NaN    NaN  \n",
       "2     12.76      3.79         3.29          82.0        8.3      E  \n",
       "3     10.93      3.28         2.95          80.0          8      E  \n",
       "4      8.89     10.22         1.00           NaN        NaN    NaN  "
      ]
     },
     "execution_count": 5,
     "metadata": {},
     "output_type": "execute_result"
    }
   ],
   "source": [
    "df.columns = df.columns.str.lower()\n",
    "df.columns = ['game', 'platform', 'year', 'genre', 'na_sales', 'eu_sales', 'jp_sales', 'other_sales', 'critic_score', 'user_score', 'rating']\n",
    "df.head()"
   ]
  },
  {
   "cell_type": "markdown",
   "metadata": {},
   "source": [
    "Хочу понять где есть пропуски и в каком количестве относительно всего датасета"
   ]
  },
  {
   "cell_type": "code",
   "execution_count": 6,
   "metadata": {},
   "outputs": [
    {
     "data": {
      "text/html": [
       "<div>\n",
       "<style scoped>\n",
       "    .dataframe tbody tr th:only-of-type {\n",
       "        vertical-align: middle;\n",
       "    }\n",
       "\n",
       "    .dataframe tbody tr th {\n",
       "        vertical-align: top;\n",
       "    }\n",
       "\n",
       "    .dataframe thead th {\n",
       "        text-align: right;\n",
       "    }\n",
       "</style>\n",
       "<table border=\"1\" class=\"dataframe\">\n",
       "  <thead>\n",
       "    <tr style=\"text-align: right;\">\n",
       "      <th></th>\n",
       "      <th>column</th>\n",
       "      <th>count_na</th>\n",
       "      <th>percent_na</th>\n",
       "    </tr>\n",
       "  </thead>\n",
       "  <tbody>\n",
       "    <tr>\n",
       "      <th>0</th>\n",
       "      <td>game</td>\n",
       "      <td>2</td>\n",
       "      <td>0.01</td>\n",
       "    </tr>\n",
       "    <tr>\n",
       "      <th>1</th>\n",
       "      <td>platform</td>\n",
       "      <td>0</td>\n",
       "      <td>0.00</td>\n",
       "    </tr>\n",
       "    <tr>\n",
       "      <th>2</th>\n",
       "      <td>year</td>\n",
       "      <td>269</td>\n",
       "      <td>1.61</td>\n",
       "    </tr>\n",
       "    <tr>\n",
       "      <th>3</th>\n",
       "      <td>genre</td>\n",
       "      <td>2</td>\n",
       "      <td>0.01</td>\n",
       "    </tr>\n",
       "    <tr>\n",
       "      <th>4</th>\n",
       "      <td>na_sales</td>\n",
       "      <td>0</td>\n",
       "      <td>0.00</td>\n",
       "    </tr>\n",
       "    <tr>\n",
       "      <th>5</th>\n",
       "      <td>eu_sales</td>\n",
       "      <td>0</td>\n",
       "      <td>0.00</td>\n",
       "    </tr>\n",
       "    <tr>\n",
       "      <th>6</th>\n",
       "      <td>jp_sales</td>\n",
       "      <td>0</td>\n",
       "      <td>0.00</td>\n",
       "    </tr>\n",
       "    <tr>\n",
       "      <th>7</th>\n",
       "      <td>other_sales</td>\n",
       "      <td>0</td>\n",
       "      <td>0.00</td>\n",
       "    </tr>\n",
       "    <tr>\n",
       "      <th>8</th>\n",
       "      <td>critic_score</td>\n",
       "      <td>8578</td>\n",
       "      <td>51.32</td>\n",
       "    </tr>\n",
       "    <tr>\n",
       "      <th>9</th>\n",
       "      <td>user_score</td>\n",
       "      <td>6701</td>\n",
       "      <td>40.09</td>\n",
       "    </tr>\n",
       "    <tr>\n",
       "      <th>10</th>\n",
       "      <td>rating</td>\n",
       "      <td>6766</td>\n",
       "      <td>40.48</td>\n",
       "    </tr>\n",
       "  </tbody>\n",
       "</table>\n",
       "</div>"
      ],
      "text/plain": [
       "          column  count_na  percent_na\n",
       "0           game         2        0.01\n",
       "1       platform         0        0.00\n",
       "2           year       269        1.61\n",
       "3          genre         2        0.01\n",
       "4       na_sales         0        0.00\n",
       "5       eu_sales         0        0.00\n",
       "6       jp_sales         0        0.00\n",
       "7    other_sales         0        0.00\n",
       "8   critic_score      8578       51.32\n",
       "9     user_score      6701       40.09\n",
       "10        rating      6766       40.48"
      ]
     },
     "execution_count": 6,
     "metadata": {},
     "output_type": "execute_result"
    }
   ],
   "source": [
    "df_null = pd.DataFrame(data=df.columns, columns=['column'])\n",
    "df_null['count_na'] = df.isna().sum().values\n",
    "df_null['percent_na'] = np.round(df.isna().sum().values / len(df) * 100, 2)\n",
    "df_null"
   ]
  },
  {
   "cell_type": "code",
   "execution_count": 7,
   "metadata": {},
   "outputs": [
    {
     "data": {
      "text/html": [
       "<div>\n",
       "<style scoped>\n",
       "    .dataframe tbody tr th:only-of-type {\n",
       "        vertical-align: middle;\n",
       "    }\n",
       "\n",
       "    .dataframe tbody tr th {\n",
       "        vertical-align: top;\n",
       "    }\n",
       "\n",
       "    .dataframe thead th {\n",
       "        text-align: right;\n",
       "    }\n",
       "</style>\n",
       "<table border=\"1\" class=\"dataframe\">\n",
       "  <thead>\n",
       "    <tr style=\"text-align: right;\">\n",
       "      <th></th>\n",
       "      <th>game</th>\n",
       "      <th>platform</th>\n",
       "      <th>year</th>\n",
       "      <th>genre</th>\n",
       "      <th>na_sales</th>\n",
       "      <th>eu_sales</th>\n",
       "      <th>jp_sales</th>\n",
       "      <th>other_sales</th>\n",
       "      <th>critic_score</th>\n",
       "      <th>user_score</th>\n",
       "      <th>rating</th>\n",
       "    </tr>\n",
       "  </thead>\n",
       "  <tbody>\n",
       "    <tr>\n",
       "      <th>659</th>\n",
       "      <td>NaN</td>\n",
       "      <td>GEN</td>\n",
       "      <td>1993.0</td>\n",
       "      <td>NaN</td>\n",
       "      <td>1.78</td>\n",
       "      <td>0.53</td>\n",
       "      <td>0.00</td>\n",
       "      <td>0.08</td>\n",
       "      <td>NaN</td>\n",
       "      <td>NaN</td>\n",
       "      <td>NaN</td>\n",
       "    </tr>\n",
       "    <tr>\n",
       "      <th>14244</th>\n",
       "      <td>NaN</td>\n",
       "      <td>GEN</td>\n",
       "      <td>1993.0</td>\n",
       "      <td>NaN</td>\n",
       "      <td>0.00</td>\n",
       "      <td>0.00</td>\n",
       "      <td>0.03</td>\n",
       "      <td>0.00</td>\n",
       "      <td>NaN</td>\n",
       "      <td>NaN</td>\n",
       "      <td>NaN</td>\n",
       "    </tr>\n",
       "  </tbody>\n",
       "</table>\n",
       "</div>"
      ],
      "text/plain": [
       "      game platform    year genre  na_sales  eu_sales  jp_sales  other_sales  \\\n",
       "659    NaN      GEN  1993.0   NaN      1.78      0.53      0.00         0.08   \n",
       "14244  NaN      GEN  1993.0   NaN      0.00      0.00      0.03         0.00   \n",
       "\n",
       "       critic_score user_score rating  \n",
       "659             NaN        NaN    NaN  \n",
       "14244           NaN        NaN    NaN  "
      ]
     },
     "execution_count": 7,
     "metadata": {},
     "output_type": "execute_result"
    }
   ],
   "source": [
    "df[df['game'].isna() == True]"
   ]
  },
  {
   "cell_type": "code",
   "execution_count": 8,
   "metadata": {},
   "outputs": [
    {
     "data": {
      "text/html": [
       "<div>\n",
       "<style scoped>\n",
       "    .dataframe tbody tr th:only-of-type {\n",
       "        vertical-align: middle;\n",
       "    }\n",
       "\n",
       "    .dataframe tbody tr th {\n",
       "        vertical-align: top;\n",
       "    }\n",
       "\n",
       "    .dataframe thead th {\n",
       "        text-align: right;\n",
       "    }\n",
       "</style>\n",
       "<table border=\"1\" class=\"dataframe\">\n",
       "  <thead>\n",
       "    <tr style=\"text-align: right;\">\n",
       "      <th></th>\n",
       "      <th>platform</th>\n",
       "      <th>count</th>\n",
       "    </tr>\n",
       "  </thead>\n",
       "  <tbody>\n",
       "    <tr>\n",
       "      <th>3</th>\n",
       "      <td>GB</td>\n",
       "      <td>1</td>\n",
       "    </tr>\n",
       "    <tr>\n",
       "      <th>12</th>\n",
       "      <td>PSV</td>\n",
       "      <td>1</td>\n",
       "    </tr>\n",
       "    <tr>\n",
       "      <th>6</th>\n",
       "      <td>N64</td>\n",
       "      <td>3</td>\n",
       "    </tr>\n",
       "    <tr>\n",
       "      <th>8</th>\n",
       "      <td>PS</td>\n",
       "      <td>7</td>\n",
       "    </tr>\n",
       "    <tr>\n",
       "      <th>1</th>\n",
       "      <td>3DS</td>\n",
       "      <td>8</td>\n",
       "    </tr>\n",
       "    <tr>\n",
       "      <th>4</th>\n",
       "      <td>GBA</td>\n",
       "      <td>11</td>\n",
       "    </tr>\n",
       "    <tr>\n",
       "      <th>5</th>\n",
       "      <td>GC</td>\n",
       "      <td>14</td>\n",
       "    </tr>\n",
       "    <tr>\n",
       "      <th>11</th>\n",
       "      <td>PSP</td>\n",
       "      <td>16</td>\n",
       "    </tr>\n",
       "    <tr>\n",
       "      <th>0</th>\n",
       "      <td>2600</td>\n",
       "      <td>17</td>\n",
       "    </tr>\n",
       "    <tr>\n",
       "      <th>7</th>\n",
       "      <td>PC</td>\n",
       "      <td>17</td>\n",
       "    </tr>\n",
       "    <tr>\n",
       "      <th>15</th>\n",
       "      <td>XB</td>\n",
       "      <td>21</td>\n",
       "    </tr>\n",
       "    <tr>\n",
       "      <th>10</th>\n",
       "      <td>PS3</td>\n",
       "      <td>25</td>\n",
       "    </tr>\n",
       "    <tr>\n",
       "      <th>2</th>\n",
       "      <td>DS</td>\n",
       "      <td>30</td>\n",
       "    </tr>\n",
       "    <tr>\n",
       "      <th>14</th>\n",
       "      <td>X360</td>\n",
       "      <td>30</td>\n",
       "    </tr>\n",
       "    <tr>\n",
       "      <th>9</th>\n",
       "      <td>PS2</td>\n",
       "      <td>34</td>\n",
       "    </tr>\n",
       "    <tr>\n",
       "      <th>13</th>\n",
       "      <td>Wii</td>\n",
       "      <td>34</td>\n",
       "    </tr>\n",
       "  </tbody>\n",
       "</table>\n",
       "</div>"
      ],
      "text/plain": [
       "   platform  count\n",
       "3        GB      1\n",
       "12      PSV      1\n",
       "6       N64      3\n",
       "8        PS      7\n",
       "1       3DS      8\n",
       "4       GBA     11\n",
       "5        GC     14\n",
       "11      PSP     16\n",
       "0      2600     17\n",
       "7        PC     17\n",
       "15       XB     21\n",
       "10      PS3     25\n",
       "2        DS     30\n",
       "14     X360     30\n",
       "9       PS2     34\n",
       "13      Wii     34"
      ]
     },
     "execution_count": 8,
     "metadata": {},
     "output_type": "execute_result"
    }
   ],
   "source": [
    "null_year = df[df['year'].isna() == True].pivot_table(index='platform', values='game', aggfunc=['count']).reset_index()\n",
    "null_year.columns = ('platform', 'count')\n",
    "null_year = null_year.sort_values(by='count')\n",
    "null_year"
   ]
  },
  {
   "cell_type": "markdown",
   "metadata": {},
   "source": [
    "От пропусков в колонках по названию игры и в колонке по жанру можно убрать из выборки, потому что относительно всей выборки это очень маленькое количество и эти пропуски у нас находятся на одних и тех же позициях, судя по куску таблицы выше. Также я хочу убрать из выборки те игры, в графе год выпуска которых пустые значения. Можно было бы вручную искать эти игры и вписать год выпуска, но это займет время, а профита мало, т.к. доля пропущенных значений по году меньше 2%, что тоже немного.  \n",
    "\n",
    "Причины пропусков вижу в том, что была потеряна информация либо она была противоречивой в источнике об игре и поэтому в колонке с названием и жанром мы получаем пропуск. Но сама продажа была, поэтому ее выгрузили из источника.\n",
    "Пропуски в годе по большей части у платформ Wii, PS2, X360, DS, что странно, потому что это современные платформы и даты релиза у них должны быть в сети. Возможно, что пропуски это следствие эспорта."
   ]
  },
  {
   "cell_type": "code",
   "execution_count": 9,
   "metadata": {},
   "outputs": [],
   "source": [
    "df = df.dropna(subset=['game', 'year']).reset_index()"
   ]
  },
  {
   "cell_type": "markdown",
   "metadata": {},
   "source": [
    "Колонку с годами привожу к целочисленному типу, потому что в жизни мы не используем доли в годах"
   ]
  },
  {
   "cell_type": "code",
   "execution_count": 10,
   "metadata": {},
   "outputs": [],
   "source": [
    "df['year'] = df['year'].astype('int64')"
   ]
  },
  {
   "cell_type": "markdown",
   "metadata": {},
   "source": [
    "Я не вижу смысла в заполнении оценок от критиков и пользователей, т.к. это субъективные оценки и если заполнять по жанрам и платформам средним значением или медианой, то это может повлиять на дальнейшее исследование в вопросах про оценке. К тому же цель исследования состоит в том, чтобы понять критерии успеха-неуспеха и если сделать замену на среднюю, медиану или еще какую величину, а не на реальные данные, то можно исказить результаты исследования. Поэтому я решила заполнить пропущенные значения в этих колонках значением 0, чтобы в случае необходимости убрать из выборки. Так как этого значения нет в выборках, то путаницы не должно возникнуть. Таким образом у меня сразу будет нужный мне тип данных. В оценке критиков это int64, а в оценке пользователей это float64. \n",
    "\n",
    "Причины пропусков в человеческом факторе может быть, т.е. человек(критик или пользователь) мог играть, но решил не оставлять своего мнения по игре в виде оценки. Либо же сама платформа не предоставила возможности, чтобы это сделать."
   ]
  },
  {
   "cell_type": "markdown",
   "metadata": {},
   "source": [
    "В колонке с оценкой пользователей есть значение 'tbd' от англ. *'To Be Determined'*, это обозначение нужно для событий, даты публикации которых, неопределены. Как я понимаю применительно в колонке с оценкой пользователей это обозначает, что игре пользователи не поставили оценку, т.е. можно это присудить к пропускам и сделать замену на значений 'no_info'"
   ]
  },
  {
   "cell_type": "code",
   "execution_count": 11,
   "metadata": {},
   "outputs": [
    {
     "data": {
      "text/plain": [
       "array(['8', nan, '8.3', '8.5', '6.6', '8.4', '8.6', '7.7', '6.3', '7.4',\n",
       "       '8.2', '9', '7.9', '8.1', '8.7', '7.1', '3.4', '5.3', '4.8', '3.2',\n",
       "       '8.9', '6.4', '7.8', '7.5', '2.6', '7.2', '9.2', '7', '7.3', '4.3',\n",
       "       '7.6', '5.7', '5', '9.1', '6.5', 'tbd', '8.8', '6.9', '9.4', '6.8',\n",
       "       '6.1', '6.7', '5.4', '4', '4.9', '4.5', '9.3', '6.2', '4.2', '6',\n",
       "       '3.7', '4.1', '5.8', '5.6', '5.5', '4.4', '4.6', '5.9', '3.9',\n",
       "       '3.1', '2.9', '5.2', '3.3', '4.7', '5.1', '3.5', '2.5', '1.9', '3',\n",
       "       '2.7', '2.2', '2', '9.5', '2.1', '3.6', '2.8', '1.8', '3.8', '0',\n",
       "       '1.6', '9.6', '2.4', '1.7', '1.1', '0.3', '1.5', '0.7', '1.2',\n",
       "       '2.3', '0.5', '1.3', '0.2', '0.6', '1.4', '0.9', '1', '9.7'],\n",
       "      dtype=object)"
      ]
     },
     "execution_count": 11,
     "metadata": {},
     "output_type": "execute_result"
    }
   ],
   "source": [
    "df['user_score'].unique()"
   ]
  },
  {
   "cell_type": "code",
   "execution_count": 12,
   "metadata": {},
   "outputs": [],
   "source": [
    "df['user_score'] = df['user_score'].replace('tbd', 0)"
   ]
  },
  {
   "cell_type": "code",
   "execution_count": 13,
   "metadata": {},
   "outputs": [],
   "source": [
    "df['critic_score'] = df['critic_score'].fillna(0)\n",
    "df['user_score'] = df['user_score'].fillna(0)"
   ]
  },
  {
   "cell_type": "code",
   "execution_count": 14,
   "metadata": {},
   "outputs": [],
   "source": [
    "df['critic_score'] = df['critic_score'].astype('int64')\n",
    "df['user_score'] = df['user_score'].astype('float64')"
   ]
  },
  {
   "cell_type": "markdown",
   "metadata": {},
   "source": [
    "Пропусков в колонке с рейтингом довольно много 40,48%, больше чем в остальных."
   ]
  },
  {
   "cell_type": "code",
   "execution_count": 15,
   "metadata": {},
   "outputs": [
    {
     "data": {
      "text/plain": [
       "array(['E', nan, 'M', 'T', 'E10+', 'K-A', 'AO', 'EC', 'RP'], dtype=object)"
      ]
     },
     "execution_count": 15,
     "metadata": {},
     "output_type": "execute_result"
    }
   ],
   "source": [
    "df['rating'].unique()"
   ]
  },
  {
   "cell_type": "code",
   "execution_count": 16,
   "metadata": {},
   "outputs": [
    {
     "data": {
      "text/html": [
       "<div>\n",
       "<style scoped>\n",
       "    .dataframe tbody tr th:only-of-type {\n",
       "        vertical-align: middle;\n",
       "    }\n",
       "\n",
       "    .dataframe tbody tr th {\n",
       "        vertical-align: top;\n",
       "    }\n",
       "\n",
       "    .dataframe thead th {\n",
       "        text-align: right;\n",
       "    }\n",
       "</style>\n",
       "<table border=\"1\" class=\"dataframe\">\n",
       "  <thead>\n",
       "    <tr style=\"text-align: right;\">\n",
       "      <th></th>\n",
       "      <th>index</th>\n",
       "      <th>game</th>\n",
       "      <th>platform</th>\n",
       "      <th>year</th>\n",
       "      <th>genre</th>\n",
       "      <th>na_sales</th>\n",
       "      <th>eu_sales</th>\n",
       "      <th>jp_sales</th>\n",
       "      <th>other_sales</th>\n",
       "      <th>critic_score</th>\n",
       "      <th>user_score</th>\n",
       "      <th>rating</th>\n",
       "    </tr>\n",
       "  </thead>\n",
       "  <tbody>\n",
       "    <tr>\n",
       "      <th>1</th>\n",
       "      <td>1</td>\n",
       "      <td>Super Mario Bros.</td>\n",
       "      <td>NES</td>\n",
       "      <td>1985</td>\n",
       "      <td>Platform</td>\n",
       "      <td>29.08</td>\n",
       "      <td>3.58</td>\n",
       "      <td>6.81</td>\n",
       "      <td>0.77</td>\n",
       "      <td>0</td>\n",
       "      <td>0.0</td>\n",
       "      <td>NaN</td>\n",
       "    </tr>\n",
       "    <tr>\n",
       "      <th>4</th>\n",
       "      <td>4</td>\n",
       "      <td>Pokemon Red/Pokemon Blue</td>\n",
       "      <td>GB</td>\n",
       "      <td>1996</td>\n",
       "      <td>Role-Playing</td>\n",
       "      <td>11.27</td>\n",
       "      <td>8.89</td>\n",
       "      <td>10.22</td>\n",
       "      <td>1.00</td>\n",
       "      <td>0</td>\n",
       "      <td>0.0</td>\n",
       "      <td>NaN</td>\n",
       "    </tr>\n",
       "    <tr>\n",
       "      <th>5</th>\n",
       "      <td>5</td>\n",
       "      <td>Tetris</td>\n",
       "      <td>GB</td>\n",
       "      <td>1989</td>\n",
       "      <td>Puzzle</td>\n",
       "      <td>23.20</td>\n",
       "      <td>2.26</td>\n",
       "      <td>4.22</td>\n",
       "      <td>0.58</td>\n",
       "      <td>0</td>\n",
       "      <td>0.0</td>\n",
       "      <td>NaN</td>\n",
       "    </tr>\n",
       "    <tr>\n",
       "      <th>9</th>\n",
       "      <td>9</td>\n",
       "      <td>Duck Hunt</td>\n",
       "      <td>NES</td>\n",
       "      <td>1984</td>\n",
       "      <td>Shooter</td>\n",
       "      <td>26.93</td>\n",
       "      <td>0.63</td>\n",
       "      <td>0.28</td>\n",
       "      <td>0.47</td>\n",
       "      <td>0</td>\n",
       "      <td>0.0</td>\n",
       "      <td>NaN</td>\n",
       "    </tr>\n",
       "    <tr>\n",
       "      <th>10</th>\n",
       "      <td>10</td>\n",
       "      <td>Nintendogs</td>\n",
       "      <td>DS</td>\n",
       "      <td>2005</td>\n",
       "      <td>Simulation</td>\n",
       "      <td>9.05</td>\n",
       "      <td>10.95</td>\n",
       "      <td>1.93</td>\n",
       "      <td>2.74</td>\n",
       "      <td>0</td>\n",
       "      <td>0.0</td>\n",
       "      <td>NaN</td>\n",
       "    </tr>\n",
       "  </tbody>\n",
       "</table>\n",
       "</div>"
      ],
      "text/plain": [
       "    index                      game platform  year         genre  na_sales  \\\n",
       "1       1         Super Mario Bros.      NES  1985      Platform     29.08   \n",
       "4       4  Pokemon Red/Pokemon Blue       GB  1996  Role-Playing     11.27   \n",
       "5       5                    Tetris       GB  1989        Puzzle     23.20   \n",
       "9       9                 Duck Hunt      NES  1984       Shooter     26.93   \n",
       "10     10                Nintendogs       DS  2005    Simulation      9.05   \n",
       "\n",
       "    eu_sales  jp_sales  other_sales  critic_score  user_score rating  \n",
       "1       3.58      6.81         0.77             0         0.0    NaN  \n",
       "4       8.89     10.22         1.00             0         0.0    NaN  \n",
       "5       2.26      4.22         0.58             0         0.0    NaN  \n",
       "9       0.63      0.28         0.47             0         0.0    NaN  \n",
       "10     10.95      1.93         2.74             0         0.0    NaN  "
      ]
     },
     "execution_count": 16,
     "metadata": {},
     "output_type": "execute_result"
    }
   ],
   "source": [
    "df[df['rating'].isna() == True].head()"
   ]
  },
  {
   "cell_type": "markdown",
   "metadata": {},
   "source": [
    "Из выгрузки с пропущенным рейтингом от ESRB я взала пару игр и на оф.сайте организации нашла их. Получается, что пропуски появились не от того, что эти игры не получили рейтинг от ESRB, а в том, откуда выгружался датасет. Можно было бы проставить рейтинг 6766 играм, но я, к сожалению, не знаю как это сделать быстро с помощью программирования(пока), но заполнять руками будет очень долго. Трата времени не целесообразна, лучше построить предположения по меньшей выборке, чем нам дана была изначально. Поэтому заполню пропуски значением 'no_info', потому что по жанру и году выпуска заполнять рейтинг неправильно. Он зависит от сюжета игры, графики и самых резких сцен, которые оценивают многие люди разных возрастов и слоёв общества, не связанные с игровой индустрией. Это субъективная оценка опять же и оснований(метрик) для ее проставления у меня нет."
   ]
  },
  {
   "cell_type": "code",
   "execution_count": 17,
   "metadata": {},
   "outputs": [],
   "source": [
    "df['rating'] = df['rating'].fillna('no_info')"
   ]
  },
  {
   "cell_type": "markdown",
   "metadata": {},
   "source": [
    "Сделаем колонку с суммарными продажами по играм"
   ]
  },
  {
   "cell_type": "code",
   "execution_count": 18,
   "metadata": {},
   "outputs": [],
   "source": [
    "df['total_sales'] = df['na_sales'] + df['eu_sales'] + df['jp_sales'] + df['other_sales']"
   ]
  },
  {
   "cell_type": "markdown",
   "metadata": {},
   "source": [
    "В итоге получается такой датасет. Пропуски заполнены и убраны из выборки."
   ]
  },
  {
   "cell_type": "code",
   "execution_count": 19,
   "metadata": {},
   "outputs": [
    {
     "data": {
      "text/html": [
       "<div>\n",
       "<style scoped>\n",
       "    .dataframe tbody tr th:only-of-type {\n",
       "        vertical-align: middle;\n",
       "    }\n",
       "\n",
       "    .dataframe tbody tr th {\n",
       "        vertical-align: top;\n",
       "    }\n",
       "\n",
       "    .dataframe thead th {\n",
       "        text-align: right;\n",
       "    }\n",
       "</style>\n",
       "<table border=\"1\" class=\"dataframe\">\n",
       "  <thead>\n",
       "    <tr style=\"text-align: right;\">\n",
       "      <th></th>\n",
       "      <th>index</th>\n",
       "      <th>game</th>\n",
       "      <th>platform</th>\n",
       "      <th>year</th>\n",
       "      <th>genre</th>\n",
       "      <th>na_sales</th>\n",
       "      <th>eu_sales</th>\n",
       "      <th>jp_sales</th>\n",
       "      <th>other_sales</th>\n",
       "      <th>critic_score</th>\n",
       "      <th>user_score</th>\n",
       "      <th>rating</th>\n",
       "      <th>total_sales</th>\n",
       "    </tr>\n",
       "  </thead>\n",
       "  <tbody>\n",
       "    <tr>\n",
       "      <th>0</th>\n",
       "      <td>0</td>\n",
       "      <td>Wii Sports</td>\n",
       "      <td>Wii</td>\n",
       "      <td>2006</td>\n",
       "      <td>Sports</td>\n",
       "      <td>41.36</td>\n",
       "      <td>28.96</td>\n",
       "      <td>3.77</td>\n",
       "      <td>8.45</td>\n",
       "      <td>76</td>\n",
       "      <td>8.0</td>\n",
       "      <td>E</td>\n",
       "      <td>82.54</td>\n",
       "    </tr>\n",
       "    <tr>\n",
       "      <th>1</th>\n",
       "      <td>1</td>\n",
       "      <td>Super Mario Bros.</td>\n",
       "      <td>NES</td>\n",
       "      <td>1985</td>\n",
       "      <td>Platform</td>\n",
       "      <td>29.08</td>\n",
       "      <td>3.58</td>\n",
       "      <td>6.81</td>\n",
       "      <td>0.77</td>\n",
       "      <td>0</td>\n",
       "      <td>0.0</td>\n",
       "      <td>no_info</td>\n",
       "      <td>40.24</td>\n",
       "    </tr>\n",
       "    <tr>\n",
       "      <th>2</th>\n",
       "      <td>2</td>\n",
       "      <td>Mario Kart Wii</td>\n",
       "      <td>Wii</td>\n",
       "      <td>2008</td>\n",
       "      <td>Racing</td>\n",
       "      <td>15.68</td>\n",
       "      <td>12.76</td>\n",
       "      <td>3.79</td>\n",
       "      <td>3.29</td>\n",
       "      <td>82</td>\n",
       "      <td>8.3</td>\n",
       "      <td>E</td>\n",
       "      <td>35.52</td>\n",
       "    </tr>\n",
       "    <tr>\n",
       "      <th>3</th>\n",
       "      <td>3</td>\n",
       "      <td>Wii Sports Resort</td>\n",
       "      <td>Wii</td>\n",
       "      <td>2009</td>\n",
       "      <td>Sports</td>\n",
       "      <td>15.61</td>\n",
       "      <td>10.93</td>\n",
       "      <td>3.28</td>\n",
       "      <td>2.95</td>\n",
       "      <td>80</td>\n",
       "      <td>8.0</td>\n",
       "      <td>E</td>\n",
       "      <td>32.77</td>\n",
       "    </tr>\n",
       "    <tr>\n",
       "      <th>4</th>\n",
       "      <td>4</td>\n",
       "      <td>Pokemon Red/Pokemon Blue</td>\n",
       "      <td>GB</td>\n",
       "      <td>1996</td>\n",
       "      <td>Role-Playing</td>\n",
       "      <td>11.27</td>\n",
       "      <td>8.89</td>\n",
       "      <td>10.22</td>\n",
       "      <td>1.00</td>\n",
       "      <td>0</td>\n",
       "      <td>0.0</td>\n",
       "      <td>no_info</td>\n",
       "      <td>31.38</td>\n",
       "    </tr>\n",
       "  </tbody>\n",
       "</table>\n",
       "</div>"
      ],
      "text/plain": [
       "   index                      game platform  year         genre  na_sales  \\\n",
       "0      0                Wii Sports      Wii  2006        Sports     41.36   \n",
       "1      1         Super Mario Bros.      NES  1985      Platform     29.08   \n",
       "2      2            Mario Kart Wii      Wii  2008        Racing     15.68   \n",
       "3      3         Wii Sports Resort      Wii  2009        Sports     15.61   \n",
       "4      4  Pokemon Red/Pokemon Blue       GB  1996  Role-Playing     11.27   \n",
       "\n",
       "   eu_sales  jp_sales  other_sales  critic_score  user_score   rating  \\\n",
       "0     28.96      3.77         8.45            76         8.0        E   \n",
       "1      3.58      6.81         0.77             0         0.0  no_info   \n",
       "2     12.76      3.79         3.29            82         8.3        E   \n",
       "3     10.93      3.28         2.95            80         8.0        E   \n",
       "4      8.89     10.22         1.00             0         0.0  no_info   \n",
       "\n",
       "   total_sales  \n",
       "0        82.54  \n",
       "1        40.24  \n",
       "2        35.52  \n",
       "3        32.77  \n",
       "4        31.38  "
      ]
     },
     "execution_count": 19,
     "metadata": {},
     "output_type": "execute_result"
    }
   ],
   "source": [
    "df.head()"
   ]
  },
  {
   "cell_type": "code",
   "execution_count": 20,
   "metadata": {},
   "outputs": [
    {
     "name": "stdout",
     "output_type": "stream",
     "text": [
      "<class 'pandas.core.frame.DataFrame'>\n",
      "RangeIndex: 16444 entries, 0 to 16443\n",
      "Data columns (total 13 columns):\n",
      " #   Column        Non-Null Count  Dtype  \n",
      "---  ------        --------------  -----  \n",
      " 0   index         16444 non-null  int64  \n",
      " 1   game          16444 non-null  object \n",
      " 2   platform      16444 non-null  object \n",
      " 3   year          16444 non-null  int64  \n",
      " 4   genre         16444 non-null  object \n",
      " 5   na_sales      16444 non-null  float64\n",
      " 6   eu_sales      16444 non-null  float64\n",
      " 7   jp_sales      16444 non-null  float64\n",
      " 8   other_sales   16444 non-null  float64\n",
      " 9   critic_score  16444 non-null  int64  \n",
      " 10  user_score    16444 non-null  float64\n",
      " 11  rating        16444 non-null  object \n",
      " 12  total_sales   16444 non-null  float64\n",
      "dtypes: float64(6), int64(3), object(4)\n",
      "memory usage: 1.6+ MB\n"
     ]
    }
   ],
   "source": [
    "df.info()"
   ]
  },
  {
   "cell_type": "markdown",
   "metadata": {},
   "source": [
    "## Шаг 3. Исследовательский анализ данных"
   ]
  },
  {
   "cell_type": "markdown",
   "metadata": {},
   "source": [
    "### Определение актуального периода для исследования"
   ]
  },
  {
   "cell_type": "markdown",
   "metadata": {},
   "source": [
    "Посмотрим какое количество игр выпускалось в разные годы. Наверняка, раньше их выпускалось меньше, потому что технологии были не так развиты как сегодня и были доступны не каждому."
   ]
  },
  {
   "cell_type": "code",
   "execution_count": 21,
   "metadata": {},
   "outputs": [
    {
     "data": {
      "text/html": [
       "<div>\n",
       "<style scoped>\n",
       "    .dataframe tbody tr th:only-of-type {\n",
       "        vertical-align: middle;\n",
       "    }\n",
       "\n",
       "    .dataframe tbody tr th {\n",
       "        vertical-align: top;\n",
       "    }\n",
       "\n",
       "    .dataframe thead tr th {\n",
       "        text-align: left;\n",
       "    }\n",
       "\n",
       "    .dataframe thead tr:last-of-type th {\n",
       "        text-align: right;\n",
       "    }\n",
       "</style>\n",
       "<table border=\"1\" class=\"dataframe\">\n",
       "  <thead>\n",
       "    <tr>\n",
       "      <th></th>\n",
       "      <th>count</th>\n",
       "    </tr>\n",
       "    <tr>\n",
       "      <th></th>\n",
       "      <th>game</th>\n",
       "    </tr>\n",
       "    <tr>\n",
       "      <th>year</th>\n",
       "      <th></th>\n",
       "    </tr>\n",
       "  </thead>\n",
       "  <tbody>\n",
       "    <tr>\n",
       "      <th>1980</th>\n",
       "      <td>9</td>\n",
       "    </tr>\n",
       "    <tr>\n",
       "      <th>1981</th>\n",
       "      <td>46</td>\n",
       "    </tr>\n",
       "    <tr>\n",
       "      <th>1982</th>\n",
       "      <td>36</td>\n",
       "    </tr>\n",
       "    <tr>\n",
       "      <th>1983</th>\n",
       "      <td>17</td>\n",
       "    </tr>\n",
       "    <tr>\n",
       "      <th>1984</th>\n",
       "      <td>14</td>\n",
       "    </tr>\n",
       "    <tr>\n",
       "      <th>1985</th>\n",
       "      <td>14</td>\n",
       "    </tr>\n",
       "    <tr>\n",
       "      <th>1986</th>\n",
       "      <td>21</td>\n",
       "    </tr>\n",
       "    <tr>\n",
       "      <th>1987</th>\n",
       "      <td>16</td>\n",
       "    </tr>\n",
       "    <tr>\n",
       "      <th>1988</th>\n",
       "      <td>15</td>\n",
       "    </tr>\n",
       "    <tr>\n",
       "      <th>1989</th>\n",
       "      <td>17</td>\n",
       "    </tr>\n",
       "    <tr>\n",
       "      <th>1990</th>\n",
       "      <td>16</td>\n",
       "    </tr>\n",
       "    <tr>\n",
       "      <th>1991</th>\n",
       "      <td>41</td>\n",
       "    </tr>\n",
       "    <tr>\n",
       "      <th>1992</th>\n",
       "      <td>43</td>\n",
       "    </tr>\n",
       "    <tr>\n",
       "      <th>1993</th>\n",
       "      <td>60</td>\n",
       "    </tr>\n",
       "    <tr>\n",
       "      <th>1994</th>\n",
       "      <td>121</td>\n",
       "    </tr>\n",
       "    <tr>\n",
       "      <th>1995</th>\n",
       "      <td>219</td>\n",
       "    </tr>\n",
       "    <tr>\n",
       "      <th>1996</th>\n",
       "      <td>263</td>\n",
       "    </tr>\n",
       "    <tr>\n",
       "      <th>1997</th>\n",
       "      <td>289</td>\n",
       "    </tr>\n",
       "    <tr>\n",
       "      <th>1998</th>\n",
       "      <td>379</td>\n",
       "    </tr>\n",
       "    <tr>\n",
       "      <th>1999</th>\n",
       "      <td>338</td>\n",
       "    </tr>\n",
       "    <tr>\n",
       "      <th>2000</th>\n",
       "      <td>350</td>\n",
       "    </tr>\n",
       "    <tr>\n",
       "      <th>2001</th>\n",
       "      <td>482</td>\n",
       "    </tr>\n",
       "    <tr>\n",
       "      <th>2002</th>\n",
       "      <td>829</td>\n",
       "    </tr>\n",
       "    <tr>\n",
       "      <th>2003</th>\n",
       "      <td>775</td>\n",
       "    </tr>\n",
       "    <tr>\n",
       "      <th>2004</th>\n",
       "      <td>762</td>\n",
       "    </tr>\n",
       "    <tr>\n",
       "      <th>2005</th>\n",
       "      <td>939</td>\n",
       "    </tr>\n",
       "    <tr>\n",
       "      <th>2006</th>\n",
       "      <td>1006</td>\n",
       "    </tr>\n",
       "    <tr>\n",
       "      <th>2007</th>\n",
       "      <td>1197</td>\n",
       "    </tr>\n",
       "    <tr>\n",
       "      <th>2008</th>\n",
       "      <td>1427</td>\n",
       "    </tr>\n",
       "    <tr>\n",
       "      <th>2009</th>\n",
       "      <td>1426</td>\n",
       "    </tr>\n",
       "    <tr>\n",
       "      <th>2010</th>\n",
       "      <td>1255</td>\n",
       "    </tr>\n",
       "    <tr>\n",
       "      <th>2011</th>\n",
       "      <td>1136</td>\n",
       "    </tr>\n",
       "    <tr>\n",
       "      <th>2012</th>\n",
       "      <td>653</td>\n",
       "    </tr>\n",
       "    <tr>\n",
       "      <th>2013</th>\n",
       "      <td>544</td>\n",
       "    </tr>\n",
       "    <tr>\n",
       "      <th>2014</th>\n",
       "      <td>581</td>\n",
       "    </tr>\n",
       "    <tr>\n",
       "      <th>2015</th>\n",
       "      <td>606</td>\n",
       "    </tr>\n",
       "    <tr>\n",
       "      <th>2016</th>\n",
       "      <td>502</td>\n",
       "    </tr>\n",
       "  </tbody>\n",
       "</table>\n",
       "</div>"
      ],
      "text/plain": [
       "     count\n",
       "      game\n",
       "year      \n",
       "1980     9\n",
       "1981    46\n",
       "1982    36\n",
       "1983    17\n",
       "1984    14\n",
       "1985    14\n",
       "1986    21\n",
       "1987    16\n",
       "1988    15\n",
       "1989    17\n",
       "1990    16\n",
       "1991    41\n",
       "1992    43\n",
       "1993    60\n",
       "1994   121\n",
       "1995   219\n",
       "1996   263\n",
       "1997   289\n",
       "1998   379\n",
       "1999   338\n",
       "2000   350\n",
       "2001   482\n",
       "2002   829\n",
       "2003   775\n",
       "2004   762\n",
       "2005   939\n",
       "2006  1006\n",
       "2007  1197\n",
       "2008  1427\n",
       "2009  1426\n",
       "2010  1255\n",
       "2011  1136\n",
       "2012   653\n",
       "2013   544\n",
       "2014   581\n",
       "2015   606\n",
       "2016   502"
      ]
     },
     "execution_count": 21,
     "metadata": {},
     "output_type": "execute_result"
    }
   ],
   "source": [
    "df.pivot_table(index='year', values='game', aggfunc=['count'])"
   ]
  },
  {
   "cell_type": "code",
   "execution_count": 22,
   "metadata": {},
   "outputs": [
    {
     "data": {
      "image/png": "[encoded data removed]",
      "text/plain": [
       "<Figure size 864x360 with 1 Axes>"
      ]
     },
     "metadata": {
      "needs_background": "light"
     },
     "output_type": "display_data"
    }
   ],
   "source": [
    "ax = df.pivot_table(index='year', values='game', aggfunc=['count']).plot(grid=True, figsize=(12, 5), title='Количество игр по годам')\n",
    "plt.ylabel(\"количество, шт.\")\n",
    "plt.xlabel(\"годы\")\n",
    "plt.show()"
   ]
  },
  {
   "cell_type": "markdown",
   "metadata": {},
   "source": [
    "Как и думала, в 80-е и 90-е годы игр было на порядок меньше, чем в 00-е. Начиная с 94 года количество увеличилось в двое (121 шт.) и дальше росло. Пик пришелся на 2008 и 2009 годы (1427 и 1426 шт. соответственно), дальше количество игр постепенно уменьшалось и сейчас держиться на уровне 500-600 шт. в год.\n",
    "\n",
    "Уберем более ранние сроки, когда игр выпускалось мало. Информации они для нас не несут."
   ]
  },
  {
   "cell_type": "code",
   "execution_count": 23,
   "metadata": {},
   "outputs": [],
   "source": [
    "df = df[df['year'] >= 1994]"
   ]
  },
  {
   "cell_type": "markdown",
   "metadata": {},
   "source": [
    "Думаю, что для дальнейшего анализа и выявления критериев хорошей игры и платформы я буду использовать игры с 2005 года выпуска, потому что их на порядок больше, чем до этого периода и выборка будет более разнообразной. К тому же раньше время не стоит на месте и критерии успеха раньше и сейчас могут различаться."
   ]
  },
  {
   "cell_type": "markdown",
   "metadata": {},
   "source": [
    "Посмотрим какие продажи были на разных платформах. Выберем ТОП платформ с наибольшими суммарными продажами и построим распределение по годам."
   ]
  },
  {
   "cell_type": "code",
   "execution_count": 24,
   "metadata": {},
   "outputs": [
    {
     "data": {
      "text/html": [
       "<div>\n",
       "<style scoped>\n",
       "    .dataframe tbody tr th:only-of-type {\n",
       "        vertical-align: middle;\n",
       "    }\n",
       "\n",
       "    .dataframe tbody tr th {\n",
       "        vertical-align: top;\n",
       "    }\n",
       "\n",
       "    .dataframe thead th {\n",
       "        text-align: right;\n",
       "    }\n",
       "</style>\n",
       "<table border=\"1\" class=\"dataframe\">\n",
       "  <thead>\n",
       "    <tr style=\"text-align: right;\">\n",
       "      <th></th>\n",
       "      <th>index</th>\n",
       "      <th>game</th>\n",
       "      <th>platform</th>\n",
       "      <th>year</th>\n",
       "      <th>genre</th>\n",
       "      <th>na_sales</th>\n",
       "      <th>eu_sales</th>\n",
       "      <th>jp_sales</th>\n",
       "      <th>other_sales</th>\n",
       "      <th>critic_score</th>\n",
       "      <th>user_score</th>\n",
       "      <th>rating</th>\n",
       "      <th>total_sales</th>\n",
       "    </tr>\n",
       "  </thead>\n",
       "  <tbody>\n",
       "    <tr>\n",
       "      <th>0</th>\n",
       "      <td>0</td>\n",
       "      <td>Wii Sports</td>\n",
       "      <td>Wii</td>\n",
       "      <td>2006</td>\n",
       "      <td>Sports</td>\n",
       "      <td>41.36</td>\n",
       "      <td>28.96</td>\n",
       "      <td>3.77</td>\n",
       "      <td>8.45</td>\n",
       "      <td>76</td>\n",
       "      <td>8.0</td>\n",
       "      <td>E</td>\n",
       "      <td>82.54</td>\n",
       "    </tr>\n",
       "    <tr>\n",
       "      <th>2</th>\n",
       "      <td>2</td>\n",
       "      <td>Mario Kart Wii</td>\n",
       "      <td>Wii</td>\n",
       "      <td>2008</td>\n",
       "      <td>Racing</td>\n",
       "      <td>15.68</td>\n",
       "      <td>12.76</td>\n",
       "      <td>3.79</td>\n",
       "      <td>3.29</td>\n",
       "      <td>82</td>\n",
       "      <td>8.3</td>\n",
       "      <td>E</td>\n",
       "      <td>35.52</td>\n",
       "    </tr>\n",
       "    <tr>\n",
       "      <th>3</th>\n",
       "      <td>3</td>\n",
       "      <td>Wii Sports Resort</td>\n",
       "      <td>Wii</td>\n",
       "      <td>2009</td>\n",
       "      <td>Sports</td>\n",
       "      <td>15.61</td>\n",
       "      <td>10.93</td>\n",
       "      <td>3.28</td>\n",
       "      <td>2.95</td>\n",
       "      <td>80</td>\n",
       "      <td>8.0</td>\n",
       "      <td>E</td>\n",
       "      <td>32.77</td>\n",
       "    </tr>\n",
       "    <tr>\n",
       "      <th>4</th>\n",
       "      <td>4</td>\n",
       "      <td>Pokemon Red/Pokemon Blue</td>\n",
       "      <td>GB</td>\n",
       "      <td>1996</td>\n",
       "      <td>Role-Playing</td>\n",
       "      <td>11.27</td>\n",
       "      <td>8.89</td>\n",
       "      <td>10.22</td>\n",
       "      <td>1.00</td>\n",
       "      <td>0</td>\n",
       "      <td>0.0</td>\n",
       "      <td>no_info</td>\n",
       "      <td>31.38</td>\n",
       "    </tr>\n",
       "    <tr>\n",
       "      <th>6</th>\n",
       "      <td>6</td>\n",
       "      <td>New Super Mario Bros.</td>\n",
       "      <td>DS</td>\n",
       "      <td>2006</td>\n",
       "      <td>Platform</td>\n",
       "      <td>11.28</td>\n",
       "      <td>9.14</td>\n",
       "      <td>6.50</td>\n",
       "      <td>2.88</td>\n",
       "      <td>89</td>\n",
       "      <td>8.5</td>\n",
       "      <td>E</td>\n",
       "      <td>29.80</td>\n",
       "    </tr>\n",
       "  </tbody>\n",
       "</table>\n",
       "</div>"
      ],
      "text/plain": [
       "   index                      game platform  year         genre  na_sales  \\\n",
       "0      0                Wii Sports      Wii  2006        Sports     41.36   \n",
       "2      2            Mario Kart Wii      Wii  2008        Racing     15.68   \n",
       "3      3         Wii Sports Resort      Wii  2009        Sports     15.61   \n",
       "4      4  Pokemon Red/Pokemon Blue       GB  1996  Role-Playing     11.27   \n",
       "6      6     New Super Mario Bros.       DS  2006      Platform     11.28   \n",
       "\n",
       "   eu_sales  jp_sales  other_sales  critic_score  user_score   rating  \\\n",
       "0     28.96      3.77         8.45            76         8.0        E   \n",
       "2     12.76      3.79         3.29            82         8.3        E   \n",
       "3     10.93      3.28         2.95            80         8.0        E   \n",
       "4      8.89     10.22         1.00             0         0.0  no_info   \n",
       "6      9.14      6.50         2.88            89         8.5        E   \n",
       "\n",
       "   total_sales  \n",
       "0        82.54  \n",
       "2        35.52  \n",
       "3        32.77  \n",
       "4        31.38  \n",
       "6        29.80  "
      ]
     },
     "execution_count": 24,
     "metadata": {},
     "output_type": "execute_result"
    }
   ],
   "source": [
    "df.head()"
   ]
  },
  {
   "cell_type": "code",
   "execution_count": 25,
   "metadata": {},
   "outputs": [
    {
     "data": {
      "text/html": [
       "<div>\n",
       "<style scoped>\n",
       "    .dataframe tbody tr th:only-of-type {\n",
       "        vertical-align: middle;\n",
       "    }\n",
       "\n",
       "    .dataframe tbody tr th {\n",
       "        vertical-align: top;\n",
       "    }\n",
       "\n",
       "    .dataframe thead th {\n",
       "        text-align: right;\n",
       "    }\n",
       "</style>\n",
       "<table border=\"1\" class=\"dataframe\">\n",
       "  <thead>\n",
       "    <tr style=\"text-align: right;\">\n",
       "      <th></th>\n",
       "      <th>platform</th>\n",
       "      <th>total_sales</th>\n",
       "    </tr>\n",
       "  </thead>\n",
       "  <tbody>\n",
       "    <tr>\n",
       "      <th>12</th>\n",
       "      <td>PCFX</td>\n",
       "      <td>0.03</td>\n",
       "    </tr>\n",
       "    <tr>\n",
       "      <th>0</th>\n",
       "      <td>3DO</td>\n",
       "      <td>0.10</td>\n",
       "    </tr>\n",
       "    <tr>\n",
       "      <th>9</th>\n",
       "      <td>NES</td>\n",
       "      <td>0.11</td>\n",
       "    </tr>\n",
       "    <tr>\n",
       "      <th>22</th>\n",
       "      <td>TG16</td>\n",
       "      <td>0.16</td>\n",
       "    </tr>\n",
       "    <tr>\n",
       "      <th>20</th>\n",
       "      <td>SCD</td>\n",
       "      <td>0.36</td>\n",
       "    </tr>\n",
       "    <tr>\n",
       "      <th>10</th>\n",
       "      <td>NG</td>\n",
       "      <td>1.23</td>\n",
       "    </tr>\n",
       "    <tr>\n",
       "      <th>23</th>\n",
       "      <td>WS</td>\n",
       "      <td>1.42</td>\n",
       "    </tr>\n",
       "    <tr>\n",
       "      <th>7</th>\n",
       "      <td>GEN</td>\n",
       "      <td>8.13</td>\n",
       "    </tr>\n",
       "    <tr>\n",
       "      <th>2</th>\n",
       "      <td>DC</td>\n",
       "      <td>15.95</td>\n",
       "    </tr>\n",
       "    <tr>\n",
       "      <th>19</th>\n",
       "      <td>SAT</td>\n",
       "      <td>33.59</td>\n",
       "    </tr>\n",
       "    <tr>\n",
       "      <th>18</th>\n",
       "      <td>PSV</td>\n",
       "      <td>53.81</td>\n",
       "    </tr>\n",
       "    <tr>\n",
       "      <th>25</th>\n",
       "      <td>WiiU</td>\n",
       "      <td>82.19</td>\n",
       "    </tr>\n",
       "    <tr>\n",
       "      <th>21</th>\n",
       "      <td>SNES</td>\n",
       "      <td>84.67</td>\n",
       "    </tr>\n",
       "    <tr>\n",
       "      <th>4</th>\n",
       "      <td>GB</td>\n",
       "      <td>152.08</td>\n",
       "    </tr>\n",
       "    <tr>\n",
       "      <th>28</th>\n",
       "      <td>XOne</td>\n",
       "      <td>159.32</td>\n",
       "    </tr>\n",
       "    <tr>\n",
       "      <th>6</th>\n",
       "      <td>GC</td>\n",
       "      <td>196.73</td>\n",
       "    </tr>\n",
       "    <tr>\n",
       "      <th>8</th>\n",
       "      <td>N64</td>\n",
       "      <td>218.01</td>\n",
       "    </tr>\n",
       "    <tr>\n",
       "      <th>27</th>\n",
       "      <td>XB</td>\n",
       "      <td>251.57</td>\n",
       "    </tr>\n",
       "    <tr>\n",
       "      <th>11</th>\n",
       "      <td>PC</td>\n",
       "      <td>252.66</td>\n",
       "    </tr>\n",
       "    <tr>\n",
       "      <th>1</th>\n",
       "      <td>3DS</td>\n",
       "      <td>257.81</td>\n",
       "    </tr>\n",
       "    <tr>\n",
       "      <th>17</th>\n",
       "      <td>PSP</td>\n",
       "      <td>289.53</td>\n",
       "    </tr>\n",
       "    <tr>\n",
       "      <th>5</th>\n",
       "      <td>GBA</td>\n",
       "      <td>312.88</td>\n",
       "    </tr>\n",
       "    <tr>\n",
       "      <th>16</th>\n",
       "      <td>PS4</td>\n",
       "      <td>314.14</td>\n",
       "    </tr>\n",
       "    <tr>\n",
       "      <th>13</th>\n",
       "      <td>PS</td>\n",
       "      <td>727.58</td>\n",
       "    </tr>\n",
       "    <tr>\n",
       "      <th>3</th>\n",
       "      <td>DS</td>\n",
       "      <td>802.76</td>\n",
       "    </tr>\n",
       "    <tr>\n",
       "      <th>24</th>\n",
       "      <td>Wii</td>\n",
       "      <td>891.18</td>\n",
       "    </tr>\n",
       "    <tr>\n",
       "      <th>15</th>\n",
       "      <td>PS3</td>\n",
       "      <td>931.34</td>\n",
       "    </tr>\n",
       "    <tr>\n",
       "      <th>26</th>\n",
       "      <td>X360</td>\n",
       "      <td>961.24</td>\n",
       "    </tr>\n",
       "    <tr>\n",
       "      <th>14</th>\n",
       "      <td>PS2</td>\n",
       "      <td>1233.56</td>\n",
       "    </tr>\n",
       "  </tbody>\n",
       "</table>\n",
       "</div>"
      ],
      "text/plain": [
       "   platform  total_sales\n",
       "12     PCFX         0.03\n",
       "0       3DO         0.10\n",
       "9       NES         0.11\n",
       "22     TG16         0.16\n",
       "20      SCD         0.36\n",
       "10       NG         1.23\n",
       "23       WS         1.42\n",
       "7       GEN         8.13\n",
       "2        DC        15.95\n",
       "19      SAT        33.59\n",
       "18      PSV        53.81\n",
       "25     WiiU        82.19\n",
       "21     SNES        84.67\n",
       "4        GB       152.08\n",
       "28     XOne       159.32\n",
       "6        GC       196.73\n",
       "8       N64       218.01\n",
       "27       XB       251.57\n",
       "11       PC       252.66\n",
       "1       3DS       257.81\n",
       "17      PSP       289.53\n",
       "5       GBA       312.88\n",
       "16      PS4       314.14\n",
       "13       PS       727.58\n",
       "3        DS       802.76\n",
       "24      Wii       891.18\n",
       "15      PS3       931.34\n",
       "26     X360       961.24\n",
       "14      PS2      1233.56"
      ]
     },
     "execution_count": 25,
     "metadata": {},
     "output_type": "execute_result"
    }
   ],
   "source": [
    "platf = df.pivot_table(index='platform', values='total_sales', aggfunc=['sum']).reset_index()\n",
    "platf.columns = ['platform', 'total_sales']\n",
    "platf = platf.sort_values('total_sales')\n",
    "platf"
   ]
  },
  {
   "cell_type": "code",
   "execution_count": 26,
   "metadata": {},
   "outputs": [
    {
     "data": {
      "image/png": "[encoded data removed]",
      "text/plain": [
       "<Figure size 864x360 with 1 Axes>"
      ]
     },
     "metadata": {
      "needs_background": "light"
     },
     "output_type": "display_data"
    }
   ],
   "source": [
    "ax = platf.plot(x='platform', y='total_sales', grid=True, figsize=(12, 5), title='Суммарные продажи по платформам')\n",
    "plt.xticks(np.arange(len(platf)), platf['platform'], rotation=90)\n",
    "plt.ylabel(\"продажи, млн.долларов\")\n",
    "plt.xlabel(\"платформа\")\n",
    "plt.show()"
   ]
  },
  {
   "cell_type": "markdown",
   "metadata": {},
   "source": [
    "Исходя из графика я решила взять платформы для распределения по годам начиная с платформы PS4, т.к. начиная с нее идут платформы с самыми большими суммарными продажами. Получилось ТОП-6 платформ."
   ]
  },
  {
   "cell_type": "code",
   "execution_count": 27,
   "metadata": {},
   "outputs": [
    {
     "data": {
      "text/plain": [
       "13      PS\n",
       "3       DS\n",
       "24     Wii\n",
       "15     PS3\n",
       "26    X360\n",
       "14     PS2\n",
       "Name: platform, dtype: object"
      ]
     },
     "execution_count": 27,
     "metadata": {},
     "output_type": "execute_result"
    }
   ],
   "source": [
    "platf_top = platf.tail(6)['platform']\n",
    "platf_top"
   ]
  },
  {
   "cell_type": "code",
   "execution_count": 28,
   "metadata": {},
   "outputs": [
    {
     "data": {
      "text/plain": [
       "Text(0.5, 0, 'год')"
      ]
     },
     "execution_count": 28,
     "metadata": {},
     "output_type": "execute_result"
    },
    {
     "data": {
      "image/png": "[encoded data removed]",
      "text/plain": [
       "<Figure size 864x360 with 1 Axes>"
      ]
     },
     "metadata": {
      "needs_background": "light"
     },
     "output_type": "display_data"
    }
   ],
   "source": [
    "df.query('platform in @platf_top').pivot_table(index='year', columns='platform', values='total_sales', aggfunc=['sum']).plot(title='Продажи ТОП-6 платформ по годам', grid=True, figsize=(12,5), style='o-')\n",
    "plt.xticks(np.arange(1994, 2017, step=1), rotation=90)\n",
    "plt.ylabel(\"продажи, млн.долларов\")\n",
    "plt.xlabel(\"год\")    "
   ]
  },
  {
   "cell_type": "markdown",
   "metadata": {},
   "source": [
    "Если мы уберем DS, которая \"жила\" дольше всех платформ с 1985 по 2013 гг, то получается что новые платформы появляются с периодичностью 5-6 лет, а изчезают за 10 лет.\n",
    "\n",
    "Апдейт: Возьму актуальный период в половину жизненного цикла платформы, т.е. 5 лет. Актуальный период получается с 2011 по 2016 гг."
   ]
  },
  {
   "cell_type": "markdown",
   "metadata": {},
   "source": [
    "Теперь возьму актуальный период, как выше писала я хотела взять период с 2011 по 2016 гг, поэтому создам отдельную переменную с этим периодом."
   ]
  },
  {
   "cell_type": "code",
   "execution_count": 29,
   "metadata": {},
   "outputs": [
    {
     "data": {
      "text/html": [
       "<div>\n",
       "<style scoped>\n",
       "    .dataframe tbody tr th:only-of-type {\n",
       "        vertical-align: middle;\n",
       "    }\n",
       "\n",
       "    .dataframe tbody tr th {\n",
       "        vertical-align: top;\n",
       "    }\n",
       "\n",
       "    .dataframe thead th {\n",
       "        text-align: right;\n",
       "    }\n",
       "</style>\n",
       "<table border=\"1\" class=\"dataframe\">\n",
       "  <thead>\n",
       "    <tr style=\"text-align: right;\">\n",
       "      <th></th>\n",
       "      <th>index</th>\n",
       "      <th>game</th>\n",
       "      <th>platform</th>\n",
       "      <th>year</th>\n",
       "      <th>genre</th>\n",
       "      <th>na_sales</th>\n",
       "      <th>eu_sales</th>\n",
       "      <th>jp_sales</th>\n",
       "      <th>other_sales</th>\n",
       "      <th>critic_score</th>\n",
       "      <th>user_score</th>\n",
       "      <th>rating</th>\n",
       "      <th>total_sales</th>\n",
       "    </tr>\n",
       "  </thead>\n",
       "  <tbody>\n",
       "    <tr>\n",
       "      <th>16</th>\n",
       "      <td>16</td>\n",
       "      <td>Grand Theft Auto V</td>\n",
       "      <td>PS3</td>\n",
       "      <td>2013</td>\n",
       "      <td>Action</td>\n",
       "      <td>7.02</td>\n",
       "      <td>9.09</td>\n",
       "      <td>0.98</td>\n",
       "      <td>3.96</td>\n",
       "      <td>97</td>\n",
       "      <td>8.2</td>\n",
       "      <td>M</td>\n",
       "      <td>21.05</td>\n",
       "    </tr>\n",
       "    <tr>\n",
       "      <th>23</th>\n",
       "      <td>23</td>\n",
       "      <td>Grand Theft Auto V</td>\n",
       "      <td>X360</td>\n",
       "      <td>2013</td>\n",
       "      <td>Action</td>\n",
       "      <td>9.66</td>\n",
       "      <td>5.14</td>\n",
       "      <td>0.06</td>\n",
       "      <td>1.41</td>\n",
       "      <td>97</td>\n",
       "      <td>8.1</td>\n",
       "      <td>M</td>\n",
       "      <td>16.27</td>\n",
       "    </tr>\n",
       "    <tr>\n",
       "      <th>29</th>\n",
       "      <td>29</td>\n",
       "      <td>Call of Duty: Modern Warfare 3</td>\n",
       "      <td>X360</td>\n",
       "      <td>2011</td>\n",
       "      <td>Shooter</td>\n",
       "      <td>9.04</td>\n",
       "      <td>4.24</td>\n",
       "      <td>0.13</td>\n",
       "      <td>1.32</td>\n",
       "      <td>88</td>\n",
       "      <td>3.4</td>\n",
       "      <td>M</td>\n",
       "      <td>14.73</td>\n",
       "    </tr>\n",
       "    <tr>\n",
       "      <th>31</th>\n",
       "      <td>31</td>\n",
       "      <td>Call of Duty: Black Ops 3</td>\n",
       "      <td>PS4</td>\n",
       "      <td>2015</td>\n",
       "      <td>Shooter</td>\n",
       "      <td>6.03</td>\n",
       "      <td>5.86</td>\n",
       "      <td>0.36</td>\n",
       "      <td>2.38</td>\n",
       "      <td>0</td>\n",
       "      <td>0.0</td>\n",
       "      <td>no_info</td>\n",
       "      <td>14.63</td>\n",
       "    </tr>\n",
       "    <tr>\n",
       "      <th>33</th>\n",
       "      <td>33</td>\n",
       "      <td>Pokemon X/Pokemon Y</td>\n",
       "      <td>3DS</td>\n",
       "      <td>2013</td>\n",
       "      <td>Role-Playing</td>\n",
       "      <td>5.28</td>\n",
       "      <td>4.19</td>\n",
       "      <td>4.35</td>\n",
       "      <td>0.78</td>\n",
       "      <td>0</td>\n",
       "      <td>0.0</td>\n",
       "      <td>no_info</td>\n",
       "      <td>14.60</td>\n",
       "    </tr>\n",
       "  </tbody>\n",
       "</table>\n",
       "</div>"
      ],
      "text/plain": [
       "    index                            game platform  year         genre  \\\n",
       "16     16              Grand Theft Auto V      PS3  2013        Action   \n",
       "23     23              Grand Theft Auto V     X360  2013        Action   \n",
       "29     29  Call of Duty: Modern Warfare 3     X360  2011       Shooter   \n",
       "31     31       Call of Duty: Black Ops 3      PS4  2015       Shooter   \n",
       "33     33             Pokemon X/Pokemon Y      3DS  2013  Role-Playing   \n",
       "\n",
       "    na_sales  eu_sales  jp_sales  other_sales  critic_score  user_score  \\\n",
       "16      7.02      9.09      0.98         3.96            97         8.2   \n",
       "23      9.66      5.14      0.06         1.41            97         8.1   \n",
       "29      9.04      4.24      0.13         1.32            88         3.4   \n",
       "31      6.03      5.86      0.36         2.38             0         0.0   \n",
       "33      5.28      4.19      4.35         0.78             0         0.0   \n",
       "\n",
       "     rating  total_sales  \n",
       "16        M        21.05  \n",
       "23        M        16.27  \n",
       "29        M        14.73  \n",
       "31  no_info        14.63  \n",
       "33  no_info        14.60  "
      ]
     },
     "execution_count": 29,
     "metadata": {},
     "output_type": "execute_result"
    }
   ],
   "source": [
    "df_act = df.query('year >= 2011')\n",
    "df_act.head()"
   ]
  },
  {
   "cell_type": "markdown",
   "metadata": {},
   "source": [
    "### Изучение платформ"
   ]
  },
  {
   "cell_type": "markdown",
   "metadata": {},
   "source": [
    "Платформ очень много получилось и на общем графике непонятно было где какая платформа. Поэтому хочу сделать 3 графика по разным производителям."
   ]
  },
  {
   "cell_type": "code",
   "execution_count": 30,
   "metadata": {},
   "outputs": [
    {
     "name": "stdout",
     "output_type": "stream",
     "text": [
      "Количество платформ в актуальном периоде: 12 шт.\n"
     ]
    },
    {
     "data": {
      "text/plain": [
       "array(['PS3', 'X360', 'PS4', '3DS', 'Wii', 'DS', 'XOne', 'WiiU', 'PC',\n",
       "       'PSV', 'PSP', 'PS2'], dtype=object)"
      ]
     },
     "execution_count": 30,
     "metadata": {},
     "output_type": "execute_result"
    }
   ],
   "source": [
    "print('Количество платформ в актуальном периоде:', len(df_act['platform'].unique()), 'шт.')\n",
    "df_act['platform'].unique()"
   ]
  },
  {
   "cell_type": "code",
   "execution_count": 31,
   "metadata": {},
   "outputs": [],
   "source": [
    "nintendo = ['3DS', 'DS', 'Wii', 'WiiU']\n",
    "microsoft = ['X360', 'XOne', 'PC']\n",
    "sony = ['PS2', 'PS3', 'PS4', 'PSP', 'PSV']"
   ]
  },
  {
   "cell_type": "code",
   "execution_count": 32,
   "metadata": {
    "scrolled": false
   },
   "outputs": [
    {
     "data": {
      "text/plain": [
       "Text(0.5, 0, 'год')"
      ]
     },
     "execution_count": 32,
     "metadata": {},
     "output_type": "execute_result"
    },
    {
     "data": {
      "image/png": "[encoded data removed]",
      "text/plain": [
       "<Figure size 720x360 with 1 Axes>"
      ]
     },
     "metadata": {
      "needs_background": "light"
     },
     "output_type": "display_data"
    }
   ],
   "source": [
    "df_act.query('platform in @nintendo').pivot_table(index='year', columns='platform', values='total_sales', aggfunc=['sum']).plot(title='Продажи платформ Nintendo в актуальном периоде', grid=True, figsize=(10,5))\n",
    "plt.ylabel(\"продажи, млн.долларов\")\n",
    "plt.xlabel(\"год\") "
   ]
  },
  {
   "cell_type": "code",
   "execution_count": 33,
   "metadata": {},
   "outputs": [
    {
     "data": {
      "text/plain": [
       "Text(0.5, 0, 'год')"
      ]
     },
     "execution_count": 33,
     "metadata": {},
     "output_type": "execute_result"
    },
    {
     "data": {
      "image/png": "[encoded data removed]",
      "text/plain": [
       "<Figure size 720x360 with 1 Axes>"
      ]
     },
     "metadata": {
      "needs_background": "light"
     },
     "output_type": "display_data"
    }
   ],
   "source": [
    "df_act.query('platform in @microsoft').pivot_table(index='year', columns='platform', values='total_sales', aggfunc=['sum']).plot(title='Продажи платформ Microsoft в актуальном периоде', grid=True, figsize=(10,5))\n",
    "plt.ylabel(\"продажи, млн.долларов\")\n",
    "plt.xlabel(\"год\")    "
   ]
  },
  {
   "cell_type": "code",
   "execution_count": 34,
   "metadata": {},
   "outputs": [
    {
     "data": {
      "text/plain": [
       "Text(0.5, 0, 'год')"
      ]
     },
     "execution_count": 34,
     "metadata": {},
     "output_type": "execute_result"
    },
    {
     "data": {
      "image/png": "[encoded data removed]",
      "text/plain": [
       "<Figure size 720x360 with 1 Axes>"
      ]
     },
     "metadata": {
      "needs_background": "light"
     },
     "output_type": "display_data"
    }
   ],
   "source": [
    "df_act.query('platform in @sony').pivot_table(index='year', columns='platform', values='total_sales', aggfunc=['sum']).plot(title='Продажи платформ Sony в актуальном периоде', grid=True, figsize=(10,5))\n",
    "plt.ylabel(\"продажи, млн.долларов\")\n",
    "plt.xlabel(\"год\") "
   ]
  },
  {
   "cell_type": "markdown",
   "metadata": {},
   "source": [
    "Получается такая картина: \n",
    "1. Платформы, продажи которых упали: \n",
    "    - Все платформы от Nintendo либо упали(GBA, GC, DC) в продажах либо падают(Wii, WiiU, 3DS). Хотя платформа Wii имела успех в продажах по сравнению со своими товарками, но в 2016 году продажи на нуле.\n",
    "    - У производителя Microsoft продажи просели на платформах XB и X360.\n",
    "    - У производителя Sony PS2, PSP, PS3 упали в продажах\n",
    "    - У SEGA продажи на платформе DS упали в 2013 году и PC упал по сравнению с подъемом 2011 года\n",
    "2. Не увидела на графиках платформы, продажи которых растут. По сравнению с предыдущими годами продажи просели у всех.\n",
    "3. Но можно выделить перспективные платформы, продажи которых упали несильно и они вполне могут набрать обороты, т.к. платформа свежая. Это **PS4** от Sony, **XOne** от Microsoft. Я делаю ставку именно на более новые платформы, т.к. даже самые доходные платформы рано или поздно станут неинтересны (PS2 1233,56 млн.долларов итоговых продаж дальше 2011 года не получила дохода от продажи игр). Игры сейчас все таки развиваются, графика становится все лучше, нужны более мощные \"движки\", чтобы поддерживать на уровне играбельности рендер локаций и персонажей."
   ]
  },
  {
   "cell_type": "markdown",
   "metadata": {},
   "source": [
    "Построим ящик с усами, чтобы понять как отличаются продажи двух перспективных платформ и их среднием."
   ]
  },
  {
   "cell_type": "code",
   "execution_count": 35,
   "metadata": {},
   "outputs": [],
   "source": [
    "platform_act = ['PS4', 'XOne']"
   ]
  },
  {
   "cell_type": "code",
   "execution_count": 36,
   "metadata": {},
   "outputs": [
    {
     "data": {
      "text/plain": [
       "Text(0, 0.5, 'продажи, млн.долларов')"
      ]
     },
     "execution_count": 36,
     "metadata": {},
     "output_type": "execute_result"
    },
    {
     "data": {
      "image/png": "[encoded data removed]",
      "text/plain": [
       "<Figure size 800x800 with 1 Axes>"
      ]
     },
     "metadata": {
      "needs_background": "light"
     },
     "output_type": "display_data"
    }
   ],
   "source": [
    "plt.figure(figsize=(10, 10), dpi= 80)\n",
    "sns.boxplot(x='platform', y='total_sales', data=df_act.query('platform in @platform_act & total_sales <= 2'))\n",
    "plt.title('Продажи игр по перспективным платформам')\n",
    "plt.xlabel('платформа')\n",
    "plt.ylabel('продажи, млн.долларов')"
   ]
  },
  {
   "cell_type": "markdown",
   "metadata": {},
   "source": [
    "Продажи отличаются на платформах: у PS4 есть выбросы, которые почти в 2 раза дороже(>14 млн.долларов), чем XOne(>7 млн.долларов4). Я сделала ограничение в 2 млн.долларов, чтобы \"ящик\" был нагляднее. Средние значения продаж у них почти не отличаются друг от друга на уровне 130 тыс.долларов за игру. Не смотря на то, что у платформы PS4 выборосы значительнее, но у XOne размах усов больше, а значит что нормальные значения лежат в большем диапазоне, т.е. игры дороже."
   ]
  },
  {
   "cell_type": "markdown",
   "metadata": {},
   "source": [
    "### Корреляция в отзывах"
   ]
  },
  {
   "cell_type": "markdown",
   "metadata": {},
   "source": [
    "Для исследования влияния отзывов на продажи возьму платформу PS4 и уберу из отзывов значение 0, чтобы оно не помешало построению графиков и рассчету корреляции, т.к. это была наша замена пропущенным значениям."
   ]
  },
  {
   "cell_type": "code",
   "execution_count": 37,
   "metadata": {},
   "outputs": [
    {
     "data": {
      "image/png": "[encoded data removed]",
      "text/plain": [
       "<Figure size 720x576 with 1 Axes>"
      ]
     },
     "metadata": {
      "needs_background": "light"
     },
     "output_type": "display_data"
    },
    {
     "data": {
      "image/png": "[encoded data removed]",
      "text/plain": [
       "<Figure size 720x576 with 1 Axes>"
      ]
     },
     "metadata": {
      "needs_background": "light"
     },
     "output_type": "display_data"
    }
   ],
   "source": [
    "plt.figure(figsize=(10, 8))\n",
    "plt.scatter(df_act.query('platform == \"PS4\" & user_score != 0').sort_values('user_score')['user_score'], df_act.query('platform == \"PS4\" & user_score != 0').sort_values('user_score')['total_sales'], alpha=0.3)\n",
    "plt.xticks(rotation=90)\n",
    "plt.title('Зависимость продаж от оценки пользователей')\n",
    "plt.xlabel('оценка пользователей')\n",
    "plt.ylabel('продажи, млн.долларов')\n",
    "plt.figure(figsize=(10, 8))\n",
    "plt.scatter(df_act.query('platform == \"PS4\" & critic_score != 0').sort_values('critic_score')['critic_score'], df_act.query('platform == \"PS4\" & critic_score != 0').sort_values('critic_score')['total_sales'], alpha=0.3)\n",
    "plt.xticks(rotation=90)\n",
    "plt.title('Зависимость продаж от оценки критиков')\n",
    "plt.xlabel('оценка критиков')\n",
    "plt.ylabel('продажи, млн.долларов')\n",
    "plt.show()"
   ]
  },
  {
   "cell_type": "code",
   "execution_count": 38,
   "metadata": {},
   "outputs": [
    {
     "name": "stdout",
     "output_type": "stream",
     "text": [
      "Корреляция между оценками пользотелей и продажами на платформе PS4: -0.03\n",
      "Корреляция между оценками критиков и продажами на платформе PS4: 0.41\n"
     ]
    }
   ],
   "source": [
    "print('Корреляция между оценками пользотелей и продажами на платформе PS4:', round(df_act.query('platform == \"PS4\" & user_score != 0')['user_score'].corr(df_act.query('platform == \"PS4\" & user_score != 0')['total_sales'], method='pearson'), 2))\n",
    "print('Корреляция между оценками критиков и продажами на платформе PS4:', round(df_act.query('platform == \"PS4\" & critic_score != 0')['critic_score'].corr(df_act.query('platform == \"PS4\" & critic_score != 0')['total_sales'], method='pearson'), 2))"
   ]
  },
  {
   "cell_type": "markdown",
   "metadata": {},
   "source": [
    "По графику и по коэффициенту Пирсона видно, что зависимость продаж от оценки критиков есть и она прямая, но слабая. А оценка пользователей на продажи можно сказать, что не влияет. Но эти показатели на основе продаж только одной платформы PS4, поэтому нужно посмотреть похожа ли ситуация с зависимостью на других платформах, чтобы сделать однозначные выводы по этому вопросу.\n",
    "Можно предположить, что какая-то зависимость есть, но она не линейного характера. К примеру, на графиках видно, что игры с низкими оценками критиков и пользователей продавались плохо."
   ]
  },
  {
   "cell_type": "code",
   "execution_count": 39,
   "metadata": {},
   "outputs": [
    {
     "data": {
      "text/plain": [
       "array(['PS3', 'X360', 'PS4', '3DS', 'Wii', 'DS', 'XOne', 'WiiU', 'PC',\n",
       "       'PSV', 'PSP', 'PS2'], dtype=object)"
      ]
     },
     "execution_count": 39,
     "metadata": {},
     "output_type": "execute_result"
    }
   ],
   "source": [
    "list_platform = df_act['platform'].unique()\n",
    "list_platform"
   ]
  },
  {
   "cell_type": "code",
   "execution_count": 40,
   "metadata": {},
   "outputs": [],
   "source": [
    "corr_user = []\n",
    "corr_critic = []\n",
    "for i in list_platform:\n",
    "    u = 0\n",
    "    c = 0\n",
    "    u = round(df_act.query('platform == @i & user_score != 0')['user_score'].corr(df_act.query('platform == @i & user_score != 0')['total_sales'], method='pearson'), 2)\n",
    "    c = round(df_act.query('platform == @i & critic_score != 0')['critic_score'].corr(df_act.query('platform == @i & critic_score != 0')['total_sales'], method='pearson'), 2)\n",
    "    corr_user.append(u)\n",
    "    corr_critic.append(c)"
   ]
  },
  {
   "cell_type": "code",
   "execution_count": 41,
   "metadata": {},
   "outputs": [
    {
     "data": {
      "text/html": [
       "<div>\n",
       "<style scoped>\n",
       "    .dataframe tbody tr th:only-of-type {\n",
       "        vertical-align: middle;\n",
       "    }\n",
       "\n",
       "    .dataframe tbody tr th {\n",
       "        vertical-align: top;\n",
       "    }\n",
       "\n",
       "    .dataframe thead th {\n",
       "        text-align: right;\n",
       "    }\n",
       "</style>\n",
       "<table border=\"1\" class=\"dataframe\">\n",
       "  <thead>\n",
       "    <tr style=\"text-align: right;\">\n",
       "      <th></th>\n",
       "      <th>PS3</th>\n",
       "      <th>X360</th>\n",
       "      <th>PS4</th>\n",
       "      <th>3DS</th>\n",
       "      <th>Wii</th>\n",
       "      <th>DS</th>\n",
       "      <th>XOne</th>\n",
       "      <th>WiiU</th>\n",
       "      <th>PC</th>\n",
       "      <th>PSV</th>\n",
       "      <th>PSP</th>\n",
       "      <th>PS2</th>\n",
       "    </tr>\n",
       "  </thead>\n",
       "  <tbody>\n",
       "    <tr>\n",
       "      <th>Корреляция с оценками пользователей</th>\n",
       "      <td>0.01</td>\n",
       "      <td>0.04</td>\n",
       "      <td>-0.03</td>\n",
       "      <td>0.22</td>\n",
       "      <td>0.15</td>\n",
       "      <td>0.28</td>\n",
       "      <td>-0.07</td>\n",
       "      <td>0.40</td>\n",
       "      <td>-0.05</td>\n",
       "      <td>0.01</td>\n",
       "      <td>0.01</td>\n",
       "      <td>-0.49</td>\n",
       "    </tr>\n",
       "    <tr>\n",
       "      <th>Корреляция с оценками критиков</th>\n",
       "      <td>0.38</td>\n",
       "      <td>0.39</td>\n",
       "      <td>0.41</td>\n",
       "      <td>0.35</td>\n",
       "      <td>0.29</td>\n",
       "      <td>0.26</td>\n",
       "      <td>0.42</td>\n",
       "      <td>0.35</td>\n",
       "      <td>0.31</td>\n",
       "      <td>0.13</td>\n",
       "      <td>0.36</td>\n",
       "      <td>NaN</td>\n",
       "    </tr>\n",
       "  </tbody>\n",
       "</table>\n",
       "</div>"
      ],
      "text/plain": [
       "                                      PS3  X360   PS4   3DS   Wii    DS  XOne  \\\n",
       "Корреляция с оценками пользователей  0.01  0.04 -0.03  0.22  0.15  0.28 -0.07   \n",
       "Корреляция с оценками критиков       0.38  0.39  0.41  0.35  0.29  0.26  0.42   \n",
       "\n",
       "                                     WiiU    PC   PSV   PSP   PS2  \n",
       "Корреляция с оценками пользователей  0.40 -0.05  0.01  0.01 -0.49  \n",
       "Корреляция с оценками критиков       0.35  0.31  0.13  0.36   NaN  "
      ]
     },
     "execution_count": 41,
     "metadata": {},
     "output_type": "execute_result"
    }
   ],
   "source": [
    "df_corr = pd.DataFrame(columns=['Корреляция с оценками пользователей'], data=corr_user)\n",
    "df_corr['Корреляция с оценками критиков'] = corr_critic\n",
    "df_corr = df_corr.T\n",
    "df_corr.columns = list_platform\n",
    "df_corr"
   ]
  },
  {
   "cell_type": "markdown",
   "metadata": {},
   "source": [
    "Судя по таблице с коэффицентами Пирсона по оценкам пользователей и критиков по разным платформам нельзя сказать, что есть связь с продажами. Максимальная связь это 0,42 коэфф.Пирсона только у платформы XB по отношению к оценкам критиков. Но этого недостаточно, чтобы утверждать, что оценка критиков влияет на успешность платформы, поэтому не будем учитывать этот критерий в окончательных выводах."
   ]
  },
  {
   "cell_type": "markdown",
   "metadata": {},
   "source": [
    "### Влияние жанра на продажи"
   ]
  },
  {
   "cell_type": "markdown",
   "metadata": {},
   "source": [
    "Теперь посмотрим как влияет жанр игры на продажи. Может есть какой-то хорошо продаваемый жанр?"
   ]
  },
  {
   "cell_type": "code",
   "execution_count": 42,
   "metadata": {},
   "outputs": [
    {
     "data": {
      "text/plain": [
       "array(['Action', 'Shooter', 'Role-Playing', 'Racing', 'Platform', 'Misc',\n",
       "       'Simulation', 'Sports', 'Fighting', 'Adventure', 'Puzzle',\n",
       "       'Strategy'], dtype=object)"
      ]
     },
     "execution_count": 42,
     "metadata": {},
     "output_type": "execute_result"
    }
   ],
   "source": [
    "genre = df_act['genre'].unique()\n",
    "genre"
   ]
  },
  {
   "cell_type": "code",
   "execution_count": 43,
   "metadata": {},
   "outputs": [
    {
     "data": {
      "text/plain": [
       "Text(0, 0.5, 'продажи, млн.долларов')"
      ]
     },
     "execution_count": 43,
     "metadata": {},
     "output_type": "execute_result"
    },
    {
     "data": {
      "image/png": "[encoded data removed]",
      "text/plain": [
       "<Figure size 800x640 with 1 Axes>"
      ]
     },
     "metadata": {
      "needs_background": "light"
     },
     "output_type": "display_data"
    }
   ],
   "source": [
    "plt.figure(figsize=(10, 8), dpi= 80)\n",
    "sns.boxplot(x='genre', y='total_sales', data=df_act.query('total_sales <= 2'))\n",
    "plt.xticks(rotation=90)\n",
    "plt.title('Продажи игр по жанрам')\n",
    "plt.xlabel('платформа')\n",
    "plt.ylabel('продажи, млн.долларов')"
   ]
  },
  {
   "cell_type": "markdown",
   "metadata": {},
   "source": [
    "Я ограничила суммарные продажи до 2 млн.долларов, т.к. хотелось рассмотреть более наглядно с размахами и средним значениями цифры. \n",
    "\n",
    "Получаем такую картинку, что жанры Adventure, Puzzle не самые дорогие и продаваемые. С продажами лучше остальных выделились жанры Shooter, Sports, Platform, Fighting. Остальные жанры на примерно одинаковом уровне по средним значениям."
   ]
  },
  {
   "cell_type": "markdown",
   "metadata": {},
   "source": [
    "### Вывод"
   ]
  },
  {
   "cell_type": "markdown",
   "metadata": {},
   "source": [
    "Если собрать все что получилось, то мы получаем следующее:\n",
    "- Продаваемые жанры Shooter, Sports, Platform и Fighting.\n",
    "- Перспективные платформы PS4 и XOne. Вообще линейка платформ от производителя Sony выделилась тем, что суммарную прибыль они приносили больше всех. Они все находятся в ТОП-7 самых прибыльных платформ за весь рассматриваемый период. \n",
    "- Продажи не зависят от оценок пользователей и критиков."
   ]
  },
  {
   "cell_type": "markdown",
   "metadata": {},
   "source": [
    "## Шаг 4. Портреты пользователей из каждого региона"
   ]
  },
  {
   "cell_type": "markdown",
   "metadata": {},
   "source": [
    "Составим сводную таблицу по продажам в разных регионах по платформам."
   ]
  },
  {
   "cell_type": "code",
   "execution_count": 44,
   "metadata": {},
   "outputs": [
    {
     "data": {
      "text/html": [
       "<div>\n",
       "<style scoped>\n",
       "    .dataframe tbody tr th:only-of-type {\n",
       "        vertical-align: middle;\n",
       "    }\n",
       "\n",
       "    .dataframe tbody tr th {\n",
       "        vertical-align: top;\n",
       "    }\n",
       "\n",
       "    .dataframe thead th {\n",
       "        text-align: right;\n",
       "    }\n",
       "</style>\n",
       "<table border=\"1\" class=\"dataframe\">\n",
       "  <thead>\n",
       "    <tr style=\"text-align: right;\">\n",
       "      <th></th>\n",
       "      <th>eu</th>\n",
       "      <th>jp</th>\n",
       "      <th>na</th>\n",
       "      <th>other</th>\n",
       "    </tr>\n",
       "    <tr>\n",
       "      <th>platform</th>\n",
       "      <th></th>\n",
       "      <th></th>\n",
       "      <th></th>\n",
       "      <th></th>\n",
       "    </tr>\n",
       "  </thead>\n",
       "  <tbody>\n",
       "    <tr>\n",
       "      <th>3DS</th>\n",
       "      <td>61.27</td>\n",
       "      <td>100.62</td>\n",
       "      <td>82.65</td>\n",
       "      <td>13.27</td>\n",
       "    </tr>\n",
       "    <tr>\n",
       "      <th>DS</th>\n",
       "      <td>9.24</td>\n",
       "      <td>8.04</td>\n",
       "      <td>18.86</td>\n",
       "      <td>2.59</td>\n",
       "    </tr>\n",
       "    <tr>\n",
       "      <th>PC</th>\n",
       "      <td>56.70</td>\n",
       "      <td>0.00</td>\n",
       "      <td>29.88</td>\n",
       "      <td>11.10</td>\n",
       "    </tr>\n",
       "    <tr>\n",
       "      <th>PS2</th>\n",
       "      <td>0.13</td>\n",
       "      <td>0.09</td>\n",
       "      <td>0.13</td>\n",
       "      <td>0.10</td>\n",
       "    </tr>\n",
       "    <tr>\n",
       "      <th>PS3</th>\n",
       "      <td>163.10</td>\n",
       "      <td>49.39</td>\n",
       "      <td>168.26</td>\n",
       "      <td>64.82</td>\n",
       "    </tr>\n",
       "    <tr>\n",
       "      <th>PS4</th>\n",
       "      <td>141.09</td>\n",
       "      <td>15.96</td>\n",
       "      <td>108.74</td>\n",
       "      <td>48.35</td>\n",
       "    </tr>\n",
       "    <tr>\n",
       "      <th>PSP</th>\n",
       "      <td>1.77</td>\n",
       "      <td>24.04</td>\n",
       "      <td>2.19</td>\n",
       "      <td>1.01</td>\n",
       "    </tr>\n",
       "    <tr>\n",
       "      <th>PSV</th>\n",
       "      <td>13.07</td>\n",
       "      <td>21.84</td>\n",
       "      <td>12.47</td>\n",
       "      <td>6.43</td>\n",
       "    </tr>\n",
       "    <tr>\n",
       "      <th>Wii</th>\n",
       "      <td>29.60</td>\n",
       "      <td>8.97</td>\n",
       "      <td>48.56</td>\n",
       "      <td>7.89</td>\n",
       "    </tr>\n",
       "    <tr>\n",
       "      <th>WiiU</th>\n",
       "      <td>25.13</td>\n",
       "      <td>13.01</td>\n",
       "      <td>38.10</td>\n",
       "      <td>5.95</td>\n",
       "    </tr>\n",
       "    <tr>\n",
       "      <th>X360</th>\n",
       "      <td>117.10</td>\n",
       "      <td>3.35</td>\n",
       "      <td>226.80</td>\n",
       "      <td>33.13</td>\n",
       "    </tr>\n",
       "    <tr>\n",
       "      <th>XOne</th>\n",
       "      <td>51.59</td>\n",
       "      <td>0.34</td>\n",
       "      <td>93.12</td>\n",
       "      <td>14.27</td>\n",
       "    </tr>\n",
       "  </tbody>\n",
       "</table>\n",
       "</div>"
      ],
      "text/plain": [
       "              eu      jp      na  other\n",
       "platform                               \n",
       "3DS        61.27  100.62   82.65  13.27\n",
       "DS          9.24    8.04   18.86   2.59\n",
       "PC         56.70    0.00   29.88  11.10\n",
       "PS2         0.13    0.09    0.13   0.10\n",
       "PS3       163.10   49.39  168.26  64.82\n",
       "PS4       141.09   15.96  108.74  48.35\n",
       "PSP         1.77   24.04    2.19   1.01\n",
       "PSV        13.07   21.84   12.47   6.43\n",
       "Wii        29.60    8.97   48.56   7.89\n",
       "WiiU       25.13   13.01   38.10   5.95\n",
       "X360      117.10    3.35  226.80  33.13\n",
       "XOne       51.59    0.34   93.12  14.27"
      ]
     },
     "execution_count": 44,
     "metadata": {},
     "output_type": "execute_result"
    }
   ],
   "source": [
    "region_platform = df_act.pivot_table(index='platform', values=['na_sales', 'eu_sales', 'jp_sales', 'other_sales'], aggfunc=['sum'])\n",
    "region_platform.columns = ['eu', 'jp', 'na', 'other']\n",
    "region_platform"
   ]
  },
  {
   "cell_type": "code",
   "execution_count": 45,
   "metadata": {},
   "outputs": [
    {
     "data": {
      "image/png": "[encoded data removed]",
      "text/plain": [
       "<Figure size 432x288 with 1 Axes>"
      ]
     },
     "metadata": {
      "needs_background": "light"
     },
     "output_type": "display_data"
    },
    {
     "data": {
      "image/png": "[encoded data removed]",
      "text/plain": [
       "<Figure size 432x288 with 1 Axes>"
      ]
     },
     "metadata": {
      "needs_background": "light"
     },
     "output_type": "display_data"
    },
    {
     "data": {
      "image/png": "[encoded data removed]",
      "text/plain": [
       "<Figure size 432x288 with 1 Axes>"
      ]
     },
     "metadata": {
      "needs_background": "light"
     },
     "output_type": "display_data"
    },
    {
     "data": {
      "image/png": "[encoded data removed]",
      "text/plain": [
       "<Figure size 432x288 with 1 Axes>"
      ]
     },
     "metadata": {
      "needs_background": "light"
     },
     "output_type": "display_data"
    }
   ],
   "source": [
    "for i in region_platform.columns:\n",
    "    region_platform.sort_values(i, ascending=False).plot(kind='bar', y=i, subplots=True)\n",
    "    plt.title(\"График популярности платформ в \" + i)\n",
    "    plt.xlabel(\"платформа\")\n",
    "    plt.ylabel(\"продажи, млн.долларов\")\n",
    "    plt.show()"
   ]
  },
  {
   "cell_type": "markdown",
   "metadata": {},
   "source": [
    "В Европе PS3 на первом месте 160 млн.долларов. X360 и PS4 разделяют 2 и 3 место около 140 и 120 млн.долларов соответственно.\n",
    "\n",
    "Самая популярная платформа в Японии это платформа 3DS от Nintendo(около 100 млн.долларов), потом идет PS3 (50 млн.долларов).\n",
    "\n",
    "В Северной Америке дела обстоят иначе. Игры на платформе X360 продали больше 200 млн.долларов. На втором месте в регионе стоит PS3 - больше 150 млн.долларов."
   ]
  },
  {
   "cell_type": "markdown",
   "metadata": {},
   "source": [
    "Тоже самое сделаем по жанрам"
   ]
  },
  {
   "cell_type": "code",
   "execution_count": 46,
   "metadata": {},
   "outputs": [
    {
     "data": {
      "text/html": [
       "<div>\n",
       "<style scoped>\n",
       "    .dataframe tbody tr th:only-of-type {\n",
       "        vertical-align: middle;\n",
       "    }\n",
       "\n",
       "    .dataframe tbody tr th {\n",
       "        vertical-align: top;\n",
       "    }\n",
       "\n",
       "    .dataframe thead th {\n",
       "        text-align: right;\n",
       "    }\n",
       "</style>\n",
       "<table border=\"1\" class=\"dataframe\">\n",
       "  <thead>\n",
       "    <tr style=\"text-align: right;\">\n",
       "      <th></th>\n",
       "      <th>eu</th>\n",
       "      <th>jp</th>\n",
       "      <th>na</th>\n",
       "      <th>other</th>\n",
       "    </tr>\n",
       "    <tr>\n",
       "      <th>genre</th>\n",
       "      <th></th>\n",
       "      <th></th>\n",
       "      <th></th>\n",
       "      <th></th>\n",
       "    </tr>\n",
       "  </thead>\n",
       "  <tbody>\n",
       "    <tr>\n",
       "      <th>Action</th>\n",
       "      <td>199.12</td>\n",
       "      <td>63.62</td>\n",
       "      <td>230.92</td>\n",
       "      <td>64.14</td>\n",
       "    </tr>\n",
       "    <tr>\n",
       "      <th>Adventure</th>\n",
       "      <td>13.96</td>\n",
       "      <td>12.07</td>\n",
       "      <td>14.76</td>\n",
       "      <td>4.25</td>\n",
       "    </tr>\n",
       "    <tr>\n",
       "      <th>Fighting</th>\n",
       "      <td>16.24</td>\n",
       "      <td>12.38</td>\n",
       "      <td>31.63</td>\n",
       "      <td>6.65</td>\n",
       "    </tr>\n",
       "    <tr>\n",
       "      <th>Misc</th>\n",
       "      <td>39.72</td>\n",
       "      <td>17.60</td>\n",
       "      <td>69.69</td>\n",
       "      <td>12.41</td>\n",
       "    </tr>\n",
       "    <tr>\n",
       "      <th>Platform</th>\n",
       "      <td>30.07</td>\n",
       "      <td>12.13</td>\n",
       "      <td>38.28</td>\n",
       "      <td>8.20</td>\n",
       "    </tr>\n",
       "    <tr>\n",
       "      <th>Puzzle</th>\n",
       "      <td>3.56</td>\n",
       "      <td>2.91</td>\n",
       "      <td>2.74</td>\n",
       "      <td>0.64</td>\n",
       "    </tr>\n",
       "    <tr>\n",
       "      <th>Racing</th>\n",
       "      <td>40.58</td>\n",
       "      <td>5.64</td>\n",
       "      <td>31.98</td>\n",
       "      <td>10.11</td>\n",
       "    </tr>\n",
       "    <tr>\n",
       "      <th>Role-Playing</th>\n",
       "      <td>62.30</td>\n",
       "      <td>79.87</td>\n",
       "      <td>83.78</td>\n",
       "      <td>19.68</td>\n",
       "    </tr>\n",
       "    <tr>\n",
       "      <th>Shooter</th>\n",
       "      <td>148.02</td>\n",
       "      <td>11.92</td>\n",
       "      <td>194.43</td>\n",
       "      <td>48.54</td>\n",
       "    </tr>\n",
       "    <tr>\n",
       "      <th>Simulation</th>\n",
       "      <td>19.72</td>\n",
       "      <td>11.64</td>\n",
       "      <td>15.37</td>\n",
       "      <td>3.53</td>\n",
       "    </tr>\n",
       "    <tr>\n",
       "      <th>Sports</th>\n",
       "      <td>88.48</td>\n",
       "      <td>11.09</td>\n",
       "      <td>108.70</td>\n",
       "      <td>28.88</td>\n",
       "    </tr>\n",
       "    <tr>\n",
       "      <th>Strategy</th>\n",
       "      <td>8.02</td>\n",
       "      <td>4.78</td>\n",
       "      <td>7.48</td>\n",
       "      <td>1.88</td>\n",
       "    </tr>\n",
       "  </tbody>\n",
       "</table>\n",
       "</div>"
      ],
      "text/plain": [
       "                  eu     jp      na  other\n",
       "genre                                     \n",
       "Action        199.12  63.62  230.92  64.14\n",
       "Adventure      13.96  12.07   14.76   4.25\n",
       "Fighting       16.24  12.38   31.63   6.65\n",
       "Misc           39.72  17.60   69.69  12.41\n",
       "Platform       30.07  12.13   38.28   8.20\n",
       "Puzzle          3.56   2.91    2.74   0.64\n",
       "Racing         40.58   5.64   31.98  10.11\n",
       "Role-Playing   62.30  79.87   83.78  19.68\n",
       "Shooter       148.02  11.92  194.43  48.54\n",
       "Simulation     19.72  11.64   15.37   3.53\n",
       "Sports         88.48  11.09  108.70  28.88\n",
       "Strategy        8.02   4.78    7.48   1.88"
      ]
     },
     "execution_count": 46,
     "metadata": {},
     "output_type": "execute_result"
    }
   ],
   "source": [
    "region_genre = df_act.pivot_table(index='genre', values=['na_sales', 'eu_sales', 'jp_sales', 'other_sales'], aggfunc=['sum'])\n",
    "region_genre.columns = ['eu', 'jp', 'na', 'other']\n",
    "region_genre"
   ]
  },
  {
   "cell_type": "code",
   "execution_count": 47,
   "metadata": {},
   "outputs": [
    {
     "data": {
      "image/png": "[encoded data removed]",
      "text/plain": [
       "<Figure size 432x288 with 1 Axes>"
      ]
     },
     "metadata": {
      "needs_background": "light"
     },
     "output_type": "display_data"
    },
    {
     "data": {
      "image/png": "[encoded data removed]",
      "text/plain": [
       "<Figure size 432x288 with 1 Axes>"
      ]
     },
     "metadata": {
      "needs_background": "light"
     },
     "output_type": "display_data"
    },
    {
     "data": {
      "image/png": "[encoded data removed]",
      "text/plain": [
       "<Figure size 432x288 with 1 Axes>"
      ]
     },
     "metadata": {
      "needs_background": "light"
     },
     "output_type": "display_data"
    },
    {
     "data": {
      "image/png": "[encoded data removed]",
      "text/plain": [
       "<Figure size 432x288 with 1 Axes>"
      ]
     },
     "metadata": {
      "needs_background": "light"
     },
     "output_type": "display_data"
    }
   ],
   "source": [
    "for i in region_genre.columns:\n",
    "    region_genre.sort_values(i, ascending=False).plot(kind='bar', y=i, subplots=True)\n",
    "    plt.title(\"График популярности жанров в \" + i)\n",
    "    plt.xlabel(\"жанр\")\n",
    "    plt.ylabel(\"продажи, млн.долларов\")\n",
    "    plt.show()"
   ]
  },
  {
   "cell_type": "markdown",
   "metadata": {},
   "source": [
    "В Европе и Северной Америке наблюдается единодушие по любви к жанрам. Самый популярный жанр игр в этих регионах это Action, потом идет Sports, затем Shooter и на четвертом месте Role-Playing. В Японии Action жанр на втором месте и уступает жанру Role-Playing."
   ]
  },
  {
   "cell_type": "markdown",
   "metadata": {},
   "source": [
    "И повторим на рейтинге. Я убрала из рейтинга значение 'no_info', чтобы оно не мешало."
   ]
  },
  {
   "cell_type": "code",
   "execution_count": 48,
   "metadata": {},
   "outputs": [
    {
     "data": {
      "text/html": [
       "<div>\n",
       "<style scoped>\n",
       "    .dataframe tbody tr th:only-of-type {\n",
       "        vertical-align: middle;\n",
       "    }\n",
       "\n",
       "    .dataframe tbody tr th {\n",
       "        vertical-align: top;\n",
       "    }\n",
       "\n",
       "    .dataframe thead th {\n",
       "        text-align: right;\n",
       "    }\n",
       "</style>\n",
       "<table border=\"1\" class=\"dataframe\">\n",
       "  <thead>\n",
       "    <tr style=\"text-align: right;\">\n",
       "      <th></th>\n",
       "      <th>eu</th>\n",
       "      <th>jp</th>\n",
       "      <th>na</th>\n",
       "      <th>other</th>\n",
       "    </tr>\n",
       "    <tr>\n",
       "      <th>rating</th>\n",
       "      <th></th>\n",
       "      <th></th>\n",
       "      <th></th>\n",
       "      <th></th>\n",
       "    </tr>\n",
       "  </thead>\n",
       "  <tbody>\n",
       "    <tr>\n",
       "      <th>E</th>\n",
       "      <td>141.73</td>\n",
       "      <td>36.68</td>\n",
       "      <td>170.17</td>\n",
       "      <td>40.86</td>\n",
       "    </tr>\n",
       "    <tr>\n",
       "      <th>E10+</th>\n",
       "      <td>78.00</td>\n",
       "      <td>11.23</td>\n",
       "      <td>117.72</td>\n",
       "      <td>23.91</td>\n",
       "    </tr>\n",
       "    <tr>\n",
       "      <th>EC</th>\n",
       "      <td>0.00</td>\n",
       "      <td>0.00</td>\n",
       "      <td>0.42</td>\n",
       "      <td>0.03</td>\n",
       "    </tr>\n",
       "    <tr>\n",
       "      <th>M</th>\n",
       "      <td>250.26</td>\n",
       "      <td>26.14</td>\n",
       "      <td>308.45</td>\n",
       "      <td>81.96</td>\n",
       "    </tr>\n",
       "    <tr>\n",
       "      <th>RP</th>\n",
       "      <td>0.03</td>\n",
       "      <td>0.00</td>\n",
       "      <td>0.00</td>\n",
       "      <td>0.01</td>\n",
       "    </tr>\n",
       "    <tr>\n",
       "      <th>T</th>\n",
       "      <td>83.16</td>\n",
       "      <td>33.39</td>\n",
       "      <td>109.31</td>\n",
       "      <td>28.17</td>\n",
       "    </tr>\n",
       "  </tbody>\n",
       "</table>\n",
       "</div>"
      ],
      "text/plain": [
       "            eu     jp      na  other\n",
       "rating                              \n",
       "E       141.73  36.68  170.17  40.86\n",
       "E10+     78.00  11.23  117.72  23.91\n",
       "EC        0.00   0.00    0.42   0.03\n",
       "M       250.26  26.14  308.45  81.96\n",
       "RP        0.03   0.00    0.00   0.01\n",
       "T        83.16  33.39  109.31  28.17"
      ]
     },
     "execution_count": 48,
     "metadata": {},
     "output_type": "execute_result"
    }
   ],
   "source": [
    "region_rating = df_act[df_act['rating'] != 'no_info'].pivot_table(index='rating', values=['na_sales', 'eu_sales', 'jp_sales', 'other_sales'], aggfunc=['sum'])\n",
    "region_rating.columns = ['eu', 'jp', 'na', 'other']\n",
    "region_rating"
   ]
  },
  {
   "cell_type": "code",
   "execution_count": 49,
   "metadata": {},
   "outputs": [
    {
     "data": {
      "image/png": "[encoded data removed]",
      "text/plain": [
       "<Figure size 432x288 with 1 Axes>"
      ]
     },
     "metadata": {},
     "output_type": "display_data"
    },
    {
     "data": {
      "image/png": "[encoded data removed]",
      "text/plain": [
       "<Figure size 432x288 with 1 Axes>"
      ]
     },
     "metadata": {},
     "output_type": "display_data"
    },
    {
     "data": {
      "image/png": "[encoded data removed]",
      "text/plain": [
       "<Figure size 432x288 with 1 Axes>"
      ]
     },
     "metadata": {},
     "output_type": "display_data"
    },
    {
     "data": {
      "image/png": "[encoded data removed]",
      "text/plain": [
       "<Figure size 432x288 with 1 Axes>"
      ]
     },
     "metadata": {},
     "output_type": "display_data"
    }
   ],
   "source": [
    "for i in region_rating.columns:\n",
    "    region_rating.sort_values(i, ascending=False).plot(kind='pie', y=i, subplots=True)\n",
    "    plt.title(\"График популярных игр разных рейтингов ESRB  в \" + i)\n",
    "    plt.xlabel(\"рейтинг ESRB\")\n",
    "    plt.show()"
   ]
  },
  {
   "cell_type": "markdown",
   "metadata": {},
   "source": [
    "Очевидно, что рейтинг вносит ограничение в продажу для более широкой аудитории. Европа и Северная Америка похожи в свом распределении продаж игр по рейтингам. У них превалирует рейтинг М \"Для взросых\", а потом E \"Для всех\"\n",
    "\n",
    "А Япония выделилась тем, что игры для подростков и для всех почти поровну."
   ]
  },
  {
   "cell_type": "markdown",
   "metadata": {},
   "source": [
    "### Вывод"
   ]
  },
  {
   "cell_type": "markdown",
   "metadata": {},
   "source": [
    "Выделим типичного пользователя в каждом регионе:\n",
    "- Северная Америка. Любимая платформа X360 и PS3, играет жанр Action, Sports и Shooter, игры на для всех и для взрослых в основном. \n",
    "- Европа. Любимая платформа PS3 и X360, играет жанр Action, Sports и Shooter, игры на для всех и для взрослых в основном. \n",
    "- Япония. Любимая платформа 3DS и PS3, играет жанр Role-Playing и Action, игры на для всех и для подростков в основном. \n",
    "\n",
    "Я специально поставила рядом с нужными регионами продажи из других стран в целом, чтобы понять на что похож \"остальной мир\" по поведению. Это все условно, но, исходя из графиков, можно предположить, что \"остальной мир\" по предпочтениям похож на Северную Америку и Европу. По платформам только вышел из общей картины, в предпочтениях PS3 и PS2."
   ]
  },
  {
   "cell_type": "markdown",
   "metadata": {},
   "source": [
    "## Шаг 5. Проверка гипотез"
   ]
  },
  {
   "cell_type": "markdown",
   "metadata": {},
   "source": [
    "Гипотеза №1: средние пользовательские рейтинги платформ Xbox One и PC одинаковые\n",
    "\n",
    "H0: средняя оценка пользователей платформы Xbox One равна средней оценке пользователей платформы PC\n",
    "\n",
    "H1:средняя оценка пользователей платформы Xbox One НЕ равна средней оценке пользователей платформы PC"
   ]
  },
  {
   "cell_type": "code",
   "execution_count": 50,
   "metadata": {},
   "outputs": [
    {
     "name": "stdout",
     "output_type": "stream",
     "text": [
      "p-значение по платформам: 5.4825758651208154e-08\n",
      "Отвергаем нулевую гипотезу по платформам\n"
     ]
    }
   ],
   "source": [
    "alpha = .05\n",
    "\n",
    "results_platform = st.ttest_ind(\n",
    "    df.query('platform == \"XB\" & user_score != 0')['user_score'],\n",
    "    df.query('platform == \"PC\" & user_score != 0')['user_score'], equal_var=False)\n",
    "print('p-значение по платформам:', results_platform.pvalue)\n",
    "\n",
    "if (results_platform.pvalue < alpha):\n",
    "    print(\"Отвергаем нулевую гипотезу по платформам\")\n",
    "else:\n",
    "    print(\"Не получилось отвергнуть нулевую гипотезу по платформам\")"
   ]
  },
  {
   "cell_type": "markdown",
   "metadata": {},
   "source": [
    "Гипотеза №2: средние пользовательские рейтинги жанров Action и Sports разные.\n",
    "\n",
    "Н0: средняя оценка пользователей жанра Action равна средней оценке пользователей жанра Sports\n",
    "\n",
    "Н1: средняя оценка пользователей жанра Action НЕ равна средней оценке пользователей жанра Sports"
   ]
  },
  {
   "cell_type": "code",
   "execution_count": 51,
   "metadata": {},
   "outputs": [
    {
     "name": "stdout",
     "output_type": "stream",
     "text": [
      "p-значение по жанрам: 0.07370217419278534\n",
      "Не получилось отвергнуть нулевую гипотезу по жанру\n"
     ]
    }
   ],
   "source": [
    "results_genre = st.ttest_ind(\n",
    "    df.query('genre == \"Action\" & user_score != 0')['user_score'], \n",
    "    df.query('genre == \"Sports\" & user_score != 0')['user_score'], equal_var=False)\n",
    "print('p-значение по жанрам:', results_genre.pvalue)\n",
    "\n",
    "if (results_genre.pvalue < alpha):\n",
    "    print(\"Отвергаем нулевую гипотезу по жанру\")\n",
    "else:\n",
    "    print(\"Не получилось отвергнуть нулевую гипотезу по жанру\")"
   ]
  },
  {
   "cell_type": "markdown",
   "metadata": {},
   "source": [
    "### Вывод"
   ]
  },
  {
   "cell_type": "markdown",
   "metadata": {},
   "source": [
    "Получается, что у нас гипотеза №1 о равенстве средней пользовательской оценке между платформами мы отвергаем, XB не равны PC в средних оценках пользователей. Платформы разные, игры на них выходят тоже разные. Поэтому рассматривать их лучше отдельно и проводить кампании тоже отдельно. Тоже самое можно сказать и про жанры. Гипотеза №2 о равенстве между жанрами не подтверждается, у нас средние оценки пользователей по жанрам Action и Sports равны. Видимо, эти жанры для сходных аудиторий.\n",
    "\n",
    "Я выбрала для проверки гипотез проверку через st.ttest_ind, т.к. у нас сравниваются 2 средних значения друг с другом. Зависимости между ними нет."
   ]
  },
  {
   "cell_type": "markdown",
   "metadata": {},
   "source": [
    "## Шаг 6. Общий вывод"
   ]
  },
  {
   "cell_type": "markdown",
   "metadata": {},
   "source": [
    "Наша цель в этом исследовании понять закономерности успешной игры, чтобы спланировать рекламные кампании на следующий 2017 год.  Анализ проводился с 2011 по 2016 год. За это время было выпущено достаточно большое количество игр, чтобы делать выводы.\n",
    "\n",
    "Мы поняли, что платформы приходят и уходят, поэтому ставку в следующем году лучше сделать на игры, выходящих на более современных платформах, таких как XOne и PS4. Учитывая, что жизненный цикл платформы около 10 лет, то эти платформы еще ждет свой максимум в продажах. Средства в случае с платформами нужно разделить поровну, т.к. средние значения у этих платформ похожи. Если рассматривать географию направления, то часть бюджета от PS4 нужно потратить на кампании для Японии, а другую часть от XOne потратить на сегмент Европы и Северной Америки.\n",
    "\n",
    "По жанрам тоже нужно распределить бюджет. Большую часть поделить между популярными жанрами:  Sports и Shooter. Часть на продвижение Role-Playing нужно распределить больше на японскую аудиторию, т.к. там жанр более востребован. А Action, Shooter  больше на Европу и Северную Америку.\n",
    "\n",
    "Нужно распределеить средства так, чтобы часть была направлена на рейтинг \"E\" по всему миру, часть в Европе и Северной Америке в рейтинг \"M\", а часть в Японии рейтинг \"T\".\n",
    "\n",
    "Зависимость продаж от оценок критиков есть небольшая. Можно было бы выделить небольшую часть бюджета на игры с высокими оценками, но больше в целях экспреримента.\n",
    "\n",
    "На будущее нужно точно будет проследить за появлением новых платформ и развитием жанров.\n",
    "\n",
    "Как пример можно было бы разделить бюджет на 3 части(45,45,10):\n",
    "1. Европа и Северная Америка. Платформа - XOne, жанр -  Action, Sports и Shooter, рейтинг - E + M\n",
    "2. Япония. Платформа - PS4, жанр - Role-Playing, рейтинг - E + T\n",
    "3. Остальной мир. Платформа - PS3(как более новая), жанр -  Action, Sports и Shooter, рейтинг - E + M"
   ]
  }
 ],
 "metadata": {
  "kernelspec": {
   "display_name": "Python 3",
   "language": "python",
   "name": "python3"
  },
  "language_info": {
   "codemirror_mode": {
    "name": "ipython",
    "version": 3
   },
   "file_extension": ".py",
   "mimetype": "text/x-python",
   "name": "python",
   "nbconvert_exporter": "python",
   "pygments_lexer": "ipython3",
   "version": "3.8.3"
  }
 },
 "nbformat": 4,
 "nbformat_minor": 2
}
